{
 "cells": [
  {
   "cell_type": "markdown",
   "metadata": {},
   "source": [
    "## gcs_to_bq_pandas 모듈 예제"
   ]
  },
  {
   "cell_type": "code",
   "execution_count": 1,
   "metadata": {
    "execution": {
     "iopub.execute_input": "2024-09-11T09:01:22.609310Z",
     "iopub.status.busy": "2024-09-11T09:01:22.609004Z",
     "iopub.status.idle": "2024-09-11T09:01:22.611974Z",
     "shell.execute_reply": "2024-09-11T09:01:22.611550Z",
     "shell.execute_reply.started": "2024-09-11T09:01:22.609289Z"
    },
    "tags": []
   },
   "outputs": [],
   "source": [
    "GCS = \"gs://emart-datalake-temp-1y/dfm-test/etl-test.json\"\n",
    "PROJECT = \"smart-ruler-304409\"\n",
    "DATASET = \"temp_1d\"\n",
    "TABLE = \"etl-test-demo\""
   ]
  },
  {
   "cell_type": "markdown",
   "metadata": {
    "execution": {
     "iopub.execute_input": "2024-09-11T09:01:51.818198Z",
     "iopub.status.busy": "2024-09-11T09:01:51.817888Z",
     "iopub.status.idle": "2024-09-11T09:01:51.820695Z",
     "shell.execute_reply": "2024-09-11T09:01:51.820310Z",
     "shell.execute_reply.started": "2024-09-11T09:01:51.818173Z"
    }
   },
   "source": [
    "### GCS 데이터 extract"
   ]
  },
  {
   "cell_type": "code",
   "execution_count": 2,
   "metadata": {
    "execution": {
     "iopub.execute_input": "2024-09-11T09:01:37.022716Z",
     "iopub.status.busy": "2024-09-11T09:01:37.022431Z",
     "iopub.status.idle": "2024-09-11T09:01:37.692442Z",
     "shell.execute_reply": "2024-09-11T09:01:37.691875Z",
     "shell.execute_reply.started": "2024-09-11T09:01:37.022696Z"
    },
    "tags": []
   },
   "outputs": [
    {
     "name": "stdout",
     "output_type": "stream",
     "text": [
      "  mtchgId incntvCd  acrsCo\n",
      "0  992189    I0005       1\n",
      "1  993251    I0005       1\n",
      "2  993566    I0005       1\n",
      "3  994161    I0005       1\n",
      "4  994827    I0005       1\n",
      "5  995012    I0005       1\n",
      "6   99570    I0005       1\n",
      "7  996131    I0005       1\n",
      "8  999204    I0005       1\n",
      "9  999682    I0005       1\n"
     ]
    }
   ],
   "source": [
    "import pandas as pd\n",
    "from google.cloud import storage\n",
    "import json\n",
    "\n",
    "# GCS 클라이언트 생성\n",
    "client = storage.Client(project=\"prd-datalake\")\n",
    "\n",
    "# 버킷에서 JSON 파일 다운로드\n",
    "bucket_name = 'emart-datalake-temp-1y'\n",
    "blob_name = 'dfm-test/etl-demo.json'\n",
    "\n",
    "bucket = client.get_bucket(bucket_name)\n",
    "blob = bucket.blob(blob_name)\n",
    "json_data = blob.download_as_text()\n",
    "\n",
    "# JSON 문자열을 파이썬 객체로 변환\n",
    "data = json.loads(json_data)\n",
    "\n",
    "# 데이터프레임으로 변환\n",
    "df = pd.DataFrame(data)\n",
    "print(df)"
   ]
  },
  {
   "cell_type": "markdown",
   "metadata": {},
   "source": [
    "### pandas를 bq table로 저장"
   ]
  },
  {
   "cell_type": "code",
   "execution_count": null,
   "metadata": {
    "execution": {
     "iopub.execute_input": "2024-09-11T09:02:03.068683Z",
     "iopub.status.busy": "2024-09-11T09:02:03.068393Z"
    },
    "tags": []
   },
   "outputs": [
    {
     "name": "stderr",
     "output_type": "stream",
     "text": [
      "Using Spark's default log4j profile: org/apache/spark/log4j-defaults.properties\n",
      "Setting default log level to \"WARN\".\n",
      "To adjust logging level use sc.setLogLevel(newLevel). For SparkR, use setLogLevel(newLevel).\n",
      "24/09/11 18:02:05 WARN Client: Neither spark.yarn.jars nor spark.yarn.archive is set, falling back to uploading libraries under SPARK_HOME.\n",
      "[Stage 0:>                                                        (0 + 10) / 10]\r"
     ]
    }
   ],
   "source": [
    "# BQ에 저장\n",
    "from pydatafabric.gcp import pandas_to_bq_table\n",
    "\n",
    "pandas_to_bq_table(pd_df=df, dataset=DATASET, table_name=TABLE)"
   ]
  }
 ],
 "metadata": {
  "kernelspec": {
   "display_name": "Python 3 (ipykernel)",
   "language": "python",
   "name": "python3"
  },
  "language_info": {
   "codemirror_mode": {
    "name": "ipython",
    "version": 3
   },
   "file_extension": ".py",
   "mimetype": "text/x-python",
   "name": "python",
   "nbconvert_exporter": "python",
   "pygments_lexer": "ipython3",
   "version": "3.8.17"
  }
 },
 "nbformat": 4,
 "nbformat_minor": 4
}
