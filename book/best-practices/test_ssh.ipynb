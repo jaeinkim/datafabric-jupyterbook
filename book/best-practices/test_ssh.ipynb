{
 "cells": [
  {
   "cell_type": "code",
   "execution_count": null,
   "metadata": {
    "tags": [
     "parameters"
    ]
   },
   "outputs": [],
   "source": [
    "host = '10.40.84.207'\n",
    "passwd = ''\n",
    "\n",
    "cmd = 'ftp_test'\n",
    "env = 'dev'\n",
    "dt = '20200906'"
   ]
  },
  {
   "cell_type": "code",
   "execution_count": null,
   "metadata": {},
   "outputs": [],
   "source": [
    "%env host={host}\n",
    "%env passwd={passwd}\n",
    "%env cmd={cmd}\n",
    "%env env={env}\n",
    "%env dt={dt}\n",
    "\n",
    "!echo $host $passwd $cmd $env $dt"
   ]
  },
  {
   "cell_type": "code",
   "execution_count": null,
   "metadata": {},
   "outputs": [],
   "source": [
    "%%bash -x\n",
    "\n",
    "set -ex\n",
    "\n",
    "export http_proxy=http://10.40.84.229:10203\n",
    "export https_proxy=http://10.40.84.229:10203\n",
    "export HTTPS_PROXY=http://10.40.84.229:10203\n",
    "export HTTP_PROXY=http://10.40.84.229:10203\n",
    "\n",
    "apt-get install -y sshpass\n",
    "\n",
    "sshpass -p $passwd ssh -o StrictHostKeyChecking=no svcapp_su@$host /airflow-data/prd-data/tos-score-2/$cmd.sh $env $dt"
   ]
  }
 ],
 "metadata": {
  "kernelspec": {
   "display_name": "Python 3",
   "language": "python",
   "name": "python3"
  },
  "language_info": {
   "codemirror_mode": {
    "name": "ipython",
    "version": 3
   },
   "file_extension": ".py",
   "mimetype": "text/x-python",
   "name": "python",
   "nbconvert_exporter": "python",
   "pygments_lexer": "ipython3",
   "version": "3.6.10"
  }
 },
 "nbformat": 4,
 "nbformat_minor": 4
}
