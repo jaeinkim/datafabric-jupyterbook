{
 "cells": [
  {
   "cell_type": "markdown",
   "metadata": {},
   "source": [
    "### Azure blob로 데이터 적재"
   ]
  },
  {
   "cell_type": "markdown",
   "metadata": {
    "execution": {
     "iopub.execute_input": "2022-10-04T23:56:41.472773Z",
     "iopub.status.busy": "2022-10-04T23:56:41.472321Z",
     "iopub.status.idle": "2022-10-04T23:56:41.475759Z",
     "shell.execute_reply": "2022-10-04T23:56:41.475244Z",
     "shell.execute_reply.started": "2022-10-04T23:56:41.472703Z"
    },
    "tags": []
   },
   "source": [
    "### Sample 코드\n",
    "\n",
    "```python\n",
    "PROJECT = \"emart-datafabric\"\n",
    "DATASET = \"common_dev\"\n",
    "TABLE = \"dfm_sample_eapp_data\"\n",
    "LIMIT = 30\n",
    "DT = \"2022-08-15\"\n",
    "\n",
    "output='wasbs://athena@athenadata.blob.core.windows.net'\n",
    "output_path = f'{output}/{TABLE}/dt={DT}'\n",
    "output_path\n",
    "\n",
    "from pydatafabric.gcp import get_spark, bq_to_df\n",
    "spark = get_spark()\n",
    "\n",
    "query = f\"select * from {PROJECT}.{DATASET}.{TABLE}\"\n",
    "df = bq_to_df(query, spark_session=spark)\n",
    "\n",
    "df.createOrReplaceTempView(f\"temp_{TABLE}\")\n",
    "query=\"select * from temp_eapp_data\"\n",
    "\n",
    "df = spark.sql(query)\n",
    "df.show(5)\n",
    "\n",
    "result.repartition(1).write.mode('overwrite').parquet(output_path)\n",
    "\n",
    "spark.stop()\n",
    "\n",
    "```"
   ]
  }
 ],
 "metadata": {
  "kernelspec": {
   "display_name": "Python 3 (ipykernel)",
   "language": "python",
   "name": "python3"
  },
  "language_info": {
   "codemirror_mode": {
    "name": "ipython",
    "version": 3
   },
   "file_extension": ".py",
   "mimetype": "text/x-python",
   "name": "python",
   "nbconvert_exporter": "python",
   "pygments_lexer": "ipython3",
   "version": "3.8.13"
  }
 },
 "nbformat": 4,
 "nbformat_minor": 4
}
