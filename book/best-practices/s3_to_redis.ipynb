{
 "cells": [
  {
   "cell_type": "markdown",
   "id": "eddb3662-a69c-4976-963b-397c2d2dd9bd",
   "metadata": {},
   "source": [
    "### AWS S3에서 Parquet파일 read해서 redis에 저장"
   ]
  },
  {
   "cell_type": "code",
   "execution_count": 12,
   "id": "96ec4601-0225-4923-b8b2-3cbe2449a2d0",
   "metadata": {
    "execution": {
     "iopub.execute_input": "2022-10-06T06:08:54.244700Z",
     "iopub.status.busy": "2022-10-06T06:08:54.244330Z",
     "iopub.status.idle": "2022-10-06T06:08:54.247711Z",
     "shell.execute_reply": "2022-10-06T06:08:54.247105Z",
     "shell.execute_reply.started": "2022-10-06T06:08:54.244678Z"
    },
    "tags": []
   },
   "outputs": [],
   "source": [
    "REDIS_INFO = {\n",
    "    \"host\": \"redis-master.redis-farm.svc.cluster.local\",\n",
    "    \"port\": \"6379\",\n",
    "}"
   ]
  },
  {
   "cell_type": "code",
   "execution_count": 13,
   "id": "3b832693-6093-4f3c-8146-82840ac6b126",
   "metadata": {
    "execution": {
     "iopub.execute_input": "2022-10-06T06:08:54.635102Z",
     "iopub.status.busy": "2022-10-06T06:08:54.634791Z",
     "iopub.status.idle": "2022-10-06T06:08:54.672960Z",
     "shell.execute_reply": "2022-10-06T06:08:54.672477Z",
     "shell.execute_reply.started": "2022-10-06T06:08:54.635081Z"
    },
    "tags": []
   },
   "outputs": [],
   "source": [
    "from pydatafabric.vault_utils import get_secrets\n",
    "\n",
    "aws_info = get_secrets(mount_point=\"datafabric\",path=\"aws/credentials/datafabric\")"
   ]
  },
  {
   "cell_type": "code",
   "execution_count": 14,
   "id": "60a95602-8ac4-46a0-b018-76acf22f40c5",
   "metadata": {
    "execution": {
     "iopub.execute_input": "2022-10-06T06:08:55.011620Z",
     "iopub.status.busy": "2022-10-06T06:08:55.011096Z",
     "iopub.status.idle": "2022-10-06T06:08:55.015744Z",
     "shell.execute_reply": "2022-10-06T06:08:55.015245Z",
     "shell.execute_reply.started": "2022-10-06T06:08:55.011582Z"
    },
    "tags": []
   },
   "outputs": [
    {
     "name": "stdout",
     "output_type": "stream",
     "text": [
      "s3a://emart-datafabric-dev/bigquery-db/part-00000-83e64d34-6531-4968-a95b-dce43d4db929-c000.snappy.parquet\n"
     ]
    }
   ],
   "source": [
    "env = \"dev\" \n",
    "bucket = f\"emart-datafabric-{env}\"\n",
    "s3_path = f\"s3a://{bucket}/bigquery-db/part-00000-83e64d34-6531-4968-a95b-dce43d4db929-c000.snappy.parquet\"\n",
    "\n",
    "print(s3_path)"
   ]
  },
  {
   "cell_type": "code",
   "execution_count": 15,
   "id": "3cfd45ed-f648-4010-bbec-acc840039717",
   "metadata": {
    "execution": {
     "iopub.execute_input": "2022-10-06T06:08:55.395070Z",
     "iopub.status.busy": "2022-10-06T06:08:55.394704Z",
     "iopub.status.idle": "2022-10-06T06:08:57.975790Z",
     "shell.execute_reply": "2022-10-06T06:08:57.975181Z",
     "shell.execute_reply.started": "2022-10-06T06:08:55.395045Z"
    },
    "tags": []
   },
   "outputs": [
    {
     "name": "stderr",
     "output_type": "stream",
     "text": [
      "22/10/06 15:08:55 INFO org.apache.spark.SparkEnv: Registering MapOutputTracker\n",
      "22/10/06 15:08:55 INFO org.apache.spark.SparkEnv: Registering BlockManagerMaster\n",
      "22/10/06 15:08:55 INFO org.apache.spark.SparkEnv: Registering BlockManagerMasterHeartbeat\n",
      "22/10/06 15:08:55 INFO org.apache.spark.SparkEnv: Registering OutputCommitCoordinator\n"
     ]
    }
   ],
   "source": [
    "from pydatafabric.gcp import get_spark\n",
    "spark = get_spark()\n",
    "\n",
    "spark.conf.set(\"fs.s3a.fast.upload.buffer\", \"disk\")\n",
    "spark.conf.set(\"fs.s3a.buffer.dir\", \"/tmp\")\n",
    "spark.conf.set(\"fs.s3a.access.key\", aws_info[\"aws_access_key_id\"])\n",
    "spark.conf.set(\"fs.s3a.secret.key\", aws_info[\"aws_secret_access_key\"])"
   ]
  },
  {
   "cell_type": "code",
   "execution_count": 16,
   "id": "baf8e00b-139b-4ea1-9f9a-930516c84bd1",
   "metadata": {
    "execution": {
     "iopub.execute_input": "2022-10-06T06:08:57.977088Z",
     "iopub.status.busy": "2022-10-06T06:08:57.976803Z",
     "iopub.status.idle": "2022-10-06T06:09:01.092592Z",
     "shell.execute_reply": "2022-10-06T06:09:01.091823Z",
     "shell.execute_reply.started": "2022-10-06T06:08:57.977068Z"
    },
    "tags": []
   },
   "outputs": [
    {
     "name": "stderr",
     "output_type": "stream",
     "text": [
      "                                                                                \r"
     ]
    }
   ],
   "source": [
    "df = spark.read.parquet(s3_path)"
   ]
  },
  {
   "cell_type": "code",
   "execution_count": 18,
   "id": "f519ea9b-295f-4357-8bcb-670f570be5a3",
   "metadata": {
    "execution": {
     "iopub.execute_input": "2022-10-06T06:09:08.010196Z",
     "iopub.status.busy": "2022-10-06T06:09:08.009513Z",
     "iopub.status.idle": "2022-10-06T06:09:09.005825Z",
     "shell.execute_reply": "2022-10-06T06:09:09.005259Z",
     "shell.execute_reply.started": "2022-10-06T06:09:08.010167Z"
    },
    "tags": []
   },
   "outputs": [
    {
     "name": "stdout",
     "output_type": "stream",
     "text": [
      "+-------------+--------+----------+------------------------------------+------------------------+----------------------------------+----------+----------------------------------+\n",
      "|      prdt_cd|store_cd|order_date|                            sku_name|           link_sku_name|                           comment|score_text|                          keywords|\n",
      "+-------------+--------+----------+------------------------------------+------------------------+----------------------------------+----------+----------------------------------+\n",
      "|1102150000000|    1018|  20220102|(후레쉬팩)미국냉장초이스척아이로스트|(후레쉬팩)미국산CH갈비살|    기름기가 많아서 \n",
      "먹기 불편했음|       Bad|       기름기 많아서 먹기 불편했음|\n",
      "|1102150000000|    1108|  20220101|(후레쉬팩)미국냉장초이스척아이로스트|(후레쉬팩)미국산CH갈비살| 기름이 너무너무 많아요.버린 기...|       Bad|          기름 많아요 기름 무게 만|\n",
      "|1102150000000|    1108|  20220101|(후레쉬팩)미국냉장초이스척아이로스트|(후레쉬팩)미국산CH갈비살|세일전주에 샀을때 손질해보니 기...|       Bad|   전주 때 손질 기름 근육 고기 ...|\n",
      "|1102150000000|    1048|  20220101|(후레쉬팩)미국냉장초이스척아이로스트|(후레쉬팩)미국산CH갈비살| 고기가 상태가 별로였어요\n",
      "빨리 ...|       Bad|       고기 상태 별로 상한 고기 변|\n",
      "|1102150000000|    1150|  20220101|(후레쉬팩)미국냉장초이스척아이로스트|(후레쉬팩)미국산CH갈비살|   오~~\n",
      "요건 거격이 저렴해도 앞...|       Bad|   오 요건 거격 저렴해도 앞 안 ...|\n",
      "|1102150000000|    1140|  20220101|(후레쉬팩)미국냉장초이스척아이로스트|(후레쉬팩)미국산CH갈비살| 지방 걷어내니 상당히 양이 적습...|       Bad|                    지방 상당히 양|\n",
      "|1102150000000|    1074|  20220101|(후레쉬팩)미국냉장초이스척아이로스트|(후레쉬팩)미국산CH갈비살| 기름이너무 많았어요\n",
      "1팩에서 대...|       Bad|기름 많았어요 팩 대충 때 컵라면 컵|\n",
      "|1102150000000|    1049|  20220101|(후레쉬팩)미국냉장초이스척아이로스트|(후레쉬팩)미국산CH갈비살|기름이 반이상입니다\n",
      "손질하고 인...|       Bad|      기름 이상 입니다 손질 인건비|\n",
      "|1102150000000|    1140|  20220101|(후레쉬팩)미국냉장초이스척아이로스트|(후레쉬팩)미국산CH갈비살| 먼저 맛나게 먹어 재구매했는데 ...|       Bad|            먼저 맛 이번 별루였 요|\n",
      "|1102150000000|    1092|  20220101|(후레쉬팩)미국냉장초이스척아이로스트|(후레쉬팩)미국산CH갈비살|  질기고 기름 넘 많아서 완전 후...|       Bad|  질 기고 기름 많아서 완전 후회...|\n",
      "+-------------+--------+----------+------------------------------------+------------------------+----------------------------------+----------+----------------------------------+\n",
      "only showing top 10 rows\n",
      "\n"
     ]
    },
    {
     "name": "stderr",
     "output_type": "stream",
     "text": [
      "                                                                                \r"
     ]
    }
   ],
   "source": [
    "df.show(10)"
   ]
  },
  {
   "cell_type": "code",
   "execution_count": 19,
   "id": "6bece4a1-6425-4e3c-a28e-acbfb51ace59",
   "metadata": {
    "execution": {
     "iopub.execute_input": "2022-10-06T06:09:11.396541Z",
     "iopub.status.busy": "2022-10-06T06:09:11.396134Z",
     "iopub.status.idle": "2022-10-06T06:09:11.399286Z",
     "shell.execute_reply": "2022-10-06T06:09:11.398720Z",
     "shell.execute_reply.started": "2022-10-06T06:09:11.396514Z"
    },
    "tags": []
   },
   "outputs": [],
   "source": [
    "# if df.count() > 0:\n",
    "#     df.write.format(\"org.apache.spark.sql.redis\").option(\"table\", \"test_eapp_review_keywords\").option(\"key.column\", \"svc_mgmt_num\").save(mode=\"append\")"
   ]
  },
  {
   "cell_type": "code",
   "execution_count": 20,
   "id": "71e04aee-fc71-42a2-aaa9-dedbdcbf4d9a",
   "metadata": {
    "execution": {
     "iopub.execute_input": "2022-10-06T06:09:38.524936Z",
     "iopub.status.busy": "2022-10-06T06:09:38.524553Z",
     "iopub.status.idle": "2022-10-06T06:09:44.466408Z",
     "shell.execute_reply": "2022-10-06T06:09:44.465805Z",
     "shell.execute_reply.started": "2022-10-06T06:09:38.524912Z"
    }
   },
   "outputs": [
    {
     "name": "stderr",
     "output_type": "stream",
     "text": [
      "                                                                                \r"
     ]
    }
   ],
   "source": [
    "import redis\n",
    "import json\n",
    "\n",
    "# 레디스 연결\n",
    "rd = redis.StrictRedis(host=REDIS_INFO[\"host\"], port=REDIS_INFO[\"port\"], db=0)\n",
    "\n",
    "if df.count() > 0:\n",
    "    json_df = df.toJSON().collect()[0]\n",
    "    rd.set(\"test_eapp_review_keywords\", json_df)"
   ]
  },
  {
   "cell_type": "code",
   "execution_count": 21,
   "id": "25b964db-ed74-4f68-9697-1983ecc52154",
   "metadata": {
    "execution": {
     "iopub.execute_input": "2022-10-06T06:09:46.308942Z",
     "iopub.status.busy": "2022-10-06T06:09:46.308107Z",
     "iopub.status.idle": "2022-10-06T06:09:46.312885Z",
     "shell.execute_reply": "2022-10-06T06:09:46.312314Z",
     "shell.execute_reply.started": "2022-10-06T06:09:46.308909Z"
    }
   },
   "outputs": [
    {
     "name": "stdout",
     "output_type": "stream",
     "text": [
      "{'prdt_cd': '1102150000000', 'store_cd': '1018', 'order_date': '20220102', 'sku_name': '(후레쉬팩)미국냉장초이스척아이로스트', 'link_sku_name': '(후레쉬팩)미국산CH갈비살', 'comment': '기름기가 많아서 \\n먹기 불편했음', 'score_text': 'Bad', 'keywords': '기름기 많아서 먹기 불편했음'}\n"
     ]
    }
   ],
   "source": [
    "result = rd.get(\"test_eapp_review_keywords\")\n",
    "result = result.decode('utf-8')\n",
    "result = dict(json.loads(result))\n",
    "\n",
    "print(result)"
   ]
  },
  {
   "cell_type": "code",
   "execution_count": 22,
   "id": "e4dc5439-8f16-4be0-b910-7ba09367e1aa",
   "metadata": {
    "execution": {
     "iopub.execute_input": "2022-10-06T06:10:13.711233Z",
     "iopub.status.busy": "2022-10-06T06:10:13.710817Z",
     "iopub.status.idle": "2022-10-06T06:10:14.535781Z",
     "shell.execute_reply": "2022-10-06T06:10:14.535185Z",
     "shell.execute_reply.started": "2022-10-06T06:10:13.711195Z"
    },
    "tags": []
   },
   "outputs": [],
   "source": [
    "spark.stop()"
   ]
  }
 ],
 "metadata": {
  "kernelspec": {
   "display_name": "Python 3 (ipykernel)",
   "language": "python",
   "name": "python3"
  },
  "language_info": {
   "codemirror_mode": {
    "name": "ipython",
    "version": 3
   },
   "file_extension": ".py",
   "mimetype": "text/x-python",
   "name": "python",
   "nbconvert_exporter": "python",
   "pygments_lexer": "ipython3",
   "version": "3.8.13"
  }
 },
 "nbformat": 4,
 "nbformat_minor": 5
}
