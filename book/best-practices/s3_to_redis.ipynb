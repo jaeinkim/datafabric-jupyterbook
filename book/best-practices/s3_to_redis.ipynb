{
 "cells": [
  {
   "cell_type": "markdown",
   "id": "eddb3662-a69c-4976-963b-397c2d2dd9bd",
   "metadata": {},
   "source": [
    "## AWS S3에서 Parquet파일 read해서 redis에 저장"
   ]
  },
  {
   "cell_type": "code",
   "execution_count": 8,
   "id": "96ec4601-0225-4923-b8b2-3cbe2449a2d0",
   "metadata": {
    "execution": {
     "iopub.execute_input": "2022-10-18T07:32:09.806583Z",
     "iopub.status.busy": "2022-10-18T07:32:09.806164Z",
     "iopub.status.idle": "2022-10-18T07:32:09.809633Z",
     "shell.execute_reply": "2022-10-18T07:32:09.809103Z",
     "shell.execute_reply.started": "2022-10-18T07:32:09.806560Z"
    },
    "tags": []
   },
   "outputs": [],
   "source": [
    "REDIS_INFO = {\n",
    "    \"host\": \"redis-master.redis-farm.svc.cluster.local\",\n",
    "    \"port\": \"6379\",\n",
    "}"
   ]
  },
  {
   "cell_type": "code",
   "execution_count": 9,
   "id": "3b832693-6093-4f3c-8146-82840ac6b126",
   "metadata": {
    "execution": {
     "iopub.execute_input": "2022-10-18T07:32:10.226758Z",
     "iopub.status.busy": "2022-10-18T07:32:10.226379Z",
     "iopub.status.idle": "2022-10-18T07:32:10.258064Z",
     "shell.execute_reply": "2022-10-18T07:32:10.257530Z",
     "shell.execute_reply.started": "2022-10-18T07:32:10.226737Z"
    },
    "tags": []
   },
   "outputs": [],
   "source": [
    "from pydatafabric.vault_utils import get_secrets\n",
    "\n",
    "aws_info = get_secrets(mount_point=\"datafabric\",path=\"aws/credentials/datafabric\")"
   ]
  },
  {
   "cell_type": "code",
   "execution_count": 10,
   "id": "60a95602-8ac4-46a0-b018-76acf22f40c5",
   "metadata": {
    "execution": {
     "iopub.execute_input": "2022-10-18T07:32:10.728447Z",
     "iopub.status.busy": "2022-10-18T07:32:10.728055Z",
     "iopub.status.idle": "2022-10-18T07:32:10.731868Z",
     "shell.execute_reply": "2022-10-18T07:32:10.731375Z",
     "shell.execute_reply.started": "2022-10-18T07:32:10.728425Z"
    },
    "tags": []
   },
   "outputs": [
    {
     "name": "stdout",
     "output_type": "stream",
     "text": [
      "s3a://emart-datafabric-dev/bigquery-db/redis/test.snappy.parquet\n"
     ]
    }
   ],
   "source": [
    "env = \"dev\" \n",
    "bucket = f\"emart-datafabric-{env}\"\n",
    "s3_path = f\"s3a://{bucket}/bigquery-db/redis/test.snappy.parquet\"\n",
    "\n",
    "print(s3_path)"
   ]
  },
  {
   "cell_type": "code",
   "execution_count": 11,
   "id": "3cfd45ed-f648-4010-bbec-acc840039717",
   "metadata": {
    "execution": {
     "iopub.execute_input": "2022-10-18T07:32:11.282162Z",
     "iopub.status.busy": "2022-10-18T07:32:11.281771Z",
     "iopub.status.idle": "2022-10-18T07:32:11.320496Z",
     "shell.execute_reply": "2022-10-18T07:32:11.319936Z",
     "shell.execute_reply.started": "2022-10-18T07:32:11.282140Z"
    },
    "tags": []
   },
   "outputs": [],
   "source": [
    "from pydatafabric.gcp import get_spark\n",
    "spark = get_spark()\n",
    "\n",
    "spark.conf.set(\"fs.s3a.fast.upload.buffer\", \"disk\")\n",
    "spark.conf.set(\"fs.s3a.buffer.dir\", \"/tmp\")\n",
    "spark.conf.set(\"fs.s3a.access.key\", aws_info[\"aws_access_key_id\"])\n",
    "spark.conf.set(\"fs.s3a.secret.key\", aws_info[\"aws_secret_access_key\"])"
   ]
  },
  {
   "cell_type": "code",
   "execution_count": 12,
   "id": "baf8e00b-139b-4ea1-9f9a-930516c84bd1",
   "metadata": {
    "execution": {
     "iopub.execute_input": "2022-10-18T07:32:14.311933Z",
     "iopub.status.busy": "2022-10-18T07:32:14.311539Z",
     "iopub.status.idle": "2022-10-18T07:32:18.356403Z",
     "shell.execute_reply": "2022-10-18T07:32:18.355795Z",
     "shell.execute_reply.started": "2022-10-18T07:32:14.311908Z"
    },
    "tags": []
   },
   "outputs": [
    {
     "name": "stderr",
     "output_type": "stream",
     "text": [
      "                                                                                \r"
     ]
    }
   ],
   "source": [
    "df = spark.read.parquet(s3_path)"
   ]
  },
  {
   "cell_type": "code",
   "execution_count": 13,
   "id": "f519ea9b-295f-4357-8bcb-670f570be5a3",
   "metadata": {
    "execution": {
     "iopub.execute_input": "2022-10-18T07:32:19.574287Z",
     "iopub.status.busy": "2022-10-18T07:32:19.573893Z",
     "iopub.status.idle": "2022-10-18T07:32:21.902110Z",
     "shell.execute_reply": "2022-10-18T07:32:21.901251Z",
     "shell.execute_reply.started": "2022-10-18T07:32:19.574266Z"
    },
    "tags": []
   },
   "outputs": [
    {
     "name": "stderr",
     "output_type": "stream",
     "text": [
      "                                                                                \r"
     ]
    },
    {
     "name": "stdout",
     "output_type": "stream",
     "text": [
      "+-------------+--------+----------+------------------------------------+------------------------+----------------------------------+----------+----------------------------------+\n",
      "|      prdt_cd|store_cd|order_date|                            sku_name|           link_sku_name|                           comment|score_text|                          keywords|\n",
      "+-------------+--------+----------+------------------------------------+------------------------+----------------------------------+----------+----------------------------------+\n",
      "|1102150000000|    1018|  20220102|(후레쉬팩)미국냉장초이스척아이로스트|(후레쉬팩)미국산CH갈비살|    기름기가 많아서 \n",
      "먹기 불편했음|       Bad|       기름기 많아서 먹기 불편했음|\n",
      "|1102150000000|    1108|  20220101|(후레쉬팩)미국냉장초이스척아이로스트|(후레쉬팩)미국산CH갈비살| 기름이 너무너무 많아요.버린 기...|       Bad|          기름 많아요 기름 무게 만|\n",
      "|1102150000000|    1108|  20220101|(후레쉬팩)미국냉장초이스척아이로스트|(후레쉬팩)미국산CH갈비살|세일전주에 샀을때 손질해보니 기...|       Bad|   전주 때 손질 기름 근육 고기 ...|\n",
      "|1102150000000|    1048|  20220101|(후레쉬팩)미국냉장초이스척아이로스트|(후레쉬팩)미국산CH갈비살| 고기가 상태가 별로였어요\n",
      "빨리 ...|       Bad|       고기 상태 별로 상한 고기 변|\n",
      "|1102150000000|    1150|  20220101|(후레쉬팩)미국냉장초이스척아이로스트|(후레쉬팩)미국산CH갈비살|   오~~\n",
      "요건 거격이 저렴해도 앞...|       Bad|   오 요건 거격 저렴해도 앞 안 ...|\n",
      "|1102150000000|    1140|  20220101|(후레쉬팩)미국냉장초이스척아이로스트|(후레쉬팩)미국산CH갈비살| 지방 걷어내니 상당히 양이 적습...|       Bad|                    지방 상당히 양|\n",
      "|1102150000000|    1074|  20220101|(후레쉬팩)미국냉장초이스척아이로스트|(후레쉬팩)미국산CH갈비살| 기름이너무 많았어요\n",
      "1팩에서 대...|       Bad|기름 많았어요 팩 대충 때 컵라면 컵|\n",
      "|1102150000000|    1049|  20220101|(후레쉬팩)미국냉장초이스척아이로스트|(후레쉬팩)미국산CH갈비살|기름이 반이상입니다\n",
      "손질하고 인...|       Bad|      기름 이상 입니다 손질 인건비|\n",
      "|1102150000000|    1140|  20220101|(후레쉬팩)미국냉장초이스척아이로스트|(후레쉬팩)미국산CH갈비살| 먼저 맛나게 먹어 재구매했는데 ...|       Bad|            먼저 맛 이번 별루였 요|\n",
      "|1102150000000|    1092|  20220101|(후레쉬팩)미국냉장초이스척아이로스트|(후레쉬팩)미국산CH갈비살|  질기고 기름 넘 많아서 완전 후...|       Bad|  질 기고 기름 많아서 완전 후회...|\n",
      "+-------------+--------+----------+------------------------------------+------------------------+----------------------------------+----------+----------------------------------+\n",
      "only showing top 10 rows\n",
      "\n"
     ]
    },
    {
     "name": "stderr",
     "output_type": "stream",
     "text": [
      "                                                                                \r"
     ]
    }
   ],
   "source": [
    "df.show(10)"
   ]
  },
  {
   "cell_type": "code",
   "execution_count": 14,
   "id": "71e04aee-fc71-42a2-aaa9-dedbdcbf4d9a",
   "metadata": {
    "execution": {
     "iopub.execute_input": "2022-10-18T07:32:27.941062Z",
     "iopub.status.busy": "2022-10-18T07:32:27.940677Z",
     "iopub.status.idle": "2022-10-18T07:32:33.906149Z",
     "shell.execute_reply": "2022-10-18T07:32:33.905564Z",
     "shell.execute_reply.started": "2022-10-18T07:32:27.941037Z"
    },
    "tags": []
   },
   "outputs": [
    {
     "name": "stderr",
     "output_type": "stream",
     "text": [
      "                                                                                \r"
     ]
    }
   ],
   "source": [
    "import redis\n",
    "import json\n",
    "\n",
    "# 레디스 연결\n",
    "rd = redis.StrictRedis(host=REDIS_INFO[\"host\"], port=REDIS_INFO[\"port\"], db=0)\n",
    "\n",
    "if df.count() > 0:\n",
    "    json_df = df.toJSON().collect()[0]\n",
    "    rd.set(\"test_eapp_review_keywords\", json_df)"
   ]
  },
  {
   "cell_type": "code",
   "execution_count": 15,
   "id": "25b964db-ed74-4f68-9697-1983ecc52154",
   "metadata": {
    "execution": {
     "iopub.execute_input": "2022-10-18T07:32:36.384788Z",
     "iopub.status.busy": "2022-10-18T07:32:36.384215Z",
     "iopub.status.idle": "2022-10-18T07:32:36.388588Z",
     "shell.execute_reply": "2022-10-18T07:32:36.388073Z",
     "shell.execute_reply.started": "2022-10-18T07:32:36.384761Z"
    },
    "tags": []
   },
   "outputs": [
    {
     "name": "stdout",
     "output_type": "stream",
     "text": [
      "{'prdt_cd': '1102150000000', 'store_cd': '1018', 'order_date': '20220102', 'sku_name': '(후레쉬팩)미국냉장초이스척아이로스트', 'link_sku_name': '(후레쉬팩)미국산CH갈비살', 'comment': '기름기가 많아서 \\n먹기 불편했음', 'score_text': 'Bad', 'keywords': '기름기 많아서 먹기 불편했음'}\n"
     ]
    }
   ],
   "source": [
    "result = rd.get(\"test_eapp_review_keywords\")\n",
    "result = result.decode('utf-8')\n",
    "result = dict(json.loads(result))\n",
    "\n",
    "print(result)"
   ]
  },
  {
   "cell_type": "code",
   "execution_count": 16,
   "id": "e4dc5439-8f16-4be0-b910-7ba09367e1aa",
   "metadata": {
    "execution": {
     "iopub.execute_input": "2022-10-18T07:32:38.591750Z",
     "iopub.status.busy": "2022-10-18T07:32:38.591358Z",
     "iopub.status.idle": "2022-10-18T07:32:39.122995Z",
     "shell.execute_reply": "2022-10-18T07:32:39.122405Z",
     "shell.execute_reply.started": "2022-10-18T07:32:38.591728Z"
    },
    "tags": []
   },
   "outputs": [],
   "source": [
    "spark.stop()"
   ]
  }
 ],
 "metadata": {
  "kernelspec": {
   "display_name": "Python 3 (ipykernel)",
   "language": "python",
   "name": "python3"
  },
  "language_info": {
   "codemirror_mode": {
    "name": "ipython",
    "version": 3
   },
   "file_extension": ".py",
   "mimetype": "text/x-python",
   "name": "python",
   "nbconvert_exporter": "python",
   "pygments_lexer": "ipython3",
   "version": "3.8.13"
  }
 },
 "nbformat": 4,
 "nbformat_minor": 5
}
