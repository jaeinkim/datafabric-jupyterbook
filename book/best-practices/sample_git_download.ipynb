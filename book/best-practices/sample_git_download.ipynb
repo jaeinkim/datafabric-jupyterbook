{
 "cells": [
  {
   "cell_type": "code",
   "execution_count": 1,
   "id": "af735100-7cc2-4b12-9ff2-a9ccf596402a",
   "metadata": {
    "execution": {
     "iopub.execute_input": "2022-10-04T23:58:49.615789Z",
     "iopub.status.busy": "2022-10-04T23:58:49.615350Z",
     "iopub.status.idle": "2022-10-04T23:58:49.742895Z",
     "shell.execute_reply": "2022-10-04T23:58:49.742384Z",
     "shell.execute_reply.started": "2022-10-04T23:58:49.615709Z"
    },
    "pycharm": {
     "name": "#%%\n"
    },
    "tags": []
   },
   "outputs": [],
   "source": [
    "from pydatafabric.vault_utils import get_secrets\n",
    "from pydatafabric.github_utils import GithubUtil"
   ]
  },
  {
   "cell_type": "code",
   "execution_count": 2,
   "id": "d4689212-af7a-466b-ace2-650db509ec5f",
   "metadata": {
    "execution": {
     "iopub.execute_input": "2022-10-04T23:59:12.460172Z",
     "iopub.status.busy": "2022-10-04T23:59:12.459509Z",
     "iopub.status.idle": "2022-10-04T23:59:13.804992Z",
     "shell.execute_reply": "2022-10-04T23:59:13.804463Z",
     "shell.execute_reply.started": "2022-10-04T23:59:12.460145Z"
    },
    "pycharm": {
     "name": "#%%\n"
    },
    "tags": []
   },
   "outputs": [],
   "source": [
    "git_info = get_secrets(mount_point=\"datafabric\", path=\"github/emartdt\")\n",
    "token = git_info[\"token\"]\n",
    "g = GithubUtil(token)\n",
    "fuction_code = g.download_from_git(f'https://github.com/emartdt/dataplay-notebook/blob/main/jerry/test.py')\n",
    "exec(fuction_code)"
   ]
  },
  {
   "cell_type": "code",
   "execution_count": 3,
   "id": "35604586-8807-4b94-9438-19da721c7e79",
   "metadata": {
    "execution": {
     "iopub.execute_input": "2022-10-04T23:59:15.559985Z",
     "iopub.status.busy": "2022-10-04T23:59:15.559572Z",
     "iopub.status.idle": "2022-10-04T23:59:15.567285Z",
     "shell.execute_reply": "2022-10-04T23:59:15.566822Z",
     "shell.execute_reply.started": "2022-10-04T23:59:15.559959Z"
    },
    "pycharm": {
     "name": "#%%\n"
    },
    "tags": []
   },
   "outputs": [
    {
     "data": {
      "text/plain": [
       "40"
      ]
     },
     "execution_count": 3,
     "metadata": {},
     "output_type": "execute_result"
    }
   ],
   "source": [
    "product_some(5,8)"
   ]
  }
 ],
 "metadata": {
  "kernelspec": {
   "display_name": "Python 3 (ipykernel)",
   "language": "python",
   "name": "python3"
  },
  "language_info": {
   "codemirror_mode": {
    "name": "ipython",
    "version": 3
   },
   "file_extension": ".py",
   "mimetype": "text/x-python",
   "name": "python",
   "nbconvert_exporter": "python",
   "pygments_lexer": "ipython3",
   "version": "3.8.13"
  }
 },
 "nbformat": 4,
 "nbformat_minor": 5
}
