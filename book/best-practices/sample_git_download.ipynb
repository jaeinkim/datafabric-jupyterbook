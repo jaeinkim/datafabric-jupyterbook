{
 "cells": [
  {
   "cell_type": "code",
   "execution_count": 1,
   "id": "af735100-7cc2-4b12-9ff2-a9ccf596402a",
   "metadata": {
    "execution": {
     "iopub.execute_input": "2022-04-25T07:43:22.128086Z",
     "iopub.status.busy": "2022-04-25T07:43:22.127755Z",
     "iopub.status.idle": "2022-04-25T07:43:22.309884Z",
     "shell.execute_reply": "2022-04-25T07:43:22.309450Z",
     "shell.execute_reply.started": "2022-04-25T07:43:22.128019Z"
    }
   },
   "outputs": [],
   "source": [
    "from pydatafabric.vault_utils import get_secrets\n",
    "from pydatafabric.github_utils import GithubUtil"
   ]
  },
  {
   "cell_type": "code",
   "execution_count": 4,
   "id": "d4689212-af7a-466b-ace2-650db509ec5f",
   "metadata": {
    "execution": {
     "iopub.execute_input": "2022-04-25T07:47:24.134839Z",
     "iopub.status.busy": "2022-04-25T07:47:24.134431Z",
     "iopub.status.idle": "2022-04-25T07:47:25.348385Z",
     "shell.execute_reply": "2022-04-25T07:47:25.347947Z",
     "shell.execute_reply.started": "2022-04-25T07:47:24.134816Z"
    }
   },
   "outputs": [],
   "source": [
    "git_info = get_secrets(mount_point=\"datafabric\", path=\"github/emartdt\")\n",
    "token = git_info[\"token\"]\n",
    "g = GithubUtil(token)\n",
    "fuction_code = g.download_from_git(f'https://github.com/emartdt/dataplay-notebook/blob/main/jerry/test.py')\n",
    "exec(fuction_code)"
   ]
  },
  {
   "cell_type": "code",
   "execution_count": 5,
   "id": "35604586-8807-4b94-9438-19da721c7e79",
   "metadata": {
    "execution": {
     "iopub.execute_input": "2022-04-25T07:47:54.072827Z",
     "iopub.status.busy": "2022-04-25T07:47:54.072542Z",
     "iopub.status.idle": "2022-04-25T07:47:54.076263Z",
     "shell.execute_reply": "2022-04-25T07:47:54.075873Z",
     "shell.execute_reply.started": "2022-04-25T07:47:54.072804Z"
    }
   },
   "outputs": [
    {
     "data": {
      "text/plain": [
       "40"
      ]
     },
     "execution_count": 5,
     "metadata": {},
     "output_type": "execute_result"
    }
   ],
   "source": [
    "product_some(5,8)"
   ]
  },
  {
   "cell_type": "code",
   "execution_count": null,
   "id": "78f4b64d-1e3e-4809-a12f-016bfa561cc2",
   "metadata": {},
   "outputs": [],
   "source": []
  }
 ],
 "metadata": {
  "kernelspec": {
   "display_name": "Python 3 (ipykernel)",
   "language": "python",
   "name": "python3"
  },
  "language_info": {
   "codemirror_mode": {
    "name": "ipython",
    "version": 3
   },
   "file_extension": ".py",
   "mimetype": "text/x-python",
   "name": "python",
   "nbconvert_exporter": "python",
   "pygments_lexer": "ipython3",
   "version": "3.8.13"
  }
 },
 "nbformat": 4,
 "nbformat_minor": 5
}
