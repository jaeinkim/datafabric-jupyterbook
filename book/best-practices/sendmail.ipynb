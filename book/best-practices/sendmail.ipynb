{
 "cells": [
  {
   "cell_type": "code",
   "execution_count": 1,
   "id": "8bbb00be-4caa-482c-8361-89caec4db52e",
   "metadata": {
    "execution": {
     "iopub.execute_input": "2022-04-25T07:51:52.091737Z",
     "iopub.status.busy": "2022-04-25T07:51:52.091393Z",
     "iopub.status.idle": "2022-04-25T07:51:52.095509Z",
     "shell.execute_reply": "2022-04-25T07:51:52.095105Z",
     "shell.execute_reply.started": "2022-04-25T07:51:52.091665Z"
    }
   },
   "outputs": [],
   "source": [
    "content = \"\"\"\n",
    "테스트 메일 입니다. \n",
    "\"\"\""
   ]
  },
  {
   "cell_type": "code",
   "execution_count": 3,
   "id": "3bf4eb91-1643-43aa-86a1-bd229f8efb1f",
   "metadata": {
    "execution": {
     "iopub.execute_input": "2022-04-25T07:52:58.462684Z",
     "iopub.status.busy": "2022-04-25T07:52:58.462395Z",
     "iopub.status.idle": "2022-04-25T07:52:58.697619Z",
     "shell.execute_reply": "2022-04-25T07:52:58.697059Z",
     "shell.execute_reply.started": "2022-04-25T07:52:58.462656Z"
    },
    "tags": []
   },
   "outputs": [
    {
     "name": "stdout",
     "output_type": "stream",
     "text": [
      "{}\n"
     ]
    }
   ],
   "source": [
    "from pydatafabric.ye import send_email\n",
    "\n",
    "# 파일 미 첨부의 경우\n",
    "res = send_email(subject=\"테스트 메일\", \n",
    "    text=content, \n",
    "    send_from='jerryjung@emart.com', \n",
    "    send_to=\"aiweaver@emart.com,jerryjung@emart.com\")\n",
    "\n",
    "print(res)"
   ]
  },
  {
   "cell_type": "code",
   "execution_count": 5,
   "id": "6159e079-7ab9-43cb-8204-5d7aef84cdb9",
   "metadata": {
    "execution": {
     "iopub.execute_input": "2022-04-25T07:56:33.301756Z",
     "iopub.status.busy": "2022-04-25T07:56:33.301483Z",
     "iopub.status.idle": "2022-04-25T07:56:33.528195Z",
     "shell.execute_reply": "2022-04-25T07:56:33.527764Z",
     "shell.execute_reply.started": "2022-04-25T07:56:33.301735Z"
    },
    "tags": []
   },
   "outputs": [
    {
     "name": "stdout",
     "output_type": "stream",
     "text": [
      "{}\n"
     ]
    }
   ],
   "source": [
    "# 파일 첨부의 경우\n",
    "file = \"../logo.png\"\n",
    "\n",
    "with open(file, 'rb') as fd:\n",
    "    res = send_email(subject=\"테스트 메일 첨부\", \n",
    "        text=content, \n",
    "        send_from='jerryjung@emart.com', \n",
    "        send_to=\"aiweaver@emart.com,jerryjung@emart.com\", \n",
    "        attachment=fd.read())\n",
    "    print(res)"
   ]
  },
  {
   "cell_type": "code",
   "execution_count": null,
   "id": "a5966006-5b26-4ebf-91d8-f1dd271b50d5",
   "metadata": {},
   "outputs": [],
   "source": []
  }
 ],
 "metadata": {
  "kernelspec": {
   "display_name": "Python 3 (ipykernel)",
   "language": "python",
   "name": "python3"
  },
  "language_info": {
   "codemirror_mode": {
    "name": "ipython",
    "version": 3
   },
   "file_extension": ".py",
   "mimetype": "text/x-python",
   "name": "python",
   "nbconvert_exporter": "python",
   "pygments_lexer": "ipython3",
   "version": "3.8.13"
  }
 },
 "nbformat": 4,
 "nbformat_minor": 5
}
