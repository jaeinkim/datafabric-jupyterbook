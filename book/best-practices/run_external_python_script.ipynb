{
 "cells": [
  {
   "cell_type": "code",
   "execution_count": null,
   "id": "e80daa38-df4a-4e2e-b586-e65cad0ffbfe",
   "metadata": {
    "tags": [
     "parameters"
    ],
    "pycharm": {
     "name": "#%%\n"
    }
   },
   "outputs": [],
   "source": [
    "input_path = \"s3a://mkt-insight-datahub/mail/cdis.csv\"\n",
    "send_from = \"aiweaver@emart.com\"\n",
    "send_to = \"aiweaver@emart.com\"\n",
    "mail_subject = \"Default subject\"\n",
    "mail_content = \"Default content\""
   ]
  },
  {
   "cell_type": "code",
   "execution_count": null,
   "id": "5939461c-fb36-439e-bf2e-6851625941c4",
   "metadata": {
    "tags": [],
    "pycharm": {
     "name": "#%%\n"
    }
   },
   "outputs": [],
   "source": [
    "from pydatafabric.ye import get_spark\n",
    "\n",
    "\n",
    "spark = get_spark()\n",
    "\n",
    "df = spark.read.csv(input_path)\n",
    "df.count()"
   ]
  },
  {
   "cell_type": "code",
   "execution_count": null,
   "id": "389e51df-03af-4ab7-b153-42667ed7ab20",
   "metadata": {
    "tags": [],
    "pycharm": {
     "name": "#%%\n"
    }
   },
   "outputs": [],
   "source": [
    "from pydatafabric.vault_utils import get_secrets\n",
    "from pydatafabric.github_utils import GithubUtil\n",
    "\n",
    "\n",
    "secrets = get_secrets('github/sktaiflow')\n",
    "token = secrets['token']\n",
    "proxies = {\n",
    "    'http': secrets['proxy'],\n",
    "    'https': secrets['proxy'],\n",
    "}\n",
    "g = GithubUtil(token, proxies=proxies)\n",
    "fuction_code = g.download_from_git(f'https://github.com/sktaiflow/crypto-function/blob/master/module/crypto.py')\n",
    "exec(fuction_code)"
   ]
  },
  {
   "cell_type": "code",
   "execution_count": null,
   "id": "1afc6cc6-10e2-49a3-af4a-91868af96729",
   "metadata": {
    "tags": [],
    "pycharm": {
     "name": "#%%\n"
    }
   },
   "outputs": [],
   "source": [
    "result = datafabric_crypto(ss=spark, df=df, before=\"lake_hash\", after=\"raw\", key_column=\"_c0\").collect()\n",
    "result_list = [row[\"_c0\"] for row in result]\n",
    "len(result_list)"
   ]
  },
  {
   "cell_type": "code",
   "execution_count": null,
   "id": "dff417ae-8600-4e4d-b544-01b0de669e0d",
   "metadata": {
    "tags": [],
    "pycharm": {
     "name": "#%%\n"
    }
   },
   "outputs": [],
   "source": [
    "def send_email(subject, text, send_from, send_to, attachment, filename):\n",
    "    \"\"\"\n",
    "    :param str attachment: Attachment to send as .txt file with email\n",
    "    \"\"\"\n",
    "    import smtplib\n",
    "    from email.mime.application import MIMEApplication\n",
    "    from email.mime.multipart import MIMEMultipart\n",
    "    from email.mime.text import MIMEText\n",
    "    from email.utils import formatdate\n",
    "    from skt.vault_utils import get_secrets\n",
    "\n",
    "    c = get_secrets(path=\"mail\")\n",
    "    host, port = c[\"smtp_host\"], c[\"smtp_port\"]\n",
    "    msg = MIMEMultipart()\n",
    "    msg[\"From\"] = send_from\n",
    "    msg[\"To\"] = send_to\n",
    "    msg[\"Date\"] = formatdate(localtime=True)\n",
    "    msg[\"Subject\"] = subject\n",
    "    msg.attach(MIMEText(text))\n",
    "\n",
    "    if attachment:\n",
    "        part = MIMEApplication(attachment, NAME=filename)\n",
    "        part.add_header(\"Content-Disposition\", f\"attachment; filename={filename}\")\n",
    "        msg.attach(part)\n",
    "\n",
    "    with smtplib.SMTP(host, port) as smtp:\n",
    "        return smtp.sendmail(send_from, send_to.split(\",\"), msg.as_string())\n",
    "\n",
    "att = \"\\n\".join(result_list)\n",
    "filename = input_path.split(\"/\")[-1]\n",
    "send_email(mail_subject, mail_content, send_from, send_to, attachment=att, filename=filename)"
   ]
  },
  {
   "cell_type": "code",
   "execution_count": null,
   "id": "a6b9237d-af75-41db-a913-cf4e80a4424a",
   "metadata": {
    "tags": [],
    "pycharm": {
     "name": "#%%\n"
    }
   },
   "outputs": [],
   "source": [
    "spark.stop()"
   ]
  }
 ],
 "metadata": {
  "kernelspec": {
   "display_name": "Python 3 (ipykernel)",
   "language": "python",
   "name": "python3"
  },
  "language_info": {
   "codemirror_mode": {
    "name": "ipython",
    "version": 3
   },
   "file_extension": ".py",
   "mimetype": "text/x-python",
   "name": "python",
   "nbconvert_exporter": "python",
   "pygments_lexer": "ipython3",
   "version": "3.8.12"
  }
 },
 "nbformat": 4,
 "nbformat_minor": 5
}