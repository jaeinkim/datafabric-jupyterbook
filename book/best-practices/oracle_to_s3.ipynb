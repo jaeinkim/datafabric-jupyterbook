{
 "cells": [
  {
   "cell_type": "code",
   "execution_count": 1,
   "metadata": {
    "execution": {
     "iopub.execute_input": "2022-09-30T03:51:29.945485Z",
     "iopub.status.busy": "2022-09-30T03:51:29.945043Z",
     "iopub.status.idle": "2022-09-30T03:51:29.959966Z",
     "shell.execute_reply": "2022-09-30T03:51:29.959475Z",
     "shell.execute_reply.started": "2022-09-30T03:51:29.945416Z"
    },
    "tags": []
   },
   "outputs": [],
   "source": [
    "%load_ext autoreload\n",
    "%autoreload 2"
   ]
  },
  {
   "cell_type": "code",
   "execution_count": 2,
   "metadata": {
    "execution": {
     "iopub.execute_input": "2022-09-30T03:51:36.724528Z",
     "iopub.status.busy": "2022-09-30T03:51:36.724149Z",
     "iopub.status.idle": "2022-09-30T03:51:36.846169Z",
     "shell.execute_reply": "2022-09-30T03:51:36.845648Z",
     "shell.execute_reply.started": "2022-09-30T03:51:36.724502Z"
    },
    "tags": []
   },
   "outputs": [],
   "source": [
    "from pydatafabric.vault_utils import get_secrets\n",
    "\n",
    "oracle_info = get_secrets(mount_point=\"datafabric\",path=\"oracle/datafabric/oracle-db\")\n",
    "aws_info = get_secrets(mount_point=\"datafabric\",path=\"aws/credentials/datafabric\")"
   ]
  },
  {
   "cell_type": "code",
   "execution_count": 3,
   "metadata": {
    "execution": {
     "iopub.execute_input": "2022-09-30T03:51:38.438525Z",
     "iopub.status.busy": "2022-09-30T03:51:38.438154Z",
     "iopub.status.idle": "2022-09-30T03:51:47.054595Z",
     "shell.execute_reply": "2022-09-30T03:51:47.053948Z",
     "shell.execute_reply.started": "2022-09-30T03:51:38.438499Z"
    },
    "tags": []
   },
   "outputs": [
    {
     "name": "stderr",
     "output_type": "stream",
     "text": [
      "Setting default log level to \"WARN\".\n",
      "To adjust logging level use sc.setLogLevel(newLevel). For SparkR, use setLogLevel(newLevel).\n",
      "22/09/30 12:51:42 INFO org.apache.spark.SparkEnv: Registering MapOutputTracker\n",
      "22/09/30 12:51:42 INFO org.apache.spark.SparkEnv: Registering BlockManagerMaster\n",
      "22/09/30 12:51:42 INFO org.apache.spark.SparkEnv: Registering BlockManagerMasterHeartbeat\n",
      "22/09/30 12:51:42 INFO org.apache.spark.SparkEnv: Registering OutputCommitCoordinator\n"
     ]
    }
   ],
   "source": [
    "from pydatafabric.ye import get_spark\n",
    "\n",
    "spark = get_spark(extra_jars=\"gs://emart-datafabric-resources/jars/ojdbc8.jar\")"
   ]
  },
  {
   "cell_type": "code",
   "execution_count": 4,
   "metadata": {
    "execution": {
     "iopub.execute_input": "2022-09-30T03:51:59.786015Z",
     "iopub.status.busy": "2022-09-30T03:51:59.785474Z",
     "iopub.status.idle": "2022-09-30T03:51:59.804424Z",
     "shell.execute_reply": "2022-09-30T03:51:59.803932Z",
     "shell.execute_reply.started": "2022-09-30T03:51:59.785987Z"
    },
    "tags": []
   },
   "outputs": [],
   "source": [
    "spark.conf.set(\"fs.s3a.fast.upload.buffer\", \"disk\")\n",
    "spark.conf.set(\"fs.s3a.buffer.dir\", \"/tmp\")\n",
    "spark.conf.set(\"fs.s3a.access.key\", aws_info[\"aws_access_key_id\"])\n",
    "spark.conf.set(\"fs.s3a.secret.key\", aws_info[\"aws_secret_access_key\"])\n",
    "spark.conf.set(\"spark.sql.debug.maxToStringFields\", 2000)"
   ]
  },
  {
   "cell_type": "code",
   "execution_count": 5,
   "metadata": {
    "execution": {
     "iopub.execute_input": "2022-09-30T03:52:19.746719Z",
     "iopub.status.busy": "2022-09-30T03:52:19.746338Z",
     "iopub.status.idle": "2022-09-30T03:52:21.797138Z",
     "shell.execute_reply": "2022-09-30T03:52:21.796493Z",
     "shell.execute_reply.started": "2022-09-30T03:52:19.746695Z"
    },
    "tags": [
     "parameters"
    ]
   },
   "outputs": [],
   "source": [
    "df = spark.read.format(\"jdbc\") \\\n",
    "    .option(\"url\", oracle_info['jdbc_url']) \\\n",
    "    .option(\"user\", oracle_info['user']) \\\n",
    "    .option(\"password\", oracle_info['password']) \\\n",
    "    .option(\"driver\", \"oracle.jdbc.driver.OracleDriver\") \\\n",
    "    .option(\"dbtable\", \"(SELECT * FROM C##DPC.GTPSD_EP_PAY_RESULT_A) a\") \\\n",
    "    .load()"
   ]
  },
  {
   "cell_type": "code",
   "execution_count": 6,
   "metadata": {
    "execution": {
     "iopub.execute_input": "2022-09-30T03:52:22.869246Z",
     "iopub.status.busy": "2022-09-30T03:52:22.868846Z",
     "iopub.status.idle": "2022-09-30T03:52:25.888572Z",
     "shell.execute_reply": "2022-09-30T03:52:25.887954Z",
     "shell.execute_reply.started": "2022-09-30T03:52:22.869221Z"
    },
    "tags": []
   },
   "outputs": [
    {
     "name": "stderr",
     "output_type": "stream",
     "text": [
      "[Stage 0:>                                                          (0 + 1) / 1]\r"
     ]
    },
    {
     "name": "stdout",
     "output_type": "stream",
     "text": [
      "+------------+--------+------+-------+----------+--------------+--------------------+--------------+--------------------+----------+---------------+-------------------+---------+-------------------+---------+\n",
      "|POS_STR_CODE|BIZ_DATE|POS_NO|TRAN_NO|TRAN_TCODE|TRAN_TYPE_CODE|            BAR_CODE|    TIME_STAMP|        MCH_ORDER_NO|PAY_RESULT|            MSG|            CRTN_DT|  CRTN_ID|             CHG_DT|   CHG_ID|\n",
      "+------------+--------+------+-------+----------+--------------+--------------------+--------------+--------------------+----------+---------------+-------------------+---------+-------------------+---------+\n",
      "|        4700|20220310|  1032|   8563|        00|            00|27182371100613712...|20220310140522| 2022031014050904185|     00000|             OK|2022-03-10 23:43:07|TRNROUTER|2022-03-10 23:43:07|TRNROUTER|\n",
      "|        4700|20220310|  1032|   8564|        00|            00|27182400652754379...|20220310140729| 2022031014071904186|     00000|             OK|2022-03-10 23:43:07|TRNROUTER|2022-03-10 23:43:07|TRNROUTER|\n",
      "|        4700|20220310|  1032|   8567|        00|            00|27182265983390614...|20220310141008| 2022031014095904187|     00000|             OK|2022-03-10 23:43:07|TRNROUTER|2022-03-10 23:43:07|TRNROUTER|\n",
      "|        4700|20220310|  6100|   4469|        00|            00|            27182336|68033575630748|20220310141747202203|     10141|73604192 0000OK|2022-03-10 23:43:08|TRNROUTER|2022-03-10 23:43:08|TRNROUTER|\n",
      "|        4700|20220310|  1032|   8568|        00|            00|27182181869239432...|20220310141739| 2022031014173104191|     00000|             OK|2022-03-10 23:43:08|TRNROUTER|2022-03-10 23:43:08|TRNROUTER|\n",
      "|        4700|20220310|  1032|   8569|        00|            00|27182213575898987...|20220310142332| 2022031014232304193|     00000|             OK|2022-03-10 23:43:11|TRNROUTER|2022-03-10 23:43:11|TRNROUTER|\n",
      "|        4700|20220310|  6101|   6204|        00|            00|27182692152396411...|20220310142424| 2022031014241804194|     00000|             OK|2022-03-10 23:43:11|TRNROUTER|2022-03-10 23:43:11|TRNROUTER|\n",
      "|        4700|20220310|  6101|   6206|        00|            00|27182192388906360...|20220310142634| 2022031014262504195|     00000|             OK|2022-03-10 23:43:11|TRNROUTER|2022-03-10 23:43:11|TRNROUTER|\n",
      "|        4700|20220310|  1032|   8570|        00|            00|27182517584973923...|20220310142843| 2022031014283104196|     00000|             OK|2022-03-10 23:43:11|TRNROUTER|2022-03-10 23:43:11|TRNROUTER|\n",
      "|        4700|20220310|  6100|   4475|        00|            00|27182835440756652...|20220310144845| 2022031014460004204|     00000|             OK|2022-03-10 23:49:32|TRNROUTER|2022-03-10 23:49:32|TRNROUTER|\n",
      "|        4700|20220310|  1032|   8573|        00|            00|27182397715680533...|20220310145102| 2022031014503904207|     00000|             OK|2022-03-10 23:52:08|TRNROUTER|2022-03-10 23:52:08|TRNROUTER|\n",
      "|        4700|20220310|  1032|   8574|        00|            00|27182859063800595...|20220310145335| 2022031014532704208|     00000|             OK|2022-03-10 23:54:49|TRNROUTER|2022-03-10 23:54:49|TRNROUTER|\n",
      "|        4700|20220310|  6101|   6213|        00|            00|27182183908496136...|20220310152039| 2022031015203304215|     00000|             OK|2022-03-11 00:21:26|TRNROUTER|2022-03-11 00:21:26|TRNROUTER|\n",
      "|        4700|20220310|  6100|   4476|        00|            00|27182145825052613...|20220310152841| 2022031015283004222|     00000|             OK|2022-03-11 00:29:25|TRNROUTER|2022-03-11 00:29:25|TRNROUTER|\n",
      "|        4700|20220310|  6101|   6214|        00|            00|27182725824867638...|20220310152843| 2022031015283504223|     00000|             OK|2022-03-11 00:30:45|TRNROUTER|2022-03-11 00:30:45|TRNROUTER|\n",
      "|        4700|20220310|  6101|   6215|        00|            00|27182540459746762...|20220310155020| 2022031015501404231|     00000|             OK|2022-03-11 00:51:24|TRNROUTER|2022-03-11 00:51:24|TRNROUTER|\n",
      "|        4700|20220310|  1032|   8577|        00|            00|27182259054809323...|20220310155236| 2022031015522804232|     00000|             OK|2022-03-11 00:53:35|TRNROUTER|2022-03-11 00:53:35|TRNROUTER|\n",
      "|        4700|20220310|  6101|   6216|        00|            00|27182357420794392...|20220310155422| 2022031015541704233|     00000|             OK|2022-03-11 00:55:20|TRNROUTER|2022-03-11 00:55:20|TRNROUTER|\n",
      "|        4700|20220310|  1032|   8580|        00|            00|27182275703648028...|20220310155924| 2022031015591304236|     00000|             OK|2022-03-11 01:00:33|TRNROUTER|2022-03-11 01:00:33|TRNROUTER|\n",
      "|        4700|20220310|  1032|   8584|        00|            00|27182293397973821...|20220310160843| 2022031016083204239|     00000|             OK|2022-03-11 01:09:42|TRNROUTER|2022-03-11 01:09:42|TRNROUTER|\n",
      "+------------+--------+------+-------+----------+--------------+--------------------+--------------+--------------------+----------+---------------+-------------------+---------+-------------------+---------+\n",
      "only showing top 20 rows\n",
      "\n"
     ]
    },
    {
     "name": "stderr",
     "output_type": "stream",
     "text": [
      "                                                                                \r"
     ]
    }
   ],
   "source": [
    "df.show()"
   ]
  },
  {
   "cell_type": "code",
   "execution_count": 7,
   "metadata": {
    "execution": {
     "iopub.execute_input": "2022-09-30T03:53:52.240365Z",
     "iopub.status.busy": "2022-09-30T03:53:52.239961Z",
     "iopub.status.idle": "2022-09-30T03:53:57.504805Z",
     "shell.execute_reply": "2022-09-30T03:53:57.504172Z",
     "shell.execute_reply.started": "2022-09-30T03:53:52.240341Z"
    },
    "tags": []
   },
   "outputs": [
    {
     "name": "stderr",
     "output_type": "stream",
     "text": [
      "                                                                                \r"
     ]
    }
   ],
   "source": [
    "s3_path = \"s3a://emart-datafabric-dev/oracle-db/\"\n",
    "\n",
    "df.write.mode(\"overwrite\").parquet(s3_path)"
   ]
  },
  {
   "cell_type": "code",
   "execution_count": 8,
   "metadata": {
    "execution": {
     "iopub.execute_input": "2022-09-30T03:54:17.861489Z",
     "iopub.status.busy": "2022-09-30T03:54:17.861091Z",
     "iopub.status.idle": "2022-09-30T03:54:21.112859Z",
     "shell.execute_reply": "2022-09-30T03:54:21.112224Z",
     "shell.execute_reply.started": "2022-09-30T03:54:17.861454Z"
    },
    "tags": []
   },
   "outputs": [
    {
     "name": "stdout",
     "output_type": "stream",
     "text": [
      "2022-09-30 12:54:18,981 INFO impl.MetricsConfig: Loaded properties from hadoop-metrics2.properties\n",
      "2022-09-30 12:54:19,032 INFO impl.MetricsSystemImpl: Scheduled Metric snapshot period at 10 second(s).\n",
      "2022-09-30 12:54:19,032 INFO impl.MetricsSystemImpl: s3a-file-system metrics system started\n",
      "Found 2 items\n",
      "-rw-rw-rw-   1 datafabric datafabric          0 2022-09-30 12:53 s3a://emart-datafabric-dev/oracle-db/_SUCCESS\n",
      "-rw-rw-rw-   1 datafabric datafabric     366518 2022-09-30 12:53 s3a://emart-datafabric-dev/oracle-db/part-00000-859d4936-8fb3-4735-8510-ca3444b84961-c000.snappy.parquet\n",
      "2022-09-30 12:54:20,665 INFO impl.MetricsSystemImpl: Stopping s3a-file-system metrics system...\n",
      "2022-09-30 12:54:20,665 INFO impl.MetricsSystemImpl: s3a-file-system metrics system stopped.\n",
      "2022-09-30 12:54:20,665 INFO impl.MetricsSystemImpl: s3a-file-system metrics system shutdown complete.\n"
     ]
    }
   ],
   "source": [
    "!hdfs dfs -Dhadoop.security.credential.provider.path=jceks:///datafabric/credentials/aws.jceks -ls {s3_path}"
   ]
  },
  {
   "cell_type": "code",
   "execution_count": 12,
   "metadata": {
    "execution": {
     "iopub.execute_input": "2022-04-28T13:36:17.867121Z",
     "iopub.status.busy": "2022-04-28T13:36:17.866777Z",
     "iopub.status.idle": "2022-04-28T13:36:18.730524Z",
     "shell.execute_reply": "2022-04-28T13:36:18.729649Z",
     "shell.execute_reply.started": "2022-04-28T13:36:17.867090Z"
    }
   },
   "outputs": [],
   "source": [
    "spark.stop()"
   ]
  },
  {
   "cell_type": "code",
   "execution_count": null,
   "metadata": {},
   "outputs": [],
   "source": []
  }
 ],
 "metadata": {
  "kernelspec": {
   "display_name": "Python 3 (ipykernel)",
   "language": "python",
   "name": "python3"
  },
  "language_info": {
   "codemirror_mode": {
    "name": "ipython",
    "version": 3
   },
   "file_extension": ".py",
   "mimetype": "text/x-python",
   "name": "python",
   "nbconvert_exporter": "python",
   "pygments_lexer": "ipython3",
   "version": "3.8.13"
  }
 },
 "nbformat": 4,
 "nbformat_minor": 4
}
