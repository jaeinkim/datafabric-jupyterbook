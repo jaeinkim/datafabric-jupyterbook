{
 "cells": [
  {
   "cell_type": "markdown",
   "metadata": {},
   "source": [
    "### S3로 CSV파일 업로드"
   ]
  },
  {
   "cell_type": "code",
   "execution_count": 4,
   "metadata": {
    "execution": {
     "iopub.execute_input": "2022-10-04T06:29:31.258468Z",
     "iopub.status.busy": "2022-10-04T06:29:31.258090Z",
     "iopub.status.idle": "2022-10-04T06:29:31.261633Z",
     "shell.execute_reply": "2022-10-04T06:29:31.261141Z",
     "shell.execute_reply.started": "2022-10-04T06:29:31.258438Z"
    },
    "tags": []
   },
   "outputs": [],
   "source": [
    "PROJECT = \"emart-datafabric\"\n",
    "DATASET = \"common_dev\"\n",
    "TABLE = \"dfm_sample_eapp_review_keywords\"\n",
    "LIMIT = 30"
   ]
  },
  {
   "cell_type": "code",
   "execution_count": 5,
   "metadata": {
    "execution": {
     "iopub.execute_input": "2022-10-04T06:29:32.046750Z",
     "iopub.status.busy": "2022-10-04T06:29:32.046391Z",
     "iopub.status.idle": "2022-10-04T06:29:32.049605Z",
     "shell.execute_reply": "2022-10-04T06:29:32.049090Z",
     "shell.execute_reply.started": "2022-10-04T06:29:32.046726Z"
    },
    "tags": []
   },
   "outputs": [],
   "source": [
    "query = f\"select * from {PROJECT}.{DATASET}.{TABLE}\"\n",
    "path = \"app_review_keywords/csv\""
   ]
  },
  {
   "cell_type": "code",
   "execution_count": 8,
   "metadata": {
    "execution": {
     "iopub.execute_input": "2022-10-04T06:29:51.204738Z",
     "iopub.status.busy": "2022-10-04T06:29:51.204369Z",
     "iopub.status.idle": "2022-10-04T06:29:51.238040Z",
     "shell.execute_reply": "2022-10-04T06:29:51.237573Z",
     "shell.execute_reply.started": "2022-10-04T06:29:51.204713Z"
    },
    "tags": []
   },
   "outputs": [],
   "source": [
    "import os\n",
    "from pydatafabric.vault_utils import get_secrets\n",
    "\n",
    "aws_info = get_secrets(mount_point=\"datafabric\",path=\"aws/credentials/datafabric\")"
   ]
  },
  {
   "cell_type": "code",
   "execution_count": 9,
   "metadata": {
    "execution": {
     "iopub.execute_input": "2022-10-04T06:29:52.190044Z",
     "iopub.status.busy": "2022-10-04T06:29:52.189689Z",
     "iopub.status.idle": "2022-10-04T06:29:52.193097Z",
     "shell.execute_reply": "2022-10-04T06:29:52.192476Z",
     "shell.execute_reply.started": "2022-10-04T06:29:52.190020Z"
    },
    "tags": []
   },
   "outputs": [],
   "source": [
    "env = \"dev\" \n",
    "bucket = f\"emart-datafabric-{env}\"\n",
    "destination = f\"s3a://{bucket}/bigquery-db/{path}/op=put/\""
   ]
  },
  {
   "cell_type": "code",
   "execution_count": 10,
   "metadata": {
    "execution": {
     "iopub.execute_input": "2022-10-04T06:29:54.642686Z",
     "iopub.status.busy": "2022-10-04T06:29:54.642329Z",
     "iopub.status.idle": "2022-10-04T06:30:02.633119Z",
     "shell.execute_reply": "2022-10-04T06:30:02.632444Z",
     "shell.execute_reply.started": "2022-10-04T06:29:54.642664Z"
    },
    "tags": []
   },
   "outputs": [
    {
     "name": "stderr",
     "output_type": "stream",
     "text": [
      "Setting default log level to \"WARN\".\n",
      "To adjust logging level use sc.setLogLevel(newLevel). For SparkR, use setLogLevel(newLevel).\n",
      "22/10/04 15:29:57 INFO org.apache.spark.SparkEnv: Registering MapOutputTracker\n",
      "22/10/04 15:29:57 INFO org.apache.spark.SparkEnv: Registering BlockManagerMaster\n",
      "22/10/04 15:29:57 INFO org.apache.spark.SparkEnv: Registering BlockManagerMasterHeartbeat\n",
      "22/10/04 15:29:57 INFO org.apache.spark.SparkEnv: Registering OutputCommitCoordinator\n"
     ]
    }
   ],
   "source": [
    "from pydatafabric.ye import get_spark\n",
    "\n",
    "spark = get_spark()\n",
    "spark.conf.set(\"fs.s3a.fast.upload.buffer\", \"disk\")\n",
    "spark.conf.set(\"fs.s3a.buffer.dir\", \"/tmp\")\n",
    "spark.conf.set(\"fs.s3a.access.key\", aws_info[\"aws_access_key_id\"])\n",
    "spark.conf.set(\"fs.s3a.secret.key\", aws_info[\"aws_secret_access_key\"])"
   ]
  },
  {
   "cell_type": "markdown",
   "metadata": {},
   "source": [
    "### CSV 포맷으로 저장"
   ]
  },
  {
   "cell_type": "code",
   "execution_count": 11,
   "metadata": {
    "execution": {
     "iopub.execute_input": "2022-10-04T06:30:03.978326Z",
     "iopub.status.busy": "2022-10-04T06:30:03.977918Z",
     "iopub.status.idle": "2022-10-04T06:30:25.523909Z",
     "shell.execute_reply": "2022-10-04T06:30:25.523224Z",
     "shell.execute_reply.started": "2022-10-04T06:30:03.978294Z"
    },
    "tags": []
   },
   "outputs": [
    {
     "name": "stderr",
     "output_type": "stream",
     "text": [
      "22/10/04 15:30:16 WARN org.apache.hadoop.fs.s3a.commit.AbstractS3ACommitterFactory: Using standard FileOutputCommitter to commit work. This is slow and potentially unsafe.\n",
      "                                                                                \r"
     ]
    }
   ],
   "source": [
    "from pydatafabric.gcp import bq_to_df\n",
    "\n",
    "df = bq_to_df(query, spark_session=spark)\n",
    "df.write.mode(\"overwrite\").csv(destination)"
   ]
  },
  {
   "cell_type": "code",
   "execution_count": 12,
   "metadata": {
    "execution": {
     "iopub.execute_input": "2022-10-04T06:30:29.019968Z",
     "iopub.status.busy": "2022-10-04T06:30:29.019597Z",
     "iopub.status.idle": "2022-10-04T06:30:32.255764Z",
     "shell.execute_reply": "2022-10-04T06:30:32.255119Z",
     "shell.execute_reply.started": "2022-10-04T06:30:29.019942Z"
    },
    "tags": []
   },
   "outputs": [
    {
     "name": "stdout",
     "output_type": "stream",
     "text": [
      "2022-10-04 15:30:30,103 INFO impl.MetricsConfig: Loaded properties from hadoop-metrics2.properties\n",
      "2022-10-04 15:30:30,155 INFO impl.MetricsSystemImpl: Scheduled Metric snapshot period at 10 second(s).\n",
      "2022-10-04 15:30:30,156 INFO impl.MetricsSystemImpl: s3a-file-system metrics system started\n",
      "Found 2 items\n",
      "-rw-rw-rw-   1 datafabric datafabric          0 2022-10-04 15:30 s3a://emart-datafabric-dev/bigquery-db/app_review_keywords/csv/op=put/_SUCCESS\n",
      "-rw-rw-rw-   1 datafabric datafabric   49727095 2022-10-04 15:30 s3a://emart-datafabric-dev/bigquery-db/app_review_keywords/csv/op=put/part-00000-9e8ecd66-ae0f-45d6-8022-2396f4f4f4d8-c000.csv\n",
      "2022-10-04 15:30:31,815 INFO impl.MetricsSystemImpl: Stopping s3a-file-system metrics system...\n",
      "2022-10-04 15:30:31,815 INFO impl.MetricsSystemImpl: s3a-file-system metrics system stopped.\n",
      "2022-10-04 15:30:31,815 INFO impl.MetricsSystemImpl: s3a-file-system metrics system shutdown complete.\n"
     ]
    }
   ],
   "source": [
    "!hdfs dfs -Dhadoop.security.credential.provider.path=jceks:///datafabric/credentials/aws.jceks -ls {destination}"
   ]
  },
  {
   "cell_type": "code",
   "execution_count": null,
   "metadata": {},
   "outputs": [],
   "source": []
  }
 ],
 "metadata": {
  "kernelspec": {
   "display_name": "Python 3 (ipykernel)",
   "language": "python",
   "name": "python3"
  },
  "language_info": {
   "codemirror_mode": {
    "name": "ipython",
    "version": 3
   },
   "file_extension": ".py",
   "mimetype": "text/x-python",
   "name": "python",
   "nbconvert_exporter": "python",
   "pygments_lexer": "ipython3",
   "version": "3.8.13"
  }
 },
 "nbformat": 4,
 "nbformat_minor": 4
}
