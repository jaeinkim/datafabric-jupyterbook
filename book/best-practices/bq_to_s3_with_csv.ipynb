{
 "cells": [
  {
   "cell_type": "code",
   "execution_count": 1,
   "metadata": {
    "execution": {
     "iopub.execute_input": "2022-05-03T05:01:06.503705Z",
     "iopub.status.busy": "2022-05-03T05:01:06.503201Z",
     "iopub.status.idle": "2022-05-03T05:01:06.510104Z",
     "shell.execute_reply": "2022-05-03T05:01:06.509402Z",
     "shell.execute_reply.started": "2022-05-03T05:01:06.503632Z"
    },
    "tags": [
     "parameters"
    ]
   },
   "outputs": [],
   "source": [
    "query = \"select * from smart-ruler-304409.product_attribute_module.app_review_keywords\"\n",
    "path = \"app_review_keywords_csv\""
   ]
  },
  {
   "cell_type": "code",
   "execution_count": 2,
   "metadata": {
    "execution": {
     "iopub.execute_input": "2022-05-03T05:01:07.340521Z",
     "iopub.status.busy": "2022-05-03T05:01:07.339786Z",
     "iopub.status.idle": "2022-05-03T05:01:07.524880Z",
     "shell.execute_reply": "2022-05-03T05:01:07.524341Z",
     "shell.execute_reply.started": "2022-05-03T05:01:07.340486Z"
    },
    "tags": []
   },
   "outputs": [],
   "source": [
    "import os\n",
    "from pydatafabric.vault_utils import get_secrets\n",
    "aws_info = get_secrets(mount_point=\"datafabric\",path=\"mlops/access/data_loader\")"
   ]
  },
  {
   "cell_type": "code",
   "execution_count": 3,
   "metadata": {
    "execution": {
     "iopub.execute_input": "2022-05-03T05:01:08.215789Z",
     "iopub.status.busy": "2022-05-03T05:01:08.215200Z",
     "iopub.status.idle": "2022-05-03T05:01:08.219844Z",
     "shell.execute_reply": "2022-05-03T05:01:08.218861Z",
     "shell.execute_reply.started": "2022-05-03T05:01:08.215752Z"
    },
    "tags": []
   },
   "outputs": [],
   "source": [
    "bucket = \"mlops-loader-dev\"\n",
    "destination = f\"s3a://{bucket}/dynamodb/{path}/op=put/\""
   ]
  },
  {
   "cell_type": "code",
   "execution_count": 4,
   "metadata": {
    "execution": {
     "iopub.execute_input": "2022-05-03T05:01:09.473409Z",
     "iopub.status.busy": "2022-05-03T05:01:09.472687Z",
     "iopub.status.idle": "2022-05-03T05:01:21.205269Z",
     "shell.execute_reply": "2022-05-03T05:01:21.204478Z",
     "shell.execute_reply.started": "2022-05-03T05:01:09.473368Z"
    }
   },
   "outputs": [
    {
     "name": "stderr",
     "output_type": "stream",
     "text": [
      "Setting default log level to \"WARN\".\n",
      "To adjust logging level use sc.setLogLevel(newLevel). For SparkR, use setLogLevel(newLevel).\n",
      "22/05/03 14:01:14 INFO org.apache.spark.SparkEnv: Registering MapOutputTracker\n",
      "22/05/03 14:01:14 INFO org.apache.spark.SparkEnv: Registering BlockManagerMaster\n",
      "22/05/03 14:01:14 INFO org.apache.spark.SparkEnv: Registering BlockManagerMasterHeartbeat\n",
      "22/05/03 14:01:14 INFO org.apache.spark.SparkEnv: Registering OutputCommitCoordinator\n"
     ]
    }
   ],
   "source": [
    "from pydatafabric.ye import get_spark\n",
    "\n",
    "spark = get_spark()\n",
    "spark.conf.set(\"fs.s3a.fast.upload.buffer\", \"disk\")\n",
    "spark.conf.set(\"fs.s3a.buffer.dir\", \"/tmp\")\n",
    "spark.conf.set(\"fs.s3a.access.key\", aws_info[\"aws_access_key_id\"])\n",
    "spark.conf.set(\"fs.s3a.secret.key\", aws_info[\"aws_secret_access_key\"])"
   ]
  },
  {
   "cell_type": "markdown",
   "metadata": {},
   "source": [
    "### CSV 포맷으로 저장"
   ]
  },
  {
   "cell_type": "code",
   "execution_count": 5,
   "metadata": {
    "execution": {
     "iopub.execute_input": "2022-05-03T05:01:21.207419Z",
     "iopub.status.busy": "2022-05-03T05:01:21.207129Z",
     "iopub.status.idle": "2022-05-03T05:01:41.045805Z",
     "shell.execute_reply": "2022-05-03T05:01:41.044814Z",
     "shell.execute_reply.started": "2022-05-03T05:01:21.207382Z"
    },
    "tags": []
   },
   "outputs": [
    {
     "name": "stderr",
     "output_type": "stream",
     "text": [
      "22/05/03 14:01:31 WARN org.apache.hadoop.fs.s3a.commit.AbstractS3ACommitterFactory: Using standard FileOutputCommitter to commit work. This is slow and potentially unsafe.\n",
      "                                                                                \r"
     ]
    }
   ],
   "source": [
    "from pydatafabric.gcp import bq_to_df\n",
    "\n",
    "df = bq_to_df(query, spark_session=spark)\n",
    "df.write.mode(\"overwrite\").csv(destination)"
   ]
  },
  {
   "cell_type": "code",
   "execution_count": null,
   "metadata": {},
   "outputs": [],
   "source": []
  }
 ],
 "metadata": {
  "kernelspec": {
   "display_name": "Python 3 (ipykernel)",
   "language": "python",
   "name": "python3"
  },
  "language_info": {
   "codemirror_mode": {
    "name": "ipython",
    "version": 3
   },
   "file_extension": ".py",
   "mimetype": "text/x-python",
   "name": "python",
   "nbconvert_exporter": "python",
   "pygments_lexer": "ipython3",
   "version": "3.8.13"
  }
 },
 "nbformat": 4,
 "nbformat_minor": 4
}
