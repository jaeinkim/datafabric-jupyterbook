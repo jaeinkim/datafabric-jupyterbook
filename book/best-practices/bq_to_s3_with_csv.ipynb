{
 "cells": [
  {
   "cell_type": "code",
   "execution_count": 1,
   "metadata": {
    "execution": {
     "iopub.execute_input": "2022-09-30T04:04:55.279800Z",
     "iopub.status.busy": "2022-09-30T04:04:55.279342Z",
     "iopub.status.idle": "2022-09-30T04:04:55.285309Z",
     "shell.execute_reply": "2022-09-30T04:04:55.284721Z",
     "shell.execute_reply.started": "2022-09-30T04:04:55.279720Z"
    },
    "tags": [
     "parameters"
    ]
   },
   "outputs": [],
   "source": [
    "query = \"select * from smart-ruler-304409.product_attribute_module.app_review_keywords\"\n",
    "path = \"app_review_keywords_csv\""
   ]
  },
  {
   "cell_type": "code",
   "execution_count": 2,
   "metadata": {
    "execution": {
     "iopub.execute_input": "2022-09-30T04:04:55.974784Z",
     "iopub.status.busy": "2022-09-30T04:04:55.974421Z",
     "iopub.status.idle": "2022-09-30T04:04:56.061806Z",
     "shell.execute_reply": "2022-09-30T04:04:56.061282Z",
     "shell.execute_reply.started": "2022-09-30T04:04:55.974763Z"
    },
    "tags": []
   },
   "outputs": [],
   "source": [
    "import os\n",
    "from pydatafabric.vault_utils import get_secrets\n",
    "\n",
    "aws_info = get_secrets(mount_point=\"datafabric\",path=\"aws/credentials/datafabric\")"
   ]
  },
  {
   "cell_type": "code",
   "execution_count": 3,
   "metadata": {
    "execution": {
     "iopub.execute_input": "2022-09-30T04:04:57.075686Z",
     "iopub.status.busy": "2022-09-30T04:04:57.075297Z",
     "iopub.status.idle": "2022-09-30T04:04:57.078696Z",
     "shell.execute_reply": "2022-09-30T04:04:57.078157Z",
     "shell.execute_reply.started": "2022-09-30T04:04:57.075661Z"
    },
    "tags": []
   },
   "outputs": [],
   "source": [
    "env = \"dev\" \n",
    "bucket = f\"emart-datafabric-{env}\"\n",
    "destination = f\"s3a://{bucket}/bigquery-db/{path}/op=put/\""
   ]
  },
  {
   "cell_type": "code",
   "execution_count": 4,
   "metadata": {
    "execution": {
     "iopub.execute_input": "2022-09-30T04:05:27.231273Z",
     "iopub.status.busy": "2022-09-30T04:05:27.230585Z",
     "iopub.status.idle": "2022-09-30T04:05:35.254761Z",
     "shell.execute_reply": "2022-09-30T04:05:35.254068Z",
     "shell.execute_reply.started": "2022-09-30T04:05:27.231246Z"
    },
    "tags": []
   },
   "outputs": [
    {
     "name": "stderr",
     "output_type": "stream",
     "text": [
      "Setting default log level to \"WARN\".\n",
      "To adjust logging level use sc.setLogLevel(newLevel). For SparkR, use setLogLevel(newLevel).\n",
      "22/09/30 13:05:30 INFO org.apache.spark.SparkEnv: Registering MapOutputTracker\n",
      "22/09/30 13:05:30 INFO org.apache.spark.SparkEnv: Registering BlockManagerMaster\n",
      "22/09/30 13:05:30 INFO org.apache.spark.SparkEnv: Registering BlockManagerMasterHeartbeat\n",
      "22/09/30 13:05:30 INFO org.apache.spark.SparkEnv: Registering OutputCommitCoordinator\n"
     ]
    }
   ],
   "source": [
    "from pydatafabric.ye import get_spark\n",
    "\n",
    "spark = get_spark()\n",
    "spark.conf.set(\"fs.s3a.fast.upload.buffer\", \"disk\")\n",
    "spark.conf.set(\"fs.s3a.buffer.dir\", \"/tmp\")\n",
    "spark.conf.set(\"fs.s3a.access.key\", aws_info[\"aws_access_key_id\"])\n",
    "spark.conf.set(\"fs.s3a.secret.key\", aws_info[\"aws_secret_access_key\"])"
   ]
  },
  {
   "cell_type": "markdown",
   "metadata": {},
   "source": [
    "### CSV 포맷으로 저장"
   ]
  },
  {
   "cell_type": "code",
   "execution_count": 5,
   "metadata": {
    "execution": {
     "iopub.execute_input": "2022-09-30T04:05:39.971511Z",
     "iopub.status.busy": "2022-09-30T04:05:39.970747Z",
     "iopub.status.idle": "2022-09-30T04:06:00.865227Z",
     "shell.execute_reply": "2022-09-30T04:06:00.864581Z",
     "shell.execute_reply.started": "2022-09-30T04:05:39.971478Z"
    },
    "tags": []
   },
   "outputs": [
    {
     "name": "stderr",
     "output_type": "stream",
     "text": [
      "22/09/30 13:05:52 WARN org.apache.hadoop.fs.s3a.commit.AbstractS3ACommitterFactory: Using standard FileOutputCommitter to commit work. This is slow and potentially unsafe.\n",
      "                                                                                \r"
     ]
    }
   ],
   "source": [
    "from pydatafabric.gcp import bq_to_df\n",
    "\n",
    "df = bq_to_df(query, spark_session=spark)\n",
    "df.write.mode(\"overwrite\").csv(destination)"
   ]
  },
  {
   "cell_type": "code",
   "execution_count": 7,
   "metadata": {
    "execution": {
     "iopub.execute_input": "2022-09-30T04:09:54.062376Z",
     "iopub.status.busy": "2022-09-30T04:09:54.061975Z",
     "iopub.status.idle": "2022-09-30T04:09:57.416671Z",
     "shell.execute_reply": "2022-09-30T04:09:57.415970Z",
     "shell.execute_reply.started": "2022-09-30T04:09:54.062349Z"
    },
    "tags": []
   },
   "outputs": [
    {
     "name": "stdout",
     "output_type": "stream",
     "text": [
      "2022-09-30 13:09:55,237 INFO impl.MetricsConfig: Loaded properties from hadoop-metrics2.properties\n",
      "2022-09-30 13:09:55,291 INFO impl.MetricsSystemImpl: Scheduled Metric snapshot period at 10 second(s).\n",
      "2022-09-30 13:09:55,291 INFO impl.MetricsSystemImpl: s3a-file-system metrics system started\n",
      "Found 2 items\n",
      "-rw-rw-rw-   1 datafabric datafabric          0 2022-09-30 13:06 s3a://emart-datafabric-dev/bigquery-db/app_review_keywords_csv/op=put/_SUCCESS\n",
      "-rw-rw-rw-   1 datafabric datafabric   49727095 2022-09-30 13:06 s3a://emart-datafabric-dev/bigquery-db/app_review_keywords_csv/op=put/part-00000-aef1e99b-9b7c-451e-afcd-8bb000c33c85-c000.csv\n",
      "2022-09-30 13:09:56,969 INFO impl.MetricsSystemImpl: Stopping s3a-file-system metrics system...\n",
      "2022-09-30 13:09:56,969 INFO impl.MetricsSystemImpl: s3a-file-system metrics system stopped.\n",
      "2022-09-30 13:09:56,969 INFO impl.MetricsSystemImpl: s3a-file-system metrics system shutdown complete.\n"
     ]
    }
   ],
   "source": [
    "!hdfs dfs -Dhadoop.security.credential.provider.path=jceks:///datafabric/credentials/aws.jceks -ls {destination}"
   ]
  }
 ],
 "metadata": {
  "kernelspec": {
   "display_name": "Python 3 (ipykernel)",
   "language": "python",
   "name": "python3"
  },
  "language_info": {
   "codemirror_mode": {
    "name": "ipython",
    "version": 3
   },
   "file_extension": ".py",
   "mimetype": "text/x-python",
   "name": "python",
   "nbconvert_exporter": "python",
   "pygments_lexer": "ipython3",
   "version": "3.8.13"
  }
 },
 "nbformat": 4,
 "nbformat_minor": 4
}
