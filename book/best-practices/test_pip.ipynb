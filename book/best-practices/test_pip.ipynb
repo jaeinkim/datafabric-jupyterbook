{
 "cells": [
  {
   "cell_type": "code",
   "execution_count": null,
   "id": "165716b9-e789-49e9-8e10-6ff3d86cc017",
   "metadata": {},
   "outputs": [],
   "source": [
    "! pip list"
   ]
  },
  {
   "cell_type": "code",
   "execution_count": null,
   "id": "7aa6d876-4f3c-4fb6-999d-49178a2e403a",
   "metadata": {},
   "outputs": [],
   "source": [
    "! pip install pandas"
   ]
  }
 ],
 "metadata": {
  "kernelspec": {
   "display_name": "Python 3",
   "language": "python",
   "name": "python3"
  },
  "language_info": {
   "codemirror_mode": {
    "name": "ipython",
    "version": 3
   },
   "file_extension": ".py",
   "mimetype": "text/x-python",
   "name": "python",
   "nbconvert_exporter": "python",
   "pygments_lexer": "ipython3",
   "version": "3.8.8"
  }
 },
 "nbformat": 4,
 "nbformat_minor": 5
}
