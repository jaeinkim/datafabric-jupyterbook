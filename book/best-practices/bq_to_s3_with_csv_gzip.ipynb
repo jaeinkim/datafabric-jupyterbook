{
 "cells": [
  {
   "cell_type": "code",
   "execution_count": 313,
   "metadata": {
    "execution": {
     "iopub.execute_input": "2022-05-03T11:21:07.648438Z",
     "iopub.status.busy": "2022-05-03T11:21:07.648100Z",
     "iopub.status.idle": "2022-05-03T11:21:07.652749Z",
     "shell.execute_reply": "2022-05-03T11:21:07.651944Z",
     "shell.execute_reply.started": "2022-05-03T11:21:07.648400Z"
    },
    "tags": [
     "parameters"
    ]
   },
   "outputs": [],
   "source": [
    "query = \"\"\"\n",
    "        SELECT\n",
    "          to_json_string ( STRUCT ( CAST(RANK() OVER(ORDER BY GENERATE_UUID()) AS STRING) AS id,\n",
    "              STRUCT ( prdt_cd,\n",
    "                store_cd ) AS\n",
    "            VALUES\n",
    "              )) AS\n",
    "        VALUES\n",
    "        FROM\n",
    "          smart-ruler-304409.product_attribute_module.app_review_keywords\n",
    "  \"\"\"\n",
    "path = \"app_review_keywords\""
   ]
  },
  {
   "cell_type": "code",
   "execution_count": 314,
   "metadata": {
    "execution": {
     "iopub.execute_input": "2022-05-03T11:21:08.702754Z",
     "iopub.status.busy": "2022-05-03T11:21:08.702293Z",
     "iopub.status.idle": "2022-05-03T11:21:08.778725Z",
     "shell.execute_reply": "2022-05-03T11:21:08.778000Z",
     "shell.execute_reply.started": "2022-05-03T11:21:08.702713Z"
    },
    "tags": []
   },
   "outputs": [],
   "source": [
    "import os\n",
    "from pydatafabric.vault_utils import get_secrets\n",
    "aws_info = get_secrets(mount_point=\"datafabric\",path=\"mlops/access/data_loader\")"
   ]
  },
  {
   "cell_type": "code",
   "execution_count": 315,
   "metadata": {
    "execution": {
     "iopub.execute_input": "2022-05-03T11:21:09.032646Z",
     "iopub.status.busy": "2022-05-03T11:21:09.031913Z",
     "iopub.status.idle": "2022-05-03T11:21:09.037187Z",
     "shell.execute_reply": "2022-05-03T11:21:09.036218Z",
     "shell.execute_reply.started": "2022-05-03T11:21:09.032596Z"
    },
    "tags": []
   },
   "outputs": [],
   "source": [
    "bucket = \"mlops-loader-dev\"\n",
    "destination = f\"s3a://{bucket}/dynamodb/{path}/op=put/\""
   ]
  },
  {
   "cell_type": "code",
   "execution_count": 316,
   "metadata": {
    "execution": {
     "iopub.execute_input": "2022-05-03T11:21:09.295366Z",
     "iopub.status.busy": "2022-05-03T11:21:09.294842Z",
     "iopub.status.idle": "2022-05-03T11:21:09.365083Z",
     "shell.execute_reply": "2022-05-03T11:21:09.364209Z",
     "shell.execute_reply.started": "2022-05-03T11:21:09.295333Z"
    },
    "tags": []
   },
   "outputs": [],
   "source": [
    "from pydatafabric.ye import get_spark\n",
    "\n",
    "spark = get_spark()\n",
    "spark.conf.set(\"fs.s3a.fast.upload.buffer\", \"disk\")\n",
    "spark.conf.set(\"fs.s3a.buffer.dir\", \"/tmp\")\n",
    "spark.conf.set(\"fs.s3a.access.key\", aws_info[\"aws_access_key_id\"])\n",
    "spark.conf.set(\"fs.s3a.secret.key\", aws_info[\"aws_secret_access_key\"])"
   ]
  },
  {
   "cell_type": "markdown",
   "metadata": {},
   "source": [
    "### gzip 압축 옵션 추가하여 저장"
   ]
  },
  {
   "cell_type": "code",
   "execution_count": 317,
   "metadata": {
    "execution": {
     "iopub.execute_input": "2022-05-03T11:21:09.680115Z",
     "iopub.status.busy": "2022-05-03T11:21:09.679762Z",
     "iopub.status.idle": "2022-05-03T11:21:13.276113Z",
     "shell.execute_reply": "2022-05-03T11:21:13.275357Z",
     "shell.execute_reply.started": "2022-05-03T11:21:09.680075Z"
    },
    "tags": []
   },
   "outputs": [],
   "source": [
    "from pydatafabric.gcp import bq_to_df\n",
    "import pyspark.sql.functions as f\n",
    "import json\n",
    "\n",
    "df = bq_to_df(query, spark_session=spark)"
   ]
  },
  {
   "cell_type": "code",
   "execution_count": 318,
   "metadata": {
    "execution": {
     "iopub.execute_input": "2022-05-03T11:21:13.277789Z",
     "iopub.status.busy": "2022-05-03T11:21:13.277504Z",
     "iopub.status.idle": "2022-05-03T11:21:14.153688Z",
     "shell.execute_reply": "2022-05-03T11:21:14.152725Z",
     "shell.execute_reply.started": "2022-05-03T11:21:13.277764Z"
    },
    "tags": []
   },
   "outputs": [
    {
     "name": "stdout",
     "output_type": "stream",
     "text": [
      "+--------------------+\n",
      "|              VALUES|\n",
      "+--------------------+\n",
      "|{\"id\":\"17987\",\"VA...|\n",
      "|{\"id\":\"43324\",\"VA...|\n",
      "|{\"id\":\"60852\",\"VA...|\n",
      "|{\"id\":\"67740\",\"VA...|\n",
      "|{\"id\":\"69735\",\"VA...|\n",
      "|{\"id\":\"72155\",\"VA...|\n",
      "|{\"id\":\"77668\",\"VA...|\n",
      "|{\"id\":\"80600\",\"VA...|\n",
      "|{\"id\":\"109053\",\"V...|\n",
      "|{\"id\":\"124978\",\"V...|\n",
      "|{\"id\":\"129954\",\"V...|\n",
      "|{\"id\":\"137222\",\"V...|\n",
      "|{\"id\":\"154917\",\"V...|\n",
      "|{\"id\":\"163171\",\"V...|\n",
      "|{\"id\":\"167349\",\"V...|\n",
      "|{\"id\":\"174504\",\"V...|\n",
      "|{\"id\":\"191085\",\"V...|\n",
      "|{\"id\":\"198363\",\"V...|\n",
      "|{\"id\":\"232111\",\"V...|\n",
      "|{\"id\":\"10434\",\"VA...|\n",
      "+--------------------+\n",
      "only showing top 20 rows\n",
      "\n"
     ]
    }
   ],
   "source": [
    "df.show()"
   ]
  },
  {
   "cell_type": "code",
   "execution_count": 319,
   "metadata": {
    "execution": {
     "iopub.execute_input": "2022-05-03T11:21:14.155292Z",
     "iopub.status.busy": "2022-05-03T11:21:14.154942Z",
     "iopub.status.idle": "2022-05-03T11:21:17.932439Z",
     "shell.execute_reply": "2022-05-03T11:21:17.931724Z",
     "shell.execute_reply.started": "2022-05-03T11:21:14.155257Z"
    },
    "tags": []
   },
   "outputs": [
    {
     "name": "stdout",
     "output_type": "stream",
     "text": [
      "destination: emart-datafabric.temp_1d.app_review_keywords_json\n",
      "total_rows: 237978\n",
      "slot_secs: 29.831\n",
      "\n"
     ]
    }
   ],
   "source": [
    "from pydatafabric.gcp import bq_insert_overwrite\n",
    "\n",
    "bq_insert_overwrite(sql=query, destination=\"emart-datafabric.temp_1d.app_review_keywords_json\")"
   ]
  },
  {
   "cell_type": "code",
   "execution_count": 320,
   "metadata": {
    "execution": {
     "iopub.execute_input": "2022-05-03T11:21:17.934971Z",
     "iopub.status.busy": "2022-05-03T11:21:17.934772Z",
     "iopub.status.idle": "2022-05-03T11:21:17.972626Z",
     "shell.execute_reply": "2022-05-03T11:21:17.971764Z",
     "shell.execute_reply.started": "2022-05-03T11:21:17.934949Z"
    },
    "tags": []
   },
   "outputs": [],
   "source": [
    "from pydatafabric.gcp import import_bigquery_ipython_magic\n",
    "import_bigquery_ipython_magic()"
   ]
  },
  {
   "cell_type": "code",
   "execution_count": 321,
   "metadata": {
    "execution": {
     "iopub.execute_input": "2022-05-03T11:21:17.974091Z",
     "iopub.status.busy": "2022-05-03T11:21:17.973747Z",
     "iopub.status.idle": "2022-05-03T11:21:21.295577Z",
     "shell.execute_reply": "2022-05-03T11:21:21.294759Z",
     "shell.execute_reply.started": "2022-05-03T11:21:17.974056Z"
    },
    "tags": []
   },
   "outputs": [
    {
     "name": "stderr",
     "output_type": "stream",
     "text": [
      "Query complete after 0.00s: 100%|██████████| 2/2 [00:00<00:00, 1361.79query/s]                        \n",
      "Downloading: 100%|██████████| 237978/237978 [00:00<00:00, 268186.14rows/s]"
     ]
    },
    {
     "name": "stdout",
     "output_type": "stream",
     "text": [
      "BigQuery execution took 3 seconds.\n"
     ]
    },
    {
     "name": "stderr",
     "output_type": "stream",
     "text": [
      "\n"
     ]
    },
    {
     "data": {
      "text/html": [
       "<div>\n",
       "<style scoped>\n",
       "    .dataframe tbody tr th:only-of-type {\n",
       "        vertical-align: middle;\n",
       "    }\n",
       "\n",
       "    .dataframe tbody tr th {\n",
       "        vertical-align: top;\n",
       "    }\n",
       "\n",
       "    .dataframe thead th {\n",
       "        text-align: right;\n",
       "    }\n",
       "</style>\n",
       "<table border=\"1\" class=\"dataframe\">\n",
       "  <thead>\n",
       "    <tr style=\"text-align: right;\">\n",
       "      <th></th>\n",
       "      <th>VALUES</th>\n",
       "    </tr>\n",
       "  </thead>\n",
       "  <tbody>\n",
       "    <tr>\n",
       "      <th>0</th>\n",
       "      <td>{\"id\":\"6016\",\"VALUES\":{\"prdt_cd\":\"880149237415...</td>\n",
       "    </tr>\n",
       "    <tr>\n",
       "      <th>1</th>\n",
       "      <td>{\"id\":\"6650\",\"VALUES\":{\"prdt_cd\":\"111039000000...</td>\n",
       "    </tr>\n",
       "    <tr>\n",
       "      <th>2</th>\n",
       "      <td>{\"id\":\"16153\",\"VALUES\":{\"prdt_cd\":\"25000001703...</td>\n",
       "    </tr>\n",
       "    <tr>\n",
       "      <th>3</th>\n",
       "      <td>{\"id\":\"17071\",\"VALUES\":{\"prdt_cd\":\"11131500000...</td>\n",
       "    </tr>\n",
       "    <tr>\n",
       "      <th>4</th>\n",
       "      <td>{\"id\":\"21917\",\"VALUES\":{\"prdt_cd\":\"24209600000...</td>\n",
       "    </tr>\n",
       "    <tr>\n",
       "      <th>...</th>\n",
       "      <td>...</td>\n",
       "    </tr>\n",
       "    <tr>\n",
       "      <th>237973</th>\n",
       "      <td>{\"id\":\"188093\",\"VALUES\":{\"prdt_cd\":\"2402840000...</td>\n",
       "    </tr>\n",
       "    <tr>\n",
       "      <th>237974</th>\n",
       "      <td>{\"id\":\"203022\",\"VALUES\":{\"prdt_cd\":\"8809558842...</td>\n",
       "    </tr>\n",
       "    <tr>\n",
       "      <th>237975</th>\n",
       "      <td>{\"id\":\"204271\",\"VALUES\":{\"prdt_cd\":\"2440390000...</td>\n",
       "    </tr>\n",
       "    <tr>\n",
       "      <th>237976</th>\n",
       "      <td>{\"id\":\"209584\",\"VALUES\":{\"prdt_cd\":\"2429230000...</td>\n",
       "    </tr>\n",
       "    <tr>\n",
       "      <th>237977</th>\n",
       "      <td>{\"id\":\"221769\",\"VALUES\":{\"prdt_cd\":\"8809315590...</td>\n",
       "    </tr>\n",
       "  </tbody>\n",
       "</table>\n",
       "<p>237978 rows × 1 columns</p>\n",
       "</div>"
      ],
      "text/plain": [
       "                                                   VALUES\n",
       "0       {\"id\":\"6016\",\"VALUES\":{\"prdt_cd\":\"880149237415...\n",
       "1       {\"id\":\"6650\",\"VALUES\":{\"prdt_cd\":\"111039000000...\n",
       "2       {\"id\":\"16153\",\"VALUES\":{\"prdt_cd\":\"25000001703...\n",
       "3       {\"id\":\"17071\",\"VALUES\":{\"prdt_cd\":\"11131500000...\n",
       "4       {\"id\":\"21917\",\"VALUES\":{\"prdt_cd\":\"24209600000...\n",
       "...                                                   ...\n",
       "237973  {\"id\":\"188093\",\"VALUES\":{\"prdt_cd\":\"2402840000...\n",
       "237974  {\"id\":\"203022\",\"VALUES\":{\"prdt_cd\":\"8809558842...\n",
       "237975  {\"id\":\"204271\",\"VALUES\":{\"prdt_cd\":\"2440390000...\n",
       "237976  {\"id\":\"209584\",\"VALUES\":{\"prdt_cd\":\"2429230000...\n",
       "237977  {\"id\":\"221769\",\"VALUES\":{\"prdt_cd\":\"8809315590...\n",
       "\n",
       "[237978 rows x 1 columns]"
      ]
     },
     "execution_count": 321,
     "metadata": {},
     "output_type": "execute_result"
    }
   ],
   "source": [
    "%%bq\n",
    "\n",
    "SELECT *\n",
    "FROM temp_1d.app_review_keywords_json"
   ]
  },
  {
   "cell_type": "code",
   "execution_count": 322,
   "metadata": {
    "execution": {
     "iopub.execute_input": "2022-05-03T11:21:21.297481Z",
     "iopub.status.busy": "2022-05-03T11:21:21.297025Z",
     "iopub.status.idle": "2022-05-03T11:21:24.473059Z",
     "shell.execute_reply": "2022-05-03T11:21:24.472216Z",
     "shell.execute_reply.started": "2022-05-03T11:21:21.297445Z"
    },
    "tags": []
   },
   "outputs": [
    {
     "name": "stdout",
     "output_type": "stream",
     "text": [
      "+--------------------+\n",
      "|              VALUES|\n",
      "+--------------------+\n",
      "|{\"id\":\"152303\",\"V...|\n",
      "|{\"id\":\"43539\",\"VA...|\n",
      "|{\"id\":\"221486\",\"V...|\n",
      "|{\"id\":\"40574\",\"VA...|\n",
      "|{\"id\":\"35494\",\"VA...|\n",
      "|{\"id\":\"236474\",\"V...|\n",
      "|{\"id\":\"64984\",\"VA...|\n",
      "|{\"id\":\"185554\",\"V...|\n",
      "|{\"id\":\"87789\",\"VA...|\n",
      "|{\"id\":\"101018\",\"V...|\n",
      "|{\"id\":\"80264\",\"VA...|\n",
      "|{\"id\":\"177357\",\"V...|\n",
      "|{\"id\":\"70449\",\"VA...|\n",
      "|{\"id\":\"87397\",\"VA...|\n",
      "|{\"id\":\"19011\",\"VA...|\n",
      "|{\"id\":\"107335\",\"V...|\n",
      "|{\"id\":\"201156\",\"V...|\n",
      "|{\"id\":\"191157\",\"V...|\n",
      "|{\"id\":\"189143\",\"V...|\n",
      "|{\"id\":\"100083\",\"V...|\n",
      "+--------------------+\n",
      "only showing top 20 rows\n",
      "\n"
     ]
    }
   ],
   "source": [
    "df = bq_to_df(\"SELECT * FROM temp_1d.app_review_keywords_json\")\n",
    "df.show()"
   ]
  },
  {
   "cell_type": "code",
   "execution_count": 326,
   "metadata": {
    "execution": {
     "iopub.execute_input": "2022-05-03T11:32:40.285772Z",
     "iopub.status.busy": "2022-05-03T11:32:40.284722Z",
     "iopub.status.idle": "2022-05-03T11:32:44.517357Z",
     "shell.execute_reply": "2022-05-03T11:32:44.516634Z",
     "shell.execute_reply.started": "2022-05-03T11:32:40.285720Z"
    },
    "tags": []
   },
   "outputs": [
    {
     "name": "stderr",
     "output_type": "stream",
     "text": [
      "22/05/03 20:32:41 WARN org.apache.hadoop.fs.s3a.commit.AbstractS3ACommitterFactory: Using standard FileOutputCommitter to commit work. This is slow and potentially unsafe.\n",
      "                                                                                \r"
     ]
    }
   ],
   "source": [
    "df.write.mode(\"overwrite\").option(\"compression\", \"gzip\").text(destination)"
   ]
  },
  {
   "cell_type": "code",
   "execution_count": null,
   "metadata": {},
   "outputs": [],
   "source": []
  }
 ],
 "metadata": {
  "kernelspec": {
   "display_name": "Python 3 (ipykernel)",
   "language": "python",
   "name": "python3"
  },
  "language_info": {
   "codemirror_mode": {
    "name": "ipython",
    "version": 3
   },
   "file_extension": ".py",
   "mimetype": "text/x-python",
   "name": "python",
   "nbconvert_exporter": "python",
   "pygments_lexer": "ipython3",
   "version": "3.8.13"
  }
 },
 "nbformat": 4,
 "nbformat_minor": 4
}
