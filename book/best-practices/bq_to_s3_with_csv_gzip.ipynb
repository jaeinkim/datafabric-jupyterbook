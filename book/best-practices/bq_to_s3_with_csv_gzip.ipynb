{
 "cells": [
  {
   "cell_type": "code",
   "execution_count": 1,
   "metadata": {
    "execution": {
     "iopub.execute_input": "2022-05-03T07:07:06.744836Z",
     "iopub.status.busy": "2022-05-03T07:07:06.744325Z",
     "iopub.status.idle": "2022-05-03T07:07:06.751277Z",
     "shell.execute_reply": "2022-05-03T07:07:06.750649Z",
     "shell.execute_reply.started": "2022-05-03T07:07:06.744757Z"
    },
    "tags": [
     "parameters"
    ]
   },
   "outputs": [],
   "source": [
    "query = \"select * from smart-ruler-304409.product_attribute_module.app_review_keywords\"\n",
    "path = \"app_review_keywords\""
   ]
  },
  {
   "cell_type": "code",
   "execution_count": 2,
   "metadata": {
    "execution": {
     "iopub.execute_input": "2022-05-03T07:07:07.700672Z",
     "iopub.status.busy": "2022-05-03T07:07:07.700413Z",
     "iopub.status.idle": "2022-05-03T07:07:07.796164Z",
     "shell.execute_reply": "2022-05-03T07:07:07.795624Z",
     "shell.execute_reply.started": "2022-05-03T07:07:07.700645Z"
    },
    "tags": []
   },
   "outputs": [],
   "source": [
    "import os\n",
    "from pydatafabric.vault_utils import get_secrets\n",
    "aws_info = get_secrets(mount_point=\"datafabric\",path=\"mlops/access/data_loader\")"
   ]
  },
  {
   "cell_type": "code",
   "execution_count": 3,
   "metadata": {
    "execution": {
     "iopub.execute_input": "2022-05-03T07:07:08.769559Z",
     "iopub.status.busy": "2022-05-03T07:07:08.769302Z",
     "iopub.status.idle": "2022-05-03T07:07:08.773036Z",
     "shell.execute_reply": "2022-05-03T07:07:08.772309Z",
     "shell.execute_reply.started": "2022-05-03T07:07:08.769528Z"
    },
    "tags": []
   },
   "outputs": [],
   "source": [
    "bucket = \"mlops-loader-dev\"\n",
    "destination = f\"s3a://{bucket}/dynamodb/{path}/op=put/\""
   ]
  },
  {
   "cell_type": "code",
   "execution_count": 4,
   "metadata": {
    "execution": {
     "iopub.execute_input": "2022-05-03T07:07:10.330754Z",
     "iopub.status.busy": "2022-05-03T07:07:10.330511Z",
     "iopub.status.idle": "2022-05-03T07:07:20.362206Z",
     "shell.execute_reply": "2022-05-03T07:07:20.361465Z",
     "shell.execute_reply.started": "2022-05-03T07:07:10.330727Z"
    },
    "tags": []
   },
   "outputs": [
    {
     "name": "stderr",
     "output_type": "stream",
     "text": [
      "Setting default log level to \"WARN\".\n",
      "To adjust logging level use sc.setLogLevel(newLevel). For SparkR, use setLogLevel(newLevel).\n",
      "22/05/03 16:07:14 INFO org.apache.spark.SparkEnv: Registering MapOutputTracker\n",
      "22/05/03 16:07:14 INFO org.apache.spark.SparkEnv: Registering BlockManagerMaster\n",
      "22/05/03 16:07:14 INFO org.apache.spark.SparkEnv: Registering BlockManagerMasterHeartbeat\n",
      "22/05/03 16:07:14 INFO org.apache.spark.SparkEnv: Registering OutputCommitCoordinator\n"
     ]
    }
   ],
   "source": [
    "from pydatafabric.ye import get_spark\n",
    "\n",
    "spark = get_spark()\n",
    "spark.conf.set(\"fs.s3a.fast.upload.buffer\", \"disk\")\n",
    "spark.conf.set(\"fs.s3a.buffer.dir\", \"/tmp\")\n",
    "spark.conf.set(\"fs.s3a.access.key\", aws_info[\"aws_access_key_id\"])\n",
    "spark.conf.set(\"fs.s3a.secret.key\", aws_info[\"aws_secret_access_key\"])"
   ]
  },
  {
   "cell_type": "markdown",
   "metadata": {},
   "source": [
    "### gzip 압축 옵션 추가하여 저장"
   ]
  },
  {
   "cell_type": "code",
   "execution_count": 5,
   "metadata": {
    "execution": {
     "iopub.execute_input": "2022-05-03T07:07:20.364315Z",
     "iopub.status.busy": "2022-05-03T07:07:20.363993Z",
     "iopub.status.idle": "2022-05-03T07:07:41.128998Z",
     "shell.execute_reply": "2022-05-03T07:07:41.128261Z",
     "shell.execute_reply.started": "2022-05-03T07:07:20.364274Z"
    },
    "tags": []
   },
   "outputs": [
    {
     "name": "stderr",
     "output_type": "stream",
     "text": [
      "22/05/03 16:07:31 WARN org.apache.hadoop.fs.s3a.commit.AbstractS3ACommitterFactory: Using standard FileOutputCommitter to commit work. This is slow and potentially unsafe.\n",
      "                                                                                \r"
     ]
    }
   ],
   "source": [
    "from pydatafabric.gcp import bq_to_df\n",
    "\n",
    "df = bq_to_df(query, spark_session=spark)\n",
    "df.write.mode(\"overwrite\").option(\"compression\", \"gzip\").csv(destination)"
   ]
  },
  {
   "cell_type": "code",
   "execution_count": null,
   "metadata": {},
   "outputs": [],
   "source": []
  }
 ],
 "metadata": {
  "kernelspec": {
   "display_name": "Python 3 (ipykernel)",
   "language": "python",
   "name": "python3"
  },
  "language_info": {
   "codemirror_mode": {
    "name": "ipython",
    "version": 3
   },
   "file_extension": ".py",
   "mimetype": "text/x-python",
   "name": "python",
   "nbconvert_exporter": "python",
   "pygments_lexer": "ipython3",
   "version": "3.8.13"
  }
 },
 "nbformat": 4,
 "nbformat_minor": 4
}
