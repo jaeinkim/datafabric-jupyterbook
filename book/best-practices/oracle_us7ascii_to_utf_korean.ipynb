{
 "cells": [
  {
   "cell_type": "code",
   "execution_count": 1,
   "id": "7b4d95f3-5714-4a6f-9bea-907de65f0e65",
   "metadata": {
    "execution": {
     "iopub.execute_input": "2022-05-17T02:49:50.322596Z",
     "iopub.status.busy": "2022-05-17T02:49:50.322185Z",
     "iopub.status.idle": "2022-05-17T02:49:50.589445Z",
     "shell.execute_reply": "2022-05-17T02:49:50.588869Z",
     "shell.execute_reply.started": "2022-05-17T02:49:50.322529Z"
    },
    "tags": []
   },
   "outputs": [],
   "source": [
    "from pydatafabric.vault_utils import get_secrets\n",
    "\n",
    "oracle_info = get_secrets(mount_point=\"datafabric\", path=\"oracle/entsal/prd\")"
   ]
  },
  {
   "cell_type": "code",
   "execution_count": 2,
   "id": "d4e94827-c5c9-4685-870b-d0ee019db400",
   "metadata": {
    "execution": {
     "iopub.execute_input": "2022-05-17T02:49:51.375290Z",
     "iopub.status.busy": "2022-05-17T02:49:51.374941Z",
     "iopub.status.idle": "2022-05-17T02:50:00.364230Z",
     "shell.execute_reply": "2022-05-17T02:50:00.363602Z",
     "shell.execute_reply.started": "2022-05-17T02:49:51.375269Z"
    },
    "tags": []
   },
   "outputs": [
    {
     "name": "stderr",
     "output_type": "stream",
     "text": [
      "Setting default log level to \"WARN\".\n",
      "To adjust logging level use sc.setLogLevel(newLevel). For SparkR, use setLogLevel(newLevel).\n",
      "22/05/17 11:49:55 INFO org.apache.spark.SparkEnv: Registering MapOutputTracker\n",
      "22/05/17 11:49:55 INFO org.apache.spark.SparkEnv: Registering BlockManagerMaster\n",
      "22/05/17 11:49:55 INFO org.apache.spark.SparkEnv: Registering BlockManagerMasterHeartbeat\n",
      "22/05/17 11:49:55 INFO org.apache.spark.SparkEnv: Registering OutputCommitCoordinator\n"
     ]
    }
   ],
   "source": [
    "from pydatafabric.ye import get_spark\n",
    "spark = get_spark(extra_jars=\"gs://emart-datafabric-resources/jars/ojdbc8.jar,gs://emart-datafabric-resources/jars/orai18n.jar\")\n"
   ]
  },
  {
   "cell_type": "code",
   "execution_count": 3,
   "id": "36196897-3278-4e04-9fce-74039b0fd54e",
   "metadata": {
    "execution": {
     "iopub.execute_input": "2022-05-17T02:50:12.292536Z",
     "iopub.status.busy": "2022-05-17T02:50:12.292158Z",
     "iopub.status.idle": "2022-05-17T02:50:12.296302Z",
     "shell.execute_reply": "2022-05-17T02:50:12.295682Z",
     "shell.execute_reply.started": "2022-05-17T02:50:12.292507Z"
    },
    "tags": []
   },
   "outputs": [],
   "source": [
    "spark.conf.set(\"spark.sql.debug.maxToStringFields\", 2000)"
   ]
  },
  {
   "cell_type": "code",
   "execution_count": 4,
   "id": "59e9b19d-6dd6-4187-96b9-73dae12f7e7c",
   "metadata": {
    "execution": {
     "iopub.execute_input": "2022-05-17T02:50:27.182070Z",
     "iopub.status.busy": "2022-05-17T02:50:27.181662Z",
     "iopub.status.idle": "2022-05-17T02:50:27.186450Z",
     "shell.execute_reply": "2022-05-17T02:50:27.185879Z",
     "shell.execute_reply.started": "2022-05-17T02:50:27.182045Z"
    },
    "tags": []
   },
   "outputs": [],
   "source": [
    "from functools import reduce\n",
    "\n",
    "# AMERICAN_AMERICA.US7ASCII\n",
    "# KOREAN_KOREA.KO16MSWIN949\n",
    "# KOREAN_KOREA.KO16KSC5601\n",
    "# KOREAN_KOREA.AL32UTF8\n",
    "    \n",
    "def read_oracle_to_df(spark, dbtable):\n",
    "    df = spark.read.format(\"jdbc\") \\\n",
    "        .option(\"url\", oracle_info['jdbc_url']) \\\n",
    "        .option(\"user\", oracle_info['user']) \\\n",
    "        .option(\"password\", oracle_info['password']) \\\n",
    "        .option(\"driver\", \"oracle.jdbc.driver.OracleDriver\") \\\n",
    "        .option(\"oracle.jdbc.timezoneAsRegion\", \"false\") \\\n",
    "        .option(\"dbtable\", dbtable) \\\n",
    "        .load()\n",
    "    return df\n",
    "\n",
    "def convert_col(col):\n",
    "    return \"\".join([c.lower() if c.isupper() else c for c in col])"
   ]
  },
  {
   "cell_type": "code",
   "execution_count": 5,
   "id": "d86758fd-e84f-4f5f-944c-16cd30d613ef",
   "metadata": {
    "execution": {
     "iopub.execute_input": "2022-05-17T02:50:51.743765Z",
     "iopub.status.busy": "2022-05-17T02:50:51.743382Z",
     "iopub.status.idle": "2022-05-17T02:50:53.749546Z",
     "shell.execute_reply": "2022-05-17T02:50:53.748997Z",
     "shell.execute_reply.started": "2022-05-17T02:50:51.743738Z"
    },
    "tags": []
   },
   "outputs": [],
   "source": [
    "df = read_oracle_to_df(spark, \"(SELECT UTL_RAW.CAST_TO_RAW(CONVERT(COMMENTS, 'AL32UTF8', 'KO16KSC5601')) AS COMMENTS FROM ALL_COL_COMMENTS WHERE TABLE_NAME = 'GTPSS_MALL_SALE') INPUT\")\n",
    "# df = read_oracle_to_df(spark, \"(SELECT UTL_RAW.CAST_TO_VARCHAR2(UTL_RAW.CAST_TO_RAW(CONVERT(COMMENTS, 'AL32UTF8', 'KO16KSC5601'))) AS COMMENTS FROM ALL_COL_COMMENTS WHERE TABLE_NAME = 'GTPSS_MALL_SALE') INPUT\")"
   ]
  },
  {
   "cell_type": "code",
   "execution_count": 6,
   "id": "db87b339-8f2d-455c-8549-4060e52a1d4d",
   "metadata": {
    "execution": {
     "iopub.execute_input": "2022-05-17T02:50:57.395024Z",
     "iopub.status.busy": "2022-05-17T02:50:57.394618Z",
     "iopub.status.idle": "2022-05-17T02:51:00.173568Z",
     "shell.execute_reply": "2022-05-17T02:51:00.172986Z",
     "shell.execute_reply.started": "2022-05-17T02:50:57.394998Z"
    },
    "tags": []
   },
   "outputs": [
    {
     "name": "stdout",
     "output_type": "stream",
     "text": [
      "root\n",
      " |-- comments: binary (nullable = true)\n",
      "\n"
     ]
    },
    {
     "name": "stderr",
     "output_type": "stream",
     "text": [
      "[Stage 0:>                                                          (0 + 1) / 1]\r"
     ]
    },
    {
     "name": "stdout",
     "output_type": "stream",
     "text": [
      "+-------------------------------------------------------+\n",
      "|comments                                               |\n",
      "+-------------------------------------------------------+\n",
      "|[53 53 47 EB B6 80 EB 8B B4 EC 97 90 EB 88 84 EB A6 AC]|\n",
      "+-------------------------------------------------------+\n",
      "only showing top 1 row\n",
      "\n"
     ]
    },
    {
     "name": "stderr",
     "output_type": "stream",
     "text": [
      "                                                                                \r"
     ]
    }
   ],
   "source": [
    "from pyspark.sql.functions import *\n",
    "\n",
    "# DataFrame의 스키마 이름 가져옴\n",
    "cols = df.schema.names\n",
    "\n",
    "# DataFrame Column 이름을 소문자로 변환\n",
    "df = reduce(lambda _df, col: _df.withColumnRenamed(col, convert_col(col)), [df, *cols])\n",
    "df.printSchema()\n",
    "\n",
    "df.show(n=1, truncate=False, vertical=False)"
   ]
  },
  {
   "cell_type": "code",
   "execution_count": 7,
   "id": "2fc41c0a-016c-49cb-8369-708103f69703",
   "metadata": {
    "execution": {
     "iopub.execute_input": "2022-05-17T02:52:03.628905Z",
     "iopub.status.busy": "2022-05-17T02:52:03.628521Z",
     "iopub.status.idle": "2022-05-17T02:52:14.369611Z",
     "shell.execute_reply": "2022-05-17T02:52:14.369069Z",
     "shell.execute_reply.started": "2022-05-17T02:52:03.628882Z"
    },
    "tags": []
   },
   "outputs": [
    {
     "name": "stderr",
     "output_type": "stream",
     "text": [
      "                                                                                \r"
     ]
    }
   ],
   "source": [
    "from pydatafabric.gcp import df_to_bq_table, bq_insert_overwrite\n",
    "\n",
    "gcp_table = \"us7ascii_to_utf\"\n",
    "\n",
    "df_to_bq_table(df, \"temp_1d\", f\"{gcp_table}\", project=\"emart-datafabric\", mode=\"overwrite\")    "
   ]
  },
  {
   "cell_type": "code",
   "execution_count": 8,
   "id": "382c99ac-6e3a-41f8-97b7-d5ade6a04d64",
   "metadata": {
    "execution": {
     "iopub.execute_input": "2022-05-17T02:52:20.847845Z",
     "iopub.status.busy": "2022-05-17T02:52:20.847443Z",
     "iopub.status.idle": "2022-05-17T02:52:21.571762Z",
     "shell.execute_reply": "2022-05-17T02:52:21.571232Z",
     "shell.execute_reply.started": "2022-05-17T02:52:20.847820Z"
    },
    "tags": []
   },
   "outputs": [],
   "source": [
    "from pydatafabric.gcp import get_bigquery_client\n",
    "\n",
    "bq = get_bigquery_client(project=\"emart-datafabric\") # 프로젝트 꼭 지정\n",
    "r = bq.query(f\"SELECT SAFE_CONVERT_BYTES_TO_STRING(comments) FROM temp_1d.{gcp_table} LIMIT 10\")"
   ]
  },
  {
   "cell_type": "code",
   "execution_count": 9,
   "id": "42d084b3-e198-4d63-b5ed-3482cb52c46e",
   "metadata": {
    "execution": {
     "iopub.execute_input": "2022-05-17T02:52:22.382715Z",
     "iopub.status.busy": "2022-05-17T02:52:22.382361Z",
     "iopub.status.idle": "2022-05-17T02:52:23.451558Z",
     "shell.execute_reply": "2022-05-17T02:52:23.451120Z",
     "shell.execute_reply.started": "2022-05-17T02:52:22.382693Z"
    },
    "tags": []
   },
   "outputs": [
    {
     "data": {
      "text/html": [
       "<div>\n",
       "<style scoped>\n",
       "    .dataframe tbody tr th:only-of-type {\n",
       "        vertical-align: middle;\n",
       "    }\n",
       "\n",
       "    .dataframe tbody tr th {\n",
       "        vertical-align: top;\n",
       "    }\n",
       "\n",
       "    .dataframe thead th {\n",
       "        text-align: right;\n",
       "    }\n",
       "</style>\n",
       "<table border=\"1\" class=\"dataframe\">\n",
       "  <thead>\n",
       "    <tr style=\"text-align: right;\">\n",
       "      <th></th>\n",
       "      <th>f0_</th>\n",
       "    </tr>\n",
       "  </thead>\n",
       "  <tbody>\n",
       "    <tr>\n",
       "      <th>0</th>\n",
       "      <td>SSG부담에누리</td>\n",
       "    </tr>\n",
       "    <tr>\n",
       "      <th>1</th>\n",
       "      <td>영업일자</td>\n",
       "    </tr>\n",
       "    <tr>\n",
       "      <th>2</th>\n",
       "      <td>점포코드</td>\n",
       "    </tr>\n",
       "    <tr>\n",
       "      <th>3</th>\n",
       "      <td>계획금액</td>\n",
       "    </tr>\n",
       "    <tr>\n",
       "      <th>4</th>\n",
       "      <td>당월매출계획누계금액</td>\n",
       "    </tr>\n",
       "    <tr>\n",
       "      <th>5</th>\n",
       "      <td>금년매출계획누계금액</td>\n",
       "    </tr>\n",
       "    <tr>\n",
       "      <th>6</th>\n",
       "      <td>매출수량</td>\n",
       "    </tr>\n",
       "    <tr>\n",
       "      <th>7</th>\n",
       "      <td>매출금액</td>\n",
       "    </tr>\n",
       "    <tr>\n",
       "      <th>8</th>\n",
       "      <td>고객수</td>\n",
       "    </tr>\n",
       "    <tr>\n",
       "      <th>9</th>\n",
       "      <td>에누리금액</td>\n",
       "    </tr>\n",
       "  </tbody>\n",
       "</table>\n",
       "</div>"
      ],
      "text/plain": [
       "          f0_\n",
       "0    SSG부담에누리\n",
       "1        영업일자\n",
       "2        점포코드\n",
       "3        계획금액\n",
       "4  당월매출계획누계금액\n",
       "5  금년매출계획누계금액\n",
       "6        매출수량\n",
       "7        매출금액\n",
       "8         고객수\n",
       "9       에누리금액"
      ]
     },
     "execution_count": 9,
     "metadata": {},
     "output_type": "execute_result"
    }
   ],
   "source": [
    "df = r.result().to_dataframe()\n",
    "df"
   ]
  },
  {
   "cell_type": "code",
   "execution_count": 10,
   "id": "b268f522-4269-44b7-898d-b6cf3c4c6e7a",
   "metadata": {
    "execution": {
     "iopub.execute_input": "2022-05-17T02:52:27.359841Z",
     "iopub.status.busy": "2022-05-17T02:52:27.359449Z",
     "iopub.status.idle": "2022-05-17T02:52:27.867089Z",
     "shell.execute_reply": "2022-05-17T02:52:27.866552Z",
     "shell.execute_reply.started": "2022-05-17T02:52:27.359816Z"
    },
    "tags": []
   },
   "outputs": [],
   "source": [
    "spark.stop()"
   ]
  },
  {
   "cell_type": "code",
   "execution_count": null,
   "id": "b4a7b0a6-83e7-4542-97eb-c576ca6588ac",
   "metadata": {},
   "outputs": [],
   "source": []
  }
 ],
 "metadata": {
  "kernelspec": {
   "display_name": "Python 3 (ipykernel)",
   "language": "python",
   "name": "python3"
  },
  "language_info": {
   "codemirror_mode": {
    "name": "ipython",
    "version": 3
   },
   "file_extension": ".py",
   "mimetype": "text/x-python",
   "name": "python",
   "nbconvert_exporter": "python",
   "pygments_lexer": "ipython3",
   "version": "3.8.13"
  }
 },
 "nbformat": 4,
 "nbformat_minor": 5
}
