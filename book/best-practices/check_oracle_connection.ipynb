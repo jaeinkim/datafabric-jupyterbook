{
 "cells": [
  {
   "cell_type": "code",
   "execution_count": 1,
   "metadata": {
    "execution": {
     "iopub.execute_input": "2022-09-28T03:42:59.777473Z",
     "iopub.status.busy": "2022-09-28T03:42:59.777046Z",
     "iopub.status.idle": "2022-09-28T03:43:03.817576Z",
     "shell.execute_reply": "2022-09-28T03:43:03.816894Z",
     "shell.execute_reply.started": "2022-09-28T03:42:59.777399Z"
    },
    "tags": []
   },
   "outputs": [
    {
     "name": "stdout",
     "output_type": "stream",
     "text": [
      "Defaulting to user installation because normal site-packages is not writeable\n",
      "Requirement already satisfied: pydatafabric in /opt/conda/lib/python3.8/site-packages (0.4.15)\n",
      "Requirement already satisfied: packaging in /opt/conda/lib/python3.8/site-packages (from pydatafabric) (21.3)\n",
      "Requirement already satisfied: tabulate>=0.8.7 in /opt/conda/lib/python3.8/site-packages (from pydatafabric) (0.8.10)\n",
      "Requirement already satisfied: grpcio-status==1.44.0 in /opt/conda/lib/python3.8/site-packages (from pydatafabric) (1.44.0)\n",
      "Requirement already satisfied: google-api-core<3.0.0,>=2.0.0 in /opt/conda/lib/python3.8/site-packages (from pydatafabric) (2.10.1)\n",
      "Requirement already satisfied: dvc[s3]==2.9.5 in /opt/conda/lib/python3.8/site-packages (from pydatafabric) (2.9.5)\n",
      "Requirement already satisfied: testresources in /opt/conda/lib/python3.8/site-packages (from pydatafabric) (2.0.1)\n",
      "Requirement already satisfied: google-cloud-core<3.0.0,>=2.0.0 in /opt/conda/lib/python3.8/site-packages (from pydatafabric) (2.3.2)\n",
      "Requirement already satisfied: hmsclient-hive-3 in /opt/conda/lib/python3.8/site-packages (from pydatafabric) (0.1.1)\n",
      "Requirement already satisfied: sqlalchemy>=1.4.0 in /opt/conda/lib/python3.8/site-packages (from pydatafabric) (1.4.41)\n",
      "Requirement already satisfied: tqdm>=4.63.0 in /opt/conda/lib/python3.8/site-packages (from pydatafabric) (4.64.1)\n",
      "Requirement already satisfied: google-auth-oauthlib<0.5,>=0.4.1 in /opt/conda/lib/python3.8/site-packages (from pydatafabric) (0.4.6)\n",
      "Requirement already satisfied: gcsfs in /home/x223726/.local/lib/python3.8/site-packages (from pydatafabric) (2022.5.0)\n",
      "Requirement already satisfied: thrift-sasl==0.4.3 in /opt/conda/lib/python3.8/site-packages (from pydatafabric) (0.4.3)\n",
      "Requirement already satisfied: hvac==0.11.2 in /opt/conda/lib/python3.8/site-packages (from pydatafabric) (0.11.2)\n",
      "Requirement already satisfied: ipywidgets in /opt/conda/lib/python3.8/site-packages (from pydatafabric) (8.0.2)\n",
      "Requirement already satisfied: pyhive[hive]==0.6.5 in /opt/conda/lib/python3.8/site-packages (from pydatafabric) (0.6.5)\n",
      "Requirement already satisfied: google-cloud-storage<3.0.0,>=2.0.0 in /opt/conda/lib/python3.8/site-packages (from pydatafabric) (2.5.0)\n",
      "Requirement already satisfied: pandas==1.3.5 in /opt/conda/lib/python3.8/site-packages (from pydatafabric) (1.3.5)\n",
      "Requirement already satisfied: grpcio==1.44.0 in /home/x223726/.local/lib/python3.8/site-packages (from pydatafabric) (1.44.0)\n",
      "Requirement already satisfied: click in /opt/conda/lib/python3.8/site-packages (from pydatafabric) (8.1.3)\n",
      "Requirement already satisfied: PyGithub in /opt/conda/lib/python3.8/site-packages (from pydatafabric) (1.55)\n",
      "Requirement already satisfied: requests<3.0.0,>=2.26.0 in /opt/conda/lib/python3.8/site-packages (from pydatafabric) (2.28.1)\n",
      "Requirement already satisfied: google-cloud-common<2.0.0,>=1.0.0 in /opt/conda/lib/python3.8/site-packages (from pydatafabric) (1.0.4)\n",
      "Requirement already satisfied: python-dateutil>=2.8.2 in /opt/conda/lib/python3.8/site-packages (from pydatafabric) (2.8.2)\n",
      "Requirement already satisfied: pyarrow==6.0.1 in /opt/conda/lib/python3.8/site-packages (from pydatafabric) (6.0.1)\n",
      "Requirement already satisfied: slackclient>=2.9.0 in /opt/conda/lib/python3.8/site-packages (from pydatafabric) (2.9.4)\n",
      "Requirement already satisfied: httplib2>=0.20.0 in /opt/conda/lib/python3.8/site-packages (from pydatafabric) (0.20.4)\n",
      "Requirement already satisfied: google-api-python-client<3.0.0,>=2.34.0 in /opt/conda/lib/python3.8/site-packages (from pydatafabric) (2.62.0)\n",
      "Requirement already satisfied: google-auth<3.0.0,>=2.0.0 in /opt/conda/lib/python3.8/site-packages (from pydatafabric) (2.11.1)\n",
      "Requirement already satisfied: db-dtypes<2.0.0,>=0.4.0 in /opt/conda/lib/python3.8/site-packages (from pydatafabric) (1.0.4)\n",
      "Requirement already satisfied: protobuf<4.0.0,>=3.0.0 in /home/x223726/.local/lib/python3.8/site-packages (from pydatafabric) (3.20.2)\n",
      "Requirement already satisfied: google-cloud-bigtable<3.0.0,>=2.0.0 in /opt/conda/lib/python3.8/site-packages (from pydatafabric) (2.12.0)\n",
      "Requirement already satisfied: googleapis-common-protos<2.0.0,>=1.55.0 in /opt/conda/lib/python3.8/site-packages (from pydatafabric) (1.56.4)\n",
      "Requirement already satisfied: pycryptodome in /opt/conda/lib/python3.8/site-packages (from pydatafabric) (3.15.0)\n",
      "Requirement already satisfied: redis in /opt/conda/lib/python3.8/site-packages (from pydatafabric) (4.3.4)\n",
      "Requirement already satisfied: google-cloud-monitoring<3.0.0,>=2.0.0 in /opt/conda/lib/python3.8/site-packages (from pydatafabric) (2.11.1)\n",
      "Requirement already satisfied: google-cloud-datacatalog<4.0.0,>=3.0.0 in /opt/conda/lib/python3.8/site-packages (from pydatafabric) (3.9.1)\n",
      "Requirement already satisfied: google-cloud-bigquery<4.0.0,>=3.0.0 in /home/x223726/.local/lib/python3.8/site-packages (from pydatafabric) (3.2.0)\n",
      "Requirement already satisfied: colorama>=0.3.9 in /opt/conda/lib/python3.8/site-packages (from dvc[s3]==2.9.5->pydatafabric) (0.4.5)\n",
      "Requirement already satisfied: aiohttp-retry>=2.4.5 in /opt/conda/lib/python3.8/site-packages (from dvc[s3]==2.9.5->pydatafabric) (2.8.3)\n",
      "Requirement already satisfied: pygtrie>=2.3.2 in /opt/conda/lib/python3.8/site-packages (from dvc[s3]==2.9.5->pydatafabric) (2.5.0)\n",
      "Requirement already satisfied: rich>=10.13.0 in /opt/conda/lib/python3.8/site-packages (from dvc[s3]==2.9.5->pydatafabric) (12.5.1)\n",
      "Requirement already satisfied: pyasn1>=0.4.1 in /opt/conda/lib/python3.8/site-packages (from dvc[s3]==2.9.5->pydatafabric) (0.4.8)\n",
      "Requirement already satisfied: configobj>=5.0.6 in /opt/conda/lib/python3.8/site-packages (from dvc[s3]==2.9.5->pydatafabric) (5.0.6)\n",
      "Requirement already satisfied: flufl.lock>=5 in /opt/conda/lib/python3.8/site-packages (from dvc[s3]==2.9.5->pydatafabric) (7.1.1)\n",
      "Requirement already satisfied: pathspec<0.10.0,>=0.9.0 in /opt/conda/lib/python3.8/site-packages (from dvc[s3]==2.9.5->pydatafabric) (0.9.0)\n",
      "Requirement already satisfied: networkx>=2.5 in /opt/conda/lib/python3.8/site-packages (from dvc[s3]==2.9.5->pydatafabric) (2.8.6)\n",
      "Requirement already satisfied: diskcache>=5.2.1 in /opt/conda/lib/python3.8/site-packages (from dvc[s3]==2.9.5->pydatafabric) (5.4.0)\n",
      "Requirement already satisfied: python-benedict>=0.24.2 in /opt/conda/lib/python3.8/site-packages (from dvc[s3]==2.9.5->pydatafabric) (0.25.4)\n",
      "Requirement already satisfied: pydot>=1.2.4 in /opt/conda/lib/python3.8/site-packages (from dvc[s3]==2.9.5->pydatafabric) (1.4.2)\n",
      "Requirement already satisfied: distro>=1.3.0 in /opt/conda/lib/python3.8/site-packages (from dvc[s3]==2.9.5->pydatafabric) (1.7.0)\n",
      "Requirement already satisfied: zc.lockfile>=1.2.1 in /opt/conda/lib/python3.8/site-packages (from dvc[s3]==2.9.5->pydatafabric) (2.0)\n",
      "Requirement already satisfied: shortuuid>=0.5.0 in /opt/conda/lib/python3.8/site-packages (from dvc[s3]==2.9.5->pydatafabric) (1.0.9)\n",
      "Requirement already satisfied: ruamel.yaml>=0.17.11 in /opt/conda/lib/python3.8/site-packages (from dvc[s3]==2.9.5->pydatafabric) (0.17.21)\n",
      "Requirement already satisfied: toml>=0.10.1 in /opt/conda/lib/python3.8/site-packages (from dvc[s3]==2.9.5->pydatafabric) (0.10.2)\n",
      "Requirement already satisfied: funcy>=1.14 in /opt/conda/lib/python3.8/site-packages (from dvc[s3]==2.9.5->pydatafabric) (1.17)\n",
      "Requirement already satisfied: importlib-resources>=5.2.2 in /opt/conda/lib/python3.8/site-packages (from dvc[s3]==2.9.5->pydatafabric) (5.9.0)\n",
      "Requirement already satisfied: dictdiffer>=0.8.1 in /opt/conda/lib/python3.8/site-packages (from dvc[s3]==2.9.5->pydatafabric) (0.9.0)\n",
      "Requirement already satisfied: fsspec[http]>=2021.10.1 in /home/x223726/.local/lib/python3.8/site-packages (from dvc[s3]==2.9.5->pydatafabric) (2022.5.0)\n",
      "Requirement already satisfied: nanotime>=0.5.2 in /opt/conda/lib/python3.8/site-packages (from dvc[s3]==2.9.5->pydatafabric) (0.5.2)\n",
      "Requirement already satisfied: scmrepo==0.0.7 in /opt/conda/lib/python3.8/site-packages (from dvc[s3]==2.9.5->pydatafabric) (0.0.7)\n",
      "Requirement already satisfied: grandalf==0.6 in /opt/conda/lib/python3.8/site-packages (from dvc[s3]==2.9.5->pydatafabric) (0.6)\n",
      "Requirement already satisfied: appdirs>=1.4.3 in /opt/conda/lib/python3.8/site-packages (from dvc[s3]==2.9.5->pydatafabric) (1.4.4)\n",
      "Requirement already satisfied: voluptuous>=0.11.7 in /opt/conda/lib/python3.8/site-packages (from dvc[s3]==2.9.5->pydatafabric) (0.13.1)\n",
      "Requirement already satisfied: psutil>=5.8.0 in /opt/conda/lib/python3.8/site-packages (from dvc[s3]==2.9.5->pydatafabric) (5.9.2)\n",
      "Requirement already satisfied: pyparsing>=2.4.7 in /opt/conda/lib/python3.8/site-packages (from dvc[s3]==2.9.5->pydatafabric) (3.0.9)\n",
      "Requirement already satisfied: shtab<2,>=1.3.4 in /opt/conda/lib/python3.8/site-packages (from dvc[s3]==2.9.5->pydatafabric) (1.5.5)\n",
      "Requirement already satisfied: ply>=3.9 in /opt/conda/lib/python3.8/site-packages (from dvc[s3]==2.9.5->pydatafabric) (3.11)\n",
      "Requirement already satisfied: flatten-dict<1,>=0.4.1 in /opt/conda/lib/python3.8/site-packages (from dvc[s3]==2.9.5->pydatafabric) (0.4.2)\n",
      "Requirement already satisfied: dpath<3,>=2.0.2 in /opt/conda/lib/python3.8/site-packages (from dvc[s3]==2.9.5->pydatafabric) (2.0.6)\n",
      "Requirement already satisfied: typing-extensions>=3.7.4 in /opt/conda/lib/python3.8/site-packages (from dvc[s3]==2.9.5->pydatafabric) (4.3.0)\n",
      "Requirement already satisfied: s3fs[boto3]>=2021.11.1 in /home/x223726/.local/lib/python3.8/site-packages (from dvc[s3]==2.9.5->pydatafabric) (2022.5.0)\n",
      "Requirement already satisfied: six>=1.5.2 in /opt/conda/lib/python3.8/site-packages (from grpcio==1.44.0->pydatafabric) (1.16.0)\n",
      "Requirement already satisfied: pytz>=2017.3 in /opt/conda/lib/python3.8/site-packages (from pandas==1.3.5->pydatafabric) (2022.2.1)\n",
      "Requirement already satisfied: numpy>=1.17.3 in /opt/conda/lib/python3.8/site-packages (from pandas==1.3.5->pydatafabric) (1.22.1)\n",
      "Requirement already satisfied: future in /opt/conda/lib/python3.8/site-packages (from pyhive[hive]==0.6.5->pydatafabric) (0.18.2)\n",
      "Requirement already satisfied: thrift>=0.10.0 in /opt/conda/lib/python3.8/site-packages (from pyhive[hive]==0.6.5->pydatafabric) (0.16.0)\n",
      "Requirement already satisfied: sasl>=0.2.1 in /opt/conda/lib/python3.8/site-packages (from pyhive[hive]==0.6.5->pydatafabric) (0.3.1)\n",
      "Requirement already satisfied: pure-sasl>=0.6.2 in /opt/conda/lib/python3.8/site-packages (from thrift-sasl==0.4.3->pydatafabric) (0.6.2)\n",
      "Requirement already satisfied: gitpython>3 in /opt/conda/lib/python3.8/site-packages (from scmrepo==0.0.7->dvc[s3]==2.9.5->pydatafabric) (3.1.27)\n",
      "Requirement already satisfied: asyncssh<2.9,>=2.7.1 in /opt/conda/lib/python3.8/site-packages (from scmrepo==0.0.7->dvc[s3]==2.9.5->pydatafabric) (2.8.1)\n",
      "Requirement already satisfied: pygit2>=1.5.0 in /opt/conda/lib/python3.8/site-packages (from scmrepo==0.0.7->dvc[s3]==2.9.5->pydatafabric) (1.10.1)\n",
      "Requirement already satisfied: dulwich>=0.20.23 in /opt/conda/lib/python3.8/site-packages (from scmrepo==0.0.7->dvc[s3]==2.9.5->pydatafabric) (0.20.46)\n",
      "Requirement already satisfied: google-auth-httplib2>=0.1.0 in /opt/conda/lib/python3.8/site-packages (from google-api-python-client<3.0.0,>=2.34.0->pydatafabric) (0.1.0)\n",
      "Requirement already satisfied: uritemplate<5,>=3.0.1 in /opt/conda/lib/python3.8/site-packages (from google-api-python-client<3.0.0,>=2.34.0->pydatafabric) (4.1.1)\n",
      "Requirement already satisfied: cachetools<6.0,>=2.0.0 in /opt/conda/lib/python3.8/site-packages (from google-auth<3.0.0,>=2.0.0->pydatafabric) (5.2.0)\n",
      "Requirement already satisfied: pyasn1-modules>=0.2.1 in /opt/conda/lib/python3.8/site-packages (from google-auth<3.0.0,>=2.0.0->pydatafabric) (0.2.8)\n",
      "Requirement already satisfied: rsa<5,>=3.1.4 in /opt/conda/lib/python3.8/site-packages (from google-auth<3.0.0,>=2.0.0->pydatafabric) (4.9)\n",
      "Requirement already satisfied: requests-oauthlib>=0.7.0 in /opt/conda/lib/python3.8/site-packages (from google-auth-oauthlib<0.5,>=0.4.1->pydatafabric) (1.3.1)\n",
      "Requirement already satisfied: google-cloud-bigquery-storage<3.0.0dev,>=2.0.0 in /opt/conda/lib/python3.8/site-packages (from google-cloud-bigquery<4.0.0,>=3.0.0->pydatafabric) (2.16.0)\n",
      "Requirement already satisfied: google-resumable-media<3.0dev,>=0.6.0 in /opt/conda/lib/python3.8/site-packages (from google-cloud-bigquery<4.0.0,>=3.0.0->pydatafabric) (2.3.3)\n",
      "Requirement already satisfied: proto-plus<2.0.0dev,>=1.15.0 in /opt/conda/lib/python3.8/site-packages (from google-cloud-bigquery<4.0.0,>=3.0.0->pydatafabric) (1.22.1)\n",
      "Requirement already satisfied: grpc-google-iam-v1<1.0.0dev,>=0.12.4 in /opt/conda/lib/python3.8/site-packages (from google-cloud-bigtable<3.0.0,>=2.0.0->pydatafabric) (0.12.4)\n",
      "Requirement already satisfied: certifi>=2017.4.17 in /opt/conda/lib/python3.8/site-packages (from requests<3.0.0,>=2.26.0->pydatafabric) (2022.9.24)\n",
      "Requirement already satisfied: idna<4,>=2.5 in /opt/conda/lib/python3.8/site-packages (from requests<3.0.0,>=2.26.0->pydatafabric) (3.4)\n",
      "Requirement already satisfied: charset-normalizer<3,>=2 in /opt/conda/lib/python3.8/site-packages (from requests<3.0.0,>=2.26.0->pydatafabric) (2.1.1)\n",
      "Requirement already satisfied: urllib3<1.27,>=1.21.1 in /opt/conda/lib/python3.8/site-packages (from requests<3.0.0,>=2.26.0->pydatafabric) (1.26.12)\n",
      "Requirement already satisfied: aiohttp<4.0.0,>3.5.2 in /opt/conda/lib/python3.8/site-packages (from slackclient>=2.9.0->pydatafabric) (3.8.3)\n",
      "Requirement already satisfied: greenlet!=0.4.17 in /opt/conda/lib/python3.8/site-packages (from sqlalchemy>=1.4.0->pydatafabric) (1.1.3)\n",
      "Requirement already satisfied: decorator>4.1.2 in /opt/conda/lib/python3.8/site-packages (from gcsfs->pydatafabric) (5.1.1)\n",
      "Requirement already satisfied: widgetsnbextension~=4.0 in /opt/conda/lib/python3.8/site-packages (from ipywidgets->pydatafabric) (4.0.3)\n",
      "Requirement already satisfied: jupyterlab-widgets~=3.0 in /opt/conda/lib/python3.8/site-packages (from ipywidgets->pydatafabric) (3.0.3)\n",
      "Requirement already satisfied: traitlets>=4.3.1 in /opt/conda/lib/python3.8/site-packages (from ipywidgets->pydatafabric) (5.4.0)\n",
      "Requirement already satisfied: ipykernel>=4.5.1 in /opt/conda/lib/python3.8/site-packages (from ipywidgets->pydatafabric) (6.16.0)\n",
      "Requirement already satisfied: ipython>=6.1.0 in /opt/conda/lib/python3.8/site-packages (from ipywidgets->pydatafabric) (8.5.0)\n",
      "Requirement already satisfied: pynacl>=1.4.0 in /opt/conda/lib/python3.8/site-packages (from PyGithub->pydatafabric) (1.5.0)\n",
      "Requirement already satisfied: deprecated in /opt/conda/lib/python3.8/site-packages (from PyGithub->pydatafabric) (1.2.13)\n",
      "Requirement already satisfied: pyjwt>=2.0 in /opt/conda/lib/python3.8/site-packages (from PyGithub->pydatafabric) (2.5.0)\n",
      "Requirement already satisfied: async-timeout>=4.0.2 in /opt/conda/lib/python3.8/site-packages (from redis->pydatafabric) (4.0.2)\n",
      "Requirement already satisfied: pbr>=1.8 in /opt/conda/lib/python3.8/site-packages (from testresources->pydatafabric) (5.10.0)\n",
      "Requirement already satisfied: attrs>=17.3.0 in /opt/conda/lib/python3.8/site-packages (from aiohttp<4.0.0,>3.5.2->slackclient>=2.9.0->pydatafabric) (22.1.0)\n",
      "Requirement already satisfied: frozenlist>=1.1.1 in /opt/conda/lib/python3.8/site-packages (from aiohttp<4.0.0,>3.5.2->slackclient>=2.9.0->pydatafabric) (1.3.1)\n",
      "Requirement already satisfied: yarl<2.0,>=1.0 in /opt/conda/lib/python3.8/site-packages (from aiohttp<4.0.0,>3.5.2->slackclient>=2.9.0->pydatafabric) (1.8.1)\n",
      "Requirement already satisfied: multidict<7.0,>=4.5 in /opt/conda/lib/python3.8/site-packages (from aiohttp<4.0.0,>3.5.2->slackclient>=2.9.0->pydatafabric) (6.0.2)\n",
      "Requirement already satisfied: aiosignal>=1.1.2 in /opt/conda/lib/python3.8/site-packages (from aiohttp<4.0.0,>3.5.2->slackclient>=2.9.0->pydatafabric) (1.2.0)\n",
      "Requirement already satisfied: wrapt<2,>=1.10 in /opt/conda/lib/python3.8/site-packages (from deprecated->PyGithub->pydatafabric) (1.14.1)\n",
      "Requirement already satisfied: atpublic>=2.3 in /opt/conda/lib/python3.8/site-packages (from flufl.lock>=5->dvc[s3]==2.9.5->pydatafabric) (3.1.1)\n",
      "Requirement already satisfied: google-crc32c<2.0dev,>=1.0 in /opt/conda/lib/python3.8/site-packages (from google-resumable-media<3.0dev,>=0.6.0->google-cloud-bigquery<4.0.0,>=3.0.0->pydatafabric) (1.5.0)\n",
      "Requirement already satisfied: zipp>=3.1.0 in /opt/conda/lib/python3.8/site-packages (from importlib-resources>=5.2.2->dvc[s3]==2.9.5->pydatafabric) (3.8.1)\n",
      "Requirement already satisfied: pyzmq>=17 in /opt/conda/lib/python3.8/site-packages (from ipykernel>=4.5.1->ipywidgets->pydatafabric) (24.0.1)\n",
      "Requirement already satisfied: matplotlib-inline>=0.1 in /opt/conda/lib/python3.8/site-packages (from ipykernel>=4.5.1->ipywidgets->pydatafabric) (0.1.6)\n",
      "Requirement already satisfied: nest-asyncio in /opt/conda/lib/python3.8/site-packages (from ipykernel>=4.5.1->ipywidgets->pydatafabric) (1.5.5)\n",
      "Requirement already satisfied: jupyter-client>=6.1.12 in /opt/conda/lib/python3.8/site-packages (from ipykernel>=4.5.1->ipywidgets->pydatafabric) (7.3.5)\n",
      "Requirement already satisfied: tornado>=6.1 in /opt/conda/lib/python3.8/site-packages (from ipykernel>=4.5.1->ipywidgets->pydatafabric) (6.2)\n",
      "Requirement already satisfied: debugpy>=1.0 in /opt/conda/lib/python3.8/site-packages (from ipykernel>=4.5.1->ipywidgets->pydatafabric) (1.6.3)\n",
      "Requirement already satisfied: prompt-toolkit<3.1.0,>3.0.1 in /opt/conda/lib/python3.8/site-packages (from ipython>=6.1.0->ipywidgets->pydatafabric) (3.0.31)\n",
      "Requirement already satisfied: backcall in /opt/conda/lib/python3.8/site-packages (from ipython>=6.1.0->ipywidgets->pydatafabric) (0.2.0)\n",
      "Requirement already satisfied: pexpect>4.3 in /opt/conda/lib/python3.8/site-packages (from ipython>=6.1.0->ipywidgets->pydatafabric) (4.8.0)\n",
      "Requirement already satisfied: pygments>=2.4.0 in /opt/conda/lib/python3.8/site-packages (from ipython>=6.1.0->ipywidgets->pydatafabric) (2.13.0)\n",
      "Requirement already satisfied: stack-data in /opt/conda/lib/python3.8/site-packages (from ipython>=6.1.0->ipywidgets->pydatafabric) (0.5.1)\n",
      "Requirement already satisfied: jedi>=0.16 in /home/x223726/.local/lib/python3.8/site-packages (from ipython>=6.1.0->ipywidgets->pydatafabric) (0.17.2)\n",
      "Requirement already satisfied: pickleshare in /opt/conda/lib/python3.8/site-packages (from ipython>=6.1.0->ipywidgets->pydatafabric) (0.7.5)\n",
      "Requirement already satisfied: cffi>=1.4.1 in /opt/conda/lib/python3.8/site-packages (from pynacl>=1.4.0->PyGithub->pydatafabric) (1.15.1)\n",
      "Requirement already satisfied: pyyaml<7.0,>=6.0 in /opt/conda/lib/python3.8/site-packages (from python-benedict>=0.24.2->dvc[s3]==2.9.5->pydatafabric) (6.0)\n",
      "Requirement already satisfied: mailchecker<6.0.0,>=4.1.0 in /opt/conda/lib/python3.8/site-packages (from python-benedict>=0.24.2->dvc[s3]==2.9.5->pydatafabric) (5.0.1)\n",
      "Requirement already satisfied: phonenumbers<9.0.0,>=8.12.0 in /opt/conda/lib/python3.8/site-packages (from python-benedict>=0.24.2->dvc[s3]==2.9.5->pydatafabric) (8.12.56)\n",
      "Requirement already satisfied: xmltodict<1.0.0,>=0.12.0 in /opt/conda/lib/python3.8/site-packages (from python-benedict>=0.24.2->dvc[s3]==2.9.5->pydatafabric) (0.13.0)\n",
      "Requirement already satisfied: ftfy<7.0.0,>=6.0.0 in /opt/conda/lib/python3.8/site-packages (from python-benedict>=0.24.2->dvc[s3]==2.9.5->pydatafabric) (6.1.1)\n",
      "Requirement already satisfied: python-fsutil<1.0.0,>=0.6.0 in /opt/conda/lib/python3.8/site-packages (from python-benedict>=0.24.2->dvc[s3]==2.9.5->pydatafabric) (0.7.0)\n",
      "Requirement already satisfied: python-slugify<7.0.0,>=6.0.1 in /opt/conda/lib/python3.8/site-packages (from python-benedict>=0.24.2->dvc[s3]==2.9.5->pydatafabric) (6.1.2)\n",
      "Requirement already satisfied: oauthlib>=3.0.0 in /opt/conda/lib/python3.8/site-packages (from requests-oauthlib>=0.7.0->google-auth-oauthlib<0.5,>=0.4.1->pydatafabric) (3.2.1)\n",
      "Requirement already satisfied: commonmark<0.10.0,>=0.9.0 in /opt/conda/lib/python3.8/site-packages (from rich>=10.13.0->dvc[s3]==2.9.5->pydatafabric) (0.9.1)\n",
      "Requirement already satisfied: ruamel.yaml.clib>=0.2.6 in /opt/conda/lib/python3.8/site-packages (from ruamel.yaml>=0.17.11->dvc[s3]==2.9.5->pydatafabric) (0.2.6)\n",
      "Requirement already satisfied: aiobotocore~=2.3.0 in /home/x223726/.local/lib/python3.8/site-packages (from s3fs[boto3]>=2021.11.1->dvc[s3]==2.9.5->pydatafabric) (2.3.4)\n",
      "Requirement already satisfied: setuptools in /opt/conda/lib/python3.8/site-packages (from zc.lockfile>=1.2.1->dvc[s3]==2.9.5->pydatafabric) (65.4.0)\n",
      "Requirement already satisfied: botocore<1.24.22,>=1.24.21 in /home/x223726/.local/lib/python3.8/site-packages (from aiobotocore~=2.3.0->s3fs[boto3]>=2021.11.1->dvc[s3]==2.9.5->pydatafabric) (1.24.21)\n",
      "Requirement already satisfied: aioitertools>=0.5.1 in /opt/conda/lib/python3.8/site-packages (from aiobotocore~=2.3.0->s3fs[boto3]>=2021.11.1->dvc[s3]==2.9.5->pydatafabric) (0.11.0)\n",
      "Requirement already satisfied: boto3<1.21.22,>=1.21.21 in /opt/conda/lib/python3.8/site-packages (from aiobotocore~=2.3.0->s3fs[boto3]>=2021.11.1->dvc[s3]==2.9.5->pydatafabric) (1.21.21)\n",
      "Requirement already satisfied: cryptography>=2.8 in /opt/conda/lib/python3.8/site-packages (from asyncssh<2.9,>=2.7.1->scmrepo==0.0.7->dvc[s3]==2.9.5->pydatafabric) (38.0.1)\n",
      "Requirement already satisfied: pycparser in /opt/conda/lib/python3.8/site-packages (from cffi>=1.4.1->pynacl>=1.4.0->PyGithub->pydatafabric) (2.21)\n",
      "Requirement already satisfied: wcwidth>=0.2.5 in /opt/conda/lib/python3.8/site-packages (from ftfy<7.0.0,>=6.0.0->python-benedict>=0.24.2->dvc[s3]==2.9.5->pydatafabric) (0.2.5)\n",
      "Requirement already satisfied: gitdb<5,>=4.0.1 in /opt/conda/lib/python3.8/site-packages (from gitpython>3->scmrepo==0.0.7->dvc[s3]==2.9.5->pydatafabric) (4.0.9)\n",
      "Requirement already satisfied: parso<0.8.0,>=0.7.0 in /home/x223726/.local/lib/python3.8/site-packages (from jedi>=0.16->ipython>=6.1.0->ipywidgets->pydatafabric) (0.7.1)\n",
      "Requirement already satisfied: entrypoints in /opt/conda/lib/python3.8/site-packages (from jupyter-client>=6.1.12->ipykernel>=4.5.1->ipywidgets->pydatafabric) (0.4)\n",
      "Requirement already satisfied: jupyter-core>=4.9.2 in /opt/conda/lib/python3.8/site-packages (from jupyter-client>=6.1.12->ipykernel>=4.5.1->ipywidgets->pydatafabric) (4.11.1)\n",
      "Requirement already satisfied: ptyprocess>=0.5 in /opt/conda/lib/python3.8/site-packages (from pexpect>4.3->ipython>=6.1.0->ipywidgets->pydatafabric) (0.7.0)\n",
      "Requirement already satisfied: text-unidecode>=1.3 in /opt/conda/lib/python3.8/site-packages (from python-slugify<7.0.0,>=6.0.1->python-benedict>=0.24.2->dvc[s3]==2.9.5->pydatafabric) (1.3)\n",
      "Requirement already satisfied: asttokens in /opt/conda/lib/python3.8/site-packages (from stack-data->ipython>=6.1.0->ipywidgets->pydatafabric) (2.0.8)\n",
      "Requirement already satisfied: executing in /opt/conda/lib/python3.8/site-packages (from stack-data->ipython>=6.1.0->ipywidgets->pydatafabric) (1.1.0)\n",
      "Requirement already satisfied: pure-eval in /opt/conda/lib/python3.8/site-packages (from stack-data->ipython>=6.1.0->ipywidgets->pydatafabric) (0.2.2)\n",
      "Requirement already satisfied: jmespath<2.0.0,>=0.7.1 in /opt/conda/lib/python3.8/site-packages (from boto3<1.21.22,>=1.21.21->aiobotocore~=2.3.0->s3fs[boto3]>=2021.11.1->dvc[s3]==2.9.5->pydatafabric) (1.0.1)\n",
      "Requirement already satisfied: s3transfer<0.6.0,>=0.5.0 in /opt/conda/lib/python3.8/site-packages (from boto3<1.21.22,>=1.21.21->aiobotocore~=2.3.0->s3fs[boto3]>=2021.11.1->dvc[s3]==2.9.5->pydatafabric) (0.5.2)\n",
      "Requirement already satisfied: smmap<6,>=3.0.1 in /opt/conda/lib/python3.8/site-packages (from gitdb<5,>=4.0.1->gitpython>3->scmrepo==0.0.7->dvc[s3]==2.9.5->pydatafabric) (5.0.0)\n",
      "\n",
      "\u001b[1m[\u001b[0m\u001b[34;49mnotice\u001b[0m\u001b[1;39;49m]\u001b[0m\u001b[39;49m A new release of pip available: \u001b[0m\u001b[31;49m22.2\u001b[0m\u001b[39;49m -> \u001b[0m\u001b[32;49m22.2.2\u001b[0m\n",
      "\u001b[1m[\u001b[0m\u001b[34;49mnotice\u001b[0m\u001b[1;39;49m]\u001b[0m\u001b[39;49m To update, run: \u001b[0m\u001b[32;49mpip install --upgrade pip\u001b[0m\n"
     ]
    }
   ],
   "source": [
    "!pip install --upgrade --no-cache-dir --no-warn-script-location pydatafabric"
   ]
  },
  {
   "cell_type": "code",
   "execution_count": 2,
   "metadata": {
    "execution": {
     "iopub.execute_input": "2022-09-28T03:43:05.678083Z",
     "iopub.status.busy": "2022-09-28T03:43:05.677678Z",
     "iopub.status.idle": "2022-09-28T03:43:05.691613Z",
     "shell.execute_reply": "2022-09-28T03:43:05.691130Z",
     "shell.execute_reply.started": "2022-09-28T03:43:05.678057Z"
    },
    "tags": []
   },
   "outputs": [],
   "source": [
    "%load_ext autoreload\n",
    "%autoreload 2"
   ]
  },
  {
   "cell_type": "code",
   "execution_count": 3,
   "metadata": {
    "execution": {
     "iopub.execute_input": "2022-09-28T03:43:06.500113Z",
     "iopub.status.busy": "2022-09-28T03:43:06.499747Z",
     "iopub.status.idle": "2022-09-28T03:43:06.594467Z",
     "shell.execute_reply": "2022-09-28T03:43:06.593956Z",
     "shell.execute_reply.started": "2022-09-28T03:43:06.500091Z"
    },
    "tags": []
   },
   "outputs": [],
   "source": [
    "from pydatafabric.vault_utils import get_secrets\n",
    "\n",
    "oracle_info = get_secrets(mount_point=\"datafabric\",path=\"oracle/datafabric/oracle-db\")"
   ]
  },
  {
   "cell_type": "code",
   "execution_count": 4,
   "metadata": {
    "execution": {
     "iopub.execute_input": "2022-09-28T03:43:07.271800Z",
     "iopub.status.busy": "2022-09-28T03:43:07.271436Z",
     "iopub.status.idle": "2022-09-28T03:43:15.888613Z",
     "shell.execute_reply": "2022-09-28T03:43:15.887954Z",
     "shell.execute_reply.started": "2022-09-28T03:43:07.271778Z"
    },
    "tags": []
   },
   "outputs": [
    {
     "name": "stderr",
     "output_type": "stream",
     "text": [
      "Setting default log level to \"WARN\".\n",
      "To adjust logging level use sc.setLogLevel(newLevel). For SparkR, use setLogLevel(newLevel).\n",
      "22/09/28 12:43:11 INFO org.apache.spark.SparkEnv: Registering MapOutputTracker\n",
      "22/09/28 12:43:11 INFO org.apache.spark.SparkEnv: Registering BlockManagerMaster\n",
      "22/09/28 12:43:11 INFO org.apache.spark.SparkEnv: Registering BlockManagerMasterHeartbeat\n",
      "22/09/28 12:43:11 INFO org.apache.spark.SparkEnv: Registering OutputCommitCoordinator\n"
     ]
    }
   ],
   "source": [
    "from pydatafabric.ye import get_spark\n",
    "\n",
    "spark = get_spark(extra_jars=\"gs://emart-datafabric-resources/jars/ojdbc8.jar\")"
   ]
  },
  {
   "cell_type": "code",
   "execution_count": 5,
   "metadata": {
    "execution": {
     "iopub.execute_input": "2022-09-28T03:43:17.452152Z",
     "iopub.status.busy": "2022-09-28T03:43:17.451628Z",
     "iopub.status.idle": "2022-09-28T03:43:19.515149Z",
     "shell.execute_reply": "2022-09-28T03:43:19.514559Z",
     "shell.execute_reply.started": "2022-09-28T03:43:17.452124Z"
    },
    "tags": []
   },
   "outputs": [],
   "source": [
    "df = spark.read.format(\"jdbc\") \\\n",
    "    .option(\"url\", oracle_info['jdbc_url']) \\\n",
    "    .option(\"user\", oracle_info['user']) \\\n",
    "    .option(\"password\", oracle_info['password']) \\\n",
    "    .option(\"driver\", \"oracle.jdbc.driver.OracleDriver\") \\\n",
    "    .option(\"dbtable\", \"(SELECT * FROM C##DPC.GTPSD_EP_PAY_RESULT_A) a\") \\\n",
    "    .load()"
   ]
  },
  {
   "cell_type": "code",
   "execution_count": 6,
   "metadata": {
    "execution": {
     "iopub.execute_input": "2022-09-28T03:43:20.407899Z",
     "iopub.status.busy": "2022-09-28T03:43:20.407539Z",
     "iopub.status.idle": "2022-09-28T03:43:22.978316Z",
     "shell.execute_reply": "2022-09-28T03:43:22.977739Z",
     "shell.execute_reply.started": "2022-09-28T03:43:20.407877Z"
    },
    "tags": []
   },
   "outputs": [
    {
     "name": "stderr",
     "output_type": "stream",
     "text": [
      "[Stage 0:>                                                          (0 + 1) / 1]\r"
     ]
    },
    {
     "name": "stdout",
     "output_type": "stream",
     "text": [
      "+---------------+\n",
      "|TABLESPACE_NAME|\n",
      "+---------------+\n",
      "|         SYSTEM|\n",
      "|         SYSAUX|\n",
      "|       UNDOTBS1|\n",
      "|           TEMP|\n",
      "|          USERS|\n",
      "+---------------+\n",
      "\n"
     ]
    },
    {
     "name": "stderr",
     "output_type": "stream",
     "text": [
      "                                                                                \r"
     ]
    }
   ],
   "source": [
    "df.show()"
   ]
  },
  {
   "cell_type": "code",
   "execution_count": 7,
   "metadata": {
    "execution": {
     "iopub.execute_input": "2022-09-28T03:43:25.131036Z",
     "iopub.status.busy": "2022-09-28T03:43:25.130625Z",
     "iopub.status.idle": "2022-09-28T03:43:25.734647Z",
     "shell.execute_reply": "2022-09-28T03:43:25.734079Z",
     "shell.execute_reply.started": "2022-09-28T03:43:25.131010Z"
    },
    "tags": []
   },
   "outputs": [],
   "source": [
    "spark.stop()"
   ]
  },
  {
   "cell_type": "code",
   "execution_count": null,
   "metadata": {},
   "outputs": [],
   "source": []
  }
 ],
 "metadata": {
  "kernelspec": {
   "display_name": "Python 3 (ipykernel)",
   "language": "python",
   "name": "python3"
  },
  "language_info": {
   "codemirror_mode": {
    "name": "ipython",
    "version": 3
   },
   "file_extension": ".py",
   "mimetype": "text/x-python",
   "name": "python",
   "nbconvert_exporter": "python",
   "pygments_lexer": "ipython3",
   "version": "3.8.13"
  }
 },
 "nbformat": 4,
 "nbformat_minor": 4
}
