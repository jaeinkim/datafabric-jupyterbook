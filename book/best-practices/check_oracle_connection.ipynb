{
 "cells": [
  {
   "cell_type": "code",
   "execution_count": 1,
   "metadata": {
    "execution": {
     "iopub.execute_input": "2022-04-28T12:57:50.144547Z",
     "iopub.status.busy": "2022-04-28T12:57:50.144181Z",
     "iopub.status.idle": "2022-04-28T12:57:53.055276Z",
     "shell.execute_reply": "2022-04-28T12:57:53.054489Z",
     "shell.execute_reply.started": "2022-04-28T12:57:50.144473Z"
    },
    "tags": []
   },
   "outputs": [
    {
     "name": "stdout",
     "output_type": "stream",
     "text": [
      "Defaulting to user installation because normal site-packages is not writeable\n",
      "Requirement already satisfied: pydatafabric in /home/x214708/.local/lib/python3.8/site-packages (0.4.1)\n",
      "Requirement already satisfied: packaging in /opt/conda/lib/python3.8/site-packages (from pydatafabric) (21.3)\n",
      "Requirement already satisfied: tqdm>=4.63.0 in /opt/conda/lib/python3.8/site-packages (from pydatafabric) (4.64.0)\n",
      "Requirement already satisfied: google-auth<3.0.0,>=2.0.0 in /home/x214708/.local/lib/python3.8/site-packages (from pydatafabric) (2.6.2)\n",
      "Requirement already satisfied: pandas==1.3.5 in /opt/conda/lib/python3.8/site-packages (from pydatafabric) (1.3.5)\n",
      "Requirement already satisfied: pycryptodome in /opt/conda/lib/python3.8/site-packages (from pydatafabric) (3.14.1)\n",
      "Requirement already satisfied: protobuf>=3.12.0 in /opt/conda/lib/python3.8/site-packages (from pydatafabric) (3.20.1)\n",
      "Requirement already satisfied: grpcio-status==1.44.0 in /opt/conda/lib/python3.8/site-packages (from pydatafabric) (1.44.0)\n",
      "Requirement already satisfied: google-auth-oauthlib<0.5,>=0.4.1 in /home/x214708/.local/lib/python3.8/site-packages (from pydatafabric) (0.4.6)\n",
      "Requirement already satisfied: google-api-python-client<3.0.0,>=2.34.0 in /opt/conda/lib/python3.8/site-packages (from pydatafabric) (2.46.0)\n",
      "Requirement already satisfied: slackclient>=2.9.0 in /opt/conda/lib/python3.8/site-packages (from pydatafabric) (2.9.4)\n",
      "Requirement already satisfied: tabulate>=0.8.7 in /opt/conda/lib/python3.8/site-packages (from pydatafabric) (0.8.9)\n",
      "Requirement already satisfied: testresources in /opt/conda/lib/python3.8/site-packages (from pydatafabric) (2.0.1)\n",
      "Requirement already satisfied: httplib2>=0.20.0 in /opt/conda/lib/python3.8/site-packages (from pydatafabric) (0.20.4)\n",
      "Requirement already satisfied: hmsclient-hive-3 in /opt/conda/lib/python3.8/site-packages (from pydatafabric) (0.1.1)\n",
      "Requirement already satisfied: db-dtypes<2.0.0,>=0.4.0 in /opt/conda/lib/python3.8/site-packages (from pydatafabric) (1.0.0)\n",
      "Requirement already satisfied: googleapis-common-protos<2.0.0,>=1.55.0 in /opt/conda/lib/python3.8/site-packages (from pydatafabric) (1.56.0)\n",
      "Requirement already satisfied: sqlalchemy>=1.4.0 in /opt/conda/lib/python3.8/site-packages (from pydatafabric) (1.4.36)\n",
      "Requirement already satisfied: google-api-core<3.0.0,>=2.0.0 in /opt/conda/lib/python3.8/site-packages (from pydatafabric) (2.7.2)\n",
      "Requirement already satisfied: redis in /opt/conda/lib/python3.8/site-packages (from pydatafabric) (4.2.2)\n",
      "Requirement already satisfied: python-dateutil>=2.8.2 in /opt/conda/lib/python3.8/site-packages (from pydatafabric) (2.8.2)\n",
      "Requirement already satisfied: google-cloud-common<2.0.0,>=1.0.0 in /opt/conda/lib/python3.8/site-packages (from pydatafabric) (1.0.1)\n",
      "Requirement already satisfied: google-cloud-monitoring<3.0.0,>=2.0.0 in /opt/conda/lib/python3.8/site-packages (from pydatafabric) (2.9.1)\n",
      "Requirement already satisfied: google-cloud-bigquery<4.0.0,>=3.0.0 in /opt/conda/lib/python3.8/site-packages (from pydatafabric) (3.0.1)\n",
      "Requirement already satisfied: pyhive[hive]==0.6.5 in /opt/conda/lib/python3.8/site-packages (from pydatafabric) (0.6.5)\n",
      "Requirement already satisfied: pyarrow==6.0.1 in /opt/conda/lib/python3.8/site-packages (from pydatafabric) (6.0.1)\n",
      "Requirement already satisfied: grpcio==1.44.0 in /opt/conda/lib/python3.8/site-packages (from pydatafabric) (1.44.0)\n",
      "Requirement already satisfied: click in /opt/conda/lib/python3.8/site-packages (from pydatafabric) (8.1.2)\n",
      "Requirement already satisfied: google-cloud-bigtable<3.0.0,>=2.0.0 in /opt/conda/lib/python3.8/site-packages (from pydatafabric) (2.9.0)\n",
      "Requirement already satisfied: google-cloud-core<3.0.0,>=2.0.0 in /opt/conda/lib/python3.8/site-packages (from pydatafabric) (2.3.0)\n",
      "Requirement already satisfied: thrift-sasl==0.4.3 in /opt/conda/lib/python3.8/site-packages (from pydatafabric) (0.4.3)\n",
      "Requirement already satisfied: ipywidgets in /opt/conda/lib/python3.8/site-packages (from pydatafabric) (7.7.0)\n",
      "Requirement already satisfied: PyGithub in /opt/conda/lib/python3.8/site-packages (from pydatafabric) (1.55)\n",
      "Requirement already satisfied: hvac==0.11.2 in /opt/conda/lib/python3.8/site-packages (from pydatafabric) (0.11.2)\n",
      "Requirement already satisfied: requests<3.0.0,>=2.26.0 in /opt/conda/lib/python3.8/site-packages (from pydatafabric) (2.27.1)\n",
      "Requirement already satisfied: six>=1.5.2 in /opt/conda/lib/python3.8/site-packages (from grpcio==1.44.0->pydatafabric) (1.16.0)\n",
      "Requirement already satisfied: numpy>=1.17.3 in /opt/conda/lib/python3.8/site-packages (from pandas==1.3.5->pydatafabric) (1.22.3)\n",
      "Requirement already satisfied: pytz>=2017.3 in /opt/conda/lib/python3.8/site-packages (from pandas==1.3.5->pydatafabric) (2022.1)\n",
      "Requirement already satisfied: future in /opt/conda/lib/python3.8/site-packages (from pyhive[hive]==0.6.5->pydatafabric) (0.18.2)\n",
      "Requirement already satisfied: sasl>=0.2.1 in /opt/conda/lib/python3.8/site-packages (from pyhive[hive]==0.6.5->pydatafabric) (0.3.1)\n",
      "Requirement already satisfied: thrift>=0.10.0 in /opt/conda/lib/python3.8/site-packages (from pyhive[hive]==0.6.5->pydatafabric) (0.16.0)\n",
      "Requirement already satisfied: pure-sasl>=0.6.2 in /opt/conda/lib/python3.8/site-packages (from thrift-sasl==0.4.3->pydatafabric) (0.6.2)\n",
      "Requirement already satisfied: uritemplate<5,>=3.0.1 in /opt/conda/lib/python3.8/site-packages (from google-api-python-client<3.0.0,>=2.34.0->pydatafabric) (4.1.1)\n",
      "Requirement already satisfied: google-auth-httplib2>=0.1.0 in /opt/conda/lib/python3.8/site-packages (from google-api-python-client<3.0.0,>=2.34.0->pydatafabric) (0.1.0)\n",
      "Requirement already satisfied: pyasn1-modules>=0.2.1 in /opt/conda/lib/python3.8/site-packages (from google-auth<3.0.0,>=2.0.0->pydatafabric) (0.2.8)\n",
      "Requirement already satisfied: rsa<5,>=3.1.4 in /opt/conda/lib/python3.8/site-packages (from google-auth<3.0.0,>=2.0.0->pydatafabric) (4.8)\n",
      "Requirement already satisfied: cachetools<6.0,>=2.0.0 in /opt/conda/lib/python3.8/site-packages (from google-auth<3.0.0,>=2.0.0->pydatafabric) (5.0.0)\n",
      "Requirement already satisfied: requests-oauthlib>=0.7.0 in /home/x214708/.local/lib/python3.8/site-packages (from google-auth-oauthlib<0.5,>=0.4.1->pydatafabric) (1.3.1)\n",
      "Requirement already satisfied: google-resumable-media<3.0dev,>=0.6.0 in /opt/conda/lib/python3.8/site-packages (from google-cloud-bigquery<4.0.0,>=3.0.0->pydatafabric) (2.3.2)\n",
      "Requirement already satisfied: proto-plus>=1.15.0 in /opt/conda/lib/python3.8/site-packages (from google-cloud-bigquery<4.0.0,>=3.0.0->pydatafabric) (1.20.3)\n",
      "Requirement already satisfied: google-cloud-bigquery-storage<3.0.0dev,>=2.0.0 in /opt/conda/lib/python3.8/site-packages (from google-cloud-bigquery<4.0.0,>=3.0.0->pydatafabric) (2.13.1)\n",
      "Requirement already satisfied: grpc-google-iam-v1<1.0.0dev,>=0.12.4 in /opt/conda/lib/python3.8/site-packages (from google-cloud-bigtable<3.0.0,>=2.0.0->pydatafabric) (0.12.4)\n",
      "Requirement already satisfied: pyparsing!=3.0.0,!=3.0.1,!=3.0.2,!=3.0.3,<4,>=2.4.2 in /opt/conda/lib/python3.8/site-packages (from httplib2>=0.20.0->pydatafabric) (3.0.8)\n",
      "Requirement already satisfied: charset-normalizer~=2.0.0 in /opt/conda/lib/python3.8/site-packages (from requests<3.0.0,>=2.26.0->pydatafabric) (2.0.12)\n",
      "Requirement already satisfied: idna<4,>=2.5 in /opt/conda/lib/python3.8/site-packages (from requests<3.0.0,>=2.26.0->pydatafabric) (3.3)\n",
      "Requirement already satisfied: urllib3<1.27,>=1.21.1 in /opt/conda/lib/python3.8/site-packages (from requests<3.0.0,>=2.26.0->pydatafabric) (1.26.9)\n",
      "Requirement already satisfied: certifi>=2017.4.17 in /opt/conda/lib/python3.8/site-packages (from requests<3.0.0,>=2.26.0->pydatafabric) (2021.10.8)\n",
      "Requirement already satisfied: aiohttp<4.0.0,>3.5.2 in /home/x214708/.local/lib/python3.8/site-packages (from slackclient>=2.9.0->pydatafabric) (3.8.1)\n",
      "Requirement already satisfied: greenlet!=0.4.17 in /opt/conda/lib/python3.8/site-packages (from sqlalchemy>=1.4.0->pydatafabric) (1.1.2)\n",
      "Requirement already satisfied: jupyterlab-widgets>=1.0.0 in /opt/conda/lib/python3.8/site-packages (from ipywidgets->pydatafabric) (1.1.0)\n",
      "Requirement already satisfied: traitlets>=4.3.1 in /opt/conda/lib/python3.8/site-packages (from ipywidgets->pydatafabric) (5.1.1)\n",
      "Requirement already satisfied: ipython>=4.0.0 in /opt/conda/lib/python3.8/site-packages (from ipywidgets->pydatafabric) (8.2.0)\n",
      "Requirement already satisfied: ipykernel>=4.5.1 in /opt/conda/lib/python3.8/site-packages (from ipywidgets->pydatafabric) (6.13.0)\n",
      "Requirement already satisfied: nbformat>=4.2.0 in /opt/conda/lib/python3.8/site-packages (from ipywidgets->pydatafabric) (5.3.0)\n",
      "Requirement already satisfied: widgetsnbextension~=3.6.0 in /opt/conda/lib/python3.8/site-packages (from ipywidgets->pydatafabric) (3.6.0)\n",
      "Requirement already satisfied: ipython-genutils~=0.2.0 in /opt/conda/lib/python3.8/site-packages (from ipywidgets->pydatafabric) (0.2.0)\n",
      "Requirement already satisfied: pynacl>=1.4.0 in /opt/conda/lib/python3.8/site-packages (from PyGithub->pydatafabric) (1.5.0)\n",
      "Requirement already satisfied: pyjwt>=2.0 in /opt/conda/lib/python3.8/site-packages (from PyGithub->pydatafabric) (2.3.0)\n",
      "Requirement already satisfied: deprecated in /opt/conda/lib/python3.8/site-packages (from PyGithub->pydatafabric) (1.2.13)\n",
      "Requirement already satisfied: async-timeout>=4.0.2 in /opt/conda/lib/python3.8/site-packages (from redis->pydatafabric) (4.0.2)\n",
      "Requirement already satisfied: pbr>=1.8 in /opt/conda/lib/python3.8/site-packages (from testresources->pydatafabric) (5.8.1)\n",
      "Requirement already satisfied: frozenlist>=1.1.1 in /opt/conda/lib/python3.8/site-packages (from aiohttp<4.0.0,>3.5.2->slackclient>=2.9.0->pydatafabric) (1.3.0)\n",
      "Requirement already satisfied: aiosignal>=1.1.2 in /home/x214708/.local/lib/python3.8/site-packages (from aiohttp<4.0.0,>3.5.2->slackclient>=2.9.0->pydatafabric) (1.2.0)\n",
      "Requirement already satisfied: yarl<2.0,>=1.0 in /opt/conda/lib/python3.8/site-packages (from aiohttp<4.0.0,>3.5.2->slackclient>=2.9.0->pydatafabric) (1.7.2)\n",
      "Requirement already satisfied: attrs>=17.3.0 in /opt/conda/lib/python3.8/site-packages (from aiohttp<4.0.0,>3.5.2->slackclient>=2.9.0->pydatafabric) (21.4.0)\n",
      "Requirement already satisfied: multidict<7.0,>=4.5 in /opt/conda/lib/python3.8/site-packages (from aiohttp<4.0.0,>3.5.2->slackclient>=2.9.0->pydatafabric) (6.0.2)\n",
      "Requirement already satisfied: wrapt<2,>=1.10 in /opt/conda/lib/python3.8/site-packages (from deprecated->PyGithub->pydatafabric) (1.14.0)\n",
      "Requirement already satisfied: google-crc32c<2.0dev,>=1.0 in /opt/conda/lib/python3.8/site-packages (from google-resumable-media<3.0dev,>=0.6.0->google-cloud-bigquery<4.0.0,>=3.0.0->pydatafabric) (1.3.0)\n",
      "Requirement already satisfied: tornado>=6.1 in /opt/conda/lib/python3.8/site-packages (from ipykernel>=4.5.1->ipywidgets->pydatafabric) (6.1)\n",
      "Requirement already satisfied: nest-asyncio in /opt/conda/lib/python3.8/site-packages (from ipykernel>=4.5.1->ipywidgets->pydatafabric) (1.5.5)\n",
      "Requirement already satisfied: debugpy>=1.0 in /opt/conda/lib/python3.8/site-packages (from ipykernel>=4.5.1->ipywidgets->pydatafabric) (1.6.0)\n",
      "Requirement already satisfied: psutil in /opt/conda/lib/python3.8/site-packages (from ipykernel>=4.5.1->ipywidgets->pydatafabric) (5.9.0)\n",
      "Requirement already satisfied: jupyter-client>=6.1.12 in /opt/conda/lib/python3.8/site-packages (from ipykernel>=4.5.1->ipywidgets->pydatafabric) (7.3.0)\n",
      "Requirement already satisfied: matplotlib-inline>=0.1 in /opt/conda/lib/python3.8/site-packages (from ipykernel>=4.5.1->ipywidgets->pydatafabric) (0.1.3)\n",
      "Requirement already satisfied: prompt-toolkit!=3.0.0,!=3.0.1,<3.1.0,>=2.0.0 in /opt/conda/lib/python3.8/site-packages (from ipython>=4.0.0->ipywidgets->pydatafabric) (3.0.29)\n",
      "Requirement already satisfied: setuptools>=18.5 in /opt/conda/lib/python3.8/site-packages (from ipython>=4.0.0->ipywidgets->pydatafabric) (62.1.0)\n",
      "Requirement already satisfied: stack-data in /opt/conda/lib/python3.8/site-packages (from ipython>=4.0.0->ipywidgets->pydatafabric) (0.2.0)\n",
      "Requirement already satisfied: pickleshare in /opt/conda/lib/python3.8/site-packages (from ipython>=4.0.0->ipywidgets->pydatafabric) (0.7.5)\n",
      "Requirement already satisfied: backcall in /opt/conda/lib/python3.8/site-packages (from ipython>=4.0.0->ipywidgets->pydatafabric) (0.2.0)\n",
      "Requirement already satisfied: jedi>=0.16 in /home/x214708/.local/lib/python3.8/site-packages (from ipython>=4.0.0->ipywidgets->pydatafabric) (0.17.2)\n",
      "Requirement already satisfied: pexpect>4.3 in /opt/conda/lib/python3.8/site-packages (from ipython>=4.0.0->ipywidgets->pydatafabric) (4.8.0)\n",
      "Requirement already satisfied: decorator in /opt/conda/lib/python3.8/site-packages (from ipython>=4.0.0->ipywidgets->pydatafabric) (5.1.1)\n",
      "Requirement already satisfied: pygments>=2.4.0 in /opt/conda/lib/python3.8/site-packages (from ipython>=4.0.0->ipywidgets->pydatafabric) (2.12.0)\n",
      "Requirement already satisfied: fastjsonschema in /opt/conda/lib/python3.8/site-packages (from nbformat>=4.2.0->ipywidgets->pydatafabric) (2.15.3)\n",
      "Requirement already satisfied: jupyter-core in /opt/conda/lib/python3.8/site-packages (from nbformat>=4.2.0->ipywidgets->pydatafabric) (4.10.0)\n",
      "Requirement already satisfied: jsonschema>=2.6 in /opt/conda/lib/python3.8/site-packages (from nbformat>=4.2.0->ipywidgets->pydatafabric) (4.4.0)\n",
      "Requirement already satisfied: pyasn1<0.5.0,>=0.4.6 in /opt/conda/lib/python3.8/site-packages (from pyasn1-modules>=0.2.1->google-auth<3.0.0,>=2.0.0->pydatafabric) (0.4.8)\n",
      "Requirement already satisfied: cffi>=1.4.1 in /opt/conda/lib/python3.8/site-packages (from pynacl>=1.4.0->PyGithub->pydatafabric) (1.15.0)\n",
      "Requirement already satisfied: oauthlib>=3.0.0 in /opt/conda/lib/python3.8/site-packages (from requests-oauthlib>=0.7.0->google-auth-oauthlib<0.5,>=0.4.1->pydatafabric) (3.2.0)\n",
      "Requirement already satisfied: notebook>=4.4.1 in /opt/conda/lib/python3.8/site-packages (from widgetsnbextension~=3.6.0->ipywidgets->pydatafabric) (6.4.11)\n",
      "Requirement already satisfied: pycparser in /opt/conda/lib/python3.8/site-packages (from cffi>=1.4.1->pynacl>=1.4.0->PyGithub->pydatafabric) (2.21)\n",
      "Requirement already satisfied: parso<0.8.0,>=0.7.0 in /home/x214708/.local/lib/python3.8/site-packages (from jedi>=0.16->ipython>=4.0.0->ipywidgets->pydatafabric) (0.7.1)\n",
      "Requirement already satisfied: pyrsistent!=0.17.0,!=0.17.1,!=0.17.2,>=0.14.0 in /opt/conda/lib/python3.8/site-packages (from jsonschema>=2.6->nbformat>=4.2.0->ipywidgets->pydatafabric) (0.18.1)\n",
      "Requirement already satisfied: importlib-resources>=1.4.0 in /opt/conda/lib/python3.8/site-packages (from jsonschema>=2.6->nbformat>=4.2.0->ipywidgets->pydatafabric) (5.7.1)\n",
      "Requirement already satisfied: entrypoints in /opt/conda/lib/python3.8/site-packages (from jupyter-client>=6.1.12->ipykernel>=4.5.1->ipywidgets->pydatafabric) (0.4)\n",
      "Requirement already satisfied: pyzmq>=22.3 in /opt/conda/lib/python3.8/site-packages (from jupyter-client>=6.1.12->ipykernel>=4.5.1->ipywidgets->pydatafabric) (22.3.0)\n",
      "Requirement already satisfied: Send2Trash>=1.8.0 in /opt/conda/lib/python3.8/site-packages (from notebook>=4.4.1->widgetsnbextension~=3.6.0->ipywidgets->pydatafabric) (1.8.0)\n",
      "Requirement already satisfied: nbconvert>=5 in /opt/conda/lib/python3.8/site-packages (from notebook>=4.4.1->widgetsnbextension~=3.6.0->ipywidgets->pydatafabric) (6.5.0)\n",
      "Requirement already satisfied: argon2-cffi in /opt/conda/lib/python3.8/site-packages (from notebook>=4.4.1->widgetsnbextension~=3.6.0->ipywidgets->pydatafabric) (21.3.0)\n",
      "Requirement already satisfied: jinja2 in /opt/conda/lib/python3.8/site-packages (from notebook>=4.4.1->widgetsnbextension~=3.6.0->ipywidgets->pydatafabric) (3.1.1)\n",
      "Requirement already satisfied: prometheus-client in /opt/conda/lib/python3.8/site-packages (from notebook>=4.4.1->widgetsnbextension~=3.6.0->ipywidgets->pydatafabric) (0.14.1)\n",
      "Requirement already satisfied: terminado>=0.8.3 in /opt/conda/lib/python3.8/site-packages (from notebook>=4.4.1->widgetsnbextension~=3.6.0->ipywidgets->pydatafabric) (0.13.3)\n",
      "Requirement already satisfied: ptyprocess>=0.5 in /opt/conda/lib/python3.8/site-packages (from pexpect>4.3->ipython>=4.0.0->ipywidgets->pydatafabric) (0.7.0)\n",
      "Requirement already satisfied: wcwidth in /opt/conda/lib/python3.8/site-packages (from prompt-toolkit!=3.0.0,!=3.0.1,<3.1.0,>=2.0.0->ipython>=4.0.0->ipywidgets->pydatafabric) (0.2.5)\n",
      "Requirement already satisfied: asttokens in /opt/conda/lib/python3.8/site-packages (from stack-data->ipython>=4.0.0->ipywidgets->pydatafabric) (2.0.5)\n",
      "Requirement already satisfied: executing in /opt/conda/lib/python3.8/site-packages (from stack-data->ipython>=4.0.0->ipywidgets->pydatafabric) (0.8.3)\n",
      "Requirement already satisfied: pure-eval in /opt/conda/lib/python3.8/site-packages (from stack-data->ipython>=4.0.0->ipywidgets->pydatafabric) (0.2.2)\n",
      "Requirement already satisfied: zipp>=3.1.0 in /opt/conda/lib/python3.8/site-packages (from importlib-resources>=1.4.0->jsonschema>=2.6->nbformat>=4.2.0->ipywidgets->pydatafabric) (3.8.0)\n",
      "Requirement already satisfied: beautifulsoup4 in /opt/conda/lib/python3.8/site-packages (from nbconvert>=5->notebook>=4.4.1->widgetsnbextension~=3.6.0->ipywidgets->pydatafabric) (4.11.1)\n",
      "Requirement already satisfied: pandocfilters>=1.4.1 in /opt/conda/lib/python3.8/site-packages (from nbconvert>=5->notebook>=4.4.1->widgetsnbextension~=3.6.0->ipywidgets->pydatafabric) (1.5.0)\n",
      "Requirement already satisfied: MarkupSafe>=2.0 in /opt/conda/lib/python3.8/site-packages (from nbconvert>=5->notebook>=4.4.1->widgetsnbextension~=3.6.0->ipywidgets->pydatafabric) (2.1.1)\n",
      "Requirement already satisfied: jupyterlab-pygments in /opt/conda/lib/python3.8/site-packages (from nbconvert>=5->notebook>=4.4.1->widgetsnbextension~=3.6.0->ipywidgets->pydatafabric) (0.2.2)\n",
      "Requirement already satisfied: nbclient>=0.5.0 in /opt/conda/lib/python3.8/site-packages (from nbconvert>=5->notebook>=4.4.1->widgetsnbextension~=3.6.0->ipywidgets->pydatafabric) (0.6.0)\n",
      "Requirement already satisfied: mistune<2,>=0.8.1 in /opt/conda/lib/python3.8/site-packages (from nbconvert>=5->notebook>=4.4.1->widgetsnbextension~=3.6.0->ipywidgets->pydatafabric) (0.8.4)\n",
      "Requirement already satisfied: tinycss2 in /opt/conda/lib/python3.8/site-packages (from nbconvert>=5->notebook>=4.4.1->widgetsnbextension~=3.6.0->ipywidgets->pydatafabric) (1.1.1)\n",
      "Requirement already satisfied: defusedxml in /opt/conda/lib/python3.8/site-packages (from nbconvert>=5->notebook>=4.4.1->widgetsnbextension~=3.6.0->ipywidgets->pydatafabric) (0.7.1)\n",
      "Requirement already satisfied: bleach in /opt/conda/lib/python3.8/site-packages (from nbconvert>=5->notebook>=4.4.1->widgetsnbextension~=3.6.0->ipywidgets->pydatafabric) (5.0.0)\n",
      "Requirement already satisfied: argon2-cffi-bindings in /opt/conda/lib/python3.8/site-packages (from argon2-cffi->notebook>=4.4.1->widgetsnbextension~=3.6.0->ipywidgets->pydatafabric) (21.2.0)\n",
      "Requirement already satisfied: soupsieve>1.2 in /opt/conda/lib/python3.8/site-packages (from beautifulsoup4->nbconvert>=5->notebook>=4.4.1->widgetsnbextension~=3.6.0->ipywidgets->pydatafabric) (2.3.2.post1)\n",
      "Requirement already satisfied: webencodings in /opt/conda/lib/python3.8/site-packages (from bleach->nbconvert>=5->notebook>=4.4.1->widgetsnbextension~=3.6.0->ipywidgets->pydatafabric) (0.5.1)\n"
     ]
    }
   ],
   "source": [
    "!pip install --upgrade --no-cache-dir --no-warn-script-location pydatafabric"
   ]
  },
  {
   "cell_type": "code",
   "execution_count": 2,
   "metadata": {
    "execution": {
     "iopub.execute_input": "2022-04-28T12:57:53.057253Z",
     "iopub.status.busy": "2022-04-28T12:57:53.056934Z",
     "iopub.status.idle": "2022-04-28T12:57:53.075633Z",
     "shell.execute_reply": "2022-04-28T12:57:53.075089Z",
     "shell.execute_reply.started": "2022-04-28T12:57:53.057217Z"
    }
   },
   "outputs": [],
   "source": [
    "%load_ext autoreload\n",
    "%autoreload 2"
   ]
  },
  {
   "cell_type": "code",
   "execution_count": 3,
   "metadata": {
    "execution": {
     "iopub.execute_input": "2022-04-28T12:57:53.799860Z",
     "iopub.status.busy": "2022-04-28T12:57:53.799528Z",
     "iopub.status.idle": "2022-04-28T12:57:53.942838Z",
     "shell.execute_reply": "2022-04-28T12:57:53.942352Z",
     "shell.execute_reply.started": "2022-04-28T12:57:53.799835Z"
    }
   },
   "outputs": [],
   "source": [
    "from pydatafabric.vault_utils import get_secrets\n",
    "\n",
    "oracle_info = get_secrets(mount_point=\"datafabric\",path=\"oracle/datafabric/oracle-db\")"
   ]
  },
  {
   "cell_type": "code",
   "execution_count": 4,
   "metadata": {
    "execution": {
     "iopub.execute_input": "2022-04-28T12:57:55.385255Z",
     "iopub.status.busy": "2022-04-28T12:57:55.384954Z",
     "iopub.status.idle": "2022-04-28T12:58:04.517693Z",
     "shell.execute_reply": "2022-04-28T12:58:04.517144Z",
     "shell.execute_reply.started": "2022-04-28T12:57:55.385230Z"
    },
    "tags": []
   },
   "outputs": [
    {
     "name": "stderr",
     "output_type": "stream",
     "text": [
      "Setting default log level to \"WARN\".\n",
      "To adjust logging level use sc.setLogLevel(newLevel). For SparkR, use setLogLevel(newLevel).\n",
      "22/04/28 21:57:59 INFO org.apache.spark.SparkEnv: Registering MapOutputTracker\n",
      "22/04/28 21:57:59 INFO org.apache.spark.SparkEnv: Registering BlockManagerMaster\n",
      "22/04/28 21:57:59 INFO org.apache.spark.SparkEnv: Registering BlockManagerMasterHeartbeat\n",
      "22/04/28 21:57:59 INFO org.apache.spark.SparkEnv: Registering OutputCommitCoordinator\n"
     ]
    }
   ],
   "source": [
    "from pydatafabric.ye import get_spark\n",
    "\n",
    "spark = get_spark(extra_jars=\"gs://emart-datafabric-resources/jars/ojdbc8.jar\")"
   ]
  },
  {
   "cell_type": "code",
   "execution_count": 5,
   "metadata": {
    "execution": {
     "iopub.execute_input": "2022-04-28T12:58:06.985630Z",
     "iopub.status.busy": "2022-04-28T12:58:06.985299Z",
     "iopub.status.idle": "2022-04-28T12:58:08.920271Z",
     "shell.execute_reply": "2022-04-28T12:58:08.919763Z",
     "shell.execute_reply.started": "2022-04-28T12:58:06.985604Z"
    }
   },
   "outputs": [],
   "source": [
    "df = spark.read.format(\"jdbc\") \\\n",
    "    .option(\"url\", oracle_info['jdbc_url']) \\\n",
    "    .option(\"user\", oracle_info['user']) \\\n",
    "    .option(\"password\", oracle_info['password']) \\\n",
    "    .option(\"driver\", \"oracle.jdbc.driver.OracleDriver\") \\\n",
    "    .option(\"dbtable\", \"(SELECT TABLESPACE_NAME FROM USER_TABLESPACES) a\") \\\n",
    "    .load()"
   ]
  },
  {
   "cell_type": "code",
   "execution_count": 6,
   "metadata": {
    "execution": {
     "iopub.execute_input": "2022-04-28T12:58:09.603690Z",
     "iopub.status.busy": "2022-04-28T12:58:09.603359Z",
     "iopub.status.idle": "2022-04-28T12:58:12.055283Z",
     "shell.execute_reply": "2022-04-28T12:58:12.054672Z",
     "shell.execute_reply.started": "2022-04-28T12:58:09.603664Z"
    },
    "tags": []
   },
   "outputs": [
    {
     "name": "stderr",
     "output_type": "stream",
     "text": [
      "[Stage 0:>                                                          (0 + 1) / 1]\r"
     ]
    },
    {
     "name": "stdout",
     "output_type": "stream",
     "text": [
      "+---------------+\n",
      "|TABLESPACE_NAME|\n",
      "+---------------+\n",
      "|         SYSTEM|\n",
      "|         SYSAUX|\n",
      "|       UNDOTBS1|\n",
      "|           TEMP|\n",
      "|          USERS|\n",
      "+---------------+\n",
      "\n"
     ]
    },
    {
     "name": "stderr",
     "output_type": "stream",
     "text": [
      "                                                                                \r"
     ]
    }
   ],
   "source": [
    "df.show()"
   ]
  },
  {
   "cell_type": "code",
   "execution_count": 7,
   "metadata": {
    "execution": {
     "iopub.execute_input": "2022-04-28T12:58:21.568250Z",
     "iopub.status.busy": "2022-04-28T12:58:21.567938Z",
     "iopub.status.idle": "2022-04-28T12:58:22.317928Z",
     "shell.execute_reply": "2022-04-28T12:58:22.317414Z",
     "shell.execute_reply.started": "2022-04-28T12:58:21.568226Z"
    }
   },
   "outputs": [],
   "source": [
    "spark.stop()"
   ]
  },
  {
   "cell_type": "code",
   "execution_count": null,
   "metadata": {},
   "outputs": [],
   "source": []
  }
 ],
 "metadata": {
  "kernelspec": {
   "display_name": "Python 3 (ipykernel)",
   "language": "python",
   "name": "python3"
  },
  "language_info": {
   "codemirror_mode": {
    "name": "ipython",
    "version": 3
   },
   "file_extension": ".py",
   "mimetype": "text/x-python",
   "name": "python",
   "nbconvert_exporter": "python",
   "pygments_lexer": "ipython3",
   "version": "3.8.13"
  }
 },
 "nbformat": 4,
 "nbformat_minor": 4
}
