{
 "cells": [
  {
   "cell_type": "code",
   "execution_count": 1,
   "metadata": {
    "execution": {
     "iopub.execute_input": "2020-10-30T06:50:14.590572Z",
     "iopub.status.busy": "2020-10-30T06:50:14.590298Z",
     "iopub.status.idle": "2020-10-30T06:50:14.670617Z",
     "shell.execute_reply": "2020-10-30T06:50:14.669890Z",
     "shell.execute_reply.started": "2020-10-30T06:50:14.590545Z"
    }
   },
   "outputs": [],
   "source": []
  },
  {
   "cell_type": "code",
   "execution_count": 2,
   "metadata": {
    "execution": {
     "iopub.execute_input": "2020-10-30T06:50:15.844045Z",
     "iopub.status.busy": "2020-10-30T06:50:15.843766Z",
     "iopub.status.idle": "2020-10-30T06:50:15.852894Z",
     "shell.execute_reply": "2020-10-30T06:50:15.852350Z",
     "shell.execute_reply.started": "2020-10-30T06:50:15.844020Z"
    }
   },
   "outputs": [],
   "source": [
    "def get_spark(scale=0, queue=None):\n",
    "    import os\n",
    "    import uuid\n",
    "    import tempfile\n",
    "    from pyspark.sql import SparkSession\n",
    "    from pydatafabric.vault_utils import get_secrets\n",
    "\n",
    "    tmp_uuid = str(uuid.uuid4())\n",
    "    app_name = f\"emart-{os.environ.get('USER', 'default')}-{tmp_uuid}\"\n",
    "    if not queue:\n",
    "        if \"JUPYTERHUB_USER\" in os.environ:\n",
    "            queue = \"dmig_eda\"\n",
    "        else:\n",
    "            queue = \"airflow_job\"\n",
    "    os.environ[\"ARROW_PRE_0_15_IPC_FORMAT\"] = \"1\"\n",
    "\n",
    "    key = get_secrets(\"gcp/emart-datafabric/dataflow\")[\"config\"]\n",
    "    key_file_name = tempfile.mkstemp()[1]\n",
    "    with open(key_file_name, \"wb\") as key_file:\n",
    "        key_file.write(key.encode())\n",
    "        os.environ[\"GOOGLE_APPLICATION_CREDENTIALS\"] = key_file.name\n",
    "\n",
    "    spark = (\n",
    "        SparkSession.builder.config(\"spark.app.name\", app_name)\n",
    "        .config(\"spark.driver.memory\", \"6g\")\n",
    "        .config(\"spark.executor.memory\", \"8g\")\n",
    "        .config(\"spark.shuffle.service.enabled\", \"true\")\n",
    "        .config(\"spark.dynamicAllocation.enabled\", \"true\")\n",
    "        .config(\"spark.dynamicAllocation.maxExecutors\", \"200\")\n",
    "        .config(\"spark.driver.maxResultSize\", \"6g\")\n",
    "        .config(\"spark.rpc.message.maxSize\", \"1024\")\n",
    "        .config(\"spark.yarn.queue\", queue)\n",
    "        .config(\"spark.ui.enabled\", \"false\")\n",
    "        .config(\"spark.port.maxRetries\", \"128\")\n",
    "        .config(\"spark.executorEnv.ARROW_PRE_0_15_IPC_FORMAT\", \"1\")\n",
    "        .config(\"spark.yarn.appMasterEnv.ARROW_PRE_0_15_IPC_FORMAT\", \"1\")\n",
    "        .config(\n",
    "            \"spark.jars\",\n",
    "            \"hdfs:///jars/ojdbc8.jar,gs://external_libs/spark/jars/spark-bigquery-with-dependencies_2.11-0.16.1.jar\",\n",
    "        )\n",
    "        .enableHiveSupport()\n",
    "        .getOrCreate()\n",
    "    )\n",
    "    spark.conf.set(\"spark.sql.execution.arrow.enabled\", \"true\")\n",
    "    return spark"
   ]
  },
  {
   "cell_type": "code",
   "execution_count": 3,
   "metadata": {
    "execution": {
     "iopub.execute_input": "2020-10-30T06:50:18.728038Z",
     "iopub.status.busy": "2020-10-30T06:50:18.727784Z",
     "iopub.status.idle": "2020-10-30T06:50:29.098641Z",
     "shell.execute_reply": "2020-10-30T06:50:29.097686Z",
     "shell.execute_reply.started": "2020-10-30T06:50:18.728014Z"
    }
   },
   "outputs": [],
   "source": [
    "spark = get_spark()"
   ]
  },
  {
   "cell_type": "code",
   "execution_count": null,
   "metadata": {},
   "outputs": [],
   "source": [
    "url = \"jdbc:oracle:thin\"\n",
    "connection_properties = {\n",
    "    \"user\":\n",
    "    \"password\":\n",
    "    \"driver\": \"oracle.jdbc.driver.OracleDriver\"\n",
    "}"
   ]
  },
  {
   "cell_type": "code",
   "execution_count": 5,
   "metadata": {
    "execution": {
     "iopub.execute_input": "2020-10-30T06:51:01.007834Z",
     "iopub.status.busy": "2020-10-30T06:51:01.007544Z",
     "iopub.status.idle": "2020-10-30T06:51:01.416015Z",
     "shell.execute_reply": "2020-10-30T06:51:01.415404Z",
     "shell.execute_reply.started": "2020-10-30T06:51:01.007809Z"
    }
   },
   "outputs": [],
   "source": [
    "df = spark.read.format(\"jdbc\").option(\"url\", \"jdbc:oracle:thin:@10.40.84.202:1521:DataFabricD\").option(\"user\", \"aidp_svc\").option(\"password\", \"Aidpdev123$\").option(\"driver\", \"oracle.jdbc.driver.OracleDriver\").option(\"dbtable\", \"(SELECT TABLESPACE_NAME FROM USER_TABLESPACES) a\").load()"
   ]
  },
  {
   "cell_type": "code",
   "execution_count": 6,
   "metadata": {
    "execution": {
     "iopub.execute_input": "2020-10-30T06:51:02.568862Z",
     "iopub.status.busy": "2020-10-30T06:51:02.568597Z",
     "iopub.status.idle": "2020-10-30T06:51:09.233428Z",
     "shell.execute_reply": "2020-10-30T06:51:09.232805Z",
     "shell.execute_reply.started": "2020-10-30T06:51:02.568837Z"
    }
   },
   "outputs": [
    {
     "name": "stdout",
     "output_type": "stream",
     "text": [
      "+---------------+\n",
      "|TABLESPACE_NAME|\n",
      "+---------------+\n",
      "|         SYSTEM|\n",
      "|         SYSAUX|\n",
      "|       UNDOTBS1|\n",
      "|           TEMP|\n",
      "|          USERS|\n",
      "|       DataFabricD_TS|\n",
      "+---------------+\n",
      "\n"
     ]
    }
   ],
   "source": [
    "df.show()"
   ]
  },
  {
   "cell_type": "code",
   "execution_count": null,
   "metadata": {},
   "outputs": [],
   "source": []
  }
 ],
 "metadata": {
  "kernelspec": {
   "display_name": "Python 3",
   "language": "python",
   "name": "python3"
  },
  "language_info": {
   "codemirror_mode": {
    "name": "ipython",
    "version": 3
   },
   "file_extension": ".py",
   "mimetype": "text/x-python",
   "name": "python",
   "nbconvert_exporter": "python",
   "pygments_lexer": "ipython3",
   "version": "3.6.10"
  }
 },
 "nbformat": 4,
 "nbformat_minor": 4
}