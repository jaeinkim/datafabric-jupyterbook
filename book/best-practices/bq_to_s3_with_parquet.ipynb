{
 "cells": [
  {
   "cell_type": "code",
   "execution_count": 1,
   "metadata": {
    "execution": {
     "iopub.execute_input": "2022-05-03T04:50:15.844171Z",
     "iopub.status.busy": "2022-05-03T04:50:15.843750Z",
     "iopub.status.idle": "2022-05-03T04:50:15.850772Z",
     "shell.execute_reply": "2022-05-03T04:50:15.850153Z",
     "shell.execute_reply.started": "2022-05-03T04:50:15.844080Z"
    },
    "tags": [
     "parameters"
    ]
   },
   "outputs": [],
   "source": [
    "query = \"select * from smart-ruler-304409.product_attribute_module.app_review_keywords\"\n",
    "path = \"app_review_keywords\""
   ]
  },
  {
   "cell_type": "code",
   "execution_count": 2,
   "metadata": {
    "execution": {
     "iopub.execute_input": "2022-05-03T04:50:16.752518Z",
     "iopub.status.busy": "2022-05-03T04:50:16.752016Z",
     "iopub.status.idle": "2022-05-03T04:50:17.018524Z",
     "shell.execute_reply": "2022-05-03T04:50:17.017521Z",
     "shell.execute_reply.started": "2022-05-03T04:50:16.752481Z"
    },
    "tags": []
   },
   "outputs": [],
   "source": [
    "import os\n",
    "from pydatafabric.vault_utils import get_secrets\n",
    "aws_info = get_secrets(mount_point=\"datafabric\",path=\"mlops/access/data_loader\")"
   ]
  },
  {
   "cell_type": "code",
   "execution_count": 6,
   "metadata": {
    "execution": {
     "iopub.execute_input": "2022-05-03T04:52:41.080902Z",
     "iopub.status.busy": "2022-05-03T04:52:41.080291Z",
     "iopub.status.idle": "2022-05-03T04:52:41.084168Z",
     "shell.execute_reply": "2022-05-03T04:52:41.083460Z",
     "shell.execute_reply.started": "2022-05-03T04:52:41.080873Z"
    },
    "tags": []
   },
   "outputs": [],
   "source": [
    "bucket = \"mlops-loader-dev\"\n",
    "destination = f\"s3a://{bucket}/dynamodb/{path}/op=put/\""
   ]
  },
  {
   "cell_type": "code",
   "execution_count": 7,
   "metadata": {
    "execution": {
     "iopub.execute_input": "2022-05-03T04:52:41.779256Z",
     "iopub.status.busy": "2022-05-03T04:52:41.778843Z",
     "iopub.status.idle": "2022-05-03T04:52:41.845881Z",
     "shell.execute_reply": "2022-05-03T04:52:41.845283Z",
     "shell.execute_reply.started": "2022-05-03T04:52:41.779226Z"
    },
    "tags": []
   },
   "outputs": [],
   "source": [
    "from pydatafabric.ye import get_spark\n",
    "\n",
    "spark = get_spark()\n",
    "spark.conf.set(\"fs.s3a.fast.upload.buffer\", \"disk\")\n",
    "spark.conf.set(\"fs.s3a.buffer.dir\", \"/tmp\")\n",
    "spark.conf.set(\"fs.s3a.access.key\", aws_info[\"aws_access_key_id\"])\n",
    "spark.conf.set(\"fs.s3a.secret.key\", aws_info[\"aws_secret_access_key\"])"
   ]
  },
  {
   "cell_type": "markdown",
   "metadata": {},
   "source": [
    "### Parquet format으로 저장 "
   ]
  },
  {
   "cell_type": "code",
   "execution_count": 8,
   "metadata": {
    "execution": {
     "iopub.execute_input": "2022-05-03T04:52:43.486461Z",
     "iopub.status.busy": "2022-05-03T04:52:43.485740Z",
     "iopub.status.idle": "2022-05-03T04:52:51.853222Z",
     "shell.execute_reply": "2022-05-03T04:52:51.852548Z",
     "shell.execute_reply.started": "2022-05-03T04:52:43.486426Z"
    },
    "tags": []
   },
   "outputs": [
    {
     "name": "stderr",
     "output_type": "stream",
     "text": [
      "                                                                                \r"
     ]
    }
   ],
   "source": [
    "from pydatafabric.gcp import bq_to_df\n",
    "\n",
    "df = bq_to_df(query,spark_session=spark)\n",
    "df.write.mode(\"overwrite\").parquet(destination)"
   ]
  },
  {
   "cell_type": "code",
   "execution_count": null,
   "metadata": {},
   "outputs": [],
   "source": []
  }
 ],
 "metadata": {
  "kernelspec": {
   "display_name": "Python 3 (ipykernel)",
   "language": "python",
   "name": "python3"
  },
  "language_info": {
   "codemirror_mode": {
    "name": "ipython",
    "version": 3
   },
   "file_extension": ".py",
   "mimetype": "text/x-python",
   "name": "python",
   "nbconvert_exporter": "python",
   "pygments_lexer": "ipython3",
   "version": "3.8.13"
  }
 },
 "nbformat": 4,
 "nbformat_minor": 4
}
