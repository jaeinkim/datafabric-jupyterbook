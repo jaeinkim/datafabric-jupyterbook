{
 "cells": [
  {
   "cell_type": "code",
   "execution_count": 3,
   "metadata": {
    "execution": {
     "iopub.execute_input": "2022-04-25T13:32:15.141425Z",
     "iopub.status.busy": "2022-04-25T13:32:15.141129Z",
     "iopub.status.idle": "2022-04-25T13:32:15.144187Z",
     "shell.execute_reply": "2022-04-25T13:32:15.143710Z",
     "shell.execute_reply.started": "2022-04-25T13:32:15.141400Z"
    },
    "tags": [
     "parameters"
    ]
   },
   "outputs": [],
   "source": [
    "query = \"select * from smart-ruler-304409.product_attribute_module.app_review_keywords\"\n",
    "path = \"app_review_keywords_parquet\""
   ]
  },
  {
   "cell_type": "code",
   "execution_count": 6,
   "metadata": {
    "execution": {
     "iopub.execute_input": "2022-04-25T13:32:50.710816Z",
     "iopub.status.busy": "2022-04-25T13:32:50.710288Z",
     "iopub.status.idle": "2022-04-25T13:32:50.748724Z",
     "shell.execute_reply": "2022-04-25T13:32:50.748298Z",
     "shell.execute_reply.started": "2022-04-25T13:32:50.710782Z"
    }
   },
   "outputs": [],
   "source": [
    "import os\n",
    "from pydatafabric.vault_utils import get_secrets\n",
    "aws_info = get_secrets(mount_point=\"datafabric\",path=\"mlops/access/data_loader\")"
   ]
  },
  {
   "cell_type": "code",
   "execution_count": 4,
   "metadata": {
    "execution": {
     "iopub.execute_input": "2022-04-25T13:32:28.482574Z",
     "iopub.status.busy": "2022-04-25T13:32:28.482278Z",
     "iopub.status.idle": "2022-04-25T13:32:28.485470Z",
     "shell.execute_reply": "2022-04-25T13:32:28.484940Z",
     "shell.execute_reply.started": "2022-04-25T13:32:28.482550Z"
    }
   },
   "outputs": [],
   "source": [
    "bucket = \"mlops-loader-dev\"\n",
    "destination = f\"s3a://{bucket}/{path}/\""
   ]
  },
  {
   "cell_type": "code",
   "execution_count": 7,
   "metadata": {
    "execution": {
     "iopub.execute_input": "2022-04-25T13:32:52.627842Z",
     "iopub.status.busy": "2022-04-25T13:32:52.627553Z",
     "iopub.status.idle": "2022-04-25T13:32:52.669161Z",
     "shell.execute_reply": "2022-04-25T13:32:52.668720Z",
     "shell.execute_reply.started": "2022-04-25T13:32:52.627819Z"
    },
    "tags": []
   },
   "outputs": [],
   "source": [
    "from pydatafabric.ye import get_spark\n",
    "\n",
    "spark = get_spark()\n",
    "spark.conf.set(\"fs.s3a.fast.upload.buffer\", \"disk\")\n",
    "spark.conf.set(\"fs.s3a.buffer.dir\", \"/tmp\")\n",
    "spark.conf.set(\"fs.s3a.access.key\", aws_info[\"aws_access_key_id\"])\n",
    "spark.conf.set(\"fs.s3a.secret.key\", aws_info[\"aws_secret_access_key\"])"
   ]
  },
  {
   "cell_type": "markdown",
   "metadata": {},
   "source": [
    "### Parquet format으로 저장 "
   ]
  },
  {
   "cell_type": "code",
   "execution_count": null,
   "metadata": {
    "execution": {
     "iopub.status.busy": "2022-04-25T13:32:38.666712Z",
     "iopub.status.idle": "2022-04-25T13:32:38.666952Z",
     "shell.execute_reply": "2022-04-25T13:32:38.666837Z",
     "shell.execute_reply.started": "2022-04-25T13:32:38.666825Z"
    },
    "tags": []
   },
   "outputs": [],
   "source": [
    "from pydatafabric.gcp import bq_to_df\n",
    "\n",
    "df = bq_to_df(query,spark_session=spark)\n",
    "df.write.mode(\"overwrite\").parquet(destination)"
   ]
  }
 ],
 "metadata": {
  "kernelspec": {
   "display_name": "Python 3 (ipykernel)",
   "language": "python",
   "name": "python3"
  },
  "language_info": {
   "codemirror_mode": {
    "name": "ipython",
    "version": 3
   },
   "file_extension": ".py",
   "mimetype": "text/x-python",
   "name": "python",
   "nbconvert_exporter": "python",
   "pygments_lexer": "ipython3",
   "version": "3.8.13"
  }
 },
 "nbformat": 4,
 "nbformat_minor": 4
}
