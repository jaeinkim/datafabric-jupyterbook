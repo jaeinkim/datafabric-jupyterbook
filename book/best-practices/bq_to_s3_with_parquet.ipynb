{
 "cells": [
  {
   "cell_type": "code",
   "execution_count": 1,
   "metadata": {
    "execution": {
     "iopub.execute_input": "2022-10-04T06:12:50.624160Z",
     "iopub.status.busy": "2022-10-04T06:12:50.623807Z",
     "iopub.status.idle": "2022-10-04T06:12:50.629877Z",
     "shell.execute_reply": "2022-10-04T06:12:50.629289Z",
     "shell.execute_reply.started": "2022-10-04T06:12:50.624089Z"
    }
   },
   "outputs": [],
   "source": [
    "PROJECT = \"emart-datafabric\"\n",
    "DATASET = \"common_dev\"\n",
    "TABLE = \"dfm_sample_eapp_review_keywords\"\n",
    "LIMIT = 30"
   ]
  },
  {
   "cell_type": "code",
   "execution_count": 2,
   "metadata": {
    "execution": {
     "iopub.execute_input": "2022-10-04T06:13:55.266365Z",
     "iopub.status.busy": "2022-10-04T06:13:55.265984Z",
     "iopub.status.idle": "2022-10-04T06:13:55.269297Z",
     "shell.execute_reply": "2022-10-04T06:13:55.268784Z",
     "shell.execute_reply.started": "2022-10-04T06:13:55.266341Z"
    }
   },
   "outputs": [],
   "source": [
    "query = f\"select * from {PROJECT}.{DATASET}.{TABLE}\"\n",
    "path = \"app_review_keywords/parquet\""
   ]
  },
  {
   "cell_type": "code",
   "execution_count": 2,
   "metadata": {
    "execution": {
     "iopub.execute_input": "2022-09-30T04:07:34.099477Z",
     "iopub.status.busy": "2022-09-30T04:07:34.099146Z",
     "iopub.status.idle": "2022-09-30T04:07:34.203110Z",
     "shell.execute_reply": "2022-09-30T04:07:34.202550Z",
     "shell.execute_reply.started": "2022-09-30T04:07:34.099456Z"
    },
    "tags": []
   },
   "outputs": [],
   "source": [
    "import os\n",
    "from pydatafabric.vault_utils import get_secrets\n",
    "aws_info = get_secrets(mount_point=\"datafabric\",path=\"aws/credentials/datafabric\")"
   ]
  },
  {
   "cell_type": "code",
   "execution_count": 3,
   "metadata": {
    "execution": {
     "iopub.execute_input": "2022-09-30T04:07:36.779351Z",
     "iopub.status.busy": "2022-09-30T04:07:36.778976Z",
     "iopub.status.idle": "2022-09-30T04:07:36.782341Z",
     "shell.execute_reply": "2022-09-30T04:07:36.781874Z",
     "shell.execute_reply.started": "2022-09-30T04:07:36.779329Z"
    },
    "tags": []
   },
   "outputs": [],
   "source": [
    "env = \"dev\" \n",
    "bucket = f\"emart-datafabric-{env}\"\n",
    "destination = f\"s3a://{bucket}/bigquery-db/{path}/op=put/\""
   ]
  },
  {
   "cell_type": "code",
   "execution_count": 4,
   "metadata": {
    "execution": {
     "iopub.execute_input": "2022-09-30T04:07:38.014694Z",
     "iopub.status.busy": "2022-09-30T04:07:38.014320Z",
     "iopub.status.idle": "2022-09-30T04:07:46.066562Z",
     "shell.execute_reply": "2022-09-30T04:07:46.065883Z",
     "shell.execute_reply.started": "2022-09-30T04:07:38.014673Z"
    },
    "tags": []
   },
   "outputs": [
    {
     "name": "stderr",
     "output_type": "stream",
     "text": [
      "Setting default log level to \"WARN\".\n",
      "To adjust logging level use sc.setLogLevel(newLevel). For SparkR, use setLogLevel(newLevel).\n",
      "22/09/30 13:07:41 INFO org.apache.spark.SparkEnv: Registering MapOutputTracker\n",
      "22/09/30 13:07:41 INFO org.apache.spark.SparkEnv: Registering BlockManagerMaster\n",
      "22/09/30 13:07:41 INFO org.apache.spark.SparkEnv: Registering BlockManagerMasterHeartbeat\n",
      "22/09/30 13:07:41 INFO org.apache.spark.SparkEnv: Registering OutputCommitCoordinator\n"
     ]
    }
   ],
   "source": [
    "from pydatafabric.ye import get_spark\n",
    "\n",
    "spark = get_spark()\n",
    "spark.conf.set(\"fs.s3a.fast.upload.buffer\", \"disk\")\n",
    "spark.conf.set(\"fs.s3a.buffer.dir\", \"/tmp\")\n",
    "spark.conf.set(\"fs.s3a.access.key\", aws_info[\"aws_access_key_id\"])\n",
    "spark.conf.set(\"fs.s3a.secret.key\", aws_info[\"aws_secret_access_key\"])"
   ]
  },
  {
   "cell_type": "markdown",
   "metadata": {},
   "source": [
    "### Parquet format으로 저장 "
   ]
  },
  {
   "cell_type": "code",
   "execution_count": 5,
   "metadata": {
    "execution": {
     "iopub.execute_input": "2022-09-30T04:08:49.929830Z",
     "iopub.status.busy": "2022-09-30T04:08:49.929275Z",
     "iopub.status.idle": "2022-09-30T04:09:10.823587Z",
     "shell.execute_reply": "2022-09-30T04:09:10.822947Z",
     "shell.execute_reply.started": "2022-09-30T04:08:49.929798Z"
    },
    "tags": []
   },
   "outputs": [
    {
     "name": "stderr",
     "output_type": "stream",
     "text": [
      "                                                                                \r"
     ]
    }
   ],
   "source": [
    "from pydatafabric.gcp import bq_to_df\n",
    "\n",
    "df = bq_to_df(query,spark_session=spark)\n",
    "df.write.mode(\"overwrite\").parquet(destination)"
   ]
  },
  {
   "cell_type": "code",
   "execution_count": 6,
   "metadata": {
    "execution": {
     "iopub.execute_input": "2022-09-30T04:10:10.407623Z",
     "iopub.status.busy": "2022-09-30T04:10:10.407242Z",
     "iopub.status.idle": "2022-09-30T04:10:13.819137Z",
     "shell.execute_reply": "2022-09-30T04:10:13.818407Z",
     "shell.execute_reply.started": "2022-09-30T04:10:10.407598Z"
    },
    "tags": []
   },
   "outputs": [
    {
     "name": "stdout",
     "output_type": "stream",
     "text": [
      "2022-09-30 13:10:11,565 INFO impl.MetricsConfig: Loaded properties from hadoop-metrics2.properties\n",
      "2022-09-30 13:10:11,627 INFO impl.MetricsSystemImpl: Scheduled Metric snapshot period at 10 second(s).\n",
      "2022-09-30 13:10:11,627 INFO impl.MetricsSystemImpl: s3a-file-system metrics system started\n",
      "Found 2 items\n",
      "-rw-rw-rw-   1 datafabric datafabric          0 2022-09-30 13:09 s3a://emart-datafabric-dev/bigquery-db/app_review_keywords/op=put/_SUCCESS\n",
      "-rw-rw-rw-   1 datafabric datafabric   15250175 2022-09-30 13:09 s3a://emart-datafabric-dev/bigquery-db/app_review_keywords/op=put/part-00000-113804b6-29d0-4481-b07c-8d59e45f0a3a-c000.snappy.parquet\n",
      "2022-09-30 13:10:13,368 INFO impl.MetricsSystemImpl: Stopping s3a-file-system metrics system...\n",
      "2022-09-30 13:10:13,368 INFO impl.MetricsSystemImpl: s3a-file-system metrics system stopped.\n",
      "2022-09-30 13:10:13,368 INFO impl.MetricsSystemImpl: s3a-file-system metrics system shutdown complete.\n"
     ]
    }
   ],
   "source": [
    "!hdfs dfs -Dhadoop.security.credential.provider.path=jceks:///datafabric/credentials/aws.jceks -ls {destination}"
   ]
  }
 ],
 "metadata": {
  "kernelspec": {
   "display_name": "Python 3 (ipykernel)",
   "language": "python",
   "name": "python3"
  },
  "language_info": {
   "codemirror_mode": {
    "name": "ipython",
    "version": 3
   },
   "file_extension": ".py",
   "mimetype": "text/x-python",
   "name": "python",
   "nbconvert_exporter": "python",
   "pygments_lexer": "ipython3",
   "version": "3.8.13"
  }
 },
 "nbformat": 4,
 "nbformat_minor": 4
}
