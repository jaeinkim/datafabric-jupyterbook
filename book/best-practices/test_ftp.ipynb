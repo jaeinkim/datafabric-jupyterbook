{
 "cells": [
  {
   "cell_type": "code",
   "execution_count": null,
   "metadata": {
    "tags": [
     "parameters"
    ]
   },
   "outputs": [],
   "source": [
    "# parameters\n",
    "ENV = 'prd'"
   ]
  },
  {
   "cell_type": "code",
   "execution_count": null,
   "metadata": {},
   "outputs": [],
   "source": [
    "from ftplib import FTP\n",
    "\n",
    "from pydatafabric.vault_utils import get_secrets\n",
    "\n",
    "secret = get_secrets('tos/ftp')\n",
    "user = secret['user']\n",
    "password = secret['password']\n",
    "host = secret['host']\n",
    "\n",
    "\n",
    "# dev\n",
    "if (ENV == 'dev'):\n",
    "    host = '150.19.43.253'\n",
    "\n",
    "\n",
    "ftp_path = f'/ETL_NAS/TOSIFDAT/AI/'\n",
    "\n",
    "# dev\n",
    "if (ENV == 'dev'):\n",
    "    ftp_path = f'/data/TOSIFDAT/AI/'"
   ]
  },
  {
   "cell_type": "code",
   "execution_count": null,
   "metadata": {},
   "outputs": [],
   "source": [
    "print(secret)\n",
    "print(host)"
   ]
  },
  {
   "cell_type": "code",
   "execution_count": null,
   "metadata": {},
   "outputs": [],
   "source": [
    "ftp = FTP(host=host, user=user, passwd=password)\n",
    "ftp.set_debuglevel(2)"
   ]
  },
  {
   "cell_type": "code",
   "execution_count": null,
   "metadata": {},
   "outputs": [],
   "source": [
    "ftp.cwd(ftp_path)\n",
    "ftp.dir()"
   ]
  },
  {
   "cell_type": "code",
   "execution_count": null,
   "metadata": {},
   "outputs": [],
   "source": [
    "ftp.quit()"
   ]
  }
 ],
 "metadata": {
  "kernelspec": {
   "display_name": "Python 3",
   "language": "python",
   "name": "python3"
  },
  "language_info": {
   "codemirror_mode": {
    "name": "ipython",
    "version": 3
   },
   "file_extension": ".py",
   "mimetype": "text/x-python",
   "name": "python",
   "nbconvert_exporter": "python",
   "pygments_lexer": "ipython3",
   "version": "3.6.10"
  }
 },
 "nbformat": 4,
 "nbformat_minor": 4
}