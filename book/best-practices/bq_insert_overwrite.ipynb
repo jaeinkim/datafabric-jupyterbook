{
 "cells": [
  {
   "cell_type": "code",
   "execution_count": null,
   "id": "cd920392-8c68-490a-bb9c-0bdf2d735b11",
   "metadata": {
    "tags": [
     "parameters"
    ]
   },
   "outputs": [],
   "source": [
    "PARTITION_STR = \"dt='20210721'\"\n",
    "DATASET = \"di_mno_offer\"\n",
    "TABLE = \"covid_social_contact_index_pred_ldong_cd_10_daily\""
   ]
  },
  {
   "cell_type": "code",
   "execution_count": null,
   "id": "9ef1af15-f5be-48b6-af61-5d90acbde2bc",
   "metadata": {},
   "outputs": [],
   "source": [
    "from pydatafabric.gcp import bq_insert_overwrite\n",
    "from pydatafabric.gcp import df_to_bq_table\n",
    "from pydatafabric.ye import get_spark"
   ]
  },
  {
   "cell_type": "code",
   "execution_count": null,
   "id": "1cfa46f3-53cb-4b6a-aee0-d82ea49f5bbd",
   "metadata": {},
   "outputs": [],
   "source": [
    "spark = get_spark()"
   ]
  },
  {
   "cell_type": "code",
   "execution_count": null,
   "id": "3f4634aa-7492-4816-ab41-934ccb129457",
   "metadata": {
    "tags": []
   },
   "outputs": [],
   "source": [
    "df = spark.sql(f\"\"\"\n",
    "    select *\n",
    "    from saturn.{TABLE} \n",
    "    where {PARTITION_STR}\n",
    "\"\"\")\n",
    "df_to_bq_table(df, \"temp_1d\", TABLE)"
   ]
  },
  {
   "cell_type": "code",
   "execution_count": null,
   "id": "21586445-239d-4039-99c6-9e89431107e3",
   "metadata": {
    "tags": []
   },
   "outputs": [],
   "source": [
    "bq_insert_overwrite(f\"\"\"\n",
    "select * except(dt), parse_date('%Y%m%d', dt) as dt \n",
    "from temp_1d.{TABLE}\n",
    "\"\"\", f\"emart-datafabric.{DATASET}.{TABLE}\")"
   ]
  }
 ],
 "metadata": {
  "kernelspec": {
   "display_name": "Python 3",
   "language": "python",
   "name": "python3"
  },
  "language_info": {
   "codemirror_mode": {
    "name": "ipython",
    "version": 3
   },
   "file_extension": ".py",
   "mimetype": "text/x-python",
   "name": "python",
   "nbconvert_exporter": "python",
   "pygments_lexer": "ipython3",
   "version": "3.6.13"
  }
 },
 "nbformat": 4,
 "nbformat_minor": 5
}