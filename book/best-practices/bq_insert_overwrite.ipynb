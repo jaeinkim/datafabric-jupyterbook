{
 "cells": [
  {
   "cell_type": "markdown",
   "id": "28ecd600-6e51-46e8-b59b-658af2f3a772",
   "metadata": {},
   "source": [
    "## bq_insert_overwrite 모듈 예제"
   ]
  },
  {
   "cell_type": "code",
   "execution_count": 9,
   "id": "cd920392-8c68-490a-bb9c-0bdf2d735b11",
   "metadata": {
    "execution": {
     "iopub.execute_input": "2022-10-04T05:56:24.125724Z",
     "iopub.status.busy": "2022-10-04T05:56:24.125424Z",
     "iopub.status.idle": "2022-10-04T05:56:24.128655Z",
     "shell.execute_reply": "2022-10-04T05:56:24.128157Z",
     "shell.execute_reply.started": "2022-10-04T05:56:24.125703Z"
    },
    "tags": [
     "parameters"
    ]
   },
   "outputs": [],
   "source": [
    "PROJECT = \"emart-datafabric\"\n",
    "DATASET = \"common_dev\"\n",
    "TABLE = \"dfm_sample_st_log\"\n",
    "LIMIT = 30\n",
    "\n",
    "!nslookup ontap-prd.jupyterhub.svc.cluster.local\n",
    "import socket,os\n",
    "print(\"===========================================================\")\n",
    "print(socket.gethostname())\n",
    "MYIP = socket.gethostbyname(socket.gethostname())\n",
    "MYIP\n",
    "print(\"===========================================================\")\n",
    "\n",
    "import uuid\n",
    "from pyspark.sql import SparkSession\n",
    "tmp_uuid = str(uuid.uuid4())\n",
    "app_name = f\"emart-{os.environ.get('USER', 'default')}-{tmp_uuid}\"\n",
    "\n",
    "spark_jars = \"hdfs:///jars/spark-bigquery-with-dependencies_2.12-latest.jar\"\n",
    "spark = (\n",
    "    SparkSession.builder.config(\"spark.app.name\", app_name)\n",
    "    .config(\"spark.driver.memory\", \"6g\")\n",
    "    .config(\"spark.executor.memory\", \"8g\")\n",
    "    .config(\"spark.shuffle.service.enabled\", \"true\")\n",
    "    .config(\"spark.dynamicAllocation.enabled\", \"true\")\n",
    "    .config(\"spark.dynamicAllocation.maxExecutors\", \"200\")\n",
    "    .config(\"spark.driver.maxResultSize\", \"6g\")\n",
    "    .config(\"spark.rpc.message.maxSize\", \"1024\")\n",
    "    .config(\"spark.yarn.queue\", \"default\")\n",
    "    .config(\"spark.ui.enabled\", \"false\")\n",
    "    .config(\"spark.driver.host\", MYIP)\n",
    "    .config(\"spark.driver.bindAddress\", MYIP)\n",
    "    .config(\"spark.port.maxRetries\", \"128\")\n",
    "    .config(\n",
    "        \"spark.jars\",\n",
    "        spark_jars,\n",
    "    )\n",
    "    .enableHiveSupport()\n",
    "    .getOrCreate()\n",
    ")\n"
   ]
  },
  {
   "cell_type": "code",
   "execution_count": 2,
   "outputs": [
    {
     "name": "stderr",
     "output_type": "stream",
     "text": [
      "Setting default log level to \"WARN\".\n",
      "To adjust logging level use sc.setLogLevel(newLevel). For SparkR, use setLogLevel(newLevel).\n",
      "22/10/04 14:47:35 INFO org.apache.spark.SparkEnv: Registering MapOutputTracker\n",
      "22/10/04 14:47:35 INFO org.apache.spark.SparkEnv: Registering BlockManagerMaster\n",
      "22/10/04 14:47:35 INFO org.apache.spark.SparkEnv: Registering BlockManagerMasterHeartbeat\n",
      "22/10/04 14:47:35 INFO org.apache.spark.SparkEnv: Registering OutputCommitCoordinator\n"
     ]
    }
   ],
   "source": [
    "from pydatafabric.gcp import bq_to_df, df_to_bq_table, bq_insert_overwrite, get_spark\n",
    "from pydatafabric.gcp import df_to_bq_table\n",
    "\n",
    "#spark = get_spark()\n",
    "print(spark)"
   ],
   "metadata": {
    "collapsed": false
   }
  },
  {
   "cell_type": "markdown",
   "id": "f378ae61-f813-4ba1-8d33-eaed37e30dd6",
   "metadata": {},
   "source": [
    "### bq를 df로 받아서 df를 다시 다른 데이터셋으로 저장하기"
   ]
  },
  {
   "cell_type": "code",
   "execution_count": 3,
   "id": "3f4634aa-7492-4816-ab41-934ccb129457",
   "metadata": {
    "execution": {
     "iopub.execute_input": "2022-10-04T05:47:42.051522Z",
     "iopub.status.busy": "2022-10-04T05:47:42.051103Z",
     "iopub.status.idle": "2022-10-04T05:48:01.937574Z",
     "shell.execute_reply": "2022-10-04T05:48:01.936947Z",
     "shell.execute_reply.started": "2022-10-04T05:47:42.051489Z"
    },
    "tags": []
   },
   "outputs": [
    {
     "name": "stderr",
     "output_type": "stream",
     "text": [
      "                                                                                \r"
     ]
    }
   ],
   "source": [
    "df = bq_to_df(f\"\"\"\n",
    "    select *\n",
    "    from  `{PROJECT}.{DATASET}.{TABLE}`\n",
    "    limit {LIMIT}\n",
    "\"\"\", spark_session=spark)\n",
    "\n",
    "df_to_bq_table(df, \"temp_1d\", TABLE, project=PROJECT)"
   ]
  },
  {
   "cell_type": "markdown",
   "id": "f8c9982b-e25b-4430-a4c9-047bf7e26a0d",
   "metadata": {},
   "source": [
    "### 기존 테이블 project 바꾸어서 insert overwrite하기"
   ]
  },
  {
   "cell_type": "code",
   "execution_count": 4,
   "id": "21586445-239d-4039-99c6-9e89431107e3",
   "metadata": {
    "execution": {
     "iopub.execute_input": "2022-10-04T05:50:55.701345Z",
     "iopub.status.busy": "2022-10-04T05:50:55.700964Z",
     "iopub.status.idle": "2022-10-04T05:50:58.000526Z",
     "shell.execute_reply": "2022-10-04T05:50:57.999972Z",
     "shell.execute_reply.started": "2022-10-04T05:50:55.701321Z"
    },
    "tags": []
   },
   "outputs": [
    {
     "name": "stdout",
     "output_type": "stream",
     "text": [
      "destination: smart-ruler-304409.temp_1d.dfm_sample_st_log\n",
      "total_rows: 30\n",
      "slot_secs: 0.64\n",
      "\n"
     ]
    }
   ],
   "source": [
    "bq_insert_overwrite(f\"\"\"\n",
    "    select * \n",
    "    from `{PROJECT}.temp_1d.{TABLE}`\n",
    "\"\"\", f\"smart-ruler-304409.temp_1d.{TABLE}\", project=\"smart-ruler-304409\")"
   ]
  },
  {
   "cell_type": "markdown",
   "id": "5412ec13-7064-4096-9f39-fc1c1beaab38",
   "metadata": {},
   "source": [
    "### 데이터 확인하기"
   ]
  },
  {
   "cell_type": "code",
   "execution_count": 5,
   "id": "4e8ec026-a60e-4e24-96b8-b03264ba9d80",
   "metadata": {
    "execution": {
     "iopub.execute_input": "2022-10-04T05:51:00.904790Z",
     "iopub.status.busy": "2022-10-04T05:51:00.904402Z",
     "iopub.status.idle": "2022-10-04T05:51:00.936670Z",
     "shell.execute_reply": "2022-10-04T05:51:00.936176Z",
     "shell.execute_reply.started": "2022-10-04T05:51:00.904766Z"
    },
    "tags": []
   },
   "outputs": [],
   "source": [
    "from pydatafabric.gcp import load_bigquery_ipython_magic\n",
    "\n",
    "load_bigquery_ipython_magic()"
   ]
  },
  {
   "cell_type": "code",
   "execution_count": 6,
   "id": "49031784-77a7-443b-9081-205ecc22b42c",
   "metadata": {
    "execution": {
     "iopub.execute_input": "2022-10-04T05:51:19.219303Z",
     "iopub.status.busy": "2022-10-04T05:51:19.218883Z",
     "iopub.status.idle": "2022-10-04T05:51:21.003928Z",
     "shell.execute_reply": "2022-10-04T05:51:21.003429Z",
     "shell.execute_reply.started": "2022-10-04T05:51:19.219279Z"
    },
    "tags": []
   },
   "outputs": [
    {
     "name": "stderr",
     "output_type": "stream",
     "text": [
      "Query complete after 0.01s: 100%|██████████| 2/2 [00:00<00:00, 1693.30query/s]                        \n",
      "Downloading: 100%|██████████| 10/10 [00:00<00:00, 12.05rows/s]"
     ]
    },
    {
     "name": "stdout",
     "output_type": "stream",
     "text": [
      "BigQuery execution took 1 seconds.\n"
     ]
    },
    {
     "name": "stderr",
     "output_type": "stream",
     "text": [
      "\n"
     ]
    },
    {
     "data": {
      "text/html": [
       "<div>\n",
       "<style scoped>\n",
       "    .dataframe tbody tr th:only-of-type {\n",
       "        vertical-align: middle;\n",
       "    }\n",
       "\n",
       "    .dataframe tbody tr th {\n",
       "        vertical-align: top;\n",
       "    }\n",
       "\n",
       "    .dataframe thead th {\n",
       "        text-align: right;\n",
       "    }\n",
       "</style>\n",
       "<table border=\"1\" class=\"dataframe\">\n",
       "  <thead>\n",
       "    <tr style=\"text-align: right;\">\n",
       "      <th></th>\n",
       "      <th>seq</th>\n",
       "      <th>site_code</th>\n",
       "      <th>url</th>\n",
       "      <th>guid1</th>\n",
       "      <th>guid2</th>\n",
       "      <th>insert_dt</th>\n",
       "      <th>device_type</th>\n",
       "      <th>os_type</th>\n",
       "      <th>os_name</th>\n",
       "      <th>browser_name</th>\n",
       "      <th>cust_id</th>\n",
       "      <th>rgst_dt</th>\n",
       "      <th>rgst_tm</th>\n",
       "      <th>ip_address</th>\n",
       "      <th>refer_url</th>\n",
       "      <th>tracking_code</th>\n",
       "      <th>dt</th>\n",
       "    </tr>\n",
       "  </thead>\n",
       "  <tbody>\n",
       "    <tr>\n",
       "      <th>0</th>\n",
       "      <td>9999999999.000000000</td>\n",
       "      <td>40</td>\n",
       "      <td>/main/main.do</td>\n",
       "      <td>E5777BF4238F6E6EE0531F1D64AE2FDD</td>\n",
       "      <td>E5777BF423906E6EE0531F1D64AE2FDD</td>\n",
       "      <td>2022-08-06 01:36:38</td>\n",
       "      <td>E</td>\n",
       "      <td>E</td>\n",
       "      <td>OS X</td>\n",
       "      <td>Chrome</td>\n",
       "      <td>ad4f6a9d00a905a58e3b19d3b2443717a11cd539244787...</td>\n",
       "      <td>20220806</td>\n",
       "      <td>013638</td>\n",
       "      <td>39.115.53.89</td>\n",
       "      <td>https://deva-eapp.emart.com/</td>\n",
       "      <td>None</td>\n",
       "      <td>2022-08-06</td>\n",
       "    </tr>\n",
       "    <tr>\n",
       "      <th>1</th>\n",
       "      <td>9999999999.000000000</td>\n",
       "      <td>40</td>\n",
       "      <td>/login/login.do</td>\n",
       "      <td>E5777BF4238F6E6EE0531F1D64AE2FDD</td>\n",
       "      <td>E5777BF423906E6EE0531F1D64AE2FDD</td>\n",
       "      <td>2022-08-06 01:36:40</td>\n",
       "      <td>E</td>\n",
       "      <td>E</td>\n",
       "      <td>OS X</td>\n",
       "      <td>Chrome</td>\n",
       "      <td>ad4f6a9d00a905a58e3b19d3b2443717a11cd539244787...</td>\n",
       "      <td>20220806</td>\n",
       "      <td>013640</td>\n",
       "      <td>39.115.53.89</td>\n",
       "      <td>https://deva-eapp.emart.com/main/main.do</td>\n",
       "      <td>None</td>\n",
       "      <td>2022-08-06</td>\n",
       "    </tr>\n",
       "    <tr>\n",
       "      <th>2</th>\n",
       "      <td>9999999999.000000000</td>\n",
       "      <td>40</td>\n",
       "      <td>/common/EncryptData.do?generateKeypair=true</td>\n",
       "      <td>E5777BF4238F6E6EE0531F1D64AE2FDD</td>\n",
       "      <td>E5777BF423906E6EE0531F1D64AE2FDD</td>\n",
       "      <td>2022-08-06 01:36:44</td>\n",
       "      <td>E</td>\n",
       "      <td>E</td>\n",
       "      <td>OS X</td>\n",
       "      <td>Chrome</td>\n",
       "      <td>ad4f6a9d00a905a58e3b19d3b2443717a11cd539244787...</td>\n",
       "      <td>20220806</td>\n",
       "      <td>013644</td>\n",
       "      <td>39.115.53.89</td>\n",
       "      <td>https://deva-eapp.emart.com/login/login.do</td>\n",
       "      <td>None</td>\n",
       "      <td>2022-08-06</td>\n",
       "    </tr>\n",
       "    <tr>\n",
       "      <th>3</th>\n",
       "      <td>9999999999.000000000</td>\n",
       "      <td>40</td>\n",
       "      <td>/login/processLogin.do</td>\n",
       "      <td>E5777BF4238F6E6EE0531F1D64AE2FDD</td>\n",
       "      <td>E5777BF423906E6EE0531F1D64AE2FDD</td>\n",
       "      <td>2022-08-06 01:36:44</td>\n",
       "      <td>E</td>\n",
       "      <td>E</td>\n",
       "      <td>OS X</td>\n",
       "      <td>Chrome</td>\n",
       "      <td>ad4f6a9d00a905a58e3b19d3b2443717a11cd539244787...</td>\n",
       "      <td>20220806</td>\n",
       "      <td>013644</td>\n",
       "      <td>39.115.53.89</td>\n",
       "      <td>https://deva-eapp.emart.com/login/login.do</td>\n",
       "      <td>None</td>\n",
       "      <td>2022-08-06</td>\n",
       "    </tr>\n",
       "    <tr>\n",
       "      <th>4</th>\n",
       "      <td>9999999999.000000000</td>\n",
       "      <td>40</td>\n",
       "      <td>/login/processLoginResult.do?result=00</td>\n",
       "      <td>E5777BF4238F6E6EE0531F1D64AE2FDD</td>\n",
       "      <td>E5777BF423906E6EE0531F1D64AE2FDD</td>\n",
       "      <td>2022-08-06 01:36:45</td>\n",
       "      <td>E</td>\n",
       "      <td>E</td>\n",
       "      <td>OS X</td>\n",
       "      <td>Chrome</td>\n",
       "      <td>ad4f6a9d00a905a58e3b19d3b2443717a11cd539244787...</td>\n",
       "      <td>20220806</td>\n",
       "      <td>013645</td>\n",
       "      <td>39.115.53.89</td>\n",
       "      <td>https://deva-eapp.emart.com/login/login.do</td>\n",
       "      <td>None</td>\n",
       "      <td>2022-08-06</td>\n",
       "    </tr>\n",
       "    <tr>\n",
       "      <th>5</th>\n",
       "      <td>9999999999.000000000</td>\n",
       "      <td>40</td>\n",
       "      <td>/main/main.do</td>\n",
       "      <td>E5777BF4238F6E6EE0531F1D64AE2FDD</td>\n",
       "      <td>E5777BF423906E6EE0531F1D64AE2FDD</td>\n",
       "      <td>2022-08-06 01:36:45</td>\n",
       "      <td>E</td>\n",
       "      <td>E</td>\n",
       "      <td>OS X</td>\n",
       "      <td>Chrome</td>\n",
       "      <td>ad4f6a9d00a905a58e3b19d3b2443717a11cd539244787...</td>\n",
       "      <td>20220806</td>\n",
       "      <td>013645</td>\n",
       "      <td>39.115.53.89</td>\n",
       "      <td>https://deva-eapp.emart.com/login/login.do</td>\n",
       "      <td>None</td>\n",
       "      <td>2022-08-06</td>\n",
       "    </tr>\n",
       "    <tr>\n",
       "      <th>6</th>\n",
       "      <td>9999999999.000000000</td>\n",
       "      <td>40</td>\n",
       "      <td>/app/favoriteInfo.do?storeTp=E</td>\n",
       "      <td>E5777BF4238F6E6EE0531F1D64AE2FDD</td>\n",
       "      <td>E5777BF423906E6EE0531F1D64AE2FDD</td>\n",
       "      <td>2022-08-06 01:36:46</td>\n",
       "      <td>E</td>\n",
       "      <td>E</td>\n",
       "      <td>OS X</td>\n",
       "      <td>Chrome</td>\n",
       "      <td>ad4f6a9d00a905a58e3b19d3b2443717a11cd539244787...</td>\n",
       "      <td>20220806</td>\n",
       "      <td>013646</td>\n",
       "      <td>39.115.53.89</td>\n",
       "      <td>https://deva-eapp.emart.com/main/main.do</td>\n",
       "      <td>None</td>\n",
       "      <td>2022-08-06</td>\n",
       "    </tr>\n",
       "    <tr>\n",
       "      <th>7</th>\n",
       "      <td>9999999999.000000000</td>\n",
       "      <td>40</td>\n",
       "      <td>/customersurvey/checkCustomerSurveyCustomList....</td>\n",
       "      <td>E5777BF4238F6E6EE0531F1D64AE2FDD</td>\n",
       "      <td>E5777BF423906E6EE0531F1D64AE2FDD</td>\n",
       "      <td>2022-08-06 01:36:46</td>\n",
       "      <td>E</td>\n",
       "      <td>E</td>\n",
       "      <td>OS X</td>\n",
       "      <td>Chrome</td>\n",
       "      <td>ad4f6a9d00a905a58e3b19d3b2443717a11cd539244787...</td>\n",
       "      <td>20220806</td>\n",
       "      <td>013646</td>\n",
       "      <td>39.115.53.89</td>\n",
       "      <td>https://deva-eapp.emart.com/main/main.do</td>\n",
       "      <td>None</td>\n",
       "      <td>2022-08-06</td>\n",
       "    </tr>\n",
       "    <tr>\n",
       "      <th>8</th>\n",
       "      <td>9999999999.000000000</td>\n",
       "      <td>40</td>\n",
       "      <td>/main/main.do</td>\n",
       "      <td>E5777BF4238F6E6EE0531F1D64AE2FDD</td>\n",
       "      <td>E58C4FB2988C042BE0531F1D64AEBDBA</td>\n",
       "      <td>2022-08-06 13:49:56</td>\n",
       "      <td>E</td>\n",
       "      <td>E</td>\n",
       "      <td>OS X</td>\n",
       "      <td>Chrome</td>\n",
       "      <td></td>\n",
       "      <td>20220806</td>\n",
       "      <td>134956</td>\n",
       "      <td>39.115.53.89</td>\n",
       "      <td>https://deva-eapp.emart.com/</td>\n",
       "      <td>None</td>\n",
       "      <td>2022-08-06</td>\n",
       "    </tr>\n",
       "    <tr>\n",
       "      <th>9</th>\n",
       "      <td>9999999999.000000000</td>\n",
       "      <td>40</td>\n",
       "      <td>/login/login.do</td>\n",
       "      <td>E5777BF4238F6E6EE0531F1D64AE2FDD</td>\n",
       "      <td>E58C4FB2988C042BE0531F1D64AEBDBA</td>\n",
       "      <td>2022-08-06 13:50:00</td>\n",
       "      <td>E</td>\n",
       "      <td>E</td>\n",
       "      <td>OS X</td>\n",
       "      <td>Chrome</td>\n",
       "      <td></td>\n",
       "      <td>20220806</td>\n",
       "      <td>135000</td>\n",
       "      <td>39.115.53.89</td>\n",
       "      <td>https://deva-eapp.emart.com/main/main.do</td>\n",
       "      <td>None</td>\n",
       "      <td>2022-08-06</td>\n",
       "    </tr>\n",
       "  </tbody>\n",
       "</table>\n",
       "</div>"
      ],
      "text/plain": [
       "                    seq site_code  \\\n",
       "0  9999999999.000000000        40   \n",
       "1  9999999999.000000000        40   \n",
       "2  9999999999.000000000        40   \n",
       "3  9999999999.000000000        40   \n",
       "4  9999999999.000000000        40   \n",
       "5  9999999999.000000000        40   \n",
       "6  9999999999.000000000        40   \n",
       "7  9999999999.000000000        40   \n",
       "8  9999999999.000000000        40   \n",
       "9  9999999999.000000000        40   \n",
       "\n",
       "                                                 url  \\\n",
       "0                                      /main/main.do   \n",
       "1                                    /login/login.do   \n",
       "2        /common/EncryptData.do?generateKeypair=true   \n",
       "3                             /login/processLogin.do   \n",
       "4             /login/processLoginResult.do?result=00   \n",
       "5                                      /main/main.do   \n",
       "6                     /app/favoriteInfo.do?storeTp=E   \n",
       "7  /customersurvey/checkCustomerSurveyCustomList....   \n",
       "8                                      /main/main.do   \n",
       "9                                    /login/login.do   \n",
       "\n",
       "                              guid1                             guid2  \\\n",
       "0  E5777BF4238F6E6EE0531F1D64AE2FDD  E5777BF423906E6EE0531F1D64AE2FDD   \n",
       "1  E5777BF4238F6E6EE0531F1D64AE2FDD  E5777BF423906E6EE0531F1D64AE2FDD   \n",
       "2  E5777BF4238F6E6EE0531F1D64AE2FDD  E5777BF423906E6EE0531F1D64AE2FDD   \n",
       "3  E5777BF4238F6E6EE0531F1D64AE2FDD  E5777BF423906E6EE0531F1D64AE2FDD   \n",
       "4  E5777BF4238F6E6EE0531F1D64AE2FDD  E5777BF423906E6EE0531F1D64AE2FDD   \n",
       "5  E5777BF4238F6E6EE0531F1D64AE2FDD  E5777BF423906E6EE0531F1D64AE2FDD   \n",
       "6  E5777BF4238F6E6EE0531F1D64AE2FDD  E5777BF423906E6EE0531F1D64AE2FDD   \n",
       "7  E5777BF4238F6E6EE0531F1D64AE2FDD  E5777BF423906E6EE0531F1D64AE2FDD   \n",
       "8  E5777BF4238F6E6EE0531F1D64AE2FDD  E58C4FB2988C042BE0531F1D64AEBDBA   \n",
       "9  E5777BF4238F6E6EE0531F1D64AE2FDD  E58C4FB2988C042BE0531F1D64AEBDBA   \n",
       "\n",
       "            insert_dt device_type os_type os_name browser_name  \\\n",
       "0 2022-08-06 01:36:38           E       E    OS X       Chrome   \n",
       "1 2022-08-06 01:36:40           E       E    OS X       Chrome   \n",
       "2 2022-08-06 01:36:44           E       E    OS X       Chrome   \n",
       "3 2022-08-06 01:36:44           E       E    OS X       Chrome   \n",
       "4 2022-08-06 01:36:45           E       E    OS X       Chrome   \n",
       "5 2022-08-06 01:36:45           E       E    OS X       Chrome   \n",
       "6 2022-08-06 01:36:46           E       E    OS X       Chrome   \n",
       "7 2022-08-06 01:36:46           E       E    OS X       Chrome   \n",
       "8 2022-08-06 13:49:56           E       E    OS X       Chrome   \n",
       "9 2022-08-06 13:50:00           E       E    OS X       Chrome   \n",
       "\n",
       "                                             cust_id   rgst_dt rgst_tm  \\\n",
       "0  ad4f6a9d00a905a58e3b19d3b2443717a11cd539244787...  20220806  013638   \n",
       "1  ad4f6a9d00a905a58e3b19d3b2443717a11cd539244787...  20220806  013640   \n",
       "2  ad4f6a9d00a905a58e3b19d3b2443717a11cd539244787...  20220806  013644   \n",
       "3  ad4f6a9d00a905a58e3b19d3b2443717a11cd539244787...  20220806  013644   \n",
       "4  ad4f6a9d00a905a58e3b19d3b2443717a11cd539244787...  20220806  013645   \n",
       "5  ad4f6a9d00a905a58e3b19d3b2443717a11cd539244787...  20220806  013645   \n",
       "6  ad4f6a9d00a905a58e3b19d3b2443717a11cd539244787...  20220806  013646   \n",
       "7  ad4f6a9d00a905a58e3b19d3b2443717a11cd539244787...  20220806  013646   \n",
       "8                                                     20220806  134956   \n",
       "9                                                     20220806  135000   \n",
       "\n",
       "     ip_address                                   refer_url tracking_code  \\\n",
       "0  39.115.53.89                https://deva-eapp.emart.com/          None   \n",
       "1  39.115.53.89    https://deva-eapp.emart.com/main/main.do          None   \n",
       "2  39.115.53.89  https://deva-eapp.emart.com/login/login.do          None   \n",
       "3  39.115.53.89  https://deva-eapp.emart.com/login/login.do          None   \n",
       "4  39.115.53.89  https://deva-eapp.emart.com/login/login.do          None   \n",
       "5  39.115.53.89  https://deva-eapp.emart.com/login/login.do          None   \n",
       "6  39.115.53.89    https://deva-eapp.emart.com/main/main.do          None   \n",
       "7  39.115.53.89    https://deva-eapp.emart.com/main/main.do          None   \n",
       "8  39.115.53.89                https://deva-eapp.emart.com/          None   \n",
       "9  39.115.53.89    https://deva-eapp.emart.com/main/main.do          None   \n",
       "\n",
       "           dt  \n",
       "0  2022-08-06  \n",
       "1  2022-08-06  \n",
       "2  2022-08-06  \n",
       "3  2022-08-06  \n",
       "4  2022-08-06  \n",
       "5  2022-08-06  \n",
       "6  2022-08-06  \n",
       "7  2022-08-06  \n",
       "8  2022-08-06  \n",
       "9  2022-08-06  "
      ]
     },
     "execution_count": 6,
     "metadata": {},
     "output_type": "execute_result"
    }
   ],
   "source": [
    "%%bq\n",
    "    select * from emart-datafabric.common_dev.dfm_sample_st_log LIMIT 10"
   ]
  },
  {
   "cell_type": "code",
   "execution_count": 7,
   "id": "7413f0ef-c28f-46d3-b515-db0dedf183d5",
   "metadata": {
    "execution": {
     "iopub.execute_input": "2022-10-04T05:51:23.539129Z",
     "iopub.status.busy": "2022-10-04T05:51:23.538742Z",
     "iopub.status.idle": "2022-10-04T05:51:24.089741Z",
     "shell.execute_reply": "2022-10-04T05:51:24.089150Z",
     "shell.execute_reply.started": "2022-10-04T05:51:23.539105Z"
    },
    "tags": []
   },
   "outputs": [],
   "source": [
    "spark.stop()"
   ]
  },
  {
   "cell_type": "code",
   "execution_count": null,
   "id": "5fe2ab2c-24e5-4585-af8c-fc41a470cd87",
   "metadata": {},
   "outputs": [],
   "source": []
  }
 ],
 "metadata": {
  "kernelspec": {
   "display_name": "Python 3 (ipykernel)",
   "language": "python",
   "name": "python3"
  },
  "language_info": {
   "codemirror_mode": {
    "name": "ipython",
    "version": 3
   },
   "file_extension": ".py",
   "mimetype": "text/x-python",
   "name": "python",
   "nbconvert_exporter": "python",
   "pygments_lexer": "ipython3",
   "version": "3.8.13"
  }
 },
 "nbformat": 4,
 "nbformat_minor": 5
}
