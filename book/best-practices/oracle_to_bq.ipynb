{
 "cells": [
  {
   "cell_type": "code",
   "execution_count": 1,
   "id": "a933ae6b-0083-4eb4-b303-4e468ca019dc",
   "metadata": {
    "execution": {
     "iopub.execute_input": "2022-04-28T12:52:07.135118Z",
     "iopub.status.busy": "2022-04-28T12:52:07.134776Z",
     "iopub.status.idle": "2022-04-28T12:52:07.142026Z",
     "shell.execute_reply": "2022-04-28T12:52:07.141582Z",
     "shell.execute_reply.started": "2022-04-28T12:52:07.135048Z"
    },
    "tags": [
     "parameters"
    ]
   },
   "outputs": [],
   "source": [
    "DT_NODASH = \"20220427\""
   ]
  },
  {
   "cell_type": "code",
   "execution_count": 3,
   "id": "2d643d18-ab58-4b85-98a0-2cfafa3a2ab9",
   "metadata": {
    "execution": {
     "iopub.execute_input": "2022-04-28T12:52:11.347131Z",
     "iopub.status.busy": "2022-04-28T12:52:11.346879Z",
     "iopub.status.idle": "2022-04-28T12:52:11.359927Z",
     "shell.execute_reply": "2022-04-28T12:52:11.359522Z",
     "shell.execute_reply.started": "2022-04-28T12:52:11.347107Z"
    }
   },
   "outputs": [],
   "source": [
    "%load_ext autoreload\n",
    "%autoreload 2"
   ]
  },
  {
   "cell_type": "code",
   "execution_count": 4,
   "id": "6007af8c-d63f-45f5-bb4f-b8d443fe7623",
   "metadata": {
    "execution": {
     "iopub.execute_input": "2022-04-28T12:52:15.004629Z",
     "iopub.status.busy": "2022-04-28T12:52:15.004306Z",
     "iopub.status.idle": "2022-04-28T12:52:15.185872Z",
     "shell.execute_reply": "2022-04-28T12:52:15.185410Z",
     "shell.execute_reply.started": "2022-04-28T12:52:15.004600Z"
    },
    "tags": []
   },
   "outputs": [],
   "source": [
    "from pydatafabric.vault_utils import get_secrets\n",
    "\n",
    "oracle_info = get_secrets(mount_point=\"datafabric\",path=\"oracle/datafabric/oracle-db\")"
   ]
  },
  {
   "cell_type": "code",
   "execution_count": 5,
   "id": "d4e94827-c5c9-4685-870b-d0ee019db400",
   "metadata": {
    "execution": {
     "iopub.execute_input": "2022-04-28T12:52:15.776733Z",
     "iopub.status.busy": "2022-04-28T12:52:15.776400Z",
     "iopub.status.idle": "2022-04-28T12:52:25.005631Z",
     "shell.execute_reply": "2022-04-28T12:52:25.005088Z",
     "shell.execute_reply.started": "2022-04-28T12:52:15.776700Z"
    },
    "tags": []
   },
   "outputs": [
    {
     "name": "stderr",
     "output_type": "stream",
     "text": [
      "Setting default log level to \"WARN\".\n",
      "To adjust logging level use sc.setLogLevel(newLevel). For SparkR, use setLogLevel(newLevel).\n",
      "22/04/28 21:52:20 INFO org.apache.spark.SparkEnv: Registering MapOutputTracker\n",
      "22/04/28 21:52:20 INFO org.apache.spark.SparkEnv: Registering BlockManagerMaster\n",
      "22/04/28 21:52:20 INFO org.apache.spark.SparkEnv: Registering BlockManagerMasterHeartbeat\n",
      "22/04/28 21:52:20 INFO org.apache.spark.SparkEnv: Registering OutputCommitCoordinator\n"
     ]
    }
   ],
   "source": [
    "from pydatafabric.ye import get_spark\n",
    "\n",
    "spark = get_spark(extra_jars=\"gs://emart-datafabric-resources/jars/ojdbc8.jar\")"
   ]
  },
  {
   "cell_type": "code",
   "execution_count": 6,
   "id": "fac7240c-5ac3-4cb5-a140-a2b210d9e722",
   "metadata": {
    "execution": {
     "iopub.execute_input": "2022-04-28T12:52:25.007385Z",
     "iopub.status.busy": "2022-04-28T12:52:25.007084Z",
     "iopub.status.idle": "2022-04-28T12:52:25.021048Z",
     "shell.execute_reply": "2022-04-28T12:52:25.020668Z",
     "shell.execute_reply.started": "2022-04-28T12:52:25.007350Z"
    }
   },
   "outputs": [],
   "source": [
    "spark.conf.set(\"spark.sql.debug.maxToStringFields\", 2000)"
   ]
  },
  {
   "cell_type": "code",
   "execution_count": 7,
   "id": "d86758fd-e84f-4f5f-944c-16cd30d613ef",
   "metadata": {
    "execution": {
     "iopub.execute_input": "2022-04-28T12:52:25.885487Z",
     "iopub.status.busy": "2022-04-28T12:52:25.885183Z",
     "iopub.status.idle": "2022-04-28T12:52:27.948836Z",
     "shell.execute_reply": "2022-04-28T12:52:27.948323Z",
     "shell.execute_reply.started": "2022-04-28T12:52:25.885463Z"
    },
    "tags": []
   },
   "outputs": [],
   "source": [
    "df = spark.read.format(\"jdbc\") \\\n",
    "    .option(\"url\", oracle_info['jdbc_url']) \\\n",
    "    .option(\"user\", oracle_info['user']) \\\n",
    "    .option(\"password\", oracle_info['password']) \\\n",
    "    .option(\"driver\", \"oracle.jdbc.driver.OracleDriver\") \\\n",
    "    .option(\"dbtable\", \"(SELECT TABLESPACE_NAME FROM USER_TABLESPACES) a\") \\\n",
    "    .load()"
   ]
  },
  {
   "cell_type": "code",
   "execution_count": 8,
   "id": "828dfc89-e2cc-4b27-9fc5-cd70bca4ed2d",
   "metadata": {
    "execution": {
     "iopub.execute_input": "2022-04-28T12:52:36.071625Z",
     "iopub.status.busy": "2022-04-28T12:52:36.071304Z",
     "iopub.status.idle": "2022-04-28T12:52:38.605353Z",
     "shell.execute_reply": "2022-04-28T12:52:38.604633Z",
     "shell.execute_reply.started": "2022-04-28T12:52:36.071599Z"
    },
    "tags": []
   },
   "outputs": [
    {
     "name": "stderr",
     "output_type": "stream",
     "text": [
      "[Stage 0:>                                                          (0 + 1) / 1]\r"
     ]
    },
    {
     "name": "stdout",
     "output_type": "stream",
     "text": [
      "+---------------+\n",
      "|TABLESPACE_NAME|\n",
      "+---------------+\n",
      "|         SYSTEM|\n",
      "|         SYSAUX|\n",
      "|       UNDOTBS1|\n",
      "|           TEMP|\n",
      "|          USERS|\n",
      "+---------------+\n",
      "\n"
     ]
    },
    {
     "name": "stderr",
     "output_type": "stream",
     "text": [
      "                                                                                \r"
     ]
    }
   ],
   "source": [
    "df.show()"
   ]
  },
  {
   "cell_type": "code",
   "execution_count": 9,
   "id": "fbd9edef-fdc8-476a-84b3-f58adc9a6366",
   "metadata": {
    "execution": {
     "iopub.execute_input": "2022-04-28T12:52:39.510974Z",
     "iopub.status.busy": "2022-04-28T12:52:39.510670Z",
     "iopub.status.idle": "2022-04-28T12:52:39.640539Z",
     "shell.execute_reply": "2022-04-28T12:52:39.640045Z",
     "shell.execute_reply.started": "2022-04-28T12:52:39.510951Z"
    },
    "tags": []
   },
   "outputs": [],
   "source": [
    "df = spark.read.format(\"jdbc\") \\\n",
    "    .option(\"url\", oracle_info['jdbc_url']) \\\n",
    "    .option(\"user\", oracle_info['user']) \\\n",
    "    .option(\"password\", oracle_info['password']) \\\n",
    "    .option(\"driver\", \"oracle.jdbc.driver.OracleDriver\") \\\n",
    "    .option(\"dbtable\", \"all_tables\") \\\n",
    "    .load()"
   ]
  },
  {
   "cell_type": "code",
   "execution_count": 10,
   "id": "eab727bf-a43a-4a74-a82f-7871b10f31a1",
   "metadata": {
    "execution": {
     "iopub.execute_input": "2022-04-28T12:52:40.474991Z",
     "iopub.status.busy": "2022-04-28T12:52:40.474691Z",
     "iopub.status.idle": "2022-04-28T12:52:42.788500Z",
     "shell.execute_reply": "2022-04-28T12:52:42.788044Z",
     "shell.execute_reply.started": "2022-04-28T12:52:40.474968Z"
    },
    "tags": []
   },
   "outputs": [
    {
     "name": "stderr",
     "output_type": "stream",
     "text": [
      "[Stage 1:>                                                          (0 + 1) / 1]\r"
     ]
    },
    {
     "name": "stdout",
     "output_type": "stream",
     "text": [
      "+-----+----------------+---------------+--------------+--------+------+-------------+-------------+------------+--------------+-----------------+------------------+------------+--------------------+------------+------------+---------------+-------+---------+-----------------+---------------+------------+---------+---------+--------------+-------------------------+-------------------+----------+----------+-----+----------+-----------------+-------------------+-----------+--------+---------+---------+------+-----------+-----------+----------------+------------+------------+----------+--------+------------+----------+-------------+------------+-----------+------------+-------+---------+---------------+------------+----------+-----------------+-------------+------------+--------------+--------+-----------------+-------------------+--------------------+------------------+-----------------+----------+-------+------------------+---------------------+--------+------+----------+------------------+-------------+------------------+----------------------+----------------+---------------------+--------------------+----------------+-----------------+--------------------+----------+---------------------+-------------------+\n",
      "|OWNER|      TABLE_NAME|TABLESPACE_NAME|  CLUSTER_NAME|IOT_NAME|STATUS|     PCT_FREE|     PCT_USED|   INI_TRANS|     MAX_TRANS|   INITIAL_EXTENT|       NEXT_EXTENT| MIN_EXTENTS|         MAX_EXTENTS|PCT_INCREASE|   FREELISTS|FREELIST_GROUPS|LOGGING|BACKED_UP|         NUM_ROWS|         BLOCKS|EMPTY_BLOCKS|AVG_SPACE|CHAIN_CNT|   AVG_ROW_LEN|AVG_SPACE_FREELIST_BLOCKS|NUM_FREELIST_BLOCKS|    DEGREE| INSTANCES|CACHE|TABLE_LOCK|      SAMPLE_SIZE|      LAST_ANALYZED|PARTITIONED|IOT_TYPE|TEMPORARY|SECONDARY|NESTED|BUFFER_POOL|FLASH_CACHE|CELL_FLASH_CACHE|ROW_MOVEMENT|GLOBAL_STATS|USER_STATS|DURATION|SKIP_CORRUPT|MONITORING|CLUSTER_OWNER|DEPENDENCIES|COMPRESSION|COMPRESS_FOR|DROPPED|READ_ONLY|SEGMENT_CREATED|RESULT_CACHE|CLUSTERING|ACTIVITY_TRACKING|DML_TIMESTAMP|HAS_IDENTITY|CONTAINER_DATA|INMEMORY|INMEMORY_PRIORITY|INMEMORY_DISTRIBUTE|INMEMORY_COMPRESSION|INMEMORY_DUPLICATE|DEFAULT_COLLATION|DUPLICATED|SHARDED|EXTERNALLY_SHARDED|EXTERNALLY_DUPLICATED|EXTERNAL|HYBRID|CELLMEMORY|CONTAINERS_DEFAULT|CONTAINER_MAP|EXTENDED_DATA_LINK|EXTENDED_DATA_LINK_MAP|INMEMORY_SERVICE|INMEMORY_SERVICE_NAME|CONTAINER_MAP_OBJECT|MEMOPTIMIZE_READ|MEMOPTIMIZE_WRITE|HAS_SENSITIVE_COLUMN|ADMIT_NULL|DATA_LINK_DML_ENABLED|LOGICAL_REPLICATION|\n",
      "+-----+----------------+---------------+--------------+--------+------+-------------+-------------+------------+--------------+-----------------+------------------+------------+--------------------+------------+------------+---------------+-------+---------+-----------------+---------------+------------+---------+---------+--------------+-------------------------+-------------------+----------+----------+-----+----------+-----------------+-------------------+-----------+--------+---------+---------+------+-----------+-----------+----------------+------------+------------+----------+--------+------------+----------+-------------+------------+-----------+------------+-------+---------+---------------+------------+----------+-----------------+-------------+------------+--------------+--------+-----------------+-------------------+--------------------+------------------+-----------------+----------+-------+------------------+---------------------+--------+------+----------+------------------+-------------+------------------+----------------------+----------------+---------------------+--------------------+----------------+-----------------+--------------------+----------+---------------------+-------------------+\n",
      "|  SYS|             TS$|         SYSTEM|         C_TS#|    null| VALID|        0E-10|        0E-10|       0E-10|         0E-10| 65536.0000000000|1048576.0000000000|1.0000000000|2147483645.000000...|        null|1.0000000000|   1.0000000000|    YES|        N|     5.0000000000|   5.0000000000|       0E-10|    0E-10|    0E-10| 88.0000000000|                    0E-10|              0E-10|         1|         1|    N|   ENABLED|     5.0000000000|2021-07-28 04:34:48|         NO|    null|        N|        N|    NO|    DEFAULT|    DEFAULT|         DEFAULT|    DISABLED|         YES|        NO|    null|    DISABLED|       YES|          SYS|    DISABLED|   DISABLED|        null|     NO|       NO|            YES|     DEFAULT|        NO|             null|         null|          NO|            NO|DISABLED|             null|               null|                null|              null|   USING_NLS_COMP|         N|      N|                 N|                    N|      NO|    NO|      null|                NO|           NO|                NO|                    NO|            null|                 null|                  NO|        DISABLED|         DISABLED|                  NO|        NO|                   NO|            ENABLED|\n",
      "|  SYS|           ICOL$|         SYSTEM|        C_OBJ#|    null| VALID|        0E-10|        0E-10|       0E-10|         0E-10|139264.0000000000| 204800.0000000000|1.0000000000|2147483645.000000...|        null|1.0000000000|   1.0000000000|    YES|        N|  4687.0000000000|1585.0000000000|       0E-10|    0E-10|    0E-10| 30.0000000000|                    0E-10|              0E-10|         1|         1|    N|   ENABLED|  4687.0000000000|2021-07-28 04:34:01|         NO|    null|        N|        N|    NO|    DEFAULT|    DEFAULT|         DEFAULT|    DISABLED|         YES|        NO|    null|    DISABLED|       YES|          SYS|    DISABLED|   DISABLED|        null|     NO|       NO|            YES|     DEFAULT|        NO|             null|         null|          NO|            NO|DISABLED|             null|               null|                null|              null|   USING_NLS_COMP|         N|      N|                 N|                    N|      NO|    NO|      null|                NO|           NO|                NO|                    NO|            null|                 null|                  NO|        DISABLED|         DISABLED|                  NO|        NO|                   NO|            ENABLED|\n",
      "|  SYS|           USER$|         SYSTEM|       C_USER#|    null| VALID|        0E-10|        0E-10|       0E-10|         0E-10| 65536.0000000000|1048576.0000000000|1.0000000000|2147483645.000000...|        null|1.0000000000|   1.0000000000|    YES|        N|    77.0000000000|   4.0000000000|       0E-10|    0E-10|    0E-10|149.0000000000|                    0E-10|              0E-10|         1|         1|    N|   ENABLED|    77.0000000000|2021-07-28 04:34:51|         NO|    null|        N|        N|    NO|    DEFAULT|    DEFAULT|         DEFAULT|    DISABLED|         YES|        NO|    null|    DISABLED|       YES|          SYS|    DISABLED|   DISABLED|        null|     NO|       NO|            YES|     DEFAULT|        NO|             null|         null|          NO|            NO|DISABLED|             null|               null|                null|              null|   USING_NLS_COMP|         N|      N|                 N|                    N|      NO|    NO|      null|                NO|           NO|                NO|                    NO|            null|                 null|                  NO|        DISABLED|         DISABLED|                 YES|        NO|                   NO|            ENABLED|\n",
      "|  SYS|           CDEF$|         SYSTEM|       C_COBJ#|    null| VALID|        0E-10|        0E-10|       0E-10|         0E-10| 57344.0000000000|1048576.0000000000|1.0000000000|2147483645.000000...|        null|1.0000000000|   1.0000000000|    YES|        N|  6568.0000000000|  92.0000000000|       0E-10|    0E-10|    0E-10| 48.0000000000|                    0E-10|              0E-10|         1|         1|    N|   ENABLED|  6568.0000000000|2021-07-28 04:33:44|         NO|    null|        N|        N|    NO|    DEFAULT|    DEFAULT|         DEFAULT|    DISABLED|         YES|        NO|    null|    DISABLED|       YES|          SYS|    DISABLED|   DISABLED|        null|     NO|       NO|            YES|     DEFAULT|        NO|             null|         null|          NO|            NO|DISABLED|             null|               null|                null|              null|   USING_NLS_COMP|         N|      N|                 N|                    N|      NO|    NO|      null|                NO|           NO|                NO|                    NO|            null|                 null|                  NO|        DISABLED|         DISABLED|                  NO|        NO|                   NO|            ENABLED|\n",
      "|  SYS|           CCOL$|         SYSTEM|       C_COBJ#|    null| VALID|        0E-10|        0E-10|       0E-10|         0E-10| 57344.0000000000|1048576.0000000000|1.0000000000|2147483645.000000...|        null|1.0000000000|   1.0000000000|    YES|        N|  8332.0000000000|  92.0000000000|       0E-10|    0E-10|    0E-10| 20.0000000000|                    0E-10|              0E-10|         1|         1|    N|   ENABLED|  8332.0000000000|2021-07-28 04:33:43|         NO|    null|        N|        N|    NO|    DEFAULT|    DEFAULT|         DEFAULT|    DISABLED|         YES|        NO|    null|    DISABLED|       YES|          SYS|    DISABLED|   DISABLED|        null|     NO|       NO|            YES|     DEFAULT|        NO|             null|         null|          NO|            NO|DISABLED|             null|               null|                null|              null|   USING_NLS_COMP|         N|      N|                 N|                    N|      NO|    NO|      null|                NO|           NO|                NO|                    NO|            null|                 null|                  NO|        DISABLED|         DISABLED|                  NO|        NO|                   NO|            ENABLED|\n",
      "|  SYS|            SEG$|         SYSTEM|C_FILE#_BLOCK#|    null| VALID|        0E-10|        0E-10|       0E-10|         0E-10| 24576.0000000000|1048576.0000000000|1.0000000000|2147483645.000000...|        null|1.0000000000|   1.0000000000|    YES|        N|  4351.0000000000| 127.0000000000|       0E-10|    0E-10|    0E-10| 64.0000000000|                    0E-10|              0E-10|         1|         1|    N|   ENABLED|  4351.0000000000|2021-07-28 04:34:37|         NO|    null|        N|        N|    NO|    DEFAULT|    DEFAULT|         DEFAULT|    DISABLED|         YES|        NO|    null|    DISABLED|       YES|          SYS|    DISABLED|   DISABLED|        null|     NO|       NO|            YES|     DEFAULT|        NO|             null|         null|          NO|            NO|DISABLED|             null|               null|                null|              null|   USING_NLS_COMP|         N|      N|                 N|                    N|      NO|    NO|      null|                NO|           NO|                NO|                    NO|            null|                 null|                  NO|        DISABLED|         DISABLED|                  NO|        NO|                   NO|            ENABLED|\n",
      "|  SYS|     PROXY_DATA$|         SYSTEM|          null|    null| VALID|10.0000000000|40.0000000000|1.0000000000|255.0000000000| 65536.0000000000|1048576.0000000000|1.0000000000|2147483645.000000...|        null|1.0000000000|   1.0000000000|    YES|        N|            0E-10|          0E-10|       0E-10|    0E-10|    0E-10|         0E-10|                    0E-10|              0E-10|         1|         1|    N|   ENABLED|            0E-10|2021-07-28 04:34:19|         NO|    null|        N|        N|    NO|    DEFAULT|    DEFAULT|         DEFAULT|    DISABLED|         YES|        NO|    null|    DISABLED|       YES|         null|    DISABLED|   DISABLED|        null|     NO|       NO|            YES|     DEFAULT|        NO|             null|         null|          NO|            NO|DISABLED|             null|               null|                null|              null|   USING_NLS_COMP|         N|      N|                 N|                    N|      NO|    NO|      null|                NO|           NO|                NO|                    NO|            null|                 null|                  NO|        DISABLED|         DISABLED|                  NO|        NO|                   NO|            ENABLED|\n",
      "|  SYS|            COL$|         SYSTEM|        C_OBJ#|    null| VALID|        0E-10|        0E-10|       0E-10|         0E-10|139264.0000000000| 204800.0000000000|1.0000000000|2147483645.000000...|        null|1.0000000000|   1.0000000000|    YES|        N|120891.0000000000|1585.0000000000|       0E-10|    0E-10|    0E-10| 66.0000000000|                    0E-10|              0E-10|         1|         1|    N|   ENABLED|120891.0000000000|2021-07-28 04:33:46|         NO|    null|        N|        N|    NO|    DEFAULT|    DEFAULT|         DEFAULT|    DISABLED|         YES|        NO|    null|    DISABLED|       YES|          SYS|    DISABLED|   DISABLED|        null|     NO|       NO|            YES|     DEFAULT|        NO|             null|         null|          NO|            NO|DISABLED|             null|               null|                null|              null|   USING_NLS_COMP|         N|      N|                 N|                    N|      NO|    NO|      null|                NO|           NO|                NO|                    NO|            null|                 null|                  NO|        DISABLED|         DISABLED|                  NO|        NO|                   NO|            ENABLED|\n",
      "|  SYS|            OBJ$|         SYSTEM|          null|    null| VALID|10.0000000000|40.0000000000|1.0000000000|255.0000000000| 16384.0000000000| 106496.0000000000|1.0000000000|2147483645.000000...|        null|1.0000000000|   1.0000000000|    YES|        N| 22517.0000000000| 365.0000000000|       0E-10|    0E-10|    0E-10|108.0000000000|                    0E-10|              0E-10|         1|         1|    N|   ENABLED| 22517.0000000000|2021-07-28 04:34:11|         NO|    null|        N|        N|    NO|    DEFAULT|    DEFAULT|         DEFAULT|    DISABLED|         YES|        NO|    null|    DISABLED|       YES|         null|    DISABLED|   DISABLED|        null|     NO|       NO|            YES|     DEFAULT|        NO|             null|         null|          NO|            NO|DISABLED|             null|               null|                null|              null|   USING_NLS_COMP|         N|      N|                 N|                    N|      NO|    NO|      null|                NO|           NO|                NO|                    NO|            null|                 null|                  NO|        DISABLED|         DISABLED|                  NO|        NO|                   NO|            ENABLED|\n",
      "|  SYS|            IND$|         SYSTEM|        C_OBJ#|    null| VALID|        0E-10|        0E-10|       0E-10|         0E-10|139264.0000000000| 204800.0000000000|1.0000000000|2147483645.000000...|        null|1.0000000000|   1.0000000000|    YES|        N|  2078.0000000000|1585.0000000000|       0E-10|    0E-10|    0E-10| 86.0000000000|                    0E-10|              0E-10|         1|         1|    N|   ENABLED|  2078.0000000000|2021-07-28 04:35:51|         NO|    null|        N|        N|    NO|    DEFAULT|    DEFAULT|         DEFAULT|    DISABLED|         YES|        NO|    null|    DISABLED|       YES|          SYS|    DISABLED|   DISABLED|        null|     NO|       NO|            YES|     DEFAULT|        NO|             null|         null|          NO|            NO|DISABLED|             null|               null|                null|              null|   USING_NLS_COMP|         N|      N|                 N|                    N|      NO|    NO|      null|                NO|           NO|                NO|                    NO|            null|                 null|                  NO|        DISABLED|         DISABLED|                  NO|        NO|                   NO|            ENABLED|\n",
      "|  SYS|      BOOTSTRAP$|         SYSTEM|          null|    null| VALID|10.0000000000|40.0000000000|1.0000000000|255.0000000000| 57344.0000000000|1048576.0000000000|1.0000000000|2147483645.000000...|        null|1.0000000000|   1.0000000000|    YES|        N|    60.0000000000|   3.0000000000|       0E-10|    0E-10|    0E-10|314.0000000000|                    0E-10|              0E-10|         1|         1|    N|   ENABLED|    60.0000000000|2021-07-28 04:33:43|         NO|    null|        N|        N|    NO|    DEFAULT|    DEFAULT|         DEFAULT|    DISABLED|         YES|        NO|    null|    DISABLED|       YES|         null|    DISABLED|   DISABLED|        null|     NO|       NO|            YES|     DEFAULT|        NO|             null|         null|          NO|            NO|DISABLED|             null|               null|                null|              null|   USING_NLS_COMP|         N|      N|                 N|                    N|      NO|    NO|      null|                NO|           NO|                NO|                    NO|            null|                 null|                  NO|        DISABLED|         DISABLED|                  NO|        NO|                   NO|            ENABLED|\n",
      "|  SYS|           UNDO$|         SYSTEM|          null|    null| VALID|10.0000000000|40.0000000000|1.0000000000|255.0000000000| 65536.0000000000|1048576.0000000000|1.0000000000|2147483645.000000...|        null|1.0000000000|   1.0000000000|    YES|        N|    11.0000000000|   1.0000000000|       0E-10|    0E-10|    0E-10| 52.0000000000|                    0E-10|              0E-10|         1|         1|    N|   ENABLED|    11.0000000000|2021-07-28 04:34:50|         NO|    null|        N|        N|    NO|    DEFAULT|    DEFAULT|         DEFAULT|    DISABLED|         YES|        NO|    null|    DISABLED|       YES|         null|    DISABLED|   DISABLED|        null|     NO|       NO|            YES|     DEFAULT|        NO|             null|         null|          NO|            NO|DISABLED|             null|               null|                null|              null|   USING_NLS_COMP|         N|      N|                 N|                    N|      NO|    NO|      null|                NO|           NO|                NO|                    NO|            null|                 null|                  NO|        DISABLED|         DISABLED|                  NO|        NO|                   NO|            ENABLED|\n",
      "|  SYS|            TAB$|         SYSTEM|        C_OBJ#|    null| VALID|        0E-10|        0E-10|       0E-10|         0E-10|139264.0000000000| 204800.0000000000|1.0000000000|2147483645.000000...|        null|1.0000000000|   1.0000000000|    YES|        N|  1882.0000000000|1585.0000000000|       0E-10|    0E-10|    0E-10|136.0000000000|                    0E-10|              0E-10|         1|         1|    N|   ENABLED|  1882.0000000000|2021-07-28 04:35:51|         NO|    null|        N|        N|    NO|    DEFAULT|    DEFAULT|         DEFAULT|    DISABLED|         YES|        NO|    null|    DISABLED|       YES|          SYS|    DISABLED|   DISABLED|        null|     NO|       NO|            YES|     DEFAULT|        NO|             null|         null|          NO|            NO|DISABLED|             null|               null|                null|              null|   USING_NLS_COMP|         N|      N|                 N|                    N|      NO|    NO|      null|                NO|           NO|                NO|                    NO|            null|                 null|                  NO|        DISABLED|         DISABLED|                  NO|        NO|                   NO|            ENABLED|\n",
      "|  SYS|            CON$|         SYSTEM|          null|    null| VALID|10.0000000000|40.0000000000|1.0000000000|255.0000000000| 65536.0000000000|1048576.0000000000|1.0000000000|2147483645.000000...|        null|1.0000000000|   1.0000000000|    YES|        N|  6569.0000000000|  28.0000000000|       0E-10|    0E-10|    0E-10| 22.0000000000|                    0E-10|              0E-10|         1|         1|    N|   ENABLED|  6569.0000000000|2021-07-28 04:33:48|         NO|    null|        N|        N|    NO|    DEFAULT|    DEFAULT|         DEFAULT|    DISABLED|         YES|        NO|    null|    DISABLED|       YES|         null|    DISABLED|   DISABLED|        null|     NO|       NO|            YES|     DEFAULT|        NO|             null|         null|          NO|            NO|DISABLED|             null|               null|                null|              null|   USING_NLS_COMP|         N|      N|                 N|                    N|      NO|    NO|      null|                NO|           NO|                NO|                    NO|            null|                 null|                  NO|        DISABLED|         DISABLED|                  NO|        NO|                   NO|            ENABLED|\n",
      "|  SYS|            CLU$|         SYSTEM|        C_OBJ#|    null| VALID|        0E-10|        0E-10|       0E-10|         0E-10|139264.0000000000| 204800.0000000000|1.0000000000|2147483645.000000...|        null|1.0000000000|   1.0000000000|    YES|        N|    10.0000000000|1585.0000000000|       0E-10|    0E-10|    0E-10| 45.0000000000|                    0E-10|              0E-10|         1|         1|    N|   ENABLED|    10.0000000000|2021-07-28 04:33:46|         NO|    null|        N|        N|    NO|    DEFAULT|    DEFAULT|         DEFAULT|    DISABLED|         YES|        NO|    null|    DISABLED|       YES|          SYS|    DISABLED|   DISABLED|        null|     NO|       NO|            YES|     DEFAULT|        NO|             null|         null|          NO|            NO|DISABLED|             null|               null|                null|              null|   USING_NLS_COMP|         N|      N|                 N|                    N|      NO|    NO|      null|                NO|           NO|                NO|                    NO|            null|                 null|                  NO|        DISABLED|         DISABLED|                  NO|        NO|                   NO|            ENABLED|\n",
      "|  SYS|            UET$|         SYSTEM|C_FILE#_BLOCK#|    null| VALID|        0E-10|        0E-10|       0E-10|         0E-10| 24576.0000000000|1048576.0000000000|1.0000000000|2147483645.000000...|        null|1.0000000000|   1.0000000000|    YES|        N|            0E-10| 127.0000000000|       0E-10|    0E-10|    0E-10|         0E-10|                    0E-10|              0E-10|         1|         1|    N|   ENABLED|            0E-10|2021-07-28 04:34:50|         NO|    null|        N|        N|    NO|    DEFAULT|    DEFAULT|         DEFAULT|    DISABLED|         YES|        NO|    null|    DISABLED|       YES|          SYS|    DISABLED|   DISABLED|        null|     NO|       NO|            YES|     DEFAULT|        NO|             null|         null|          NO|            NO|DISABLED|             null|               null|                null|              null|   USING_NLS_COMP|         N|      N|                 N|                    N|      NO|    NO|      null|                NO|           NO|                NO|                    NO|            null|                 null|                  NO|        DISABLED|         DISABLED|                  NO|        NO|                   NO|            ENABLED|\n",
      "|  SYS|            FET$|         SYSTEM|         C_TS#|    null| VALID|        0E-10|        0E-10|       0E-10|         0E-10| 65536.0000000000|1048576.0000000000|1.0000000000|2147483645.000000...|        null|1.0000000000|   1.0000000000|    YES|        N|            0E-10|   5.0000000000|       0E-10|    0E-10|    0E-10|         0E-10|                    0E-10|              0E-10|         1|         1|    N|   ENABLED|            0E-10|2021-07-28 04:33:55|         NO|    null|        N|        N|    NO|    DEFAULT|    DEFAULT|         DEFAULT|    DISABLED|         YES|        NO|    null|    DISABLED|       YES|          SYS|    DISABLED|   DISABLED|        null|     NO|       NO|            YES|     DEFAULT|        NO|             null|         null|          NO|            NO|DISABLED|             null|               null|                null|              null|   USING_NLS_COMP|         N|      N|                 N|                    N|      NO|    NO|      null|                NO|           NO|                NO|                    NO|            null|                 null|                  NO|        DISABLED|         DISABLED|                  NO|        NO|                   NO|            ENABLED|\n",
      "|  SYS|           FILE$|         SYSTEM|          null|    null| VALID|10.0000000000|40.0000000000|1.0000000000|255.0000000000| 65536.0000000000|1048576.0000000000|1.0000000000|2147483645.000000...|        null|1.0000000000|   1.0000000000|    YES|        N|     4.0000000000|   1.0000000000|       0E-10|    0E-10|    0E-10| 41.0000000000|                    0E-10|              0E-10|         1|         1|    N|   ENABLED|     4.0000000000|2021-07-28 04:33:56|         NO|    null|        N|        N|    NO|    DEFAULT|    DEFAULT|         DEFAULT|    DISABLED|         YES|        NO|    null|    DISABLED|       YES|         null|    DISABLED|   DISABLED|        null|     NO|       NO|            YES|     DEFAULT|        NO|             null|         null|          NO|            NO|DISABLED|             null|               null|                null|              null|   USING_NLS_COMP|         N|      N|                 N|                    N|      NO|    NO|      null|                NO|           NO|                NO|                    NO|            null|                 null|                  NO|        DISABLED|         DISABLED|                  NO|        NO|                   NO|            ENABLED|\n",
      "|  SYS|PROXY_ROLE_DATA$|         SYSTEM|          null|    null| VALID|10.0000000000|40.0000000000|1.0000000000|255.0000000000| 65536.0000000000|1048576.0000000000|1.0000000000|2147483645.000000...|        null|1.0000000000|   1.0000000000|    YES|        N|            0E-10|          0E-10|       0E-10|    0E-10|    0E-10|         0E-10|                    0E-10|              0E-10|         1|         1|    N|   ENABLED|            0E-10|2021-07-28 04:34:19|         NO|    null|        N|        N|    NO|    DEFAULT|    DEFAULT|         DEFAULT|    DISABLED|         YES|        NO|    null|    DISABLED|       YES|         null|    DISABLED|   DISABLED|        null|     NO|       NO|            YES|     DEFAULT|        NO|             null|         null|          NO|            NO|DISABLED|             null|               null|                null|              null|   USING_NLS_COMP|         N|      N|                 N|                    N|      NO|    NO|      null|                NO|           NO|                NO|                    NO|            null|                 null|                  NO|        DISABLED|         DISABLED|                  NO|        NO|                   NO|            ENABLED|\n",
      "|  SYS|       OBJERROR$|         SYSTEM|          null|    null| VALID|10.0000000000|40.0000000000|1.0000000000|255.0000000000| 65536.0000000000|1048576.0000000000|1.0000000000|2147483645.000000...|        null|1.0000000000|   1.0000000000|    YES|        N|            0E-10|   1.0000000000|       0E-10|    0E-10|    0E-10|         0E-10|                    0E-10|              0E-10|         1|         1|    N|   ENABLED|            0E-10|2021-07-28 04:34:11|         NO|    null|        N|        N|    NO|    DEFAULT|    DEFAULT|         DEFAULT|    DISABLED|         YES|        NO|    null|    DISABLED|       YES|         null|    DISABLED|   DISABLED|        null|     NO|       NO|            YES|     DEFAULT|        NO|             null|         null|          NO|            NO|DISABLED|             null|               null|                null|              null|   USING_NLS_COMP|         N|      N|                 N|                    N|      NO|    NO|      null|                NO|           NO|                NO|                    NO|            null|                 null|                  NO|        DISABLED|         DISABLED|                  NO|        NO|                   NO|            ENABLED|\n",
      "+-----+----------------+---------------+--------------+--------+------+-------------+-------------+------------+--------------+-----------------+------------------+------------+--------------------+------------+------------+---------------+-------+---------+-----------------+---------------+------------+---------+---------+--------------+-------------------------+-------------------+----------+----------+-----+----------+-----------------+-------------------+-----------+--------+---------+---------+------+-----------+-----------+----------------+------------+------------+----------+--------+------------+----------+-------------+------------+-----------+------------+-------+---------+---------------+------------+----------+-----------------+-------------+------------+--------------+--------+-----------------+-------------------+--------------------+------------------+-----------------+----------+-------+------------------+---------------------+--------+------+----------+------------------+-------------+------------------+----------------------+----------------+---------------------+--------------------+----------------+-----------------+--------------------+----------+---------------------+-------------------+\n",
      "only showing top 20 rows\n",
      "\n"
     ]
    },
    {
     "name": "stderr",
     "output_type": "stream",
     "text": [
      "                                                                                \r"
     ]
    }
   ],
   "source": [
    "df.show()"
   ]
  },
  {
   "cell_type": "code",
   "execution_count": 11,
   "id": "2fc41c0a-016c-49cb-8369-708103f69703",
   "metadata": {
    "execution": {
     "iopub.execute_input": "2022-04-28T12:52:43.417548Z",
     "iopub.status.busy": "2022-04-28T12:52:43.416961Z",
     "iopub.status.idle": "2022-04-28T12:53:00.762652Z",
     "shell.execute_reply": "2022-04-28T12:53:00.762138Z",
     "shell.execute_reply.started": "2022-04-28T12:52:43.417521Z"
    },
    "tags": []
   },
   "outputs": [
    {
     "name": "stderr",
     "output_type": "stream",
     "text": [
      "                                                                                \r"
     ]
    },
    {
     "name": "stdout",
     "output_type": "stream",
     "text": [
      "destination: emart-datafabric.temp_1d.oracle_all_tables$20220427\n",
      "total_rows: 2349\n",
      "slot_secs: 1.357\n",
      "\n"
     ]
    }
   ],
   "source": [
    "from pydatafabric.gcp import df_to_bq_table, bq_insert_overwrite\n",
    "\n",
    "df_to_bq_table(df, \"temp_1d\", \"temp_oracle_all_tables\", project=\"emart-datafabric\") # 프로젝트 꼭 지정\n",
    "bq_insert_overwrite(f\"SELECT *, parse_date('%Y%m%d', '{DT_NODASH}') as dt from temp_1d.temp_oracle_all_tables\", \"emart-datafabric.temp_1d.oracle_all_tables\", partition=\"dt\")\n",
    "    "
   ]
  },
  {
   "cell_type": "code",
   "execution_count": 12,
   "id": "382c99ac-6e3a-41f8-97b7-d5ade6a04d64",
   "metadata": {
    "execution": {
     "iopub.execute_input": "2022-04-28T12:55:44.708904Z",
     "iopub.status.busy": "2022-04-28T12:55:44.708507Z",
     "iopub.status.idle": "2022-04-28T12:55:45.483458Z",
     "shell.execute_reply": "2022-04-28T12:55:45.482909Z",
     "shell.execute_reply.started": "2022-04-28T12:55:44.708871Z"
    },
    "tags": []
   },
   "outputs": [],
   "source": [
    "from pydatafabric.gcp import get_bigquery_client\n",
    "\n",
    "bq = get_bigquery_client(project=\"emart-datafabric\") # 프로젝트 꼭 지정\n",
    "r = bq.query(f\"SELECT * FROM temp_1d.oracle_all_tables WHERE dt=parse_date('%Y%m%d', '{DT_NODASH}') LIMIT 10\")"
   ]
  },
  {
   "cell_type": "code",
   "execution_count": 13,
   "id": "d9e3d318-5085-4340-ab21-47a694e52900",
   "metadata": {
    "execution": {
     "iopub.execute_input": "2022-04-28T12:55:46.688990Z",
     "iopub.status.busy": "2022-04-28T12:55:46.688670Z",
     "iopub.status.idle": "2022-04-28T12:55:46.835432Z",
     "shell.execute_reply": "2022-04-28T12:55:46.834958Z",
     "shell.execute_reply.started": "2022-04-28T12:55:46.688964Z"
    },
    "tags": []
   },
   "outputs": [
    {
     "data": {
      "text/plain": [
       "10"
      ]
     },
     "execution_count": 13,
     "metadata": {},
     "output_type": "execute_result"
    }
   ],
   "source": [
    "r.result().total_rows\n"
   ]
  },
  {
   "cell_type": "code",
   "execution_count": 14,
   "id": "e86c65e8-e6c6-4971-b266-0494d2935394",
   "metadata": {
    "execution": {
     "iopub.execute_input": "2022-04-28T12:55:47.733923Z",
     "iopub.status.busy": "2022-04-28T12:55:47.733600Z",
     "iopub.status.idle": "2022-04-28T12:55:48.899029Z",
     "shell.execute_reply": "2022-04-28T12:55:48.898583Z",
     "shell.execute_reply.started": "2022-04-28T12:55:47.733897Z"
    },
    "tags": []
   },
   "outputs": [
    {
     "data": {
      "text/html": [
       "<div>\n",
       "<style scoped>\n",
       "    .dataframe tbody tr th:only-of-type {\n",
       "        vertical-align: middle;\n",
       "    }\n",
       "\n",
       "    .dataframe tbody tr th {\n",
       "        vertical-align: top;\n",
       "    }\n",
       "\n",
       "    .dataframe thead th {\n",
       "        text-align: right;\n",
       "    }\n",
       "</style>\n",
       "<table border=\"1\" class=\"dataframe\">\n",
       "  <thead>\n",
       "    <tr style=\"text-align: right;\">\n",
       "      <th></th>\n",
       "      <th>OWNER</th>\n",
       "      <th>TABLE_NAME</th>\n",
       "      <th>TABLESPACE_NAME</th>\n",
       "      <th>CLUSTER_NAME</th>\n",
       "      <th>IOT_NAME</th>\n",
       "      <th>STATUS</th>\n",
       "      <th>PCT_FREE</th>\n",
       "      <th>PCT_USED</th>\n",
       "      <th>INI_TRANS</th>\n",
       "      <th>MAX_TRANS</th>\n",
       "      <th>...</th>\n",
       "      <th>INMEMORY_SERVICE</th>\n",
       "      <th>INMEMORY_SERVICE_NAME</th>\n",
       "      <th>CONTAINER_MAP_OBJECT</th>\n",
       "      <th>MEMOPTIMIZE_READ</th>\n",
       "      <th>MEMOPTIMIZE_WRITE</th>\n",
       "      <th>HAS_SENSITIVE_COLUMN</th>\n",
       "      <th>ADMIT_NULL</th>\n",
       "      <th>DATA_LINK_DML_ENABLED</th>\n",
       "      <th>LOGICAL_REPLICATION</th>\n",
       "      <th>dt</th>\n",
       "    </tr>\n",
       "  </thead>\n",
       "  <tbody>\n",
       "    <tr>\n",
       "      <th>0</th>\n",
       "      <td>CTXSYS</td>\n",
       "      <td>DR$INDEX_CDI_COLUMN</td>\n",
       "      <td>None</td>\n",
       "      <td>None</td>\n",
       "      <td>None</td>\n",
       "      <td>VALID</td>\n",
       "      <td>0E-9</td>\n",
       "      <td>0E-9</td>\n",
       "      <td>0E-9</td>\n",
       "      <td>0E-9</td>\n",
       "      <td>...</td>\n",
       "      <td>None</td>\n",
       "      <td>None</td>\n",
       "      <td>NO</td>\n",
       "      <td>DISABLED</td>\n",
       "      <td>DISABLED</td>\n",
       "      <td>NO</td>\n",
       "      <td>NO</td>\n",
       "      <td>NO</td>\n",
       "      <td>ENABLED</td>\n",
       "      <td>2022-04-27</td>\n",
       "    </tr>\n",
       "    <tr>\n",
       "      <th>1</th>\n",
       "      <td>CTXSYS</td>\n",
       "      <td>DR$SQE</td>\n",
       "      <td>None</td>\n",
       "      <td>None</td>\n",
       "      <td>None</td>\n",
       "      <td>VALID</td>\n",
       "      <td>0E-9</td>\n",
       "      <td>0E-9</td>\n",
       "      <td>0E-9</td>\n",
       "      <td>0E-9</td>\n",
       "      <td>...</td>\n",
       "      <td>None</td>\n",
       "      <td>None</td>\n",
       "      <td>NO</td>\n",
       "      <td>DISABLED</td>\n",
       "      <td>DISABLED</td>\n",
       "      <td>NO</td>\n",
       "      <td>NO</td>\n",
       "      <td>NO</td>\n",
       "      <td>ENABLED</td>\n",
       "      <td>2022-04-27</td>\n",
       "    </tr>\n",
       "    <tr>\n",
       "      <th>2</th>\n",
       "      <td>CTXSYS</td>\n",
       "      <td>DR$WAITING</td>\n",
       "      <td>None</td>\n",
       "      <td>None</td>\n",
       "      <td>None</td>\n",
       "      <td>VALID</td>\n",
       "      <td>0E-9</td>\n",
       "      <td>0E-9</td>\n",
       "      <td>0E-9</td>\n",
       "      <td>0E-9</td>\n",
       "      <td>...</td>\n",
       "      <td>None</td>\n",
       "      <td>None</td>\n",
       "      <td>NO</td>\n",
       "      <td>DISABLED</td>\n",
       "      <td>DISABLED</td>\n",
       "      <td>NO</td>\n",
       "      <td>NO</td>\n",
       "      <td>NO</td>\n",
       "      <td>ENABLED</td>\n",
       "      <td>2022-04-27</td>\n",
       "    </tr>\n",
       "    <tr>\n",
       "      <th>3</th>\n",
       "      <td>CTXSYS</td>\n",
       "      <td>DR$SDATA_UPDATE</td>\n",
       "      <td>None</td>\n",
       "      <td>None</td>\n",
       "      <td>None</td>\n",
       "      <td>VALID</td>\n",
       "      <td>0E-9</td>\n",
       "      <td>0E-9</td>\n",
       "      <td>0E-9</td>\n",
       "      <td>0E-9</td>\n",
       "      <td>...</td>\n",
       "      <td>None</td>\n",
       "      <td>None</td>\n",
       "      <td>NO</td>\n",
       "      <td>DISABLED</td>\n",
       "      <td>DISABLED</td>\n",
       "      <td>NO</td>\n",
       "      <td>NO</td>\n",
       "      <td>NO</td>\n",
       "      <td>ENABLED</td>\n",
       "      <td>2022-04-27</td>\n",
       "    </tr>\n",
       "    <tr>\n",
       "      <th>4</th>\n",
       "      <td>CTXSYS</td>\n",
       "      <td>DR$PENDING</td>\n",
       "      <td>None</td>\n",
       "      <td>None</td>\n",
       "      <td>None</td>\n",
       "      <td>VALID</td>\n",
       "      <td>0E-9</td>\n",
       "      <td>0E-9</td>\n",
       "      <td>0E-9</td>\n",
       "      <td>0E-9</td>\n",
       "      <td>...</td>\n",
       "      <td>None</td>\n",
       "      <td>None</td>\n",
       "      <td>NO</td>\n",
       "      <td>DISABLED</td>\n",
       "      <td>DISABLED</td>\n",
       "      <td>NO</td>\n",
       "      <td>NO</td>\n",
       "      <td>NO</td>\n",
       "      <td>ENABLED</td>\n",
       "      <td>2022-04-27</td>\n",
       "    </tr>\n",
       "    <tr>\n",
       "      <th>5</th>\n",
       "      <td>CTXSYS</td>\n",
       "      <td>DR$UNINDEXED</td>\n",
       "      <td>None</td>\n",
       "      <td>None</td>\n",
       "      <td>None</td>\n",
       "      <td>VALID</td>\n",
       "      <td>0E-9</td>\n",
       "      <td>0E-9</td>\n",
       "      <td>0E-9</td>\n",
       "      <td>0E-9</td>\n",
       "      <td>...</td>\n",
       "      <td>None</td>\n",
       "      <td>None</td>\n",
       "      <td>NO</td>\n",
       "      <td>DISABLED</td>\n",
       "      <td>DISABLED</td>\n",
       "      <td>NO</td>\n",
       "      <td>NO</td>\n",
       "      <td>NO</td>\n",
       "      <td>ENABLED</td>\n",
       "      <td>2022-04-27</td>\n",
       "    </tr>\n",
       "    <tr>\n",
       "      <th>6</th>\n",
       "      <td>CTXSYS</td>\n",
       "      <td>DR$ONLINE_PENDING</td>\n",
       "      <td>None</td>\n",
       "      <td>None</td>\n",
       "      <td>None</td>\n",
       "      <td>VALID</td>\n",
       "      <td>0E-9</td>\n",
       "      <td>0E-9</td>\n",
       "      <td>0E-9</td>\n",
       "      <td>0E-9</td>\n",
       "      <td>...</td>\n",
       "      <td>None</td>\n",
       "      <td>None</td>\n",
       "      <td>NO</td>\n",
       "      <td>DISABLED</td>\n",
       "      <td>DISABLED</td>\n",
       "      <td>NO</td>\n",
       "      <td>NO</td>\n",
       "      <td>NO</td>\n",
       "      <td>ENABLED</td>\n",
       "      <td>2022-04-27</td>\n",
       "    </tr>\n",
       "    <tr>\n",
       "      <th>7</th>\n",
       "      <td>CTXSYS</td>\n",
       "      <td>DR$PARALLEL</td>\n",
       "      <td>None</td>\n",
       "      <td>None</td>\n",
       "      <td>None</td>\n",
       "      <td>VALID</td>\n",
       "      <td>0E-9</td>\n",
       "      <td>0E-9</td>\n",
       "      <td>0E-9</td>\n",
       "      <td>0E-9</td>\n",
       "      <td>...</td>\n",
       "      <td>None</td>\n",
       "      <td>None</td>\n",
       "      <td>NO</td>\n",
       "      <td>DISABLED</td>\n",
       "      <td>DISABLED</td>\n",
       "      <td>NO</td>\n",
       "      <td>NO</td>\n",
       "      <td>NO</td>\n",
       "      <td>ENABLED</td>\n",
       "      <td>2022-04-27</td>\n",
       "    </tr>\n",
       "    <tr>\n",
       "      <th>8</th>\n",
       "      <td>CTXSYS</td>\n",
       "      <td>DR$TREE</td>\n",
       "      <td>None</td>\n",
       "      <td>None</td>\n",
       "      <td>None</td>\n",
       "      <td>VALID</td>\n",
       "      <td>0E-9</td>\n",
       "      <td>0E-9</td>\n",
       "      <td>0E-9</td>\n",
       "      <td>0E-9</td>\n",
       "      <td>...</td>\n",
       "      <td>None</td>\n",
       "      <td>None</td>\n",
       "      <td>NO</td>\n",
       "      <td>DISABLED</td>\n",
       "      <td>DISABLED</td>\n",
       "      <td>NO</td>\n",
       "      <td>NO</td>\n",
       "      <td>NO</td>\n",
       "      <td>ENABLED</td>\n",
       "      <td>2022-04-27</td>\n",
       "    </tr>\n",
       "    <tr>\n",
       "      <th>9</th>\n",
       "      <td>CTXSYS</td>\n",
       "      <td>DR$THS_FPHRASE</td>\n",
       "      <td>None</td>\n",
       "      <td>None</td>\n",
       "      <td>None</td>\n",
       "      <td>VALID</td>\n",
       "      <td>0E-9</td>\n",
       "      <td>0E-9</td>\n",
       "      <td>0E-9</td>\n",
       "      <td>0E-9</td>\n",
       "      <td>...</td>\n",
       "      <td>None</td>\n",
       "      <td>None</td>\n",
       "      <td>NO</td>\n",
       "      <td>DISABLED</td>\n",
       "      <td>DISABLED</td>\n",
       "      <td>NO</td>\n",
       "      <td>NO</td>\n",
       "      <td>NO</td>\n",
       "      <td>ENABLED</td>\n",
       "      <td>2022-04-27</td>\n",
       "    </tr>\n",
       "  </tbody>\n",
       "</table>\n",
       "<p>10 rows × 87 columns</p>\n",
       "</div>"
      ],
      "text/plain": [
       "    OWNER           TABLE_NAME TABLESPACE_NAME CLUSTER_NAME IOT_NAME STATUS  \\\n",
       "0  CTXSYS  DR$INDEX_CDI_COLUMN            None         None     None  VALID   \n",
       "1  CTXSYS               DR$SQE            None         None     None  VALID   \n",
       "2  CTXSYS           DR$WAITING            None         None     None  VALID   \n",
       "3  CTXSYS      DR$SDATA_UPDATE            None         None     None  VALID   \n",
       "4  CTXSYS           DR$PENDING            None         None     None  VALID   \n",
       "5  CTXSYS         DR$UNINDEXED            None         None     None  VALID   \n",
       "6  CTXSYS    DR$ONLINE_PENDING            None         None     None  VALID   \n",
       "7  CTXSYS          DR$PARALLEL            None         None     None  VALID   \n",
       "8  CTXSYS              DR$TREE            None         None     None  VALID   \n",
       "9  CTXSYS       DR$THS_FPHRASE            None         None     None  VALID   \n",
       "\n",
       "  PCT_FREE PCT_USED INI_TRANS MAX_TRANS  ... INMEMORY_SERVICE  \\\n",
       "0     0E-9     0E-9      0E-9      0E-9  ...             None   \n",
       "1     0E-9     0E-9      0E-9      0E-9  ...             None   \n",
       "2     0E-9     0E-9      0E-9      0E-9  ...             None   \n",
       "3     0E-9     0E-9      0E-9      0E-9  ...             None   \n",
       "4     0E-9     0E-9      0E-9      0E-9  ...             None   \n",
       "5     0E-9     0E-9      0E-9      0E-9  ...             None   \n",
       "6     0E-9     0E-9      0E-9      0E-9  ...             None   \n",
       "7     0E-9     0E-9      0E-9      0E-9  ...             None   \n",
       "8     0E-9     0E-9      0E-9      0E-9  ...             None   \n",
       "9     0E-9     0E-9      0E-9      0E-9  ...             None   \n",
       "\n",
       "  INMEMORY_SERVICE_NAME CONTAINER_MAP_OBJECT MEMOPTIMIZE_READ  \\\n",
       "0                  None                   NO         DISABLED   \n",
       "1                  None                   NO         DISABLED   \n",
       "2                  None                   NO         DISABLED   \n",
       "3                  None                   NO         DISABLED   \n",
       "4                  None                   NO         DISABLED   \n",
       "5                  None                   NO         DISABLED   \n",
       "6                  None                   NO         DISABLED   \n",
       "7                  None                   NO         DISABLED   \n",
       "8                  None                   NO         DISABLED   \n",
       "9                  None                   NO         DISABLED   \n",
       "\n",
       "  MEMOPTIMIZE_WRITE HAS_SENSITIVE_COLUMN ADMIT_NULL DATA_LINK_DML_ENABLED  \\\n",
       "0          DISABLED                   NO         NO                    NO   \n",
       "1          DISABLED                   NO         NO                    NO   \n",
       "2          DISABLED                   NO         NO                    NO   \n",
       "3          DISABLED                   NO         NO                    NO   \n",
       "4          DISABLED                   NO         NO                    NO   \n",
       "5          DISABLED                   NO         NO                    NO   \n",
       "6          DISABLED                   NO         NO                    NO   \n",
       "7          DISABLED                   NO         NO                    NO   \n",
       "8          DISABLED                   NO         NO                    NO   \n",
       "9          DISABLED                   NO         NO                    NO   \n",
       "\n",
       "  LOGICAL_REPLICATION          dt  \n",
       "0             ENABLED  2022-04-27  \n",
       "1             ENABLED  2022-04-27  \n",
       "2             ENABLED  2022-04-27  \n",
       "3             ENABLED  2022-04-27  \n",
       "4             ENABLED  2022-04-27  \n",
       "5             ENABLED  2022-04-27  \n",
       "6             ENABLED  2022-04-27  \n",
       "7             ENABLED  2022-04-27  \n",
       "8             ENABLED  2022-04-27  \n",
       "9             ENABLED  2022-04-27  \n",
       "\n",
       "[10 rows x 87 columns]"
      ]
     },
     "execution_count": 14,
     "metadata": {},
     "output_type": "execute_result"
    }
   ],
   "source": [
    "df = r.result().to_dataframe()\n",
    "df"
   ]
  },
  {
   "cell_type": "code",
   "execution_count": 15,
   "id": "b268f522-4269-44b7-898d-b6cf3c4c6e7a",
   "metadata": {
    "execution": {
     "iopub.execute_input": "2022-04-28T12:55:53.855629Z",
     "iopub.status.busy": "2022-04-28T12:55:53.855322Z",
     "iopub.status.idle": "2022-04-28T12:55:54.498268Z",
     "shell.execute_reply": "2022-04-28T12:55:54.497785Z",
     "shell.execute_reply.started": "2022-04-28T12:55:53.855604Z"
    },
    "tags": []
   },
   "outputs": [],
   "source": [
    "spark.stop()"
   ]
  },
  {
   "cell_type": "code",
   "execution_count": null,
   "id": "68325bf3-1ff5-44a8-91db-9a72e0f44990",
   "metadata": {},
   "outputs": [],
   "source": []
  }
 ],
 "metadata": {
  "kernelspec": {
   "display_name": "Python 3 (ipykernel)",
   "language": "python",
   "name": "python3"
  },
  "language_info": {
   "codemirror_mode": {
    "name": "ipython",
    "version": 3
   },
   "file_extension": ".py",
   "mimetype": "text/x-python",
   "name": "python",
   "nbconvert_exporter": "python",
   "pygments_lexer": "ipython3",
   "version": "3.8.13"
  }
 },
 "nbformat": 4,
 "nbformat_minor": 5
}
