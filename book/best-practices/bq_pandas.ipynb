{
 "cells": [
  {
   "cell_type": "code",
   "execution_count": 3,
   "metadata": {
    "execution": {
     "iopub.execute_input": "2022-04-19T07:06:43.621962Z",
     "iopub.status.busy": "2022-04-19T07:06:43.621654Z",
     "iopub.status.idle": "2022-04-19T07:06:46.475753Z",
     "shell.execute_reply": "2022-04-19T07:06:46.475327Z",
     "shell.execute_reply.started": "2022-04-19T07:06:43.621939Z"
    },
    "tags": []
   },
   "outputs": [
    {
     "name": "stdout",
     "output_type": "stream",
     "text": [
      "destination: emart-datafabric._2dd36219768c7c869a5680edf9fd6e104ea57800.anon415fbe71632426fa5a30751a82e369b1559cbaa7\n",
      "total_rows: 10\n",
      "slot_secs: 0.22\n",
      "\n"
     ]
    },
    {
     "name": "stderr",
     "output_type": "stream",
     "text": [
      "Downloading: 100%|██████████| 10/10 [00:01<00:00,  8.79rows/s]\n"
     ]
    },
    {
     "data": {
      "text/html": [
       "<div>\n",
       "<style scoped>\n",
       "    .dataframe tbody tr th:only-of-type {\n",
       "        vertical-align: middle;\n",
       "    }\n",
       "\n",
       "    .dataframe tbody tr th {\n",
       "        vertical-align: top;\n",
       "    }\n",
       "\n",
       "    .dataframe thead th {\n",
       "        text-align: right;\n",
       "    }\n",
       "</style>\n",
       "<table border=\"1\" class=\"dataframe\">\n",
       "  <thead>\n",
       "    <tr style=\"text-align: right;\">\n",
       "      <th></th>\n",
       "      <th>CUST_ID</th>\n",
       "      <th>GNDR_CD</th>\n",
       "      <th>SMS_RCV_YN</th>\n",
       "    </tr>\n",
       "  </thead>\n",
       "  <tbody>\n",
       "    <tr>\n",
       "      <th>0</th>\n",
       "      <td>acefb48b8a5255ac0db10fecc6d5266a038b29b2ca2a0d...</td>\n",
       "      <td>1</td>\n",
       "      <td>N</td>\n",
       "    </tr>\n",
       "    <tr>\n",
       "      <th>1</th>\n",
       "      <td>ec5322b40b82237a3b44aa00a27d42b21bfea7d0129dfb...</td>\n",
       "      <td>2</td>\n",
       "      <td>N</td>\n",
       "    </tr>\n",
       "    <tr>\n",
       "      <th>2</th>\n",
       "      <td>20c31d480719ec02a5bf81fb7395ed5c61929aebbf522d...</td>\n",
       "      <td>2</td>\n",
       "      <td>Y</td>\n",
       "    </tr>\n",
       "    <tr>\n",
       "      <th>3</th>\n",
       "      <td>d8a36bc1178da67e4ef517c100d9d90b6b9c3658238cc4...</td>\n",
       "      <td>2</td>\n",
       "      <td>Y</td>\n",
       "    </tr>\n",
       "    <tr>\n",
       "      <th>4</th>\n",
       "      <td>60444fd55f1127356a2480d7f62bd97b1200a9c6dc0586...</td>\n",
       "      <td>1</td>\n",
       "      <td>Y</td>\n",
       "    </tr>\n",
       "    <tr>\n",
       "      <th>5</th>\n",
       "      <td>b0f2495e82dd1ae15f9d866b6e6adb0ee49bf5ac11aaba...</td>\n",
       "      <td>2</td>\n",
       "      <td>Y</td>\n",
       "    </tr>\n",
       "    <tr>\n",
       "      <th>6</th>\n",
       "      <td>7317b1c43e2f8f334551d37f5d112bdab83462d2ed85e5...</td>\n",
       "      <td>2</td>\n",
       "      <td>Y</td>\n",
       "    </tr>\n",
       "    <tr>\n",
       "      <th>7</th>\n",
       "      <td>367d7d3f0fa1d60e355509544de85f77c40e6243eaf1f4...</td>\n",
       "      <td>2</td>\n",
       "      <td>Y</td>\n",
       "    </tr>\n",
       "    <tr>\n",
       "      <th>8</th>\n",
       "      <td>b36d04c47251523e3155f07745438bca375a8b01669f0e...</td>\n",
       "      <td>2</td>\n",
       "      <td>Y</td>\n",
       "    </tr>\n",
       "    <tr>\n",
       "      <th>9</th>\n",
       "      <td>1adf222e2798e447f117351fe284a5f7b54b7a301d0d84...</td>\n",
       "      <td>2</td>\n",
       "      <td>N</td>\n",
       "    </tr>\n",
       "  </tbody>\n",
       "</table>\n",
       "</div>"
      ],
      "text/plain": [
       "                                             CUST_ID GNDR_CD SMS_RCV_YN\n",
       "0  acefb48b8a5255ac0db10fecc6d5266a038b29b2ca2a0d...       1          N\n",
       "1  ec5322b40b82237a3b44aa00a27d42b21bfea7d0129dfb...       2          N\n",
       "2  20c31d480719ec02a5bf81fb7395ed5c61929aebbf522d...       2          Y\n",
       "3  d8a36bc1178da67e4ef517c100d9d90b6b9c3658238cc4...       2          Y\n",
       "4  60444fd55f1127356a2480d7f62bd97b1200a9c6dc0586...       1          Y\n",
       "5  b0f2495e82dd1ae15f9d866b6e6adb0ee49bf5ac11aaba...       2          Y\n",
       "6  7317b1c43e2f8f334551d37f5d112bdab83462d2ed85e5...       2          Y\n",
       "7  367d7d3f0fa1d60e355509544de85f77c40e6243eaf1f4...       2          Y\n",
       "8  b36d04c47251523e3155f07745438bca375a8b01669f0e...       2          Y\n",
       "9  1adf222e2798e447f117351fe284a5f7b54b7a301d0d84...       2          N"
      ]
     },
     "execution_count": 3,
     "metadata": {},
     "output_type": "execute_result"
    }
   ],
   "source": [
    "from pydatafabric.gcp import bq_to_pandas\n",
    "\n",
    "pd_df = bq_to_pandas(\"\"\"\n",
    "SELECT\n",
    "  CUST_ID, GNDR_CD, SMS_RCV_YN\n",
    "FROM\n",
    "  `smart-ruler-304409.common.hcard_features_0304`\n",
    "LIMIT\n",
    "  10\n",
    "\"\"\")\n",
    "\n",
    "pd_df"
   ]
  },
  {
   "cell_type": "code",
   "execution_count": null,
   "metadata": {
    "execution": {
     "iopub.execute_input": "2022-04-19T07:06:47.209584Z",
     "iopub.status.busy": "2022-04-19T07:06:47.209062Z"
    },
    "tags": []
   },
   "outputs": [
    {
     "name": "stdout",
     "output_type": "stream",
     "text": [
      "저장할 테이블 : temp_1d.temp_1650352007\n"
     ]
    },
    {
     "name": "stderr",
     "output_type": "stream",
     "text": [
      "22/04/19 16:06:47 INFO org.apache.spark.SparkEnv: Registering MapOutputTracker\n",
      "22/04/19 16:06:47 INFO org.apache.spark.SparkEnv: Registering BlockManagerMaster\n",
      "22/04/19 16:06:47 INFO org.apache.spark.SparkEnv: Registering BlockManagerMasterHeartbeat\n",
      "22/04/19 16:06:47 INFO org.apache.spark.SparkEnv: Registering OutputCommitCoordinator\n"
     ]
    }
   ],
   "source": [
    "import time\n",
    "from pydatafabric.gcp import pandas_to_bq_table\n",
    "\n",
    "dest_table = f\"temp_{str(int(time.time()))}\"\n",
    "print(f\"저장할 테이블 : temp_1d.{dest_table}\")\n",
    "\n",
    "pandas_to_bq_table(pd_df, \"temp_1d\", dest_table)\n",
    "\n",
    "bq_to_pandas(f\"\"\"\n",
    "    SELECT *\n",
    "    FROM temp_1d.{dest_table}\n",
    "\"\"\").head()"
   ]
  },
  {
   "cell_type": "code",
   "execution_count": null,
   "metadata": {},
   "outputs": [],
   "source": []
  }
 ],
 "metadata": {
  "kernelspec": {
   "display_name": "Python 3 (ipykernel)",
   "language": "python",
   "name": "python3"
  },
  "language_info": {
   "codemirror_mode": {
    "name": "ipython",
    "version": 3
   },
   "file_extension": ".py",
   "mimetype": "text/x-python",
   "name": "python",
   "nbconvert_exporter": "python",
   "pygments_lexer": "ipython3",
   "version": "3.8.13"
  }
 },
 "nbformat": 4,
 "nbformat_minor": 4
}
