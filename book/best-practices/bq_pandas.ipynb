{
 "cells": [
  {
   "cell_type": "markdown",
   "metadata": {},
   "source": [
    "### EDA용 bq pandas dataframe"
   ]
  },
  {
   "cell_type": "code",
   "execution_count": 4,
   "metadata": {
    "execution": {
     "iopub.execute_input": "2022-09-28T01:21:31.058160Z",
     "iopub.status.busy": "2022-09-28T01:21:31.057702Z",
     "iopub.status.idle": "2022-09-28T01:21:32.854970Z",
     "shell.execute_reply": "2022-09-28T01:21:32.854425Z",
     "shell.execute_reply.started": "2022-09-28T01:21:31.058128Z"
    },
    "tags": []
   },
   "outputs": [
    {
     "name": "stdout",
     "output_type": "stream",
     "text": [
      "Warning: exception on print statistics\n",
      "unsupported operand type(s) for /: 'NoneType' and 'int'\n"
     ]
    },
    {
     "name": "stderr",
     "output_type": "stream",
     "text": [
      "Downloading: 100%|██████████| 10/10 [00:00<00:00, 12.52rows/s]\n"
     ]
    },
    {
     "data": {
      "text/html": [
       "<div>\n",
       "<style scoped>\n",
       "    .dataframe tbody tr th:only-of-type {\n",
       "        vertical-align: middle;\n",
       "    }\n",
       "\n",
       "    .dataframe tbody tr th {\n",
       "        vertical-align: top;\n",
       "    }\n",
       "\n",
       "    .dataframe thead th {\n",
       "        text-align: right;\n",
       "    }\n",
       "</style>\n",
       "<table border=\"1\" class=\"dataframe\">\n",
       "  <thead>\n",
       "    <tr style=\"text-align: right;\">\n",
       "      <th></th>\n",
       "      <th>CUST_ID</th>\n",
       "      <th>GNDR_CD</th>\n",
       "      <th>SMS_RCV_YN</th>\n",
       "    </tr>\n",
       "  </thead>\n",
       "  <tbody>\n",
       "    <tr>\n",
       "      <th>0</th>\n",
       "      <td>ed8d678bc255849fdab83310bee402fb80c5cc0a436d2a...</td>\n",
       "      <td>2</td>\n",
       "      <td>Y</td>\n",
       "    </tr>\n",
       "    <tr>\n",
       "      <th>1</th>\n",
       "      <td>e2280f20e49f612c947cfc4ec5075e89d908401255862a...</td>\n",
       "      <td>1</td>\n",
       "      <td>N</td>\n",
       "    </tr>\n",
       "    <tr>\n",
       "      <th>2</th>\n",
       "      <td>5914e4383a6d3752dff026f079dd907edfdeb80d31b5a3...</td>\n",
       "      <td>2</td>\n",
       "      <td>N</td>\n",
       "    </tr>\n",
       "    <tr>\n",
       "      <th>3</th>\n",
       "      <td>3824de30abfa473def31973c94653eb8cb4de76986bdcb...</td>\n",
       "      <td>2</td>\n",
       "      <td>Y</td>\n",
       "    </tr>\n",
       "    <tr>\n",
       "      <th>4</th>\n",
       "      <td>9a5b550dc04fad2fc21d2058469f3cf137cd1a98e1c05b...</td>\n",
       "      <td>2</td>\n",
       "      <td>N</td>\n",
       "    </tr>\n",
       "    <tr>\n",
       "      <th>5</th>\n",
       "      <td>fb9ff124752e5e5cb74c638af31461c8cbb87bc5443154...</td>\n",
       "      <td>2</td>\n",
       "      <td>N</td>\n",
       "    </tr>\n",
       "    <tr>\n",
       "      <th>6</th>\n",
       "      <td>fb7eceeaae55a88f438394e9be7e7b5122cc36f6deb057...</td>\n",
       "      <td>2</td>\n",
       "      <td>Y</td>\n",
       "    </tr>\n",
       "    <tr>\n",
       "      <th>7</th>\n",
       "      <td>fdaec3c589152fdbf2aeb230368167de36f06bcec959f2...</td>\n",
       "      <td>2</td>\n",
       "      <td>Y</td>\n",
       "    </tr>\n",
       "    <tr>\n",
       "      <th>8</th>\n",
       "      <td>0ad738954a31d5c3563ccabf637e5bc8238454eb6ae401...</td>\n",
       "      <td>2</td>\n",
       "      <td>N</td>\n",
       "    </tr>\n",
       "    <tr>\n",
       "      <th>9</th>\n",
       "      <td>2a2662eab1d81fc2add81971a81d7cedf70389540fda10...</td>\n",
       "      <td>1</td>\n",
       "      <td>N</td>\n",
       "    </tr>\n",
       "  </tbody>\n",
       "</table>\n",
       "</div>"
      ],
      "text/plain": [
       "                                             CUST_ID GNDR_CD SMS_RCV_YN\n",
       "0  ed8d678bc255849fdab83310bee402fb80c5cc0a436d2a...       2          Y\n",
       "1  e2280f20e49f612c947cfc4ec5075e89d908401255862a...       1          N\n",
       "2  5914e4383a6d3752dff026f079dd907edfdeb80d31b5a3...       2          N\n",
       "3  3824de30abfa473def31973c94653eb8cb4de76986bdcb...       2          Y\n",
       "4  9a5b550dc04fad2fc21d2058469f3cf137cd1a98e1c05b...       2          N\n",
       "5  fb9ff124752e5e5cb74c638af31461c8cbb87bc5443154...       2          N\n",
       "6  fb7eceeaae55a88f438394e9be7e7b5122cc36f6deb057...       2          Y\n",
       "7  fdaec3c589152fdbf2aeb230368167de36f06bcec959f2...       2          Y\n",
       "8  0ad738954a31d5c3563ccabf637e5bc8238454eb6ae401...       2          N\n",
       "9  2a2662eab1d81fc2add81971a81d7cedf70389540fda10...       1          N"
      ]
     },
     "execution_count": 4,
     "metadata": {},
     "output_type": "execute_result"
    }
   ],
   "source": [
    "from pydatafabric.gcp import bq_to_pandas\n",
    "\n",
    "pd_df = bq_to_pandas(\"\"\"\n",
    "SELECT\n",
    "  CUST_ID, GNDR_CD, SMS_RCV_YN\n",
    "FROM\n",
    "  `smart-ruler-304409.common_dev.hcard_features_0304`\n",
    "LIMIT\n",
    "  10\n",
    "\"\"\")\n",
    "\n",
    "pd_df"
   ]
  },
  {
   "cell_type": "markdown",
   "metadata": {},
   "source": [
    "### pandas를 bq table로 저장"
   ]
  },
  {
   "cell_type": "code",
   "execution_count": 5,
   "metadata": {
    "execution": {
     "iopub.execute_input": "2022-09-28T01:21:35.113942Z",
     "iopub.status.busy": "2022-09-28T01:21:35.113244Z",
     "iopub.status.idle": "2022-09-28T01:21:47.880674Z",
     "shell.execute_reply": "2022-09-28T01:21:47.880138Z",
     "shell.execute_reply.started": "2022-09-28T01:21:35.113904Z"
    },
    "tags": []
   },
   "outputs": [
    {
     "name": "stdout",
     "output_type": "stream",
     "text": [
      "저장할 테이블 : temp_1d.temp_1664328095\n"
     ]
    },
    {
     "name": "stderr",
     "output_type": "stream",
     "text": [
      "                                                                                \r"
     ]
    },
    {
     "name": "stdout",
     "output_type": "stream",
     "text": [
      "destination: emart-datafabric._2dd36219768c7c869a5680edf9fd6e104ea57800.anon24ad595ce03d0bd9de4d313bb01cdb844d6772f3ac09f90cc861020e64d71aa5\n",
      "total_rows: 10\n",
      "slot_secs: 0.036\n",
      "\n"
     ]
    },
    {
     "name": "stderr",
     "output_type": "stream",
     "text": [
      "Downloading: 100%|██████████| 10/10 [00:00<00:00, 13.30rows/s]\n"
     ]
    },
    {
     "data": {
      "text/html": [
       "<div>\n",
       "<style scoped>\n",
       "    .dataframe tbody tr th:only-of-type {\n",
       "        vertical-align: middle;\n",
       "    }\n",
       "\n",
       "    .dataframe tbody tr th {\n",
       "        vertical-align: top;\n",
       "    }\n",
       "\n",
       "    .dataframe thead th {\n",
       "        text-align: right;\n",
       "    }\n",
       "</style>\n",
       "<table border=\"1\" class=\"dataframe\">\n",
       "  <thead>\n",
       "    <tr style=\"text-align: right;\">\n",
       "      <th></th>\n",
       "      <th>CUST_ID</th>\n",
       "      <th>GNDR_CD</th>\n",
       "      <th>SMS_RCV_YN</th>\n",
       "    </tr>\n",
       "  </thead>\n",
       "  <tbody>\n",
       "    <tr>\n",
       "      <th>0</th>\n",
       "      <td>e2280f20e49f612c947cfc4ec5075e89d908401255862a...</td>\n",
       "      <td>1</td>\n",
       "      <td>N</td>\n",
       "    </tr>\n",
       "    <tr>\n",
       "      <th>1</th>\n",
       "      <td>2a2662eab1d81fc2add81971a81d7cedf70389540fda10...</td>\n",
       "      <td>1</td>\n",
       "      <td>N</td>\n",
       "    </tr>\n",
       "    <tr>\n",
       "      <th>2</th>\n",
       "      <td>5914e4383a6d3752dff026f079dd907edfdeb80d31b5a3...</td>\n",
       "      <td>2</td>\n",
       "      <td>N</td>\n",
       "    </tr>\n",
       "    <tr>\n",
       "      <th>3</th>\n",
       "      <td>9a5b550dc04fad2fc21d2058469f3cf137cd1a98e1c05b...</td>\n",
       "      <td>2</td>\n",
       "      <td>N</td>\n",
       "    </tr>\n",
       "    <tr>\n",
       "      <th>4</th>\n",
       "      <td>fb9ff124752e5e5cb74c638af31461c8cbb87bc5443154...</td>\n",
       "      <td>2</td>\n",
       "      <td>N</td>\n",
       "    </tr>\n",
       "  </tbody>\n",
       "</table>\n",
       "</div>"
      ],
      "text/plain": [
       "                                             CUST_ID GNDR_CD SMS_RCV_YN\n",
       "0  e2280f20e49f612c947cfc4ec5075e89d908401255862a...       1          N\n",
       "1  2a2662eab1d81fc2add81971a81d7cedf70389540fda10...       1          N\n",
       "2  5914e4383a6d3752dff026f079dd907edfdeb80d31b5a3...       2          N\n",
       "3  9a5b550dc04fad2fc21d2058469f3cf137cd1a98e1c05b...       2          N\n",
       "4  fb9ff124752e5e5cb74c638af31461c8cbb87bc5443154...       2          N"
      ]
     },
     "execution_count": 5,
     "metadata": {},
     "output_type": "execute_result"
    }
   ],
   "source": [
    "import time\n",
    "from pydatafabric.gcp import pandas_to_bq_table\n",
    "\n",
    "dest_table = f\"temp_{str(int(time.time()))}\"\n",
    "print(f\"저장할 테이블 : temp_1d.{dest_table}\")\n",
    "\n",
    "pandas_to_bq_table(pd_df, \"temp_1d\", dest_table)\n",
    "\n",
    "bq_to_pandas(f\"\"\"\n",
    "    SELECT *\n",
    "    FROM temp_1d.{dest_table}\n",
    "\"\"\").head()"
   ]
  }
 ],
 "metadata": {
  "kernelspec": {
   "display_name": "Python 3 (ipykernel)",
   "language": "python",
   "name": "python3"
  },
  "language_info": {
   "codemirror_mode": {
    "name": "ipython",
    "version": 3
   },
   "file_extension": ".py",
   "mimetype": "text/x-python",
   "name": "python",
   "nbconvert_exporter": "python",
   "pygments_lexer": "ipython3",
   "version": "3.8.13"
  }
 },
 "nbformat": 4,
 "nbformat_minor": 4
}
