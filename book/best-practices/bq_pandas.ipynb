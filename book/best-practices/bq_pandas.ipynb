{
 "cells": [
  {
   "cell_type": "code",
   "execution_count": null,
   "metadata": {},
   "outputs": [],
   "source": [
    "from pydatafabric.gcp import bq_to_pandas\n",
    "\n",
    "pd_df = bq_to_pandas(\"\"\"\n",
    "    SELECT *\n",
    "    FROM tworld.twd_dst_product_group\n",
    "    WHERE dt = (SELECT MAX(dt) FROM tworld.twd_dst_product_group)\n",
    "\"\"\")\n",
    "\n",
    "pd_df"
   ]
  },
  {
   "cell_type": "code",
   "execution_count": null,
   "metadata": {},
   "outputs": [],
   "source": [
    "import time\n",
    "from pydatafabric.gcp import pandas_to_bq_table\n",
    "\n",
    "dest_table = f\"twd_dst_product_group_{str(int(time.time()))}\"\n",
    "print(f\"저장할 테이블 : temp_1d.{dest_table}\")\n",
    "\n",
    "pandas_to_bq_table(pd_df, \"temp_1d\", dest_table)\n",
    "\n",
    "bq_to_pandas(f\"\"\"\n",
    "    SELECT *\n",
    "    FROM temp_1d.{dest_table}\n",
    "\"\"\").head()"
   ]
  }
 ],
 "metadata": {
  "kernelspec": {
   "display_name": "Python 3",
   "language": "python",
   "name": "python3"
  },
  "language_info": {
   "codemirror_mode": {
    "name": "ipython",
    "version": 3
   },
   "file_extension": ".py",
   "mimetype": "text/x-python",
   "name": "python",
   "nbconvert_exporter": "python",
   "pygments_lexer": "ipython3",
   "version": "3.6.11"
  }
 },
 "nbformat": 4,
 "nbformat_minor": 4
}