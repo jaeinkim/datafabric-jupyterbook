{
 "cells": [
  {
   "cell_type": "markdown",
   "id": "6c06d4fe-9b34-4994-b3db-4844ab733364",
   "metadata": {},
   "source": [
    "### bq 데이터(spark)를 redis 서버에 저장"
   ]
  },
  {
   "cell_type": "code",
   "execution_count": 1,
   "id": "3a26b1bf-81e4-438e-920b-0796392091e3",
   "metadata": {
    "execution": {
     "iopub.execute_input": "2022-10-12T07:55:19.799984Z",
     "iopub.status.busy": "2022-10-12T07:55:19.799521Z",
     "iopub.status.idle": "2022-10-12T07:55:19.892385Z",
     "shell.execute_reply": "2022-10-12T07:55:19.891833Z",
     "shell.execute_reply.started": "2022-10-12T07:55:19.799906Z"
    },
    "tags": []
   },
   "outputs": [],
   "source": [
    "from pydatafabric.vault_utils import get_secrets\n",
    "\n",
    "redis_info = get_secrets(mount_point=\"datafabric\", path=\"redis/datafabric/dev\")"
   ]
  },
  {
   "cell_type": "code",
   "execution_count": 2,
   "id": "9772bfb8-2e9f-4c75-b741-be01ed236815",
   "metadata": {
    "execution": {
     "iopub.execute_input": "2022-10-12T07:55:35.895201Z",
     "iopub.status.busy": "2022-10-12T07:55:35.894802Z",
     "iopub.status.idle": "2022-10-12T07:55:45.003330Z",
     "shell.execute_reply": "2022-10-12T07:55:45.002607Z",
     "shell.execute_reply.started": "2022-10-12T07:55:35.895170Z"
    },
    "tags": []
   },
   "outputs": [
    {
     "name": "stderr",
     "output_type": "stream",
     "text": [
      "Setting default log level to \"WARN\".\n",
      "To adjust logging level use sc.setLogLevel(newLevel). For SparkR, use setLogLevel(newLevel).\n",
      "22/10/12 16:55:39 INFO org.apache.spark.SparkEnv: Registering MapOutputTracker\n",
      "22/10/12 16:55:40 INFO org.apache.spark.SparkEnv: Registering BlockManagerMaster\n",
      "22/10/12 16:55:40 INFO org.apache.spark.SparkEnv: Registering BlockManagerMasterHeartbeat\n",
      "22/10/12 16:55:40 INFO org.apache.spark.SparkEnv: Registering OutputCommitCoordinator\n"
     ]
    }
   ],
   "source": [
    "from pyspark.sql import SparkSession\n",
    "\n",
    "spark = SparkSession \\\n",
    "    .builder \\\n",
    "    .appName(\"bq_to_redis_214708\") \\\n",
    "    .config(\"spark.redis.host\", redis_info['host']) \\\n",
    "    .config(\"spark.redis.port\", redis_info['port']) \\\n",
    "    .config('spark.sql.execution.arrow.pyspark.enabled', 'true') \\\n",
    "    .config(\"spark.jars\",\n",
    "            \"gs://emart-datafabric-resources/jars/spark-redis_2.12-3.1.0-jar-with-dependencies.jar,hdfs:///jars/spark-bigquery-with-dependencies_default.jar\") \\\n",
    "    .getOrCreate()"
   ]
  },
  {
   "cell_type": "code",
   "execution_count": null,
   "id": "dc636b5e-ed32-4151-93bd-fcfee91a8c68",
   "metadata": {
    "tags": []
   },
   "outputs": [],
   "source": [
    "### Spark 세션 생성 후 spark.redis 환경변수 설정은 동작하지 않음\n",
    "# from pydatafabric.gcp import get_spark\n",
    "\n",
    "# spark = get_spark(extra_jars=\"gs://emart-datafabric-resources/jars/spark-redis_2.12-3.1.0-jar-with-dependencies.jar\")\n",
    "# spark.conf.set(\"spark.redis.host\", redis_info['host'])\n",
    "# spark.conf.set(\"spark.redis.port\", redis_info['port'])\n",
    "# spark.conf.set('spark.sql.execution.arrow.pyspark.enabled', 'true')"
   ]
  },
  {
   "cell_type": "code",
   "execution_count": null,
   "id": "9ff81fcd-e97e-4449-ab20-8bc9b62e00aa",
   "metadata": {
    "tags": []
   },
   "outputs": [],
   "source": [
    "df = spark.createDataFrame([{\"a\": 1}])"
   ]
  },
  {
   "cell_type": "code",
   "execution_count": null,
   "id": "dfb050cd-f7b3-4f58-8f2c-e8530929e53a",
   "metadata": {
    "tags": []
   },
   "outputs": [],
   "source": [
    "df"
   ]
  },
  {
   "cell_type": "code",
   "execution_count": null,
   "id": "b5621b38-5239-4077-a016-fb11234a9f88",
   "metadata": {
    "tags": []
   },
   "outputs": [],
   "source": [
    "df.write.format(\"org.apache.spark.sql.redis\").option(\"table\", \"test\").option(\"key.column\", \"a\").save(mode=\"append\")"
   ]
  },
  {
   "cell_type": "code",
   "execution_count": null,
   "id": "dd9c3d22-3a76-4d13-b6ca-d95fb1f85f0f",
   "metadata": {
    "tags": []
   },
   "outputs": [],
   "source": [
    "df = spark.read.format(\"org.apache.spark.sql.redis\").option(\"table\", \"test\").option(\"key.column\", \"a\").load()\n",
    "df.show(10)"
   ]
  },
  {
   "cell_type": "code",
   "execution_count": 3,
   "id": "c1bb4a5e-3559-4268-ac4d-ca7c6bae00cb",
   "metadata": {
    "execution": {
     "iopub.execute_input": "2022-10-12T07:56:10.154790Z",
     "iopub.status.busy": "2022-10-12T07:56:10.154192Z",
     "iopub.status.idle": "2022-10-12T07:56:16.192013Z",
     "shell.execute_reply": "2022-10-12T07:56:16.191349Z",
     "shell.execute_reply.started": "2022-10-12T07:56:10.154757Z"
    },
    "tags": []
   },
   "outputs": [],
   "source": [
    "from pydatafabric.gcp import bq_table_to_df\n",
    "\n",
    "df = bq_table_to_df(\"common_dev\", \"covid_samples\", project=\"emart-datafabric\", col_list=\"*\", spark_session=spark)"
   ]
  },
  {
   "cell_type": "code",
   "execution_count": 4,
   "id": "25389c98-6300-46c2-96f8-90a7cbcc51f4",
   "metadata": {
    "execution": {
     "iopub.execute_input": "2022-10-12T07:56:16.919363Z",
     "iopub.status.busy": "2022-10-12T07:56:16.918800Z",
     "iopub.status.idle": "2022-10-12T07:56:16.936436Z",
     "shell.execute_reply": "2022-10-12T07:56:16.935894Z",
     "shell.execute_reply.started": "2022-10-12T07:56:16.919328Z"
    }
   },
   "outputs": [
    {
     "name": "stdout",
     "output_type": "stream",
     "text": [
      "root\n",
      " |-- pop_data_2019: long (nullable = true)\n",
      " |-- countries_and_territories: string (nullable = true)\n",
      " |-- country_territory_code: string (nullable = true)\n",
      " |-- geo_id: string (nullable = true)\n",
      " |-- deaths: long (nullable = true)\n",
      " |-- daily_deaths: long (nullable = true)\n",
      " |-- daily_confirmed_cases: long (nullable = true)\n",
      " |-- year: long (nullable = true)\n",
      " |-- date: date (nullable = true)\n",
      " |-- month: long (nullable = true)\n",
      " |-- day: long (nullable = true)\n",
      " |-- confirmed_cases: long (nullable = true)\n",
      "\n"
     ]
    }
   ],
   "source": [
    "df.printSchema()"
   ]
  },
  {
   "cell_type": "code",
   "execution_count": 5,
   "id": "d012ffe8-17a9-4803-9e79-4d55a7b30e4a",
   "metadata": {
    "execution": {
     "iopub.execute_input": "2022-10-12T07:56:21.314258Z",
     "iopub.status.busy": "2022-10-12T07:56:21.313829Z",
     "iopub.status.idle": "2022-10-12T07:56:30.046889Z",
     "shell.execute_reply": "2022-10-12T07:56:30.046307Z",
     "shell.execute_reply.started": "2022-10-12T07:56:21.314232Z"
    }
   },
   "outputs": [
    {
     "name": "stderr",
     "output_type": "stream",
     "text": [
      "                                                                                \r"
     ]
    }
   ],
   "source": [
    "df.write.format(\"org.apache.spark.sql.redis\").option(\"table\", \"covid_samples\").save(mode=\"append\")"
   ]
  },
  {
   "cell_type": "code",
   "execution_count": 6,
   "id": "2e269ccd-cba3-49f2-92c4-fb93236fe262",
   "metadata": {
    "execution": {
     "iopub.execute_input": "2022-10-12T07:56:31.079172Z",
     "iopub.status.busy": "2022-10-12T07:56:31.078792Z",
     "iopub.status.idle": "2022-10-12T07:56:33.761973Z",
     "shell.execute_reply": "2022-10-12T07:56:33.761357Z",
     "shell.execute_reply.started": "2022-10-12T07:56:31.079148Z"
    }
   },
   "outputs": [
    {
     "name": "stderr",
     "output_type": "stream",
     "text": [
      "[Stage 1:>                                                          (0 + 1) / 1]\r"
     ]
    },
    {
     "name": "stdout",
     "output_type": "stream",
     "text": [
      "+-------------+-------------------------+----------------------+------+------+------------+---------------------+----+----------+-----+---+---------------+\n",
      "|pop_data_2019|countries_and_territories|country_territory_code|geo_id|deaths|daily_deaths|daily_confirmed_cases|year|      date|month|day|confirmed_cases|\n",
      "+-------------+-------------------------+----------------------+------+------+------------+---------------------+----+----------+-----+---+---------------+\n",
      "|       889955|                     Fiji|                   FJI|    FJ|     2|           0|                    0|2020|2020-09-27|    9| 27|             32|\n",
      "|     15946882|                     Chad|                   TCD|    TD|    74|           0|                    0|2020|2020-07-10|    7| 10|            873|\n",
      "|       889955|                     Fiji|                   FJI|    FJ|     1|           0|                    0|2020|2020-08-25|    8| 25|             28|\n",
      "|       889955|                     Fiji|                   FJI|    FJ|     0|           0|                    0|2020|2020-04-30|    4| 30|             18|\n",
      "|       889955|                     Fiji|                   FJI|    FJ|     2|           0|                    0|2020|2020-10-13|   10| 13|             32|\n",
      "|     15946882|                     Chad|                   TCD|    TD|    76|           0|                    1|2020|2020-08-25|    8| 25|            987|\n",
      "|     15946882|                     Chad|                   TCD|    TD|   101|           0|                    4|2020|2020-11-20|   11| 20|           1620|\n",
      "|     15946882|                     Chad|                   TCD|    TD|    42|           2|                   15|2020|2020-05-14|    5| 14|            372|\n",
      "|     11333484|                     Cuba|                   CUB|    CU|    58|           2|                   48|2020|2020-04-29|    4| 29|           1437|\n",
      "|    216565317|                 Pakistan|                   PAK|    PK|     0|           0|                    0|2019|2019-12-31|   12| 31|              0|\n",
      "|      9452409|                  Belarus|                   BLR|    BY|     0|           0|                    0|2019|2019-12-31|   12| 31|              0|\n",
      "|     11333484|                     Cuba|                   CUB|    CU|   131|           0|                   22|2020|2020-11-16|   11| 16|           7590|\n",
      "|     11333484|                     Cuba|                   CUB|    CU|     2|           1|                   10|2020|2020-03-27|    3| 27|             67|\n",
      "|       889955|                     Fiji|                   FJI|    FJ|     2|           0|                    2|2020|2020-12-04|   12|  4|             44|\n",
      "|       889955|                     Fiji|                   FJI|    FJ|     0|           0|                    0|2020|2020-03-31|    3| 31|              5|\n",
      "|     11333484|                     Cuba|                   CUB|    CU|    27|           3|                   48|2020|2020-04-17|    4| 17|            862|\n",
      "|     15946882|                     Chad|                   TCD|    TD|    86|           1|                    3|2020|2020-10-05|   10|  5|           1217|\n",
      "|     15946882|                     Chad|                   TCD|    TD|     0|           0|                    1|2020|2020-04-05|    4|  5|              8|\n",
      "|     11333484|                     Cuba|                   CUB|    CU|    94|           0|                   48|2020|2020-08-31|    8| 31|           3973|\n",
      "|       889955|                     Fiji|                   FJI|    FJ|     1|           0|                    0|2020|2020-08-07|    8|  7|             27|\n",
      "+-------------+-------------------------+----------------------+------+------+------------+---------------------+----+----------+-----+---+---------------+\n",
      "only showing top 20 rows\n",
      "\n"
     ]
    },
    {
     "name": "stderr",
     "output_type": "stream",
     "text": [
      "                                                                                \r"
     ]
    }
   ],
   "source": [
    "df = spark.read.format(\"org.apache.spark.sql.redis\").option(\"table\", \"covid_samples\").load()\n",
    "df.show()"
   ]
  },
  {
   "cell_type": "code",
   "execution_count": 7,
   "id": "e4dc5439-8f16-4be0-b910-7ba09367e1aa",
   "metadata": {
    "execution": {
     "iopub.execute_input": "2022-10-12T07:56:42.506703Z",
     "iopub.status.busy": "2022-10-12T07:56:42.506327Z",
     "iopub.status.idle": "2022-10-12T07:56:43.323453Z",
     "shell.execute_reply": "2022-10-12T07:56:43.322854Z",
     "shell.execute_reply.started": "2022-10-12T07:56:42.506679Z"
    },
    "tags": []
   },
   "outputs": [],
   "source": [
    "spark.stop()"
   ]
  },
  {
   "cell_type": "code",
   "execution_count": null,
   "id": "ce38c303-c1fd-4227-a931-b1b75d64666c",
   "metadata": {},
   "outputs": [],
   "source": []
  }
 ],
 "metadata": {
  "kernelspec": {
   "display_name": "Python 3 (ipykernel)",
   "language": "python",
   "name": "python3"
  },
  "language_info": {
   "codemirror_mode": {
    "name": "ipython",
    "version": 3
   },
   "file_extension": ".py",
   "mimetype": "text/x-python",
   "name": "python",
   "nbconvert_exporter": "python",
   "pygments_lexer": "ipython3",
   "version": "3.8.13"
  }
 },
 "nbformat": 4,
 "nbformat_minor": 5
}
