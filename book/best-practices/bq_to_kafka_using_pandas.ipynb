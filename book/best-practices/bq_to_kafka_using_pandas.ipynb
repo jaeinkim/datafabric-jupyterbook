{
 "cells": [
  {
   "cell_type": "markdown",
   "id": "e5b132e6-352b-49c1-b8a3-f286408f923b",
   "metadata": {},
   "source": [
    "### bq 데이터를 kafka에 저장"
   ]
  },
  {
   "cell_type": "code",
   "execution_count": 18,
   "id": "74ba4565-2910-4a46-8d1b-f62bdcafa8d9",
   "metadata": {
    "execution": {
     "iopub.execute_input": "2022-10-18T02:26:14.333463Z",
     "iopub.status.busy": "2022-10-18T02:26:14.332935Z",
     "iopub.status.idle": "2022-10-18T02:26:14.337247Z",
     "shell.execute_reply": "2022-10-18T02:26:14.336491Z",
     "shell.execute_reply.started": "2022-10-18T02:26:14.333431Z"
    },
    "tags": []
   },
   "outputs": [],
   "source": [
    "PROJECT = \"emart-datafabric\"\n",
    "DATASET = \"common_dev\"\n",
    "TABLE = \"dfm_sample_eapp_data\"\n",
    "LIMIT = 10"
   ]
  },
  {
   "cell_type": "code",
   "execution_count": 19,
   "id": "4c8f30f8-ebb6-48ac-887e-9ce17467cb85",
   "metadata": {
    "execution": {
     "iopub.execute_input": "2022-10-18T02:26:14.751800Z",
     "iopub.status.busy": "2022-10-18T02:26:14.751374Z",
     "iopub.status.idle": "2022-10-18T02:26:14.755295Z",
     "shell.execute_reply": "2022-10-18T02:26:14.754627Z",
     "shell.execute_reply.started": "2022-10-18T02:26:14.751773Z"
    },
    "tags": [
     "parameters"
    ]
   },
   "outputs": [],
   "source": [
    "BOOTSTRAP_SERVERS = \"datafabric-kafka-kafka-bootstrap.kafka-farm.svc.cluster.local:9092\"\n",
    "TOPICS = 'test'\n",
    "CONSUMER_GROUP = 'test-datafabric'"
   ]
  },
  {
   "cell_type": "code",
   "execution_count": 20,
   "id": "0a88909d-2205-4ca6-b7f9-caad53c1ead4",
   "metadata": {
    "execution": {
     "iopub.execute_input": "2022-10-18T02:26:15.131188Z",
     "iopub.status.busy": "2022-10-18T02:26:15.130679Z",
     "iopub.status.idle": "2022-10-18T02:26:17.168336Z",
     "shell.execute_reply": "2022-10-18T02:26:17.167322Z",
     "shell.execute_reply.started": "2022-10-18T02:26:15.131157Z"
    },
    "tags": []
   },
   "outputs": [
    {
     "name": "stdout",
     "output_type": "stream",
     "text": [
      "Warning: exception on print statistics\n",
      "unsupported operand type(s) for /: 'NoneType' and 'int'\n"
     ]
    },
    {
     "name": "stderr",
     "output_type": "stream",
     "text": [
      "Downloading: 100%|██████████| 10/10 [00:00<00:00, 10.78rows/s]\n"
     ]
    }
   ],
   "source": [
    "import traceback\n",
    "from pydatafabric.gcp import bq_to_pandas\n",
    "\n",
    "df = bq_to_pandas(f\"\"\"\n",
    "    select review_id as key, comments as value\n",
    "    from  `{PROJECT}.{DATASET}.{TABLE}`\n",
    "    where comments != ''\n",
    "    limit {LIMIT}\n",
    "\"\"\")"
   ]
  },
  {
   "cell_type": "code",
   "execution_count": 21,
   "id": "8b125de5-8110-4453-b71b-f7efabdd6a40",
   "metadata": {
    "execution": {
     "iopub.execute_input": "2022-10-18T02:26:18.310543Z",
     "iopub.status.busy": "2022-10-18T02:26:18.310021Z",
     "iopub.status.idle": "2022-10-18T02:26:18.319399Z",
     "shell.execute_reply": "2022-10-18T02:26:18.318556Z",
     "shell.execute_reply.started": "2022-10-18T02:26:18.310507Z"
    },
    "tags": []
   },
   "outputs": [
    {
     "data": {
      "text/html": [
       "<div>\n",
       "<style scoped>\n",
       "    .dataframe tbody tr th:only-of-type {\n",
       "        vertical-align: middle;\n",
       "    }\n",
       "\n",
       "    .dataframe tbody tr th {\n",
       "        vertical-align: top;\n",
       "    }\n",
       "\n",
       "    .dataframe thead th {\n",
       "        text-align: right;\n",
       "    }\n",
       "</style>\n",
       "<table border=\"1\" class=\"dataframe\">\n",
       "  <thead>\n",
       "    <tr style=\"text-align: right;\">\n",
       "      <th></th>\n",
       "      <th>key</th>\n",
       "      <th>value</th>\n",
       "    </tr>\n",
       "  </thead>\n",
       "  <tbody>\n",
       "    <tr>\n",
       "      <th>0</th>\n",
       "      <td>2208062001168751</td>\n",
       "      <td>수박껍질부분에 가까울수록  많이 싱겁네요</td>\n",
       "    </tr>\n",
       "    <tr>\n",
       "      <th>1</th>\n",
       "      <td>2208061419398993</td>\n",
       "      <td>좋아요 좋아요 좋아요 좋아요 좋아요 좋아요 좋아요 좋아요 좋아요 좋아요 좋아요 좋아...</td>\n",
       "    </tr>\n",
       "    <tr>\n",
       "      <th>2</th>\n",
       "      <td>2208060738244837</td>\n",
       "      <td>달고 맛있어요 수분이 풍부하고요\\r\\n맛있게 잘먹었습니다</td>\n",
       "    </tr>\n",
       "    <tr>\n",
       "      <th>3</th>\n",
       "      <td>2208061038412404</td>\n",
       "      <td>황도 좋아해서 샀어요 ㅎㅎ</td>\n",
       "    </tr>\n",
       "    <tr>\n",
       "      <th>4</th>\n",
       "      <td>2208062325391646</td>\n",
       "      <td>당도 높고 맛있어요</td>\n",
       "    </tr>\n",
       "    <tr>\n",
       "      <th>5</th>\n",
       "      <td>2208061555067780</td>\n",
       "      <td>저렴한 가격에 구매했습니다. 만족합니다.</td>\n",
       "    </tr>\n",
       "    <tr>\n",
       "      <th>6</th>\n",
       "      <td>2208061053319664</td>\n",
       "      <td>싱싱하고 잘 익어 맛있게 먹었습니다~</td>\n",
       "    </tr>\n",
       "    <tr>\n",
       "      <th>7</th>\n",
       "      <td>2208062319573664</td>\n",
       "      <td>과일좋아하는 울식구들\\r\\n씻어서 통에 넣어놓으면 하나씩 꺼내먹기 좋아요</td>\n",
       "    </tr>\n",
       "    <tr>\n",
       "      <th>8</th>\n",
       "      <td>2208061357215606</td>\n",
       "      <td>냉장고에 넣었는데 이렇게 되었네요</td>\n",
       "    </tr>\n",
       "    <tr>\n",
       "      <th>9</th>\n",
       "      <td>2208062002191078</td>\n",
       "      <td>올해는 천도가 비싸네요 맛은 좋아요</td>\n",
       "    </tr>\n",
       "  </tbody>\n",
       "</table>\n",
       "</div>"
      ],
      "text/plain": [
       "                key                                              value\n",
       "0  2208062001168751                             수박껍질부분에 가까울수록  많이 싱겁네요\n",
       "1  2208061419398993  좋아요 좋아요 좋아요 좋아요 좋아요 좋아요 좋아요 좋아요 좋아요 좋아요 좋아요 좋아...\n",
       "2  2208060738244837                    달고 맛있어요 수분이 풍부하고요\\r\\n맛있게 잘먹었습니다\n",
       "3  2208061038412404                                     황도 좋아해서 샀어요 ㅎㅎ\n",
       "4  2208062325391646                                         당도 높고 맛있어요\n",
       "5  2208061555067780                             저렴한 가격에 구매했습니다. 만족합니다.\n",
       "6  2208061053319664                               싱싱하고 잘 익어 맛있게 먹었습니다~\n",
       "7  2208062319573664           과일좋아하는 울식구들\\r\\n씻어서 통에 넣어놓으면 하나씩 꺼내먹기 좋아요\n",
       "8  2208061357215606                                 냉장고에 넣었는데 이렇게 되었네요\n",
       "9  2208062002191078                                올해는 천도가 비싸네요 맛은 좋아요"
      ]
     },
     "execution_count": 21,
     "metadata": {},
     "output_type": "execute_result"
    }
   ],
   "source": [
    "df.head(10)"
   ]
  },
  {
   "cell_type": "code",
   "execution_count": 22,
   "id": "4ac3935c-d7bc-444a-8566-861601403d75",
   "metadata": {
    "execution": {
     "iopub.execute_input": "2022-10-18T02:26:21.383213Z",
     "iopub.status.busy": "2022-10-18T02:26:21.382805Z",
     "iopub.status.idle": "2022-10-18T02:26:21.387988Z",
     "shell.execute_reply": "2022-10-18T02:26:21.387277Z",
     "shell.execute_reply.started": "2022-10-18T02:26:21.383189Z"
    },
    "tags": []
   },
   "outputs": [
    {
     "name": "stdout",
     "output_type": "stream",
     "text": [
      "key      object\n",
      "value    object\n",
      "dtype: object\n"
     ]
    }
   ],
   "source": [
    "print(df.dtypes)"
   ]
  },
  {
   "cell_type": "markdown",
   "id": "2c2727d5-b030-487f-bbf3-ab94379dbd2b",
   "metadata": {},
   "source": [
    "### Kafka Prodcuer, Consumer, Create Topic Example"
   ]
  },
  {
   "cell_type": "code",
   "execution_count": 10,
   "id": "06552b16-a57d-4708-8d2f-e5af58c717fb",
   "metadata": {
    "execution": {
     "iopub.execute_input": "2022-10-18T02:09:41.106241Z",
     "iopub.status.busy": "2022-10-18T02:09:41.105924Z",
     "iopub.status.idle": "2022-10-18T02:09:43.375961Z",
     "shell.execute_reply": "2022-10-18T02:09:43.375228Z",
     "shell.execute_reply.started": "2022-10-18T02:09:41.106206Z"
    },
    "tags": []
   },
   "outputs": [
    {
     "name": "stdout",
     "output_type": "stream",
     "text": [
      "Defaulting to user installation because normal site-packages is not writeable\n",
      "Requirement already satisfied: kafka-python in /home/x223726/.local/lib/python3.8/site-packages (2.0.2)\n"
     ]
    }
   ],
   "source": [
    "!python -m pip install kafka-python"
   ]
  },
  {
   "cell_type": "code",
   "execution_count": 57,
   "id": "4e93f927-256e-4569-8f67-755e59328057",
   "metadata": {
    "execution": {
     "iopub.execute_input": "2022-10-18T02:43:49.525151Z",
     "iopub.status.busy": "2022-10-18T02:43:49.524738Z",
     "iopub.status.idle": "2022-10-18T02:43:49.535946Z",
     "shell.execute_reply": "2022-10-18T02:43:49.535096Z",
     "shell.execute_reply.started": "2022-10-18T02:43:49.525119Z"
    },
    "tags": []
   },
   "outputs": [],
   "source": [
    "import threading, time\n",
    "from kafka import KafkaProducer, KafkaConsumer, KafkaAdminClient\n",
    "from kafka.admin import NewTopic\n",
    "from json import loads, dumps\n",
    "    \n",
    "class Producer(threading.Thread):\n",
    "    def __init__(self):\n",
    "        threading.Thread.__init__(self)\n",
    "        self.stop_event = threading.Event()\n",
    "\n",
    "    def stop(self):\n",
    "        self.stop_event.set()\n",
    "\n",
    "    def run(self):\n",
    "        producer = KafkaProducer(acks=\"all\",\n",
    "                                 compression_type='gzip',\n",
    "                                 bootstrap_servers=BOOTSTRAP_SERVERS,\n",
    "                                 value_serializer=lambda x: dumps(x).encode('utf-8'))\n",
    "\n",
    "        # while not self.stop_event.is_set():\n",
    "        producer.send(TOPICS, value=df.to_json(force_ascii=False))\n",
    "        time.sleep(1)\n",
    "\n",
    "        producer.close()\n",
    "        \n",
    "\n",
    "class Consumer(threading.Thread):\n",
    "    def __init__(self):\n",
    "        threading.Thread.__init__(self)\n",
    "        self.stop_event = threading.Event()\n",
    "        self._consumer_dict = {}\n",
    "\n",
    "    def stop(self):\n",
    "        self.stop_event.set()\n",
    "\n",
    "    def run(self):\n",
    "        consumer = KafkaConsumer(bootstrap_servers=BOOTSTRAP_SERVERS,\n",
    "                                 auto_offset_reset='earliest',\n",
    "                                 group_id=CONSUMER_GROUP,\n",
    "                                 value_deserializer=lambda x: loads(x.decode('utf-8')),\n",
    "                                 max_poll_records = 1,\n",
    "                                 consumer_timeout_ms=1000)\n",
    "        \n",
    "        consumer.subscribe([TOPICS])\n",
    "\n",
    "        while not self.stop_event.is_set():\n",
    "            for message in consumer:\n",
    "                print(\"Topic: %s, Partition: %d, Offset: %d, Key: %s, Value: %s\" % (\n",
    "                        message.topic, message.partition, message.offset, message.key, message.value))\n",
    "                \n",
    "                self._consumer_dict = message.value\n",
    "           \n",
    "                if self.stop_event.is_set():\n",
    "                    break\n",
    "\n",
    "        consumer.close()\n",
    "        \n",
    "    def get_consumer_value_dict(self):\n",
    "        return self._consumer_dict\n",
    "\n",
    "                                 \n",
    "def main():\n",
    "    # try:\n",
    "    #     admin = KafkaAdminClient(bootstrap_servers=BOOTSTRAP_SERVERS)\n",
    "    #     topic = NewTopic(name=TOPICS,\n",
    "    #                      num_partitions=1,\n",
    "    #                      replication_factor=1)\n",
    "    #     admin.create_topics([topic])\n",
    "    # except Exception as e:\n",
    "    #     print(e)\n",
    "    \n",
    "    producer = Producer()\n",
    "    consumer = Consumer()\n",
    "    tasks = [producer, consumer]\n",
    "\n",
    "    for t in tasks:\n",
    "        t.start()\n",
    "\n",
    "    time.sleep(10)\n",
    "\n",
    "    for task in tasks:\n",
    "        task.stop()\n",
    "\n",
    "    for task in tasks:\n",
    "        task.join()\n",
    "        \n",
    "    return consumer.get_consumer_value_dict()"
   ]
  },
  {
   "cell_type": "code",
   "execution_count": 58,
   "id": "fb1c2771-9c12-4bc3-8df3-cd08202792f1",
   "metadata": {
    "execution": {
     "iopub.execute_input": "2022-10-18T02:43:51.844530Z",
     "iopub.status.busy": "2022-10-18T02:43:51.844053Z",
     "iopub.status.idle": "2022-10-18T02:44:02.718189Z",
     "shell.execute_reply": "2022-10-18T02:44:02.717282Z",
     "shell.execute_reply.started": "2022-10-18T02:43:51.844497Z"
    },
    "tags": []
   },
   "outputs": [
    {
     "name": "stdout",
     "output_type": "stream",
     "text": [
      "Topic: test, Partition: 0, Offset: 11176, Key: None, Value: {\"key\":{\"0\":\"2208062001168751\",\"1\":\"2208061419398993\",\"2\":\"2208060738244837\",\"3\":\"2208061038412404\",\"4\":\"2208062325391646\",\"5\":\"2208061555067780\",\"6\":\"2208061053319664\",\"7\":\"2208062319573664\",\"8\":\"2208061357215606\",\"9\":\"2208062002191078\"},\"value\":{\"0\":\"수박껍질부분에 가까울수록  많이 싱겁네요\",\"1\":\"좋아요 좋아요 좋아요 좋아요 좋아요 좋아요 좋아요 좋아요 좋아요 좋아요 좋아요 좋아요 좋아요 좋아요\",\"2\":\"달고 맛있어요 수분이 풍부하고요\\r\\n맛있게 잘먹었습니다\",\"3\":\"황도 좋아해서 샀어요 ㅎㅎ\",\"4\":\"당도 높고 맛있어요\",\"5\":\"저렴한 가격에 구매했습니다. 만족합니다.\",\"6\":\"싱싱하고 잘 익어 맛있게 먹었습니다~\",\"7\":\"과일좋아하는 울식구들\\r\\n씻어서 통에 넣어놓으면 하나씩 꺼내먹기 좋아요\",\"8\":\"냉장고에 넣었는데 이렇게 되었네요\",\"9\":\"올해는 천도가 비싸네요 맛은 좋아요\"}}\n"
     ]
    }
   ],
   "source": [
    "consumer_dict = main()"
   ]
  },
  {
   "cell_type": "markdown",
   "id": "bb204eef-09a2-4b4b-a615-eefd5e0c2526",
   "metadata": {},
   "source": [
    "### Kafka에서 받아온 데이터를 aws s3에 parquet파일로 저장"
   ]
  },
  {
   "cell_type": "code",
   "execution_count": 67,
   "id": "10d9fcf3-b101-44ae-b91f-bfc5fa32f905",
   "metadata": {
    "execution": {
     "iopub.execute_input": "2022-10-18T02:48:27.941540Z",
     "iopub.status.busy": "2022-10-18T02:48:27.941169Z",
     "iopub.status.idle": "2022-10-18T02:48:27.945030Z",
     "shell.execute_reply": "2022-10-18T02:48:27.944352Z",
     "shell.execute_reply.started": "2022-10-18T02:48:27.941514Z"
    },
    "tags": []
   },
   "outputs": [],
   "source": [
    "from ast import literal_eval\n",
    "consumer_dict = literal_eval(consumer_dict)"
   ]
  },
  {
   "cell_type": "code",
   "execution_count": 76,
   "id": "7de954ac-214f-495f-b063-4c32341fcf7d",
   "metadata": {
    "execution": {
     "iopub.execute_input": "2022-10-18T03:33:39.070061Z",
     "iopub.status.busy": "2022-10-18T03:33:39.069660Z",
     "iopub.status.idle": "2022-10-18T03:33:39.077749Z",
     "shell.execute_reply": "2022-10-18T03:33:39.077247Z",
     "shell.execute_reply.started": "2022-10-18T03:33:39.070035Z"
    },
    "tags": []
   },
   "outputs": [
    {
     "data": {
      "text/html": [
       "<div>\n",
       "<style scoped>\n",
       "    .dataframe tbody tr th:only-of-type {\n",
       "        vertical-align: middle;\n",
       "    }\n",
       "\n",
       "    .dataframe tbody tr th {\n",
       "        vertical-align: top;\n",
       "    }\n",
       "\n",
       "    .dataframe thead th {\n",
       "        text-align: right;\n",
       "    }\n",
       "</style>\n",
       "<table border=\"1\" class=\"dataframe\">\n",
       "  <thead>\n",
       "    <tr style=\"text-align: right;\">\n",
       "      <th></th>\n",
       "      <th>key</th>\n",
       "      <th>value</th>\n",
       "    </tr>\n",
       "  </thead>\n",
       "  <tbody>\n",
       "    <tr>\n",
       "      <th>0</th>\n",
       "      <td>2208062001168751</td>\n",
       "      <td>수박껍질부분에 가까울수록  많이 싱겁네요</td>\n",
       "    </tr>\n",
       "    <tr>\n",
       "      <th>1</th>\n",
       "      <td>2208061419398993</td>\n",
       "      <td>좋아요 좋아요 좋아요 좋아요 좋아요 좋아요 좋아요 좋아요 좋아요 좋아요 좋아요 좋아...</td>\n",
       "    </tr>\n",
       "    <tr>\n",
       "      <th>2</th>\n",
       "      <td>2208060738244837</td>\n",
       "      <td>달고 맛있어요 수분이 풍부하고요\\r\\n맛있게 잘먹었습니다</td>\n",
       "    </tr>\n",
       "    <tr>\n",
       "      <th>3</th>\n",
       "      <td>2208061038412404</td>\n",
       "      <td>황도 좋아해서 샀어요 ㅎㅎ</td>\n",
       "    </tr>\n",
       "    <tr>\n",
       "      <th>4</th>\n",
       "      <td>2208062325391646</td>\n",
       "      <td>당도 높고 맛있어요</td>\n",
       "    </tr>\n",
       "  </tbody>\n",
       "</table>\n",
       "</div>"
      ],
      "text/plain": [
       "                key                                              value\n",
       "0  2208062001168751                             수박껍질부분에 가까울수록  많이 싱겁네요\n",
       "1  2208061419398993  좋아요 좋아요 좋아요 좋아요 좋아요 좋아요 좋아요 좋아요 좋아요 좋아요 좋아요 좋아...\n",
       "2  2208060738244837                    달고 맛있어요 수분이 풍부하고요\\r\\n맛있게 잘먹었습니다\n",
       "3  2208061038412404                                     황도 좋아해서 샀어요 ㅎㅎ\n",
       "4  2208062325391646                                         당도 높고 맛있어요"
      ]
     },
     "execution_count": 76,
     "metadata": {},
     "output_type": "execute_result"
    }
   ],
   "source": [
    "import pandas as pd\n",
    "\n",
    "parquet_df = pd.DataFrame(consumer_dict)\n",
    "parquet_df.head()"
   ]
  },
  {
   "cell_type": "code",
   "execution_count": 72,
   "id": "360c0349-f061-477f-9616-90ef26c5bef9",
   "metadata": {
    "execution": {
     "iopub.execute_input": "2022-10-18T03:30:13.324380Z",
     "iopub.status.busy": "2022-10-18T03:30:13.324074Z",
     "iopub.status.idle": "2022-10-18T03:30:13.362166Z",
     "shell.execute_reply": "2022-10-18T03:30:13.361624Z",
     "shell.execute_reply.started": "2022-10-18T03:30:13.324359Z"
    },
    "tags": []
   },
   "outputs": [
    {
     "name": "stdout",
     "output_type": "stream",
     "text": [
      "s3a://emart-datafabric-dev/bigquery-db/dfm_sample_eapp_data/parquet/op=put/\n"
     ]
    }
   ],
   "source": [
    "from pydatafabric.vault_utils import get_secrets\n",
    "\n",
    "aws_info = get_secrets(mount_point=\"datafabric\",path=\"aws/credentials/datafabric\")\n",
    "path = \"dfm_sample_eapp_data/parquet\"\n",
    "bucket = f\"emart-datafabric-dev\"\n",
    "destination = f\"s3a://{bucket}/bigquery-db/{path}/op=put/\""
   ]
  },
  {
   "cell_type": "code",
   "execution_count": 73,
   "id": "3b1cc63b-7929-4a8d-bd70-ddcd655038fb",
   "metadata": {
    "execution": {
     "iopub.execute_input": "2022-10-18T03:32:23.160156Z",
     "iopub.status.busy": "2022-10-18T03:32:23.159848Z",
     "iopub.status.idle": "2022-10-18T03:32:31.408842Z",
     "shell.execute_reply": "2022-10-18T03:32:31.408092Z",
     "shell.execute_reply.started": "2022-10-18T03:32:23.160133Z"
    },
    "tags": []
   },
   "outputs": [
    {
     "name": "stderr",
     "output_type": "stream",
     "text": [
      "Setting default log level to \"WARN\".\n",
      "To adjust logging level use sc.setLogLevel(newLevel). For SparkR, use setLogLevel(newLevel).\n",
      "22/10/18 12:32:26 INFO org.apache.spark.SparkEnv: Registering MapOutputTracker\n",
      "22/10/18 12:32:26 INFO org.apache.spark.SparkEnv: Registering BlockManagerMaster\n",
      "22/10/18 12:32:26 INFO org.apache.spark.SparkEnv: Registering BlockManagerMasterHeartbeat\n",
      "22/10/18 12:32:26 INFO org.apache.spark.SparkEnv: Registering OutputCommitCoordinator\n"
     ]
    }
   ],
   "source": [
    "from pydatafabric.ye import get_spark\n",
    "\n",
    "spark = get_spark()\n",
    "spark.conf.set(\"fs.s3a.fast.upload.buffer\", \"disk\")\n",
    "spark.conf.set(\"fs.s3a.buffer.dir\", \"/tmp\")\n",
    "spark.conf.set(\"fs.s3a.access.key\", aws_info[\"aws_access_key_id\"])\n",
    "spark.conf.set(\"fs.s3a.secret.key\", aws_info[\"aws_secret_access_key\"])"
   ]
  },
  {
   "cell_type": "code",
   "execution_count": 77,
   "id": "6daac749-e78b-48ce-aa07-424cd941bb50",
   "metadata": {
    "execution": {
     "iopub.execute_input": "2022-10-18T03:33:52.052757Z",
     "iopub.status.busy": "2022-10-18T03:33:52.052326Z",
     "iopub.status.idle": "2022-10-18T03:33:53.633351Z",
     "shell.execute_reply": "2022-10-18T03:33:53.632526Z",
     "shell.execute_reply.started": "2022-10-18T03:33:52.052730Z"
    },
    "tags": []
   },
   "outputs": [
    {
     "name": "stderr",
     "output_type": "stream",
     "text": [
      "[Stage 0:>                                                          (0 + 1) / 1]\r"
     ]
    },
    {
     "name": "stdout",
     "output_type": "stream",
     "text": [
      "+----------------+-----------------------------------+\n",
      "|             key|                              value|\n",
      "+----------------+-----------------------------------+\n",
      "|2208062001168751| 수박껍질부분에 가까울수록  많이...|\n",
      "|2208061419398993|  좋아요 좋아요 좋아요 좋아요 좋...|\n",
      "|2208060738244837| 달고 맛있어요 수분이 풍부하고요...|\n",
      "|2208061038412404|          황도 좋아해서 샀어요 ㅎㅎ|\n",
      "|2208062325391646|                 당도 높고 맛있어요|\n",
      "|2208061555067780|  저렴한 가격에 구매했습니다. 만...|\n",
      "|2208061053319664|싱싱하고 잘 익어 맛있게 먹었습니다~|\n",
      "|2208062319573664|  과일좋아하는 울식구들\n",
      "씻어서 ...|\n",
      "|2208061357215606|  냉장고에 넣었는데 이렇게 되었네요|\n",
      "|2208062002191078| 올해는 천도가 비싸네요 맛은 좋아요|\n",
      "+----------------+-----------------------------------+\n",
      "\n"
     ]
    },
    {
     "name": "stderr",
     "output_type": "stream",
     "text": [
      "                                                                                \r"
     ]
    }
   ],
   "source": [
    "df = spark.createDataFrame(parquet_df)\n",
    "df.show()"
   ]
  },
  {
   "cell_type": "code",
   "execution_count": 78,
   "id": "e712febc-3c18-4d83-98bc-c52bf703e6b5",
   "metadata": {
    "execution": {
     "iopub.execute_input": "2022-10-18T03:34:03.157527Z",
     "iopub.status.busy": "2022-10-18T03:34:03.157075Z",
     "iopub.status.idle": "2022-10-18T03:34:08.414286Z",
     "shell.execute_reply": "2022-10-18T03:34:08.413581Z",
     "shell.execute_reply.started": "2022-10-18T03:34:03.157500Z"
    },
    "tags": []
   },
   "outputs": [
    {
     "name": "stderr",
     "output_type": "stream",
     "text": [
      "                                                                                \r"
     ]
    }
   ],
   "source": [
    "df.write.mode(\"overwrite\").parquet(destination)"
   ]
  },
  {
   "cell_type": "code",
   "execution_count": 79,
   "id": "d2134635-8b54-4a66-bd22-a0359863135e",
   "metadata": {
    "execution": {
     "iopub.execute_input": "2022-10-18T03:36:55.136529Z",
     "iopub.status.busy": "2022-10-18T03:36:55.136109Z",
     "iopub.status.idle": "2022-10-18T03:36:58.494462Z",
     "shell.execute_reply": "2022-10-18T03:36:58.493683Z",
     "shell.execute_reply.started": "2022-10-18T03:36:55.136499Z"
    },
    "tags": []
   },
   "outputs": [
    {
     "name": "stdout",
     "output_type": "stream",
     "text": [
      "2022-10-18 12:36:56,333 INFO impl.MetricsConfig: Loaded properties from hadoop-metrics2.properties\n",
      "2022-10-18 12:36:56,386 INFO impl.MetricsSystemImpl: Scheduled Metric snapshot period at 10 second(s).\n",
      "2022-10-18 12:36:56,386 INFO impl.MetricsSystemImpl: s3a-file-system metrics system started\n",
      "Found 6 items\n",
      "-rw-rw-rw-   1 datafabric datafabric          0 2022-10-18 12:34 s3a://emart-datafabric-dev/bigquery-db/dfm_sample_eapp_data/parquet/op=put/_SUCCESS\n",
      "-rw-rw-rw-   1 datafabric datafabric       1135 2022-10-18 12:34 s3a://emart-datafabric-dev/bigquery-db/dfm_sample_eapp_data/parquet/op=put/part-00000-dce0e222-c5b3-4b46-b304-dbedd31a2853-c000.snappy.parquet\n",
      "-rw-rw-rw-   1 datafabric datafabric       1059 2022-10-18 12:34 s3a://emart-datafabric-dev/bigquery-db/dfm_sample_eapp_data/parquet/op=put/part-00001-dce0e222-c5b3-4b46-b304-dbedd31a2853-c000.snappy.parquet\n",
      "-rw-rw-rw-   1 datafabric datafabric        987 2022-10-18 12:34 s3a://emart-datafabric-dev/bigquery-db/dfm_sample_eapp_data/parquet/op=put/part-00002-dce0e222-c5b3-4b46-b304-dbedd31a2853-c000.snappy.parquet\n",
      "-rw-rw-rw-   1 datafabric datafabric       1147 2022-10-18 12:34 s3a://emart-datafabric-dev/bigquery-db/dfm_sample_eapp_data/parquet/op=put/part-00003-dce0e222-c5b3-4b46-b304-dbedd31a2853-c000.snappy.parquet\n",
      "-rw-rw-rw-   1 datafabric datafabric       1027 2022-10-18 12:34 s3a://emart-datafabric-dev/bigquery-db/dfm_sample_eapp_data/parquet/op=put/part-00004-dce0e222-c5b3-4b46-b304-dbedd31a2853-c000.snappy.parquet\n",
      "2022-10-18 12:36:58,044 INFO impl.MetricsSystemImpl: Stopping s3a-file-system metrics system...\n",
      "2022-10-18 12:36:58,044 INFO impl.MetricsSystemImpl: s3a-file-system metrics system stopped.\n",
      "2022-10-18 12:36:58,044 INFO impl.MetricsSystemImpl: s3a-file-system metrics system shutdown complete.\n"
     ]
    }
   ],
   "source": [
    "!hdfs dfs -Dhadoop.security.credential.provider.path=jceks:///datafabric/credentials/aws.jceks -ls {destination}"
   ]
  }
 ],
 "metadata": {
  "kernelspec": {
   "display_name": "Python 3 (ipykernel)",
   "language": "python",
   "name": "python3"
  },
  "language_info": {
   "codemirror_mode": {
    "name": "ipython",
    "version": 3
   },
   "file_extension": ".py",
   "mimetype": "text/x-python",
   "name": "python",
   "nbconvert_exporter": "python",
   "pygments_lexer": "ipython3",
   "version": "3.8.13"
  }
 },
 "nbformat": 4,
 "nbformat_minor": 5
}
