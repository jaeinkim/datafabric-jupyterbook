{
 "cells": [
  {
   "cell_type": "markdown",
   "id": "e5b132e6-352b-49c1-b8a3-f286408f923b",
   "metadata": {},
   "source": [
    "### bq 데이터를 kafka에 저장"
   ]
  },
  {
   "cell_type": "code",
   "execution_count": 79,
   "id": "74ba4565-2910-4a46-8d1b-f62bdcafa8d9",
   "metadata": {
    "execution": {
     "iopub.execute_input": "2022-10-13T05:56:39.541427Z",
     "iopub.status.busy": "2022-10-13T05:56:39.541010Z",
     "iopub.status.idle": "2022-10-13T05:56:39.544628Z",
     "shell.execute_reply": "2022-10-13T05:56:39.544087Z",
     "shell.execute_reply.started": "2022-10-13T05:56:39.541401Z"
    },
    "tags": []
   },
   "outputs": [],
   "source": [
    "PROJECT = \"emart-datafabric\"\n",
    "DATASET = \"common_dev\"\n",
    "TABLE = \"dfm_sample_eapp_data\"\n",
    "LIMIT = 10"
   ]
  },
  {
   "cell_type": "code",
   "execution_count": 80,
   "id": "4c8f30f8-ebb6-48ac-887e-9ce17467cb85",
   "metadata": {
    "execution": {
     "iopub.execute_input": "2022-10-13T05:56:39.870943Z",
     "iopub.status.busy": "2022-10-13T05:56:39.870569Z",
     "iopub.status.idle": "2022-10-13T05:56:39.874018Z",
     "shell.execute_reply": "2022-10-13T05:56:39.873485Z",
     "shell.execute_reply.started": "2022-10-13T05:56:39.870919Z"
    },
    "tags": [
     "parameters"
    ]
   },
   "outputs": [],
   "source": [
    "BOOTSTRAP_SERVERS = \"datafabric-kafka-kafka-bootstrap.kafka-farm.svc.cluster.local:9092\"\n",
    "TOPICS = 'test'\n",
    "CONSUMER_GROUP = 'test-datafabric'"
   ]
  },
  {
   "cell_type": "code",
   "execution_count": 81,
   "id": "0a88909d-2205-4ca6-b7f9-caad53c1ead4",
   "metadata": {
    "execution": {
     "iopub.execute_input": "2022-10-13T05:56:40.395886Z",
     "iopub.status.busy": "2022-10-13T05:56:40.395499Z",
     "iopub.status.idle": "2022-10-13T05:56:42.274005Z",
     "shell.execute_reply": "2022-10-13T05:56:42.273447Z",
     "shell.execute_reply.started": "2022-10-13T05:56:40.395862Z"
    },
    "tags": []
   },
   "outputs": [
    {
     "name": "stdout",
     "output_type": "stream",
     "text": [
      "Warning: exception on print statistics\n",
      "unsupported operand type(s) for /: 'NoneType' and 'int'\n"
     ]
    },
    {
     "name": "stderr",
     "output_type": "stream",
     "text": [
      "Downloading: 100%|██████████| 10/10 [00:00<00:00, 12.27rows/s]\n"
     ]
    }
   ],
   "source": [
    "from pydatafabric.gcp import bq_to_pandas\n",
    "\n",
    "df = bq_to_pandas(f\"\"\"\n",
    "    select review_id as key, comments as value\n",
    "    from  `{PROJECT}.{DATASET}.{TABLE}`\n",
    "    where comments != ''\n",
    "    limit {LIMIT}\n",
    "\"\"\")"
   ]
  },
  {
   "cell_type": "code",
   "execution_count": 82,
   "id": "8b125de5-8110-4453-b71b-f7efabdd6a40",
   "metadata": {
    "execution": {
     "iopub.execute_input": "2022-10-13T05:56:44.849296Z",
     "iopub.status.busy": "2022-10-13T05:56:44.848885Z",
     "iopub.status.idle": "2022-10-13T05:56:44.856427Z",
     "shell.execute_reply": "2022-10-13T05:56:44.855886Z",
     "shell.execute_reply.started": "2022-10-13T05:56:44.849269Z"
    },
    "tags": []
   },
   "outputs": [
    {
     "data": {
      "text/html": [
       "<div>\n",
       "<style scoped>\n",
       "    .dataframe tbody tr th:only-of-type {\n",
       "        vertical-align: middle;\n",
       "    }\n",
       "\n",
       "    .dataframe tbody tr th {\n",
       "        vertical-align: top;\n",
       "    }\n",
       "\n",
       "    .dataframe thead th {\n",
       "        text-align: right;\n",
       "    }\n",
       "</style>\n",
       "<table border=\"1\" class=\"dataframe\">\n",
       "  <thead>\n",
       "    <tr style=\"text-align: right;\">\n",
       "      <th></th>\n",
       "      <th>key</th>\n",
       "      <th>value</th>\n",
       "    </tr>\n",
       "  </thead>\n",
       "  <tbody>\n",
       "    <tr>\n",
       "      <th>0</th>\n",
       "      <td>2208281244313807</td>\n",
       "      <td>샤인머스캣 너무 비싸요</td>\n",
       "    </tr>\n",
       "    <tr>\n",
       "      <th>1</th>\n",
       "      <td>2208280027362716</td>\n",
       "      <td>요즘 계속 사게 되네요</td>\n",
       "    </tr>\n",
       "    <tr>\n",
       "      <th>2</th>\n",
       "      <td>2208281618561112</td>\n",
       "      <td>주말 특가로 저령하게 구입했는데 당도도 아주 좋아요</td>\n",
       "    </tr>\n",
       "    <tr>\n",
       "      <th>3</th>\n",
       "      <td>2208280253124586</td>\n",
       "      <td>당도도 높고 너무 맛있게먹었어요</td>\n",
       "    </tr>\n",
       "    <tr>\n",
       "      <th>4</th>\n",
       "      <td>2208281913283031</td>\n",
       "      <td>.껍질이 두꺼워 실망했어요  먹을부분은 작아지니까~ 맛은 달콤하니 좋아여. 여름 끝...</td>\n",
       "    </tr>\n",
       "    <tr>\n",
       "      <th>5</th>\n",
       "      <td>2208280102419526</td>\n",
       "      <td>가격도싸고달고맛있어요.</td>\n",
       "    </tr>\n",
       "    <tr>\n",
       "      <th>6</th>\n",
       "      <td>2208281643108429</td>\n",
       "      <td>포도하면 송산포도가 젤이예여</td>\n",
       "    </tr>\n",
       "    <tr>\n",
       "      <th>7</th>\n",
       "      <td>2208280202528223</td>\n",
       "      <td>좋아해서 구매했는데.맛있습니다.</td>\n",
       "    </tr>\n",
       "    <tr>\n",
       "      <th>8</th>\n",
       "      <td>2208280032177490</td>\n",
       "      <td>올해 먹은 포도 중에 최고</td>\n",
       "    </tr>\n",
       "    <tr>\n",
       "      <th>9</th>\n",
       "      <td>2208280956359149</td>\n",
       "      <td>조아요 조아요 조아요 조아요 조아요 조아요</td>\n",
       "    </tr>\n",
       "  </tbody>\n",
       "</table>\n",
       "</div>"
      ],
      "text/plain": [
       "                key                                              value\n",
       "0  2208281244313807                                       샤인머스캣 너무 비싸요\n",
       "1  2208280027362716                                       요즘 계속 사게 되네요\n",
       "2  2208281618561112                       주말 특가로 저령하게 구입했는데 당도도 아주 좋아요\n",
       "3  2208280253124586                                  당도도 높고 너무 맛있게먹었어요\n",
       "4  2208281913283031  .껍질이 두꺼워 실망했어요  먹을부분은 작아지니까~ 맛은 달콤하니 좋아여. 여름 끝...\n",
       "5  2208280102419526                                       가격도싸고달고맛있어요.\n",
       "6  2208281643108429                                    포도하면 송산포도가 젤이예여\n",
       "7  2208280202528223                                  좋아해서 구매했는데.맛있습니다.\n",
       "8  2208280032177490                                     올해 먹은 포도 중에 최고\n",
       "9  2208280956359149                            조아요 조아요 조아요 조아요 조아요 조아요"
      ]
     },
     "execution_count": 82,
     "metadata": {},
     "output_type": "execute_result"
    }
   ],
   "source": [
    "df.head(10)"
   ]
  },
  {
   "cell_type": "code",
   "execution_count": 83,
   "id": "4ac3935c-d7bc-444a-8566-861601403d75",
   "metadata": {
    "execution": {
     "iopub.execute_input": "2022-10-13T05:56:46.944870Z",
     "iopub.status.busy": "2022-10-13T05:56:46.944480Z",
     "iopub.status.idle": "2022-10-13T05:56:46.949152Z",
     "shell.execute_reply": "2022-10-13T05:56:46.948544Z",
     "shell.execute_reply.started": "2022-10-13T05:56:46.944846Z"
    },
    "tags": []
   },
   "outputs": [
    {
     "name": "stdout",
     "output_type": "stream",
     "text": [
      "key      object\n",
      "value    object\n",
      "dtype: object\n"
     ]
    }
   ],
   "source": [
    "print(df.dtypes)"
   ]
  },
  {
   "cell_type": "markdown",
   "id": "2c2727d5-b030-487f-bbf3-ab94379dbd2b",
   "metadata": {},
   "source": [
    "### Send Kafka"
   ]
  },
  {
   "cell_type": "code",
   "execution_count": 84,
   "id": "06552b16-a57d-4708-8d2f-e5af58c717fb",
   "metadata": {
    "execution": {
     "iopub.execute_input": "2022-10-13T05:56:51.423177Z",
     "iopub.status.busy": "2022-10-13T05:56:51.422521Z",
     "iopub.status.idle": "2022-10-13T05:56:58.651193Z",
     "shell.execute_reply": "2022-10-13T05:56:58.650447Z",
     "shell.execute_reply.started": "2022-10-13T05:56:51.423150Z"
    },
    "tags": []
   },
   "outputs": [
    {
     "name": "stderr",
     "output_type": "stream",
     "text": [
      "15637.00s - pydevd: Sending message related to process being replaced timed-out after 5 seconds\n"
     ]
    },
    {
     "name": "stdout",
     "output_type": "stream",
     "text": [
      "Defaulting to user installation because normal site-packages is not writeable\n",
      "Requirement already satisfied: kafka-python in /home/x223726/.local/lib/python3.8/site-packages (2.0.2)\n"
     ]
    }
   ],
   "source": [
    "!python -m pip install kafka-python"
   ]
  },
  {
   "cell_type": "code",
   "execution_count": 85,
   "id": "4e93f927-256e-4569-8f67-755e59328057",
   "metadata": {
    "execution": {
     "iopub.execute_input": "2022-10-13T05:57:12.759141Z",
     "iopub.status.busy": "2022-10-13T05:57:12.758855Z",
     "iopub.status.idle": "2022-10-13T05:57:12.991807Z",
     "shell.execute_reply": "2022-10-13T05:57:12.991261Z",
     "shell.execute_reply.started": "2022-10-13T05:57:12.759117Z"
    },
    "tags": []
   },
   "outputs": [],
   "source": [
    "from kafka import KafkaProducer\n",
    "from json import dumps\n",
    "\n",
    "producer = KafkaProducer(acks=0,\n",
    "                         compression_type='gzip',\n",
    "                         bootstrap_servers=BOOTSTRAP_SERVERS,\n",
    "                         key_serializer=str.encode,\n",
    "                         value_serializer=lambda x: dumps(x).encode('utf-8')\n",
    "                         )\n",
    "\n",
    "producer.send(TOPICS, key=\"test\", value=df.to_json(force_ascii=False, orient = 'records', indent=4))\n",
    "producer.flush()"
   ]
  },
  {
   "cell_type": "markdown",
   "id": "01595bf5-6405-463c-a433-c7ca1d58d6c8",
   "metadata": {},
   "source": [
    "### Reading Data from Kafka"
   ]
  },
  {
   "cell_type": "code",
   "execution_count": 86,
   "id": "ae3f4ac7-37ca-409e-b535-0b59d4613c0f",
   "metadata": {
    "execution": {
     "iopub.execute_input": "2022-10-13T05:57:18.406087Z",
     "iopub.status.busy": "2022-10-13T05:57:18.405612Z",
     "iopub.status.idle": "2022-10-13T05:57:18.529098Z",
     "shell.execute_reply": "2022-10-13T05:57:18.528533Z",
     "shell.execute_reply.started": "2022-10-13T05:57:18.406061Z"
    },
    "tags": []
   },
   "outputs": [],
   "source": [
    "from kafka import KafkaConsumer\n",
    "from json import loads\n",
    "\n",
    "consumer = KafkaConsumer(\n",
    "    TOPICS,\n",
    "    bootstrap_servers=BOOTSTRAP_SERVERS,\n",
    "    auto_offset_reset='latest',\n",
    "    enable_auto_commit=False,\n",
    "    group_id=CONSUMER_GROUP + \"_1\",\n",
    "    value_deserializer=lambda x: loads(x.decode('utf-8')),\n",
    "    consumer_timeout_ms = 1000,\n",
    ")"
   ]
  },
  {
   "cell_type": "code",
   "execution_count": 87,
   "id": "fe8b5dcf-4fc9-490a-9438-79708947ae53",
   "metadata": {
    "execution": {
     "iopub.execute_input": "2022-10-13T05:57:27.694910Z",
     "iopub.status.busy": "2022-10-13T05:57:27.694026Z",
     "iopub.status.idle": "2022-10-13T05:57:31.619988Z",
     "shell.execute_reply": "2022-10-13T05:57:31.619374Z",
     "shell.execute_reply.started": "2022-10-13T05:57:27.694874Z"
    },
    "tags": []
   },
   "outputs": [],
   "source": [
    "for message in consumer:\n",
    "    print(\"Topic: %s, Partition: %d, Offset: %d, Key: %s, Value: %s\" % (\n",
    "        message.topic, message.partition, message.offset, message.key, message.value\n",
    "    ))"
   ]
  },
  {
   "cell_type": "code",
   "execution_count": 67,
   "id": "fb1c2771-9c12-4bc3-8df3-cd08202792f1",
   "metadata": {
    "execution": {
     "iopub.execute_input": "2022-10-13T04:41:42.307967Z",
     "iopub.status.busy": "2022-10-13T04:41:42.307597Z",
     "iopub.status.idle": "2022-10-13T04:41:42.701104Z",
     "shell.execute_reply": "2022-10-13T04:41:42.700142Z",
     "shell.execute_reply.started": "2022-10-13T04:41:42.307929Z"
    }
   },
   "outputs": [
    {
     "name": "stdout",
     "output_type": "stream",
     "text": [
      "CreatePartitionsResponse_v1(throttle_time_ms=0, topic_errors=[(topic='test', error_code=0, error_message=None)])\n"
     ]
    }
   ],
   "source": [
    "# # Create Topic Partitions\n",
    "# from kafka import KafkaAdminClient\n",
    "# from kafka.admin.new_partitions import NewPartitions\n",
    "\n",
    "# client = KafkaAdminClient(bootstrap_servers=BOOTSTRAP_SERVERS)\n",
    "\n",
    "# rsp = client.create_partitions({\n",
    "#     TOPICS: NewPartitions(4)\n",
    "# })\n",
    "# print(rsp)"
   ]
  },
  {
   "cell_type": "code",
   "execution_count": null,
   "id": "d4fd2f2e-edaa-4bbc-992c-c48e7cb4b6e4",
   "metadata": {},
   "outputs": [],
   "source": []
  }
 ],
 "metadata": {
  "kernelspec": {
   "display_name": "Python 3 (ipykernel)",
   "language": "python",
   "name": "python3"
  },
  "language_info": {
   "codemirror_mode": {
    "name": "ipython",
    "version": 3
   },
   "file_extension": ".py",
   "mimetype": "text/x-python",
   "name": "python",
   "nbconvert_exporter": "python",
   "pygments_lexer": "ipython3",
   "version": "3.8.13"
  }
 },
 "nbformat": 4,
 "nbformat_minor": 5
}
