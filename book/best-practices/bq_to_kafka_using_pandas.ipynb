{
 "cells": [
  {
   "cell_type": "markdown",
   "id": "e5b132e6-352b-49c1-b8a3-f286408f923b",
   "metadata": {},
   "source": [
    "### bq 데이터를 kafka에 저장"
   ]
  },
  {
   "cell_type": "code",
   "execution_count": 1,
   "id": "74ba4565-2910-4a46-8d1b-f62bdcafa8d9",
   "metadata": {
    "execution": {
     "iopub.execute_input": "2022-10-14T01:08:24.264682Z",
     "iopub.status.busy": "2022-10-14T01:08:24.264278Z",
     "iopub.status.idle": "2022-10-14T01:08:24.270403Z",
     "shell.execute_reply": "2022-10-14T01:08:24.269888Z",
     "shell.execute_reply.started": "2022-10-14T01:08:24.264618Z"
    },
    "tags": []
   },
   "outputs": [],
   "source": [
    "PROJECT = \"emart-datafabric\"\n",
    "DATASET = \"common_dev\"\n",
    "TABLE = \"dfm_sample_eapp_data\"\n",
    "LIMIT = 10"
   ]
  },
  {
   "cell_type": "code",
   "execution_count": 2,
   "id": "4c8f30f8-ebb6-48ac-887e-9ce17467cb85",
   "metadata": {
    "execution": {
     "iopub.execute_input": "2022-10-14T01:08:24.629076Z",
     "iopub.status.busy": "2022-10-14T01:08:24.628708Z",
     "iopub.status.idle": "2022-10-14T01:08:24.631997Z",
     "shell.execute_reply": "2022-10-14T01:08:24.631467Z",
     "shell.execute_reply.started": "2022-10-14T01:08:24.629051Z"
    },
    "tags": [
     "parameters"
    ]
   },
   "outputs": [],
   "source": [
    "BOOTSTRAP_SERVERS = \"datafabric-kafka-kafka-bootstrap.kafka-farm.svc.cluster.local:9092\"\n",
    "TOPICS = 'test'\n",
    "CONSUMER_GROUP = 'test-datafabric'"
   ]
  },
  {
   "cell_type": "code",
   "execution_count": 9,
   "id": "0a88909d-2205-4ca6-b7f9-caad53c1ead4",
   "metadata": {
    "execution": {
     "iopub.execute_input": "2022-10-14T01:40:04.387342Z",
     "iopub.status.busy": "2022-10-14T01:40:04.386606Z",
     "iopub.status.idle": "2022-10-14T01:40:06.217683Z",
     "shell.execute_reply": "2022-10-14T01:40:06.216756Z",
     "shell.execute_reply.started": "2022-10-14T01:40:04.387308Z"
    },
    "tags": []
   },
   "outputs": [
    {
     "name": "stdout",
     "output_type": "stream",
     "text": [
      "Warning: exception on print statistics\n",
      "unsupported operand type(s) for /: 'NoneType' and 'int'\n"
     ]
    },
    {
     "name": "stderr",
     "output_type": "stream",
     "text": [
      "Downloading: 100%|██████████| 10/10 [00:00<00:00, 12.50rows/s]\n"
     ]
    }
   ],
   "source": [
    "import traceback\n",
    "from pydatafabric.gcp import bq_to_pandas\n",
    "\n",
    "df = bq_to_pandas(f\"\"\"\n",
    "    select review_id as key, comments as value\n",
    "    from  `{PROJECT}.{DATASET}.{TABLE}`\n",
    "    where comments != ''\n",
    "    limit {LIMIT}\n",
    "\"\"\")"
   ]
  },
  {
   "cell_type": "code",
   "execution_count": 4,
   "id": "8b125de5-8110-4453-b71b-f7efabdd6a40",
   "metadata": {
    "execution": {
     "iopub.execute_input": "2022-10-14T01:08:27.615879Z",
     "iopub.status.busy": "2022-10-14T01:08:27.615362Z",
     "iopub.status.idle": "2022-10-14T01:08:27.627138Z",
     "shell.execute_reply": "2022-10-14T01:08:27.626667Z",
     "shell.execute_reply.started": "2022-10-14T01:08:27.615848Z"
    },
    "tags": []
   },
   "outputs": [
    {
     "data": {
      "text/html": [
       "<div>\n",
       "<style scoped>\n",
       "    .dataframe tbody tr th:only-of-type {\n",
       "        vertical-align: middle;\n",
       "    }\n",
       "\n",
       "    .dataframe tbody tr th {\n",
       "        vertical-align: top;\n",
       "    }\n",
       "\n",
       "    .dataframe thead th {\n",
       "        text-align: right;\n",
       "    }\n",
       "</style>\n",
       "<table border=\"1\" class=\"dataframe\">\n",
       "  <thead>\n",
       "    <tr style=\"text-align: right;\">\n",
       "      <th></th>\n",
       "      <th>key</th>\n",
       "      <th>value</th>\n",
       "    </tr>\n",
       "  </thead>\n",
       "  <tbody>\n",
       "    <tr>\n",
       "      <th>0</th>\n",
       "      <td>2208281244313807</td>\n",
       "      <td>샤인머스캣 너무 비싸요</td>\n",
       "    </tr>\n",
       "    <tr>\n",
       "      <th>1</th>\n",
       "      <td>2208280027362716</td>\n",
       "      <td>요즘 계속 사게 되네요</td>\n",
       "    </tr>\n",
       "    <tr>\n",
       "      <th>2</th>\n",
       "      <td>2208281618561112</td>\n",
       "      <td>주말 특가로 저령하게 구입했는데 당도도 아주 좋아요</td>\n",
       "    </tr>\n",
       "    <tr>\n",
       "      <th>3</th>\n",
       "      <td>2208280253124586</td>\n",
       "      <td>당도도 높고 너무 맛있게먹었어요</td>\n",
       "    </tr>\n",
       "    <tr>\n",
       "      <th>4</th>\n",
       "      <td>2208281913283031</td>\n",
       "      <td>.껍질이 두꺼워 실망했어요  먹을부분은 작아지니까~ 맛은 달콤하니 좋아여. 여름 끝...</td>\n",
       "    </tr>\n",
       "    <tr>\n",
       "      <th>5</th>\n",
       "      <td>2208280102419526</td>\n",
       "      <td>가격도싸고달고맛있어요.</td>\n",
       "    </tr>\n",
       "    <tr>\n",
       "      <th>6</th>\n",
       "      <td>2208281643108429</td>\n",
       "      <td>포도하면 송산포도가 젤이예여</td>\n",
       "    </tr>\n",
       "    <tr>\n",
       "      <th>7</th>\n",
       "      <td>2208280202528223</td>\n",
       "      <td>좋아해서 구매했는데.맛있습니다.</td>\n",
       "    </tr>\n",
       "    <tr>\n",
       "      <th>8</th>\n",
       "      <td>2208280032177490</td>\n",
       "      <td>올해 먹은 포도 중에 최고</td>\n",
       "    </tr>\n",
       "    <tr>\n",
       "      <th>9</th>\n",
       "      <td>2208280956359149</td>\n",
       "      <td>조아요 조아요 조아요 조아요 조아요 조아요</td>\n",
       "    </tr>\n",
       "  </tbody>\n",
       "</table>\n",
       "</div>"
      ],
      "text/plain": [
       "                key                                              value\n",
       "0  2208281244313807                                       샤인머스캣 너무 비싸요\n",
       "1  2208280027362716                                       요즘 계속 사게 되네요\n",
       "2  2208281618561112                       주말 특가로 저령하게 구입했는데 당도도 아주 좋아요\n",
       "3  2208280253124586                                  당도도 높고 너무 맛있게먹었어요\n",
       "4  2208281913283031  .껍질이 두꺼워 실망했어요  먹을부분은 작아지니까~ 맛은 달콤하니 좋아여. 여름 끝...\n",
       "5  2208280102419526                                       가격도싸고달고맛있어요.\n",
       "6  2208281643108429                                    포도하면 송산포도가 젤이예여\n",
       "7  2208280202528223                                  좋아해서 구매했는데.맛있습니다.\n",
       "8  2208280032177490                                     올해 먹은 포도 중에 최고\n",
       "9  2208280956359149                            조아요 조아요 조아요 조아요 조아요 조아요"
      ]
     },
     "execution_count": 4,
     "metadata": {},
     "output_type": "execute_result"
    }
   ],
   "source": [
    "df.head(10)"
   ]
  },
  {
   "cell_type": "code",
   "execution_count": 5,
   "id": "4ac3935c-d7bc-444a-8566-861601403d75",
   "metadata": {
    "execution": {
     "iopub.execute_input": "2022-10-14T01:08:27.927156Z",
     "iopub.status.busy": "2022-10-14T01:08:27.926770Z",
     "iopub.status.idle": "2022-10-14T01:08:27.931208Z",
     "shell.execute_reply": "2022-10-14T01:08:27.930718Z",
     "shell.execute_reply.started": "2022-10-14T01:08:27.927129Z"
    },
    "tags": []
   },
   "outputs": [
    {
     "name": "stdout",
     "output_type": "stream",
     "text": [
      "key      object\n",
      "value    object\n",
      "dtype: object\n"
     ]
    }
   ],
   "source": [
    "print(df.dtypes)"
   ]
  },
  {
   "cell_type": "markdown",
   "id": "2c2727d5-b030-487f-bbf3-ab94379dbd2b",
   "metadata": {},
   "source": [
    "### Send Kafka"
   ]
  },
  {
   "cell_type": "code",
   "execution_count": 6,
   "id": "06552b16-a57d-4708-8d2f-e5af58c717fb",
   "metadata": {
    "execution": {
     "iopub.execute_input": "2022-10-14T01:08:32.294132Z",
     "iopub.status.busy": "2022-10-14T01:08:32.293744Z",
     "iopub.status.idle": "2022-10-14T01:08:34.481815Z",
     "shell.execute_reply": "2022-10-14T01:08:34.481075Z",
     "shell.execute_reply.started": "2022-10-14T01:08:32.294106Z"
    },
    "tags": []
   },
   "outputs": [
    {
     "name": "stdout",
     "output_type": "stream",
     "text": [
      "Defaulting to user installation because normal site-packages is not writeable\n",
      "Requirement already satisfied: kafka-python in /home/x223726/.local/lib/python3.8/site-packages (2.0.2)\n"
     ]
    }
   ],
   "source": [
    "!python -m pip install kafka-python"
   ]
  },
  {
   "cell_type": "code",
   "execution_count": 7,
   "id": "4e93f927-256e-4569-8f67-755e59328057",
   "metadata": {
    "execution": {
     "iopub.execute_input": "2022-10-14T01:09:11.003819Z",
     "iopub.status.busy": "2022-10-14T01:09:11.003090Z",
     "iopub.status.idle": "2022-10-14T01:09:11.470120Z",
     "shell.execute_reply": "2022-10-14T01:09:11.469544Z",
     "shell.execute_reply.started": "2022-10-14T01:09:11.003782Z"
    },
    "tags": []
   },
   "outputs": [],
   "source": [
    "from kafka import KafkaProducer\n",
    "from json import dumps\n",
    "\n",
    "producer = KafkaProducer(acks=\"all\",\n",
    "                         compression_type='gzip',\n",
    "                         bootstrap_servers=BOOTSTRAP_SERVERS,\n",
    "                         value_serializer=lambda x: dumps(x).encode('utf-8')\n",
    "                         )\n",
    "\n",
    "try:\n",
    "    for n in range(100):\n",
    "        producer.send(TOPICS, value=df.to_json(force_ascii=False, orient = 'records', indent=4))\n",
    "        producer.flush()\n",
    "except:\n",
    "    traceback.print_exc()"
   ]
  },
  {
   "cell_type": "markdown",
   "id": "01595bf5-6405-463c-a433-c7ca1d58d6c8",
   "metadata": {},
   "source": [
    "### Reading Data from Kafka"
   ]
  },
  {
   "cell_type": "code",
   "execution_count": 10,
   "id": "ae3f4ac7-37ca-409e-b535-0b59d4613c0f",
   "metadata": {
    "execution": {
     "iopub.execute_input": "2022-10-14T01:40:27.616489Z",
     "iopub.status.busy": "2022-10-14T01:40:27.616259Z",
     "iopub.status.idle": "2022-10-14T01:40:27.738808Z",
     "shell.execute_reply": "2022-10-14T01:40:27.738186Z",
     "shell.execute_reply.started": "2022-10-14T01:40:27.616470Z"
    },
    "tags": []
   },
   "outputs": [],
   "source": [
    "from kafka import KafkaConsumer\n",
    "from json import loads\n",
    "\n",
    "consumer = KafkaConsumer(\n",
    "    TOPICS,\n",
    "    bootstrap_servers=BOOTSTRAP_SERVERS,\n",
    "    group_id=CONSUMER_GROUP,        # 그룹핑하여 토픽 지정할 수 있다 > 같은 컨슈머로 작업\n",
    "    auto_offset_reset=\"latest\",   # 어디서부터 값을 읽어올지 (earlest 가장 처음 latest는 가장 최근)\n",
    "    enable_auto_commit=False,\n",
    "    value_deserializer=lambda x: loads(x.decode('utf-8')),\n",
    "    max_poll_records = 10,\n",
    "    consumer_timeout_ms = 1000,\n",
    ")"
   ]
  },
  {
   "cell_type": "code",
   "execution_count": 33,
   "id": "fe8b5dcf-4fc9-490a-9438-79708947ae53",
   "metadata": {
    "execution": {
     "iopub.execute_input": "2022-10-14T01:07:45.904562Z",
     "iopub.status.busy": "2022-10-14T01:07:45.904117Z",
     "iopub.status.idle": "2022-10-14T01:08:18.426105Z",
     "shell.execute_reply": "2022-10-14T01:08:18.424560Z",
     "shell.execute_reply.started": "2022-10-14T01:07:45.904533Z"
    },
    "tags": []
   },
   "outputs": [],
   "source": [
    "for message in consumer:\n",
    "    print(\"Topic: %s, Partition: %d, Offset: %d, Key: %s, Value: %s\" % (\n",
    "        message.topic, message.partition, message.offset, message.key, message.value\n",
    "    ))"
   ]
  },
  {
   "cell_type": "code",
   "execution_count": 67,
   "id": "fb1c2771-9c12-4bc3-8df3-cd08202792f1",
   "metadata": {
    "execution": {
     "iopub.execute_input": "2022-10-13T04:41:42.307967Z",
     "iopub.status.busy": "2022-10-13T04:41:42.307597Z",
     "iopub.status.idle": "2022-10-13T04:41:42.701104Z",
     "shell.execute_reply": "2022-10-13T04:41:42.700142Z",
     "shell.execute_reply.started": "2022-10-13T04:41:42.307929Z"
    }
   },
   "outputs": [
    {
     "name": "stdout",
     "output_type": "stream",
     "text": [
      "CreatePartitionsResponse_v1(throttle_time_ms=0, topic_errors=[(topic='test', error_code=0, error_message=None)])\n"
     ]
    }
   ],
   "source": [
    "# # Create Topic Partitions\n",
    "# from kafka import KafkaAdminClient\n",
    "# from kafka.admin.new_partitions import NewPartitions\n",
    "\n",
    "# client = KafkaAdminClient(bootstrap_servers=BOOTSTRAP_SERVERS)\n",
    "\n",
    "# rsp = client.create_partitions({\n",
    "#     TOPICS: NewPartitions(4)\n",
    "# })\n",
    "# print(rsp)"
   ]
  }
 ],
 "metadata": {
  "kernelspec": {
   "display_name": "Python 3 (ipykernel)",
   "language": "python",
   "name": "python3"
  },
  "language_info": {
   "codemirror_mode": {
    "name": "ipython",
    "version": 3
   },
   "file_extension": ".py",
   "mimetype": "text/x-python",
   "name": "python",
   "nbconvert_exporter": "python",
   "pygments_lexer": "ipython3",
   "version": "3.8.13"
  }
 },
 "nbformat": 4,
 "nbformat_minor": 5
}
