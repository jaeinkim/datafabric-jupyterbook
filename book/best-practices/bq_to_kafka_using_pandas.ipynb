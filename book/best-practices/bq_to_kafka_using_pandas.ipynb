{
 "cells": [
  {
   "cell_type": "markdown",
   "id": "e5b132e6-352b-49c1-b8a3-f286408f923b",
   "metadata": {},
   "source": [
    "### bq 데이터를 kafka에 저장"
   ]
  },
  {
   "cell_type": "code",
   "execution_count": 49,
   "id": "74ba4565-2910-4a46-8d1b-f62bdcafa8d9",
   "metadata": {
    "execution": {
     "iopub.execute_input": "2022-10-14T06:36:45.666075Z",
     "iopub.status.busy": "2022-10-14T06:36:45.665671Z",
     "iopub.status.idle": "2022-10-14T06:36:45.669178Z",
     "shell.execute_reply": "2022-10-14T06:36:45.668675Z",
     "shell.execute_reply.started": "2022-10-14T06:36:45.666047Z"
    },
    "tags": []
   },
   "outputs": [],
   "source": [
    "PROJECT = \"emart-datafabric\"\n",
    "DATASET = \"common_dev\"\n",
    "TABLE = \"dfm_sample_eapp_data\"\n",
    "LIMIT = 10"
   ]
  },
  {
   "cell_type": "code",
   "execution_count": 50,
   "id": "4c8f30f8-ebb6-48ac-887e-9ce17467cb85",
   "metadata": {
    "execution": {
     "iopub.execute_input": "2022-10-14T06:36:45.968809Z",
     "iopub.status.busy": "2022-10-14T06:36:45.968410Z",
     "iopub.status.idle": "2022-10-14T06:36:45.971747Z",
     "shell.execute_reply": "2022-10-14T06:36:45.971234Z",
     "shell.execute_reply.started": "2022-10-14T06:36:45.968787Z"
    },
    "tags": [
     "parameters"
    ]
   },
   "outputs": [],
   "source": [
    "BOOTSTRAP_SERVERS = \"datafabric-kafka-kafka-bootstrap.kafka-farm.svc.cluster.local:9092\"\n",
    "TOPICS = 'test'\n",
    "CONSUMER_GROUP = 'test-datafabric'"
   ]
  },
  {
   "cell_type": "code",
   "execution_count": 51,
   "id": "0a88909d-2205-4ca6-b7f9-caad53c1ead4",
   "metadata": {
    "execution": {
     "iopub.execute_input": "2022-10-14T06:36:46.397060Z",
     "iopub.status.busy": "2022-10-14T06:36:46.396660Z",
     "iopub.status.idle": "2022-10-14T06:36:48.283668Z",
     "shell.execute_reply": "2022-10-14T06:36:48.283099Z",
     "shell.execute_reply.started": "2022-10-14T06:36:46.397034Z"
    },
    "tags": []
   },
   "outputs": [
    {
     "name": "stdout",
     "output_type": "stream",
     "text": [
      "Warning: exception on print statistics\n",
      "unsupported operand type(s) for /: 'NoneType' and 'int'\n"
     ]
    },
    {
     "name": "stderr",
     "output_type": "stream",
     "text": [
      "Downloading: 100%|██████████| 10/10 [00:00<00:00, 12.45rows/s]\n"
     ]
    }
   ],
   "source": [
    "import traceback\n",
    "from pydatafabric.gcp import bq_to_pandas\n",
    "\n",
    "df = bq_to_pandas(f\"\"\"\n",
    "    select review_id as key, comments as value\n",
    "    from  `{PROJECT}.{DATASET}.{TABLE}`\n",
    "    where comments != ''\n",
    "    limit {LIMIT}\n",
    "\"\"\")"
   ]
  },
  {
   "cell_type": "code",
   "execution_count": 52,
   "id": "8b125de5-8110-4453-b71b-f7efabdd6a40",
   "metadata": {
    "execution": {
     "iopub.execute_input": "2022-10-14T06:36:48.830266Z",
     "iopub.status.busy": "2022-10-14T06:36:48.829840Z",
     "iopub.status.idle": "2022-10-14T06:36:48.837122Z",
     "shell.execute_reply": "2022-10-14T06:36:48.836653Z",
     "shell.execute_reply.started": "2022-10-14T06:36:48.830208Z"
    },
    "tags": []
   },
   "outputs": [
    {
     "data": {
      "text/html": [
       "<div>\n",
       "<style scoped>\n",
       "    .dataframe tbody tr th:only-of-type {\n",
       "        vertical-align: middle;\n",
       "    }\n",
       "\n",
       "    .dataframe tbody tr th {\n",
       "        vertical-align: top;\n",
       "    }\n",
       "\n",
       "    .dataframe thead th {\n",
       "        text-align: right;\n",
       "    }\n",
       "</style>\n",
       "<table border=\"1\" class=\"dataframe\">\n",
       "  <thead>\n",
       "    <tr style=\"text-align: right;\">\n",
       "      <th></th>\n",
       "      <th>key</th>\n",
       "      <th>value</th>\n",
       "    </tr>\n",
       "  </thead>\n",
       "  <tbody>\n",
       "    <tr>\n",
       "      <th>0</th>\n",
       "      <td>2208281244313807</td>\n",
       "      <td>샤인머스캣 너무 비싸요</td>\n",
       "    </tr>\n",
       "    <tr>\n",
       "      <th>1</th>\n",
       "      <td>2208280027362716</td>\n",
       "      <td>요즘 계속 사게 되네요</td>\n",
       "    </tr>\n",
       "    <tr>\n",
       "      <th>2</th>\n",
       "      <td>2208281618561112</td>\n",
       "      <td>주말 특가로 저령하게 구입했는데 당도도 아주 좋아요</td>\n",
       "    </tr>\n",
       "    <tr>\n",
       "      <th>3</th>\n",
       "      <td>2208280253124586</td>\n",
       "      <td>당도도 높고 너무 맛있게먹었어요</td>\n",
       "    </tr>\n",
       "    <tr>\n",
       "      <th>4</th>\n",
       "      <td>2208281913283031</td>\n",
       "      <td>.껍질이 두꺼워 실망했어요  먹을부분은 작아지니까~ 맛은 달콤하니 좋아여. 여름 끝...</td>\n",
       "    </tr>\n",
       "    <tr>\n",
       "      <th>5</th>\n",
       "      <td>2208280102419526</td>\n",
       "      <td>가격도싸고달고맛있어요.</td>\n",
       "    </tr>\n",
       "    <tr>\n",
       "      <th>6</th>\n",
       "      <td>2208281643108429</td>\n",
       "      <td>포도하면 송산포도가 젤이예여</td>\n",
       "    </tr>\n",
       "    <tr>\n",
       "      <th>7</th>\n",
       "      <td>2208280202528223</td>\n",
       "      <td>좋아해서 구매했는데.맛있습니다.</td>\n",
       "    </tr>\n",
       "    <tr>\n",
       "      <th>8</th>\n",
       "      <td>2208280032177490</td>\n",
       "      <td>올해 먹은 포도 중에 최고</td>\n",
       "    </tr>\n",
       "    <tr>\n",
       "      <th>9</th>\n",
       "      <td>2208280956359149</td>\n",
       "      <td>조아요 조아요 조아요 조아요 조아요 조아요</td>\n",
       "    </tr>\n",
       "  </tbody>\n",
       "</table>\n",
       "</div>"
      ],
      "text/plain": [
       "                key                                              value\n",
       "0  2208281244313807                                       샤인머스캣 너무 비싸요\n",
       "1  2208280027362716                                       요즘 계속 사게 되네요\n",
       "2  2208281618561112                       주말 특가로 저령하게 구입했는데 당도도 아주 좋아요\n",
       "3  2208280253124586                                  당도도 높고 너무 맛있게먹었어요\n",
       "4  2208281913283031  .껍질이 두꺼워 실망했어요  먹을부분은 작아지니까~ 맛은 달콤하니 좋아여. 여름 끝...\n",
       "5  2208280102419526                                       가격도싸고달고맛있어요.\n",
       "6  2208281643108429                                    포도하면 송산포도가 젤이예여\n",
       "7  2208280202528223                                  좋아해서 구매했는데.맛있습니다.\n",
       "8  2208280032177490                                     올해 먹은 포도 중에 최고\n",
       "9  2208280956359149                            조아요 조아요 조아요 조아요 조아요 조아요"
      ]
     },
     "execution_count": 52,
     "metadata": {},
     "output_type": "execute_result"
    }
   ],
   "source": [
    "df.head(10)"
   ]
  },
  {
   "cell_type": "code",
   "execution_count": 54,
   "id": "4ac3935c-d7bc-444a-8566-861601403d75",
   "metadata": {
    "execution": {
     "iopub.execute_input": "2022-10-14T06:41:01.375418Z",
     "iopub.status.busy": "2022-10-14T06:41:01.374992Z",
     "iopub.status.idle": "2022-10-14T06:41:01.380023Z",
     "shell.execute_reply": "2022-10-14T06:41:01.379460Z",
     "shell.execute_reply.started": "2022-10-14T06:41:01.375389Z"
    },
    "tags": []
   },
   "outputs": [
    {
     "name": "stdout",
     "output_type": "stream",
     "text": [
      "key      object\n",
      "value    object\n",
      "dtype: object\n"
     ]
    }
   ],
   "source": [
    "print(df.dtypes)"
   ]
  },
  {
   "cell_type": "markdown",
   "id": "2c2727d5-b030-487f-bbf3-ab94379dbd2b",
   "metadata": {},
   "source": [
    "### Kafka Prodcuer, Consumer, Create Topic Example"
   ]
  },
  {
   "cell_type": "code",
   "execution_count": 6,
   "id": "06552b16-a57d-4708-8d2f-e5af58c717fb",
   "metadata": {
    "execution": {
     "iopub.execute_input": "2022-10-14T01:08:32.294132Z",
     "iopub.status.busy": "2022-10-14T01:08:32.293744Z",
     "iopub.status.idle": "2022-10-14T01:08:34.481815Z",
     "shell.execute_reply": "2022-10-14T01:08:34.481075Z",
     "shell.execute_reply.started": "2022-10-14T01:08:32.294106Z"
    },
    "tags": []
   },
   "outputs": [
    {
     "name": "stdout",
     "output_type": "stream",
     "text": [
      "Defaulting to user installation because normal site-packages is not writeable\n",
      "Requirement already satisfied: kafka-python in /home/x223726/.local/lib/python3.8/site-packages (2.0.2)\n"
     ]
    }
   ],
   "source": [
    "!python -m pip install kafka-python"
   ]
  },
  {
   "cell_type": "code",
   "execution_count": 62,
   "id": "4e93f927-256e-4569-8f67-755e59328057",
   "metadata": {
    "execution": {
     "iopub.execute_input": "2022-10-14T06:43:51.359130Z",
     "iopub.status.busy": "2022-10-14T06:43:51.358765Z",
     "iopub.status.idle": "2022-10-14T06:43:51.367297Z",
     "shell.execute_reply": "2022-10-14T06:43:51.366730Z",
     "shell.execute_reply.started": "2022-10-14T06:43:51.359104Z"
    },
    "tags": []
   },
   "outputs": [],
   "source": [
    "import threading, time\n",
    "from kafka import KafkaProducer, KafkaConsumer, KafkaAdminClient\n",
    "from kafka.admin import NewTopic\n",
    "from json import loads, dumps\n",
    "    \n",
    "    \n",
    "class Producer(threading.Thread):\n",
    "    def __init__(self):\n",
    "        threading.Thread.__init__(self)\n",
    "        self.stop_event = threading.Event()\n",
    "\n",
    "    def stop(self):\n",
    "        self.stop_event.set()\n",
    "\n",
    "    def run(self):\n",
    "        producer = KafkaProducer(acks=\"all\",\n",
    "                                 compression_type='gzip',\n",
    "                                 bootstrap_servers=BOOTSTRAP_SERVERS,\n",
    "                                 value_serializer=lambda x: dumps(x).encode('utf-8'))\n",
    "\n",
    "        while not self.stop_event.is_set():\n",
    "            producer.send(TOPICS, value=df.to_json(force_ascii=False))\n",
    "            time.sleep(1)\n",
    "\n",
    "        producer.close()\n",
    "        \n",
    "\n",
    "class Consumer(threading.Thread):\n",
    "    def __init__(self):\n",
    "        threading.Thread.__init__(self)\n",
    "        self.stop_event = threading.Event()\n",
    "\n",
    "    def stop(self):\n",
    "        self.stop_event.set()\n",
    "\n",
    "    def run(self):\n",
    "        consumer = KafkaConsumer(bootstrap_servers=BOOTSTRAP_SERVERS,\n",
    "                                 auto_offset_reset='earliest',\n",
    "                                 group_id=CONSUMER_GROUP,\n",
    "                                 value_deserializer=lambda x: loads(x.decode('utf-8')),\n",
    "                                 max_poll_records = 2,\n",
    "                                 consumer_timeout_ms=1000)\n",
    "        \n",
    "        consumer.subscribe([TOPICS])\n",
    "\n",
    "        while not self.stop_event.is_set():\n",
    "            for message in consumer:\n",
    "                print(message)\n",
    "                if self.stop_event.is_set():\n",
    "                    break\n",
    "\n",
    "        consumer.close()\n",
    "\n",
    "                                 \n",
    "def main():\n",
    "    # try:\n",
    "    #     admin = KafkaAdminClient(bootstrap_servers=BOOTSTRAP_SERVERS)\n",
    "    #     topic = NewTopic(name=TOPICS,\n",
    "    #                      num_partitions=1,\n",
    "    #                      replication_factor=1)\n",
    "    #     admin.create_topics([topic])\n",
    "    # except Exception as e:\n",
    "    #     print(e)\n",
    "\n",
    "    tasks = [Producer(), Consumer()]\n",
    "\n",
    "    for t in tasks:\n",
    "        t.start()\n",
    "\n",
    "    time.sleep(10)\n",
    "\n",
    "    for task in tasks:\n",
    "        task.stop()\n",
    "\n",
    "    for task in tasks:\n",
    "        task.join()"
   ]
  },
  {
   "cell_type": "code",
   "execution_count": 63,
   "id": "fb1c2771-9c12-4bc3-8df3-cd08202792f1",
   "metadata": {
    "execution": {
     "iopub.execute_input": "2022-10-14T06:43:52.015060Z",
     "iopub.status.busy": "2022-10-14T06:43:52.014327Z",
     "iopub.status.idle": "2022-10-14T06:44:02.168333Z",
     "shell.execute_reply": "2022-10-14T06:44:02.167740Z",
     "shell.execute_reply.started": "2022-10-14T06:43:52.015035Z"
    },
    "tags": []
   },
   "outputs": [
    {
     "name": "stdout",
     "output_type": "stream",
     "text": [
      "ConsumerRecord(topic='test', partition=3, offset=188, timestamp=1665729832139, timestamp_type=0, key=None, value='{\"key\":{\"0\":\"2208281244313807\",\"1\":\"2208280027362716\",\"2\":\"2208281618561112\",\"3\":\"2208280253124586\",\"4\":\"2208281913283031\",\"5\":\"2208280102419526\",\"6\":\"2208281643108429\",\"7\":\"2208280202528223\",\"8\":\"2208280032177490\",\"9\":\"2208280956359149\"},\"value\":{\"0\":\"샤인머스캣 너무 비싸요\",\"1\":\"요즘 계속 사게 되네요\",\"2\":\"주말 특가로 저령하게 구입했는데 당도도 아주 좋아요\",\"3\":\"당도도 높고 너무 맛있게먹었어요\",\"4\":\".껍질이 두꺼워 실망했어요  먹을부분은 작아지니까~ 맛은 달콤하니 좋아여. 여름 끝물인 듯~\",\"5\":\"가격도싸고달고맛있어요.\",\"6\":\"포도하면 송산포도가 젤이예여\",\"7\":\"좋아해서 구매했는데.맛있습니다.\",\"8\":\"올해 먹은 포도 중에 최고\",\"9\":\"조아요 조아요 조아요 조아요 조아요 조아요\"}}', headers=[], checksum=None, serialized_key_size=-1, serialized_value_size=1391, serialized_header_size=-1)\n",
      "ConsumerRecord(topic='test', partition=0, offset=11161, timestamp=1665729833140, timestamp_type=0, key=None, value='{\"key\":{\"0\":\"2208281244313807\",\"1\":\"2208280027362716\",\"2\":\"2208281618561112\",\"3\":\"2208280253124586\",\"4\":\"2208281913283031\",\"5\":\"2208280102419526\",\"6\":\"2208281643108429\",\"7\":\"2208280202528223\",\"8\":\"2208280032177490\",\"9\":\"2208280956359149\"},\"value\":{\"0\":\"샤인머스캣 너무 비싸요\",\"1\":\"요즘 계속 사게 되네요\",\"2\":\"주말 특가로 저령하게 구입했는데 당도도 아주 좋아요\",\"3\":\"당도도 높고 너무 맛있게먹었어요\",\"4\":\".껍질이 두꺼워 실망했어요  먹을부분은 작아지니까~ 맛은 달콤하니 좋아여. 여름 끝물인 듯~\",\"5\":\"가격도싸고달고맛있어요.\",\"6\":\"포도하면 송산포도가 젤이예여\",\"7\":\"좋아해서 구매했는데.맛있습니다.\",\"8\":\"올해 먹은 포도 중에 최고\",\"9\":\"조아요 조아요 조아요 조아요 조아요 조아요\"}}', headers=[], checksum=None, serialized_key_size=-1, serialized_value_size=1391, serialized_header_size=-1)\n",
      "ConsumerRecord(topic='test', partition=0, offset=11162, timestamp=1665729834141, timestamp_type=0, key=None, value='{\"key\":{\"0\":\"2208281244313807\",\"1\":\"2208280027362716\",\"2\":\"2208281618561112\",\"3\":\"2208280253124586\",\"4\":\"2208281913283031\",\"5\":\"2208280102419526\",\"6\":\"2208281643108429\",\"7\":\"2208280202528223\",\"8\":\"2208280032177490\",\"9\":\"2208280956359149\"},\"value\":{\"0\":\"샤인머스캣 너무 비싸요\",\"1\":\"요즘 계속 사게 되네요\",\"2\":\"주말 특가로 저령하게 구입했는데 당도도 아주 좋아요\",\"3\":\"당도도 높고 너무 맛있게먹었어요\",\"4\":\".껍질이 두꺼워 실망했어요  먹을부분은 작아지니까~ 맛은 달콤하니 좋아여. 여름 끝물인 듯~\",\"5\":\"가격도싸고달고맛있어요.\",\"6\":\"포도하면 송산포도가 젤이예여\",\"7\":\"좋아해서 구매했는데.맛있습니다.\",\"8\":\"올해 먹은 포도 중에 최고\",\"9\":\"조아요 조아요 조아요 조아요 조아요 조아요\"}}', headers=[], checksum=None, serialized_key_size=-1, serialized_value_size=1391, serialized_header_size=-1)\n",
      "ConsumerRecord(topic='test', partition=0, offset=11163, timestamp=1665729835142, timestamp_type=0, key=None, value='{\"key\":{\"0\":\"2208281244313807\",\"1\":\"2208280027362716\",\"2\":\"2208281618561112\",\"3\":\"2208280253124586\",\"4\":\"2208281913283031\",\"5\":\"2208280102419526\",\"6\":\"2208281643108429\",\"7\":\"2208280202528223\",\"8\":\"2208280032177490\",\"9\":\"2208280956359149\"},\"value\":{\"0\":\"샤인머스캣 너무 비싸요\",\"1\":\"요즘 계속 사게 되네요\",\"2\":\"주말 특가로 저령하게 구입했는데 당도도 아주 좋아요\",\"3\":\"당도도 높고 너무 맛있게먹었어요\",\"4\":\".껍질이 두꺼워 실망했어요  먹을부분은 작아지니까~ 맛은 달콤하니 좋아여. 여름 끝물인 듯~\",\"5\":\"가격도싸고달고맛있어요.\",\"6\":\"포도하면 송산포도가 젤이예여\",\"7\":\"좋아해서 구매했는데.맛있습니다.\",\"8\":\"올해 먹은 포도 중에 최고\",\"9\":\"조아요 조아요 조아요 조아요 조아요 조아요\"}}', headers=[], checksum=None, serialized_key_size=-1, serialized_value_size=1391, serialized_header_size=-1)\n",
      "ConsumerRecord(topic='test', partition=0, offset=11164, timestamp=1665729836143, timestamp_type=0, key=None, value='{\"key\":{\"0\":\"2208281244313807\",\"1\":\"2208280027362716\",\"2\":\"2208281618561112\",\"3\":\"2208280253124586\",\"4\":\"2208281913283031\",\"5\":\"2208280102419526\",\"6\":\"2208281643108429\",\"7\":\"2208280202528223\",\"8\":\"2208280032177490\",\"9\":\"2208280956359149\"},\"value\":{\"0\":\"샤인머스캣 너무 비싸요\",\"1\":\"요즘 계속 사게 되네요\",\"2\":\"주말 특가로 저령하게 구입했는데 당도도 아주 좋아요\",\"3\":\"당도도 높고 너무 맛있게먹었어요\",\"4\":\".껍질이 두꺼워 실망했어요  먹을부분은 작아지니까~ 맛은 달콤하니 좋아여. 여름 끝물인 듯~\",\"5\":\"가격도싸고달고맛있어요.\",\"6\":\"포도하면 송산포도가 젤이예여\",\"7\":\"좋아해서 구매했는데.맛있습니다.\",\"8\":\"올해 먹은 포도 중에 최고\",\"9\":\"조아요 조아요 조아요 조아요 조아요 조아요\"}}', headers=[], checksum=None, serialized_key_size=-1, serialized_value_size=1391, serialized_header_size=-1)\n",
      "ConsumerRecord(topic='test', partition=0, offset=11165, timestamp=1665729837144, timestamp_type=0, key=None, value='{\"key\":{\"0\":\"2208281244313807\",\"1\":\"2208280027362716\",\"2\":\"2208281618561112\",\"3\":\"2208280253124586\",\"4\":\"2208281913283031\",\"5\":\"2208280102419526\",\"6\":\"2208281643108429\",\"7\":\"2208280202528223\",\"8\":\"2208280032177490\",\"9\":\"2208280956359149\"},\"value\":{\"0\":\"샤인머스캣 너무 비싸요\",\"1\":\"요즘 계속 사게 되네요\",\"2\":\"주말 특가로 저령하게 구입했는데 당도도 아주 좋아요\",\"3\":\"당도도 높고 너무 맛있게먹었어요\",\"4\":\".껍질이 두꺼워 실망했어요  먹을부분은 작아지니까~ 맛은 달콤하니 좋아여. 여름 끝물인 듯~\",\"5\":\"가격도싸고달고맛있어요.\",\"6\":\"포도하면 송산포도가 젤이예여\",\"7\":\"좋아해서 구매했는데.맛있습니다.\",\"8\":\"올해 먹은 포도 중에 최고\",\"9\":\"조아요 조아요 조아요 조아요 조아요 조아요\"}}', headers=[], checksum=None, serialized_key_size=-1, serialized_value_size=1391, serialized_header_size=-1)\n",
      "ConsumerRecord(topic='test', partition=1, offset=192, timestamp=1665729838145, timestamp_type=0, key=None, value='{\"key\":{\"0\":\"2208281244313807\",\"1\":\"2208280027362716\",\"2\":\"2208281618561112\",\"3\":\"2208280253124586\",\"4\":\"2208281913283031\",\"5\":\"2208280102419526\",\"6\":\"2208281643108429\",\"7\":\"2208280202528223\",\"8\":\"2208280032177490\",\"9\":\"2208280956359149\"},\"value\":{\"0\":\"샤인머스캣 너무 비싸요\",\"1\":\"요즘 계속 사게 되네요\",\"2\":\"주말 특가로 저령하게 구입했는데 당도도 아주 좋아요\",\"3\":\"당도도 높고 너무 맛있게먹었어요\",\"4\":\".껍질이 두꺼워 실망했어요  먹을부분은 작아지니까~ 맛은 달콤하니 좋아여. 여름 끝물인 듯~\",\"5\":\"가격도싸고달고맛있어요.\",\"6\":\"포도하면 송산포도가 젤이예여\",\"7\":\"좋아해서 구매했는데.맛있습니다.\",\"8\":\"올해 먹은 포도 중에 최고\",\"9\":\"조아요 조아요 조아요 조아요 조아요 조아요\"}}', headers=[], checksum=None, serialized_key_size=-1, serialized_value_size=1391, serialized_header_size=-1)\n",
      "ConsumerRecord(topic='test', partition=1, offset=193, timestamp=1665729839147, timestamp_type=0, key=None, value='{\"key\":{\"0\":\"2208281244313807\",\"1\":\"2208280027362716\",\"2\":\"2208281618561112\",\"3\":\"2208280253124586\",\"4\":\"2208281913283031\",\"5\":\"2208280102419526\",\"6\":\"2208281643108429\",\"7\":\"2208280202528223\",\"8\":\"2208280032177490\",\"9\":\"2208280956359149\"},\"value\":{\"0\":\"샤인머스캣 너무 비싸요\",\"1\":\"요즘 계속 사게 되네요\",\"2\":\"주말 특가로 저령하게 구입했는데 당도도 아주 좋아요\",\"3\":\"당도도 높고 너무 맛있게먹었어요\",\"4\":\".껍질이 두꺼워 실망했어요  먹을부분은 작아지니까~ 맛은 달콤하니 좋아여. 여름 끝물인 듯~\",\"5\":\"가격도싸고달고맛있어요.\",\"6\":\"포도하면 송산포도가 젤이예여\",\"7\":\"좋아해서 구매했는데.맛있습니다.\",\"8\":\"올해 먹은 포도 중에 최고\",\"9\":\"조아요 조아요 조아요 조아요 조아요 조아요\"}}', headers=[], checksum=None, serialized_key_size=-1, serialized_value_size=1391, serialized_header_size=-1)\n",
      "ConsumerRecord(topic='test', partition=1, offset=194, timestamp=1665729840148, timestamp_type=0, key=None, value='{\"key\":{\"0\":\"2208281244313807\",\"1\":\"2208280027362716\",\"2\":\"2208281618561112\",\"3\":\"2208280253124586\",\"4\":\"2208281913283031\",\"5\":\"2208280102419526\",\"6\":\"2208281643108429\",\"7\":\"2208280202528223\",\"8\":\"2208280032177490\",\"9\":\"2208280956359149\"},\"value\":{\"0\":\"샤인머스캣 너무 비싸요\",\"1\":\"요즘 계속 사게 되네요\",\"2\":\"주말 특가로 저령하게 구입했는데 당도도 아주 좋아요\",\"3\":\"당도도 높고 너무 맛있게먹었어요\",\"4\":\".껍질이 두꺼워 실망했어요  먹을부분은 작아지니까~ 맛은 달콤하니 좋아여. 여름 끝물인 듯~\",\"5\":\"가격도싸고달고맛있어요.\",\"6\":\"포도하면 송산포도가 젤이예여\",\"7\":\"좋아해서 구매했는데.맛있습니다.\",\"8\":\"올해 먹은 포도 중에 최고\",\"9\":\"조아요 조아요 조아요 조아요 조아요 조아요\"}}', headers=[], checksum=None, serialized_key_size=-1, serialized_value_size=1391, serialized_header_size=-1)\n",
      "ConsumerRecord(topic='test', partition=0, offset=11166, timestamp=1665729841149, timestamp_type=0, key=None, value='{\"key\":{\"0\":\"2208281244313807\",\"1\":\"2208280027362716\",\"2\":\"2208281618561112\",\"3\":\"2208280253124586\",\"4\":\"2208281913283031\",\"5\":\"2208280102419526\",\"6\":\"2208281643108429\",\"7\":\"2208280202528223\",\"8\":\"2208280032177490\",\"9\":\"2208280956359149\"},\"value\":{\"0\":\"샤인머스캣 너무 비싸요\",\"1\":\"요즘 계속 사게 되네요\",\"2\":\"주말 특가로 저령하게 구입했는데 당도도 아주 좋아요\",\"3\":\"당도도 높고 너무 맛있게먹었어요\",\"4\":\".껍질이 두꺼워 실망했어요  먹을부분은 작아지니까~ 맛은 달콤하니 좋아여. 여름 끝물인 듯~\",\"5\":\"가격도싸고달고맛있어요.\",\"6\":\"포도하면 송산포도가 젤이예여\",\"7\":\"좋아해서 구매했는데.맛있습니다.\",\"8\":\"올해 먹은 포도 중에 최고\",\"9\":\"조아요 조아요 조아요 조아요 조아요 조아요\"}}', headers=[], checksum=None, serialized_key_size=-1, serialized_value_size=1391, serialized_header_size=-1)\n"
     ]
    }
   ],
   "source": [
    "main()"
   ]
  }
 ],
 "metadata": {
  "kernelspec": {
   "display_name": "Python 3 (ipykernel)",
   "language": "python",
   "name": "python3"
  },
  "language_info": {
   "codemirror_mode": {
    "name": "ipython",
    "version": 3
   },
   "file_extension": ".py",
   "mimetype": "text/x-python",
   "name": "python",
   "nbconvert_exporter": "python",
   "pygments_lexer": "ipython3",
   "version": "3.8.13"
  }
 },
 "nbformat": 4,
 "nbformat_minor": 5
}
