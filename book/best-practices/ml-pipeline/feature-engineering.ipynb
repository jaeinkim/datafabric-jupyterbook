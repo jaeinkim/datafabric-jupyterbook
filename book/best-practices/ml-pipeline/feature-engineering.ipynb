{
 "cells": [
  {
   "cell_type": "markdown",
   "id": "5cbd96ea-d87e-43ca-824a-00060f38b22e",
   "metadata": {},
   "source": [
    "### Part.1 Feature Engineeing"
   ]
  },
  {
   "cell_type": "code",
   "execution_count": null,
   "id": "fd1f3da1-6918-4813-bb27-e3dd539e3f10",
   "metadata": {},
   "outputs": [],
   "source": []
  }
 ],
 "metadata": {
  "kernelspec": {
   "display_name": "Python 3",
   "language": "python",
   "name": "python3"
  },
  "language_info": {
   "codemirror_mode": {
    "name": "ipython",
    "version": 3
   },
   "file_extension": ".py",
   "mimetype": "text/x-python",
   "name": "python",
   "nbconvert_exporter": "python",
   "pygments_lexer": "ipython3",
   "version": "3.8.13"
  }
 },
 "nbformat": 4,
 "nbformat_minor": 5
}
