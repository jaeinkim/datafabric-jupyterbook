{
 "cells": [
  {
   "cell_type": "markdown",
   "id": "24a2e5f1-d92f-4ed9-b097-0afb2cf5e483",
   "metadata": {},
   "source": [
    "### Part.0 ML파이프라인 설명"
   ]
  },
  {
   "cell_type": "code",
   "execution_count": null,
   "id": "e1f6ec87-df76-43d3-840b-3521171dc673",
   "metadata": {},
   "outputs": [],
   "source": []
  }
 ],
 "metadata": {
  "kernelspec": {
   "display_name": "Python 3",
   "language": "python",
   "name": "python3"
  },
  "language_info": {
   "codemirror_mode": {
    "name": "ipython",
    "version": 3
   },
   "file_extension": ".py",
   "mimetype": "text/x-python",
   "name": "python",
   "nbconvert_exporter": "python",
   "pygments_lexer": "ipython3",
   "version": "3.8.13"
  }
 },
 "nbformat": 4,
 "nbformat_minor": 5
}
