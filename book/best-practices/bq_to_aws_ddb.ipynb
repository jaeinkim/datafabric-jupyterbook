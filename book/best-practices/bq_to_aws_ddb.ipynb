{
 "cells": [
  {
   "cell_type": "code",
   "execution_count": null,
   "metadata": {
    "tags": [
     "parameters"
    ]
   },
   "outputs": [],
   "source": [
    "# parameter\n",
    "ym = '202108'\n",
    "table_id = 'user_profile_pivot_monthly'\n",
    "mode = 'stg'"
   ]
  },
  {
   "cell_type": "code",
   "execution_count": null,
   "metadata": {
    "tags": []
   },
   "outputs": [],
   "source": [
    "lastmonth_tables = [\n",
    "    'mmkt_svc_bas_f',\n",
    "    'life_locationfeature_monthly',\n",
    "    'topic_modeling_monthly_v2',\n",
    "    'user_profile_pivot_monthly',\n",
    "]"
   ]
  },
  {
   "cell_type": "code",
   "execution_count": null,
   "metadata": {
    "tags": []
   },
   "outputs": [],
   "source": [
    "\n",
    "\n",
    "def get_lastmonth(ym):\n",
    "    import datetime\n",
    "    from dateutil.relativedelta import relativedelta\n",
    "    ym = datetime.datetime.strptime(ym,'%Y%m')\n",
    "    ym = ym - relativedelta(months=1)\n",
    "    return datetime.datetime.strftime(ym,'%Y%m')"
   ]
  },
  {
   "cell_type": "code",
   "execution_count": null,
   "metadata": {
    "tags": []
   },
   "outputs": [],
   "source": [
    "def get_query(feature, ym):\n",
    "    query = ''\n",
    "    if feature == 'life_locationfeature_monthly':\n",
    "        query = f\"\"\"\n",
    "            SELECT\n",
    "              * \n",
    "            FROM (\n",
    "              SELECT\n",
    "                *\n",
    "                EXCEPT (ym, dt)\n",
    "              FROM\n",
    "                cpm.life_locationfeature_monthly\n",
    "              WHERE\n",
    "                ym = cast('{ym}' as INT64)\n",
    "                and svc_mgmt_num is not null\n",
    "            )\n",
    "        \"\"\"\n",
    "    elif feature == 'mmkt_svc_bas_f':\n",
    "        query = f\"\"\"\n",
    "            SELECT\n",
    "              * \n",
    "            FROM (\n",
    "              SELECT\n",
    "                svc_mgmt_num,\n",
    "                IFNULL(CAST(REPLACE(REPLACE(mth_age,'BBB','-1'),'#','-1') AS INT64), -1) AS mth_age,\n",
    "                * \n",
    "                EXCEPT (svc_mgmt_num, mth_age)\n",
    "              FROM\n",
    "                comm.mmkt_svc_bas_f\n",
    "              WHERE\n",
    "                strd_ym = cast({ym} as int64)\n",
    "                and svc_mgmt_num is not null\n",
    "            )\n",
    "        \"\"\"\n",
    "    elif feature == 'topic_modeling_monthly_v2':\n",
    "        dt = ym[:4] + '-' + ym[4:6] + '-' + '01'\n",
    "        query = f\"\"\"\n",
    "            SELECT\n",
    "                svc_mgmt_num,\n",
    "                * \n",
    "                EXCEPT(\n",
    "                    svc_mgmt_num, dt\n",
    "                )\n",
    "              FROM\n",
    "                comm.topic_modeling_monthly_v2\n",
    "              WHERE\n",
    "                dt = cast('{dt}' as DATE)\n",
    "                and svc_mgmt_num is not null\n",
    "        \"\"\"\n",
    "    elif feature == 'user_profile_pivot_monthly':\n",
    "        query = f\"\"\"\n",
    "            SELECT\n",
    "                svc_mgmt_num,\n",
    "                * EXCEPT(svc_mgmt_num,\n",
    "                  sex_cd,\n",
    "                  eqp_mdl_cd,\n",
    "                  fee_prod_id,\n",
    "                  mbr_use_cnt,\n",
    "                  eqp_out_prc,\n",
    "                  svc_scrb_dt,\n",
    "                  t_agr_t_eqpal_scrb_mth_cnt,\n",
    "                  op_sale_chnl_cl_cd,\n",
    "                  cncl_aply_bf_equip_chg_dt,\n",
    "                  othr_co_icall_call,\n",
    "                  allot_prn_amt,\n",
    "                  cncl_aply_last_equip_chg_dt,\n",
    "                  job_cd,\n",
    "                  nm_cust_num,\n",
    "                  pmth_inv_bamt,\n",
    "                  mbr_card_gr_cd,\n",
    "                  svc_gr_cd,\n",
    "                  mng_nice_cb_scr,\n",
    "                  emart_icall_call,\n",
    "                  t_agr_t_eqpal_scrb_yn,\n",
    "                  mng_nice_cb_grd,\n",
    "                  scrb_sale_chnl_cl_cd,\n",
    "                  allot_mth_cnt,\n",
    "                  cust_birth_dt,\n",
    "                  equip_chg_mth_cnt,\n",
    "                  t_agr_t_eqpal_scrb_ym)\n",
    "            FROM\n",
    "                comm.user_profile_pivot_monthly\n",
    "            WHERE\n",
    "                ym = cast({ym} as int64)\n",
    "        \"\"\"\n",
    "    else:\n",
    "        query = ''\n",
    "        \n",
    "    return query"
   ]
  },
  {
   "cell_type": "code",
   "execution_count": null,
   "metadata": {
    "tags": []
   },
   "outputs": [],
   "source": [
    "if table_id in lastmonth_tables:\n",
    "    ym = get_lastmonth(ym)\n",
    "    query = get_query(table_id, ym)\n",
    "    month_ago_query = get_query(table_id, get_lastmonth(ym))\n",
    "else:\n",
    "    query = get_query(table_id, ym)\n",
    "    month_ago_query = get_query(table_id, get_lastmonth(ym))\n",
    "\n",
    "table_id = table_id.replace('_', '-')\n",
    "output = f's3-prd://mls-profile-{mode}/user-profile-{table_id}-nogzip/ym={ym}/op=put'\n",
    "del_output = f's3-prd://mls-profile-{mode}/user-profile-{table_id}-nogzip/ym={ym}/op=delete'\n",
    "\n",
    "print(f'input query : {query}')\n",
    "print(f'delete query : {month_ago_query}')\n",
    "print(f'output : {output}') \n",
    "print(f'delete output : {del_output}') "
   ]
  },
  {
   "cell_type": "code",
   "execution_count": null,
   "metadata": {
    "tags": []
   },
   "outputs": [],
   "source": [
    "import json\n",
    "\n",
    "from pyspark.sql import Row\n",
    "\n",
    "\n",
    "def to_json_obj(row):\n",
    "    x = row.asDict()\n",
    "    row_dict = {}\n",
    "    # remove null value\n",
    "    for (key, value) in x.items():\n",
    "        if value:\n",
    "            row_dict[key] = value\n",
    "\n",
    "    return Row(json.dumps(row_dict))"
   ]
  },
  {
   "cell_type": "code",
   "execution_count": null,
   "metadata": {},
   "outputs": [],
   "source": [
    "from pydatafabric.gcp import bq_to_df\n",
    "\n",
    "df = bq_to_df(query).withColumnRenamed(\"svc_mgmt_num\", \"user_id\")\n",
    "month_ago_df = bq_to_df(month_ago_query).withColumnRenamed(\"svc_mgmt_num\", \"user_id\")\n",
    "\n",
    "keys_dt = df.select('user_id')\n",
    "keys_last_dt = month_ago_df.select('user_id')\n",
    "\n",
    "deleted = keys_last_dt.join(keys_dt, keys_last_dt.user_id == keys_dt.user_id, how='left_anti')\n",
    "\n",
    "df_put = df.cache()\n",
    "df_del = deleted.cache()"
   ]
  },
  {
   "cell_type": "markdown",
   "metadata": {},
   "source": [
    "### Write\n",
    "##### 전달과 비교해서 delete에도 써야함 (delete는 user_id만 write)"
   ]
  },
  {
   "cell_type": "code",
   "execution_count": null,
   "metadata": {},
   "outputs": [],
   "source": [
    "if df_del.count() > 0:\n",
    "    df_del.rdd.map(to_json_obj).toDF().distinct().repartition(8).write.mode('overwrite').text(del_output)\n",
    "df_put.rdd.map(to_json_obj).toDF().distinct().repartition(8).write.mode('overwrite').text(output)"
   ]
  }
 ],
 "metadata": {
  "kernelspec": {
   "display_name": "Python 3",
   "language": "python",
   "name": "python3"
  },
  "language_info": {
   "codemirror_mode": {
    "name": "ipython",
    "version": 3
   },
   "file_extension": ".py",
   "mimetype": "text/x-python",
   "name": "python",
   "nbconvert_exporter": "python",
   "pygments_lexer": "ipython3",
   "version": "3.6.13"
  }
 },
 "nbformat": 4,
 "nbformat_minor": 4
}