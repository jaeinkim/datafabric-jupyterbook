{
 "cells": [
  {
   "cell_type": "code",
   "execution_count": 2,
   "id": "cf677c26-3858-4ad6-bf08-84f9e0809e5e",
   "metadata": {
    "execution": {
     "iopub.execute_input": "2022-05-31T07:29:27.752608Z",
     "iopub.status.busy": "2022-05-31T07:29:27.752259Z",
     "iopub.status.idle": "2022-05-31T07:29:27.783704Z",
     "shell.execute_reply": "2022-05-31T07:29:27.783258Z",
     "shell.execute_reply.started": "2022-05-31T07:29:27.752586Z"
    },
    "tags": []
   },
   "outputs": [],
   "source": [
    "from pydatafabric.vault_utils import get_secrets\n",
    "\n",
    "oracle_info = get_secrets(mount_point=\"datafabric\", path=\"oracle/datafabric/oracle-db\")"
   ]
  },
  {
   "cell_type": "code",
   "execution_count": 13,
   "id": "9647fa03-cff9-4953-8a4a-cf44ce9712fc",
   "metadata": {
    "execution": {
     "iopub.execute_input": "2022-05-31T07:32:50.798787Z",
     "iopub.status.busy": "2022-05-31T07:32:50.798443Z",
     "iopub.status.idle": "2022-05-31T07:32:50.860335Z",
     "shell.execute_reply": "2022-05-31T07:32:50.859831Z",
     "shell.execute_reply.started": "2022-05-31T07:32:50.798766Z"
    },
    "tags": []
   },
   "outputs": [
    {
     "name": "stdout",
     "output_type": "stream",
     "text": [
      "테스트 이름 리스트 :  ('TS$',)\n",
      "테스트 이름 리스트 :  ('ICOL$',)\n",
      "테스트 이름 리스트 :  ('USER$',)\n",
      "테스트 이름 리스트 :  ('CDEF$',)\n",
      "테스트 이름 리스트 :  ('CCOL$',)\n",
      "테스트 이름 리스트 :  ('SEG$',)\n",
      "테스트 이름 리스트 :  ('PROXY_DATA$',)\n",
      "테스트 이름 리스트 :  ('COL$',)\n",
      "테스트 이름 리스트 :  ('OBJ$',)\n"
     ]
    }
   ],
   "source": [
    "import cx_Oracle\n",
    "connection = cx_Oracle.connect(oracle_info['user'], oracle_info['password'], oracle_info['cx_url'])\n",
    "\n",
    "cursor = connection.cursor()\n",
    "\n",
    "cursor.execute(\"\"\"\n",
    "    SELECT table_name FROM ALL_TAB_COMMENTS WHERE ROWNUM < 10\n",
    "   \"\"\"\n",
    ")\n",
    "\n",
    "for table_name in cursor:\n",
    "    print(\"테스트 이름 리스트 : \", table_name)\n",
    "\n",
    "connection.close()"
   ]
  },
  {
   "cell_type": "code",
   "execution_count": null,
   "id": "c2ce34f9-2ad9-43cb-b023-97b8abc99875",
   "metadata": {},
   "outputs": [],
   "source": []
  }
 ],
 "metadata": {
  "kernelspec": {
   "display_name": "Python 3 (ipykernel)",
   "language": "python",
   "name": "python3"
  },
  "language_info": {
   "codemirror_mode": {
    "name": "ipython",
    "version": 3
   },
   "file_extension": ".py",
   "mimetype": "text/x-python",
   "name": "python",
   "nbconvert_exporter": "python",
   "pygments_lexer": "ipython3",
   "version": "3.8.13"
  }
 },
 "nbformat": 4,
 "nbformat_minor": 5
}
