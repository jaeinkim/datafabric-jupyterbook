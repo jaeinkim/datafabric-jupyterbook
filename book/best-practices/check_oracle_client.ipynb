{
 "cells": [
  {
   "cell_type": "markdown",
   "id": "22a88ba6-1531-4b46-9796-dde7d079e6cb",
   "metadata": {},
   "source": [
    "## cx_Oracle로 oracle 커넥션 확인"
   ]
  },
  {
   "cell_type": "code",
   "execution_count": 8,
   "id": "cf677c26-3858-4ad6-bf08-84f9e0809e5e",
   "metadata": {
    "execution": {
     "iopub.execute_input": "2022-12-19T04:01:38.573186Z",
     "iopub.status.busy": "2022-12-19T04:01:38.572787Z",
     "iopub.status.idle": "2022-12-19T04:01:38.609449Z",
     "shell.execute_reply": "2022-12-19T04:01:38.608947Z",
     "shell.execute_reply.started": "2022-12-19T04:01:38.573162Z"
    },
    "tags": []
   },
   "outputs": [],
   "source": [
    "from pydatafabric.vault_utils import get_secrets\n",
    "\n",
    "oracle_info = get_secrets(mount_point=\"datafabric\", path=\"oracle/datafabric/oracle-db\")"
   ]
  },
  {
   "cell_type": "code",
   "execution_count": 9,
   "id": "9647fa03-cff9-4953-8a4a-cf44ce9712fc",
   "metadata": {
    "execution": {
     "iopub.execute_input": "2022-12-19T04:01:39.268080Z",
     "iopub.status.busy": "2022-12-19T04:01:39.267725Z",
     "iopub.status.idle": "2022-12-19T04:01:39.461618Z",
     "shell.execute_reply": "2022-12-19T04:01:39.460815Z",
     "shell.execute_reply.started": "2022-12-19T04:01:39.268058Z"
    },
    "tags": []
   },
   "outputs": [
    {
     "name": "stdout",
     "output_type": "stream",
     "text": [
      "테스트 이름 리스트 :  ('TS$',)\n",
      "테스트 이름 리스트 :  ('ICOL$',)\n",
      "테스트 이름 리스트 :  ('USER$',)\n",
      "테스트 이름 리스트 :  ('CDEF$',)\n",
      "테스트 이름 리스트 :  ('CCOL$',)\n",
      "테스트 이름 리스트 :  ('SEG$',)\n",
      "테스트 이름 리스트 :  ('PROXY_DATA$',)\n",
      "테스트 이름 리스트 :  ('COL$',)\n",
      "테스트 이름 리스트 :  ('OBJ$',)\n"
     ]
    }
   ],
   "source": [
    "import cx_Oracle\n",
    "connection = cx_Oracle.connect(oracle_info['user'], oracle_info['password'], oracle_info['cx_url'])\n",
    "\n",
    "cursor = connection.cursor()\n",
    "\n",
    "cursor.execute(\"\"\"\n",
    "    SELECT table_name FROM ALL_TAB_COMMENTS WHERE ROWNUM < 10\n",
    "   \"\"\"\n",
    ")\n",
    "\n",
    "for table_name in cursor:\n",
    "    print(\"테스트 이름 리스트 : \", table_name)\n",
    "\n",
    "connection.close()"
   ]
  }
 ],
 "metadata": {
  "kernelspec": {
   "display_name": "Python 3 (ipykernel)",
   "language": "python",
   "name": "python3"
  },
  "language_info": {
   "codemirror_mode": {
    "name": "ipython",
    "version": 3
   },
   "file_extension": ".py",
   "mimetype": "text/x-python",
   "name": "python",
   "nbconvert_exporter": "python",
   "pygments_lexer": "ipython3",
   "version": "3.8.13"
  }
 },
 "nbformat": 4,
 "nbformat_minor": 5
}
