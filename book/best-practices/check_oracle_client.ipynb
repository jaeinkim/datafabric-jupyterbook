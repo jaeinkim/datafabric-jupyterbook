{
 "cells": [
  {
   "cell_type": "code",
   "execution_count": null,
   "id": "652660f1-b22e-4e41-9a4d-6585c9a4cd49",
   "metadata": {
    "tags": []
   },
   "outputs": [],
   "source": [
    "%env http_proxy=http://10.40.84.223:10203\n",
    "%env https_proxy=http://10.40.84.223:10203\n",
    "# ! wget --tries=2 -e use_proxy=yes -e http_proxy=http://10.40.84.223:10203 -e https_proxy=http://10.40.84.223:10203 https://download.oracle.com/otn_software/linux/instantclient/215000/instantclient-basic-linux.x64-21.5.0.0.0dbru.zip\n",
    "! wget --tries=2 https://download.oracle.com/otn_software/linux/instantclient/215000/instantclient-basic-linux.x64-21.5.0.0.0dbru.zip"
   ]
  },
  {
   "cell_type": "code",
   "execution_count": null,
   "id": "9184aa66-d1a1-49be-8cf3-0b512f4102d3",
   "metadata": {
    "tags": []
   },
   "outputs": [],
   "source": [
    "! unzip instantclient-basic-linux.x64-21.5.0.0.0dbru.zip -d .    "
   ]
  },
  {
   "cell_type": "code",
   "execution_count": null,
   "id": "33a0b293-3877-4561-8f97-9ac7dc34fbca",
   "metadata": {
    "tags": []
   },
   "outputs": [],
   "source": [
    "! sudo cp instantclient_21_5/libclntsh.so.21.1 /usr/local/lib/libclntsh.so"
   ]
  },
  {
   "cell_type": "code",
   "execution_count": null,
   "id": "33f4ed75-e2ed-4526-aa3f-90ad1a43539f",
   "metadata": {
    "tags": []
   },
   "outputs": [],
   "source": [
    "import os\n",
    "\n",
    "LD_LIBRARY_PATH_BEFORE = \"\"\n",
    "\n",
    "if \"LD_LIBRARY_PATH\" in os.environ and os.environ[\"LD_LIBRARY_PATH\"]:\n",
    "    LD_LIBRARY_PATH_BEFORE = f\":{os.environ['LD_LIBRARY_PATH']}\""
   ]
  },
  {
   "cell_type": "code",
   "execution_count": null,
   "id": "3c11086c-95b8-414a-b131-8925728b6179",
   "metadata": {
    "tags": []
   },
   "outputs": [],
   "source": [
    "! cat /etc/ld.so.conf.d/libc.conf"
   ]
  },
  {
   "cell_type": "code",
   "execution_count": null,
   "id": "a538eeee-e55a-4960-a140-87447cdd81a5",
   "metadata": {
    "tags": []
   },
   "outputs": [],
   "source": [
    "! ls /usr/local/lib/"
   ]
  },
  {
   "cell_type": "code",
   "execution_count": null,
   "id": "c089ee84-6774-47e3-b623-d3ee87a84d37",
   "metadata": {
    "tags": []
   },
   "outputs": [],
   "source": [
    "! sudo cat /etc/ld.so.conf"
   ]
  },
  {
   "cell_type": "code",
   "execution_count": null,
   "id": "1300a887-64b8-4f1a-b44e-7ce5a224ce66",
   "metadata": {
    "tags": []
   },
   "outputs": [],
   "source": [
    "! pip install cx_Oracle"
   ]
  },
  {
   "cell_type": "code",
   "execution_count": null,
   "id": "9647fa03-cff9-4953-8a4a-cf44ce9712fc",
   "metadata": {
    "tags": []
   },
   "outputs": [],
   "source": [
    "! sudo ldconfig\n",
    "\n",
    "%env LD_LIBRARY_PATH=./instantclient_21_5{LD_LIBRARY_PATH_BEFORE}\n",
    "\n",
    "print(os.environ[\"LD_LIBRARY_PATH\"])\n",
    "\n",
    "import cx_Oracle\n",
    "connection = cx_Oracle.connect('metatron','wisenut2021!','150.204.1.46:1525/WZDB')\n",
    "\n",
    "cursor = connection.cursor()\n",
    "\n",
    "cursor.execute(\"\"\"\n",
    "   select *\n",
    "   from wisenut.wise_neo_tbl_sudden_rise\n",
    "   \"\"\"\n",
    ")\n",
    "\n",
    "# cursor.execute(\"SELECT USERNAME FROM ALL_USERS ORDER BY USERNAME\")\n",
    "\n",
    "for name in cursor:\n",
    "    print(\"테스트 이름 리스트 : \", name)\n",
    "    break\n"
   ]
  },
  {
   "cell_type": "code",
   "execution_count": null,
   "id": "59e7b940-7c0f-4d4f-998b-972ce76e1c58",
   "metadata": {},
   "outputs": [],
   "source": []
  }
 ],
 "metadata": {
  "kernelspec": {
   "display_name": "Python 3",
   "language": "python",
   "name": "python3"
  },
  "language_info": {
   "codemirror_mode": {
    "name": "ipython",
    "version": 3
   },
   "file_extension": ".py",
   "mimetype": "text/x-python",
   "name": "python",
   "nbconvert_exporter": "python",
   "pygments_lexer": "ipython3",
   "version": "3.6.13"
  }
 },
 "nbformat": 4,
 "nbformat_minor": 5
}
