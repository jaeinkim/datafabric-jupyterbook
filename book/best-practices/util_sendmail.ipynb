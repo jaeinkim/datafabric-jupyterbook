{
 "cells": [
  {
   "cell_type": "code",
   "execution_count": null,
   "id": "e80daa38-df4a-4e2e-b586-e65cad0ffbfe",
   "metadata": {
    "tags": [
     "parameters"
    ],
    "pycharm": {
     "name": "#%%\n"
    }
   },
   "outputs": [],
   "source": [
    "input_path = \"s3://emart-datafabric-dev/testdata/luckymail.txt\""
   ]
  },
  {
   "cell_type": "code",
   "execution_count": null,
   "id": "5939461c-fb36-439e-bf2e-6851625941c4",
   "metadata": {
    "tags": [],
    "pycharm": {
     "name": "#%%\n"
    }
   },
   "outputs": [],
   "source": [
    "from pydatafabric.ye import send_email\n",
    "\n",
    "# 파일 미 첨부의 경우\n",
    "res = send_email(subject=\"Test mail\",\n",
    "    text='This is Contents.',\n",
    "    send_from='aiweaver@emart.com',\n",
    "    send_to=\"someone@emart.com\")\n",
    "\n",
    "print(res)"
   ]
  },
  {
   "cell_type": "code",
   "execution_count": null,
   "id": "389e51df-03af-4ab7-b153-42667ed7ab20",
   "metadata": {
    "tags": [],
    "pycharm": {
     "name": "#%%\n"
    }
   },
   "outputs": [],
   "source": [
    "# 파일 첨부의 경우\n",
    "input_file = \"s3a://emart-datafabric-dev/testdata/luckymail.txt\"\n",
    "output_file = \"/tmp/luckymail.txt\"\n",
    "\n",
    "!hdfs dfs -copyToLocal {input_file} {output_file}\n",
    "\n",
    "with open(output_file, 'rb') as fd:\n",
    "    res = send_email(subject=\"Test mail\",\n",
    "        text='This is Contents.',\n",
    "        send_from='aiweaver@emart.com',\n",
    "        send_to=\"someone@emart.com\",\n",
    "        attachment=fd.read())\n",
    "    print(res)"
   ]
  }
 ],
 "metadata": {
  "kernelspec": {
   "display_name": "Python 3 (ipykernel)",
   "language": "python",
   "name": "python3"
  },
  "language_info": {
   "codemirror_mode": {
    "name": "ipython",
    "version": 3
   },
   "file_extension": ".py",
   "mimetype": "text/x-python",
   "name": "python",
   "nbconvert_exporter": "python",
   "pygments_lexer": "ipython3",
   "version": "3.8.13"
  }
 },
 "nbformat": 4,
 "nbformat_minor": 5
}