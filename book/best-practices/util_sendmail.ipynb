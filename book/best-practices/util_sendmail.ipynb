{
 "cells": [
  {
   "cell_type": "markdown",
   "id": "87c88afe-a55d-4f4b-a723-e45efe5b398c",
   "metadata": {},
   "source": [
    "### Email 보내기"
   ]
  },
  {
   "cell_type": "code",
   "execution_count": 7,
   "id": "e80daa38-df4a-4e2e-b586-e65cad0ffbfe",
   "metadata": {
    "execution": {
     "iopub.execute_input": "2022-09-30T04:55:18.386339Z",
     "iopub.status.busy": "2022-09-30T04:55:18.385966Z",
     "iopub.status.idle": "2022-09-30T04:55:18.422143Z",
     "shell.execute_reply": "2022-09-30T04:55:18.421612Z",
     "shell.execute_reply.started": "2022-09-30T04:55:18.386317Z"
    },
    "pycharm": {
     "name": "#%%\n"
    },
    "tags": [
     "parameters"
    ]
   },
   "outputs": [],
   "source": [
    "from pydatafabric.vault_utils import get_secrets\n",
    "\n",
    "aws_info = get_secrets(mount_point=\"datafabric\",path=\"aws/credentials/datafabric\")"
   ]
  },
  {
   "cell_type": "code",
   "execution_count": 3,
   "id": "5939461c-fb36-439e-bf2e-6851625941c4",
   "metadata": {
    "execution": {
     "iopub.execute_input": "2022-09-30T04:46:16.803465Z",
     "iopub.status.busy": "2022-09-30T04:46:16.803084Z",
     "iopub.status.idle": "2022-09-30T04:46:17.011077Z",
     "shell.execute_reply": "2022-09-30T04:46:17.010559Z",
     "shell.execute_reply.started": "2022-09-30T04:46:16.803435Z"
    },
    "pycharm": {
     "name": "#%%\n"
    },
    "tags": []
   },
   "outputs": [
    {
     "name": "stdout",
     "output_type": "stream",
     "text": [
      "{}\n"
     ]
    }
   ],
   "source": [
    "from pydatafabric.ye import send_email\n",
    "\n",
    "# 파일 미 첨부의 경우\n",
    "res = send_email(subject=\"Test mail\",\n",
    "    text='This is Contents.',\n",
    "    send_from='aiweaver@emart.com',\n",
    "    send_to=\"hwhong@emart.com\")"
   ]
  },
  {
   "cell_type": "code",
   "execution_count": 3,
   "id": "389e51df-03af-4ab7-b153-42667ed7ab20",
   "metadata": {
    "execution": {
     "iopub.execute_input": "2022-10-04T06:48:15.137095Z",
     "iopub.status.busy": "2022-10-04T06:48:15.136680Z",
     "iopub.status.idle": "2022-10-04T06:49:08.953812Z",
     "shell.execute_reply": "2022-10-04T06:49:08.953067Z",
     "shell.execute_reply.started": "2022-10-04T06:48:15.137070Z"
    },
    "pycharm": {
     "name": "#%%\n"
    },
    "tags": []
   },
   "outputs": [
    {
     "name": "stdout",
     "output_type": "stream",
     "text": [
      "2022-10-04 15:54:12,750 INFO impl.MetricsConfig: Loaded properties from hadoop-metrics2.properties\n",
      "2022-10-04 15:54:12,802 INFO impl.MetricsSystemImpl: Scheduled Metric snapshot period at 10 second(s).\n",
      "2022-10-04 15:54:12,802 INFO impl.MetricsSystemImpl: s3a-file-system metrics system started\n",
      "Found 1 items\n",
      "-rw-rw-rw-   1 datafabric datafabric       1381 2022-04-26 20:08 s3a://emart-datafabric-dev/testdata/luckymail.txt\n",
      "2022-10-04 15:54:14,394 INFO impl.MetricsSystemImpl: Stopping s3a-file-system metrics system...\n",
      "2022-10-04 15:54:14,395 INFO impl.MetricsSystemImpl: s3a-file-system metrics system stopped.\n",
      "2022-10-04 15:54:14,395 INFO impl.MetricsSystemImpl: s3a-file-system metrics system shutdown complete.\n"
     ]
    }
   ],
   "source": [
    "# 파일 첨부의 경우\n",
    "input_file = \"s3a://emart-datafabric-dev/testdata/luckymail.txt\"\n",
    "output_file = \"/tmp/luckymail.txt\"\n",
    "\n",
    "!hdfs dfs -Dhadoop.security.credential.provider.path=jceks:///datafabric/credentials/aws.jceks -copyToLocal {input_file} {output_file}\n",
    "\n",
    "with open(file, 'rb') as fd:\n",
    "    res = send_email(subject=\"Test mail\",\n",
    "        text='This is Contents.',\n",
    "        send_from='aiweaver@emart.com',\n",
    "        send_to=\"hwhong@emart.com\",\n",
    "        attachment=fd.read())"
   ]
  },
  {
   "cell_type": "code",
   "execution_count": null,
   "id": "d1396419-e39f-41e1-bcd4-bacdb1de03be",
   "metadata": {},
   "outputs": [],
   "source": []
  }
 ],
 "metadata": {
  "kernelspec": {
   "display_name": "Python 3 (ipykernel)",
   "language": "python",
   "name": "python3"
  },
  "language_info": {
   "codemirror_mode": {
    "name": "ipython",
    "version": 3
   },
   "file_extension": ".py",
   "mimetype": "text/x-python",
   "name": "python",
   "nbconvert_exporter": "python",
   "pygments_lexer": "ipython3",
   "version": "3.8.13"
  }
 },
 "nbformat": 4,
 "nbformat_minor": 5
}
