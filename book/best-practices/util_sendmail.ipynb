{
 "cells": [
  {
   "cell_type": "markdown",
   "id": "87c88afe-a55d-4f4b-a723-e45efe5b398c",
   "metadata": {},
   "source": [
    "## Email 보내기"
   ]
  },
  {
   "cell_type": "code",
   "execution_count": 1,
   "id": "e80daa38-df4a-4e2e-b586-e65cad0ffbfe",
   "metadata": {
    "execution": {
     "iopub.execute_input": "2022-10-14T02:11:25.747327Z",
     "iopub.status.busy": "2022-10-14T02:11:25.746878Z",
     "iopub.status.idle": "2022-10-14T02:11:25.841556Z",
     "shell.execute_reply": "2022-10-14T02:11:25.841016Z",
     "shell.execute_reply.started": "2022-10-14T02:11:25.747249Z"
    },
    "pycharm": {
     "name": "#%%\n"
    },
    "tags": [
     "parameters"
    ]
   },
   "outputs": [],
   "source": [
    "from pydatafabric.vault_utils import get_secrets\n",
    "\n",
    "aws_info = get_secrets(mount_point=\"datafabric\",path=\"aws/credentials/datafabric\")"
   ]
  },
  {
   "cell_type": "code",
   "execution_count": 2,
   "id": "5939461c-fb36-439e-bf2e-6851625941c4",
   "metadata": {
    "execution": {
     "iopub.execute_input": "2022-10-14T02:11:31.099884Z",
     "iopub.status.busy": "2022-10-14T02:11:31.099519Z",
     "iopub.status.idle": "2022-10-14T02:11:31.441128Z",
     "shell.execute_reply": "2022-10-14T02:11:31.440550Z",
     "shell.execute_reply.started": "2022-10-14T02:11:31.099863Z"
    },
    "pycharm": {
     "name": "#%%\n"
    },
    "tags": []
   },
   "outputs": [],
   "source": [
    "from pydatafabric.ye import send_email\n",
    "\n",
    "# 파일 미 첨부의 경우\n",
    "res = send_email(subject=\"Test mail\",\n",
    "    text='This is Contents.',\n",
    "    send_from='aiweaver@emart.com',\n",
    "    send_to=\"hwhong@emart.com\")"
   ]
  },
  {
   "cell_type": "code",
   "execution_count": 4,
   "id": "389e51df-03af-4ab7-b153-42667ed7ab20",
   "metadata": {
    "execution": {
     "iopub.execute_input": "2022-10-14T02:12:44.501336Z",
     "iopub.status.busy": "2022-10-14T02:12:44.500934Z",
     "iopub.status.idle": "2022-10-14T02:12:48.185907Z",
     "shell.execute_reply": "2022-10-14T02:12:48.185266Z",
     "shell.execute_reply.started": "2022-10-14T02:12:44.501310Z"
    },
    "pycharm": {
     "name": "#%%\n"
    },
    "tags": []
   },
   "outputs": [
    {
     "name": "stdout",
     "output_type": "stream",
     "text": [
      "2022-10-14 11:12:45,677 INFO impl.MetricsConfig: Loaded properties from hadoop-metrics2.properties\n",
      "2022-10-14 11:12:45,731 INFO impl.MetricsSystemImpl: Scheduled Metric snapshot period at 10 second(s).\n",
      "2022-10-14 11:12:45,731 INFO impl.MetricsSystemImpl: s3a-file-system metrics system started\n",
      "copyToLocal: `/tmp/luckymail.txt': File exists\n",
      "2022-10-14 11:12:47,401 INFO impl.MetricsSystemImpl: Stopping s3a-file-system metrics system...\n",
      "2022-10-14 11:12:47,401 INFO impl.MetricsSystemImpl: s3a-file-system metrics system stopped.\n",
      "2022-10-14 11:12:47,401 INFO impl.MetricsSystemImpl: s3a-file-system metrics system shutdown complete.\n"
     ]
    }
   ],
   "source": [
    "# 파일 첨부의 경우\n",
    "input_file = \"s3a://emart-datafabric-dev/testdata/luckymail.txt\"\n",
    "output_file = \"/tmp/luckymail.txt\"\n",
    "\n",
    "!hdfs dfs -Dhadoop.security.credential.provider.path=jceks:///datafabric/credentials/aws.jceks -copyToLocal {input_file} {output_file}\n",
    "\n",
    "with open(output_file, 'rb') as fd:\n",
    "    res = send_email(subject=\"Test mail\",\n",
    "        text='This is Contents.',\n",
    "        send_from='aiweaver@emart.com',\n",
    "        send_to=\"hwhong@emart.com\",\n",
    "        attachment=fd.read())"
   ]
  }
 ],
 "metadata": {
  "kernelspec": {
   "display_name": "Python 3 (ipykernel)",
   "language": "python",
   "name": "python3"
  },
  "language_info": {
   "codemirror_mode": {
    "name": "ipython",
    "version": 3
   },
   "file_extension": ".py",
   "mimetype": "text/x-python",
   "name": "python",
   "nbconvert_exporter": "python",
   "pygments_lexer": "ipython3",
   "version": "3.8.13"
  }
 },
 "nbformat": 4,
 "nbformat_minor": 5
}
