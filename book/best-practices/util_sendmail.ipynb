{
 "cells": [
  {
   "cell_type": "markdown",
   "id": "87c88afe-a55d-4f4b-a723-e45efe5b398c",
   "metadata": {},
   "source": [
    "### Email 보내기"
   ]
  },
  {
   "cell_type": "code",
   "execution_count": 7,
   "id": "e80daa38-df4a-4e2e-b586-e65cad0ffbfe",
   "metadata": {
    "execution": {
     "iopub.execute_input": "2022-09-30T04:55:18.386339Z",
     "iopub.status.busy": "2022-09-30T04:55:18.385966Z",
     "iopub.status.idle": "2022-09-30T04:55:18.422143Z",
     "shell.execute_reply": "2022-09-30T04:55:18.421612Z",
     "shell.execute_reply.started": "2022-09-30T04:55:18.386317Z"
    },
    "pycharm": {
     "name": "#%%\n"
    },
    "tags": [
     "parameters"
    ]
   },
   "outputs": [],
   "source": [
    "from pydatafabric.vault_utils import get_secrets\n",
    "\n",
    "aws_info = get_secrets(mount_point=\"datafabric\",path=\"aws/credentials/datafabric\")"
   ]
  },
  {
   "cell_type": "code",
   "execution_count": 3,
   "id": "5939461c-fb36-439e-bf2e-6851625941c4",
   "metadata": {
    "execution": {
     "iopub.execute_input": "2022-09-30T04:46:16.803465Z",
     "iopub.status.busy": "2022-09-30T04:46:16.803084Z",
     "iopub.status.idle": "2022-09-30T04:46:17.011077Z",
     "shell.execute_reply": "2022-09-30T04:46:17.010559Z",
     "shell.execute_reply.started": "2022-09-30T04:46:16.803435Z"
    },
    "pycharm": {
     "name": "#%%\n"
    },
    "tags": []
   },
   "outputs": [
    {
     "name": "stdout",
     "output_type": "stream",
     "text": [
      "{}\n"
     ]
    }
   ],
   "source": [
    "from pydatafabric.ye import send_email\n",
    "\n",
    "# 파일 미 첨부의 경우\n",
    "res = send_email(subject=\"Test mail\",\n",
    "    text='This is Contents.',\n",
    "    send_from='aiweaver@emart.com',\n",
    "    send_to=\"hwhong@emart.com\")"
   ]
  },
  {
   "cell_type": "code",
   "execution_count": 9,
   "id": "389e51df-03af-4ab7-b153-42667ed7ab20",
   "metadata": {
    "execution": {
     "iopub.execute_input": "2022-09-30T06:00:40.472868Z",
     "iopub.status.busy": "2022-09-30T06:00:40.472346Z",
     "iopub.status.idle": "2022-09-30T06:00:40.736761Z",
     "shell.execute_reply": "2022-09-30T06:00:40.736200Z",
     "shell.execute_reply.started": "2022-09-30T06:00:40.472826Z"
    },
    "pycharm": {
     "name": "#%%\n"
    },
    "tags": []
   },
   "outputs": [
    {
     "name": "stdout",
     "output_type": "stream",
     "text": [
      "{}\n"
     ]
    }
   ],
   "source": [
    "# 파일 첨부의 경우\n",
    "file = \"./luckymail.txt\"\n",
    "\n",
    "with open(file, 'rb') as fd:\n",
    "    res = send_email(subject=\"Test mail\",\n",
    "        text='This is Contents.',\n",
    "        send_from='aiweaver@emart.com',\n",
    "        send_to=\"hwhong@emart.com\",\n",
    "        attachment=fd.read())"
   ]
  }
 ],
 "metadata": {
  "kernelspec": {
   "display_name": "Python 3 (ipykernel)",
   "language": "python",
   "name": "python3"
  },
  "language_info": {
   "codemirror_mode": {
    "name": "ipython",
    "version": 3
   },
   "file_extension": ".py",
   "mimetype": "text/x-python",
   "name": "python",
   "nbconvert_exporter": "python",
   "pygments_lexer": "ipython3",
   "version": "3.8.13"
  }
 },
 "nbformat": 4,
 "nbformat_minor": 5
}
