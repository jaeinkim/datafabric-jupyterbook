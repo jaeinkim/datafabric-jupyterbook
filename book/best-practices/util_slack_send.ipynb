{
 "cells": [
  {
   "cell_type": "markdown",
   "metadata": {},
   "source": [
    "## bq 테이블 데이터를 Slack으로 알림 보내기"
   ]
  },
  {
   "cell_type": "code",
   "execution_count": 2,
   "metadata": {
    "execution": {
     "iopub.execute_input": "2022-09-30T05:26:03.707772Z",
     "iopub.status.busy": "2022-09-30T05:26:03.707353Z",
     "iopub.status.idle": "2022-09-30T05:26:11.973607Z",
     "shell.execute_reply": "2022-09-30T05:26:11.972901Z",
     "shell.execute_reply.started": "2022-09-30T05:26:03.707749Z"
    },
    "tags": []
   },
   "outputs": [
    {
     "name": "stderr",
     "output_type": "stream",
     "text": [
      "Setting default log level to \"WARN\".\n",
      "To adjust logging level use sc.setLogLevel(newLevel). For SparkR, use setLogLevel(newLevel).\n",
      "22/09/30 14:26:06 INFO org.apache.spark.SparkEnv: Registering MapOutputTracker\n",
      "22/09/30 14:26:06 INFO org.apache.spark.SparkEnv: Registering BlockManagerMaster\n",
      "22/09/30 14:26:07 INFO org.apache.spark.SparkEnv: Registering BlockManagerMasterHeartbeat\n",
      "22/09/30 14:26:07 INFO org.apache.spark.SparkEnv: Registering OutputCommitCoordinator\n"
     ]
    }
   ],
   "source": [
    "from pydatafabric.gcp import bq_to_df, get_spark\n",
    "\n",
    "spark = get_spark()"
   ]
  },
  {
   "cell_type": "code",
   "execution_count": 19,
   "metadata": {
    "execution": {
     "iopub.execute_input": "2022-09-30T05:48:38.068392Z",
     "iopub.status.busy": "2022-09-30T05:48:38.067774Z",
     "iopub.status.idle": "2022-09-30T05:48:43.607971Z",
     "shell.execute_reply": "2022-09-30T05:48:43.607376Z",
     "shell.execute_reply.started": "2022-09-30T05:48:38.068364Z"
    },
    "tags": []
   },
   "outputs": [],
   "source": [
    "pd_df = bq_to_df(\"\"\"\n",
    "select *\n",
    "from `emart-datafabric.common_dev.dfm_sample_eapp_review_keywords`\n",
    "limit 5\n",
    "\"\"\",spark_session=spark)\n",
    "\n",
    "pd_df = pd_df.toPandas().to_json(force_ascii=False, orient = 'records', indent=4)"
   ]
  },
  {
   "cell_type": "code",
   "execution_count": 20,
   "metadata": {
    "execution": {
     "iopub.execute_input": "2022-09-30T05:48:46.406590Z",
     "iopub.status.busy": "2022-09-30T05:48:46.406207Z",
     "iopub.status.idle": "2022-09-30T05:48:46.410199Z",
     "shell.execute_reply": "2022-09-30T05:48:46.409589Z",
     "shell.execute_reply.started": "2022-09-30T05:48:46.406563Z"
    },
    "tags": []
   },
   "outputs": [
    {
     "name": "stdout",
     "output_type": "stream",
     "text": [
      "[\n",
      "    {\n",
      "        \"prdt_cd\":\"1102150000000\",\n",
      "        \"store_cd\":\"1018\",\n",
      "        \"order_date\":\"20220102\",\n",
      "        \"sku_name\":\"(후레쉬팩)미국냉장초이스척아이로스트\",\n",
      "        \"link_sku_name\":\"(후레쉬팩)미국산CH갈비살\",\n",
      "        \"comment\":\"기름기가 많아서 \\n먹기 불편했음\",\n",
      "        \"score_text\":\"Bad\",\n",
      "        \"keywords\":\"기름기 많아서 먹기 불편했음\"\n",
      "    },\n",
      "    {\n",
      "        \"prdt_cd\":\"1102150000000\",\n",
      "        \"store_cd\":\"1048\",\n",
      "        \"order_date\":\"20220101\",\n",
      "        \"sku_name\":\"(후레쉬팩)미국냉장초이스척아이로스트\",\n",
      "        \"link_sku_name\":\"(후레쉬팩)미국산CH갈비살\",\n",
      "        \"comment\":\"고기가 상태가 별로였어요\\n빨리 상한 고기처럼 갈변되었어요\",\n",
      "        \"score_text\":\"Bad\",\n",
      "        \"keywords\":\"고기 상태 별로 상한 고기 변\"\n",
      "    },\n",
      "    {\n",
      "        \"prdt_cd\":\"1102150000000\",\n",
      "        \"store_cd\":\"1108\",\n",
      "        \"order_date\":\"20220101\",\n",
      "        \"sku_name\":\"(후레쉬팩)미국냉장초이스척아이로스트\",\n",
      "        \"link_sku_name\":\"(후레쉬팩)미국산CH갈비살\",\n",
      "        \"comment\":\"세일전주에 샀을때 손질해보니 기름과 근육이 고기대비 조금 나와서 기분좋게 먹어서 세일할때 기대하고 샀는데  손질하고 보니 먹을수있는 고기는 절반밖에 안되고 기름등이라 실망했음.\",\n",
      "        \"score_text\":\"Bad\",\n",
      "        \"keywords\":\"전주 때 손질 기름 근육 고기 대비 조금 기분 좋게 일 때 기대하고 손질 고기 절반 안되고 기름 등 실망했음\"\n",
      "    },\n",
      "    {\n",
      "        \"prdt_cd\":\"1102150000000\",\n",
      "        \"store_cd\":\"1108\",\n",
      "        \"order_date\":\"20220101\",\n",
      "        \"sku_name\":\"(후레쉬팩)미국냉장초이스척아이로스트\",\n",
      "        \"link_sku_name\":\"(후레쉬팩)미국산CH갈비살\",\n",
      "        \"comment\":\"기름이 너무너무 많아요.버린 기름 무게가 만만치 않네요 \",\n",
      "        \"score_text\":\"Bad\",\n",
      "        \"keywords\":\"기름 많아요 기름 무게 만\"\n",
      "    },\n",
      "    {\n",
      "        \"prdt_cd\":\"1102150000000\",\n",
      "        \"store_cd\":\"1150\",\n",
      "        \"order_date\":\"20220101\",\n",
      "        \"sku_name\":\"(후레쉬팩)미국냉장초이스척아이로스트\",\n",
      "        \"link_sku_name\":\"(후레쉬팩)미국산CH갈비살\",\n",
      "        \"comment\":\"오~~\\n요건 거격이 저렴해도 앞으로 안 살듯…\\n기름이 너무 많고 떼어 내기도 위치가 어려웠어요\\n거의 1\\/3 버렸어요\\n안타까웠어요\",\n",
      "        \"score_text\":\"Bad\",\n",
      "        \"keywords\":\"오 요건 거격 저렴해도 앞 안 기름 많고 내기 위치 어려웠어요 거의 안타까웠어요\"\n",
      "    }\n",
      "]\n"
     ]
    }
   ],
   "source": [
    "print(pd_df)"
   ]
  },
  {
   "cell_type": "code",
   "execution_count": 21,
   "metadata": {
    "collapsed": false,
    "execution": {
     "iopub.execute_input": "2022-09-30T05:48:54.585657Z",
     "iopub.status.busy": "2022-09-30T05:48:54.585268Z",
     "iopub.status.idle": "2022-09-30T05:48:54.987638Z",
     "shell.execute_reply": "2022-09-30T05:48:54.987050Z",
     "shell.execute_reply.started": "2022-09-30T05:48:54.585632Z"
    },
    "jupyter": {
     "outputs_hidden": false
    },
    "pycharm": {
     "name": "#%%\n"
    },
    "tags": []
   },
   "outputs": [],
   "source": [
    "import pandas as pd\n",
    "from pydatafabric.ye import slack_send\n",
    "\n",
    "text = '슬랙 전송 테스트'\n",
    "username = '담당자:DPC'\n",
    "channel = '#test_notebook'\n",
    "\n",
    "slack_send(text=pd_df,\n",
    "           username=username,\n",
    "           channel=channel,\n",
    "           icon_emoji=\":large_blue_circle:\",\n",
    "          )"
   ]
  },
  {
   "cell_type": "code",
   "execution_count": 22,
   "metadata": {
    "execution": {
     "iopub.execute_input": "2022-09-30T05:50:24.881166Z",
     "iopub.status.busy": "2022-09-30T05:50:24.880679Z",
     "iopub.status.idle": "2022-09-30T05:50:25.817425Z",
     "shell.execute_reply": "2022-09-30T05:50:25.816794Z",
     "shell.execute_reply.started": "2022-09-30T05:50:24.881137Z"
    }
   },
   "outputs": [],
   "source": [
    "spark.stop()"
   ]
  },
  {
   "cell_type": "code",
   "execution_count": null,
   "metadata": {},
   "outputs": [],
   "source": []
  }
 ],
 "metadata": {
  "kernelspec": {
   "display_name": "Python 3 (ipykernel)",
   "language": "python",
   "name": "python3"
  },
  "language_info": {
   "codemirror_mode": {
    "name": "ipython",
    "version": 3
   },
   "file_extension": ".py",
   "mimetype": "text/x-python",
   "name": "python",
   "nbconvert_exporter": "python",
   "pygments_lexer": "ipython3",
   "version": "3.8.13"
  }
 },
 "nbformat": 4,
 "nbformat_minor": 4
}
