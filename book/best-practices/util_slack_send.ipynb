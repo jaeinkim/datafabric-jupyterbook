{
 "cells": [
  {
   "cell_type": "code",
   "execution_count": null,
   "outputs": [],
   "source": [
    "import pandas as pd\n",
    "from pydatafabric.ye import slack_send\n",
    "\n",
    "text = '모델링 성공'\n",
    "username = '담당자:이형문'\n",
    "df = pd.DataFrame({'value':[model_auprc,model_auroc,model_logloss], 'dimension':['model_auprc','model_auroc','model_logloss']})\n",
    "dag_name = 'bq_churnout'\n",
    "\n",
    "channel = '#ai-monitoring'\n",
    "slack_send(text=text,\n",
    "           username=username,\n",
    "           channel=channel,\n",
    "           icon_emoji=\":large_blue_circle:\",\n",
    "          )\n",
    "slack_send(text=df,\n",
    "           username=username,\n",
    "           channel=channel,\n",
    "           icon_emoji=\":large_blue_circle:\",\n",
    "           dataframe=True)"
   ],
   "metadata": {
    "collapsed": false,
    "pycharm": {
     "name": "#%%\n"
    }
   }
  }
 ],
 "metadata": {
  "kernelspec": {
   "display_name": "Python 3",
   "language": "python",
   "name": "python3"
  },
  "language_info": {
   "codemirror_mode": {
    "name": "ipython",
    "version": 2
   },
   "file_extension": ".py",
   "mimetype": "text/x-python",
   "name": "python",
   "nbconvert_exporter": "python",
   "pygments_lexer": "ipython2",
   "version": "2.7.6"
  }
 },
 "nbformat": 4,
 "nbformat_minor": 0
}