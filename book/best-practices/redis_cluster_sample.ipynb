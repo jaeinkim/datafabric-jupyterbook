{
 "cells": [
  {
   "cell_type": "markdown",
   "id": "619f1600-7c55-4e50-ad89-d86295152b7d",
   "metadata": {},
   "source": [
    "### 의존 파이썬 패키지"
   ]
  },
  {
   "cell_type": "code",
   "execution_count": 1,
   "id": "5a73322e-a850-48e1-9ceb-3ea4d5ce50bd",
   "metadata": {
    "execution": {
     "iopub.execute_input": "2022-10-04T07:15:19.160594Z",
     "iopub.status.busy": "2022-10-04T07:15:19.160135Z",
     "iopub.status.idle": "2022-10-04T07:15:21.528326Z",
     "shell.execute_reply": "2022-10-04T07:15:21.527602Z",
     "shell.execute_reply.started": "2022-10-04T07:15:19.160511Z"
    },
    "tags": []
   },
   "outputs": [
    {
     "name": "stdout",
     "output_type": "stream",
     "text": [
      "Defaulting to user installation because normal site-packages is not writeable\n",
      "Requirement already satisfied: crc16 in /home/x223726/.local/lib/python3.8/site-packages (0.1.1)\n",
      "Requirement already satisfied: redis-py-cluster in /home/x223726/.local/lib/python3.8/site-packages (2.1.3)\n",
      "Requirement already satisfied: redis<4.0.0,>=3.0.0 in /home/x223726/.local/lib/python3.8/site-packages (from redis-py-cluster) (3.5.3)\n",
      "\n",
      "\u001b[1m[\u001b[0m\u001b[34;49mnotice\u001b[0m\u001b[1;39;49m]\u001b[0m\u001b[39;49m A new release of pip available: \u001b[0m\u001b[31;49m22.2\u001b[0m\u001b[39;49m -> \u001b[0m\u001b[32;49m22.2.2\u001b[0m\n",
      "\u001b[1m[\u001b[0m\u001b[34;49mnotice\u001b[0m\u001b[1;39;49m]\u001b[0m\u001b[39;49m To update, run: \u001b[0m\u001b[32;49mpip install --upgrade pip\u001b[0m\n"
     ]
    }
   ],
   "source": [
    "!pip install crc16 redis-py-cluster"
   ]
  },
  {
   "cell_type": "code",
   "execution_count": 10,
   "id": "603f3266-c923-4185-be0f-8bd6d37a5f83",
   "metadata": {
    "execution": {
     "iopub.execute_input": "2022-10-04T07:19:05.767032Z",
     "iopub.status.busy": "2022-10-04T07:19:05.766646Z",
     "iopub.status.idle": "2022-10-04T07:19:05.770617Z",
     "shell.execute_reply": "2022-10-04T07:19:05.770062Z",
     "shell.execute_reply.started": "2022-10-04T07:19:05.767008Z"
    },
    "tags": []
   },
   "outputs": [],
   "source": [
    "import random\n",
    "from rediscluster import RedisCluster\n",
    "import warnings\n",
    "import time\n",
    "import crc16\n",
    "\n",
    "warnings.filterwarnings(\"ignore\")"
   ]
  },
  {
   "cell_type": "code",
   "execution_count": 11,
   "id": "b85a959f-2cae-4daa-aab9-e146991079c6",
   "metadata": {
    "execution": {
     "iopub.execute_input": "2022-10-04T07:19:06.448779Z",
     "iopub.status.busy": "2022-10-04T07:19:06.448383Z",
     "iopub.status.idle": "2022-10-04T07:19:06.451745Z",
     "shell.execute_reply": "2022-10-04T07:19:06.451250Z",
     "shell.execute_reply.started": "2022-10-04T07:19:06.448757Z"
    },
    "tags": []
   },
   "outputs": [],
   "source": [
    "redis_host = \"redis-master.redis-farm.svc.cluster.local\""
   ]
  },
  {
   "cell_type": "code",
   "execution_count": 12,
   "id": "c1a36e46-0398-43dd-a503-389fb0edae5f",
   "metadata": {
    "execution": {
     "iopub.execute_input": "2022-10-04T07:19:06.994600Z",
     "iopub.status.busy": "2022-10-04T07:19:06.994281Z",
     "iopub.status.idle": "2022-10-04T07:19:07.075404Z",
     "shell.execute_reply": "2022-10-04T07:19:07.074687Z",
     "shell.execute_reply.started": "2022-10-04T07:19:06.994580Z"
    },
    "tags": []
   },
   "outputs": [
    {
     "ename": "RedisClusterException",
     "evalue": "ERROR sending 'cluster slots' command to redis server: {'host': 'redis-master.redis-farm.svc.cluster.local', 'port': '6379'}",
     "output_type": "error",
     "traceback": [
      "\u001b[0;31m---------------------------------------------------------------------------\u001b[0m",
      "\u001b[0;31mResponseError\u001b[0m                             Traceback (most recent call last)",
      "File \u001b[0;32m~/.local/lib/python3.8/site-packages/rediscluster/nodemanager.py:226\u001b[0m, in \u001b[0;36mNodeManager.initialize\u001b[0;34m(self)\u001b[0m\n\u001b[1;32m    225\u001b[0m r \u001b[38;5;241m=\u001b[39m \u001b[38;5;28mself\u001b[39m\u001b[38;5;241m.\u001b[39mget_redis_link(host\u001b[38;5;241m=\u001b[39mnode[\u001b[38;5;124m\"\u001b[39m\u001b[38;5;124mhost\u001b[39m\u001b[38;5;124m\"\u001b[39m], port\u001b[38;5;241m=\u001b[39mnode[\u001b[38;5;124m\"\u001b[39m\u001b[38;5;124mport\u001b[39m\u001b[38;5;124m\"\u001b[39m], decode_responses\u001b[38;5;241m=\u001b[39m\u001b[38;5;28;01mTrue\u001b[39;00m)\n\u001b[0;32m--> 226\u001b[0m cluster_slots \u001b[38;5;241m=\u001b[39m \u001b[43mr\u001b[49m\u001b[38;5;241;43m.\u001b[39;49m\u001b[43mexecute_command\u001b[49m\u001b[43m(\u001b[49m\u001b[38;5;124;43m\"\u001b[39;49m\u001b[38;5;124;43mcluster\u001b[39;49m\u001b[38;5;124;43m\"\u001b[39;49m\u001b[43m,\u001b[49m\u001b[43m \u001b[49m\u001b[38;5;124;43m\"\u001b[39;49m\u001b[38;5;124;43mslots\u001b[39;49m\u001b[38;5;124;43m\"\u001b[39;49m\u001b[43m)\u001b[49m\n\u001b[1;32m    227\u001b[0m startup_nodes_reachable \u001b[38;5;241m=\u001b[39m \u001b[38;5;28;01mTrue\u001b[39;00m\n",
      "File \u001b[0;32m~/.local/lib/python3.8/site-packages/redis/client.py:901\u001b[0m, in \u001b[0;36mRedis.execute_command\u001b[0;34m(self, *args, **options)\u001b[0m\n\u001b[1;32m    900\u001b[0m     conn\u001b[38;5;241m.\u001b[39msend_command(\u001b[38;5;241m*\u001b[39margs)\n\u001b[0;32m--> 901\u001b[0m     \u001b[38;5;28;01mreturn\u001b[39;00m \u001b[38;5;28;43mself\u001b[39;49m\u001b[38;5;241;43m.\u001b[39;49m\u001b[43mparse_response\u001b[49m\u001b[43m(\u001b[49m\u001b[43mconn\u001b[49m\u001b[43m,\u001b[49m\u001b[43m \u001b[49m\u001b[43mcommand_name\u001b[49m\u001b[43m,\u001b[49m\u001b[43m \u001b[49m\u001b[38;5;241;43m*\u001b[39;49m\u001b[38;5;241;43m*\u001b[39;49m\u001b[43moptions\u001b[49m\u001b[43m)\u001b[49m\n\u001b[1;32m    902\u001b[0m \u001b[38;5;28;01mexcept\u001b[39;00m (\u001b[38;5;167;01mConnectionError\u001b[39;00m, \u001b[38;5;167;01mTimeoutError\u001b[39;00m) \u001b[38;5;28;01mas\u001b[39;00m e:\n",
      "File \u001b[0;32m~/.local/lib/python3.8/site-packages/redis/client.py:915\u001b[0m, in \u001b[0;36mRedis.parse_response\u001b[0;34m(self, connection, command_name, **options)\u001b[0m\n\u001b[1;32m    914\u001b[0m \u001b[38;5;28;01mtry\u001b[39;00m:\n\u001b[0;32m--> 915\u001b[0m     response \u001b[38;5;241m=\u001b[39m \u001b[43mconnection\u001b[49m\u001b[38;5;241;43m.\u001b[39;49m\u001b[43mread_response\u001b[49m\u001b[43m(\u001b[49m\u001b[43m)\u001b[49m\n\u001b[1;32m    916\u001b[0m \u001b[38;5;28;01mexcept\u001b[39;00m ResponseError:\n",
      "File \u001b[0;32m~/.local/lib/python3.8/site-packages/redis/connection.py:756\u001b[0m, in \u001b[0;36mConnection.read_response\u001b[0;34m(self)\u001b[0m\n\u001b[1;32m    755\u001b[0m \u001b[38;5;28;01mif\u001b[39;00m \u001b[38;5;28misinstance\u001b[39m(response, ResponseError):\n\u001b[0;32m--> 756\u001b[0m     \u001b[38;5;28;01mraise\u001b[39;00m response\n\u001b[1;32m    757\u001b[0m \u001b[38;5;28;01mreturn\u001b[39;00m response\n",
      "\u001b[0;31mResponseError\u001b[0m: This instance has cluster support disabled",
      "\nDuring handling of the above exception, another exception occurred:\n",
      "\u001b[0;31mRedisClusterException\u001b[0m                     Traceback (most recent call last)",
      "Cell \u001b[0;32mIn [12], line 4\u001b[0m\n\u001b[1;32m      1\u001b[0m \u001b[38;5;28;01mimport\u001b[39;00m \u001b[38;5;21;01mrediscluster\u001b[39;00m\n\u001b[1;32m      3\u001b[0m startup_nodes \u001b[38;5;241m=\u001b[39m [{ \u001b[38;5;124m\"\u001b[39m\u001b[38;5;124mhost\u001b[39m\u001b[38;5;124m\"\u001b[39m: redis_host, \u001b[38;5;124m\"\u001b[39m\u001b[38;5;124mport\u001b[39m\u001b[38;5;124m\"\u001b[39m: \u001b[38;5;124m\"\u001b[39m\u001b[38;5;124m6379\u001b[39m\u001b[38;5;124m\"\u001b[39m }]\n\u001b[0;32m----> 4\u001b[0m client \u001b[38;5;241m=\u001b[39m rediscluster\u001b[38;5;241m.\u001b[39mRedisCluster(startup_nodes\u001b[38;5;241m=\u001b[39m[\u001b[38;5;28mdict\u001b[39m(host\u001b[38;5;241m=\u001b[39mredis_host, port\u001b[38;5;241m=\u001b[39m\u001b[38;5;124m\"\u001b[39m\u001b[38;5;124m6379\u001b[39m\u001b[38;5;124m\"\u001b[39m)], decode_responses\u001b[38;5;241m=\u001b[39m\u001b[38;5;28;01mTrue\u001b[39;00m, skip_full_coverage_check\u001b[38;5;241m=\u001b[39m\u001b[38;5;28;01mTrue\u001b[39;00m)\n\u001b[1;32m      6\u001b[0m \u001b[38;5;66;03m# Retrieve the slot mapping (equivalent of \"CLUSTER SLOTS\")\u001b[39;00m\n\u001b[1;32m      7\u001b[0m \u001b[38;5;28mprint\u001b[39m(\u001b[38;5;124m\"\u001b[39m\u001b[38;5;124mThis is the cluster slots information\u001b[39m\u001b[38;5;124m\"\u001b[39m)\n",
      "File \u001b[0;32m~/.local/lib/python3.8/site-packages/rediscluster/client.py:368\u001b[0m, in \u001b[0;36mRedisCluster.__init__\u001b[0;34m(self, host, port, startup_nodes, max_connections, max_connections_per_node, init_slot_cache, readonly_mode, reinitialize_steps, skip_full_coverage_check, nodemanager_follow_cluster, connection_class, read_from_replicas, cluster_down_retry_attempts, host_port_remap, **kwargs)\u001b[0m\n\u001b[1;32m    363\u001b[0m     \u001b[38;5;66;03m# If connection pool fails to initialize, parent class (Redis) __del__\u001b[39;00m\n\u001b[1;32m    364\u001b[0m     \u001b[38;5;66;03m# will try to access self.connection before it's defined\u001b[39;00m\n\u001b[1;32m    365\u001b[0m     \u001b[38;5;66;03m# throwing an AttributeError.\u001b[39;00m\n\u001b[1;32m    366\u001b[0m     \u001b[38;5;28mself\u001b[39m\u001b[38;5;241m.\u001b[39mconnection \u001b[38;5;241m=\u001b[39m \u001b[38;5;28;01mNone\u001b[39;00m\n\u001b[0;32m--> 368\u001b[0m     pool \u001b[38;5;241m=\u001b[39m \u001b[43mconnection_pool_cls\u001b[49m\u001b[43m(\u001b[49m\n\u001b[1;32m    369\u001b[0m \u001b[43m        \u001b[49m\u001b[43mstartup_nodes\u001b[49m\u001b[38;5;241;43m=\u001b[39;49m\u001b[43mstartup_nodes\u001b[49m\u001b[43m,\u001b[49m\n\u001b[1;32m    370\u001b[0m \u001b[43m        \u001b[49m\u001b[43minit_slot_cache\u001b[49m\u001b[38;5;241;43m=\u001b[39;49m\u001b[43minit_slot_cache\u001b[49m\u001b[43m,\u001b[49m\n\u001b[1;32m    371\u001b[0m \u001b[43m        \u001b[49m\u001b[43mmax_connections\u001b[49m\u001b[38;5;241;43m=\u001b[39;49m\u001b[43mmax_connections\u001b[49m\u001b[43m,\u001b[49m\n\u001b[1;32m    372\u001b[0m \u001b[43m        \u001b[49m\u001b[43mreinitialize_steps\u001b[49m\u001b[38;5;241;43m=\u001b[39;49m\u001b[43mreinitialize_steps\u001b[49m\u001b[43m,\u001b[49m\n\u001b[1;32m    373\u001b[0m \u001b[43m        \u001b[49m\u001b[43mmax_connections_per_node\u001b[49m\u001b[38;5;241;43m=\u001b[39;49m\u001b[43mmax_connections_per_node\u001b[49m\u001b[43m,\u001b[49m\n\u001b[1;32m    374\u001b[0m \u001b[43m        \u001b[49m\u001b[43mskip_full_coverage_check\u001b[49m\u001b[38;5;241;43m=\u001b[39;49m\u001b[43mskip_full_coverage_check\u001b[49m\u001b[43m,\u001b[49m\n\u001b[1;32m    375\u001b[0m \u001b[43m        \u001b[49m\u001b[43mnodemanager_follow_cluster\u001b[49m\u001b[38;5;241;43m=\u001b[39;49m\u001b[43mnodemanager_follow_cluster\u001b[49m\u001b[43m,\u001b[49m\n\u001b[1;32m    376\u001b[0m \u001b[43m        \u001b[49m\u001b[43mconnection_class\u001b[49m\u001b[38;5;241;43m=\u001b[39;49m\u001b[43mconnection_class\u001b[49m\u001b[43m,\u001b[49m\n\u001b[1;32m    377\u001b[0m \u001b[43m        \u001b[49m\u001b[43mhost_port_remap\u001b[49m\u001b[38;5;241;43m=\u001b[39;49m\u001b[43mhost_port_remap\u001b[49m\u001b[43m,\u001b[49m\n\u001b[1;32m    378\u001b[0m \u001b[43m        \u001b[49m\u001b[38;5;241;43m*\u001b[39;49m\u001b[38;5;241;43m*\u001b[39;49m\u001b[43mkwargs\u001b[49m\n\u001b[1;32m    379\u001b[0m \u001b[43m    \u001b[49m\u001b[43m)\u001b[49m\n\u001b[1;32m    381\u001b[0m \u001b[38;5;28msuper\u001b[39m(RedisCluster, \u001b[38;5;28mself\u001b[39m)\u001b[38;5;241m.\u001b[39m\u001b[38;5;21m__init__\u001b[39m(connection_pool\u001b[38;5;241m=\u001b[39mpool, \u001b[38;5;241m*\u001b[39m\u001b[38;5;241m*\u001b[39mkwargs)\n\u001b[1;32m    383\u001b[0m \u001b[38;5;28mself\u001b[39m\u001b[38;5;241m.\u001b[39mrefresh_table_asap \u001b[38;5;241m=\u001b[39m \u001b[38;5;28;01mFalse\u001b[39;00m\n",
      "File \u001b[0;32m~/.local/lib/python3.8/site-packages/rediscluster/connection.py:160\u001b[0m, in \u001b[0;36mClusterConnectionPool.__init__\u001b[0;34m(self, startup_nodes, init_slot_cache, connection_class, max_connections, max_connections_per_node, reinitialize_steps, skip_full_coverage_check, nodemanager_follow_cluster, host_port_remap, **connection_kwargs)\u001b[0m\n\u001b[1;32m    149\u001b[0m \u001b[38;5;28mself\u001b[39m\u001b[38;5;241m.\u001b[39mnodes \u001b[38;5;241m=\u001b[39m NodeManager(\n\u001b[1;32m    150\u001b[0m     startup_nodes,\n\u001b[1;32m    151\u001b[0m     reinitialize_steps\u001b[38;5;241m=\u001b[39mreinitialize_steps,\n\u001b[0;32m   (...)\u001b[0m\n\u001b[1;32m    156\u001b[0m     \u001b[38;5;241m*\u001b[39m\u001b[38;5;241m*\u001b[39mconnection_kwargs\n\u001b[1;32m    157\u001b[0m )\n\u001b[1;32m    159\u001b[0m \u001b[38;5;28;01mif\u001b[39;00m init_slot_cache:\n\u001b[0;32m--> 160\u001b[0m     \u001b[38;5;28;43mself\u001b[39;49m\u001b[38;5;241;43m.\u001b[39;49m\u001b[43mnodes\u001b[49m\u001b[38;5;241;43m.\u001b[39;49m\u001b[43minitialize\u001b[49m\u001b[43m(\u001b[49m\u001b[43m)\u001b[49m\n\u001b[1;32m    162\u001b[0m \u001b[38;5;28mself\u001b[39m\u001b[38;5;241m.\u001b[39mconnections \u001b[38;5;241m=\u001b[39m {}\n\u001b[1;32m    163\u001b[0m \u001b[38;5;28mself\u001b[39m\u001b[38;5;241m.\u001b[39mconnection_kwargs \u001b[38;5;241m=\u001b[39m connection_kwargs\n",
      "File \u001b[0;32m~/.local/lib/python3.8/site-packages/rediscluster/nodemanager.py:238\u001b[0m, in \u001b[0;36mNodeManager.initialize\u001b[0;34m(self)\u001b[0m\n\u001b[1;32m    236\u001b[0m         \u001b[38;5;28;01mcontinue\u001b[39;00m\n\u001b[1;32m    237\u001b[0m     \u001b[38;5;28;01melse\u001b[39;00m:\n\u001b[0;32m--> 238\u001b[0m         \u001b[38;5;28;01mraise\u001b[39;00m RedisClusterException(\u001b[38;5;124m\"\u001b[39m\u001b[38;5;124mERROR sending \u001b[39m\u001b[38;5;124m'\u001b[39m\u001b[38;5;124mcluster slots\u001b[39m\u001b[38;5;124m'\u001b[39m\u001b[38;5;124m command to redis server: \u001b[39m\u001b[38;5;132;01m{0}\u001b[39;00m\u001b[38;5;124m\"\u001b[39m\u001b[38;5;241m.\u001b[39mformat(node))\n\u001b[1;32m    239\u001b[0m \u001b[38;5;28;01mexcept\u001b[39;00m \u001b[38;5;167;01mException\u001b[39;00m:\n\u001b[1;32m    240\u001b[0m     \u001b[38;5;28;01mraise\u001b[39;00m RedisClusterException(\u001b[38;5;124m\"\u001b[39m\u001b[38;5;124mERROR sending \u001b[39m\u001b[38;5;124m'\u001b[39m\u001b[38;5;124mcluster slots\u001b[39m\u001b[38;5;124m'\u001b[39m\u001b[38;5;124m command to redis server: \u001b[39m\u001b[38;5;132;01m{0}\u001b[39;00m\u001b[38;5;124m\"\u001b[39m\u001b[38;5;241m.\u001b[39mformat(node))\n",
      "\u001b[0;31mRedisClusterException\u001b[0m: ERROR sending 'cluster slots' command to redis server: {'host': 'redis-master.redis-farm.svc.cluster.local', 'port': '6379'}"
     ]
    }
   ],
   "source": [
    "import rediscluster\n",
    "  \n",
    "startup_nodes = [{ \"host\": redis_host, \"port\": \"6379\" }]\n",
    "client = rediscluster.RedisCluster(startup_nodes=[dict(host=redis_host, port=\"6379\")], decode_responses=True, skip_full_coverage_check=True)\n",
    "\n",
    "# Retrieve the slot mapping (equivalent of \"CLUSTER SLOTS\")\n",
    "print(\"This is the cluster slots information\")\n",
    "print(client.cluster('slots'))\n",
    "\n",
    "# Calculate hash slot for the key 'foo' and TechTrip\n",
    "print(\"Check the slot numbers of two data\")\n",
    "print(client.cluster('keyslot', 'foo'))\n",
    "print(client.cluster('keyslot', 'TechTrip'))\n",
    "\n",
    "# We can set a key without regard for which shard it will be stored on\n",
    "# as the Redis client SDK will manage this mapping for us.\n",
    "print(\"Set Redis data as the Key is foo, its value is bar\")\n",
    "client.set('foo', 'bar')\n",
    "print(client.get('foo'))"
   ]
  },
  {
   "cell_type": "code",
   "execution_count": 10,
   "id": "607ace65-fd82-4bc3-a326-d55710c2a319",
   "metadata": {
    "execution": {
     "iopub.execute_input": "2022-09-30T06:36:23.777761Z",
     "iopub.status.busy": "2022-09-30T06:36:23.777382Z",
     "iopub.status.idle": "2022-09-30T06:36:23.780690Z",
     "shell.execute_reply": "2022-09-30T06:36:23.780170Z",
     "shell.execute_reply.started": "2022-09-30T06:36:23.777736Z"
    },
    "tags": []
   },
   "outputs": [],
   "source": [
    "def now():\n",
    "    return int(time.time() * 1000)"
   ]
  },
  {
   "cell_type": "code",
   "execution_count": null,
   "id": "a8630743-8bfb-47df-b256-fd1a6974a521",
   "metadata": {
    "execution": {
     "iopub.execute_input": "2022-09-30T06:12:54.136355Z",
     "iopub.status.busy": "2022-09-30T06:12:54.135931Z",
     "iopub.status.idle": "2022-09-30T06:12:54.146246Z",
     "shell.execute_reply": "2022-09-30T06:12:54.145714Z",
     "shell.execute_reply.started": "2022-09-30T06:12:54.136324Z"
    },
    "tags": []
   },
   "outputs": [],
   "source": [
    "class InputData:\n",
    "    def __init__(self, ci, latitude, longitude):\n",
    "        self.ci = ci\n",
    "        self.latitude = latitude\n",
    "        self.longitude = longitude\n",
    "        \n",
    "\n",
    "class RedisClient:\n",
    "    \n",
    "    def __init__(self, redis_host, geo_ttl=30):\n",
    "        self.r = RedisCluster(startup_nodes=[{\"host\": redis_host, \"port\": \"6379\"}], decode_responses=True,\n",
    "                                          skip_full_coverage_check=True)\n",
    "        self.p = r.pipeline()\n",
    "        \n",
    "        # ttl 단위 minute\n",
    "        self.geo_ttl = geo_ttl\n",
    "        \n",
    "        # hashtags 값 미리 구하기 (샤드 개수에 따라 달라짐)\n",
    "        nodes = self.r.cluster_nodes()\n",
    "        masters = [node for node in nodes if \"master\" in node[\"flags\"]]\n",
    "        slots_to_master_id = dict()\n",
    "\n",
    "        for m in masters:\n",
    "            for slot in m[\"slots\"]:\n",
    "                slots_to_master_id[slot] = m[\"id\"]\n",
    "\n",
    "        temp_nodes = set()\n",
    "        self.hashtags = []\n",
    "        for i in range(16384):\n",
    "            node_id = slots_to_master_id[\n",
    "                r.cluster_keyslot(\"{\" + str(i) + \"}_last_loc\")\n",
    "            ]\n",
    "            if node_id not in temp_nodes:\n",
    "                temp_nodes.add(node_id)\n",
    "                self.hashtags.append(i)\n",
    "            if len(temp_nodes) == len(masters):\n",
    "                break\n",
    "\n",
    "        self.hashtags_count = len(self.hashtags)\n",
    "\n",
    "        print(\"hashtags : \", self.hashtags)\n",
    "        \n",
    "    \n",
    "        \n",
    "    # insert multi\n",
    "    def insert_multi_data(self, input_data_list):\n",
    "        for input_data in input_data_list:\n",
    "            ts = now()\n",
    "            hashtag = self.hashtags[\n",
    "                (crc16.crc16xmodem(bytes(input_data.ci, \"utf-8\")) % 16384) % self.hashtags_count\n",
    "            ]\n",
    "\n",
    "            # geoadd\n",
    "            geo_key = \"{\" + str(hashtag) + \"}\" + \"_last_loc\"\n",
    "            self.p.geoadd(geo_key, input_data.longitude, input_data.latitude, input_data.ci)\n",
    "\n",
    "            # location series with timestamp\n",
    "            loc_seq_key = f\"location_seq:{input_data.ci}\"\n",
    "            self.p.zadd(loc_seq_key, {f\"{input_data.latitude}:{input_data.longitude}:{ts}\": ts})\n",
    "\n",
    "            # ttl 분이 지난 과거 위치는 삭제\n",
    "            self.p.zremrangebyscore(loc_seq_key, 0, ts - self.geo_ttl*60*1000)\n",
    "\n",
    "        self.p.execute()\n",
    "\n",
    "\n",
    "\n",
    "    # 현재 위치\n",
    "    def current_location(self, ci):\n",
    "        seq_last_ts = self.r.zrange(f\"location_seq:{ci}\", -1, -1)\n",
    "        latitude, longitude, ts = seq_last_ts[0].split(\":\")\n",
    "        return float(latitude), float(longitude), int(ts)\n",
    "\n",
    "\n",
    "\n",
    "    # georadius\n",
    "    def georadiusbymember(self, ci, radius, unit=\"km\"):\n",
    "        latitude, longitude, ts = self.current_location(ci)\n",
    "        cis = []\n",
    "        for k in self.hashtags:\n",
    "            key = \"{\" + str(k) + \"}\" + \"_last_loc\"\n",
    "            cis += [\n",
    "                x for x in self.r.georadius(key, longitude, latitude, radius, unit=unit, withdist=True, withcoord=True)\n",
    "                if x[0] != ci\n",
    "            ]\n",
    "\n",
    "        return cis"
   ]
  },
  {
   "cell_type": "code",
   "execution_count": null,
   "id": "35687e9a-83d0-4daf-8e77-ab9349b03094",
   "metadata": {
    "execution": {
     "iopub.execute_input": "2022-09-30T06:13:16.227624Z",
     "iopub.status.busy": "2022-09-30T06:13:16.227248Z"
    },
    "tags": []
   },
   "outputs": [
    {
     "ename": "RedisClusterException",
     "evalue": "ERROR sending 'cluster slots' command to redis server: {'host': 'redis-master.redis-farm.svc.cluster.local', 'port': '6379'}",
     "output_type": "error",
     "traceback": [
      "\u001b[0;31m---------------------------------------------------------------------------\u001b[0m",
      "\u001b[0;31mResponseError\u001b[0m                             Traceback (most recent call last)",
      "File \u001b[0;32m~/.local/lib/python3.8/site-packages/rediscluster/nodemanager.py:226\u001b[0m, in \u001b[0;36mNodeManager.initialize\u001b[0;34m(self)\u001b[0m\n\u001b[1;32m    225\u001b[0m r \u001b[38;5;241m=\u001b[39m \u001b[38;5;28mself\u001b[39m\u001b[38;5;241m.\u001b[39mget_redis_link(host\u001b[38;5;241m=\u001b[39mnode[\u001b[38;5;124m\"\u001b[39m\u001b[38;5;124mhost\u001b[39m\u001b[38;5;124m\"\u001b[39m], port\u001b[38;5;241m=\u001b[39mnode[\u001b[38;5;124m\"\u001b[39m\u001b[38;5;124mport\u001b[39m\u001b[38;5;124m\"\u001b[39m], decode_responses\u001b[38;5;241m=\u001b[39m\u001b[38;5;28;01mTrue\u001b[39;00m)\n\u001b[0;32m--> 226\u001b[0m cluster_slots \u001b[38;5;241m=\u001b[39m \u001b[43mr\u001b[49m\u001b[38;5;241;43m.\u001b[39;49m\u001b[43mexecute_command\u001b[49m\u001b[43m(\u001b[49m\u001b[38;5;124;43m\"\u001b[39;49m\u001b[38;5;124;43mcluster\u001b[39;49m\u001b[38;5;124;43m\"\u001b[39;49m\u001b[43m,\u001b[49m\u001b[43m \u001b[49m\u001b[38;5;124;43m\"\u001b[39;49m\u001b[38;5;124;43mslots\u001b[39;49m\u001b[38;5;124;43m\"\u001b[39;49m\u001b[43m)\u001b[49m\n\u001b[1;32m    227\u001b[0m startup_nodes_reachable \u001b[38;5;241m=\u001b[39m \u001b[38;5;28;01mTrue\u001b[39;00m\n",
      "File \u001b[0;32m~/.local/lib/python3.8/site-packages/redis/client.py:901\u001b[0m, in \u001b[0;36mRedis.execute_command\u001b[0;34m(self, *args, **options)\u001b[0m\n\u001b[1;32m    900\u001b[0m     conn\u001b[38;5;241m.\u001b[39msend_command(\u001b[38;5;241m*\u001b[39margs)\n\u001b[0;32m--> 901\u001b[0m     \u001b[38;5;28;01mreturn\u001b[39;00m \u001b[38;5;28;43mself\u001b[39;49m\u001b[38;5;241;43m.\u001b[39;49m\u001b[43mparse_response\u001b[49m\u001b[43m(\u001b[49m\u001b[43mconn\u001b[49m\u001b[43m,\u001b[49m\u001b[43m \u001b[49m\u001b[43mcommand_name\u001b[49m\u001b[43m,\u001b[49m\u001b[43m \u001b[49m\u001b[38;5;241;43m*\u001b[39;49m\u001b[38;5;241;43m*\u001b[39;49m\u001b[43moptions\u001b[49m\u001b[43m)\u001b[49m\n\u001b[1;32m    902\u001b[0m \u001b[38;5;28;01mexcept\u001b[39;00m (\u001b[38;5;167;01mConnectionError\u001b[39;00m, \u001b[38;5;167;01mTimeoutError\u001b[39;00m) \u001b[38;5;28;01mas\u001b[39;00m e:\n",
      "File \u001b[0;32m~/.local/lib/python3.8/site-packages/redis/client.py:915\u001b[0m, in \u001b[0;36mRedis.parse_response\u001b[0;34m(self, connection, command_name, **options)\u001b[0m\n\u001b[1;32m    914\u001b[0m \u001b[38;5;28;01mtry\u001b[39;00m:\n\u001b[0;32m--> 915\u001b[0m     response \u001b[38;5;241m=\u001b[39m \u001b[43mconnection\u001b[49m\u001b[38;5;241;43m.\u001b[39;49m\u001b[43mread_response\u001b[49m\u001b[43m(\u001b[49m\u001b[43m)\u001b[49m\n\u001b[1;32m    916\u001b[0m \u001b[38;5;28;01mexcept\u001b[39;00m ResponseError:\n",
      "File \u001b[0;32m~/.local/lib/python3.8/site-packages/redis/connection.py:756\u001b[0m, in \u001b[0;36mConnection.read_response\u001b[0;34m(self)\u001b[0m\n\u001b[1;32m    755\u001b[0m \u001b[38;5;28;01mif\u001b[39;00m \u001b[38;5;28misinstance\u001b[39m(response, ResponseError):\n\u001b[0;32m--> 756\u001b[0m     \u001b[38;5;28;01mraise\u001b[39;00m response\n\u001b[1;32m    757\u001b[0m \u001b[38;5;28;01mreturn\u001b[39;00m response\n",
      "\u001b[0;31mResponseError\u001b[0m: This instance has cluster support disabled",
      "\nDuring handling of the above exception, another exception occurred:\n",
      "\u001b[0;31mRedisClusterException\u001b[0m                     Traceback (most recent call last)",
      "Cell \u001b[0;32mIn [8], line 1\u001b[0m\n\u001b[0;32m----> 1\u001b[0m redis_client \u001b[38;5;241m=\u001b[39m RedisClient(redis_host, geo_ttl\u001b[38;5;241m=\u001b[39m\u001b[38;5;241m30\u001b[39m)\n",
      "Cell \u001b[0;32mIn [7], line 11\u001b[0m, in \u001b[0;36mRedisClient.__init__\u001b[0;34m(self, redis_host, geo_ttl)\u001b[0m\n\u001b[1;32m     10\u001b[0m \u001b[38;5;28;01mdef\u001b[39;00m \u001b[38;5;21m__init__\u001b[39m(\u001b[38;5;28mself\u001b[39m, redis_host, geo_ttl\u001b[38;5;241m=\u001b[39m\u001b[38;5;241m30\u001b[39m):\n\u001b[0;32m---> 11\u001b[0m     \u001b[38;5;28mself\u001b[39m\u001b[38;5;241m.\u001b[39mr \u001b[38;5;241m=\u001b[39m \u001b[43mRedisCluster\u001b[49m\u001b[43m(\u001b[49m\u001b[43mstartup_nodes\u001b[49m\u001b[38;5;241;43m=\u001b[39;49m\u001b[43m[\u001b[49m\u001b[43m{\u001b[49m\u001b[38;5;124;43m\"\u001b[39;49m\u001b[38;5;124;43mhost\u001b[39;49m\u001b[38;5;124;43m\"\u001b[39;49m\u001b[43m:\u001b[49m\u001b[43m \u001b[49m\u001b[43mredis_host\u001b[49m\u001b[43m,\u001b[49m\u001b[43m \u001b[49m\u001b[38;5;124;43m\"\u001b[39;49m\u001b[38;5;124;43mport\u001b[39;49m\u001b[38;5;124;43m\"\u001b[39;49m\u001b[43m:\u001b[49m\u001b[43m \u001b[49m\u001b[38;5;124;43m\"\u001b[39;49m\u001b[38;5;124;43m6379\u001b[39;49m\u001b[38;5;124;43m\"\u001b[39;49m\u001b[43m}\u001b[49m\u001b[43m]\u001b[49m\u001b[43m,\u001b[49m\u001b[43m \u001b[49m\u001b[43mdecode_responses\u001b[49m\u001b[38;5;241;43m=\u001b[39;49m\u001b[38;5;28;43;01mTrue\u001b[39;49;00m\u001b[43m,\u001b[49m\n\u001b[1;32m     12\u001b[0m \u001b[43m                                      \u001b[49m\u001b[43mskip_full_coverage_check\u001b[49m\u001b[38;5;241;43m=\u001b[39;49m\u001b[38;5;28;43;01mTrue\u001b[39;49;00m\u001b[43m)\u001b[49m\n",
      "File \u001b[0;32m~/.local/lib/python3.8/site-packages/rediscluster/client.py:368\u001b[0m, in \u001b[0;36mRedisCluster.__init__\u001b[0;34m(self, host, port, startup_nodes, max_connections, max_connections_per_node, init_slot_cache, readonly_mode, reinitialize_steps, skip_full_coverage_check, nodemanager_follow_cluster, connection_class, read_from_replicas, cluster_down_retry_attempts, host_port_remap, **kwargs)\u001b[0m\n\u001b[1;32m    363\u001b[0m     \u001b[38;5;66;03m# If connection pool fails to initialize, parent class (Redis) __del__\u001b[39;00m\n\u001b[1;32m    364\u001b[0m     \u001b[38;5;66;03m# will try to access self.connection before it's defined\u001b[39;00m\n\u001b[1;32m    365\u001b[0m     \u001b[38;5;66;03m# throwing an AttributeError.\u001b[39;00m\n\u001b[1;32m    366\u001b[0m     \u001b[38;5;28mself\u001b[39m\u001b[38;5;241m.\u001b[39mconnection \u001b[38;5;241m=\u001b[39m \u001b[38;5;28;01mNone\u001b[39;00m\n\u001b[0;32m--> 368\u001b[0m     pool \u001b[38;5;241m=\u001b[39m \u001b[43mconnection_pool_cls\u001b[49m\u001b[43m(\u001b[49m\n\u001b[1;32m    369\u001b[0m \u001b[43m        \u001b[49m\u001b[43mstartup_nodes\u001b[49m\u001b[38;5;241;43m=\u001b[39;49m\u001b[43mstartup_nodes\u001b[49m\u001b[43m,\u001b[49m\n\u001b[1;32m    370\u001b[0m \u001b[43m        \u001b[49m\u001b[43minit_slot_cache\u001b[49m\u001b[38;5;241;43m=\u001b[39;49m\u001b[43minit_slot_cache\u001b[49m\u001b[43m,\u001b[49m\n\u001b[1;32m    371\u001b[0m \u001b[43m        \u001b[49m\u001b[43mmax_connections\u001b[49m\u001b[38;5;241;43m=\u001b[39;49m\u001b[43mmax_connections\u001b[49m\u001b[43m,\u001b[49m\n\u001b[1;32m    372\u001b[0m \u001b[43m        \u001b[49m\u001b[43mreinitialize_steps\u001b[49m\u001b[38;5;241;43m=\u001b[39;49m\u001b[43mreinitialize_steps\u001b[49m\u001b[43m,\u001b[49m\n\u001b[1;32m    373\u001b[0m \u001b[43m        \u001b[49m\u001b[43mmax_connections_per_node\u001b[49m\u001b[38;5;241;43m=\u001b[39;49m\u001b[43mmax_connections_per_node\u001b[49m\u001b[43m,\u001b[49m\n\u001b[1;32m    374\u001b[0m \u001b[43m        \u001b[49m\u001b[43mskip_full_coverage_check\u001b[49m\u001b[38;5;241;43m=\u001b[39;49m\u001b[43mskip_full_coverage_check\u001b[49m\u001b[43m,\u001b[49m\n\u001b[1;32m    375\u001b[0m \u001b[43m        \u001b[49m\u001b[43mnodemanager_follow_cluster\u001b[49m\u001b[38;5;241;43m=\u001b[39;49m\u001b[43mnodemanager_follow_cluster\u001b[49m\u001b[43m,\u001b[49m\n\u001b[1;32m    376\u001b[0m \u001b[43m        \u001b[49m\u001b[43mconnection_class\u001b[49m\u001b[38;5;241;43m=\u001b[39;49m\u001b[43mconnection_class\u001b[49m\u001b[43m,\u001b[49m\n\u001b[1;32m    377\u001b[0m \u001b[43m        \u001b[49m\u001b[43mhost_port_remap\u001b[49m\u001b[38;5;241;43m=\u001b[39;49m\u001b[43mhost_port_remap\u001b[49m\u001b[43m,\u001b[49m\n\u001b[1;32m    378\u001b[0m \u001b[43m        \u001b[49m\u001b[38;5;241;43m*\u001b[39;49m\u001b[38;5;241;43m*\u001b[39;49m\u001b[43mkwargs\u001b[49m\n\u001b[1;32m    379\u001b[0m \u001b[43m    \u001b[49m\u001b[43m)\u001b[49m\n\u001b[1;32m    381\u001b[0m \u001b[38;5;28msuper\u001b[39m(RedisCluster, \u001b[38;5;28mself\u001b[39m)\u001b[38;5;241m.\u001b[39m\u001b[38;5;21m__init__\u001b[39m(connection_pool\u001b[38;5;241m=\u001b[39mpool, \u001b[38;5;241m*\u001b[39m\u001b[38;5;241m*\u001b[39mkwargs)\n\u001b[1;32m    383\u001b[0m \u001b[38;5;28mself\u001b[39m\u001b[38;5;241m.\u001b[39mrefresh_table_asap \u001b[38;5;241m=\u001b[39m \u001b[38;5;28;01mFalse\u001b[39;00m\n",
      "File \u001b[0;32m~/.local/lib/python3.8/site-packages/rediscluster/connection.py:160\u001b[0m, in \u001b[0;36mClusterConnectionPool.__init__\u001b[0;34m(self, startup_nodes, init_slot_cache, connection_class, max_connections, max_connections_per_node, reinitialize_steps, skip_full_coverage_check, nodemanager_follow_cluster, host_port_remap, **connection_kwargs)\u001b[0m\n\u001b[1;32m    149\u001b[0m \u001b[38;5;28mself\u001b[39m\u001b[38;5;241m.\u001b[39mnodes \u001b[38;5;241m=\u001b[39m NodeManager(\n\u001b[1;32m    150\u001b[0m     startup_nodes,\n\u001b[1;32m    151\u001b[0m     reinitialize_steps\u001b[38;5;241m=\u001b[39mreinitialize_steps,\n\u001b[0;32m   (...)\u001b[0m\n\u001b[1;32m    156\u001b[0m     \u001b[38;5;241m*\u001b[39m\u001b[38;5;241m*\u001b[39mconnection_kwargs\n\u001b[1;32m    157\u001b[0m )\n\u001b[1;32m    159\u001b[0m \u001b[38;5;28;01mif\u001b[39;00m init_slot_cache:\n\u001b[0;32m--> 160\u001b[0m     \u001b[38;5;28;43mself\u001b[39;49m\u001b[38;5;241;43m.\u001b[39;49m\u001b[43mnodes\u001b[49m\u001b[38;5;241;43m.\u001b[39;49m\u001b[43minitialize\u001b[49m\u001b[43m(\u001b[49m\u001b[43m)\u001b[49m\n\u001b[1;32m    162\u001b[0m \u001b[38;5;28mself\u001b[39m\u001b[38;5;241m.\u001b[39mconnections \u001b[38;5;241m=\u001b[39m {}\n\u001b[1;32m    163\u001b[0m \u001b[38;5;28mself\u001b[39m\u001b[38;5;241m.\u001b[39mconnection_kwargs \u001b[38;5;241m=\u001b[39m connection_kwargs\n",
      "File \u001b[0;32m~/.local/lib/python3.8/site-packages/rediscluster/nodemanager.py:238\u001b[0m, in \u001b[0;36mNodeManager.initialize\u001b[0;34m(self)\u001b[0m\n\u001b[1;32m    236\u001b[0m         \u001b[38;5;28;01mcontinue\u001b[39;00m\n\u001b[1;32m    237\u001b[0m     \u001b[38;5;28;01melse\u001b[39;00m:\n\u001b[0;32m--> 238\u001b[0m         \u001b[38;5;28;01mraise\u001b[39;00m RedisClusterException(\u001b[38;5;124m\"\u001b[39m\u001b[38;5;124mERROR sending \u001b[39m\u001b[38;5;124m'\u001b[39m\u001b[38;5;124mcluster slots\u001b[39m\u001b[38;5;124m'\u001b[39m\u001b[38;5;124m command to redis server: \u001b[39m\u001b[38;5;132;01m{0}\u001b[39;00m\u001b[38;5;124m\"\u001b[39m\u001b[38;5;241m.\u001b[39mformat(node))\n\u001b[1;32m    239\u001b[0m \u001b[38;5;28;01mexcept\u001b[39;00m \u001b[38;5;167;01mException\u001b[39;00m:\n\u001b[1;32m    240\u001b[0m     \u001b[38;5;28;01mraise\u001b[39;00m RedisClusterException(\u001b[38;5;124m\"\u001b[39m\u001b[38;5;124mERROR sending \u001b[39m\u001b[38;5;124m'\u001b[39m\u001b[38;5;124mcluster slots\u001b[39m\u001b[38;5;124m'\u001b[39m\u001b[38;5;124m command to redis server: \u001b[39m\u001b[38;5;132;01m{0}\u001b[39;00m\u001b[38;5;124m\"\u001b[39m\u001b[38;5;241m.\u001b[39mformat(node))\n",
      "\u001b[0;31mRedisClusterException\u001b[0m: ERROR sending 'cluster slots' command to redis server: {'host': 'redis-master.redis-farm.svc.cluster.local', 'port': '6379'}"
     ]
    }
   ],
   "source": [
    "redis_client = RedisClient(redis_host, geo_ttl=30)"
   ]
  },
  {
   "cell_type": "markdown",
   "id": "d0193de8-dbd9-41bb-b66d-b73eee28e431",
   "metadata": {},
   "source": [
    "### Insert data"
   ]
  },
  {
   "cell_type": "code",
   "execution_count": null,
   "id": "8fa08c3f-a06e-45a8-8b78-65f3bdb4de76",
   "metadata": {},
   "outputs": [],
   "source": [
    "input_datas = [\n",
    "    InputData(\n",
    "        ci='user_1',\n",
    "        latitude=37.01757,\n",
    "        longitude=128.522931\n",
    "    ),\n",
    "    InputData(\n",
    "        ci='user_2',\n",
    "        latitude=37.01755,\n",
    "        longitude=128.522831\n",
    "    ),\n",
    "    \n",
    "]\n",
    "\n",
    "redis_client.insert_multi_data(input_datas)"
   ]
  },
  {
   "cell_type": "markdown",
   "id": "3207d4b1-b3cb-42b7-aaa8-2f44f718dbc0",
   "metadata": {},
   "source": [
    "### 최신 위치"
   ]
  },
  {
   "cell_type": "code",
   "execution_count": null,
   "id": "207a9e72-2a83-482f-9d27-cf30422c43a2",
   "metadata": {},
   "outputs": [],
   "source": [
    "redis_client.current_location(input_datas[0].ci)"
   ]
  },
  {
   "cell_type": "markdown",
   "id": "f685dcba-5c3c-405e-bf0a-9d5d60989278",
   "metadata": {},
   "source": [
    "### georadius"
   ]
  },
  {
   "cell_type": "code",
   "execution_count": null,
   "id": "e375e069-351c-47ef-a6d6-1dd13af0311d",
   "metadata": {},
   "outputs": [],
   "source": [
    "redis_client.georadiusbymember(input_datas[0].ci, radius=0.1, unit=\"km\")"
   ]
  },
  {
   "cell_type": "code",
   "execution_count": null,
   "id": "d371a37a-2e39-482c-80e7-44521cbf1da2",
   "metadata": {},
   "outputs": [],
   "source": [
    "# 모든 key 삭제\n",
    "\n",
    "# redis_client.r.flushall()"
   ]
  }
 ],
 "metadata": {
  "kernelspec": {
   "display_name": "Python 3 (ipykernel)",
   "language": "python",
   "name": "python3"
  },
  "language_info": {
   "codemirror_mode": {
    "name": "ipython",
    "version": 3
   },
   "file_extension": ".py",
   "mimetype": "text/x-python",
   "name": "python",
   "nbconvert_exporter": "python",
   "pygments_lexer": "ipython3",
   "version": "3.8.13"
  }
 },
 "nbformat": 4,
 "nbformat_minor": 5
}
