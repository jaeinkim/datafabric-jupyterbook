{
 "cells": [
  {
   "cell_type": "markdown",
   "id": "619f1600-7c55-4e50-ad89-d86295152b7d",
   "metadata": {},
   "source": [
    "### 의존 파이썬 패키지"
   ]
  },
  {
   "cell_type": "code",
   "execution_count": null,
   "id": "5a73322e-a850-48e1-9ceb-3ea4d5ce50bd",
   "metadata": {},
   "outputs": [],
   "source": [
    "!pip install crc16 redis-py-cluster"
   ]
  },
  {
   "cell_type": "code",
   "execution_count": null,
   "id": "603f3266-c923-4185-be0f-8bd6d37a5f83",
   "metadata": {},
   "outputs": [],
   "source": [
    "import random\n",
    "from rediscluster import RedisCluster\n",
    "import warnings\n",
    "import time\n",
    "import crc16\n",
    "\n",
    "warnings.filterwarnings(\"ignore\")"
   ]
  },
  {
   "cell_type": "code",
   "execution_count": null,
   "id": "b85a959f-2cae-4daa-aab9-e146991079c6",
   "metadata": {},
   "outputs": [],
   "source": [
    "redis_host = \"redis-apollo-location-cluster-e583294.ggxdkn.clustercfg.apn2.cache.amazonaws.com\""
   ]
  },
  {
   "cell_type": "code",
   "execution_count": null,
   "id": "607ace65-fd82-4bc3-a326-d55710c2a319",
   "metadata": {},
   "outputs": [],
   "source": [
    "def now():\n",
    "    return int(time.time() * 1000)"
   ]
  },
  {
   "cell_type": "code",
   "execution_count": null,
   "id": "a8630743-8bfb-47df-b256-fd1a6974a521",
   "metadata": {},
   "outputs": [],
   "source": [
    "class InputData:\n",
    "    def __init__(self, ci, latitude, longitude):\n",
    "        self.ci = ci\n",
    "        self.latitude = latitude\n",
    "        self.longitude = longitude\n",
    "        \n",
    "\n",
    "class RedisClient:\n",
    "    \n",
    "    def __init__(self, redis_host, geo_ttl=30):\n",
    "        self.r = RedisCluster(startup_nodes=[{\"host\": redis_host, \"port\": \"6379\"}], decode_responses=True,\n",
    "                                          skip_full_coverage_check=True)\n",
    "        self.p = r.pipeline()\n",
    "        \n",
    "        # ttl 단위 minute\n",
    "        self.geo_ttl = geo_ttl\n",
    "        \n",
    "        # hashtags 값 미리 구하기 (샤드 개수에 따라 달라짐)\n",
    "        nodes = self.r.cluster_nodes()\n",
    "        masters = [node for node in nodes if \"master\" in node[\"flags\"]]\n",
    "        slots_to_master_id = dict()\n",
    "\n",
    "        for m in masters:\n",
    "            for slot in m[\"slots\"]:\n",
    "                slots_to_master_id[slot] = m[\"id\"]\n",
    "\n",
    "        temp_nodes = set()\n",
    "        self.hashtags = []\n",
    "        for i in range(16384):\n",
    "            node_id = slots_to_master_id[\n",
    "                r.cluster_keyslot(\"{\" + str(i) + \"}_last_loc\")\n",
    "            ]\n",
    "            if node_id not in temp_nodes:\n",
    "                temp_nodes.add(node_id)\n",
    "                self.hashtags.append(i)\n",
    "            if len(temp_nodes) == len(masters):\n",
    "                break\n",
    "\n",
    "        self.hashtags_count = len(self.hashtags)\n",
    "\n",
    "        print(\"hashtags : \", self.hashtags)\n",
    "        \n",
    "    \n",
    "        \n",
    "    # insert multi\n",
    "    def insert_multi_data(self, input_data_list):\n",
    "        for input_data in input_data_list:\n",
    "            ts = now()\n",
    "            hashtag = self.hashtags[\n",
    "                (crc16.crc16xmodem(bytes(input_data.ci, \"utf-8\")) % 16384) % self.hashtags_count\n",
    "            ]\n",
    "\n",
    "            # geoadd\n",
    "            geo_key = \"{\" + str(hashtag) + \"}\" + \"_last_loc\"\n",
    "            self.p.geoadd(geo_key, input_data.longitude, input_data.latitude, input_data.ci)\n",
    "\n",
    "            # location series with timestamp\n",
    "            loc_seq_key = f\"location_seq:{input_data.ci}\"\n",
    "            self.p.zadd(loc_seq_key, {f\"{input_data.latitude}:{input_data.longitude}:{ts}\": ts})\n",
    "\n",
    "            # ttl 분이 지난 과거 위치는 삭제\n",
    "            self.p.zremrangebyscore(loc_seq_key, 0, ts - self.geo_ttl*60*1000)\n",
    "\n",
    "        self.p.execute()\n",
    "\n",
    "\n",
    "\n",
    "    # 현재 위치\n",
    "    def current_location(self, ci):\n",
    "        seq_last_ts = self.r.zrange(f\"location_seq:{ci}\", -1, -1)\n",
    "        latitude, longitude, ts = seq_last_ts[0].split(\":\")\n",
    "        return float(latitude), float(longitude), int(ts)\n",
    "\n",
    "\n",
    "\n",
    "    # georadius\n",
    "    def georadiusbymember(self, ci, radius, unit=\"km\"):\n",
    "        latitude, longitude, ts = self.current_location(ci)\n",
    "        cis = []\n",
    "        for k in self.hashtags:\n",
    "            key = \"{\" + str(k) + \"}\" + \"_last_loc\"\n",
    "            cis += [\n",
    "                x for x in self.r.georadius(key, longitude, latitude, radius, unit=unit, withdist=True, withcoord=True)\n",
    "                if x[0] != ci\n",
    "            ]\n",
    "\n",
    "        return cis"
   ]
  },
  {
   "cell_type": "code",
   "execution_count": null,
   "id": "35687e9a-83d0-4daf-8e77-ab9349b03094",
   "metadata": {},
   "outputs": [],
   "source": [
    "redis_client = RedisClient(redis_host, geo_ttl=30)"
   ]
  },
  {
   "cell_type": "markdown",
   "id": "d0193de8-dbd9-41bb-b66d-b73eee28e431",
   "metadata": {},
   "source": [
    "### Insert data"
   ]
  },
  {
   "cell_type": "code",
   "execution_count": null,
   "id": "8fa08c3f-a06e-45a8-8b78-65f3bdb4de76",
   "metadata": {},
   "outputs": [],
   "source": [
    "input_datas = [\n",
    "    InputData(\n",
    "        ci='user_1',\n",
    "        latitude=37.01757,\n",
    "        longitude=128.522931\n",
    "    ),\n",
    "    InputData(\n",
    "        ci='user_2',\n",
    "        latitude=37.01755,\n",
    "        longitude=128.522831\n",
    "    ),\n",
    "    \n",
    "]\n",
    "\n",
    "redis_client.insert_multi_data(input_datas)"
   ]
  },
  {
   "cell_type": "markdown",
   "id": "3207d4b1-b3cb-42b7-aaa8-2f44f718dbc0",
   "metadata": {},
   "source": [
    "### 최신 위치"
   ]
  },
  {
   "cell_type": "code",
   "execution_count": null,
   "id": "207a9e72-2a83-482f-9d27-cf30422c43a2",
   "metadata": {},
   "outputs": [],
   "source": [
    "redis_client.current_location(input_datas[0].ci)"
   ]
  },
  {
   "cell_type": "markdown",
   "id": "f685dcba-5c3c-405e-bf0a-9d5d60989278",
   "metadata": {},
   "source": [
    "### georadius"
   ]
  },
  {
   "cell_type": "code",
   "execution_count": null,
   "id": "e375e069-351c-47ef-a6d6-1dd13af0311d",
   "metadata": {},
   "outputs": [],
   "source": [
    "redis_client.georadiusbymember(input_datas[0].ci, radius=0.1, unit=\"km\")"
   ]
  },
  {
   "cell_type": "code",
   "execution_count": null,
   "id": "d371a37a-2e39-482c-80e7-44521cbf1da2",
   "metadata": {},
   "outputs": [],
   "source": [
    "# 모든 key 삭제\n",
    "\n",
    "# redis_client.r.flushall()"
   ]
  }
 ],
 "metadata": {
  "kernelspec": {
   "display_name": "Python 3 (ipykernel)",
   "language": "python",
   "name": "python3"
  },
  "language_info": {
   "codemirror_mode": {
    "name": "ipython",
    "version": 3
   },
   "file_extension": ".py",
   "mimetype": "text/x-python",
   "name": "python",
   "nbconvert_exporter": "python",
   "pygments_lexer": "ipython3",
   "version": "3.9.7"
  }
 },
 "nbformat": 4,
 "nbformat_minor": 5
}
