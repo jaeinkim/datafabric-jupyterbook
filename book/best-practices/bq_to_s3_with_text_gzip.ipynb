{
 "cells": [
  {
   "cell_type": "code",
   "execution_count": 6,
   "metadata": {
    "execution": {
     "iopub.execute_input": "2022-07-25T05:54:57.936400Z",
     "iopub.status.busy": "2022-07-25T05:54:57.936081Z",
     "iopub.status.idle": "2022-07-25T05:54:57.939259Z",
     "shell.execute_reply": "2022-07-25T05:54:57.938756Z",
     "shell.execute_reply.started": "2022-07-25T05:54:57.936375Z"
    },
    "tags": [
     "parameters"
    ]
   },
   "outputs": [],
   "source": [
    "query = \"\"\"\n",
    "        SELECT\n",
    "          to_json_string ( STRUCT ( CAST(RANK() OVER(ORDER BY GENERATE_UUID()) AS STRING) AS id,\n",
    "              STRUCT ( prdt_cd,\n",
    "                store_cd ) AS\n",
    "            values\n",
    "              )) AS\n",
    "        values\n",
    "        FROM\n",
    "          smart-ruler-304409.product_attribute_module.app_review_keywords\n",
    "  \"\"\"\n",
    "path = \"app_review_keywords\""
   ]
  },
  {
   "cell_type": "code",
   "execution_count": 7,
   "metadata": {
    "execution": {
     "iopub.execute_input": "2022-07-25T05:54:58.589091Z",
     "iopub.status.busy": "2022-07-25T05:54:58.588797Z",
     "iopub.status.idle": "2022-07-25T05:54:58.625775Z",
     "shell.execute_reply": "2022-07-25T05:54:58.625227Z",
     "shell.execute_reply.started": "2022-07-25T05:54:58.589066Z"
    },
    "tags": []
   },
   "outputs": [],
   "source": [
    "import os\n",
    "from pydatafabric.vault_utils import get_secrets\n",
    "aws_info = get_secrets(mount_point=\"datafabric\",path=\"mlops/access/data_loader\")"
   ]
  },
  {
   "cell_type": "code",
   "execution_count": 8,
   "metadata": {
    "execution": {
     "iopub.execute_input": "2022-07-25T05:54:59.954090Z",
     "iopub.status.busy": "2022-07-25T05:54:59.953808Z",
     "iopub.status.idle": "2022-07-25T05:54:59.956981Z",
     "shell.execute_reply": "2022-07-25T05:54:59.956452Z",
     "shell.execute_reply.started": "2022-07-25T05:54:59.954068Z"
    },
    "tags": []
   },
   "outputs": [],
   "source": [
    "bucket = aws_info[\"bucket_dev\"]\n",
    "ds = \"20220725\"\n",
    "destination = f\"s3a://{bucket}/dynamodb/{path}/dt={ds}/op=put/\""
   ]
  },
  {
   "cell_type": "code",
   "execution_count": 9,
   "metadata": {
    "execution": {
     "iopub.execute_input": "2022-07-25T05:55:01.654686Z",
     "iopub.status.busy": "2022-07-25T05:55:01.654400Z",
     "iopub.status.idle": "2022-07-25T05:55:09.902593Z",
     "shell.execute_reply": "2022-07-25T05:55:09.901830Z",
     "shell.execute_reply.started": "2022-07-25T05:55:01.654660Z"
    },
    "tags": []
   },
   "outputs": [],
   "source": [
    "from pydatafabric.ye import get_spark\n",
    "\n",
    "spark = get_spark()\n",
    "spark.conf.set(\"fs.s3a.fast.upload.buffer\", \"disk\")\n",
    "spark.conf.set(\"fs.s3a.buffer.dir\", \"/tmp\")\n",
    "spark.conf.set(\"fs.s3a.access.key\", aws_info[\"aws_access_key_id\"])\n",
    "spark.conf.set(\"fs.s3a.secret.key\", aws_info[\"aws_secret_access_key\"])"
   ]
  },
  {
   "cell_type": "markdown",
   "metadata": {},
   "source": [
    "### gzip 압축 옵션 추가하여 저장"
   ]
  },
  {
   "cell_type": "code",
   "execution_count": 10,
   "metadata": {
    "execution": {
     "iopub.execute_input": "2022-07-25T05:55:10.198710Z",
     "iopub.status.busy": "2022-07-25T05:55:10.198290Z",
     "iopub.status.idle": "2022-07-25T05:55:20.191161Z",
     "shell.execute_reply": "2022-07-25T05:55:20.190400Z",
     "shell.execute_reply.started": "2022-07-25T05:55:10.198667Z"
    },
    "tags": []
   },
   "outputs": [],
   "source": [
    "from pydatafabric.gcp import bq_to_df\n",
    "import pyspark.sql.functions as f\n",
    "import json\n",
    "\n",
    "df = bq_to_df(query, spark_session=spark)"
   ]
  },
  {
   "cell_type": "code",
   "execution_count": 11,
   "metadata": {
    "execution": {
     "iopub.execute_input": "2022-07-25T05:55:20.536591Z",
     "iopub.status.busy": "2022-07-25T05:55:20.536394Z",
     "iopub.status.idle": "2022-07-25T05:55:25.790096Z",
     "shell.execute_reply": "2022-07-25T05:55:25.789301Z",
     "shell.execute_reply.started": "2022-07-25T05:55:20.536571Z"
    },
    "tags": []
   },
   "outputs": [
    {
     "name": "stdout",
     "output_type": "stream",
     "text": [
      "+----------------------------------------------------------------------+\n",
      "|values                                                                |\n",
      "+----------------------------------------------------------------------+\n",
      "|{\"id\":\"59671\",\"values\":{\"prdt_cd\":\"8809558842016\",\"store_cd\":\"1050\"}} |\n",
      "|{\"id\":\"106317\",\"values\":{\"prdt_cd\":\"2500000039584\",\"store_cd\":\"1106\"}}|\n",
      "|{\"id\":\"129792\",\"values\":{\"prdt_cd\":\"8801045522234\",\"store_cd\":\"1140\"}}|\n",
      "|{\"id\":\"148399\",\"values\":{\"prdt_cd\":\"2500000308079\",\"store_cd\":\"1000\"}}|\n",
      "|{\"id\":\"178910\",\"values\":{\"prdt_cd\":\"8809558842016\",\"store_cd\":\"1143\"}}|\n",
      "|{\"id\":\"125621\",\"values\":{\"prdt_cd\":\"2500000305290\",\"store_cd\":\"1160\"}}|\n",
      "|{\"id\":\"156640\",\"values\":{\"prdt_cd\":\"8809811825084\",\"store_cd\":\"1095\"}}|\n",
      "|{\"id\":\"73031\",\"values\":{\"prdt_cd\":\"2429230000000\",\"store_cd\":\"1144\"}} |\n",
      "|{\"id\":\"189236\",\"values\":{\"prdt_cd\":\"2500000271069\",\"store_cd\":\"1141\"}}|\n",
      "|{\"id\":\"12078\",\"values\":{\"prdt_cd\":\"8801068398618\",\"store_cd\":\"1141\"}} |\n",
      "+----------------------------------------------------------------------+\n",
      "only showing top 10 rows\n",
      "\n"
     ]
    }
   ],
   "source": [
    "df.show(10, False)"
   ]
  },
  {
   "cell_type": "code",
   "execution_count": 12,
   "metadata": {
    "execution": {
     "iopub.execute_input": "2022-07-25T05:55:29.726343Z",
     "iopub.status.busy": "2022-07-25T05:55:29.726050Z",
     "iopub.status.idle": "2022-07-25T05:55:34.024092Z",
     "shell.execute_reply": "2022-07-25T05:55:34.023502Z",
     "shell.execute_reply.started": "2022-07-25T05:55:29.726319Z"
    },
    "tags": []
   },
   "outputs": [
    {
     "name": "stdout",
     "output_type": "stream",
     "text": [
      "destination: emart-datafabric.temp_1d.app_review_keywords_json\n",
      "total_rows: 237978\n",
      "slot_secs: 46.893\n",
      "\n"
     ]
    }
   ],
   "source": [
    "from pydatafabric.gcp import bq_insert_overwrite\n",
    "\n",
    "bq_insert_overwrite(sql=query, destination=\"emart-datafabric.temp_1d.app_review_keywords_json\")"
   ]
  },
  {
   "cell_type": "code",
   "execution_count": 13,
   "metadata": {
    "execution": {
     "iopub.execute_input": "2022-07-25T05:55:34.025931Z",
     "iopub.status.busy": "2022-07-25T05:55:34.025722Z",
     "iopub.status.idle": "2022-07-25T05:55:34.060443Z",
     "shell.execute_reply": "2022-07-25T05:55:34.059922Z",
     "shell.execute_reply.started": "2022-07-25T05:55:34.025909Z"
    },
    "tags": []
   },
   "outputs": [],
   "source": [
    "from pydatafabric.gcp import import_bigquery_ipython_magic\n",
    "import_bigquery_ipython_magic()"
   ]
  },
  {
   "cell_type": "code",
   "execution_count": 14,
   "metadata": {
    "execution": {
     "iopub.execute_input": "2022-07-25T05:55:34.061609Z",
     "iopub.status.busy": "2022-07-25T05:55:34.061411Z",
     "iopub.status.idle": "2022-07-25T05:55:37.985578Z",
     "shell.execute_reply": "2022-07-25T05:55:37.985065Z",
     "shell.execute_reply.started": "2022-07-25T05:55:34.061590Z"
    },
    "tags": []
   },
   "outputs": [
    {
     "name": "stderr",
     "output_type": "stream",
     "text": [
      "Query complete after 0.00s: 100%|██████████| 2/2 [00:00<00:00, 2200.58query/s]                        \n",
      "Downloading: 100%|██████████| 237978/237978 [00:01<00:00, 215293.03rows/s]\n"
     ]
    },
    {
     "name": "stdout",
     "output_type": "stream",
     "text": [
      "BigQuery execution took 3 seconds.\n"
     ]
    },
    {
     "data": {
      "text/html": [
       "<div>\n",
       "<style scoped>\n",
       "    .dataframe tbody tr th:only-of-type {\n",
       "        vertical-align: middle;\n",
       "    }\n",
       "\n",
       "    .dataframe tbody tr th {\n",
       "        vertical-align: top;\n",
       "    }\n",
       "\n",
       "    .dataframe thead th {\n",
       "        text-align: right;\n",
       "    }\n",
       "</style>\n",
       "<table border=\"1\" class=\"dataframe\">\n",
       "  <thead>\n",
       "    <tr style=\"text-align: right;\">\n",
       "      <th></th>\n",
       "      <th>values</th>\n",
       "    </tr>\n",
       "  </thead>\n",
       "  <tbody>\n",
       "    <tr>\n",
       "      <th>0</th>\n",
       "      <td>{\"id\":\"4606\",\"values\":{\"prdt_cd\":\"243852000000...</td>\n",
       "    </tr>\n",
       "    <tr>\n",
       "      <th>1</th>\n",
       "      <td>{\"id\":\"16119\",\"values\":{\"prdt_cd\":\"88014923741...</td>\n",
       "    </tr>\n",
       "    <tr>\n",
       "      <th>2</th>\n",
       "      <td>{\"id\":\"24920\",\"values\":{\"prdt_cd\":\"12641100000...</td>\n",
       "    </tr>\n",
       "    <tr>\n",
       "      <th>3</th>\n",
       "      <td>{\"id\":\"38546\",\"values\":{\"prdt_cd\":\"11103900000...</td>\n",
       "    </tr>\n",
       "    <tr>\n",
       "      <th>4</th>\n",
       "      <td>{\"id\":\"45135\",\"values\":{\"prdt_cd\":\"24263200000...</td>\n",
       "    </tr>\n",
       "    <tr>\n",
       "      <th>...</th>\n",
       "      <td>...</td>\n",
       "    </tr>\n",
       "    <tr>\n",
       "      <th>237973</th>\n",
       "      <td>{\"id\":\"189493\",\"values\":{\"prdt_cd\":\"2500000161...</td>\n",
       "    </tr>\n",
       "    <tr>\n",
       "      <th>237974</th>\n",
       "      <td>{\"id\":\"201883\",\"values\":{\"prdt_cd\":\"2500000279...</td>\n",
       "    </tr>\n",
       "    <tr>\n",
       "      <th>237975</th>\n",
       "      <td>{\"id\":\"204000\",\"values\":{\"prdt_cd\":\"2500000077...</td>\n",
       "    </tr>\n",
       "    <tr>\n",
       "      <th>237976</th>\n",
       "      <td>{\"id\":\"208584\",\"values\":{\"prdt_cd\":\"2500000170...</td>\n",
       "    </tr>\n",
       "    <tr>\n",
       "      <th>237977</th>\n",
       "      <td>{\"id\":\"213236\",\"values\":{\"prdt_cd\":\"2500000236...</td>\n",
       "    </tr>\n",
       "  </tbody>\n",
       "</table>\n",
       "<p>237978 rows × 1 columns</p>\n",
       "</div>"
      ],
      "text/plain": [
       "                                                   values\n",
       "0       {\"id\":\"4606\",\"values\":{\"prdt_cd\":\"243852000000...\n",
       "1       {\"id\":\"16119\",\"values\":{\"prdt_cd\":\"88014923741...\n",
       "2       {\"id\":\"24920\",\"values\":{\"prdt_cd\":\"12641100000...\n",
       "3       {\"id\":\"38546\",\"values\":{\"prdt_cd\":\"11103900000...\n",
       "4       {\"id\":\"45135\",\"values\":{\"prdt_cd\":\"24263200000...\n",
       "...                                                   ...\n",
       "237973  {\"id\":\"189493\",\"values\":{\"prdt_cd\":\"2500000161...\n",
       "237974  {\"id\":\"201883\",\"values\":{\"prdt_cd\":\"2500000279...\n",
       "237975  {\"id\":\"204000\",\"values\":{\"prdt_cd\":\"2500000077...\n",
       "237976  {\"id\":\"208584\",\"values\":{\"prdt_cd\":\"2500000170...\n",
       "237977  {\"id\":\"213236\",\"values\":{\"prdt_cd\":\"2500000236...\n",
       "\n",
       "[237978 rows x 1 columns]"
      ]
     },
     "execution_count": 14,
     "metadata": {},
     "output_type": "execute_result"
    }
   ],
   "source": [
    "%%bq\n",
    "\n",
    "SELECT *\n",
    "FROM temp_1d.app_review_keywords_json"
   ]
  },
  {
   "cell_type": "code",
   "execution_count": 15,
   "metadata": {
    "execution": {
     "iopub.execute_input": "2022-07-25T05:55:42.020851Z",
     "iopub.status.busy": "2022-07-25T05:55:42.020515Z",
     "iopub.status.idle": "2022-07-25T05:55:48.018034Z",
     "shell.execute_reply": "2022-07-25T05:55:48.017227Z",
     "shell.execute_reply.started": "2022-07-25T05:55:42.020823Z"
    },
    "tags": []
   },
   "outputs": [
    {
     "name": "stdout",
     "output_type": "stream",
     "text": [
      "+----------------------------------------------------------------------+\n",
      "|values                                                                |\n",
      "+----------------------------------------------------------------------+\n",
      "|{\"id\":\"13985\",\"values\":{\"prdt_cd\":\"2500000236648\",\"store_cd\":\"1136\"}} |\n",
      "|{\"id\":\"66166\",\"values\":{\"prdt_cd\":\"8809300461465\",\"store_cd\":\"1083\"}} |\n",
      "|{\"id\":\"79163\",\"values\":{\"prdt_cd\":\"2402860000000\",\"store_cd\":\"1070\"}} |\n",
      "|{\"id\":\"174530\",\"values\":{\"prdt_cd\":\"1140010000000\",\"store_cd\":\"1065\"}}|\n",
      "|{\"id\":\"179715\",\"values\":{\"prdt_cd\":\"2500000079597\",\"store_cd\":\"1155\"}}|\n",
      "|{\"id\":\"172507\",\"values\":{\"prdt_cd\":\"2500000079597\",\"store_cd\":\"1084\"}}|\n",
      "|{\"id\":\"160391\",\"values\":{\"prdt_cd\":\"2500000139574\",\"store_cd\":\"1046\"}}|\n",
      "|{\"id\":\"231762\",\"values\":{\"prdt_cd\":\"2402900000000\",\"store_cd\":\"1000\"}}|\n",
      "|{\"id\":\"228330\",\"values\":{\"prdt_cd\":\"2429230000000\",\"store_cd\":\"1113\"}}|\n",
      "|{\"id\":\"11483\",\"values\":{\"prdt_cd\":\"2500000038549\",\"store_cd\":\"1117\"}} |\n",
      "+----------------------------------------------------------------------+\n",
      "only showing top 10 rows\n",
      "\n"
     ]
    }
   ],
   "source": [
    "df = bq_to_df(\"SELECT * FROM temp_1d.app_review_keywords_json\")\n",
    "df.show(10, False)"
   ]
  },
  {
   "cell_type": "code",
   "execution_count": 16,
   "metadata": {
    "execution": {
     "iopub.execute_input": "2022-07-25T05:55:50.403415Z",
     "iopub.status.busy": "2022-07-25T05:55:50.403116Z",
     "iopub.status.idle": "2022-07-25T05:55:55.997893Z",
     "shell.execute_reply": "2022-07-25T05:55:55.997066Z",
     "shell.execute_reply.started": "2022-07-25T05:55:50.403389Z"
    },
    "tags": []
   },
   "outputs": [],
   "source": [
    "df.write.mode(\"overwrite\").option(\"compression\", \"gzip\").text(destination)"
   ]
  },
  {
   "cell_type": "code",
   "execution_count": null,
   "metadata": {},
   "outputs": [],
   "source": []
  }
 ],
 "metadata": {
  "kernelspec": {
   "display_name": "Python 3",
   "language": "python",
   "name": "python3"
  },
  "language_info": {
   "codemirror_mode": {
    "name": "ipython",
    "version": 3
   },
   "file_extension": ".py",
   "mimetype": "text/x-python",
   "name": "python",
   "nbconvert_exporter": "python",
   "pygments_lexer": "ipython3",
   "version": "3.8.13"
  }
 },
 "nbformat": 4,
 "nbformat_minor": 4
}
