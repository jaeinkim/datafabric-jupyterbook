{
 "cells": [
  {
   "cell_type": "markdown",
   "metadata": {},
   "source": [
    "### S3로 Parquet파일 업로드"
   ]
  },
  {
   "cell_type": "code",
   "execution_count": 3,
   "metadata": {
    "execution": {
     "iopub.execute_input": "2022-10-04T06:15:14.615051Z",
     "iopub.status.busy": "2022-10-04T06:15:14.614658Z",
     "iopub.status.idle": "2022-10-04T06:15:14.618251Z",
     "shell.execute_reply": "2022-10-04T06:15:14.617614Z",
     "shell.execute_reply.started": "2022-10-04T06:15:14.615028Z"
    },
    "tags": []
   },
   "outputs": [],
   "source": [
    "PROJECT = \"emart-datafabric\"\n",
    "DATASET = \"common_dev\"\n",
    "TABLE = \"dfm_sample_eapp_review_keywords\"\n",
    "LIMIT = 30"
   ]
  },
  {
   "cell_type": "code",
   "execution_count": 4,
   "metadata": {
    "execution": {
     "iopub.execute_input": "2022-10-04T06:15:15.093632Z",
     "iopub.status.busy": "2022-10-04T06:15:15.093315Z",
     "iopub.status.idle": "2022-10-04T06:15:15.096908Z",
     "shell.execute_reply": "2022-10-04T06:15:15.096248Z",
     "shell.execute_reply.started": "2022-10-04T06:15:15.093608Z"
    },
    "tags": []
   },
   "outputs": [],
   "source": [
    "query = f\"\"\"\n",
    "        SELECT\n",
    "          to_json_string ( STRUCT ( CAST(RANK() OVER(ORDER BY GENERATE_UUID()) AS STRING) AS id,\n",
    "              STRUCT ( prdt_cd,\n",
    "                store_cd ) AS\n",
    "            values\n",
    "              )) AS\n",
    "        values\n",
    "        FROM\n",
    "          {PROJECT}.{DATASET}.{TABLE}\n",
    "  \"\"\"\n",
    "path = \"app_review_keywords/gzip\""
   ]
  },
  {
   "cell_type": "code",
   "execution_count": 2,
   "metadata": {
    "execution": {
     "iopub.execute_input": "2022-09-30T04:11:13.042729Z",
     "iopub.status.busy": "2022-09-30T04:11:13.042430Z",
     "iopub.status.idle": "2022-09-30T04:11:13.128635Z",
     "shell.execute_reply": "2022-09-30T04:11:13.128060Z",
     "shell.execute_reply.started": "2022-09-30T04:11:13.042708Z"
    },
    "tags": []
   },
   "outputs": [],
   "source": [
    "import os\n",
    "from pydatafabric.vault_utils import get_secrets\n",
    "aws_info = get_secrets(mount_point=\"datafabric\",path=\"aws/credentials/datafabric\")"
   ]
  },
  {
   "cell_type": "code",
   "execution_count": 3,
   "metadata": {
    "execution": {
     "iopub.execute_input": "2022-09-30T04:11:13.667369Z",
     "iopub.status.busy": "2022-09-30T04:11:13.666708Z",
     "iopub.status.idle": "2022-09-30T04:11:13.670221Z",
     "shell.execute_reply": "2022-09-30T04:11:13.669672Z",
     "shell.execute_reply.started": "2022-09-30T04:11:13.667342Z"
    },
    "tags": []
   },
   "outputs": [],
   "source": [
    "env = \"dev\" \n",
    "bucket = f\"emart-datafabric-{env}\"\n",
    "ds = \"20220725\"\n",
    "destination = f\"s3a://{bucket}/bigquery-db/{path}/dt={ds}/op=put/\""
   ]
  },
  {
   "cell_type": "code",
   "execution_count": 4,
   "metadata": {
    "execution": {
     "iopub.execute_input": "2022-09-30T04:11:14.455595Z",
     "iopub.status.busy": "2022-09-30T04:11:14.455230Z",
     "iopub.status.idle": "2022-09-30T04:11:22.575416Z",
     "shell.execute_reply": "2022-09-30T04:11:22.574733Z",
     "shell.execute_reply.started": "2022-09-30T04:11:14.455570Z"
    },
    "tags": []
   },
   "outputs": [
    {
     "name": "stderr",
     "output_type": "stream",
     "text": [
      "Setting default log level to \"WARN\".\n",
      "To adjust logging level use sc.setLogLevel(newLevel). For SparkR, use setLogLevel(newLevel).\n",
      "22/09/30 13:11:17 INFO org.apache.spark.SparkEnv: Registering MapOutputTracker\n",
      "22/09/30 13:11:17 INFO org.apache.spark.SparkEnv: Registering BlockManagerMaster\n",
      "22/09/30 13:11:17 INFO org.apache.spark.SparkEnv: Registering BlockManagerMasterHeartbeat\n",
      "22/09/30 13:11:17 INFO org.apache.spark.SparkEnv: Registering OutputCommitCoordinator\n"
     ]
    }
   ],
   "source": [
    "from pydatafabric.ye import get_spark\n",
    "\n",
    "spark = get_spark()\n",
    "spark.conf.set(\"fs.s3a.fast.upload.buffer\", \"disk\")\n",
    "spark.conf.set(\"fs.s3a.buffer.dir\", \"/tmp\")\n",
    "spark.conf.set(\"fs.s3a.access.key\", aws_info[\"aws_access_key_id\"])\n",
    "spark.conf.set(\"fs.s3a.secret.key\", aws_info[\"aws_secret_access_key\"])"
   ]
  },
  {
   "cell_type": "markdown",
   "metadata": {},
   "source": [
    "### gzip 압축 옵션 추가하여 저장"
   ]
  },
  {
   "cell_type": "code",
   "execution_count": 5,
   "metadata": {
    "execution": {
     "iopub.execute_input": "2022-09-30T04:11:24.727215Z",
     "iopub.status.busy": "2022-09-30T04:11:24.726697Z",
     "iopub.status.idle": "2022-09-30T04:11:34.303984Z",
     "shell.execute_reply": "2022-09-30T04:11:34.303366Z",
     "shell.execute_reply.started": "2022-09-30T04:11:24.727186Z"
    },
    "tags": []
   },
   "outputs": [],
   "source": [
    "from pydatafabric.gcp import bq_to_df\n",
    "import pyspark.sql.functions as f\n",
    "import json\n",
    "\n",
    "df = bq_to_df(query, spark_session=spark)"
   ]
  },
  {
   "cell_type": "code",
   "execution_count": 6,
   "metadata": {
    "execution": {
     "iopub.execute_input": "2022-09-30T04:11:35.810552Z",
     "iopub.status.busy": "2022-09-30T04:11:35.810081Z",
     "iopub.status.idle": "2022-09-30T04:11:41.076521Z",
     "shell.execute_reply": "2022-09-30T04:11:41.075769Z",
     "shell.execute_reply.started": "2022-09-30T04:11:35.810526Z"
    },
    "tags": []
   },
   "outputs": [
    {
     "name": "stderr",
     "output_type": "stream",
     "text": [
      "[Stage 0:>                                                          (0 + 1) / 1]\r"
     ]
    },
    {
     "name": "stdout",
     "output_type": "stream",
     "text": [
      "+---------------------------------------------------------------------+\n",
      "|values                                                               |\n",
      "+---------------------------------------------------------------------+\n",
      "|{\"id\":\"2938\",\"values\":{\"prdt_cd\":\"8801045375038\",\"store_cd\":\"1125\"}} |\n",
      "|{\"id\":\"13726\",\"values\":{\"prdt_cd\":\"8801492374158\",\"store_cd\":\"1016\"}}|\n",
      "|{\"id\":\"40445\",\"values\":{\"prdt_cd\":\"1113150000000\",\"store_cd\":\"1010\"}}|\n",
      "|{\"id\":\"57701\",\"values\":{\"prdt_cd\":\"2500000145346\",\"store_cd\":\"1047\"}}|\n",
      "|{\"id\":\"69973\",\"values\":{\"prdt_cd\":\"2500000079597\",\"store_cd\":\"1055\"}}|\n",
      "|{\"id\":\"71190\",\"values\":{\"prdt_cd\":\"8809558842016\",\"store_cd\":\"1158\"}}|\n",
      "|{\"id\":\"83034\",\"values\":{\"prdt_cd\":\"8803006001802\",\"store_cd\":\"1161\"}}|\n",
      "|{\"id\":\"89387\",\"values\":{\"prdt_cd\":\"2438520000000\",\"store_cd\":\"1161\"}}|\n",
      "|{\"id\":\"90360\",\"values\":{\"prdt_cd\":\"2418430000000\",\"store_cd\":\"1111\"}}|\n",
      "|{\"id\":\"91899\",\"values\":{\"prdt_cd\":\"2500000118562\",\"store_cd\":\"1135\"}}|\n",
      "+---------------------------------------------------------------------+\n",
      "only showing top 10 rows\n",
      "\n"
     ]
    },
    {
     "name": "stderr",
     "output_type": "stream",
     "text": [
      "                                                                                \r"
     ]
    }
   ],
   "source": [
    "df.show(10, False)"
   ]
  },
  {
   "cell_type": "code",
   "execution_count": 7,
   "metadata": {
    "execution": {
     "iopub.execute_input": "2022-09-30T04:11:44.168381Z",
     "iopub.status.busy": "2022-09-30T04:11:44.168014Z",
     "iopub.status.idle": "2022-09-30T04:11:48.191435Z",
     "shell.execute_reply": "2022-09-30T04:11:48.190868Z",
     "shell.execute_reply.started": "2022-09-30T04:11:44.168358Z"
    },
    "tags": []
   },
   "outputs": [
    {
     "name": "stdout",
     "output_type": "stream",
     "text": [
      "destination: emart-datafabric.temp_1d.app_review_keywords_json\n",
      "total_rows: 237978\n",
      "slot_secs: 27.426\n",
      "\n"
     ]
    }
   ],
   "source": [
    "from pydatafabric.gcp import bq_insert_overwrite\n",
    "\n",
    "bq_insert_overwrite(sql=query, destination=\"emart-datafabric.temp_1d.app_review_keywords_json\")"
   ]
  },
  {
   "cell_type": "code",
   "execution_count": 8,
   "metadata": {
    "execution": {
     "iopub.execute_input": "2022-09-30T04:11:51.040140Z",
     "iopub.status.busy": "2022-09-30T04:11:51.039753Z",
     "iopub.status.idle": "2022-09-30T04:11:51.072736Z",
     "shell.execute_reply": "2022-09-30T04:11:51.072264Z",
     "shell.execute_reply.started": "2022-09-30T04:11:51.040113Z"
    },
    "tags": []
   },
   "outputs": [],
   "source": [
    "from pydatafabric.gcp import import_bigquery_ipython_magic\n",
    "import_bigquery_ipython_magic()"
   ]
  },
  {
   "cell_type": "code",
   "execution_count": 9,
   "metadata": {
    "execution": {
     "iopub.execute_input": "2022-09-30T04:11:53.451449Z",
     "iopub.status.busy": "2022-09-30T04:11:53.451085Z",
     "iopub.status.idle": "2022-09-30T04:11:56.699438Z",
     "shell.execute_reply": "2022-09-30T04:11:56.698903Z",
     "shell.execute_reply.started": "2022-09-30T04:11:53.451420Z"
    },
    "tags": []
   },
   "outputs": [
    {
     "name": "stderr",
     "output_type": "stream",
     "text": [
      "Query complete after 0.00s: 100%|██████████| 2/2 [00:00<00:00, 2168.16query/s]                        \n",
      "Downloading: 100%|██████████| 237978/237978 [00:00<00:00, 265190.00rows/s]"
     ]
    },
    {
     "name": "stdout",
     "output_type": "stream",
     "text": [
      "BigQuery execution took 3 seconds.\n"
     ]
    },
    {
     "name": "stderr",
     "output_type": "stream",
     "text": [
      "\n"
     ]
    },
    {
     "data": {
      "text/html": [
       "<div>\n",
       "<style scoped>\n",
       "    .dataframe tbody tr th:only-of-type {\n",
       "        vertical-align: middle;\n",
       "    }\n",
       "\n",
       "    .dataframe tbody tr th {\n",
       "        vertical-align: top;\n",
       "    }\n",
       "\n",
       "    .dataframe thead th {\n",
       "        text-align: right;\n",
       "    }\n",
       "</style>\n",
       "<table border=\"1\" class=\"dataframe\">\n",
       "  <thead>\n",
       "    <tr style=\"text-align: right;\">\n",
       "      <th></th>\n",
       "      <th>values</th>\n",
       "    </tr>\n",
       "  </thead>\n",
       "  <tbody>\n",
       "    <tr>\n",
       "      <th>0</th>\n",
       "      <td>{\"id\":\"1036\",\"values\":{\"prdt_cd\":\"241854000000...</td>\n",
       "    </tr>\n",
       "    <tr>\n",
       "      <th>1</th>\n",
       "      <td>{\"id\":\"15769\",\"values\":{\"prdt_cd\":\"88014923741...</td>\n",
       "    </tr>\n",
       "    <tr>\n",
       "      <th>2</th>\n",
       "      <td>{\"id\":\"18006\",\"values\":{\"prdt_cd\":\"25000003080...</td>\n",
       "    </tr>\n",
       "    <tr>\n",
       "      <th>3</th>\n",
       "      <td>{\"id\":\"20025\",\"values\":{\"prdt_cd\":\"25000002723...</td>\n",
       "    </tr>\n",
       "    <tr>\n",
       "      <th>4</th>\n",
       "      <td>{\"id\":\"63702\",\"values\":{\"prdt_cd\":\"88093155904...</td>\n",
       "    </tr>\n",
       "    <tr>\n",
       "      <th>...</th>\n",
       "      <td>...</td>\n",
       "    </tr>\n",
       "    <tr>\n",
       "      <th>237973</th>\n",
       "      <td>{\"id\":\"190272\",\"values\":{\"prdt_cd\":\"2500000222...</td>\n",
       "    </tr>\n",
       "    <tr>\n",
       "      <th>237974</th>\n",
       "      <td>{\"id\":\"199804\",\"values\":{\"prdt_cd\":\"2500000196...</td>\n",
       "    </tr>\n",
       "    <tr>\n",
       "      <th>237975</th>\n",
       "      <td>{\"id\":\"225403\",\"values\":{\"prdt_cd\":\"2500000094...</td>\n",
       "    </tr>\n",
       "    <tr>\n",
       "      <th>237976</th>\n",
       "      <td>{\"id\":\"226742\",\"values\":{\"prdt_cd\":\"8809142023...</td>\n",
       "    </tr>\n",
       "    <tr>\n",
       "      <th>237977</th>\n",
       "      <td>{\"id\":\"227168\",\"values\":{\"prdt_cd\":\"2500000209...</td>\n",
       "    </tr>\n",
       "  </tbody>\n",
       "</table>\n",
       "<p>237978 rows × 1 columns</p>\n",
       "</div>"
      ],
      "text/plain": [
       "                                                   values\n",
       "0       {\"id\":\"1036\",\"values\":{\"prdt_cd\":\"241854000000...\n",
       "1       {\"id\":\"15769\",\"values\":{\"prdt_cd\":\"88014923741...\n",
       "2       {\"id\":\"18006\",\"values\":{\"prdt_cd\":\"25000003080...\n",
       "3       {\"id\":\"20025\",\"values\":{\"prdt_cd\":\"25000002723...\n",
       "4       {\"id\":\"63702\",\"values\":{\"prdt_cd\":\"88093155904...\n",
       "...                                                   ...\n",
       "237973  {\"id\":\"190272\",\"values\":{\"prdt_cd\":\"2500000222...\n",
       "237974  {\"id\":\"199804\",\"values\":{\"prdt_cd\":\"2500000196...\n",
       "237975  {\"id\":\"225403\",\"values\":{\"prdt_cd\":\"2500000094...\n",
       "237976  {\"id\":\"226742\",\"values\":{\"prdt_cd\":\"8809142023...\n",
       "237977  {\"id\":\"227168\",\"values\":{\"prdt_cd\":\"2500000209...\n",
       "\n",
       "[237978 rows x 1 columns]"
      ]
     },
     "execution_count": 9,
     "metadata": {},
     "output_type": "execute_result"
    }
   ],
   "source": [
    "%%bq\n",
    "\n",
    "SELECT *\n",
    "FROM temp_1d.app_review_keywords_json"
   ]
  },
  {
   "cell_type": "code",
   "execution_count": 10,
   "metadata": {
    "execution": {
     "iopub.execute_input": "2022-09-30T04:12:01.184961Z",
     "iopub.status.busy": "2022-09-30T04:12:01.184560Z",
     "iopub.status.idle": "2022-09-30T04:12:08.097421Z",
     "shell.execute_reply": "2022-09-30T04:12:08.096830Z",
     "shell.execute_reply.started": "2022-09-30T04:12:01.184934Z"
    },
    "tags": []
   },
   "outputs": [
    {
     "name": "stdout",
     "output_type": "stream",
     "text": [
      "+----------------------------------------------------------------------+\n",
      "|values                                                                |\n",
      "+----------------------------------------------------------------------+\n",
      "|{\"id\":\"136697\",\"values\":{\"prdt_cd\":\"2366520000000\",\"store_cd\":\"1082\"}}|\n",
      "|{\"id\":\"140996\",\"values\":{\"prdt_cd\":\"2500000038549\",\"store_cd\":\"1001\"}}|\n",
      "|{\"id\":\"43706\",\"values\":{\"prdt_cd\":\"8801492374158\",\"store_cd\":\"1091\"}} |\n",
      "|{\"id\":\"177012\",\"values\":{\"prdt_cd\":\"1113150000000\",\"store_cd\":\"1030\"}}|\n",
      "|{\"id\":\"217517\",\"values\":{\"prdt_cd\":\"2500000077265\",\"store_cd\":\"1075\"}}|\n",
      "|{\"id\":\"13415\",\"values\":{\"prdt_cd\":\"2500000306990\",\"store_cd\":\"1115\"}} |\n",
      "|{\"id\":\"89443\",\"values\":{\"prdt_cd\":\"8809558842016\",\"store_cd\":\"1026\"}} |\n",
      "|{\"id\":\"151517\",\"values\":{\"prdt_cd\":\"8809315590402\",\"store_cd\":\"1063\"}}|\n",
      "|{\"id\":\"175647\",\"values\":{\"prdt_cd\":\"2500000011481\",\"store_cd\":\"1042\"}}|\n",
      "|{\"id\":\"27090\",\"values\":{\"prdt_cd\":\"2500000107740\",\"store_cd\":\"1144\"}} |\n",
      "+----------------------------------------------------------------------+\n",
      "only showing top 10 rows\n",
      "\n"
     ]
    }
   ],
   "source": [
    "df = bq_to_df(\"SELECT * FROM temp_1d.app_review_keywords_json\")\n",
    "df.show(10, False)"
   ]
  },
  {
   "cell_type": "code",
   "execution_count": 11,
   "metadata": {
    "execution": {
     "iopub.execute_input": "2022-09-30T04:12:23.042298Z",
     "iopub.status.busy": "2022-09-30T04:12:23.041612Z",
     "iopub.status.idle": "2022-09-30T04:12:28.162647Z",
     "shell.execute_reply": "2022-09-30T04:12:28.161674Z",
     "shell.execute_reply.started": "2022-09-30T04:12:23.042271Z"
    },
    "tags": []
   },
   "outputs": [
    {
     "name": "stderr",
     "output_type": "stream",
     "text": [
      "22/09/30 13:12:24 WARN org.apache.hadoop.fs.s3a.commit.AbstractS3ACommitterFactory: Using standard FileOutputCommitter to commit work. This is slow and potentially unsafe.\n",
      "                                                                                \r"
     ]
    }
   ],
   "source": [
    "df.write.mode(\"overwrite\").option(\"compression\", \"gzip\").text(destination)"
   ]
  },
  {
   "cell_type": "code",
   "execution_count": 12,
   "metadata": {
    "execution": {
     "iopub.execute_input": "2022-09-30T04:12:31.135751Z",
     "iopub.status.busy": "2022-09-30T04:12:31.135395Z",
     "iopub.status.idle": "2022-09-30T04:12:34.355222Z",
     "shell.execute_reply": "2022-09-30T04:12:34.354464Z",
     "shell.execute_reply.started": "2022-09-30T04:12:31.135728Z"
    },
    "tags": []
   },
   "outputs": [
    {
     "name": "stdout",
     "output_type": "stream",
     "text": [
      "2022-09-30 13:12:32,243 INFO impl.MetricsConfig: Loaded properties from hadoop-metrics2.properties\n",
      "2022-09-30 13:12:32,292 INFO impl.MetricsSystemImpl: Scheduled Metric snapshot period at 10 second(s).\n",
      "2022-09-30 13:12:32,293 INFO impl.MetricsSystemImpl: s3a-file-system metrics system started\n",
      "Found 2 items\n",
      "-rw-rw-rw-   1 datafabric datafabric          0 2022-09-30 13:12 s3a://emart-datafabric-dev/bigquery-db/app_review_keywords/dt=20220725/op=put/_SUCCESS\n",
      "-rw-rw-rw-   1 datafabric datafabric    2220715 2022-09-30 13:12 s3a://emart-datafabric-dev/bigquery-db/app_review_keywords/dt=20220725/op=put/part-00000-8a83d8c8-11cb-45c1-9306-325f26aad724-c000.txt.gz\n",
      "2022-09-30 13:12:33,908 INFO impl.MetricsSystemImpl: Stopping s3a-file-system metrics system...\n",
      "2022-09-30 13:12:33,908 INFO impl.MetricsSystemImpl: s3a-file-system metrics system stopped.\n",
      "2022-09-30 13:12:33,908 INFO impl.MetricsSystemImpl: s3a-file-system metrics system shutdown complete.\n"
     ]
    }
   ],
   "source": [
    "!hdfs dfs -Dhadoop.security.credential.provider.path=jceks:///datafabric/credentials/aws.jceks -ls {destination}"
   ]
  }
 ],
 "metadata": {
  "kernelspec": {
   "display_name": "Python 3 (ipykernel)",
   "language": "python",
   "name": "python3"
  },
  "language_info": {
   "codemirror_mode": {
    "name": "ipython",
    "version": 3
   },
   "file_extension": ".py",
   "mimetype": "text/x-python",
   "name": "python",
   "nbconvert_exporter": "python",
   "pygments_lexer": "ipython3",
   "version": "3.8.13"
  }
 },
 "nbformat": 4,
 "nbformat_minor": 4
}
