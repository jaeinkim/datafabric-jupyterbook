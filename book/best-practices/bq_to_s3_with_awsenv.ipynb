{
 "cells": [
  {
   "cell_type": "markdown",
   "id": "2244c89a-965f-49bd-8056-194018c9f8b1",
   "metadata": {},
   "source": [
    "### S3로 데이터 적재"
   ]
  },
  {
   "cell_type": "code",
   "execution_count": 1,
   "id": "cd0fc0e5-46f4-441a-a11b-6d2988199647",
   "metadata": {
    "execution": {
     "iopub.execute_input": "2022-09-30T04:02:19.762118Z",
     "iopub.status.busy": "2022-09-30T04:02:19.761642Z",
     "iopub.status.idle": "2022-09-30T04:02:19.851226Z",
     "shell.execute_reply": "2022-09-30T04:02:19.850702Z",
     "shell.execute_reply.started": "2022-09-30T04:02:19.762040Z"
    },
    "tags": []
   },
   "outputs": [],
   "source": [
    "from pydatafabric.vault_utils import get_secrets\n",
    "\n",
    "aws_info = get_secrets(mount_point=\"datafabric\",path=\"aws/credentials/datafabric\")"
   ]
  },
  {
   "cell_type": "code",
   "execution_count": 2,
   "id": "0939c5b6-f6f7-4a11-8690-77a6721db283",
   "metadata": {
    "execution": {
     "iopub.execute_input": "2022-09-30T04:02:20.170309Z",
     "iopub.status.busy": "2022-09-30T04:02:20.170030Z",
     "iopub.status.idle": "2022-09-30T04:02:28.310123Z",
     "shell.execute_reply": "2022-09-30T04:02:28.309413Z",
     "shell.execute_reply.started": "2022-09-30T04:02:20.170290Z"
    },
    "tags": []
   },
   "outputs": [
    {
     "name": "stderr",
     "output_type": "stream",
     "text": [
      "Setting default log level to \"WARN\".\n",
      "To adjust logging level use sc.setLogLevel(newLevel). For SparkR, use setLogLevel(newLevel).\n",
      "22/09/30 13:02:23 INFO org.apache.spark.SparkEnv: Registering MapOutputTracker\n",
      "22/09/30 13:02:23 INFO org.apache.spark.SparkEnv: Registering BlockManagerMaster\n",
      "22/09/30 13:02:23 INFO org.apache.spark.SparkEnv: Registering BlockManagerMasterHeartbeat\n",
      "22/09/30 13:02:23 INFO org.apache.spark.SparkEnv: Registering OutputCommitCoordinator\n"
     ]
    }
   ],
   "source": [
    "from pydatafabric.ye import get_spark\n",
    "import os\n",
    "\n",
    "spark = get_spark()"
   ]
  },
  {
   "cell_type": "markdown",
   "id": "1f3cfcdd-cbc3-4806-8d42-2d9be4498845",
   "metadata": {},
   "source": [
    "### Spark 설정 필수 "
   ]
  },
  {
   "cell_type": "code",
   "execution_count": 3,
   "id": "4be712a0-85c3-4f13-af26-45973acbeb98",
   "metadata": {
    "execution": {
     "iopub.execute_input": "2022-09-30T04:02:28.913857Z",
     "iopub.status.busy": "2022-09-30T04:02:28.913316Z",
     "iopub.status.idle": "2022-09-30T04:02:28.920400Z",
     "shell.execute_reply": "2022-09-30T04:02:28.919940Z",
     "shell.execute_reply.started": "2022-09-30T04:02:28.913827Z"
    },
    "tags": []
   },
   "outputs": [],
   "source": [
    "spark.conf.set(\"fs.s3a.fast.upload.buffer\", \"disk\")\n",
    "spark.conf.set(\"fs.s3a.buffer.dir\", \"/tmp\")\n",
    "spark.conf.set(\"fs.s3a.access.key\", aws_info[\"aws_access_key_id\"])\n",
    "spark.conf.set(\"fs.s3a.secret.key\", aws_info[\"aws_secret_access_key\"])"
   ]
  },
  {
   "cell_type": "code",
   "execution_count": 4,
   "id": "95e68d80-c835-44db-a5d5-685215c13bd0",
   "metadata": {
    "execution": {
     "iopub.execute_input": "2022-09-30T04:02:29.417145Z",
     "iopub.status.busy": "2022-09-30T04:02:29.416743Z",
     "iopub.status.idle": "2022-09-30T04:02:35.118622Z",
     "shell.execute_reply": "2022-09-30T04:02:35.117492Z",
     "shell.execute_reply.started": "2022-09-30T04:02:29.417120Z"
    },
    "tags": []
   },
   "outputs": [],
   "source": [
    "review_keywords = spark.read.format('bigquery') \\\n",
    "  .option('table', 'smart-ruler-304409:product_attribute_module.app_review_keywords') \\\n",
    "  .load()\n",
    "review_keywords.createOrReplaceTempView('review_keywords')"
   ]
  },
  {
   "cell_type": "markdown",
   "id": "28c5354b-b993-467f-a37c-080c4514e7b7",
   "metadata": {},
   "source": [
    "### Temp View에서 질의를 통해 저장 "
   ]
  },
  {
   "cell_type": "code",
   "execution_count": 5,
   "id": "644152aa-71d6-49e5-9521-1e2599619bab",
   "metadata": {
    "execution": {
     "iopub.execute_input": "2022-09-30T04:02:37.972393Z",
     "iopub.status.busy": "2022-09-30T04:02:37.971774Z",
     "iopub.status.idle": "2022-09-30T04:02:37.975247Z",
     "shell.execute_reply": "2022-09-30T04:02:37.974769Z",
     "shell.execute_reply.started": "2022-09-30T04:02:37.972359Z"
    },
    "tags": []
   },
   "outputs": [],
   "source": [
    "query=\"select * from review_keywords\""
   ]
  },
  {
   "cell_type": "code",
   "execution_count": 6,
   "id": "55424209-ddd0-4647-ae61-f479eba261b9",
   "metadata": {
    "execution": {
     "iopub.execute_input": "2022-09-30T04:02:38.560550Z",
     "iopub.status.busy": "2022-09-30T04:02:38.560177Z",
     "iopub.status.idle": "2022-09-30T04:02:43.865500Z",
     "shell.execute_reply": "2022-09-30T04:02:43.864933Z",
     "shell.execute_reply.started": "2022-09-30T04:02:38.560524Z"
    },
    "tags": []
   },
   "outputs": [
    {
     "name": "stderr",
     "output_type": "stream",
     "text": [
      "[Stage 0:>                                                          (0 + 1) / 1]\r"
     ]
    },
    {
     "name": "stdout",
     "output_type": "stream",
     "text": [
      "+-------------+--------+----------+------------------------------------+------------------------+----------------------------------+----------+-------------------------------+\n",
      "|      prdt_cd|store_cd|order_date|                            sku_name|           link_sku_name|                           comment|score_text|                       keywords|\n",
      "+-------------+--------+----------+------------------------------------+------------------------+----------------------------------+----------+-------------------------------+\n",
      "|1102150000000|    1018|  20220102|(후레쉬팩)미국냉장초이스척아이로스트|(후레쉬팩)미국산CH갈비살|    기름기가 많아서 \n",
      "먹기 불편했음|       Bad|    기름기 많아서 먹기 불편했음|\n",
      "|1102150000000|    1108|  20220101|(후레쉬팩)미국냉장초이스척아이로스트|(후레쉬팩)미국산CH갈비살| 기름이 너무너무 많아요.버린 기...|       Bad|       기름 많아요 기름 무게 만|\n",
      "|1102150000000|    1108|  20220101|(후레쉬팩)미국냉장초이스척아이로스트|(후레쉬팩)미국산CH갈비살|세일전주에 샀을때 손질해보니 기...|       Bad|전주 때 손질 기름 근육 고기 ...|\n",
      "|1102150000000|    1048|  20220101|(후레쉬팩)미국냉장초이스척아이로스트|(후레쉬팩)미국산CH갈비살| 고기가 상태가 별로였어요\n",
      "빨리 ...|       Bad|    고기 상태 별로 상한 고기 변|\n",
      "|1102150000000|    1150|  20220101|(후레쉬팩)미국냉장초이스척아이로스트|(후레쉬팩)미국산CH갈비살|   오~~\n",
      "요건 거격이 저렴해도 앞...|       Bad|오 요건 거격 저렴해도 앞 안 ...|\n",
      "+-------------+--------+----------+------------------------------------+------------------------+----------------------------------+----------+-------------------------------+\n",
      "only showing top 5 rows\n",
      "\n"
     ]
    },
    {
     "name": "stderr",
     "output_type": "stream",
     "text": [
      "                                                                                \r"
     ]
    }
   ],
   "source": [
    "df = spark.sql(query)\n",
    "df.show(5)"
   ]
  },
  {
   "cell_type": "markdown",
   "id": "68ee5e9c-8014-4667-b060-99ab5729720d",
   "metadata": {},
   "source": [
    "### S3로 데이터 적재"
   ]
  },
  {
   "cell_type": "code",
   "execution_count": 8,
   "id": "ceb4efa2-346c-4133-a48e-b6728712bf56",
   "metadata": {
    "execution": {
     "iopub.execute_input": "2022-09-30T04:03:47.309851Z",
     "iopub.status.busy": "2022-09-30T04:03:47.309473Z",
     "iopub.status.idle": "2022-09-30T04:03:50.825606Z",
     "shell.execute_reply": "2022-09-30T04:03:50.825030Z",
     "shell.execute_reply.started": "2022-09-30T04:03:47.309826Z"
    },
    "tags": []
   },
   "outputs": [
    {
     "name": "stderr",
     "output_type": "stream",
     "text": [
      "                                                                                \r"
     ]
    }
   ],
   "source": [
    "env = \"dev\" \n",
    "bucket = f\"emart-datafabric-{env}\"\n",
    "\n",
    "\n",
    "s3_path = f\"s3a://{bucket}/bigquery-db\"\n",
    "spark.sql(query).write.mode(\"overwrite\").parquet(s3_path)"
   ]
  },
  {
   "cell_type": "code",
   "execution_count": 9,
   "id": "d0d779ed-1c12-46b1-9ed6-48683c446ccd",
   "metadata": {
    "execution": {
     "iopub.execute_input": "2022-09-30T04:03:53.083116Z",
     "iopub.status.busy": "2022-09-30T04:03:53.082704Z",
     "iopub.status.idle": "2022-09-30T04:03:56.350653Z",
     "shell.execute_reply": "2022-09-30T04:03:56.349926Z",
     "shell.execute_reply.started": "2022-09-30T04:03:53.083086Z"
    }
   },
   "outputs": [
    {
     "name": "stdout",
     "output_type": "stream",
     "text": [
      "2022-09-30 13:03:54,208 INFO impl.MetricsConfig: Loaded properties from hadoop-metrics2.properties\n",
      "2022-09-30 13:03:54,259 INFO impl.MetricsSystemImpl: Scheduled Metric snapshot period at 10 second(s).\n",
      "2022-09-30 13:03:54,259 INFO impl.MetricsSystemImpl: s3a-file-system metrics system started\n",
      "Found 2 items\n",
      "-rw-rw-rw-   1 datafabric datafabric          0 2022-09-30 13:03 s3a://emart-datafabric-dev/bigquery-db/_SUCCESS\n",
      "-rw-rw-rw-   1 datafabric datafabric   14702163 2022-09-30 13:03 s3a://emart-datafabric-dev/bigquery-db/part-00000-12819580-5b71-4929-8823-63f2c574f7b5-c000.snappy.parquet\n",
      "2022-09-30 13:03:55,901 INFO impl.MetricsSystemImpl: Stopping s3a-file-system metrics system...\n",
      "2022-09-30 13:03:55,901 INFO impl.MetricsSystemImpl: s3a-file-system metrics system stopped.\n",
      "2022-09-30 13:03:55,901 INFO impl.MetricsSystemImpl: s3a-file-system metrics system shutdown complete.\n"
     ]
    }
   ],
   "source": [
    "!hdfs dfs -Dhadoop.security.credential.provider.path=jceks:///datafabric/credentials/aws.jceks -ls {s3_path}"
   ]
  },
  {
   "cell_type": "markdown",
   "id": "4701b9f6-d005-4f87-b34c-b61182cd8d7a",
   "metadata": {},
   "source": [
    "### Spark Context 종료"
   ]
  },
  {
   "cell_type": "code",
   "execution_count": 10,
   "id": "e4dc5439-8f16-4be0-b910-7ba09367e1aa",
   "metadata": {
    "execution": {
     "iopub.execute_input": "2022-09-30T04:03:59.981008Z",
     "iopub.status.busy": "2022-09-30T04:03:59.980588Z",
     "iopub.status.idle": "2022-09-30T04:04:00.774477Z",
     "shell.execute_reply": "2022-09-30T04:04:00.773869Z",
     "shell.execute_reply.started": "2022-09-30T04:03:59.980980Z"
    },
    "tags": []
   },
   "outputs": [],
   "source": [
    "spark.stop()"
   ]
  },
  {
   "cell_type": "code",
   "execution_count": null,
   "id": "d380a876-b1cd-4026-ac16-2060c4c9a50c",
   "metadata": {},
   "outputs": [],
   "source": []
  }
 ],
 "metadata": {
  "kernelspec": {
   "display_name": "Python 3 (ipykernel)",
   "language": "python",
   "name": "python3"
  },
  "language_info": {
   "codemirror_mode": {
    "name": "ipython",
    "version": 3
   },
   "file_extension": ".py",
   "mimetype": "text/x-python",
   "name": "python",
   "nbconvert_exporter": "python",
   "pygments_lexer": "ipython3",
   "version": "3.8.13"
  }
 },
 "nbformat": 4,
 "nbformat_minor": 5
}
