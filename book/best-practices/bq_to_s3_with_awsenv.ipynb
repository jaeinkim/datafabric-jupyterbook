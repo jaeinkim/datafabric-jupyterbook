{
 "cells": [
  {
   "cell_type": "markdown",
   "id": "2244c89a-965f-49bd-8056-194018c9f8b1",
   "metadata": {},
   "source": [
    "### S3로 데이터 적재"
   ]
  },
  {
   "cell_type": "code",
   "execution_count": null,
   "id": "cd0fc0e5-46f4-441a-a11b-6d2988199647",
   "metadata": {
    "tags": []
   },
   "outputs": [],
   "source": [
    "from pydatafabric.vault_utils import get_secrets\n",
    "\n",
    "aws_info = get_secrets(mount_point=\"datafabric\",path=\"mlops/access/data_loader\")"
   ]
  },
  {
   "cell_type": "code",
   "execution_count": null,
   "id": "0939c5b6-f6f7-4a11-8690-77a6721db283",
   "metadata": {
    "tags": []
   },
   "outputs": [],
   "source": [
    "from pydatafabric.ye import get_spark\n",
    "import os\n",
    "\n",
    "spark = get_spark()"
   ]
  },
  {
   "cell_type": "markdown",
   "id": "1f3cfcdd-cbc3-4806-8d42-2d9be4498845",
   "metadata": {},
   "source": [
    "### Spark 설정 필수 "
   ]
  },
  {
   "cell_type": "code",
   "execution_count": null,
   "id": "4be712a0-85c3-4f13-af26-45973acbeb98",
   "metadata": {
    "tags": []
   },
   "outputs": [],
   "source": [
    "spark.conf.set(\"fs.s3a.fast.upload.buffer\", \"disk\")\n",
    "spark.conf.set(\"fs.s3a.buffer.dir\", \"/tmp\")\n",
    "spark.conf.set(\"fs.s3a.access.key\", aws_info[\"aws_access_key_id\"])\n",
    "spark.conf.set(\"fs.s3a.secret.key\", aws_info[\"aws_secret_access_key\"])"
   ]
  },
  {
   "cell_type": "code",
   "execution_count": null,
   "id": "95e68d80-c835-44db-a5d5-685215c13bd0",
   "metadata": {
    "tags": []
   },
   "outputs": [],
   "source": [
    "review_keywords = spark.read.format('bigquery') \\\n",
    "  .option('table', 'smart-ruler-304409:product_attribute_module.app_review_keywords') \\\n",
    "  .load()\n",
    "review_keywords.createOrReplaceTempView('review_keywords')"
   ]
  },
  {
   "cell_type": "markdown",
   "id": "28c5354b-b993-467f-a37c-080c4514e7b7",
   "metadata": {},
   "source": [
    "### Temp View에서 질의를 통해 저장 "
   ]
  },
  {
   "cell_type": "code",
   "execution_count": null,
   "id": "644152aa-71d6-49e5-9521-1e2599619bab",
   "metadata": {
    "tags": []
   },
   "outputs": [],
   "source": [
    "query=\"select * from review_keywords\""
   ]
  },
  {
   "cell_type": "code",
   "execution_count": null,
   "id": "55424209-ddd0-4647-ae61-f479eba261b9",
   "metadata": {
    "tags": []
   },
   "outputs": [],
   "source": [
    "df = spark.sql(query)\n",
    "df.show(5)"
   ]
  },
  {
   "cell_type": "code",
   "execution_count": null,
   "id": "90269f4e-45f6-47d4-b742-6391dadf2800",
   "metadata": {
    "tags": []
   },
   "outputs": [],
   "source": [
    "env = [\"dev\"]"
   ]
  },
  {
   "cell_type": "markdown",
   "id": "68ee5e9c-8014-4667-b060-99ab5729720d",
   "metadata": {},
   "source": [
    "### S3로 데이터 적재"
   ]
  },
  {
   "cell_type": "code",
   "execution_count": null,
   "id": "ceb4efa2-346c-4133-a48e-b6728712bf56",
   "metadata": {
    "tags": []
   },
   "outputs": [],
   "source": [
    "for k in env:\n",
    "    s3_path = f\"s3a://mlops-loader-{k}/review_keywords\"\n",
    "    print(s3_path)\n",
    "\n",
    "    spark.sql(query).write.mode(\"overwrite\").parquet(s3_path)"
   ]
  },
  {
   "cell_type": "markdown",
   "id": "4701b9f6-d005-4f87-b34c-b61182cd8d7a",
   "metadata": {},
   "source": [
    "### Spark Context 종료"
   ]
  },
  {
   "cell_type": "code",
   "execution_count": null,
   "id": "e4dc5439-8f16-4be0-b910-7ba09367e1aa",
   "metadata": {
    "tags": []
   },
   "outputs": [],
   "source": [
    "spark.stop()"
   ]
  }
 ],
 "metadata": {
  "kernelspec": {
   "display_name": "Python 3 (ipykernel)",
   "language": "python",
   "name": "python3"
  },
  "language_info": {
   "codemirror_mode": {
    "name": "ipython",
    "version": 3
   },
   "file_extension": ".py",
   "mimetype": "text/x-python",
   "name": "python",
   "nbconvert_exporter": "python",
   "pygments_lexer": "ipython3",
   "version": "3.8.13"
  }
 },
 "nbformat": 4,
 "nbformat_minor": 5
}
