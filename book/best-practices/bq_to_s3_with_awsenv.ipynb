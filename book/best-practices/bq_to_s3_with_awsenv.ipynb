{
 "cells": [
  {
   "cell_type": "code",
   "execution_count": null,
   "id": "cd0fc0e5-46f4-441a-a11b-6d2988199647",
   "metadata": {
    "tags": []
   },
   "outputs": [],
   "source": [
    "from pydatafabric.vault_utils import get_secrets\n",
    "\n",
    "aws_info = get_secrets(path=\"apollo/access/dev\")"
   ]
  },
  {
   "cell_type": "code",
   "execution_count": null,
   "id": "0939c5b6-f6f7-4a11-8690-77a6721db283",
   "metadata": {
    "tags": []
   },
   "outputs": [],
   "source": [
    "from pydatafabric.ye import get_spark\n",
    "import os\n",
    "\n",
    "os.environ[\"AWS_ACCESS_KEY_ID\"] = aws_info[\"aws_access_key_id\"]\n",
    "os.environ[\"AWS_SECRET_ACCESS_KEY\"] = aws_info[\"aws_secret_access_key\"]\n",
    "\n",
    "spark = get_spark()"
   ]
  },
  {
   "cell_type": "code",
   "execution_count": null,
   "id": "70c712f2-61e1-4e7a-a3f0-36af20714bda",
   "metadata": {},
   "outputs": [],
   "source": [
    "partitions = spark.sql(\"show partitions saturn.ci_mst\").collect()\n",
    "dts = [r[\"partition\"].split(\"=\")[-1] for r in partitions]\n",
    "max_dt = max(dts)"
   ]
  },
  {
   "cell_type": "code",
   "execution_count": null,
   "id": "f912ffa5-c9df-4a10-b76c-247204a30675",
   "metadata": {},
   "outputs": [],
   "source": [
    "from datetime import datetime, timedelta\n",
    "\n",
    "c_dt = datetime.strptime(max_dt, '%Y%m%d')\n",
    "\n",
    "o_dt = c_dt + timedelta(days=-1)\n",
    "\n",
    "c_dt = datetime.strftime(c_dt, '%Y%m%d')\n",
    "o_dt = datetime.strftime(o_dt, '%Y%m%d')\n",
    "\n",
    "print('c_dt : %s' % c_dt)\n",
    "print('o_dt : %s' % o_dt)"
   ]
  },
  {
   "cell_type": "code",
   "execution_count": null,
   "id": "52a17f83-67e0-473d-a07a-820590fe5d78",
   "metadata": {},
   "outputs": [],
   "source": [
    "spark.sql(f\"\"\" select mgmt_num  as svc_mgmt_num, ci from saturn.ci_mst where dt={c_dt} \"\"\").registerTempTable(\n",
    "    'latest_table')\n",
    "spark.sql(f\"\"\" select mgmt_num  as svc_mgmt_num, ci from saturn.ci_mst where dt={o_dt} \"\"\").registerTempTable(\n",
    "    'old_table')"
   ]
  },
  {
   "cell_type": "code",
   "execution_count": null,
   "id": "14f82e5b-7619-4350-a711-15aba52ccd41",
   "metadata": {},
   "outputs": [],
   "source": [
    "query = \"\"\"\n",
    "\n",
    "    select\n",
    "        l.svc_mgmt_num,\n",
    "        l.ci\n",
    "    from \n",
    "        latest_table l left outer join old_table o\n",
    "        on l.svc_mgmt_num = o.svc_mgmt_num\n",
    "    where\n",
    "        o.svc_mgmt_num is null\n",
    "        and l.ci is not null\n",
    "\n",
    "\"\"\""
   ]
  },
  {
   "cell_type": "code",
   "execution_count": null,
   "id": "90269f4e-45f6-47d4-b742-6391dadf2800",
   "metadata": {
    "tags": []
   },
   "outputs": [],
   "source": [
    "env = [\"dev\", \"stg\", \"prd\"]"
   ]
  },
  {
   "cell_type": "code",
   "execution_count": null,
   "id": "ceb4efa2-346c-4133-a48e-b6728712bf56",
   "metadata": {
    "tags": []
   },
   "outputs": [],
   "source": [
    "for k in env:\n",
    "    s3_path = f\"s3a://datafabric-ci-mapping-prd/ci_table\"\n",
    "    print(s3_path)\n",
    "\n",
    "    aws_info = get_secrets(mount_point=\"datafabric\", path=f\"aws/s3/access/prd\")\n",
    "    spark.conf.set(\"fs.s3a.access.key\", aws_info[\"aws_access_key_id\"])\n",
    "    spark.conf.set(\"fs.s3a.secret.key\", aws_info[\"aws_secret_access_key\"])\n",
    "\n",
    "    spark.sql(query).write.mode(\"overwrite\").parquet(s3_path)"
   ]
  },
  {
   "cell_type": "code",
   "execution_count": null,
   "id": "e4dc5439-8f16-4be0-b910-7ba09367e1aa",
   "metadata": {
    "tags": []
   },
   "outputs": [],
   "source": [
    "spark.stop()"
   ]
  }
 ],
 "metadata": {
  "kernelspec": {
   "display_name": "Python 3",
   "language": "python",
   "name": "python3"
  },
  "language_info": {
   "codemirror_mode": {
    "name": "ipython",
    "version": 3
   },
   "file_extension": ".py",
   "mimetype": "text/x-python",
   "name": "python",
   "nbconvert_exporter": "python",
   "pygments_lexer": "ipython3",
   "version": "3.6.13"
  }
 },
 "nbformat": 4,
 "nbformat_minor": 5
}