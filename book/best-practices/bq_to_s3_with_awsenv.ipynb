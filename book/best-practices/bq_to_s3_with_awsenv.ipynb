{
 "cells": [
  {
   "cell_type": "markdown",
   "id": "2244c89a-965f-49bd-8056-194018c9f8b1",
   "metadata": {},
   "source": [
    "### S3로 데이터 적재"
   ]
  },
  {
   "cell_type": "code",
   "execution_count": 1,
   "id": "cd0fc0e5-46f4-441a-a11b-6d2988199647",
   "metadata": {
    "execution": {
     "iopub.execute_input": "2022-04-21T12:36:50.478708Z",
     "iopub.status.busy": "2022-04-21T12:36:50.477994Z",
     "iopub.status.idle": "2022-04-21T12:36:50.571318Z",
     "shell.execute_reply": "2022-04-21T12:36:50.570869Z",
     "shell.execute_reply.started": "2022-04-21T12:36:50.478634Z"
    },
    "tags": []
   },
   "outputs": [],
   "source": [
    "from pydatafabric.vault_utils import get_secrets\n",
    "\n",
    "aws_info = get_secrets(mount_point=\"datafabric\",path=\"mlops/access/data_loader\")"
   ]
  },
  {
   "cell_type": "code",
   "execution_count": 2,
   "id": "0939c5b6-f6f7-4a11-8690-77a6721db283",
   "metadata": {
    "execution": {
     "iopub.execute_input": "2022-04-21T12:36:54.404595Z",
     "iopub.status.busy": "2022-04-21T12:36:54.404275Z",
     "iopub.status.idle": "2022-04-21T12:37:07.103186Z",
     "shell.execute_reply": "2022-04-21T12:37:07.102668Z",
     "shell.execute_reply.started": "2022-04-21T12:36:54.404558Z"
    },
    "tags": []
   },
   "outputs": [
    {
     "name": "stderr",
     "output_type": "stream",
     "text": [
      "Setting default log level to \"WARN\".\n",
      "To adjust logging level use sc.setLogLevel(newLevel). For SparkR, use setLogLevel(newLevel).\n",
      "22/04/21 21:36:59 INFO org.apache.spark.SparkEnv: Registering MapOutputTracker\n",
      "22/04/21 21:36:59 INFO org.apache.spark.SparkEnv: Registering BlockManagerMaster\n",
      "22/04/21 21:36:59 INFO org.apache.spark.SparkEnv: Registering BlockManagerMasterHeartbeat\n",
      "22/04/21 21:36:59 INFO org.apache.spark.SparkEnv: Registering OutputCommitCoordinator\n"
     ]
    }
   ],
   "source": [
    "from pydatafabric.ye import get_spark\n",
    "import os\n",
    "\n",
    "#valut를 통해 aws credential 정보 로딩\n",
    "# os.environ[\"AWS_ACCESS_KEY_ID\"] = aws_info[\"aws_access_key_id\"]\n",
    "# os.environ[\"AWS_SECRET_ACCESS_KEY\"] = aws_info[\"aws_secret_access_key\"]\n",
    "\n",
    "# !printenv | grep -i aws\n",
    "\n",
    "spark = get_spark()"
   ]
  },
  {
   "cell_type": "code",
   "execution_count": 3,
   "id": "4be712a0-85c3-4f13-af26-45973acbeb98",
   "metadata": {
    "execution": {
     "iopub.execute_input": "2022-04-21T12:37:08.841550Z",
     "iopub.status.busy": "2022-04-21T12:37:08.841239Z",
     "iopub.status.idle": "2022-04-21T12:37:08.848459Z",
     "shell.execute_reply": "2022-04-21T12:37:08.847900Z",
     "shell.execute_reply.started": "2022-04-21T12:37:08.841523Z"
    },
    "tags": []
   },
   "outputs": [],
   "source": [
    "spark.conf.set(\"fs.s3a.fast.upload.buffer\", \"disk\")\n",
    "spark.conf.set(\"fs.s3a.buffer.dir\", \"/tmp\")\n",
    "# spark.conf.set(\"fs.s3a.fast.upload\", \"true\")\n",
    "# spark.conf.set(\"fs.s3a.fast.upload.active.blocks\", 1)\n",
    "spark.conf.set(\"fs.s3a.access.key\", aws_info[\"aws_access_key_id\"])\n",
    "spark.conf.set(\"fs.s3a.secret.key\", aws_info[\"aws_secret_access_key\"])"
   ]
  },
  {
   "cell_type": "code",
   "execution_count": 4,
   "id": "95e68d80-c835-44db-a5d5-685215c13bd0",
   "metadata": {
    "execution": {
     "iopub.execute_input": "2022-04-21T12:37:12.522203Z",
     "iopub.status.busy": "2022-04-21T12:37:12.521503Z",
     "iopub.status.idle": "2022-04-21T12:37:19.756090Z",
     "shell.execute_reply": "2022-04-21T12:37:19.755605Z",
     "shell.execute_reply.started": "2022-04-21T12:37:12.522160Z"
    },
    "tags": []
   },
   "outputs": [],
   "source": [
    "review_keywords = spark.read.format('bigquery') \\\n",
    "  .option('table', 'smart-ruler-304409:product_attribute_module.app_review_keywords') \\\n",
    "  .load()\n",
    "review_keywords.createOrReplaceTempView('review_keywords')"
   ]
  },
  {
   "cell_type": "code",
   "execution_count": 5,
   "id": "644152aa-71d6-49e5-9521-1e2599619bab",
   "metadata": {
    "execution": {
     "iopub.execute_input": "2022-04-21T12:37:20.390624Z",
     "iopub.status.busy": "2022-04-21T12:37:20.390308Z",
     "iopub.status.idle": "2022-04-21T12:37:20.393787Z",
     "shell.execute_reply": "2022-04-21T12:37:20.393185Z",
     "shell.execute_reply.started": "2022-04-21T12:37:20.390598Z"
    },
    "tags": []
   },
   "outputs": [],
   "source": [
    "query=\"select * from review_keywords\""
   ]
  },
  {
   "cell_type": "code",
   "execution_count": 6,
   "id": "55424209-ddd0-4647-ae61-f479eba261b9",
   "metadata": {
    "execution": {
     "iopub.execute_input": "2022-04-21T12:37:24.205110Z",
     "iopub.status.busy": "2022-04-21T12:37:24.204809Z",
     "iopub.status.idle": "2022-04-21T12:37:30.952645Z",
     "shell.execute_reply": "2022-04-21T12:37:30.952170Z",
     "shell.execute_reply.started": "2022-04-21T12:37:24.205084Z"
    },
    "tags": []
   },
   "outputs": [
    {
     "name": "stderr",
     "output_type": "stream",
     "text": [
      "[Stage 0:>                                                          (0 + 1) / 1]\r"
     ]
    },
    {
     "name": "stdout",
     "output_type": "stream",
     "text": [
      "+-------------+--------+----------+------------------------------------+------------------------+----------------------------------+----------+-------------------------------+\n",
      "|      prdt_cd|store_cd|order_date|                            sku_name|           link_sku_name|                           comment|score_text|                       keywords|\n",
      "+-------------+--------+----------+------------------------------------+------------------------+----------------------------------+----------+-------------------------------+\n",
      "|1102150000000|    1018|  20220102|(후레쉬팩)미국냉장초이스척아이로스트|(후레쉬팩)미국산CH갈비살|    기름기가 많아서 \n",
      "먹기 불편했음|       Bad|    기름기 많아서 먹기 불편했음|\n",
      "|1102150000000|    1108|  20220101|(후레쉬팩)미국냉장초이스척아이로스트|(후레쉬팩)미국산CH갈비살| 기름이 너무너무 많아요.버린 기...|       Bad|       기름 많아요 기름 무게 만|\n",
      "|1102150000000|    1108|  20220101|(후레쉬팩)미국냉장초이스척아이로스트|(후레쉬팩)미국산CH갈비살|세일전주에 샀을때 손질해보니 기...|       Bad|전주 때 손질 기름 근육 고기 ...|\n",
      "|1102150000000|    1048|  20220101|(후레쉬팩)미국냉장초이스척아이로스트|(후레쉬팩)미국산CH갈비살| 고기가 상태가 별로였어요\n",
      "빨리 ...|       Bad|    고기 상태 별로 상한 고기 변|\n",
      "|1102150000000|    1150|  20220101|(후레쉬팩)미국냉장초이스척아이로스트|(후레쉬팩)미국산CH갈비살|   오~~\n",
      "요건 거격이 저렴해도 앞...|       Bad|오 요건 거격 저렴해도 앞 안 ...|\n",
      "+-------------+--------+----------+------------------------------------+------------------------+----------------------------------+----------+-------------------------------+\n",
      "only showing top 5 rows\n",
      "\n"
     ]
    },
    {
     "name": "stderr",
     "output_type": "stream",
     "text": [
      "                                                                                \r"
     ]
    }
   ],
   "source": [
    "df = spark.sql(query)\n",
    "df.show(5)"
   ]
  },
  {
   "cell_type": "code",
   "execution_count": 7,
   "id": "90269f4e-45f6-47d4-b742-6391dadf2800",
   "metadata": {
    "execution": {
     "iopub.execute_input": "2022-04-21T12:37:32.438006Z",
     "iopub.status.busy": "2022-04-21T12:37:32.437714Z",
     "iopub.status.idle": "2022-04-21T12:37:32.440846Z",
     "shell.execute_reply": "2022-04-21T12:37:32.440377Z",
     "shell.execute_reply.started": "2022-04-21T12:37:32.437982Z"
    },
    "tags": []
   },
   "outputs": [],
   "source": [
    "env = [\"dev\"]"
   ]
  },
  {
   "cell_type": "code",
   "execution_count": 8,
   "id": "ceb4efa2-346c-4133-a48e-b6728712bf56",
   "metadata": {
    "execution": {
     "iopub.execute_input": "2022-04-21T12:37:33.172319Z",
     "iopub.status.busy": "2022-04-21T12:37:33.172028Z",
     "iopub.status.idle": "2022-04-21T12:37:42.805040Z",
     "shell.execute_reply": "2022-04-21T12:37:42.804395Z",
     "shell.execute_reply.started": "2022-04-21T12:37:33.172295Z"
    },
    "tags": []
   },
   "outputs": [
    {
     "name": "stdout",
     "output_type": "stream",
     "text": [
      "s3a://mlops-loader-dev/review_keywords\n"
     ]
    },
    {
     "name": "stderr",
     "output_type": "stream",
     "text": [
      "                                                                                \r"
     ]
    }
   ],
   "source": [
    "for k in env:\n",
    "    s3_path = f\"s3a://mlops-loader-dev/review_keywords\"\n",
    "    print(s3_path)\n",
    "\n",
    "    spark.sql(query).write.mode(\"overwrite\").parquet(s3_path)\n",
    "    # review_keywords.write.mode(\"overwrite\").parquet(s3_path)\n"
   ]
  },
  {
   "cell_type": "code",
   "execution_count": 9,
   "id": "e4dc5439-8f16-4be0-b910-7ba09367e1aa",
   "metadata": {
    "execution": {
     "iopub.execute_input": "2022-04-21T12:37:47.420253Z",
     "iopub.status.busy": "2022-04-21T12:37:47.419957Z",
     "iopub.status.idle": "2022-04-21T12:37:48.466549Z",
     "shell.execute_reply": "2022-04-21T12:37:48.466078Z",
     "shell.execute_reply.started": "2022-04-21T12:37:47.420229Z"
    },
    "tags": []
   },
   "outputs": [],
   "source": [
    "spark.stop()"
   ]
  },
  {
   "cell_type": "code",
   "execution_count": null,
   "id": "de6604f6-aa82-48d2-82b3-c8ae33c1a0b4",
   "metadata": {},
   "outputs": [],
   "source": []
  }
 ],
 "metadata": {
  "kernelspec": {
   "display_name": "Python 3 (ipykernel)",
   "language": "python",
   "name": "python3"
  },
  "language_info": {
   "codemirror_mode": {
    "name": "ipython",
    "version": 3
   },
   "file_extension": ".py",
   "mimetype": "text/x-python",
   "name": "python",
   "nbconvert_exporter": "python",
   "pygments_lexer": "ipython3",
   "version": "3.8.13"
  }
 },
 "nbformat": 4,
 "nbformat_minor": 5
}
