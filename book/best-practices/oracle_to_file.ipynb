{
 "cells": [
  {
   "cell_type": "code",
   "execution_count": 2,
   "metadata": {
    "execution": {
     "iopub.execute_input": "2022-04-28T13:34:31.823041Z",
     "iopub.status.busy": "2022-04-28T13:34:31.822681Z",
     "iopub.status.idle": "2022-04-28T13:34:31.840915Z",
     "shell.execute_reply": "2022-04-28T13:34:31.840290Z",
     "shell.execute_reply.started": "2022-04-28T13:34:31.823000Z"
    }
   },
   "outputs": [],
   "source": [
    "%load_ext autoreload\n",
    "%autoreload 2"
   ]
  },
  {
   "cell_type": "code",
   "execution_count": 3,
   "metadata": {
    "execution": {
     "iopub.execute_input": "2022-04-28T13:34:36.173169Z",
     "iopub.status.busy": "2022-04-28T13:34:36.172724Z",
     "iopub.status.idle": "2022-04-28T13:34:36.578745Z",
     "shell.execute_reply": "2022-04-28T13:34:36.578118Z",
     "shell.execute_reply.started": "2022-04-28T13:34:36.173123Z"
    }
   },
   "outputs": [],
   "source": [
    "from pydatafabric.vault_utils import get_secrets\n",
    "\n",
    "oracle_info = get_secrets(mount_point=\"datafabric\",path=\"oracle/datafabric/oracle-db\")\n",
    "aws_info = get_secrets(mount_point=\"datafabric\",path=\"aws/credentials/datafabric\")"
   ]
  },
  {
   "cell_type": "code",
   "execution_count": 4,
   "metadata": {
    "execution": {
     "iopub.execute_input": "2022-04-28T13:34:39.424070Z",
     "iopub.status.busy": "2022-04-28T13:34:39.423723Z",
     "iopub.status.idle": "2022-04-28T13:34:50.639424Z",
     "shell.execute_reply": "2022-04-28T13:34:50.638561Z",
     "shell.execute_reply.started": "2022-04-28T13:34:39.424043Z"
    }
   },
   "outputs": [
    {
     "name": "stderr",
     "output_type": "stream",
     "text": [
      "Setting default log level to \"WARN\".\n",
      "To adjust logging level use sc.setLogLevel(newLevel). For SparkR, use setLogLevel(newLevel).\n",
      "22/04/28 22:34:44 INFO org.apache.spark.SparkEnv: Registering MapOutputTracker\n",
      "22/04/28 22:34:44 INFO org.apache.spark.SparkEnv: Registering BlockManagerMaster\n",
      "22/04/28 22:34:45 INFO org.apache.spark.SparkEnv: Registering BlockManagerMasterHeartbeat\n",
      "22/04/28 22:34:45 INFO org.apache.spark.SparkEnv: Registering OutputCommitCoordinator\n"
     ]
    }
   ],
   "source": [
    "from pydatafabric.ye import get_spark\n",
    "\n",
    "spark = get_spark(extra_jars=\"gs://emart-datafabric-resources/jars/ojdbc8.jar\")"
   ]
  },
  {
   "cell_type": "code",
   "execution_count": 5,
   "metadata": {
    "execution": {
     "iopub.execute_input": "2022-04-28T13:34:53.336900Z",
     "iopub.status.busy": "2022-04-28T13:34:53.336431Z",
     "iopub.status.idle": "2022-04-28T13:34:53.357101Z",
     "shell.execute_reply": "2022-04-28T13:34:53.356491Z",
     "shell.execute_reply.started": "2022-04-28T13:34:53.336847Z"
    }
   },
   "outputs": [],
   "source": [
    "spark.conf.set(\"fs.s3a.fast.upload.buffer\", \"disk\")\n",
    "spark.conf.set(\"fs.s3a.buffer.dir\", \"/tmp\")\n",
    "spark.conf.set(\"fs.s3a.access.key\", aws_info[\"aws_access_key_id\"])\n",
    "spark.conf.set(\"fs.s3a.secret.key\", aws_info[\"aws_secret_access_key\"])\n",
    "spark.conf.set(\"spark.sql.debug.maxToStringFields\", 2000)"
   ]
  },
  {
   "cell_type": "code",
   "execution_count": 6,
   "metadata": {
    "execution": {
     "iopub.execute_input": "2022-04-28T13:34:54.690550Z",
     "iopub.status.busy": "2022-04-28T13:34:54.690205Z",
     "iopub.status.idle": "2022-04-28T13:34:57.301732Z",
     "shell.execute_reply": "2022-04-28T13:34:57.300881Z",
     "shell.execute_reply.started": "2022-04-28T13:34:54.690520Z"
    },
    "tags": [
     "parameters"
    ]
   },
   "outputs": [],
   "source": [
    "df = spark.read.format(\"jdbc\") \\\n",
    "    .option(\"url\", oracle_info['jdbc_url']) \\\n",
    "    .option(\"user\", oracle_info['user']) \\\n",
    "    .option(\"password\", oracle_info['password']) \\\n",
    "    .option(\"driver\", \"oracle.jdbc.driver.OracleDriver\") \\\n",
    "    .option(\"dbtable\", \"all_tables\") \\\n",
    "    .load()"
   ]
  },
  {
   "cell_type": "code",
   "execution_count": 7,
   "metadata": {
    "execution": {
     "iopub.execute_input": "2022-04-28T13:34:58.130591Z",
     "iopub.status.busy": "2022-04-28T13:34:58.130160Z",
     "iopub.status.idle": "2022-04-28T13:35:01.978418Z",
     "shell.execute_reply": "2022-04-28T13:35:01.977765Z",
     "shell.execute_reply.started": "2022-04-28T13:34:58.130537Z"
    }
   },
   "outputs": [
    {
     "name": "stderr",
     "output_type": "stream",
     "text": [
      "[Stage 0:>                                                          (0 + 1) / 1]\r"
     ]
    },
    {
     "name": "stdout",
     "output_type": "stream",
     "text": [
      "+-----+----------------+---------------+--------------+--------+------+-------------+-------------+------------+--------------+-----------------+------------------+------------+--------------------+------------+------------+---------------+-------+---------+-----------------+---------------+------------+---------+---------+--------------+-------------------------+-------------------+----------+----------+-----+----------+-----------------+-------------------+-----------+--------+---------+---------+------+-----------+-----------+----------------+------------+------------+----------+--------+------------+----------+-------------+------------+-----------+------------+-------+---------+---------------+------------+----------+-----------------+-------------+------------+--------------+--------+-----------------+-------------------+--------------------+------------------+-----------------+----------+-------+------------------+---------------------+--------+------+----------+------------------+-------------+------------------+----------------------+----------------+---------------------+--------------------+----------------+-----------------+--------------------+----------+---------------------+-------------------+\n",
      "|OWNER|      TABLE_NAME|TABLESPACE_NAME|  CLUSTER_NAME|IOT_NAME|STATUS|     PCT_FREE|     PCT_USED|   INI_TRANS|     MAX_TRANS|   INITIAL_EXTENT|       NEXT_EXTENT| MIN_EXTENTS|         MAX_EXTENTS|PCT_INCREASE|   FREELISTS|FREELIST_GROUPS|LOGGING|BACKED_UP|         NUM_ROWS|         BLOCKS|EMPTY_BLOCKS|AVG_SPACE|CHAIN_CNT|   AVG_ROW_LEN|AVG_SPACE_FREELIST_BLOCKS|NUM_FREELIST_BLOCKS|    DEGREE| INSTANCES|CACHE|TABLE_LOCK|      SAMPLE_SIZE|      LAST_ANALYZED|PARTITIONED|IOT_TYPE|TEMPORARY|SECONDARY|NESTED|BUFFER_POOL|FLASH_CACHE|CELL_FLASH_CACHE|ROW_MOVEMENT|GLOBAL_STATS|USER_STATS|DURATION|SKIP_CORRUPT|MONITORING|CLUSTER_OWNER|DEPENDENCIES|COMPRESSION|COMPRESS_FOR|DROPPED|READ_ONLY|SEGMENT_CREATED|RESULT_CACHE|CLUSTERING|ACTIVITY_TRACKING|DML_TIMESTAMP|HAS_IDENTITY|CONTAINER_DATA|INMEMORY|INMEMORY_PRIORITY|INMEMORY_DISTRIBUTE|INMEMORY_COMPRESSION|INMEMORY_DUPLICATE|DEFAULT_COLLATION|DUPLICATED|SHARDED|EXTERNALLY_SHARDED|EXTERNALLY_DUPLICATED|EXTERNAL|HYBRID|CELLMEMORY|CONTAINERS_DEFAULT|CONTAINER_MAP|EXTENDED_DATA_LINK|EXTENDED_DATA_LINK_MAP|INMEMORY_SERVICE|INMEMORY_SERVICE_NAME|CONTAINER_MAP_OBJECT|MEMOPTIMIZE_READ|MEMOPTIMIZE_WRITE|HAS_SENSITIVE_COLUMN|ADMIT_NULL|DATA_LINK_DML_ENABLED|LOGICAL_REPLICATION|\n",
      "+-----+----------------+---------------+--------------+--------+------+-------------+-------------+------------+--------------+-----------------+------------------+------------+--------------------+------------+------------+---------------+-------+---------+-----------------+---------------+------------+---------+---------+--------------+-------------------------+-------------------+----------+----------+-----+----------+-----------------+-------------------+-----------+--------+---------+---------+------+-----------+-----------+----------------+------------+------------+----------+--------+------------+----------+-------------+------------+-----------+------------+-------+---------+---------------+------------+----------+-----------------+-------------+------------+--------------+--------+-----------------+-------------------+--------------------+------------------+-----------------+----------+-------+------------------+---------------------+--------+------+----------+------------------+-------------+------------------+----------------------+----------------+---------------------+--------------------+----------------+-----------------+--------------------+----------+---------------------+-------------------+\n",
      "|  SYS|             TS$|         SYSTEM|         C_TS#|    null| VALID|        0E-10|        0E-10|       0E-10|         0E-10| 65536.0000000000|1048576.0000000000|1.0000000000|2147483645.000000...|        null|1.0000000000|   1.0000000000|    YES|        N|     5.0000000000|   5.0000000000|       0E-10|    0E-10|    0E-10| 88.0000000000|                    0E-10|              0E-10|         1|         1|    N|   ENABLED|     5.0000000000|2021-07-28 04:34:48|         NO|    null|        N|        N|    NO|    DEFAULT|    DEFAULT|         DEFAULT|    DISABLED|         YES|        NO|    null|    DISABLED|       YES|          SYS|    DISABLED|   DISABLED|        null|     NO|       NO|            YES|     DEFAULT|        NO|             null|         null|          NO|            NO|DISABLED|             null|               null|                null|              null|   USING_NLS_COMP|         N|      N|                 N|                    N|      NO|    NO|      null|                NO|           NO|                NO|                    NO|            null|                 null|                  NO|        DISABLED|         DISABLED|                  NO|        NO|                   NO|            ENABLED|\n",
      "|  SYS|           ICOL$|         SYSTEM|        C_OBJ#|    null| VALID|        0E-10|        0E-10|       0E-10|         0E-10|139264.0000000000| 204800.0000000000|1.0000000000|2147483645.000000...|        null|1.0000000000|   1.0000000000|    YES|        N|  4687.0000000000|1585.0000000000|       0E-10|    0E-10|    0E-10| 30.0000000000|                    0E-10|              0E-10|         1|         1|    N|   ENABLED|  4687.0000000000|2021-07-28 04:34:01|         NO|    null|        N|        N|    NO|    DEFAULT|    DEFAULT|         DEFAULT|    DISABLED|         YES|        NO|    null|    DISABLED|       YES|          SYS|    DISABLED|   DISABLED|        null|     NO|       NO|            YES|     DEFAULT|        NO|             null|         null|          NO|            NO|DISABLED|             null|               null|                null|              null|   USING_NLS_COMP|         N|      N|                 N|                    N|      NO|    NO|      null|                NO|           NO|                NO|                    NO|            null|                 null|                  NO|        DISABLED|         DISABLED|                  NO|        NO|                   NO|            ENABLED|\n",
      "|  SYS|           USER$|         SYSTEM|       C_USER#|    null| VALID|        0E-10|        0E-10|       0E-10|         0E-10| 65536.0000000000|1048576.0000000000|1.0000000000|2147483645.000000...|        null|1.0000000000|   1.0000000000|    YES|        N|    77.0000000000|   4.0000000000|       0E-10|    0E-10|    0E-10|149.0000000000|                    0E-10|              0E-10|         1|         1|    N|   ENABLED|    77.0000000000|2021-07-28 04:34:51|         NO|    null|        N|        N|    NO|    DEFAULT|    DEFAULT|         DEFAULT|    DISABLED|         YES|        NO|    null|    DISABLED|       YES|          SYS|    DISABLED|   DISABLED|        null|     NO|       NO|            YES|     DEFAULT|        NO|             null|         null|          NO|            NO|DISABLED|             null|               null|                null|              null|   USING_NLS_COMP|         N|      N|                 N|                    N|      NO|    NO|      null|                NO|           NO|                NO|                    NO|            null|                 null|                  NO|        DISABLED|         DISABLED|                 YES|        NO|                   NO|            ENABLED|\n",
      "|  SYS|           CDEF$|         SYSTEM|       C_COBJ#|    null| VALID|        0E-10|        0E-10|       0E-10|         0E-10| 57344.0000000000|1048576.0000000000|1.0000000000|2147483645.000000...|        null|1.0000000000|   1.0000000000|    YES|        N|  6568.0000000000|  92.0000000000|       0E-10|    0E-10|    0E-10| 48.0000000000|                    0E-10|              0E-10|         1|         1|    N|   ENABLED|  6568.0000000000|2021-07-28 04:33:44|         NO|    null|        N|        N|    NO|    DEFAULT|    DEFAULT|         DEFAULT|    DISABLED|         YES|        NO|    null|    DISABLED|       YES|          SYS|    DISABLED|   DISABLED|        null|     NO|       NO|            YES|     DEFAULT|        NO|             null|         null|          NO|            NO|DISABLED|             null|               null|                null|              null|   USING_NLS_COMP|         N|      N|                 N|                    N|      NO|    NO|      null|                NO|           NO|                NO|                    NO|            null|                 null|                  NO|        DISABLED|         DISABLED|                  NO|        NO|                   NO|            ENABLED|\n",
      "|  SYS|           CCOL$|         SYSTEM|       C_COBJ#|    null| VALID|        0E-10|        0E-10|       0E-10|         0E-10| 57344.0000000000|1048576.0000000000|1.0000000000|2147483645.000000...|        null|1.0000000000|   1.0000000000|    YES|        N|  8332.0000000000|  92.0000000000|       0E-10|    0E-10|    0E-10| 20.0000000000|                    0E-10|              0E-10|         1|         1|    N|   ENABLED|  8332.0000000000|2021-07-28 04:33:43|         NO|    null|        N|        N|    NO|    DEFAULT|    DEFAULT|         DEFAULT|    DISABLED|         YES|        NO|    null|    DISABLED|       YES|          SYS|    DISABLED|   DISABLED|        null|     NO|       NO|            YES|     DEFAULT|        NO|             null|         null|          NO|            NO|DISABLED|             null|               null|                null|              null|   USING_NLS_COMP|         N|      N|                 N|                    N|      NO|    NO|      null|                NO|           NO|                NO|                    NO|            null|                 null|                  NO|        DISABLED|         DISABLED|                  NO|        NO|                   NO|            ENABLED|\n",
      "|  SYS|            SEG$|         SYSTEM|C_FILE#_BLOCK#|    null| VALID|        0E-10|        0E-10|       0E-10|         0E-10| 24576.0000000000|1048576.0000000000|1.0000000000|2147483645.000000...|        null|1.0000000000|   1.0000000000|    YES|        N|  4351.0000000000| 127.0000000000|       0E-10|    0E-10|    0E-10| 64.0000000000|                    0E-10|              0E-10|         1|         1|    N|   ENABLED|  4351.0000000000|2021-07-28 04:34:37|         NO|    null|        N|        N|    NO|    DEFAULT|    DEFAULT|         DEFAULT|    DISABLED|         YES|        NO|    null|    DISABLED|       YES|          SYS|    DISABLED|   DISABLED|        null|     NO|       NO|            YES|     DEFAULT|        NO|             null|         null|          NO|            NO|DISABLED|             null|               null|                null|              null|   USING_NLS_COMP|         N|      N|                 N|                    N|      NO|    NO|      null|                NO|           NO|                NO|                    NO|            null|                 null|                  NO|        DISABLED|         DISABLED|                  NO|        NO|                   NO|            ENABLED|\n",
      "|  SYS|     PROXY_DATA$|         SYSTEM|          null|    null| VALID|10.0000000000|40.0000000000|1.0000000000|255.0000000000| 65536.0000000000|1048576.0000000000|1.0000000000|2147483645.000000...|        null|1.0000000000|   1.0000000000|    YES|        N|            0E-10|          0E-10|       0E-10|    0E-10|    0E-10|         0E-10|                    0E-10|              0E-10|         1|         1|    N|   ENABLED|            0E-10|2021-07-28 04:34:19|         NO|    null|        N|        N|    NO|    DEFAULT|    DEFAULT|         DEFAULT|    DISABLED|         YES|        NO|    null|    DISABLED|       YES|         null|    DISABLED|   DISABLED|        null|     NO|       NO|            YES|     DEFAULT|        NO|             null|         null|          NO|            NO|DISABLED|             null|               null|                null|              null|   USING_NLS_COMP|         N|      N|                 N|                    N|      NO|    NO|      null|                NO|           NO|                NO|                    NO|            null|                 null|                  NO|        DISABLED|         DISABLED|                  NO|        NO|                   NO|            ENABLED|\n",
      "|  SYS|            COL$|         SYSTEM|        C_OBJ#|    null| VALID|        0E-10|        0E-10|       0E-10|         0E-10|139264.0000000000| 204800.0000000000|1.0000000000|2147483645.000000...|        null|1.0000000000|   1.0000000000|    YES|        N|120891.0000000000|1585.0000000000|       0E-10|    0E-10|    0E-10| 66.0000000000|                    0E-10|              0E-10|         1|         1|    N|   ENABLED|120891.0000000000|2021-07-28 04:33:46|         NO|    null|        N|        N|    NO|    DEFAULT|    DEFAULT|         DEFAULT|    DISABLED|         YES|        NO|    null|    DISABLED|       YES|          SYS|    DISABLED|   DISABLED|        null|     NO|       NO|            YES|     DEFAULT|        NO|             null|         null|          NO|            NO|DISABLED|             null|               null|                null|              null|   USING_NLS_COMP|         N|      N|                 N|                    N|      NO|    NO|      null|                NO|           NO|                NO|                    NO|            null|                 null|                  NO|        DISABLED|         DISABLED|                  NO|        NO|                   NO|            ENABLED|\n",
      "|  SYS|            OBJ$|         SYSTEM|          null|    null| VALID|10.0000000000|40.0000000000|1.0000000000|255.0000000000| 16384.0000000000| 106496.0000000000|1.0000000000|2147483645.000000...|        null|1.0000000000|   1.0000000000|    YES|        N| 22517.0000000000| 365.0000000000|       0E-10|    0E-10|    0E-10|108.0000000000|                    0E-10|              0E-10|         1|         1|    N|   ENABLED| 22517.0000000000|2021-07-28 04:34:11|         NO|    null|        N|        N|    NO|    DEFAULT|    DEFAULT|         DEFAULT|    DISABLED|         YES|        NO|    null|    DISABLED|       YES|         null|    DISABLED|   DISABLED|        null|     NO|       NO|            YES|     DEFAULT|        NO|             null|         null|          NO|            NO|DISABLED|             null|               null|                null|              null|   USING_NLS_COMP|         N|      N|                 N|                    N|      NO|    NO|      null|                NO|           NO|                NO|                    NO|            null|                 null|                  NO|        DISABLED|         DISABLED|                  NO|        NO|                   NO|            ENABLED|\n",
      "|  SYS|            IND$|         SYSTEM|        C_OBJ#|    null| VALID|        0E-10|        0E-10|       0E-10|         0E-10|139264.0000000000| 204800.0000000000|1.0000000000|2147483645.000000...|        null|1.0000000000|   1.0000000000|    YES|        N|  2078.0000000000|1585.0000000000|       0E-10|    0E-10|    0E-10| 86.0000000000|                    0E-10|              0E-10|         1|         1|    N|   ENABLED|  2078.0000000000|2021-07-28 04:35:51|         NO|    null|        N|        N|    NO|    DEFAULT|    DEFAULT|         DEFAULT|    DISABLED|         YES|        NO|    null|    DISABLED|       YES|          SYS|    DISABLED|   DISABLED|        null|     NO|       NO|            YES|     DEFAULT|        NO|             null|         null|          NO|            NO|DISABLED|             null|               null|                null|              null|   USING_NLS_COMP|         N|      N|                 N|                    N|      NO|    NO|      null|                NO|           NO|                NO|                    NO|            null|                 null|                  NO|        DISABLED|         DISABLED|                  NO|        NO|                   NO|            ENABLED|\n",
      "|  SYS|      BOOTSTRAP$|         SYSTEM|          null|    null| VALID|10.0000000000|40.0000000000|1.0000000000|255.0000000000| 57344.0000000000|1048576.0000000000|1.0000000000|2147483645.000000...|        null|1.0000000000|   1.0000000000|    YES|        N|    60.0000000000|   3.0000000000|       0E-10|    0E-10|    0E-10|314.0000000000|                    0E-10|              0E-10|         1|         1|    N|   ENABLED|    60.0000000000|2021-07-28 04:33:43|         NO|    null|        N|        N|    NO|    DEFAULT|    DEFAULT|         DEFAULT|    DISABLED|         YES|        NO|    null|    DISABLED|       YES|         null|    DISABLED|   DISABLED|        null|     NO|       NO|            YES|     DEFAULT|        NO|             null|         null|          NO|            NO|DISABLED|             null|               null|                null|              null|   USING_NLS_COMP|         N|      N|                 N|                    N|      NO|    NO|      null|                NO|           NO|                NO|                    NO|            null|                 null|                  NO|        DISABLED|         DISABLED|                  NO|        NO|                   NO|            ENABLED|\n",
      "|  SYS|           UNDO$|         SYSTEM|          null|    null| VALID|10.0000000000|40.0000000000|1.0000000000|255.0000000000| 65536.0000000000|1048576.0000000000|1.0000000000|2147483645.000000...|        null|1.0000000000|   1.0000000000|    YES|        N|    11.0000000000|   1.0000000000|       0E-10|    0E-10|    0E-10| 52.0000000000|                    0E-10|              0E-10|         1|         1|    N|   ENABLED|    11.0000000000|2021-07-28 04:34:50|         NO|    null|        N|        N|    NO|    DEFAULT|    DEFAULT|         DEFAULT|    DISABLED|         YES|        NO|    null|    DISABLED|       YES|         null|    DISABLED|   DISABLED|        null|     NO|       NO|            YES|     DEFAULT|        NO|             null|         null|          NO|            NO|DISABLED|             null|               null|                null|              null|   USING_NLS_COMP|         N|      N|                 N|                    N|      NO|    NO|      null|                NO|           NO|                NO|                    NO|            null|                 null|                  NO|        DISABLED|         DISABLED|                  NO|        NO|                   NO|            ENABLED|\n",
      "|  SYS|            TAB$|         SYSTEM|        C_OBJ#|    null| VALID|        0E-10|        0E-10|       0E-10|         0E-10|139264.0000000000| 204800.0000000000|1.0000000000|2147483645.000000...|        null|1.0000000000|   1.0000000000|    YES|        N|  1882.0000000000|1585.0000000000|       0E-10|    0E-10|    0E-10|136.0000000000|                    0E-10|              0E-10|         1|         1|    N|   ENABLED|  1882.0000000000|2021-07-28 04:35:51|         NO|    null|        N|        N|    NO|    DEFAULT|    DEFAULT|         DEFAULT|    DISABLED|         YES|        NO|    null|    DISABLED|       YES|          SYS|    DISABLED|   DISABLED|        null|     NO|       NO|            YES|     DEFAULT|        NO|             null|         null|          NO|            NO|DISABLED|             null|               null|                null|              null|   USING_NLS_COMP|         N|      N|                 N|                    N|      NO|    NO|      null|                NO|           NO|                NO|                    NO|            null|                 null|                  NO|        DISABLED|         DISABLED|                  NO|        NO|                   NO|            ENABLED|\n",
      "|  SYS|            CON$|         SYSTEM|          null|    null| VALID|10.0000000000|40.0000000000|1.0000000000|255.0000000000| 65536.0000000000|1048576.0000000000|1.0000000000|2147483645.000000...|        null|1.0000000000|   1.0000000000|    YES|        N|  6569.0000000000|  28.0000000000|       0E-10|    0E-10|    0E-10| 22.0000000000|                    0E-10|              0E-10|         1|         1|    N|   ENABLED|  6569.0000000000|2021-07-28 04:33:48|         NO|    null|        N|        N|    NO|    DEFAULT|    DEFAULT|         DEFAULT|    DISABLED|         YES|        NO|    null|    DISABLED|       YES|         null|    DISABLED|   DISABLED|        null|     NO|       NO|            YES|     DEFAULT|        NO|             null|         null|          NO|            NO|DISABLED|             null|               null|                null|              null|   USING_NLS_COMP|         N|      N|                 N|                    N|      NO|    NO|      null|                NO|           NO|                NO|                    NO|            null|                 null|                  NO|        DISABLED|         DISABLED|                  NO|        NO|                   NO|            ENABLED|\n",
      "|  SYS|            CLU$|         SYSTEM|        C_OBJ#|    null| VALID|        0E-10|        0E-10|       0E-10|         0E-10|139264.0000000000| 204800.0000000000|1.0000000000|2147483645.000000...|        null|1.0000000000|   1.0000000000|    YES|        N|    10.0000000000|1585.0000000000|       0E-10|    0E-10|    0E-10| 45.0000000000|                    0E-10|              0E-10|         1|         1|    N|   ENABLED|    10.0000000000|2021-07-28 04:33:46|         NO|    null|        N|        N|    NO|    DEFAULT|    DEFAULT|         DEFAULT|    DISABLED|         YES|        NO|    null|    DISABLED|       YES|          SYS|    DISABLED|   DISABLED|        null|     NO|       NO|            YES|     DEFAULT|        NO|             null|         null|          NO|            NO|DISABLED|             null|               null|                null|              null|   USING_NLS_COMP|         N|      N|                 N|                    N|      NO|    NO|      null|                NO|           NO|                NO|                    NO|            null|                 null|                  NO|        DISABLED|         DISABLED|                  NO|        NO|                   NO|            ENABLED|\n",
      "|  SYS|            UET$|         SYSTEM|C_FILE#_BLOCK#|    null| VALID|        0E-10|        0E-10|       0E-10|         0E-10| 24576.0000000000|1048576.0000000000|1.0000000000|2147483645.000000...|        null|1.0000000000|   1.0000000000|    YES|        N|            0E-10| 127.0000000000|       0E-10|    0E-10|    0E-10|         0E-10|                    0E-10|              0E-10|         1|         1|    N|   ENABLED|            0E-10|2021-07-28 04:34:50|         NO|    null|        N|        N|    NO|    DEFAULT|    DEFAULT|         DEFAULT|    DISABLED|         YES|        NO|    null|    DISABLED|       YES|          SYS|    DISABLED|   DISABLED|        null|     NO|       NO|            YES|     DEFAULT|        NO|             null|         null|          NO|            NO|DISABLED|             null|               null|                null|              null|   USING_NLS_COMP|         N|      N|                 N|                    N|      NO|    NO|      null|                NO|           NO|                NO|                    NO|            null|                 null|                  NO|        DISABLED|         DISABLED|                  NO|        NO|                   NO|            ENABLED|\n",
      "|  SYS|            FET$|         SYSTEM|         C_TS#|    null| VALID|        0E-10|        0E-10|       0E-10|         0E-10| 65536.0000000000|1048576.0000000000|1.0000000000|2147483645.000000...|        null|1.0000000000|   1.0000000000|    YES|        N|            0E-10|   5.0000000000|       0E-10|    0E-10|    0E-10|         0E-10|                    0E-10|              0E-10|         1|         1|    N|   ENABLED|            0E-10|2021-07-28 04:33:55|         NO|    null|        N|        N|    NO|    DEFAULT|    DEFAULT|         DEFAULT|    DISABLED|         YES|        NO|    null|    DISABLED|       YES|          SYS|    DISABLED|   DISABLED|        null|     NO|       NO|            YES|     DEFAULT|        NO|             null|         null|          NO|            NO|DISABLED|             null|               null|                null|              null|   USING_NLS_COMP|         N|      N|                 N|                    N|      NO|    NO|      null|                NO|           NO|                NO|                    NO|            null|                 null|                  NO|        DISABLED|         DISABLED|                  NO|        NO|                   NO|            ENABLED|\n",
      "|  SYS|           FILE$|         SYSTEM|          null|    null| VALID|10.0000000000|40.0000000000|1.0000000000|255.0000000000| 65536.0000000000|1048576.0000000000|1.0000000000|2147483645.000000...|        null|1.0000000000|   1.0000000000|    YES|        N|     4.0000000000|   1.0000000000|       0E-10|    0E-10|    0E-10| 41.0000000000|                    0E-10|              0E-10|         1|         1|    N|   ENABLED|     4.0000000000|2021-07-28 04:33:56|         NO|    null|        N|        N|    NO|    DEFAULT|    DEFAULT|         DEFAULT|    DISABLED|         YES|        NO|    null|    DISABLED|       YES|         null|    DISABLED|   DISABLED|        null|     NO|       NO|            YES|     DEFAULT|        NO|             null|         null|          NO|            NO|DISABLED|             null|               null|                null|              null|   USING_NLS_COMP|         N|      N|                 N|                    N|      NO|    NO|      null|                NO|           NO|                NO|                    NO|            null|                 null|                  NO|        DISABLED|         DISABLED|                  NO|        NO|                   NO|            ENABLED|\n",
      "|  SYS|PROXY_ROLE_DATA$|         SYSTEM|          null|    null| VALID|10.0000000000|40.0000000000|1.0000000000|255.0000000000| 65536.0000000000|1048576.0000000000|1.0000000000|2147483645.000000...|        null|1.0000000000|   1.0000000000|    YES|        N|            0E-10|          0E-10|       0E-10|    0E-10|    0E-10|         0E-10|                    0E-10|              0E-10|         1|         1|    N|   ENABLED|            0E-10|2021-07-28 04:34:19|         NO|    null|        N|        N|    NO|    DEFAULT|    DEFAULT|         DEFAULT|    DISABLED|         YES|        NO|    null|    DISABLED|       YES|         null|    DISABLED|   DISABLED|        null|     NO|       NO|            YES|     DEFAULT|        NO|             null|         null|          NO|            NO|DISABLED|             null|               null|                null|              null|   USING_NLS_COMP|         N|      N|                 N|                    N|      NO|    NO|      null|                NO|           NO|                NO|                    NO|            null|                 null|                  NO|        DISABLED|         DISABLED|                  NO|        NO|                   NO|            ENABLED|\n",
      "|  SYS|       OBJERROR$|         SYSTEM|          null|    null| VALID|10.0000000000|40.0000000000|1.0000000000|255.0000000000| 65536.0000000000|1048576.0000000000|1.0000000000|2147483645.000000...|        null|1.0000000000|   1.0000000000|    YES|        N|            0E-10|   1.0000000000|       0E-10|    0E-10|    0E-10|         0E-10|                    0E-10|              0E-10|         1|         1|    N|   ENABLED|            0E-10|2021-07-28 04:34:11|         NO|    null|        N|        N|    NO|    DEFAULT|    DEFAULT|         DEFAULT|    DISABLED|         YES|        NO|    null|    DISABLED|       YES|         null|    DISABLED|   DISABLED|        null|     NO|       NO|            YES|     DEFAULT|        NO|             null|         null|          NO|            NO|DISABLED|             null|               null|                null|              null|   USING_NLS_COMP|         N|      N|                 N|                    N|      NO|    NO|      null|                NO|           NO|                NO|                    NO|            null|                 null|                  NO|        DISABLED|         DISABLED|                  NO|        NO|                   NO|            ENABLED|\n",
      "+-----+----------------+---------------+--------------+--------+------+-------------+-------------+------------+--------------+-----------------+------------------+------------+--------------------+------------+------------+---------------+-------+---------+-----------------+---------------+------------+---------+---------+--------------+-------------------------+-------------------+----------+----------+-----+----------+-----------------+-------------------+-----------+--------+---------+---------+------+-----------+-----------+----------------+------------+------------+----------+--------+------------+----------+-------------+------------+-----------+------------+-------+---------+---------------+------------+----------+-----------------+-------------+------------+--------------+--------+-----------------+-------------------+--------------------+------------------+-----------------+----------+-------+------------------+---------------------+--------+------+----------+------------------+-------------+------------------+----------------------+----------------+---------------------+--------------------+----------------+-----------------+--------------------+----------+---------------------+-------------------+\n",
      "only showing top 20 rows\n",
      "\n"
     ]
    },
    {
     "name": "stderr",
     "output_type": "stream",
     "text": [
      "                                                                                \r"
     ]
    }
   ],
   "source": [
    "df.show()"
   ]
  },
  {
   "cell_type": "code",
   "execution_count": 10,
   "metadata": {
    "execution": {
     "iopub.execute_input": "2022-04-28T13:36:03.896310Z",
     "iopub.status.busy": "2022-04-28T13:36:03.895989Z",
     "iopub.status.idle": "2022-04-28T13:36:09.279535Z",
     "shell.execute_reply": "2022-04-28T13:36:09.278894Z",
     "shell.execute_reply.started": "2022-04-28T13:36:03.896282Z"
    },
    "tags": []
   },
   "outputs": [
    {
     "name": "stderr",
     "output_type": "stream",
     "text": [
      "                                                                                \r"
     ]
    }
   ],
   "source": [
    "s3_path = \"s3a://emart-datafabric-dev/oracle-db/\"\n",
    "\n",
    "df.write.mode(\"overwrite\").parquet(s3_path)"
   ]
  },
  {
   "cell_type": "code",
   "execution_count": 11,
   "metadata": {
    "execution": {
     "iopub.execute_input": "2022-04-28T13:36:10.590435Z",
     "iopub.status.busy": "2022-04-28T13:36:10.590004Z",
     "iopub.status.idle": "2022-04-28T13:36:14.773457Z",
     "shell.execute_reply": "2022-04-28T13:36:14.772610Z",
     "shell.execute_reply.started": "2022-04-28T13:36:10.590391Z"
    }
   },
   "outputs": [
    {
     "name": "stdout",
     "output_type": "stream",
     "text": [
      "2022-04-28 22:36:12,057 INFO impl.MetricsConfig: Loaded properties from hadoop-metrics2.properties\n",
      "2022-04-28 22:36:12,148 INFO impl.MetricsSystemImpl: Scheduled Metric snapshot period at 10 second(s).\n",
      "2022-04-28 22:36:12,148 INFO impl.MetricsSystemImpl: s3a-file-system metrics system started\n",
      "Found 2 items\n",
      "-rw-rw-rw-   1 datafabric datafabric          0 2022-04-28 22:36 s3a://emart-datafabric-dev/oracle-db/_SUCCESS\n",
      "-rw-rw-rw-   1 datafabric datafabric      94731 2022-04-28 22:36 s3a://emart-datafabric-dev/oracle-db/part-00000-282ce83c-e2c3-444c-a642-41a585d9e39a-c000.snappy.parquet\n",
      "2022-04-28 22:36:14,319 INFO impl.MetricsSystemImpl: Stopping s3a-file-system metrics system...\n",
      "2022-04-28 22:36:14,319 INFO impl.MetricsSystemImpl: s3a-file-system metrics system stopped.\n",
      "2022-04-28 22:36:14,319 INFO impl.MetricsSystemImpl: s3a-file-system metrics system shutdown complete.\n"
     ]
    }
   ],
   "source": [
    "!hdfs dfs -Dhadoop.security.credential.provider.path=jceks:///datafabric/credentials/aws.jceks -ls {s3_path}"
   ]
  },
  {
   "cell_type": "code",
   "execution_count": 12,
   "metadata": {
    "execution": {
     "iopub.execute_input": "2022-04-28T13:36:17.867121Z",
     "iopub.status.busy": "2022-04-28T13:36:17.866777Z",
     "iopub.status.idle": "2022-04-28T13:36:18.730524Z",
     "shell.execute_reply": "2022-04-28T13:36:18.729649Z",
     "shell.execute_reply.started": "2022-04-28T13:36:17.867090Z"
    }
   },
   "outputs": [],
   "source": [
    "spark.stop()"
   ]
  },
  {
   "cell_type": "code",
   "execution_count": null,
   "metadata": {},
   "outputs": [],
   "source": []
  }
 ],
 "metadata": {
  "kernelspec": {
   "display_name": "Python 3 (ipykernel)",
   "language": "python",
   "name": "python3"
  },
  "language_info": {
   "codemirror_mode": {
    "name": "ipython",
    "version": 3
   },
   "file_extension": ".py",
   "mimetype": "text/x-python",
   "name": "python",
   "nbconvert_exporter": "python",
   "pygments_lexer": "ipython3",
   "version": "3.8.13"
  }
 },
 "nbformat": 4,
 "nbformat_minor": 4
}
