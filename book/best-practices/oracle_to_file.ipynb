{
 "cells": [
  {
   "cell_type": "code",
   "execution_count": null,
   "metadata": {},
   "outputs": [],
   "source": [
    "def get_spark(scale=0, queue=None):\n",
    "    import os\n",
    "    import uuid\n",
    "    import tempfile\n",
    "    from pyspark.sql import SparkSession\n",
    "    from pydatafabric.vault_utils import get_secrets\n",
    "\n",
    "    tmp_uuid = str(uuid.uuid4())\n",
    "    app_name = f\"emart-{os.environ.get('USER', 'default')}-{tmp_uuid}\"\n",
    "    if not queue:\n",
    "        if \"JUPYTERHUB_USER\" in os.environ:\n",
    "            queue = \"dmig_eda\"\n",
    "        else:\n",
    "            queue = \"airflow_job\"\n",
    "    os.environ[\"ARROW_PRE_0_15_IPC_FORMAT\"] = \"1\"\n",
    "\n",
    "    key = get_secrets(\"gcp/emart-datafabric/dataflow\")[\"config\"]\n",
    "    key_file_name = tempfile.mkstemp()[1]\n",
    "    with open(key_file_name, \"wb\") as key_file:\n",
    "        key_file.write(key.encode())\n",
    "        os.environ[\"GOOGLE_APPLICATION_CREDENTIALS\"] = key_file.name\n",
    "\n",
    "    spark = (\n",
    "        SparkSession.builder.config(\"spark.app.name\", app_name)\n",
    "        .config(\"spark.driver.memory\", \"6g\")\n",
    "        .config(\"spark.executor.memory\", \"8g\")\n",
    "        .config(\"spark.shuffle.service.enabled\", \"true\")\n",
    "        .config(\"spark.dynamicAllocation.enabled\", \"true\")\n",
    "        .config(\"spark.dynamicAllocation.maxExecutors\", \"200\")\n",
    "        .config(\"spark.driver.maxResultSize\", \"6g\")\n",
    "        .config(\"spark.rpc.message.maxSize\", \"1024\")\n",
    "        .config(\"spark.yarn.queue\", queue)\n",
    "        .config(\"spark.ui.enabled\", \"false\")\n",
    "        .config(\"spark.port.maxRetries\", \"128\")\n",
    "        .config(\"spark.executorEnv.ARROW_PRE_0_15_IPC_FORMAT\", \"1\")\n",
    "        .config(\"spark.yarn.appMasterEnv.ARROW_PRE_0_15_IPC_FORMAT\", \"1\")\n",
    "        .config(\n",
    "            \"spark.jars\",\n",
    "            \"hdfs:///jars/ojdbc8.jar,gs://external_libs/spark/jars/spark-bigquery-with-dependencies_2.11-0.16.1.jar\",\n",
    "        )\n",
    "        .enableHiveSupport()\n",
    "        .getOrCreate()\n",
    "    )\n",
    "    spark.conf.set(\"spark.sql.execution.arrow.enabled\", \"true\")\n",
    "    return spark"
   ]
  },
  {
   "cell_type": "code",
   "execution_count": null,
   "metadata": {
    "tags": [
     "parameters"
    ]
   },
   "outputs": [],
   "source": [
    "table = \"ZEQP_EQP_MDL\""
   ]
  },
  {
   "cell_type": "code",
   "execution_count": null,
   "metadata": {},
   "outputs": [],
   "source": [
    "schema = table.split(\"_\")[0]\n",
    "source = f\"{schema}.{table}\"\n",
    "out_path = \"/user/airflow/swing/\" + table.lower()\n",
    "\n",
    "print(source, out_path)"
   ]
  },
  {
   "cell_type": "code",
   "execution_count": null,
   "metadata": {},
   "outputs": [],
   "source": [
    "spark = get_spark()"
   ]
  },
  {
   "cell_type": "code",
   "execution_count": null,
   "metadata": {},
   "outputs": [],
   "source": [
    "from pydatafabric.vault_utils import get_secrets\n",
    "\n",
    "s = get_secrets(path=\"oracle\")\n",
    "df = spark.read.format(\"jdbc\").option(\"numPartitions\", 64).option(\"url\", s[\"url\"]).option(\"user\", s[\"user\"]).option(\"password\", s[\"password\"]).option(\"driver\", s[\"driver\"]).option(\"dbtable\", source).load()\n",
    "df.write.mode(\"overwrite\").parquet(out_path)"
   ]
  },
  {
   "cell_type": "code",
   "execution_count": null,
   "metadata": {},
   "outputs": [],
   "source": [
    "df.printSchema()"
   ]
  },
  {
   "cell_type": "code",
   "execution_count": null,
   "metadata": {},
   "outputs": [],
   "source": [
    "spark.stop()"
   ]
  }
 ],
 "metadata": {
  "kernelspec": {
   "display_name": "Python 3",
   "language": "python",
   "name": "python3"
  },
  "language_info": {
   "codemirror_mode": {
    "name": "ipython",
    "version": 3
   },
   "file_extension": ".py",
   "mimetype": "text/x-python",
   "name": "python",
   "nbconvert_exporter": "python",
   "pygments_lexer": "ipython3",
   "version": "3.6.10"
  }
 },
 "nbformat": 4,
 "nbformat_minor": 4
}