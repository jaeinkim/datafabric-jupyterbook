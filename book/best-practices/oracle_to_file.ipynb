{
 "cells": [
  {
   "cell_type": "code",
   "execution_count": 1,
   "metadata": {
    "execution": {
     "iopub.execute_input": "2022-04-28T13:34:27.733635Z",
     "iopub.status.busy": "2022-04-28T13:34:27.733168Z",
     "iopub.status.idle": "2022-04-28T13:34:31.820986Z",
     "shell.execute_reply": "2022-04-28T13:34:31.820000Z",
     "shell.execute_reply.started": "2022-04-28T13:34:27.733515Z"
    }
   },
   "outputs": [
    {
     "name": "stdout",
     "output_type": "stream",
     "text": [
      "Defaulting to user installation because normal site-packages is not writeable\n",
      "Requirement already satisfied: pydatafabric in /home/x214708/.local/lib/python3.8/site-packages (0.4.1)\n",
      "Requirement already satisfied: google-api-core<3.0.0,>=2.0.0 in /opt/conda/lib/python3.8/site-packages (from pydatafabric) (2.7.2)\n",
      "Requirement already satisfied: testresources in /opt/conda/lib/python3.8/site-packages (from pydatafabric) (2.0.1)\n",
      "Requirement already satisfied: slackclient>=2.9.0 in /opt/conda/lib/python3.8/site-packages (from pydatafabric) (2.9.4)\n",
      "Requirement already satisfied: hvac==0.11.2 in /opt/conda/lib/python3.8/site-packages (from pydatafabric) (0.11.2)\n",
      "Requirement already satisfied: grpcio-status==1.44.0 in /opt/conda/lib/python3.8/site-packages (from pydatafabric) (1.44.0)\n",
      "Requirement already satisfied: requests<3.0.0,>=2.26.0 in /opt/conda/lib/python3.8/site-packages (from pydatafabric) (2.27.1)\n",
      "Requirement already satisfied: PyGithub in /opt/conda/lib/python3.8/site-packages (from pydatafabric) (1.55)\n",
      "Requirement already satisfied: redis in /opt/conda/lib/python3.8/site-packages (from pydatafabric) (4.2.2)\n",
      "Requirement already satisfied: ipywidgets in /opt/conda/lib/python3.8/site-packages (from pydatafabric) (7.7.0)\n",
      "Requirement already satisfied: google-cloud-core<3.0.0,>=2.0.0 in /opt/conda/lib/python3.8/site-packages (from pydatafabric) (2.3.0)\n",
      "Requirement already satisfied: google-cloud-common<2.0.0,>=1.0.0 in /opt/conda/lib/python3.8/site-packages (from pydatafabric) (1.0.1)\n",
      "Requirement already satisfied: protobuf>=3.12.0 in /opt/conda/lib/python3.8/site-packages (from pydatafabric) (3.20.1)\n",
      "Requirement already satisfied: google-api-python-client<3.0.0,>=2.34.0 in /opt/conda/lib/python3.8/site-packages (from pydatafabric) (2.46.0)\n",
      "Requirement already satisfied: packaging in /opt/conda/lib/python3.8/site-packages (from pydatafabric) (21.3)\n",
      "Requirement already satisfied: google-auth-oauthlib<0.5,>=0.4.1 in /home/x214708/.local/lib/python3.8/site-packages (from pydatafabric) (0.4.6)\n",
      "Requirement already satisfied: google-cloud-bigtable<3.0.0,>=2.0.0 in /opt/conda/lib/python3.8/site-packages (from pydatafabric) (2.9.0)\n",
      "Requirement already satisfied: python-dateutil>=2.8.2 in /opt/conda/lib/python3.8/site-packages (from pydatafabric) (2.8.2)\n",
      "Requirement already satisfied: pyarrow==6.0.1 in /opt/conda/lib/python3.8/site-packages (from pydatafabric) (6.0.1)\n",
      "Requirement already satisfied: pyhive[hive]==0.6.5 in /opt/conda/lib/python3.8/site-packages (from pydatafabric) (0.6.5)\n",
      "Requirement already satisfied: pandas==1.3.5 in /opt/conda/lib/python3.8/site-packages (from pydatafabric) (1.3.5)\n",
      "Requirement already satisfied: pycryptodome in /opt/conda/lib/python3.8/site-packages (from pydatafabric) (3.14.1)\n",
      "Requirement already satisfied: httplib2>=0.20.0 in /opt/conda/lib/python3.8/site-packages (from pydatafabric) (0.20.4)\n",
      "Requirement already satisfied: hmsclient-hive-3 in /opt/conda/lib/python3.8/site-packages (from pydatafabric) (0.1.1)\n",
      "Requirement already satisfied: google-cloud-bigquery<4.0.0,>=3.0.0 in /opt/conda/lib/python3.8/site-packages (from pydatafabric) (3.0.1)\n",
      "Requirement already satisfied: sqlalchemy>=1.4.0 in /opt/conda/lib/python3.8/site-packages (from pydatafabric) (1.4.36)\n",
      "Requirement already satisfied: thrift-sasl==0.4.3 in /opt/conda/lib/python3.8/site-packages (from pydatafabric) (0.4.3)\n",
      "Requirement already satisfied: tqdm>=4.63.0 in /opt/conda/lib/python3.8/site-packages (from pydatafabric) (4.64.0)\n",
      "Requirement already satisfied: googleapis-common-protos<2.0.0,>=1.55.0 in /opt/conda/lib/python3.8/site-packages (from pydatafabric) (1.56.0)\n",
      "Requirement already satisfied: click in /opt/conda/lib/python3.8/site-packages (from pydatafabric) (8.1.2)\n",
      "Requirement already satisfied: google-auth<3.0.0,>=2.0.0 in /home/x214708/.local/lib/python3.8/site-packages (from pydatafabric) (2.6.2)\n",
      "Requirement already satisfied: tabulate>=0.8.7 in /opt/conda/lib/python3.8/site-packages (from pydatafabric) (0.8.9)\n",
      "Requirement already satisfied: db-dtypes<2.0.0,>=0.4.0 in /opt/conda/lib/python3.8/site-packages (from pydatafabric) (1.0.0)\n",
      "Requirement already satisfied: google-cloud-monitoring<3.0.0,>=2.0.0 in /opt/conda/lib/python3.8/site-packages (from pydatafabric) (2.9.1)\n",
      "Requirement already satisfied: grpcio==1.44.0 in /opt/conda/lib/python3.8/site-packages (from pydatafabric) (1.44.0)\n",
      "Requirement already satisfied: six>=1.5.2 in /opt/conda/lib/python3.8/site-packages (from grpcio==1.44.0->pydatafabric) (1.16.0)\n",
      "Requirement already satisfied: numpy>=1.17.3 in /opt/conda/lib/python3.8/site-packages (from pandas==1.3.5->pydatafabric) (1.22.3)\n",
      "Requirement already satisfied: pytz>=2017.3 in /opt/conda/lib/python3.8/site-packages (from pandas==1.3.5->pydatafabric) (2022.1)\n",
      "Requirement already satisfied: future in /opt/conda/lib/python3.8/site-packages (from pyhive[hive]==0.6.5->pydatafabric) (0.18.2)\n",
      "Requirement already satisfied: sasl>=0.2.1 in /opt/conda/lib/python3.8/site-packages (from pyhive[hive]==0.6.5->pydatafabric) (0.3.1)\n",
      "Requirement already satisfied: thrift>=0.10.0 in /opt/conda/lib/python3.8/site-packages (from pyhive[hive]==0.6.5->pydatafabric) (0.16.0)\n",
      "Requirement already satisfied: pure-sasl>=0.6.2 in /opt/conda/lib/python3.8/site-packages (from thrift-sasl==0.4.3->pydatafabric) (0.6.2)\n",
      "Requirement already satisfied: uritemplate<5,>=3.0.1 in /opt/conda/lib/python3.8/site-packages (from google-api-python-client<3.0.0,>=2.34.0->pydatafabric) (4.1.1)\n",
      "Requirement already satisfied: google-auth-httplib2>=0.1.0 in /opt/conda/lib/python3.8/site-packages (from google-api-python-client<3.0.0,>=2.34.0->pydatafabric) (0.1.0)\n",
      "Requirement already satisfied: cachetools<6.0,>=2.0.0 in /opt/conda/lib/python3.8/site-packages (from google-auth<3.0.0,>=2.0.0->pydatafabric) (5.0.0)\n",
      "Requirement already satisfied: rsa<5,>=3.1.4 in /opt/conda/lib/python3.8/site-packages (from google-auth<3.0.0,>=2.0.0->pydatafabric) (4.8)\n",
      "Requirement already satisfied: pyasn1-modules>=0.2.1 in /opt/conda/lib/python3.8/site-packages (from google-auth<3.0.0,>=2.0.0->pydatafabric) (0.2.8)\n",
      "Requirement already satisfied: requests-oauthlib>=0.7.0 in /home/x214708/.local/lib/python3.8/site-packages (from google-auth-oauthlib<0.5,>=0.4.1->pydatafabric) (1.3.1)\n",
      "Requirement already satisfied: google-cloud-bigquery-storage<3.0.0dev,>=2.0.0 in /opt/conda/lib/python3.8/site-packages (from google-cloud-bigquery<4.0.0,>=3.0.0->pydatafabric) (2.13.1)\n",
      "Requirement already satisfied: proto-plus>=1.15.0 in /opt/conda/lib/python3.8/site-packages (from google-cloud-bigquery<4.0.0,>=3.0.0->pydatafabric) (1.20.3)\n",
      "Requirement already satisfied: google-resumable-media<3.0dev,>=0.6.0 in /opt/conda/lib/python3.8/site-packages (from google-cloud-bigquery<4.0.0,>=3.0.0->pydatafabric) (2.3.2)\n",
      "Requirement already satisfied: grpc-google-iam-v1<1.0.0dev,>=0.12.4 in /opt/conda/lib/python3.8/site-packages (from google-cloud-bigtable<3.0.0,>=2.0.0->pydatafabric) (0.12.4)\n",
      "Requirement already satisfied: pyparsing!=3.0.0,!=3.0.1,!=3.0.2,!=3.0.3,<4,>=2.4.2 in /opt/conda/lib/python3.8/site-packages (from httplib2>=0.20.0->pydatafabric) (3.0.8)\n",
      "Requirement already satisfied: urllib3<1.27,>=1.21.1 in /opt/conda/lib/python3.8/site-packages (from requests<3.0.0,>=2.26.0->pydatafabric) (1.26.9)\n",
      "Requirement already satisfied: certifi>=2017.4.17 in /opt/conda/lib/python3.8/site-packages (from requests<3.0.0,>=2.26.0->pydatafabric) (2021.10.8)\n",
      "Requirement already satisfied: charset-normalizer~=2.0.0 in /opt/conda/lib/python3.8/site-packages (from requests<3.0.0,>=2.26.0->pydatafabric) (2.0.12)\n",
      "Requirement already satisfied: idna<4,>=2.5 in /opt/conda/lib/python3.8/site-packages (from requests<3.0.0,>=2.26.0->pydatafabric) (3.3)\n",
      "Requirement already satisfied: aiohttp<4.0.0,>3.5.2 in /home/x214708/.local/lib/python3.8/site-packages (from slackclient>=2.9.0->pydatafabric) (3.8.1)\n",
      "Requirement already satisfied: greenlet!=0.4.17 in /opt/conda/lib/python3.8/site-packages (from sqlalchemy>=1.4.0->pydatafabric) (1.1.2)\n",
      "Requirement already satisfied: ipython-genutils~=0.2.0 in /opt/conda/lib/python3.8/site-packages (from ipywidgets->pydatafabric) (0.2.0)\n",
      "Requirement already satisfied: ipykernel>=4.5.1 in /opt/conda/lib/python3.8/site-packages (from ipywidgets->pydatafabric) (6.13.0)\n",
      "Requirement already satisfied: jupyterlab-widgets>=1.0.0 in /opt/conda/lib/python3.8/site-packages (from ipywidgets->pydatafabric) (1.1.0)\n",
      "Requirement already satisfied: widgetsnbextension~=3.6.0 in /opt/conda/lib/python3.8/site-packages (from ipywidgets->pydatafabric) (3.6.0)\n",
      "Requirement already satisfied: traitlets>=4.3.1 in /opt/conda/lib/python3.8/site-packages (from ipywidgets->pydatafabric) (5.1.1)\n",
      "Requirement already satisfied: ipython>=4.0.0 in /opt/conda/lib/python3.8/site-packages (from ipywidgets->pydatafabric) (8.2.0)\n",
      "Requirement already satisfied: nbformat>=4.2.0 in /opt/conda/lib/python3.8/site-packages (from ipywidgets->pydatafabric) (5.3.0)\n",
      "Requirement already satisfied: pyjwt>=2.0 in /opt/conda/lib/python3.8/site-packages (from PyGithub->pydatafabric) (2.3.0)\n",
      "Requirement already satisfied: pynacl>=1.4.0 in /opt/conda/lib/python3.8/site-packages (from PyGithub->pydatafabric) (1.5.0)\n",
      "Requirement already satisfied: deprecated in /opt/conda/lib/python3.8/site-packages (from PyGithub->pydatafabric) (1.2.13)\n",
      "Requirement already satisfied: async-timeout>=4.0.2 in /opt/conda/lib/python3.8/site-packages (from redis->pydatafabric) (4.0.2)\n",
      "Requirement already satisfied: pbr>=1.8 in /opt/conda/lib/python3.8/site-packages (from testresources->pydatafabric) (5.8.1)\n",
      "Requirement already satisfied: multidict<7.0,>=4.5 in /opt/conda/lib/python3.8/site-packages (from aiohttp<4.0.0,>3.5.2->slackclient>=2.9.0->pydatafabric) (6.0.2)\n",
      "Requirement already satisfied: attrs>=17.3.0 in /opt/conda/lib/python3.8/site-packages (from aiohttp<4.0.0,>3.5.2->slackclient>=2.9.0->pydatafabric) (21.4.0)\n",
      "Requirement already satisfied: frozenlist>=1.1.1 in /opt/conda/lib/python3.8/site-packages (from aiohttp<4.0.0,>3.5.2->slackclient>=2.9.0->pydatafabric) (1.3.0)\n",
      "Requirement already satisfied: aiosignal>=1.1.2 in /home/x214708/.local/lib/python3.8/site-packages (from aiohttp<4.0.0,>3.5.2->slackclient>=2.9.0->pydatafabric) (1.2.0)\n",
      "Requirement already satisfied: yarl<2.0,>=1.0 in /opt/conda/lib/python3.8/site-packages (from aiohttp<4.0.0,>3.5.2->slackclient>=2.9.0->pydatafabric) (1.7.2)\n",
      "Requirement already satisfied: wrapt<2,>=1.10 in /opt/conda/lib/python3.8/site-packages (from deprecated->PyGithub->pydatafabric) (1.14.0)\n",
      "Requirement already satisfied: google-crc32c<2.0dev,>=1.0 in /opt/conda/lib/python3.8/site-packages (from google-resumable-media<3.0dev,>=0.6.0->google-cloud-bigquery<4.0.0,>=3.0.0->pydatafabric) (1.3.0)\n",
      "Requirement already satisfied: nest-asyncio in /opt/conda/lib/python3.8/site-packages (from ipykernel>=4.5.1->ipywidgets->pydatafabric) (1.5.5)\n",
      "Requirement already satisfied: tornado>=6.1 in /opt/conda/lib/python3.8/site-packages (from ipykernel>=4.5.1->ipywidgets->pydatafabric) (6.1)\n",
      "Requirement already satisfied: jupyter-client>=6.1.12 in /opt/conda/lib/python3.8/site-packages (from ipykernel>=4.5.1->ipywidgets->pydatafabric) (7.3.0)\n",
      "Requirement already satisfied: psutil in /opt/conda/lib/python3.8/site-packages (from ipykernel>=4.5.1->ipywidgets->pydatafabric) (5.9.0)\n",
      "Requirement already satisfied: debugpy>=1.0 in /opt/conda/lib/python3.8/site-packages (from ipykernel>=4.5.1->ipywidgets->pydatafabric) (1.6.0)\n",
      "Requirement already satisfied: matplotlib-inline>=0.1 in /opt/conda/lib/python3.8/site-packages (from ipykernel>=4.5.1->ipywidgets->pydatafabric) (0.1.3)\n",
      "Requirement already satisfied: pexpect>4.3 in /opt/conda/lib/python3.8/site-packages (from ipython>=4.0.0->ipywidgets->pydatafabric) (4.8.0)\n",
      "Requirement already satisfied: pickleshare in /opt/conda/lib/python3.8/site-packages (from ipython>=4.0.0->ipywidgets->pydatafabric) (0.7.5)\n",
      "Requirement already satisfied: jedi>=0.16 in /home/x214708/.local/lib/python3.8/site-packages (from ipython>=4.0.0->ipywidgets->pydatafabric) (0.17.2)\n",
      "Requirement already satisfied: backcall in /opt/conda/lib/python3.8/site-packages (from ipython>=4.0.0->ipywidgets->pydatafabric) (0.2.0)\n",
      "Requirement already satisfied: setuptools>=18.5 in /opt/conda/lib/python3.8/site-packages (from ipython>=4.0.0->ipywidgets->pydatafabric) (62.1.0)\n",
      "Requirement already satisfied: stack-data in /opt/conda/lib/python3.8/site-packages (from ipython>=4.0.0->ipywidgets->pydatafabric) (0.2.0)\n",
      "Requirement already satisfied: decorator in /opt/conda/lib/python3.8/site-packages (from ipython>=4.0.0->ipywidgets->pydatafabric) (5.1.1)\n",
      "Requirement already satisfied: pygments>=2.4.0 in /opt/conda/lib/python3.8/site-packages (from ipython>=4.0.0->ipywidgets->pydatafabric) (2.12.0)\n",
      "Requirement already satisfied: prompt-toolkit!=3.0.0,!=3.0.1,<3.1.0,>=2.0.0 in /opt/conda/lib/python3.8/site-packages (from ipython>=4.0.0->ipywidgets->pydatafabric) (3.0.29)\n",
      "Requirement already satisfied: jupyter-core in /opt/conda/lib/python3.8/site-packages (from nbformat>=4.2.0->ipywidgets->pydatafabric) (4.10.0)\n",
      "Requirement already satisfied: jsonschema>=2.6 in /opt/conda/lib/python3.8/site-packages (from nbformat>=4.2.0->ipywidgets->pydatafabric) (4.4.0)\n",
      "Requirement already satisfied: fastjsonschema in /opt/conda/lib/python3.8/site-packages (from nbformat>=4.2.0->ipywidgets->pydatafabric) (2.15.3)\n",
      "Requirement already satisfied: pyasn1<0.5.0,>=0.4.6 in /opt/conda/lib/python3.8/site-packages (from pyasn1-modules>=0.2.1->google-auth<3.0.0,>=2.0.0->pydatafabric) (0.4.8)\n",
      "Requirement already satisfied: cffi>=1.4.1 in /opt/conda/lib/python3.8/site-packages (from pynacl>=1.4.0->PyGithub->pydatafabric) (1.15.0)\n",
      "Requirement already satisfied: oauthlib>=3.0.0 in /opt/conda/lib/python3.8/site-packages (from requests-oauthlib>=0.7.0->google-auth-oauthlib<0.5,>=0.4.1->pydatafabric) (3.2.0)\n",
      "Requirement already satisfied: notebook>=4.4.1 in /opt/conda/lib/python3.8/site-packages (from widgetsnbextension~=3.6.0->ipywidgets->pydatafabric) (6.4.11)\n",
      "Requirement already satisfied: pycparser in /opt/conda/lib/python3.8/site-packages (from cffi>=1.4.1->pynacl>=1.4.0->PyGithub->pydatafabric) (2.21)\n",
      "Requirement already satisfied: parso<0.8.0,>=0.7.0 in /home/x214708/.local/lib/python3.8/site-packages (from jedi>=0.16->ipython>=4.0.0->ipywidgets->pydatafabric) (0.7.1)\n",
      "Requirement already satisfied: pyrsistent!=0.17.0,!=0.17.1,!=0.17.2,>=0.14.0 in /opt/conda/lib/python3.8/site-packages (from jsonschema>=2.6->nbformat>=4.2.0->ipywidgets->pydatafabric) (0.18.1)\n",
      "Requirement already satisfied: importlib-resources>=1.4.0 in /opt/conda/lib/python3.8/site-packages (from jsonschema>=2.6->nbformat>=4.2.0->ipywidgets->pydatafabric) (5.7.1)\n",
      "Requirement already satisfied: entrypoints in /opt/conda/lib/python3.8/site-packages (from jupyter-client>=6.1.12->ipykernel>=4.5.1->ipywidgets->pydatafabric) (0.4)\n",
      "Requirement already satisfied: pyzmq>=22.3 in /opt/conda/lib/python3.8/site-packages (from jupyter-client>=6.1.12->ipykernel>=4.5.1->ipywidgets->pydatafabric) (22.3.0)\n",
      "Requirement already satisfied: jinja2 in /opt/conda/lib/python3.8/site-packages (from notebook>=4.4.1->widgetsnbextension~=3.6.0->ipywidgets->pydatafabric) (3.1.1)\n",
      "Requirement already satisfied: Send2Trash>=1.8.0 in /opt/conda/lib/python3.8/site-packages (from notebook>=4.4.1->widgetsnbextension~=3.6.0->ipywidgets->pydatafabric) (1.8.0)\n",
      "Requirement already satisfied: terminado>=0.8.3 in /opt/conda/lib/python3.8/site-packages (from notebook>=4.4.1->widgetsnbextension~=3.6.0->ipywidgets->pydatafabric) (0.13.3)\n",
      "Requirement already satisfied: prometheus-client in /opt/conda/lib/python3.8/site-packages (from notebook>=4.4.1->widgetsnbextension~=3.6.0->ipywidgets->pydatafabric) (0.14.1)\n",
      "Requirement already satisfied: nbconvert>=5 in /opt/conda/lib/python3.8/site-packages (from notebook>=4.4.1->widgetsnbextension~=3.6.0->ipywidgets->pydatafabric) (6.5.0)\n",
      "Requirement already satisfied: argon2-cffi in /opt/conda/lib/python3.8/site-packages (from notebook>=4.4.1->widgetsnbextension~=3.6.0->ipywidgets->pydatafabric) (21.3.0)\n",
      "Requirement already satisfied: ptyprocess>=0.5 in /opt/conda/lib/python3.8/site-packages (from pexpect>4.3->ipython>=4.0.0->ipywidgets->pydatafabric) (0.7.0)\n",
      "Requirement already satisfied: wcwidth in /opt/conda/lib/python3.8/site-packages (from prompt-toolkit!=3.0.0,!=3.0.1,<3.1.0,>=2.0.0->ipython>=4.0.0->ipywidgets->pydatafabric) (0.2.5)\n",
      "Requirement already satisfied: executing in /opt/conda/lib/python3.8/site-packages (from stack-data->ipython>=4.0.0->ipywidgets->pydatafabric) (0.8.3)\n",
      "Requirement already satisfied: asttokens in /opt/conda/lib/python3.8/site-packages (from stack-data->ipython>=4.0.0->ipywidgets->pydatafabric) (2.0.5)\n",
      "Requirement already satisfied: pure-eval in /opt/conda/lib/python3.8/site-packages (from stack-data->ipython>=4.0.0->ipywidgets->pydatafabric) (0.2.2)\n",
      "Requirement already satisfied: zipp>=3.1.0 in /opt/conda/lib/python3.8/site-packages (from importlib-resources>=1.4.0->jsonschema>=2.6->nbformat>=4.2.0->ipywidgets->pydatafabric) (3.8.0)\n",
      "Requirement already satisfied: jupyterlab-pygments in /opt/conda/lib/python3.8/site-packages (from nbconvert>=5->notebook>=4.4.1->widgetsnbextension~=3.6.0->ipywidgets->pydatafabric) (0.2.2)\n",
      "Requirement already satisfied: pandocfilters>=1.4.1 in /opt/conda/lib/python3.8/site-packages (from nbconvert>=5->notebook>=4.4.1->widgetsnbextension~=3.6.0->ipywidgets->pydatafabric) (1.5.0)\n",
      "Requirement already satisfied: beautifulsoup4 in /opt/conda/lib/python3.8/site-packages (from nbconvert>=5->notebook>=4.4.1->widgetsnbextension~=3.6.0->ipywidgets->pydatafabric) (4.11.1)\n",
      "Requirement already satisfied: mistune<2,>=0.8.1 in /opt/conda/lib/python3.8/site-packages (from nbconvert>=5->notebook>=4.4.1->widgetsnbextension~=3.6.0->ipywidgets->pydatafabric) (0.8.4)\n",
      "Requirement already satisfied: tinycss2 in /opt/conda/lib/python3.8/site-packages (from nbconvert>=5->notebook>=4.4.1->widgetsnbextension~=3.6.0->ipywidgets->pydatafabric) (1.1.1)\n",
      "Requirement already satisfied: bleach in /opt/conda/lib/python3.8/site-packages (from nbconvert>=5->notebook>=4.4.1->widgetsnbextension~=3.6.0->ipywidgets->pydatafabric) (5.0.0)\n",
      "Requirement already satisfied: nbclient>=0.5.0 in /opt/conda/lib/python3.8/site-packages (from nbconvert>=5->notebook>=4.4.1->widgetsnbextension~=3.6.0->ipywidgets->pydatafabric) (0.6.0)\n",
      "Requirement already satisfied: MarkupSafe>=2.0 in /opt/conda/lib/python3.8/site-packages (from nbconvert>=5->notebook>=4.4.1->widgetsnbextension~=3.6.0->ipywidgets->pydatafabric) (2.1.1)\n",
      "Requirement already satisfied: defusedxml in /opt/conda/lib/python3.8/site-packages (from nbconvert>=5->notebook>=4.4.1->widgetsnbextension~=3.6.0->ipywidgets->pydatafabric) (0.7.1)\n",
      "Requirement already satisfied: argon2-cffi-bindings in /opt/conda/lib/python3.8/site-packages (from argon2-cffi->notebook>=4.4.1->widgetsnbextension~=3.6.0->ipywidgets->pydatafabric) (21.2.0)\n",
      "Requirement already satisfied: soupsieve>1.2 in /opt/conda/lib/python3.8/site-packages (from beautifulsoup4->nbconvert>=5->notebook>=4.4.1->widgetsnbextension~=3.6.0->ipywidgets->pydatafabric) (2.3.2.post1)\n",
      "Requirement already satisfied: webencodings in /opt/conda/lib/python3.8/site-packages (from bleach->nbconvert>=5->notebook>=4.4.1->widgetsnbextension~=3.6.0->ipywidgets->pydatafabric) (0.5.1)\n"
     ]
    }
   ],
   "source": [
    "!pip install --upgrade --no-cache-dir --no-warn-script-location pydatafabric"
   ]
  },
  {
   "cell_type": "code",
   "execution_count": 2,
   "metadata": {
    "execution": {
     "iopub.execute_input": "2022-04-28T13:34:31.823041Z",
     "iopub.status.busy": "2022-04-28T13:34:31.822681Z",
     "iopub.status.idle": "2022-04-28T13:34:31.840915Z",
     "shell.execute_reply": "2022-04-28T13:34:31.840290Z",
     "shell.execute_reply.started": "2022-04-28T13:34:31.823000Z"
    }
   },
   "outputs": [],
   "source": [
    "%load_ext autoreload\n",
    "%autoreload 2"
   ]
  },
  {
   "cell_type": "code",
   "execution_count": 3,
   "metadata": {
    "execution": {
     "iopub.execute_input": "2022-04-28T13:34:36.173169Z",
     "iopub.status.busy": "2022-04-28T13:34:36.172724Z",
     "iopub.status.idle": "2022-04-28T13:34:36.578745Z",
     "shell.execute_reply": "2022-04-28T13:34:36.578118Z",
     "shell.execute_reply.started": "2022-04-28T13:34:36.173123Z"
    }
   },
   "outputs": [],
   "source": [
    "from pydatafabric.vault_utils import get_secrets\n",
    "\n",
    "oracle_info = get_secrets(mount_point=\"datafabric\",path=\"oracle/datafabric/oracle-db\")\n",
    "aws_info = get_secrets(mount_point=\"datafabric\",path=\"aws/credentials/datafabric\")"
   ]
  },
  {
   "cell_type": "code",
   "execution_count": 4,
   "metadata": {
    "execution": {
     "iopub.execute_input": "2022-04-28T13:34:39.424070Z",
     "iopub.status.busy": "2022-04-28T13:34:39.423723Z",
     "iopub.status.idle": "2022-04-28T13:34:50.639424Z",
     "shell.execute_reply": "2022-04-28T13:34:50.638561Z",
     "shell.execute_reply.started": "2022-04-28T13:34:39.424043Z"
    }
   },
   "outputs": [
    {
     "name": "stderr",
     "output_type": "stream",
     "text": [
      "Setting default log level to \"WARN\".\n",
      "To adjust logging level use sc.setLogLevel(newLevel). For SparkR, use setLogLevel(newLevel).\n",
      "22/04/28 22:34:44 INFO org.apache.spark.SparkEnv: Registering MapOutputTracker\n",
      "22/04/28 22:34:44 INFO org.apache.spark.SparkEnv: Registering BlockManagerMaster\n",
      "22/04/28 22:34:45 INFO org.apache.spark.SparkEnv: Registering BlockManagerMasterHeartbeat\n",
      "22/04/28 22:34:45 INFO org.apache.spark.SparkEnv: Registering OutputCommitCoordinator\n"
     ]
    }
   ],
   "source": [
    "from pydatafabric.ye import get_spark\n",
    "\n",
    "spark = get_spark(extra_jars=\"gs://emart-datafabric-resources/jars/ojdbc8.jar\")"
   ]
  },
  {
   "cell_type": "code",
   "execution_count": 5,
   "metadata": {
    "execution": {
     "iopub.execute_input": "2022-04-28T13:34:53.336900Z",
     "iopub.status.busy": "2022-04-28T13:34:53.336431Z",
     "iopub.status.idle": "2022-04-28T13:34:53.357101Z",
     "shell.execute_reply": "2022-04-28T13:34:53.356491Z",
     "shell.execute_reply.started": "2022-04-28T13:34:53.336847Z"
    }
   },
   "outputs": [],
   "source": [
    "spark.conf.set(\"fs.s3a.fast.upload.buffer\", \"disk\")\n",
    "spark.conf.set(\"fs.s3a.buffer.dir\", \"/tmp\")\n",
    "spark.conf.set(\"fs.s3a.access.key\", aws_info[\"aws_access_key_id\"])\n",
    "spark.conf.set(\"fs.s3a.secret.key\", aws_info[\"aws_secret_access_key\"])\n",
    "spark.conf.set(\"spark.sql.debug.maxToStringFields\", 2000)"
   ]
  },
  {
   "cell_type": "code",
   "execution_count": 6,
   "metadata": {
    "execution": {
     "iopub.execute_input": "2022-04-28T13:34:54.690550Z",
     "iopub.status.busy": "2022-04-28T13:34:54.690205Z",
     "iopub.status.idle": "2022-04-28T13:34:57.301732Z",
     "shell.execute_reply": "2022-04-28T13:34:57.300881Z",
     "shell.execute_reply.started": "2022-04-28T13:34:54.690520Z"
    },
    "tags": [
     "parameters"
    ]
   },
   "outputs": [],
   "source": [
    "df = spark.read.format(\"jdbc\") \\\n",
    "    .option(\"url\", oracle_info['jdbc_url']) \\\n",
    "    .option(\"user\", oracle_info['user']) \\\n",
    "    .option(\"password\", oracle_info['password']) \\\n",
    "    .option(\"driver\", \"oracle.jdbc.driver.OracleDriver\") \\\n",
    "    .option(\"dbtable\", \"all_tables\") \\\n",
    "    .load()"
   ]
  },
  {
   "cell_type": "code",
   "execution_count": 7,
   "metadata": {
    "execution": {
     "iopub.execute_input": "2022-04-28T13:34:58.130591Z",
     "iopub.status.busy": "2022-04-28T13:34:58.130160Z",
     "iopub.status.idle": "2022-04-28T13:35:01.978418Z",
     "shell.execute_reply": "2022-04-28T13:35:01.977765Z",
     "shell.execute_reply.started": "2022-04-28T13:34:58.130537Z"
    }
   },
   "outputs": [
    {
     "name": "stderr",
     "output_type": "stream",
     "text": [
      "[Stage 0:>                                                          (0 + 1) / 1]\r"
     ]
    },
    {
     "name": "stdout",
     "output_type": "stream",
     "text": [
      "+-----+----------------+---------------+--------------+--------+------+-------------+-------------+------------+--------------+-----------------+------------------+------------+--------------------+------------+------------+---------------+-------+---------+-----------------+---------------+------------+---------+---------+--------------+-------------------------+-------------------+----------+----------+-----+----------+-----------------+-------------------+-----------+--------+---------+---------+------+-----------+-----------+----------------+------------+------------+----------+--------+------------+----------+-------------+------------+-----------+------------+-------+---------+---------------+------------+----------+-----------------+-------------+------------+--------------+--------+-----------------+-------------------+--------------------+------------------+-----------------+----------+-------+------------------+---------------------+--------+------+----------+------------------+-------------+------------------+----------------------+----------------+---------------------+--------------------+----------------+-----------------+--------------------+----------+---------------------+-------------------+\n",
      "|OWNER|      TABLE_NAME|TABLESPACE_NAME|  CLUSTER_NAME|IOT_NAME|STATUS|     PCT_FREE|     PCT_USED|   INI_TRANS|     MAX_TRANS|   INITIAL_EXTENT|       NEXT_EXTENT| MIN_EXTENTS|         MAX_EXTENTS|PCT_INCREASE|   FREELISTS|FREELIST_GROUPS|LOGGING|BACKED_UP|         NUM_ROWS|         BLOCKS|EMPTY_BLOCKS|AVG_SPACE|CHAIN_CNT|   AVG_ROW_LEN|AVG_SPACE_FREELIST_BLOCKS|NUM_FREELIST_BLOCKS|    DEGREE| INSTANCES|CACHE|TABLE_LOCK|      SAMPLE_SIZE|      LAST_ANALYZED|PARTITIONED|IOT_TYPE|TEMPORARY|SECONDARY|NESTED|BUFFER_POOL|FLASH_CACHE|CELL_FLASH_CACHE|ROW_MOVEMENT|GLOBAL_STATS|USER_STATS|DURATION|SKIP_CORRUPT|MONITORING|CLUSTER_OWNER|DEPENDENCIES|COMPRESSION|COMPRESS_FOR|DROPPED|READ_ONLY|SEGMENT_CREATED|RESULT_CACHE|CLUSTERING|ACTIVITY_TRACKING|DML_TIMESTAMP|HAS_IDENTITY|CONTAINER_DATA|INMEMORY|INMEMORY_PRIORITY|INMEMORY_DISTRIBUTE|INMEMORY_COMPRESSION|INMEMORY_DUPLICATE|DEFAULT_COLLATION|DUPLICATED|SHARDED|EXTERNALLY_SHARDED|EXTERNALLY_DUPLICATED|EXTERNAL|HYBRID|CELLMEMORY|CONTAINERS_DEFAULT|CONTAINER_MAP|EXTENDED_DATA_LINK|EXTENDED_DATA_LINK_MAP|INMEMORY_SERVICE|INMEMORY_SERVICE_NAME|CONTAINER_MAP_OBJECT|MEMOPTIMIZE_READ|MEMOPTIMIZE_WRITE|HAS_SENSITIVE_COLUMN|ADMIT_NULL|DATA_LINK_DML_ENABLED|LOGICAL_REPLICATION|\n",
      "+-----+----------------+---------------+--------------+--------+------+-------------+-------------+------------+--------------+-----------------+------------------+------------+--------------------+------------+------------+---------------+-------+---------+-----------------+---------------+------------+---------+---------+--------------+-------------------------+-------------------+----------+----------+-----+----------+-----------------+-------------------+-----------+--------+---------+---------+------+-----------+-----------+----------------+------------+------------+----------+--------+------------+----------+-------------+------------+-----------+------------+-------+---------+---------------+------------+----------+-----------------+-------------+------------+--------------+--------+-----------------+-------------------+--------------------+------------------+-----------------+----------+-------+------------------+---------------------+--------+------+----------+------------------+-------------+------------------+----------------------+----------------+---------------------+--------------------+----------------+-----------------+--------------------+----------+---------------------+-------------------+\n",
      "|  SYS|             TS$|         SYSTEM|         C_TS#|    null| VALID|        0E-10|        0E-10|       0E-10|         0E-10| 65536.0000000000|1048576.0000000000|1.0000000000|2147483645.000000...|        null|1.0000000000|   1.0000000000|    YES|        N|     5.0000000000|   5.0000000000|       0E-10|    0E-10|    0E-10| 88.0000000000|                    0E-10|              0E-10|         1|         1|    N|   ENABLED|     5.0000000000|2021-07-28 04:34:48|         NO|    null|        N|        N|    NO|    DEFAULT|    DEFAULT|         DEFAULT|    DISABLED|         YES|        NO|    null|    DISABLED|       YES|          SYS|    DISABLED|   DISABLED|        null|     NO|       NO|            YES|     DEFAULT|        NO|             null|         null|          NO|            NO|DISABLED|             null|               null|                null|              null|   USING_NLS_COMP|         N|      N|                 N|                    N|      NO|    NO|      null|                NO|           NO|                NO|                    NO|            null|                 null|                  NO|        DISABLED|         DISABLED|                  NO|        NO|                   NO|            ENABLED|\n",
      "|  SYS|           ICOL$|         SYSTEM|        C_OBJ#|    null| VALID|        0E-10|        0E-10|       0E-10|         0E-10|139264.0000000000| 204800.0000000000|1.0000000000|2147483645.000000...|        null|1.0000000000|   1.0000000000|    YES|        N|  4687.0000000000|1585.0000000000|       0E-10|    0E-10|    0E-10| 30.0000000000|                    0E-10|              0E-10|         1|         1|    N|   ENABLED|  4687.0000000000|2021-07-28 04:34:01|         NO|    null|        N|        N|    NO|    DEFAULT|    DEFAULT|         DEFAULT|    DISABLED|         YES|        NO|    null|    DISABLED|       YES|          SYS|    DISABLED|   DISABLED|        null|     NO|       NO|            YES|     DEFAULT|        NO|             null|         null|          NO|            NO|DISABLED|             null|               null|                null|              null|   USING_NLS_COMP|         N|      N|                 N|                    N|      NO|    NO|      null|                NO|           NO|                NO|                    NO|            null|                 null|                  NO|        DISABLED|         DISABLED|                  NO|        NO|                   NO|            ENABLED|\n",
      "|  SYS|           USER$|         SYSTEM|       C_USER#|    null| VALID|        0E-10|        0E-10|       0E-10|         0E-10| 65536.0000000000|1048576.0000000000|1.0000000000|2147483645.000000...|        null|1.0000000000|   1.0000000000|    YES|        N|    77.0000000000|   4.0000000000|       0E-10|    0E-10|    0E-10|149.0000000000|                    0E-10|              0E-10|         1|         1|    N|   ENABLED|    77.0000000000|2021-07-28 04:34:51|         NO|    null|        N|        N|    NO|    DEFAULT|    DEFAULT|         DEFAULT|    DISABLED|         YES|        NO|    null|    DISABLED|       YES|          SYS|    DISABLED|   DISABLED|        null|     NO|       NO|            YES|     DEFAULT|        NO|             null|         null|          NO|            NO|DISABLED|             null|               null|                null|              null|   USING_NLS_COMP|         N|      N|                 N|                    N|      NO|    NO|      null|                NO|           NO|                NO|                    NO|            null|                 null|                  NO|        DISABLED|         DISABLED|                 YES|        NO|                   NO|            ENABLED|\n",
      "|  SYS|           CDEF$|         SYSTEM|       C_COBJ#|    null| VALID|        0E-10|        0E-10|       0E-10|         0E-10| 57344.0000000000|1048576.0000000000|1.0000000000|2147483645.000000...|        null|1.0000000000|   1.0000000000|    YES|        N|  6568.0000000000|  92.0000000000|       0E-10|    0E-10|    0E-10| 48.0000000000|                    0E-10|              0E-10|         1|         1|    N|   ENABLED|  6568.0000000000|2021-07-28 04:33:44|         NO|    null|        N|        N|    NO|    DEFAULT|    DEFAULT|         DEFAULT|    DISABLED|         YES|        NO|    null|    DISABLED|       YES|          SYS|    DISABLED|   DISABLED|        null|     NO|       NO|            YES|     DEFAULT|        NO|             null|         null|          NO|            NO|DISABLED|             null|               null|                null|              null|   USING_NLS_COMP|         N|      N|                 N|                    N|      NO|    NO|      null|                NO|           NO|                NO|                    NO|            null|                 null|                  NO|        DISABLED|         DISABLED|                  NO|        NO|                   NO|            ENABLED|\n",
      "|  SYS|           CCOL$|         SYSTEM|       C_COBJ#|    null| VALID|        0E-10|        0E-10|       0E-10|         0E-10| 57344.0000000000|1048576.0000000000|1.0000000000|2147483645.000000...|        null|1.0000000000|   1.0000000000|    YES|        N|  8332.0000000000|  92.0000000000|       0E-10|    0E-10|    0E-10| 20.0000000000|                    0E-10|              0E-10|         1|         1|    N|   ENABLED|  8332.0000000000|2021-07-28 04:33:43|         NO|    null|        N|        N|    NO|    DEFAULT|    DEFAULT|         DEFAULT|    DISABLED|         YES|        NO|    null|    DISABLED|       YES|          SYS|    DISABLED|   DISABLED|        null|     NO|       NO|            YES|     DEFAULT|        NO|             null|         null|          NO|            NO|DISABLED|             null|               null|                null|              null|   USING_NLS_COMP|         N|      N|                 N|                    N|      NO|    NO|      null|                NO|           NO|                NO|                    NO|            null|                 null|                  NO|        DISABLED|         DISABLED|                  NO|        NO|                   NO|            ENABLED|\n",
      "|  SYS|            SEG$|         SYSTEM|C_FILE#_BLOCK#|    null| VALID|        0E-10|        0E-10|       0E-10|         0E-10| 24576.0000000000|1048576.0000000000|1.0000000000|2147483645.000000...|        null|1.0000000000|   1.0000000000|    YES|        N|  4351.0000000000| 127.0000000000|       0E-10|    0E-10|    0E-10| 64.0000000000|                    0E-10|              0E-10|         1|         1|    N|   ENABLED|  4351.0000000000|2021-07-28 04:34:37|         NO|    null|        N|        N|    NO|    DEFAULT|    DEFAULT|         DEFAULT|    DISABLED|         YES|        NO|    null|    DISABLED|       YES|          SYS|    DISABLED|   DISABLED|        null|     NO|       NO|            YES|     DEFAULT|        NO|             null|         null|          NO|            NO|DISABLED|             null|               null|                null|              null|   USING_NLS_COMP|         N|      N|                 N|                    N|      NO|    NO|      null|                NO|           NO|                NO|                    NO|            null|                 null|                  NO|        DISABLED|         DISABLED|                  NO|        NO|                   NO|            ENABLED|\n",
      "|  SYS|     PROXY_DATA$|         SYSTEM|          null|    null| VALID|10.0000000000|40.0000000000|1.0000000000|255.0000000000| 65536.0000000000|1048576.0000000000|1.0000000000|2147483645.000000...|        null|1.0000000000|   1.0000000000|    YES|        N|            0E-10|          0E-10|       0E-10|    0E-10|    0E-10|         0E-10|                    0E-10|              0E-10|         1|         1|    N|   ENABLED|            0E-10|2021-07-28 04:34:19|         NO|    null|        N|        N|    NO|    DEFAULT|    DEFAULT|         DEFAULT|    DISABLED|         YES|        NO|    null|    DISABLED|       YES|         null|    DISABLED|   DISABLED|        null|     NO|       NO|            YES|     DEFAULT|        NO|             null|         null|          NO|            NO|DISABLED|             null|               null|                null|              null|   USING_NLS_COMP|         N|      N|                 N|                    N|      NO|    NO|      null|                NO|           NO|                NO|                    NO|            null|                 null|                  NO|        DISABLED|         DISABLED|                  NO|        NO|                   NO|            ENABLED|\n",
      "|  SYS|            COL$|         SYSTEM|        C_OBJ#|    null| VALID|        0E-10|        0E-10|       0E-10|         0E-10|139264.0000000000| 204800.0000000000|1.0000000000|2147483645.000000...|        null|1.0000000000|   1.0000000000|    YES|        N|120891.0000000000|1585.0000000000|       0E-10|    0E-10|    0E-10| 66.0000000000|                    0E-10|              0E-10|         1|         1|    N|   ENABLED|120891.0000000000|2021-07-28 04:33:46|         NO|    null|        N|        N|    NO|    DEFAULT|    DEFAULT|         DEFAULT|    DISABLED|         YES|        NO|    null|    DISABLED|       YES|          SYS|    DISABLED|   DISABLED|        null|     NO|       NO|            YES|     DEFAULT|        NO|             null|         null|          NO|            NO|DISABLED|             null|               null|                null|              null|   USING_NLS_COMP|         N|      N|                 N|                    N|      NO|    NO|      null|                NO|           NO|                NO|                    NO|            null|                 null|                  NO|        DISABLED|         DISABLED|                  NO|        NO|                   NO|            ENABLED|\n",
      "|  SYS|            OBJ$|         SYSTEM|          null|    null| VALID|10.0000000000|40.0000000000|1.0000000000|255.0000000000| 16384.0000000000| 106496.0000000000|1.0000000000|2147483645.000000...|        null|1.0000000000|   1.0000000000|    YES|        N| 22517.0000000000| 365.0000000000|       0E-10|    0E-10|    0E-10|108.0000000000|                    0E-10|              0E-10|         1|         1|    N|   ENABLED| 22517.0000000000|2021-07-28 04:34:11|         NO|    null|        N|        N|    NO|    DEFAULT|    DEFAULT|         DEFAULT|    DISABLED|         YES|        NO|    null|    DISABLED|       YES|         null|    DISABLED|   DISABLED|        null|     NO|       NO|            YES|     DEFAULT|        NO|             null|         null|          NO|            NO|DISABLED|             null|               null|                null|              null|   USING_NLS_COMP|         N|      N|                 N|                    N|      NO|    NO|      null|                NO|           NO|                NO|                    NO|            null|                 null|                  NO|        DISABLED|         DISABLED|                  NO|        NO|                   NO|            ENABLED|\n",
      "|  SYS|            IND$|         SYSTEM|        C_OBJ#|    null| VALID|        0E-10|        0E-10|       0E-10|         0E-10|139264.0000000000| 204800.0000000000|1.0000000000|2147483645.000000...|        null|1.0000000000|   1.0000000000|    YES|        N|  2078.0000000000|1585.0000000000|       0E-10|    0E-10|    0E-10| 86.0000000000|                    0E-10|              0E-10|         1|         1|    N|   ENABLED|  2078.0000000000|2021-07-28 04:35:51|         NO|    null|        N|        N|    NO|    DEFAULT|    DEFAULT|         DEFAULT|    DISABLED|         YES|        NO|    null|    DISABLED|       YES|          SYS|    DISABLED|   DISABLED|        null|     NO|       NO|            YES|     DEFAULT|        NO|             null|         null|          NO|            NO|DISABLED|             null|               null|                null|              null|   USING_NLS_COMP|         N|      N|                 N|                    N|      NO|    NO|      null|                NO|           NO|                NO|                    NO|            null|                 null|                  NO|        DISABLED|         DISABLED|                  NO|        NO|                   NO|            ENABLED|\n",
      "|  SYS|      BOOTSTRAP$|         SYSTEM|          null|    null| VALID|10.0000000000|40.0000000000|1.0000000000|255.0000000000| 57344.0000000000|1048576.0000000000|1.0000000000|2147483645.000000...|        null|1.0000000000|   1.0000000000|    YES|        N|    60.0000000000|   3.0000000000|       0E-10|    0E-10|    0E-10|314.0000000000|                    0E-10|              0E-10|         1|         1|    N|   ENABLED|    60.0000000000|2021-07-28 04:33:43|         NO|    null|        N|        N|    NO|    DEFAULT|    DEFAULT|         DEFAULT|    DISABLED|         YES|        NO|    null|    DISABLED|       YES|         null|    DISABLED|   DISABLED|        null|     NO|       NO|            YES|     DEFAULT|        NO|             null|         null|          NO|            NO|DISABLED|             null|               null|                null|              null|   USING_NLS_COMP|         N|      N|                 N|                    N|      NO|    NO|      null|                NO|           NO|                NO|                    NO|            null|                 null|                  NO|        DISABLED|         DISABLED|                  NO|        NO|                   NO|            ENABLED|\n",
      "|  SYS|           UNDO$|         SYSTEM|          null|    null| VALID|10.0000000000|40.0000000000|1.0000000000|255.0000000000| 65536.0000000000|1048576.0000000000|1.0000000000|2147483645.000000...|        null|1.0000000000|   1.0000000000|    YES|        N|    11.0000000000|   1.0000000000|       0E-10|    0E-10|    0E-10| 52.0000000000|                    0E-10|              0E-10|         1|         1|    N|   ENABLED|    11.0000000000|2021-07-28 04:34:50|         NO|    null|        N|        N|    NO|    DEFAULT|    DEFAULT|         DEFAULT|    DISABLED|         YES|        NO|    null|    DISABLED|       YES|         null|    DISABLED|   DISABLED|        null|     NO|       NO|            YES|     DEFAULT|        NO|             null|         null|          NO|            NO|DISABLED|             null|               null|                null|              null|   USING_NLS_COMP|         N|      N|                 N|                    N|      NO|    NO|      null|                NO|           NO|                NO|                    NO|            null|                 null|                  NO|        DISABLED|         DISABLED|                  NO|        NO|                   NO|            ENABLED|\n",
      "|  SYS|            TAB$|         SYSTEM|        C_OBJ#|    null| VALID|        0E-10|        0E-10|       0E-10|         0E-10|139264.0000000000| 204800.0000000000|1.0000000000|2147483645.000000...|        null|1.0000000000|   1.0000000000|    YES|        N|  1882.0000000000|1585.0000000000|       0E-10|    0E-10|    0E-10|136.0000000000|                    0E-10|              0E-10|         1|         1|    N|   ENABLED|  1882.0000000000|2021-07-28 04:35:51|         NO|    null|        N|        N|    NO|    DEFAULT|    DEFAULT|         DEFAULT|    DISABLED|         YES|        NO|    null|    DISABLED|       YES|          SYS|    DISABLED|   DISABLED|        null|     NO|       NO|            YES|     DEFAULT|        NO|             null|         null|          NO|            NO|DISABLED|             null|               null|                null|              null|   USING_NLS_COMP|         N|      N|                 N|                    N|      NO|    NO|      null|                NO|           NO|                NO|                    NO|            null|                 null|                  NO|        DISABLED|         DISABLED|                  NO|        NO|                   NO|            ENABLED|\n",
      "|  SYS|            CON$|         SYSTEM|          null|    null| VALID|10.0000000000|40.0000000000|1.0000000000|255.0000000000| 65536.0000000000|1048576.0000000000|1.0000000000|2147483645.000000...|        null|1.0000000000|   1.0000000000|    YES|        N|  6569.0000000000|  28.0000000000|       0E-10|    0E-10|    0E-10| 22.0000000000|                    0E-10|              0E-10|         1|         1|    N|   ENABLED|  6569.0000000000|2021-07-28 04:33:48|         NO|    null|        N|        N|    NO|    DEFAULT|    DEFAULT|         DEFAULT|    DISABLED|         YES|        NO|    null|    DISABLED|       YES|         null|    DISABLED|   DISABLED|        null|     NO|       NO|            YES|     DEFAULT|        NO|             null|         null|          NO|            NO|DISABLED|             null|               null|                null|              null|   USING_NLS_COMP|         N|      N|                 N|                    N|      NO|    NO|      null|                NO|           NO|                NO|                    NO|            null|                 null|                  NO|        DISABLED|         DISABLED|                  NO|        NO|                   NO|            ENABLED|\n",
      "|  SYS|            CLU$|         SYSTEM|        C_OBJ#|    null| VALID|        0E-10|        0E-10|       0E-10|         0E-10|139264.0000000000| 204800.0000000000|1.0000000000|2147483645.000000...|        null|1.0000000000|   1.0000000000|    YES|        N|    10.0000000000|1585.0000000000|       0E-10|    0E-10|    0E-10| 45.0000000000|                    0E-10|              0E-10|         1|         1|    N|   ENABLED|    10.0000000000|2021-07-28 04:33:46|         NO|    null|        N|        N|    NO|    DEFAULT|    DEFAULT|         DEFAULT|    DISABLED|         YES|        NO|    null|    DISABLED|       YES|          SYS|    DISABLED|   DISABLED|        null|     NO|       NO|            YES|     DEFAULT|        NO|             null|         null|          NO|            NO|DISABLED|             null|               null|                null|              null|   USING_NLS_COMP|         N|      N|                 N|                    N|      NO|    NO|      null|                NO|           NO|                NO|                    NO|            null|                 null|                  NO|        DISABLED|         DISABLED|                  NO|        NO|                   NO|            ENABLED|\n",
      "|  SYS|            UET$|         SYSTEM|C_FILE#_BLOCK#|    null| VALID|        0E-10|        0E-10|       0E-10|         0E-10| 24576.0000000000|1048576.0000000000|1.0000000000|2147483645.000000...|        null|1.0000000000|   1.0000000000|    YES|        N|            0E-10| 127.0000000000|       0E-10|    0E-10|    0E-10|         0E-10|                    0E-10|              0E-10|         1|         1|    N|   ENABLED|            0E-10|2021-07-28 04:34:50|         NO|    null|        N|        N|    NO|    DEFAULT|    DEFAULT|         DEFAULT|    DISABLED|         YES|        NO|    null|    DISABLED|       YES|          SYS|    DISABLED|   DISABLED|        null|     NO|       NO|            YES|     DEFAULT|        NO|             null|         null|          NO|            NO|DISABLED|             null|               null|                null|              null|   USING_NLS_COMP|         N|      N|                 N|                    N|      NO|    NO|      null|                NO|           NO|                NO|                    NO|            null|                 null|                  NO|        DISABLED|         DISABLED|                  NO|        NO|                   NO|            ENABLED|\n",
      "|  SYS|            FET$|         SYSTEM|         C_TS#|    null| VALID|        0E-10|        0E-10|       0E-10|         0E-10| 65536.0000000000|1048576.0000000000|1.0000000000|2147483645.000000...|        null|1.0000000000|   1.0000000000|    YES|        N|            0E-10|   5.0000000000|       0E-10|    0E-10|    0E-10|         0E-10|                    0E-10|              0E-10|         1|         1|    N|   ENABLED|            0E-10|2021-07-28 04:33:55|         NO|    null|        N|        N|    NO|    DEFAULT|    DEFAULT|         DEFAULT|    DISABLED|         YES|        NO|    null|    DISABLED|       YES|          SYS|    DISABLED|   DISABLED|        null|     NO|       NO|            YES|     DEFAULT|        NO|             null|         null|          NO|            NO|DISABLED|             null|               null|                null|              null|   USING_NLS_COMP|         N|      N|                 N|                    N|      NO|    NO|      null|                NO|           NO|                NO|                    NO|            null|                 null|                  NO|        DISABLED|         DISABLED|                  NO|        NO|                   NO|            ENABLED|\n",
      "|  SYS|           FILE$|         SYSTEM|          null|    null| VALID|10.0000000000|40.0000000000|1.0000000000|255.0000000000| 65536.0000000000|1048576.0000000000|1.0000000000|2147483645.000000...|        null|1.0000000000|   1.0000000000|    YES|        N|     4.0000000000|   1.0000000000|       0E-10|    0E-10|    0E-10| 41.0000000000|                    0E-10|              0E-10|         1|         1|    N|   ENABLED|     4.0000000000|2021-07-28 04:33:56|         NO|    null|        N|        N|    NO|    DEFAULT|    DEFAULT|         DEFAULT|    DISABLED|         YES|        NO|    null|    DISABLED|       YES|         null|    DISABLED|   DISABLED|        null|     NO|       NO|            YES|     DEFAULT|        NO|             null|         null|          NO|            NO|DISABLED|             null|               null|                null|              null|   USING_NLS_COMP|         N|      N|                 N|                    N|      NO|    NO|      null|                NO|           NO|                NO|                    NO|            null|                 null|                  NO|        DISABLED|         DISABLED|                  NO|        NO|                   NO|            ENABLED|\n",
      "|  SYS|PROXY_ROLE_DATA$|         SYSTEM|          null|    null| VALID|10.0000000000|40.0000000000|1.0000000000|255.0000000000| 65536.0000000000|1048576.0000000000|1.0000000000|2147483645.000000...|        null|1.0000000000|   1.0000000000|    YES|        N|            0E-10|          0E-10|       0E-10|    0E-10|    0E-10|         0E-10|                    0E-10|              0E-10|         1|         1|    N|   ENABLED|            0E-10|2021-07-28 04:34:19|         NO|    null|        N|        N|    NO|    DEFAULT|    DEFAULT|         DEFAULT|    DISABLED|         YES|        NO|    null|    DISABLED|       YES|         null|    DISABLED|   DISABLED|        null|     NO|       NO|            YES|     DEFAULT|        NO|             null|         null|          NO|            NO|DISABLED|             null|               null|                null|              null|   USING_NLS_COMP|         N|      N|                 N|                    N|      NO|    NO|      null|                NO|           NO|                NO|                    NO|            null|                 null|                  NO|        DISABLED|         DISABLED|                  NO|        NO|                   NO|            ENABLED|\n",
      "|  SYS|       OBJERROR$|         SYSTEM|          null|    null| VALID|10.0000000000|40.0000000000|1.0000000000|255.0000000000| 65536.0000000000|1048576.0000000000|1.0000000000|2147483645.000000...|        null|1.0000000000|   1.0000000000|    YES|        N|            0E-10|   1.0000000000|       0E-10|    0E-10|    0E-10|         0E-10|                    0E-10|              0E-10|         1|         1|    N|   ENABLED|            0E-10|2021-07-28 04:34:11|         NO|    null|        N|        N|    NO|    DEFAULT|    DEFAULT|         DEFAULT|    DISABLED|         YES|        NO|    null|    DISABLED|       YES|         null|    DISABLED|   DISABLED|        null|     NO|       NO|            YES|     DEFAULT|        NO|             null|         null|          NO|            NO|DISABLED|             null|               null|                null|              null|   USING_NLS_COMP|         N|      N|                 N|                    N|      NO|    NO|      null|                NO|           NO|                NO|                    NO|            null|                 null|                  NO|        DISABLED|         DISABLED|                  NO|        NO|                   NO|            ENABLED|\n",
      "+-----+----------------+---------------+--------------+--------+------+-------------+-------------+------------+--------------+-----------------+------------------+------------+--------------------+------------+------------+---------------+-------+---------+-----------------+---------------+------------+---------+---------+--------------+-------------------------+-------------------+----------+----------+-----+----------+-----------------+-------------------+-----------+--------+---------+---------+------+-----------+-----------+----------------+------------+------------+----------+--------+------------+----------+-------------+------------+-----------+------------+-------+---------+---------------+------------+----------+-----------------+-------------+------------+--------------+--------+-----------------+-------------------+--------------------+------------------+-----------------+----------+-------+------------------+---------------------+--------+------+----------+------------------+-------------+------------------+----------------------+----------------+---------------------+--------------------+----------------+-----------------+--------------------+----------+---------------------+-------------------+\n",
      "only showing top 20 rows\n",
      "\n"
     ]
    },
    {
     "name": "stderr",
     "output_type": "stream",
     "text": [
      "                                                                                \r"
     ]
    }
   ],
   "source": [
    "df.show()"
   ]
  },
  {
   "cell_type": "code",
   "execution_count": 10,
   "metadata": {
    "execution": {
     "iopub.execute_input": "2022-04-28T13:36:03.896310Z",
     "iopub.status.busy": "2022-04-28T13:36:03.895989Z",
     "iopub.status.idle": "2022-04-28T13:36:09.279535Z",
     "shell.execute_reply": "2022-04-28T13:36:09.278894Z",
     "shell.execute_reply.started": "2022-04-28T13:36:03.896282Z"
    },
    "tags": []
   },
   "outputs": [
    {
     "name": "stderr",
     "output_type": "stream",
     "text": [
      "                                                                                \r"
     ]
    }
   ],
   "source": [
    "s3_path = \"s3a://emart-datafabric-dev/oracle-db/\"\n",
    "\n",
    "df.write.mode(\"overwrite\").parquet(s3_path)"
   ]
  },
  {
   "cell_type": "code",
   "execution_count": 11,
   "metadata": {
    "execution": {
     "iopub.execute_input": "2022-04-28T13:36:10.590435Z",
     "iopub.status.busy": "2022-04-28T13:36:10.590004Z",
     "iopub.status.idle": "2022-04-28T13:36:14.773457Z",
     "shell.execute_reply": "2022-04-28T13:36:14.772610Z",
     "shell.execute_reply.started": "2022-04-28T13:36:10.590391Z"
    }
   },
   "outputs": [
    {
     "name": "stdout",
     "output_type": "stream",
     "text": [
      "2022-04-28 22:36:12,057 INFO impl.MetricsConfig: Loaded properties from hadoop-metrics2.properties\n",
      "2022-04-28 22:36:12,148 INFO impl.MetricsSystemImpl: Scheduled Metric snapshot period at 10 second(s).\n",
      "2022-04-28 22:36:12,148 INFO impl.MetricsSystemImpl: s3a-file-system metrics system started\n",
      "Found 2 items\n",
      "-rw-rw-rw-   1 datafabric datafabric          0 2022-04-28 22:36 s3a://emart-datafabric-dev/oracle-db/_SUCCESS\n",
      "-rw-rw-rw-   1 datafabric datafabric      94731 2022-04-28 22:36 s3a://emart-datafabric-dev/oracle-db/part-00000-282ce83c-e2c3-444c-a642-41a585d9e39a-c000.snappy.parquet\n",
      "2022-04-28 22:36:14,319 INFO impl.MetricsSystemImpl: Stopping s3a-file-system metrics system...\n",
      "2022-04-28 22:36:14,319 INFO impl.MetricsSystemImpl: s3a-file-system metrics system stopped.\n",
      "2022-04-28 22:36:14,319 INFO impl.MetricsSystemImpl: s3a-file-system metrics system shutdown complete.\n"
     ]
    }
   ],
   "source": [
    "!hdfs dfs -Dhadoop.security.credential.provider.path=jceks:///datafabric/credentials/aws.jceks -ls {s3_path}"
   ]
  },
  {
   "cell_type": "code",
   "execution_count": 12,
   "metadata": {
    "execution": {
     "iopub.execute_input": "2022-04-28T13:36:17.867121Z",
     "iopub.status.busy": "2022-04-28T13:36:17.866777Z",
     "iopub.status.idle": "2022-04-28T13:36:18.730524Z",
     "shell.execute_reply": "2022-04-28T13:36:18.729649Z",
     "shell.execute_reply.started": "2022-04-28T13:36:17.867090Z"
    }
   },
   "outputs": [],
   "source": [
    "spark.stop()"
   ]
  },
  {
   "cell_type": "code",
   "execution_count": null,
   "metadata": {},
   "outputs": [],
   "source": []
  }
 ],
 "metadata": {
  "kernelspec": {
   "display_name": "Python 3 (ipykernel)",
   "language": "python",
   "name": "python3"
  },
  "language_info": {
   "codemirror_mode": {
    "name": "ipython",
    "version": 3
   },
   "file_extension": ".py",
   "mimetype": "text/x-python",
   "name": "python",
   "nbconvert_exporter": "python",
   "pygments_lexer": "ipython3",
   "version": "3.8.13"
  }
 },
 "nbformat": 4,
 "nbformat_minor": 4
}
