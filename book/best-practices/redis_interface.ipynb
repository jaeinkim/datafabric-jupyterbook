{
 "cells": [
  {
   "cell_type": "code",
   "execution_count": null,
   "id": "7db0415c-34b2-487b-a250-493737ce675a",
   "metadata": {
    "tags": [
     "parameters"
    ]
   },
   "outputs": [],
   "source": [
    "env=\"dev\"\n",
    "host=\"redis-apollo-replication-group-c3f7756.ggxdkn.ng.0001.apn2.cache.amazonaws.com\""
   ]
  },
  {
   "cell_type": "code",
   "execution_count": null,
   "id": "60a95602-8ac4-46a0-b018-76acf22f40c5",
   "metadata": {
    "tags": []
   },
   "outputs": [],
   "source": [
    "redis_info = {}\n",
    "redis_info[\"host\"] = host\n",
    "redis_info[\"port\"] = 6379\n",
    "\n",
    "s3_path = f\"s3a://apollo-ci-mapping-{env}/ci_table\"\n",
    "print(s3_path)"
   ]
  },
  {
   "cell_type": "code",
   "execution_count": null,
   "id": "3cfd45ed-f648-4010-bbec-acc840039717",
   "metadata": {
    "tags": []
   },
   "outputs": [],
   "source": [
    "from pyspark.sql import SparkSession\n",
    "from pyspark import SparkConf\n",
    "\n",
    "sparkConf = SparkConf()\n",
    "sparkConf.set(\"spark.jars\", f\"s3a://apollo-applog-backup-{env}/spark-redis_2.12-3.0.0-SNAPSHOT-jar-with-dependencies.jar\")\n",
    "\n",
    "sparkConf.set(\"spark.redis.host\", redis_info['host'])\n",
    "sparkConf.set(\"spark.redis.port\", redis_info['port'])\n",
    "# sparkConf.set(\"spark.redis.auth\", redis_info['password'])\n",
    "sparkConf.set('spark.sql.execution.arrow.pyspark.enabled', 'true')\n",
    "\n",
    "spark = SparkSession.builder.config(conf=sparkConf).getOrCreate()"
   ]
  },
  {
   "cell_type": "code",
   "execution_count": null,
   "id": "baf8e00b-139b-4ea1-9f9a-930516c84bd1",
   "metadata": {
    "tags": []
   },
   "outputs": [],
   "source": [
    "df = spark.read.parquet(s3_path)"
   ]
  },
  {
   "cell_type": "code",
   "execution_count": null,
   "id": "6bece4a1-6425-4e3c-a28e-acbfb51ace59",
   "metadata": {
    "tags": []
   },
   "outputs": [],
   "source": [
    "if df.count() > 0:\n",
    "    df.write.format(\"org.apache.spark.sql.redis\").option(\"table\", \"ci\").option(\"key.column\", \"svc_mgmt_num\").save(mode=\"append\")"
   ]
  },
  {
   "cell_type": "code",
   "execution_count": null,
   "id": "e4dc5439-8f16-4be0-b910-7ba09367e1aa",
   "metadata": {
    "tags": []
   },
   "outputs": [],
   "source": [
    "spark.stop()"
   ]
  }
 ],
 "metadata": {
  "kernelspec": {
   "display_name": "Python 3",
   "language": "python",
   "name": "python3"
  },
  "language_info": {
   "codemirror_mode": {
    "name": "ipython",
    "version": 3
   },
   "file_extension": ".py",
   "mimetype": "text/x-python",
   "name": "python",
   "nbconvert_exporter": "python",
   "pygments_lexer": "ipython3",
   "version": "3.6.13"
  }
 },
 "nbformat": 4,
 "nbformat_minor": 5
}
