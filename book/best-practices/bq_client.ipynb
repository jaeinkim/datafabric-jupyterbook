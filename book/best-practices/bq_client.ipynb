{
 "cells": [
  {
   "cell_type": "code",
   "execution_count": null,
   "id": "7f904670-2d79-451f-9e4b-f14d6a63b344",
   "metadata": {
    "pycharm": {
     "name": "#%%\n"
    }
   },
   "outputs": [],
   "source": [
    "from pydatafabric.gcp import get_bigquery_client\n",
    "\n",
    "bq = get_bigquery_client()\n",
    "\n",
    "bq.list_partitions(\"loc.ob_roaming_country\")"
   ]
  },
  {
   "cell_type": "code",
   "execution_count": null,
   "outputs": [],
   "source": [
    "SQL = \"\"\n",
    "\n",
    "bq = get_bigquery_client()\n",
    "print(SQL)"
   ],
   "metadata": {
    "collapsed": false,
    "pycharm": {
     "name": "#%%\n"
    }
   }
  },
  {
   "cell_type": "code",
   "execution_count": null,
   "outputs": [],
   "source": [
    "bq.query(SQL).result()\n",
    "bq.close()"
   ],
   "metadata": {
    "collapsed": false,
    "pycharm": {
     "name": "#%%\n"
    }
   }
  },
  {
   "cell_type": "code",
   "execution_count": null,
   "outputs": [],
   "source": [
    "DATASET = 'mls'\n",
    "TABLE = 'mls_stream_prd_20210201'\n",
    "THRESHOLD = '30'"
   ],
   "metadata": {
    "collapsed": false,
    "pycharm": {
     "name": "#%%\n"
    }
   }
  },
  {
   "cell_type": "code",
   "execution_count": null,
   "outputs": [],
   "source": [
    "from pydatafabric.gcp import load_bigquery_ipython_magic\n",
    "\n",
    "query_params = {\n",
    "    'DATASET': DATASET,\n",
    "    'TABLE': TABLE,\n",
    "}"
   ],
   "metadata": {
    "collapsed": false,
    "pycharm": {
     "name": "#%%\n"
    }
   }
  },
  {
   "cell_type": "code",
   "execution_count": null,
   "outputs": [],
   "source": [
    "load_bigquery_ipython_magic()\n",
    "\n",
    "query_params = {\n",
    "    'DATASET': DATASET,\n",
    "    'TABLE': TABLE,\n",
    "}"
   ],
   "metadata": {
    "collapsed": false,
    "pycharm": {
     "name": "#%%\n"
    }
   }
  },
  {
   "cell_type": "code",
   "execution_count": null,
   "outputs": [],
   "source": [
    "%%bq result_dt --params $query_params\n",
    "    SELECT *, TIMESTAMP_MILLIS(last_modified_time) as last_modified, TIMESTAMP_DIFF(CURRENT_TIMESTAMP(), TIMESTAMP_MILLIS(last_modified_time), MINUTE) as delay_min\n",
    "    FROM `{DATASET}.__TABLES__` where table_id = '{TABLE}'"
   ],
   "metadata": {
    "collapsed": false,
    "pycharm": {
     "name": "#%%\n"
    }
   }
  }
 ],
 "metadata": {
  "kernelspec": {
   "display_name": "Python 3",
   "language": "python",
   "name": "python3"
  },
  "language_info": {
   "codemirror_mode": {
    "name": "ipython",
    "version": 3
   },
   "file_extension": ".py",
   "mimetype": "text/x-python",
   "name": "python",
   "nbconvert_exporter": "python",
   "pygments_lexer": "ipython3",
   "version": "3.6.13"
  }
 },
 "nbformat": 4,
 "nbformat_minor": 5
}