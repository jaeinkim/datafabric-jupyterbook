{
 "cells": [
  {
   "cell_type": "markdown",
   "id": "7a663196-1910-46cc-8b81-82071d2e3995",
   "metadata": {},
   "source": [
    "### Oracle에서 bq로 데이터 적재(with Pandas)"
   ]
  },
  {
   "cell_type": "code",
   "execution_count": 13,
   "id": "d622e86b-a856-4dcc-959d-0f4e6a99ce3b",
   "metadata": {
    "execution": {
     "iopub.execute_input": "2022-10-18T07:29:37.857395Z",
     "iopub.status.busy": "2022-10-18T07:29:37.856982Z",
     "iopub.status.idle": "2022-10-18T07:29:37.861210Z",
     "shell.execute_reply": "2022-10-18T07:29:37.860619Z",
     "shell.execute_reply.started": "2022-10-18T07:29:37.857364Z"
    },
    "tags": []
   },
   "outputs": [],
   "source": [
    "from google.cloud import bigquery\n",
    "\n",
    "GCP_PROJECT = \"emart-datafabric\"\n",
    "\n",
    "ORA_OWNER = \"C##DPC\"\n",
    "ORA_TABLE = \"GTPSD_EP_PAY_RESULT_A\"\n",
    "PARTITION_COLUMN = \"BIZ_DATE\"\n",
    "\n",
    "BQ_PARTITION_TYPE = bigquery.TimePartitioningType.DAY\n",
    "BQ_PARTITION_FIELD = \"dt\"\n",
    "BQ_CLUSTERING_FIELD = \"pos_no\"\n",
    "BQ_DATASET = \"temp_1d\"\n",
    "BQ_TABLE = \"temp_gtpsd_ep_pay_result_a\"\n",
    "\n",
    "DT = '20220923'"
   ]
  },
  {
   "cell_type": "code",
   "execution_count": 14,
   "id": "57733df4-56df-4a2b-a7ce-4c13b0206bcd",
   "metadata": {
    "execution": {
     "iopub.execute_input": "2022-10-18T07:29:38.998104Z",
     "iopub.status.busy": "2022-10-18T07:29:38.997711Z",
     "iopub.status.idle": "2022-10-18T07:29:39.036628Z",
     "shell.execute_reply": "2022-10-18T07:29:39.036100Z",
     "shell.execute_reply.started": "2022-10-18T07:29:38.998078Z"
    },
    "tags": []
   },
   "outputs": [],
   "source": [
    "from pydatafabric.vault_utils import get_secrets\n",
    "from pydatafabric.oracle import set_oracle_secret, oracle_to_bq_overwrite_table\n",
    "\n",
    "oracle_secret = get_secrets(mount_point=\"datafabric\",path=\"oracle/datafabric/oracle-db\")\n",
    "set_oracle_secret(oracle_secret)"
   ]
  },
  {
   "cell_type": "markdown",
   "id": "a917bf8e-607a-4a1c-aab0-7bc348803e47",
   "metadata": {},
   "source": [
    "### bq 테이블에 overwrite"
   ]
  },
  {
   "cell_type": "code",
   "execution_count": 15,
   "id": "50059e08-177d-4d68-bb38-552875351af1",
   "metadata": {
    "execution": {
     "iopub.execute_input": "2022-10-18T07:29:41.094030Z",
     "iopub.status.busy": "2022-10-18T07:29:41.093610Z",
     "iopub.status.idle": "2022-10-18T07:29:44.502578Z",
     "shell.execute_reply": "2022-10-18T07:29:44.501949Z",
     "shell.execute_reply.started": "2022-10-18T07:29:41.094007Z"
    },
    "tags": []
   },
   "outputs": [],
   "source": [
    "query = f\"\"\"\n",
    "    select * \n",
    "    from {ORA_OWNER}.{ORA_TABLE}\n",
    "    where {PARTITION_COLUMN} = '{DT}'\n",
    "\"\"\"\n",
    "\n",
    "oracle_to_bq_overwrite_table(owner=ORA_OWNER\n",
    "                            , table=ORA_TABLE\n",
    "                            , dataset=BQ_DATASET\n",
    "                            , bq_table=BQ_TABLE\n",
    "                            , bq_project=GCP_PROJECT\n",
    "                            , partition_column=PARTITION_COLUMN\n",
    "                            , partition_type=BQ_PARTITION_TYPE\n",
    "                            , partition_field=BQ_PARTITION_FIELD\n",
    "                            , query=query)"
   ]
  }
 ],
 "metadata": {
  "kernelspec": {
   "display_name": "Python 3 (ipykernel)",
   "language": "python",
   "name": "python3"
  },
  "language_info": {
   "codemirror_mode": {
    "name": "ipython",
    "version": 3
   },
   "file_extension": ".py",
   "mimetype": "text/x-python",
   "name": "python",
   "nbconvert_exporter": "python",
   "pygments_lexer": "ipython3",
   "version": "3.8.13"
  },
  "vscode": {
   "interpreter": {
    "hash": "985d5bc630ece02282e7210dbeb9efd68f2b003439b0018ff1eba870dbcc8ad1"
   }
  }
 },
 "nbformat": 4,
 "nbformat_minor": 5
}
