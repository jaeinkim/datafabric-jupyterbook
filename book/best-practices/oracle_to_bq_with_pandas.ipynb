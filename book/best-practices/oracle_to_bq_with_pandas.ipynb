{
 "cells": [
  {
   "cell_type": "code",
   "execution_count": 129,
   "id": "d622e86b-a856-4dcc-959d-0f4e6a99ce3b",
   "metadata": {
    "execution": {
     "iopub.execute_input": "2022-09-30T00:46:33.624149Z",
     "iopub.status.busy": "2022-09-30T00:46:33.623634Z",
     "iopub.status.idle": "2022-09-30T00:46:33.629053Z",
     "shell.execute_reply": "2022-09-30T00:46:33.628467Z",
     "shell.execute_reply.started": "2022-09-30T00:46:33.624112Z"
    },
    "tags": []
   },
   "outputs": [],
   "source": [
    "from google.cloud import bigquery\n",
    "\n",
    "GCP_PROJECT = \"smart-ruler-304409\"\n",
    "\n",
    "ORA_OWNER = \"C##DPC\"\n",
    "ORA_TABLE = \"GTPSD_EP_PAY_RESULT_A\"\n",
    "\n",
    "BQ_PARTITION_TYPE = bigquery.TimePartitioningType.DAY\n",
    "BQ_PARTITION_COLUMN = \"BIZ_DATE\"\n",
    "BQ_PARTITION_FIELD = \"biz_date\"\n",
    "BQ_CLUSTERING_FIELD = \"pos_no\"\n",
    "BQ_DATASET = \"temp_1d\"\n",
    "BQ_TABLE = \"temp_gtpsd_ep_pay_result_a\"\n",
    "\n",
    "DT = '20220923'"
   ]
  },
  {
   "cell_type": "code",
   "execution_count": 130,
   "id": "57733df4-56df-4a2b-a7ce-4c13b0206bcd",
   "metadata": {
    "execution": {
     "iopub.execute_input": "2022-09-30T00:46:34.960519Z",
     "iopub.status.busy": "2022-09-30T00:46:34.960125Z",
     "iopub.status.idle": "2022-09-30T00:46:35.000856Z",
     "shell.execute_reply": "2022-09-30T00:46:35.000177Z",
     "shell.execute_reply.started": "2022-09-30T00:46:34.960492Z"
    },
    "tags": []
   },
   "outputs": [],
   "source": [
    "from pydatafabric.vault_utils import get_secrets\n",
    "from pydatafabric.oracle import get_oracle_schema, set_oracle_secret, generate_oracle_select_query, oracle_to_pandas\n",
    "\n",
    "oracle_secret = get_secrets(mount_point=\"datafabric\",path=\"oracle/datafabric/oracle-db\")\n",
    "set_oracle_secret(oracle_secret)"
   ]
  },
  {
   "cell_type": "code",
   "execution_count": 133,
   "id": "0d6b570e-78f5-42c9-8f6a-8e92b57f8342",
   "metadata": {
    "execution": {
     "iopub.execute_input": "2022-09-30T00:47:01.011028Z",
     "iopub.status.busy": "2022-09-30T00:47:01.010738Z",
     "iopub.status.idle": "2022-09-30T00:47:01.017709Z",
     "shell.execute_reply": "2022-09-30T00:47:01.017235Z",
     "shell.execute_reply.started": "2022-09-30T00:47:01.011008Z"
    },
    "tags": []
   },
   "outputs": [],
   "source": [
    "def convert_oracle_to_bigquery_schema(owner, table_name, partition_field=None):\n",
    "    oracle_schema = get_oracle_schema(owner, table_name)\n",
    "    schema = []\n",
    "\n",
    "    if partition_field and isinstance(partition_field, bigquery.SchemaField):\n",
    "        schema.append(partition_field)\n",
    "\n",
    "    for i in range(len(oracle_schema)):\n",
    "        row = oracle_schema.iloc[i]\n",
    "        description = getDefault(row[\"column_comments\"], \"\")\n",
    "        column = row[\"column_name\"].lower()\n",
    "        oc_type = row[\"data_type_name\"]\n",
    "        nullable = row[\"is_nullable\"]\n",
    "        scale = getDefault(row[\"scale\"], \"\")\n",
    "        precision = getDefault(row[\"precision\"], \"\")\n",
    "        length = row[\"length\"]\n",
    "        \n",
    "        \n",
    "        bq_type = \"STRING\"\n",
    "        if oc_type in (\"VARCHAR2\", \"CHAR\", \"NVARCHAR2\", \"CLOB\"):\n",
    "            bq_type = \"STRING\"\n",
    "        elif oc_type == \"NUMBER\":\n",
    "            if precision and precision >= 0:\n",
    "                if scale == 0:\n",
    "                    if precision < 9:\n",
    "                        bq_type = \"INTEGER\"\n",
    "                    elif precision >= 9 and precision < 22:\n",
    "                        bq_type = \"NUMERIC\"\n",
    "                    elif precision >= 22:\n",
    "                        bq_type = \"BIGNUMERIC\"\n",
    "                elif scale > 0:\n",
    "                    bq_type = \"FLOAT\"\n",
    "            else:\n",
    "                bq_type = \"NUMERIC\"\n",
    "        elif oc_type == \"LONG\":\n",
    "            bq_type = \"NUMERIC\"\n",
    "        elif oc_type == \"DATE\":\n",
    "            bq_type = \"DATETIME\"\n",
    "        elif oc_type.startswith(\"TIMESTAMP\"):\n",
    "            bq_type = \"DATETIME\"\n",
    "\n",
    "        mode = \"REQUIRED\" if nullable == \"N\" else \"NULLABLE\"\n",
    "        \n",
    "        if column != BQ_PARTITION_FIELD:\n",
    "            schema.append(\n",
    "                bigquery.SchemaField(column, bq_type, mode=mode, description=description)\n",
    "            )\n",
    "    \n",
    "    return schema"
   ]
  },
  {
   "cell_type": "code",
   "execution_count": 134,
   "id": "7b677649-0e02-489b-9949-d28841188350",
   "metadata": {
    "execution": {
     "iopub.execute_input": "2022-09-30T00:47:02.628927Z",
     "iopub.status.busy": "2022-09-30T00:47:02.628526Z",
     "iopub.status.idle": "2022-09-30T00:47:02.700791Z",
     "shell.execute_reply": "2022-09-30T00:47:02.700287Z",
     "shell.execute_reply.started": "2022-09-30T00:47:02.628892Z"
    },
    "tags": []
   },
   "outputs": [],
   "source": [
    "from pydatafabric.gcp import get_bigquery_client\n",
    "from google.cloud.bigquery.job import LoadJobConfig\n",
    "from google.cloud.bigquery.table import TimePartitioning, TableReference\n",
    "from google.cloud.bigquery.dataset import DatasetReference\n",
    "from google.cloud.bigquery.schema import SchemaField\n",
    "\n",
    "bq = get_bigquery_client(project=GCP_PROJECT)\n",
    "\n",
    "def get_bigquery_load_job_config(schema, write_disposition, partition_type = None, partition_field = None, clustering_fields = None):\n",
    "    job_config = bigquery.LoadJobConfig()\n",
    "    job_config.schema = schema\n",
    "    job_config.write_disposition = write_disposition\n",
    "    job_config.create_disposition = \"CREATE_IF_NEEDED\"\n",
    "    job_config.source_format = bigquery.SourceFormat.PARQUET\n",
    "    job_config.autodetect = False\n",
    "\n",
    "    if partition_type and partition_field:\n",
    "        job_config.time_partitioning = bigquery.TimePartitioning(\n",
    "            type_=partition_type,\n",
    "            field=partition_field\n",
    "        )\n",
    "        \n",
    "    if clustering_fields:\n",
    "        job_config.clustering_fields = clustering_fields        \n",
    "    \n",
    "    return job_config"
   ]
  },
  {
   "cell_type": "code",
   "execution_count": 135,
   "id": "50059e08-177d-4d68-bb38-552875351af1",
   "metadata": {
    "execution": {
     "iopub.execute_input": "2022-09-30T00:47:06.484686Z",
     "iopub.status.busy": "2022-09-30T00:47:06.484299Z",
     "iopub.status.idle": "2022-09-30T00:47:09.454641Z",
     "shell.execute_reply": "2022-09-30T00:47:09.454091Z",
     "shell.execute_reply.started": "2022-09-30T00:47:06.484662Z"
    },
    "tags": []
   },
   "outputs": [
    {
     "name": "stdout",
     "output_type": "stream",
     "text": [
      "target table:  GTPSD_EP_PAY_RESULT_A\n",
      "create oracle to pandas excute time:  0.17\n",
      "pandas to bq load time:  2.79\n"
     ]
    }
   ],
   "source": [
    "import time\n",
    "import pandas as pd\n",
    "\n",
    "oracle_to_pd_convert_start = 0.0\n",
    "bq_load_time_start = 0.0\n",
    "    \n",
    "where = f\"\"\"\n",
    "    {BQ_PARTITION_COLUMN} = '{DT}'\n",
    "\"\"\"\n",
    "\n",
    "oracle_to_pd_convert_start_t = time.time()\n",
    "\n",
    "query = generate_oracle_select_query(ORA_OWNER, ORA_TABLE, where)\n",
    "pdf = oracle_to_pandas(ORA_OWNER, ORA_TABLE, sql = query)\n",
    "\n",
    "print(\"target table: \", ORA_TABLE)\n",
    "print(\"create oracle to pandas excute time: \", round((time.time()- oracle_to_pd_convert_start_t), 2))\n",
    "bq_load_start_t = time.time()\n",
    "\n",
    "if len(pdf.index) > 0:\n",
    "    pdf[BQ_PARTITION_FIELD] = pd.to_datetime(pdf[BQ_PARTITION_FIELD.lower()], format='%Y%m%d').dt.date\n",
    "    pdf[\"crtn_dt\"] = pd.to_datetime(pdf[\"crtn_dt\"], format='%Y-%m-%d %H:%M:%S')\n",
    "    pdf[\"chg_dt\"] = pd.to_datetime(pdf[\"chg_dt\"], format='%Y-%m-%d %H:%M:%S')\n",
    "    \n",
    "    partition_schema_field = bigquery.SchemaField(BQ_PARTITION_FIELD, 'DATE', mode='REQUIRED', description='영업일자')\n",
    "    schema = convert_oracle_to_bigquery_schema(ORA_OWNER, ORA_TABLE, partition_schema_field)\n",
    "    \n",
    "    if(schema):\n",
    "        t_ref = TableReference(DatasetReference(GCP_PROJECT, BQ_DATASET), f\"{BQ_TABLE.lower()}\")\n",
    "        jc = get_bigquery_load_job_config(schema, \"WRITE_APPEND\", BQ_PARTITION_TYPE, BQ_PARTITION_FIELD, BQ_CLUSTERING_FIELD)\n",
    "        j = bq.load_table_from_dataframe(pdf, t_ref, job_config=jc)\n",
    "        j.result()\n",
    "        \n",
    "        print(\"pandas to bq load time: \", round((time.time()-bq_load_start_t), 2)) \n",
    "\n",
    "        \n",
    "# pydatafabric core 수정 필요.\n",
    "# oracle_to_bq_overwrite_table(owner=ORA_OWNER\n",
    "#                             , table=ORA_TABLE\n",
    "#                             , dataset=BQ_DATASET\n",
    "#                             , bq_table=BQ_TABLE\n",
    "#                             , partition_column=BQ_PARTITION_FIELD\n",
    "#                             , partition_type=BQ_PARTITION_TYPE\n",
    "#                             , partition_field=BQ_PARTITION_FIELD\n",
    "#                             , query=query)"
   ]
  },
  {
   "cell_type": "code",
   "execution_count": null,
   "id": "7f21a505-3e9b-426b-bef8-06d48d559073",
   "metadata": {},
   "outputs": [],
   "source": []
  }
 ],
 "metadata": {
  "kernelspec": {
   "display_name": "Python 3 (ipykernel)",
   "language": "python",
   "name": "python3"
  },
  "language_info": {
   "codemirror_mode": {
    "name": "ipython",
    "version": 3
   },
   "file_extension": ".py",
   "mimetype": "text/x-python",
   "name": "python",
   "nbconvert_exporter": "python",
   "pygments_lexer": "ipython3",
   "version": "3.8.13"
  },
  "vscode": {
   "interpreter": {
    "hash": "985d5bc630ece02282e7210dbeb9efd68f2b003439b0018ff1eba870dbcc8ad1"
   }
  }
 },
 "nbformat": 4,
 "nbformat_minor": 5
}
