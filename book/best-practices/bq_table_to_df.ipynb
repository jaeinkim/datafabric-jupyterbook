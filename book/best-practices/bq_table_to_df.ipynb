{
 "cells": [
  {
   "cell_type": "markdown",
   "id": "d45b97e0-71fa-4ba6-bea2-d583b91e769d",
   "metadata": {},
   "source": [
    "### bq를 spark dataframe으로 변환"
   ]
  },
  {
   "cell_type": "code",
   "execution_count": 18,
   "id": "bc2c2e88-b424-4fa8-b365-f8c32a37ea38",
   "metadata": {
    "execution": {
     "iopub.execute_input": "2022-09-28T01:18:28.141561Z",
     "iopub.status.busy": "2022-09-28T01:18:28.141184Z",
     "iopub.status.idle": "2022-09-28T01:18:31.489649Z",
     "shell.execute_reply": "2022-09-28T01:18:31.489039Z",
     "shell.execute_reply.started": "2022-09-28T01:18:28.141538Z"
    },
    "tags": []
   },
   "outputs": [],
   "source": [
    "from pydatafabric.gcp import bq_table_to_df, get_spark\n",
    "from datetime import datetime\n",
    "\n",
    "spark = get_spark()\n",
    "\n",
    "df = bq_table_to_df(\"test_o2o_log\", \"ST_LOG\", project=\"smart-ruler-304409\", col_list=\"*\", partition=datetime.strptime(\"2022-04-19\", \"%Y-%m-%d\"), spark_session=spark)"
   ]
  },
  {
   "cell_type": "code",
   "execution_count": 19,
   "id": "d75ff965-9cc2-42aa-812c-5ec2e6161f30",
   "metadata": {
    "execution": {
     "iopub.execute_input": "2022-09-28T01:18:32.574389Z",
     "iopub.status.busy": "2022-09-28T01:18:32.574033Z",
     "iopub.status.idle": "2022-09-28T01:18:32.578017Z",
     "shell.execute_reply": "2022-09-28T01:18:32.577436Z",
     "shell.execute_reply.started": "2022-09-28T01:18:32.574367Z"
    },
    "tags": []
   },
   "outputs": [
    {
     "name": "stdout",
     "output_type": "stream",
     "text": [
      "root\n",
      " |-- seq: decimal(38,9) (nullable = true)\n",
      " |-- site_code: string (nullable = true)\n",
      " |-- url: string (nullable = true)\n",
      " |-- guid1: string (nullable = true)\n",
      " |-- guid2: string (nullable = true)\n",
      " |-- insert_dt: string (nullable = true)\n",
      " |-- device_type: string (nullable = true)\n",
      " |-- os_type: string (nullable = true)\n",
      " |-- os_name: string (nullable = true)\n",
      " |-- browser_name: string (nullable = true)\n",
      " |-- cust_id: string (nullable = true)\n",
      " |-- rgst_dt: string (nullable = true)\n",
      " |-- rgst_tm: string (nullable = true)\n",
      " |-- ip_address: string (nullable = true)\n",
      " |-- refer_url: string (nullable = true)\n",
      " |-- tracking_code: string (nullable = true)\n",
      "\n"
     ]
    }
   ],
   "source": [
    "df.printSchema()"
   ]
  },
  {
   "cell_type": "code",
   "execution_count": 20,
   "id": "77de10be-951b-4d9d-9fe1-44b1f41bf193",
   "metadata": {
    "execution": {
     "iopub.execute_input": "2022-09-28T01:18:33.290524Z",
     "iopub.status.busy": "2022-09-28T01:18:33.290114Z",
     "iopub.status.idle": "2022-09-28T01:18:44.030202Z",
     "shell.execute_reply": "2022-09-28T01:18:44.029661Z",
     "shell.execute_reply.started": "2022-09-28T01:18:33.290494Z"
    },
    "tags": []
   },
   "outputs": [
    {
     "name": "stdout",
     "output_type": "stream",
     "text": [
      "+---+---------+---+-----+-----+---------+-----------+-------+-------+------------+-------+-------+-------+----------+---------+-------------+\n",
      "|seq|site_code|url|guid1|guid2|insert_dt|device_type|os_type|os_name|browser_name|cust_id|rgst_dt|rgst_tm|ip_address|refer_url|tracking_code|\n",
      "+---+---------+---+-----+-----+---------+-----------+-------+-------+------------+-------+-------+-------+----------+---------+-------------+\n",
      "+---+---------+---+-----+-----+---------+-----------+-------+-------+------------+-------+-------+-------+----------+---------+-------------+\n",
      "\n"
     ]
    }
   ],
   "source": [
    "df.show()"
   ]
  },
  {
   "cell_type": "code",
   "execution_count": 21,
   "id": "b71740e6-a6f5-4f13-b78b-4f908a4254b2",
   "metadata": {
    "execution": {
     "iopub.execute_input": "2022-09-28T01:18:45.029265Z",
     "iopub.status.busy": "2022-09-28T01:18:45.029037Z",
     "iopub.status.idle": "2022-09-28T01:18:45.495981Z",
     "shell.execute_reply": "2022-09-28T01:18:45.495253Z",
     "shell.execute_reply.started": "2022-09-28T01:18:45.029246Z"
    }
   },
   "outputs": [],
   "source": [
    "spark.stop()"
   ]
  },
  {
   "cell_type": "code",
   "execution_count": null,
   "id": "cc299afc-61a0-49ed-9423-5532d81dba33",
   "metadata": {},
   "outputs": [],
   "source": []
  }
 ],
 "metadata": {
  "kernelspec": {
   "display_name": "Python 3 (ipykernel)",
   "language": "python",
   "name": "python3"
  },
  "language_info": {
   "codemirror_mode": {
    "name": "ipython",
    "version": 3
   },
   "file_extension": ".py",
   "mimetype": "text/x-python",
   "name": "python",
   "nbconvert_exporter": "python",
   "pygments_lexer": "ipython3",
   "version": "3.8.13"
  }
 },
 "nbformat": 4,
 "nbformat_minor": 5
}
