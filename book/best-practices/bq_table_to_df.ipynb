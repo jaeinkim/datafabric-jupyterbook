{
 "cells": [
  {
   "cell_type": "markdown",
   "id": "d45b97e0-71fa-4ba6-bea2-d583b91e769d",
   "metadata": {},
   "source": [
    "### bq를 spark dataframe으로 변환"
   ]
  },
  {
   "cell_type": "code",
   "execution_count": 1,
   "id": "7b42a984-14ec-4da8-98d7-82559611ee55",
   "metadata": {
    "execution": {
     "iopub.execute_input": "2022-10-04T06:02:06.301047Z",
     "iopub.status.busy": "2022-10-04T06:02:06.300595Z",
     "iopub.status.idle": "2022-10-04T06:02:06.307021Z",
     "shell.execute_reply": "2022-10-04T06:02:06.306516Z",
     "shell.execute_reply.started": "2022-10-04T06:02:06.300952Z"
    }
   },
   "outputs": [],
   "source": [
    "PROJECT = \"emart-datafabric\"\n",
    "DATASET = \"common_dev\"\n",
    "TABLE = \"dfm_sample_st_log\"\n",
    "LIMIT = 30"
   ]
  },
  {
   "cell_type": "code",
   "execution_count": 2,
   "id": "bc2c2e88-b424-4fa8-b365-f8c32a37ea38",
   "metadata": {
    "execution": {
     "iopub.execute_input": "2022-10-04T06:03:06.431544Z",
     "iopub.status.busy": "2022-10-04T06:03:06.431313Z",
     "iopub.status.idle": "2022-10-04T06:03:19.989940Z",
     "shell.execute_reply": "2022-10-04T06:03:19.989264Z",
     "shell.execute_reply.started": "2022-10-04T06:03:06.431526Z"
    },
    "tags": []
   },
   "outputs": [
    {
     "name": "stderr",
     "output_type": "stream",
     "text": [
      "Setting default log level to \"WARN\".\n",
      "To adjust logging level use sc.setLogLevel(newLevel). For SparkR, use setLogLevel(newLevel).\n",
      "22/10/04 15:03:09 INFO org.apache.spark.SparkEnv: Registering MapOutputTracker\n",
      "22/10/04 15:03:09 INFO org.apache.spark.SparkEnv: Registering BlockManagerMaster\n",
      "22/10/04 15:03:09 INFO org.apache.spark.SparkEnv: Registering BlockManagerMasterHeartbeat\n",
      "22/10/04 15:03:09 INFO org.apache.spark.SparkEnv: Registering OutputCommitCoordinator\n"
     ]
    }
   ],
   "source": [
    "from pydatafabric.gcp import bq_table_to_df, get_spark\n",
    "\n",
    "spark = get_spark()\n",
    "\n",
    "df = bq_table_to_df(DATASET, TABLE, project=PROJECT, col_list=\"*\", partition=\"2022-04-19\", spark_session=spark)"
   ]
  },
  {
   "cell_type": "code",
   "execution_count": 3,
   "id": "d75ff965-9cc2-42aa-812c-5ec2e6161f30",
   "metadata": {
    "execution": {
     "iopub.execute_input": "2022-10-04T06:03:20.868263Z",
     "iopub.status.busy": "2022-10-04T06:03:20.867866Z",
     "iopub.status.idle": "2022-10-04T06:03:20.885318Z",
     "shell.execute_reply": "2022-10-04T06:03:20.884812Z",
     "shell.execute_reply.started": "2022-10-04T06:03:20.868234Z"
    },
    "tags": []
   },
   "outputs": [
    {
     "name": "stdout",
     "output_type": "stream",
     "text": [
      "root\n",
      " |-- seq: decimal(38,9) (nullable = true)\n",
      " |-- site_code: string (nullable = true)\n",
      " |-- url: string (nullable = true)\n",
      " |-- guid1: string (nullable = true)\n",
      " |-- guid2: string (nullable = true)\n",
      " |-- insert_dt: string (nullable = true)\n",
      " |-- device_type: string (nullable = true)\n",
      " |-- os_type: string (nullable = true)\n",
      " |-- os_name: string (nullable = true)\n",
      " |-- browser_name: string (nullable = true)\n",
      " |-- cust_id: string (nullable = true)\n",
      " |-- rgst_dt: string (nullable = true)\n",
      " |-- rgst_tm: string (nullable = true)\n",
      " |-- ip_address: string (nullable = true)\n",
      " |-- refer_url: string (nullable = true)\n",
      " |-- tracking_code: string (nullable = true)\n",
      " |-- dt: date (nullable = true)\n",
      "\n"
     ]
    }
   ],
   "source": [
    "df.printSchema()"
   ]
  },
  {
   "cell_type": "code",
   "execution_count": 4,
   "id": "77de10be-951b-4d9d-9fe1-44b1f41bf193",
   "metadata": {
    "execution": {
     "iopub.execute_input": "2022-10-04T06:03:22.606820Z",
     "iopub.status.busy": "2022-10-04T06:03:22.606442Z",
     "iopub.status.idle": "2022-10-04T06:03:28.005238Z",
     "shell.execute_reply": "2022-10-04T06:03:28.004658Z",
     "shell.execute_reply.started": "2022-10-04T06:03:22.606798Z"
    },
    "tags": []
   },
   "outputs": [
    {
     "name": "stderr",
     "output_type": "stream",
     "text": [
      "[Stage 0:>                                                          (0 + 1) / 1]\r"
     ]
    },
    {
     "name": "stdout",
     "output_type": "stream",
     "text": [
      "+--------------------+---------+--------------------+--------------------+--------------------+-------------------+-----------+-------+-------+-------------+--------------------+--------+-------+-------------+--------------------+-------------+----------+\n",
      "|                 seq|site_code|                 url|               guid1|               guid2|          insert_dt|device_type|os_type|os_name| browser_name|             cust_id| rgst_dt|rgst_tm|   ip_address|           refer_url|tracking_code|        dt|\n",
      "+--------------------+---------+--------------------+--------------------+--------------------+-------------------+-----------+-------+-------+-------------+--------------------+--------+-------+-------------+--------------------+-------------+----------+\n",
      "|9999999999.000000000|       94|/mollys/mollyLife...|DCF1CBA096C145F2E...|DCF1CBA096C245F2E...|2022-04-19T02:07:30|          T|      A|Android|Chrome Mobile|                    |20220419| 020730| 66.249.68.21|                null|         null|2022-04-19|\n",
      "|9999999999.000000000|       40|/onlineLeaflet/li...|DCF08FC87D071C2AE...|DCF08FC87D081C2AE...|2022-04-19T00:39:11|          T|      A|Android|Chrome Mobile|                    |20220419| 003911| 66.249.79.54|                null|         null|2022-04-19|\n",
      "|9999999999.000000000|       40|       /main/main.do|D807C968451617C1E...|DC260D44D8ED9896E...|2022-04-19T09:13:20|          T|      A|Android|Chrome Mobile|37f978afacf9d1f81...|20220419| 091320|202.8.191.121|                null|         null|2022-04-19|\n",
      "|9999999999.000000000|       40|/main/ajax/getOnl...|D807C968451617C1E...|DC260D44D8ED9896E...|2022-04-19T09:13:21|          T|      A|Android|Chrome Mobile|37f978afacf9d1f81...|20220419| 091321|202.8.191.121|       /main/main.do|         null|2022-04-19|\n",
      "|9999999999.000000000|       40|/app/favoriteInfo.do|D807C968451617C1E...|DC260D44D8ED9896E...|2022-04-19T09:13:21|          T|      A|Android|Chrome Mobile|37f978afacf9d1f81...|20220419| 091321|202.8.191.121|       /main/main.do|         null|2022-04-19|\n",
      "|9999999999.000000000|       40|/main/ajax/getOnl...|DB68E5567C320776E...|DB68E5567C330776E...|2022-04-19T09:43:36|          T|      A|Android|Chrome Mobile|d789cf44e0234b87b...|20220419| 094336|202.8.191.121|https://dev2-eapp...|         null|2022-04-19|\n",
      "|9999999999.000000000|       40|/app/favoriteInfo.do|DB68E5567C320776E...|DB68E5567C330776E...|2022-04-19T09:43:37|          T|      A|Android|Chrome Mobile|d789cf44e0234b87b...|20220419| 094337|202.8.191.121|https://dev2-eapp...|         null|2022-04-19|\n",
      "|9999999999.000000000|       40|     /login/login.do|DB68E5567C320776E...|DB68E5567C330776E...|2022-04-19T09:44:56|          T|      A|Android|Chrome Mobile|d789cf44e0234b87b...|20220419| 094456|202.8.191.121|https://dev2-eapp...|         null|2022-04-19|\n",
      "|9999999999.000000000|       40|/common/EncryptDa...|DB68E5567C320776E...|DB68E5567C330776E...|2022-04-19T09:45:02|          T|      A|Android|Chrome Mobile|d789cf44e0234b87b...|20220419| 094502|202.8.191.121|https://dev2-eapp...|         null|2022-04-19|\n",
      "|9999999999.000000000|       40|/login/processLog...|DB68E5567C320776E...|DB68E5567C330776E...|2022-04-19T09:45:03|          T|      A|Android|Chrome Mobile|d789cf44e0234b87b...|20220419| 094503|202.8.191.121|https://dev2-eapp...|         null|2022-04-19|\n",
      "|9999999999.000000000|       40|/common/error/err...|D19746E6D174AB37E...|D5D7B5F62ABD9F07E...|2022-04-19T12:50:10|          T|      A|Android|Chrome Mobile|07a3bac0446d01bd8...|20220419| 125010|202.8.191.121|                null|         null|2022-04-19|\n",
      "|9999999999.000000000|       40|       /main/main.do|DC92996DBFF97873E...|DC92996DBFFA7873E...|2022-04-19T12:51:11|          T|      A|Android|Chrome Mobile|aa2d3828055a5b652...|20220419| 125111|202.8.191.121|                null|         null|2022-04-19|\n",
      "|9999999999.000000000|       40|/main/ajax/getOnl...|DC92996DBFF97873E...|DC92996DBFFA7873E...|2022-04-19T12:51:12|          T|      A|Android|Chrome Mobile|aa2d3828055a5b652...|20220419| 125112|202.8.191.121|       /main/main.do|         null|2022-04-19|\n",
      "|9999999999.000000000|       40|/app/favoriteInfo.do|DC92996DBFF97873E...|DC92996DBFFA7873E...|2022-04-19T12:51:13|          T|      A|Android|Chrome Mobile|aa2d3828055a5b652...|20220419| 125113|202.8.191.121|       /main/main.do|         null|2022-04-19|\n",
      "|9999999999.000000000|       40|/event/detail/ema...|DC92996DBFF97873E...|DC92996DBFFA7873E...|2022-04-19T12:51:25|          T|      A|Android|Chrome Mobile|aa2d3828055a5b652...|20220419| 125125|202.8.191.121|                null|         null|2022-04-19|\n",
      "|9999999999.000000000|       40|/event/detail/ema...|DC92996DBFF97873E...|DC92996DBFFA7873E...|2022-04-19T12:51:39|          T|      A|Android|Chrome Mobile|aa2d3828055a5b652...|20220419| 125139|202.8.191.121|                null|         null|2022-04-19|\n",
      "|9999999999.000000000|       40|/event/detail/Ema...|D19746E6D174AB37E...|D5D7B5F62ABD9F07E...|2022-04-19T12:52:23|          T|      A|Android|Chrome Mobile|07a3bac0446d01bd8...|20220419| 125223|202.8.191.121|                null|         null|2022-04-19|\n",
      "|9999999999.000000000|       40|/event/detail/Ema...|D767D93407259A63E...|DCFACB9C30CF4DC4E...|2022-04-19T12:51:44|          T|      A|Android|Chrome Mobile|                    |20220419| 125144|223.38.72.129|                null|         null|2022-04-19|\n",
      "|9999999999.000000000|       40|/event/detail/Ema...|D767D93407259A63E...|DCFACB9C30CF4DC4E...|2022-04-19T12:51:54|          T|      A|Android|Chrome Mobile|                    |20220419| 125154|223.38.72.129|                null|         null|2022-04-19|\n",
      "|9999999999.000000000|       40|/event/detail/Ema...|D767D93407259A63E...|DCFACB9C30CF4DC4E...|2022-04-19T12:52:06|          T|      A|Android|Chrome Mobile|                    |20220419| 125206|223.38.72.129|                null|         null|2022-04-19|\n",
      "+--------------------+---------+--------------------+--------------------+--------------------+-------------------+-----------+-------+-------+-------------+--------------------+--------+-------+-------------+--------------------+-------------+----------+\n",
      "only showing top 20 rows\n",
      "\n"
     ]
    },
    {
     "name": "stderr",
     "output_type": "stream",
     "text": [
      "                                                                                \r"
     ]
    }
   ],
   "source": [
    "df.show()"
   ]
  },
  {
   "cell_type": "code",
   "execution_count": 5,
   "id": "b71740e6-a6f5-4f13-b78b-4f908a4254b2",
   "metadata": {
    "execution": {
     "iopub.execute_input": "2022-10-04T06:03:35.012460Z",
     "iopub.status.busy": "2022-10-04T06:03:35.012070Z",
     "iopub.status.idle": "2022-10-04T06:03:35.567111Z",
     "shell.execute_reply": "2022-10-04T06:03:35.566328Z",
     "shell.execute_reply.started": "2022-10-04T06:03:35.012435Z"
    },
    "tags": []
   },
   "outputs": [],
   "source": [
    "spark.stop()"
   ]
  }
 ],
 "metadata": {
  "kernelspec": {
   "display_name": "Python 3 (ipykernel)",
   "language": "python",
   "name": "python3"
  },
  "language_info": {
   "codemirror_mode": {
    "name": "ipython",
    "version": 3
   },
   "file_extension": ".py",
   "mimetype": "text/x-python",
   "name": "python",
   "nbconvert_exporter": "python",
   "pygments_lexer": "ipython3",
   "version": "3.8.13"
  }
 },
 "nbformat": 4,
 "nbformat_minor": 5
}
