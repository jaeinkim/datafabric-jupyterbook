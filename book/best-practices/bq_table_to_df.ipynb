{
 "cells": [
  {
   "cell_type": "code",
   "execution_count": 7,
   "id": "bc2c2e88-b424-4fa8-b365-f8c32a37ea38",
   "metadata": {
    "execution": {
     "iopub.execute_input": "2022-04-19T07:28:17.637474Z",
     "iopub.status.busy": "2022-04-19T07:28:17.637029Z",
     "iopub.status.idle": "2022-04-19T07:28:23.752425Z",
     "shell.execute_reply": "2022-04-19T07:28:23.751939Z",
     "shell.execute_reply.started": "2022-04-19T07:28:17.637431Z"
    },
    "tags": []
   },
   "outputs": [],
   "source": [
    "from pydatafabric.gcp import bq_table_to_df\n",
    "\n",
    "df = bq_table_to_df(\"o2o_log\", \"ST_LOG\", project=\"smart-ruler-304409\", col_list=\"*\", partition=\"2022-04-19\")"
   ]
  },
  {
   "cell_type": "code",
   "execution_count": 10,
   "id": "d75ff965-9cc2-42aa-812c-5ec2e6161f30",
   "metadata": {
    "execution": {
     "iopub.execute_input": "2022-04-19T07:29:02.117159Z",
     "iopub.status.busy": "2022-04-19T07:29:02.116829Z",
     "iopub.status.idle": "2022-04-19T07:29:02.121687Z",
     "shell.execute_reply": "2022-04-19T07:29:02.121247Z",
     "shell.execute_reply.started": "2022-04-19T07:29:02.117133Z"
    },
    "tags": []
   },
   "outputs": [
    {
     "name": "stdout",
     "output_type": "stream",
     "text": [
      "root\n",
      " |-- seq: decimal(38,9) (nullable = false)\n",
      " |-- site_code: string (nullable = false)\n",
      " |-- url: string (nullable = false)\n",
      " |-- guid1: string (nullable = false)\n",
      " |-- guid2: string (nullable = false)\n",
      " |-- insert_dt: string (nullable = false)\n",
      " |-- device_type: string (nullable = true)\n",
      " |-- os_type: string (nullable = true)\n",
      " |-- os_name: string (nullable = true)\n",
      " |-- browser_name: string (nullable = true)\n",
      " |-- cust_id: string (nullable = true)\n",
      " |-- rgst_dt: string (nullable = true)\n",
      " |-- rgst_tm: string (nullable = true)\n",
      " |-- ip_address: string (nullable = true)\n",
      " |-- refer_url: string (nullable = true)\n",
      " |-- tracking_code: string (nullable = true)\n",
      "\n"
     ]
    }
   ],
   "source": [
    "df.printSchema()"
   ]
  },
  {
   "cell_type": "code",
   "execution_count": 11,
   "id": "77de10be-951b-4d9d-9fe1-44b1f41bf193",
   "metadata": {
    "execution": {
     "iopub.execute_input": "2022-04-19T07:29:06.957177Z",
     "iopub.status.busy": "2022-04-19T07:29:06.956868Z",
     "iopub.status.idle": "2022-04-19T07:29:08.095728Z",
     "shell.execute_reply": "2022-04-19T07:29:08.095062Z",
     "shell.execute_reply.started": "2022-04-19T07:29:06.957154Z"
    }
   },
   "outputs": [
    {
     "name": "stdout",
     "output_type": "stream",
     "text": [
      "+--------------------+---------+--------------------+--------------------+--------------------+----------------+-----------+-------+-------+---------------+--------------------+--------+-------+---------------+--------------------+-------------+\n",
      "|                 seq|site_code|                 url|               guid1|               guid2|       insert_dt|device_type|os_type|os_name|   browser_name|             cust_id| rgst_dt|rgst_tm|     ip_address|           refer_url|tracking_code|\n",
      "+--------------------+---------+--------------------+--------------------+--------------------+----------------+-----------+-------+-------+---------------+--------------------+--------+-------+---------------+--------------------+-------------+\n",
      "|9999999999.000000000|       40|/app/appLink.do?l...|D7A1466CAECF9EE1E...|DC1DE52B47E0A288E...|2022-04-19T00:00|          T|      A|Android|  Chrome Mobile|                    |20220419| 000000| 125.181.94.206|https://s.ppomppu...|         null|\n",
      "|9999999999.000000000|       40|/app/appLink.do?l...|D07EA82306918924E...|DCEFFD36AE792F02E...|2022-04-19T00:00|          T|      A|Android|  Chrome Mobile|                    |20220419| 000000|203.170.108.179|                null|         null|\n",
      "|9999999999.000000000|       40|/app/appLink.do?l...|C1C8EE782CC20E7CE...|DCEFFCD797472D8BE...|2022-04-19T00:00|          T|      A|Android|  Chrome Mobile|                    |20220419| 000000|  120.29.69.202|https://m.cafe.na...|         null|\n",
      "|9999999999.000000000|       50|/emoney/myemoney....|D07EAE8A7F769432E...|DCEFFECF71D0346DE...|2022-04-19T00:00|          M|      I|    iOS|  Mobile Safari|0e6dc0827b15fef7f...|20220419| 000000|    223.38.8.59|                null|  main_emoney|\n",
      "|9999999999.000000000|       40|  /menu/emartMall.do|DCF00034E5613AABE...|DCF00034E5623AABE...|2022-04-19T00:00|          M|      I|    iOS|  Mobile Safari|                    |20220419| 000000| 175.214.105.86|       /main/main.do|         null|\n",
      "|9999999999.000000000|       50|/emoney/myemoneyD...|DCF002840273485DE...|DCC58CC47C62EA95E...|2022-04-19T00:00|          M|      I|    iOS|  Mobile Safari|c29a69eb9c9781ae8...|20220419| 000000|     49.1.55.92|                null|         null|\n",
      "|9999999999.000000000|       40|/app/appLink.do?l...|DC3163157E6FE35FE...|DCF00231D22048ADE...|2022-04-19T00:00|          M|      I|    iOS|  Mobile Safari|                    |20220419| 000000| 119.196.41.206|https://m.blog.na...|         null|\n",
      "|9999999999.000000000|       50|/myemart/jornalVi...|D32B9CC4A248CB13E...|DCEFD89C44F19B5BE...|2022-04-19T00:00|          T|      A|Android|Android browser|b6295c8250eeb0691...|20220419| 000000|   110.10.185.4|                null|         null|\n",
      "|9999999999.000000000|       50|/menu/menuMain_re...|C3D18BEBCBD47C63E...|DCF0021CEA074880E...|2022-04-19T00:00|          T|      A|Android|Android browser|a3024c9ede6ef042f...|20220419| 000000| 119.71.250.159|                null|         null|\n",
      "|9999999999.000000000|       50|/onlineLeaflet/li...|D3B469B8381005DFE...|DCF0006528243C35E...|2022-04-19T00:00|          T|      A|Android|Android browser|40416ce3abe5fe770...|20220419| 000000|  182.218.32.78|https://eapp.emar...|         null|\n",
      "|9999999999.000000000|       50|/common/dummy.do?...|D4ADEDF9FB9754E3E...|DCEFD19C9117800CE...|2022-04-19T00:00|          T|      A|Android|Android browser|d1b0a222b8be970a1...|20220419| 000000|203.229.243.173|https://eapp.emar...|         null|\n",
      "|9999999999.000000000|       50|/emoney/myemoney....|D577BC3A7CCE4E05E...|DCF0002DDF743BA7E...|2022-04-19T00:00|          T|      A|Android|Android browser|11b3512a775d023fe...|20220419| 000000| 211.222.150.64|                null|  main_emoney|\n",
      "|9999999999.000000000|       50|/login/processLog...|D54964F29FBB2B5EE...|DCF001E0A2773CF7E...|2022-04-19T00:00|          T|      A|Android|Android browser|                    |20220419| 000000| 182.224.42.216|https://eapp.emar...|         null|\n",
      "|9999999999.000000000|       50|     /coupon/list.do|DC1FF3E600C9391BE...|DCE7DF84D09BFD11E...|2022-04-19T00:00|          T|      A|Android|Android browser|3a78c949c45d5712b...|20220419| 000000| 121.130.91.133|                null|         null|\n",
      "|9999999999.000000000|       50|/onlineLeaflet/li...|D8AADBF418BEEFB6E...|DCEFEE6DEDE6F295E...|2022-04-19T00:00|          T|      A|Android|Android browser|7853cc157aeff2783...|20220419| 000000|116.121.107.221|                null| main_leaflet|\n",
      "|9999999999.000000000|       50|/login/login.do?r...|D6EBBC66719A9ED1E...|DCEFF3D765E20A3DE...|2022-04-19T00:00|          T|      A|Android|Android browser|fbc4046c112aa9a8d...|20220419| 000000|   223.39.205.3|                null|         null|\n",
      "|9999999999.000000000|       50|/emartClub/clubMe...|D34F33D288CC1C62E...|DCC35BFB3F3654A2E...|2022-04-19T00:00|          T|      A|Android|Android browser|721bd6f14e925a78f...|20220419| 000000|   59.13.100.12|https://eapp.emar...|         null|\n",
      "|9999999999.000000000|       50|/login/processLog...|D54964F29FBB2B5EE...|DCF001E0A2773CF7E...|2022-04-19T00:00|          T|      A|Android|Android browser|cecad4c3ee7e3f21d...|20220419| 000000| 182.224.42.216|https://eapp.emar...|         null|\n",
      "|9999999999.000000000|       50|/couponauto/updat...|D4459AD18C97D91DE...|DCE9232F8A53827FE...|2022-04-19T00:00|          T|      A|Android|Android browser|687792092e3b2ed67...|20220419| 000000|175.125.172.145|https://eapp.emar...|         null|\n",
      "|9999999999.000000000|       50|/coupon/listDetai...|DC1FF3E600C9391BE...|DCE7DF84D09BFD11E...|2022-04-19T00:00|          T|      A|Android|Android browser|3a78c949c45d5712b...|20220419| 000000| 121.130.91.133|https://eapp.emar...|         null|\n",
      "+--------------------+---------+--------------------+--------------------+--------------------+----------------+-----------+-------+-------+---------------+--------------------+--------+-------+---------------+--------------------+-------------+\n",
      "only showing top 20 rows\n",
      "\n"
     ]
    }
   ],
   "source": [
    "df.show()"
   ]
  },
  {
   "cell_type": "code",
   "execution_count": null,
   "id": "b71740e6-a6f5-4f13-b78b-4f908a4254b2",
   "metadata": {},
   "outputs": [],
   "source": []
  }
 ],
 "metadata": {
  "kernelspec": {
   "display_name": "Python 3 (ipykernel)",
   "language": "python",
   "name": "python3"
  },
  "language_info": {
   "codemirror_mode": {
    "name": "ipython",
    "version": 3
   },
   "file_extension": ".py",
   "mimetype": "text/x-python",
   "name": "python",
   "nbconvert_exporter": "python",
   "pygments_lexer": "ipython3",
   "version": "3.8.13"
  }
 },
 "nbformat": 4,
 "nbformat_minor": 5
}
