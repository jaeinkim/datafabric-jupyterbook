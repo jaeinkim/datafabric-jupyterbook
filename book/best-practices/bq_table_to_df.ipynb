{
 "cells": [
  {
   "cell_type": "code",
   "execution_count": null,
   "id": "bc2c2e88-b424-4fa8-b365-f8c32a37ea38",
   "metadata": {
    "tags": []
   },
   "outputs": [],
   "source": [
    "from pydatafabric.gcp import bq_table_to_df\n",
    "\n",
    "df = bq_table_to_df(\"loc\", \"ob_roaming_country\", col_list=\"*\", partition=\"2021-11-01\")"
   ]
  },
  {
   "cell_type": "code",
   "execution_count": null,
   "id": "d75ff965-9cc2-42aa-812c-5ec2e6161f30",
   "metadata": {},
   "outputs": [],
   "source": [
    "df.head(10)"
   ]
  }
 ],
 "metadata": {
  "kernelspec": {
   "display_name": "Python 3",
   "language": "python",
   "name": "python3"
  },
  "language_info": {
   "codemirror_mode": {
    "name": "ipython",
    "version": 3
   },
   "file_extension": ".py",
   "mimetype": "text/x-python",
   "name": "python",
   "nbconvert_exporter": "python",
   "pygments_lexer": "ipython3",
   "version": "3.6.13"
  }
 },
 "nbformat": 4,
 "nbformat_minor": 5
}