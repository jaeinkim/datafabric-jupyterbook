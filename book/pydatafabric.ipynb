{
 "cells": [
  {
   "cell_type": "markdown",
   "metadata": {},
   "source": [
    "# BigQuery Sample Codes  \n",
    "DataFabric 분석환경에서 제공하는 JupyerHub에서 pydatafabric 파이썬 패키지를 사용하면 BigQuery와 연동하여 분석 및 모델링 작업을 수행할 수 있습니다.\n",
    "pydatafabric 패키지는 분석환경에 기본적으로 설치되어 있으며 pip를 사용하여 버전 업그레이드를 할 수 있습니다.\n",
    "~~~bash\n",
    "$ pip install --upgrade pydatafabric\n",
    "~~~"
   ]
  },
  {
   "cell_type": "markdown",
   "metadata": {},
   "source": [
    "## BigQuery 실행  \n",
    "다음과 같이 2가지 방법으로 쿼리를 실행하고 결과를 확인할 수 있습니다.  \n",
    "- IPython Magic을 사용하여 Jupyter Notebook Cell에서 SQL 실행\n",
    "- BigQuery Client 사용하여 SQL 실행"
   ]
  },
  {
   "cell_type": "markdown",
   "metadata": {},
   "source": [
    "### IPython Magic으로 SQL 실행  \n",
    "Jupyter Notebook Cell에서 SQL을 실행하고 그 결과를 확인할 수 있습니다. 쿼리 결과는 변수에 Pandas Dataframe으로 저장할 수 있습니다. Ditonary로 정의된 쿼리 파라미터를 SQL에 주입할 수 있습니다."
   ]
  },
  {
   "cell_type": "markdown",
   "metadata": {},
   "source": [
    "먼저, IPython Magic을 로드합니다."
   ]
  },
  {
   "cell_type": "code",
   "execution_count": 1,
   "metadata": {
    "execution": {
     "iopub.execute_input": "2022-09-30T07:05:56.867872Z",
     "iopub.status.busy": "2022-09-30T07:05:56.867421Z",
     "iopub.status.idle": "2022-09-30T07:05:57.450756Z",
     "shell.execute_reply": "2022-09-30T07:05:57.450241Z",
     "shell.execute_reply.started": "2022-09-30T07:05:56.867795Z"
    },
    "tags": []
   },
   "outputs": [],
   "source": [
    "from pydatafabric.gcp import load_bigquery_ipython_magic\n",
    "\n",
    "load_bigquery_ipython_magic()"
   ]
  },
  {
   "cell_type": "markdown",
   "metadata": {},
   "source": [
    "다음과 같이 SQL을 실행합니다."
   ]
  },
  {
   "cell_type": "code",
   "execution_count": 2,
   "metadata": {
    "execution": {
     "iopub.execute_input": "2022-09-30T07:06:00.035114Z",
     "iopub.status.busy": "2022-09-30T07:06:00.034602Z",
     "iopub.status.idle": "2022-09-30T07:06:04.037956Z",
     "shell.execute_reply": "2022-09-30T07:06:04.037394Z",
     "shell.execute_reply.started": "2022-09-30T07:06:00.035088Z"
    },
    "tags": []
   },
   "outputs": [
    {
     "name": "stderr",
     "output_type": "stream",
     "text": [
      "Query complete after 0.00s: 100%|██████████| 2/2 [00:00<00:00, 1792.44query/s]                        \n",
      "Downloading: 100%|██████████| 1/1 [00:00<00:00,  1.05rows/s]"
     ]
    },
    {
     "name": "stdout",
     "output_type": "stream",
     "text": [
      "BigQuery execution took 3 seconds.\n"
     ]
    },
    {
     "name": "stderr",
     "output_type": "stream",
     "text": [
      "\n"
     ]
    },
    {
     "data": {
      "text/html": [
       "<div>\n",
       "<style scoped>\n",
       "    .dataframe tbody tr th:only-of-type {\n",
       "        vertical-align: middle;\n",
       "    }\n",
       "\n",
       "    .dataframe tbody tr th {\n",
       "        vertical-align: top;\n",
       "    }\n",
       "\n",
       "    .dataframe thead th {\n",
       "        text-align: right;\n",
       "    }\n",
       "</style>\n",
       "<table border=\"1\" class=\"dataframe\">\n",
       "  <thead>\n",
       "    <tr style=\"text-align: right;\">\n",
       "      <th></th>\n",
       "      <th>max_dt</th>\n",
       "    </tr>\n",
       "  </thead>\n",
       "  <tbody>\n",
       "    <tr>\n",
       "      <th>0</th>\n",
       "      <td>2022-08-30</td>\n",
       "    </tr>\n",
       "  </tbody>\n",
       "</table>\n",
       "</div>"
      ],
      "text/plain": [
       "       max_dt\n",
       "0  2022-08-30"
      ]
     },
     "execution_count": 2,
     "metadata": {},
     "output_type": "execute_result"
    }
   ],
   "source": [
    "%%bq\n",
    "    SELECT MAX(dt) as max_dt\n",
    "    FROM smart-ruler-304409.eapp_data_dev.test_eapp_data"
   ]
  },
  {
   "cell_type": "markdown",
   "metadata": {},
   "source": [
    "SQL 결과를 Pandas DataFrame으로 변수에 저장할 수 있습니다. 다음은 max_dt라는 변수에 SQL 결과를 저장하는 예제입니다."
   ]
  },
  {
   "cell_type": "code",
   "execution_count": 3,
   "metadata": {
    "execution": {
     "iopub.execute_input": "2022-09-30T07:06:13.704469Z",
     "iopub.status.busy": "2022-09-30T07:06:13.704088Z",
     "iopub.status.idle": "2022-09-30T07:06:13.738508Z",
     "shell.execute_reply": "2022-09-30T07:06:13.738019Z",
     "shell.execute_reply.started": "2022-09-30T07:06:13.704446Z"
    },
    "tags": []
   },
   "outputs": [],
   "source": [
    "from pydatafabric.gcp import load_bigquery_ipython_magic\n",
    "\n",
    "load_bigquery_ipython_magic()"
   ]
  },
  {
   "cell_type": "code",
   "execution_count": 4,
   "metadata": {
    "execution": {
     "iopub.execute_input": "2022-09-30T07:06:14.298569Z",
     "iopub.status.busy": "2022-09-30T07:06:14.298213Z",
     "iopub.status.idle": "2022-09-30T07:06:16.760096Z",
     "shell.execute_reply": "2022-09-30T07:06:16.759543Z",
     "shell.execute_reply.started": "2022-09-30T07:06:14.298547Z"
    },
    "tags": []
   },
   "outputs": [
    {
     "name": "stderr",
     "output_type": "stream",
     "text": [
      "Query complete after 0.00s: 100%|██████████| 2/2 [00:00<00:00, 2250.77query/s]                        \n",
      "Downloading: 100%|██████████| 1/1 [00:00<00:00,  1.15rows/s]"
     ]
    },
    {
     "name": "stdout",
     "output_type": "stream",
     "text": [
      "BigQuery execution took 2 seconds.\n"
     ]
    },
    {
     "name": "stderr",
     "output_type": "stream",
     "text": [
      "\n"
     ]
    }
   ],
   "source": [
    "%%bq max_dt\n",
    "\n",
    "SELECT MAX(dt) as value\n",
    "FROM smart-ruler-304409.eapp_data_dev.test_eapp_data"
   ]
  },
  {
   "cell_type": "code",
   "execution_count": 10,
   "metadata": {
    "execution": {
     "iopub.execute_input": "2022-09-30T07:15:18.465427Z",
     "iopub.status.busy": "2022-09-30T07:15:18.465045Z",
     "iopub.status.idle": "2022-09-30T07:15:18.471800Z",
     "shell.execute_reply": "2022-09-30T07:15:18.471116Z",
     "shell.execute_reply.started": "2022-09-30T07:15:18.465405Z"
    },
    "tags": []
   },
   "outputs": [
    {
     "data": {
      "text/html": [
       "<div>\n",
       "<style scoped>\n",
       "    .dataframe tbody tr th:only-of-type {\n",
       "        vertical-align: middle;\n",
       "    }\n",
       "\n",
       "    .dataframe tbody tr th {\n",
       "        vertical-align: top;\n",
       "    }\n",
       "\n",
       "    .dataframe thead th {\n",
       "        text-align: right;\n",
       "    }\n",
       "</style>\n",
       "<table border=\"1\" class=\"dataframe\">\n",
       "  <thead>\n",
       "    <tr style=\"text-align: right;\">\n",
       "      <th></th>\n",
       "      <th>value</th>\n",
       "    </tr>\n",
       "  </thead>\n",
       "  <tbody>\n",
       "    <tr>\n",
       "      <th>0</th>\n",
       "      <td>2022-08-30</td>\n",
       "    </tr>\n",
       "  </tbody>\n",
       "</table>\n",
       "</div>"
      ],
      "text/plain": [
       "        value\n",
       "0  2022-08-30"
      ]
     },
     "execution_count": 10,
     "metadata": {},
     "output_type": "execute_result"
    }
   ],
   "source": [
    "max_dt"
   ]
  },
  {
   "cell_type": "markdown",
   "metadata": {},
   "source": [
    "쿼리 파라미터를 SQL에 전달할 수 있습니다. 전달할 값은 Dictionary 타입으로 정의합니다."
   ]
  },
  {
   "cell_type": "code",
   "execution_count": 21,
   "metadata": {
    "execution": {
     "iopub.execute_input": "2022-09-30T07:19:13.045249Z",
     "iopub.status.busy": "2022-09-30T07:19:13.044856Z",
     "iopub.status.idle": "2022-09-30T07:19:13.049548Z",
     "shell.execute_reply": "2022-09-30T07:19:13.049065Z",
     "shell.execute_reply.started": "2022-09-30T07:19:13.045226Z"
    },
    "tags": []
   },
   "outputs": [
    {
     "data": {
      "text/plain": [
       "{'max_dt': '2022-08-30'}"
      ]
     },
     "execution_count": 21,
     "metadata": {},
     "output_type": "execute_result"
    }
   ],
   "source": [
    "import json\n",
    "\n",
    "query_params = {\n",
    "    \"max_dt\": max_dt[\"value\"][0].strftime(\"%Y-%m-%d\")\n",
    "}\n",
    "query_params"
   ]
  },
  {
   "cell_type": "markdown",
   "metadata": {},
   "source": [
    "다음과 같이 params 옵션에 전달할 쿼리 파라미터 변수를 정의합니다."
   ]
  },
  {
   "cell_type": "code",
   "execution_count": 23,
   "metadata": {
    "execution": {
     "iopub.execute_input": "2022-09-30T07:28:02.015508Z",
     "iopub.status.busy": "2022-09-30T07:28:02.015247Z",
     "iopub.status.idle": "2022-09-30T07:28:02.017876Z",
     "shell.execute_reply": "2022-09-30T07:28:02.017427Z",
     "shell.execute_reply.started": "2022-09-30T07:28:02.015489Z"
    },
    "tags": []
   },
   "outputs": [],
   "source": [
    "%%bq --params $query_params\n",
    "\n",
    "SELECT *\n",
    "FROM smart-ruler-304409.eapp_data_dev.test_eapp_data\n",
    "WHERE dt = '{max_dt}'"
   ]
  },
  {
   "cell_type": "markdown",
   "metadata": {},
   "source": [
    "### BigQuery Client로 SQL 실행  \n",
    "BigQuery Client는 Google에서 제공하는 Client Library에서 제공하는 객체입니다. SQL을 실행할 수 있을 뿐만 아니라 Google Client Library에서 제공하는 다양한 기능들을 활용할 수 있습니다. 더욱 자세한 내용은 <a href=\"https://googleapis.dev/python/bigquery/latest/generated/google.cloud.bigquery.client.Client.html#google.cloud.bigquery.client.Client\" target=\"_blank\">이곳</a>에서 확인하시기 바랍니다."
   ]
  },
  {
   "cell_type": "markdown",
   "metadata": {},
   "source": [
    "다음과 같이 BigQuery Client를 생성하여 SQL을 실행합니다. 쿼리 조회 결과가 있는 경우 Iterator 형태로 결과를 리턴해줍니다."
   ]
  },
  {
   "cell_type": "code",
   "execution_count": 24,
   "metadata": {
    "execution": {
     "iopub.execute_input": "2022-09-30T07:28:09.951686Z",
     "iopub.status.busy": "2022-09-30T07:28:09.951298Z",
     "iopub.status.idle": "2022-09-30T07:28:10.937514Z",
     "shell.execute_reply": "2022-09-30T07:28:10.936958Z",
     "shell.execute_reply.started": "2022-09-30T07:28:09.951662Z"
    },
    "tags": []
   },
   "outputs": [
    {
     "name": "stdout",
     "output_type": "stream",
     "text": [
      "Row(('2208301038576463', '63b5d5b38949e396baef709bc9ed34c7ea997d44a6fa36aff8c0e9709dc9687b', '2', '여', '66', '60', '1026', '이마트 가양점', 10, '고추가격은그런대로~~~~~', 14, '2500000195051', '하루채소 오이맛고추', datetime.date(2022, 8, 29), datetime.date(2022, 8, 30), '13', '채소', '10', '신선1담당', '135', '과채소', '9684', '고추류', '0105', '오이맛고추', '00', '서울', Decimal('126.861440467'), Decimal('37.557922427'), 10, 0, 0, '001', 'N', 'Y', '135::1::6,135::2::6,135::3::6,135::4::6,135::5::6', Decimal('6')), {'review_id': 0, 'cust_id': 1, 'gender_cd': 2, 'gender_nm': 3, 'age': 4, 'agrde_cd_10_unit': 5, 'store_cd': 6, 'store_nm': 7, 'score': 8, 'comments': 9, 'comments_length': 10, 'sku_cd': 11, 'sku_nm': 12, 'order_dt': 13, 'dt': 14, 'prdt_cat_cd': 15, 'prdt_cat_nm': 16, 'prdt_di_cd': 17, 'prdt_di_nm': 18, 'prdt_gcode_cd': 19, 'prdt_gcode_nm': 20, 'prdt_mcode_cd': 21, 'prdt_mcode_nm': 22, 'prdt_dcode_cd': 23, 'prdt_dcode_nm': 24, 'area_cd': 25, 'area_nm': 26, 'longitude': 27, 'latitude': 28, 'comments_point': 29, 'image_point': 30, 'thumb_point': 31, 'action_cd': 32, 'blind_flag': 33, 'active_flag': 34, 'tag_list': 35, 'avg_tag_score': 36})\n",
      "Row(('2208301140084237', '4e6616004b12542d89c011f2f65ffcebce6c9fefa085600c51a58dc6f696e939', '2', '여', '78', '70', '1026', '이마트 가양점', 10, '방풍나물 맛도있고 제일 좋아하게 됐어요~', 22, '2500000290275', '방풍나물', datetime.date(2022, 8, 29), datetime.date(2022, 8, 30), '13', '채소', '10', '신선1담당', '133', '엽채소', '9410', '시즌나물류', '0124', '구색나물', '00', '서울', Decimal('126.861440467'), Decimal('37.557922427'), 10, 0, 0, '001', 'N', 'Y', '133::1::10,133::2::10,133::3::10,133::4::10,133::5::10', Decimal('10')), {'review_id': 0, 'cust_id': 1, 'gender_cd': 2, 'gender_nm': 3, 'age': 4, 'agrde_cd_10_unit': 5, 'store_cd': 6, 'store_nm': 7, 'score': 8, 'comments': 9, 'comments_length': 10, 'sku_cd': 11, 'sku_nm': 12, 'order_dt': 13, 'dt': 14, 'prdt_cat_cd': 15, 'prdt_cat_nm': 16, 'prdt_di_cd': 17, 'prdt_di_nm': 18, 'prdt_gcode_cd': 19, 'prdt_gcode_nm': 20, 'prdt_mcode_cd': 21, 'prdt_mcode_nm': 22, 'prdt_dcode_cd': 23, 'prdt_dcode_nm': 24, 'area_cd': 25, 'area_nm': 26, 'longitude': 27, 'latitude': 28, 'comments_point': 29, 'image_point': 30, 'thumb_point': 31, 'action_cd': 32, 'blind_flag': 33, 'active_flag': 34, 'tag_list': 35, 'avg_tag_score': 36})\n",
      "Row(('2208301440099316', '903155391a04fc36cf3112d99d5d625a82b93d4161b65045a95480a58bfc1e5e', '2', '여', '46', '40', '1026', '이마트 가양점', 10, '저렴한가격에 여러개 구입했어요', 16, '8801094983079', '코카콜라 6+1캔 골라담기', datetime.date(2022, 8, 29), datetime.date(2022, 8, 30), '33', '가공B', '30', '가공담당', '360', '음료', '0317', '탄산음료', '0224', '콜라', '00', '서울', Decimal('126.861440467'), Decimal('37.557922427'), 10, 0, 0, '001', 'N', 'Y', '360::1::8,360::2::8,360::3::8,360::4::8,360::5::8', Decimal('8')), {'review_id': 0, 'cust_id': 1, 'gender_cd': 2, 'gender_nm': 3, 'age': 4, 'agrde_cd_10_unit': 5, 'store_cd': 6, 'store_nm': 7, 'score': 8, 'comments': 9, 'comments_length': 10, 'sku_cd': 11, 'sku_nm': 12, 'order_dt': 13, 'dt': 14, 'prdt_cat_cd': 15, 'prdt_cat_nm': 16, 'prdt_di_cd': 17, 'prdt_di_nm': 18, 'prdt_gcode_cd': 19, 'prdt_gcode_nm': 20, 'prdt_mcode_cd': 21, 'prdt_mcode_nm': 22, 'prdt_dcode_cd': 23, 'prdt_dcode_nm': 24, 'area_cd': 25, 'area_nm': 26, 'longitude': 27, 'latitude': 28, 'comments_point': 29, 'image_point': 30, 'thumb_point': 31, 'action_cd': 32, 'blind_flag': 33, 'active_flag': 34, 'tag_list': 35, 'avg_tag_score': 36})\n",
      "Row(('2208301142295150', '4e6616004b12542d89c011f2f65ffcebce6c9fefa085600c51a58dc6f696e939', '2', '여', '78', '70', '1026', '이마트 가양점', 10, '삼다수 항상 믿고 구입해요~', 15, '8808244201045', '삼다수 2L', datetime.date(2022, 8, 29), datetime.date(2022, 8, 30), '33', '가공B', '30', '가공담당', '360', '음료', '3530', '생수', '0226', '국산생수', '00', '서울', Decimal('126.861440467'), Decimal('37.557922427'), 10, 0, 0, '001', 'N', 'Y', '360::1::10,360::2::10,360::3::10,360::4::10,360::5::10', Decimal('10')), {'review_id': 0, 'cust_id': 1, 'gender_cd': 2, 'gender_nm': 3, 'age': 4, 'agrde_cd_10_unit': 5, 'store_cd': 6, 'store_nm': 7, 'score': 8, 'comments': 9, 'comments_length': 10, 'sku_cd': 11, 'sku_nm': 12, 'order_dt': 13, 'dt': 14, 'prdt_cat_cd': 15, 'prdt_cat_nm': 16, 'prdt_di_cd': 17, 'prdt_di_nm': 18, 'prdt_gcode_cd': 19, 'prdt_gcode_nm': 20, 'prdt_mcode_cd': 21, 'prdt_mcode_nm': 22, 'prdt_dcode_cd': 23, 'prdt_dcode_nm': 24, 'area_cd': 25, 'area_nm': 26, 'longitude': 27, 'latitude': 28, 'comments_point': 29, 'image_point': 30, 'thumb_point': 31, 'action_cd': 32, 'blind_flag': 33, 'active_flag': 34, 'tag_list': 35, 'avg_tag_score': 36})\n",
      "Row(('2208301224206297', 'cfb4566d384fb45c94416c55dd53e294348a347d1ed7b9ff84f83d5e625aec4d', '2', '여', '44', '40', '1026', '이마트 가양점', 10, '추가할인받아서잘샀네요', 11, '8802039290016', '피코크 함흥식 물비빔냉면 925g', datetime.date(2022, 8, 29), datetime.date(2022, 8, 30), '13', '채소', '10', '신선1담당', '130', '간편채소', '0438', 'PEACOCK밀키트', '0264', 'P)한식(일품면)밀키트', '00', '서울', Decimal('126.861440467'), Decimal('37.557922427'), 10, 0, 0, '001', 'N', 'Y', '130::1::10,130::2::10,130::3::10,130::4::10,130::5::10', Decimal('10')), {'review_id': 0, 'cust_id': 1, 'gender_cd': 2, 'gender_nm': 3, 'age': 4, 'agrde_cd_10_unit': 5, 'store_cd': 6, 'store_nm': 7, 'score': 8, 'comments': 9, 'comments_length': 10, 'sku_cd': 11, 'sku_nm': 12, 'order_dt': 13, 'dt': 14, 'prdt_cat_cd': 15, 'prdt_cat_nm': 16, 'prdt_di_cd': 17, 'prdt_di_nm': 18, 'prdt_gcode_cd': 19, 'prdt_gcode_nm': 20, 'prdt_mcode_cd': 21, 'prdt_mcode_nm': 22, 'prdt_dcode_cd': 23, 'prdt_dcode_nm': 24, 'area_cd': 25, 'area_nm': 26, 'longitude': 27, 'latitude': 28, 'comments_point': 29, 'image_point': 30, 'thumb_point': 31, 'action_cd': 32, 'blind_flag': 33, 'active_flag': 34, 'tag_list': 35, 'avg_tag_score': 36})\n"
     ]
    }
   ],
   "source": [
    "from pydatafabric.gcp import get_bigquery_client\n",
    "\n",
    "bq_client = get_bigquery_client()\n",
    "\n",
    "sql = \"\"\"\n",
    "    SELECT *\n",
    "    FROM smart-ruler-304409.eapp_data_dev.test_eapp_data\n",
    "    WHERE dt = '{max_dt}'\n",
    "    LIMIT 5\n",
    "\"\"\".format(**query_params)\n",
    "\n",
    "iterator = bq_client.query(sql).result()\n",
    "for r in iterator:\n",
    "    print(r)"
   ]
  },
  {
   "cell_type": "markdown",
   "metadata": {},
   "source": [
    "### INSERT OVERWRITE\n",
    "BigQuery는 Hive와 달리 INSERT OVERWRITE 기능을 제공하지 않습니다. 그러나 emart 패키지의 bq_insert_overwrite 메서드를 사용하면 INSERT OVERWRITE가 가능합니다.  \n",
    "만약 테이블이 존재하지 않는다면 새로 테이블을 생성합니다.  \n",
    "저장하려는 대상 테이블이 파티셔닝되어 있다면 partition 파라미터를 사용하여 파티션 컬럼 이름을 설정합니다. sql 결과의 파티션 컬럼 값에 따라 해당 파티션으로 저장됩니다.  \n",
    "대상 테이블이 cluster 설정이 되어 있거나 새로 생성하는 테이블에 clustrer를 설정하고 싶은 경우 clustering_fields 파라미터에 컬럼 이름을 리스트로 넣어줍니다."
   ]
  },
  {
   "cell_type": "code",
   "execution_count": 25,
   "metadata": {
    "execution": {
     "iopub.execute_input": "2022-09-30T07:28:46.451446Z",
     "iopub.status.busy": "2022-09-30T07:28:46.451066Z",
     "iopub.status.idle": "2022-09-30T07:28:51.075106Z",
     "shell.execute_reply": "2022-09-30T07:28:51.074441Z",
     "shell.execute_reply.started": "2022-09-30T07:28:46.451425Z"
    }
   },
   "outputs": [
    {
     "name": "stdout",
     "output_type": "stream",
     "text": [
      "destination: emart-datafabric.temp_1d.ccb2ad72_fe96_470a_a363_c66941b47f38\n",
      "total_rows: 25608\n",
      "slot_secs: 4.093\n",
      "\n"
     ]
    }
   ],
   "source": [
    "from pydatafabric.gcp import bq_insert_overwrite, get_temp_table\n",
    "\n",
    "sql = \"\"\"\n",
    "    SELECT *\n",
    "    FROM smart-ruler-304409.eapp_data_dev.test_eapp_data\n",
    "    WHERE dt = '{max_dt}'\n",
    "\"\"\".format(**query_params)\n",
    "\n",
    "result_table_name= get_temp_table()\n",
    "\n",
    "bq_insert_overwrite(sql=sql, destination=result_table_name, partition=\"dt\", clustering_fields=[\"cust_id\"])"
   ]
  },
  {
   "cell_type": "markdown",
   "metadata": {},
   "source": [
    "### Multi Partitions\n",
    "BigQuery는 단일 컬럼 파티션만 제공합니다. BigQuery에서 멀티 파티션 컬럼을 사용할 수는 없지만 BigQuery에서 제공하는 와일드카드 테이블을 응용하여 멀티 파티션 테이블처럼 정의할 수 있습니다.  \n",
    "<b>\"__\"</b>를 구분자로 한 테이블들을 생성하여 멀티 파티션처럼 사용하는 예제입니다."
   ]
  },
  {
   "cell_type": "code",
   "execution_count": 26,
   "metadata": {
    "execution": {
     "iopub.execute_input": "2022-09-30T07:34:20.002868Z",
     "iopub.status.busy": "2022-09-30T07:34:20.002503Z",
     "iopub.status.idle": "2022-09-30T07:34:20.007638Z",
     "shell.execute_reply": "2022-09-30T07:34:20.006863Z",
     "shell.execute_reply.started": "2022-09-30T07:34:20.002845Z"
    }
   },
   "outputs": [
    {
     "ename": "SyntaxError",
     "evalue": "--params is not a correctly formatted JSON string or a JSON serializable dictionary (<string>)",
     "output_type": "error",
     "traceback": [
      "Traceback \u001b[0;36m(most recent call last)\u001b[0m:\n",
      "\u001b[0;36m  File \u001b[0;32m/opt/conda/lib/python3.8/site-packages/pydatafabric/gcp.py:222\u001b[0;36m in \u001b[0;35m_bq_cell_magic\u001b[0;36m\n\u001b[0;31m    params = _helpers.to_query_parameters(\u001b[0;36m\n",
      "\u001b[0;31mTypeError\u001b[0m\u001b[0;31m:\u001b[0m to_query_parameters() missing 1 required positional argument: 'parameter_types'\n",
      "\nDuring handling of the above exception, another exception occurred:\n",
      "Traceback \u001b[0;36m(most recent call last)\u001b[0m:\n",
      "\u001b[0m  File \u001b[1;32m/opt/conda/lib/python3.8/site-packages/IPython/core/interactiveshell.py:3378\u001b[0m in \u001b[1;35mrun_code\u001b[0m\n    exec(code_obj, self.user_global_ns, self.user_ns)\u001b[0m\n",
      "\u001b[0m  Cell \u001b[1;32mIn [26], line 1\u001b[0m\n    get_ipython().run_cell_magic('bq', '--params $query_params', \"\\nCREATE OR REPLACE TABLE temp_1d.wildcard_table__subpart_1\\nAS\\nSELECT *\\nFROM {result_table_name}\\nWHERE dt = '{max_dt}'\\n;\\n\\nCREATE OR REPLACE TABLE temp_1d.wildcard_table__subpart_2\\nAS\\nSELECT *\\nFROM {result_table_name}\\nWHERE dt = '{max_dt}'\\n;\\n\\nSELECT *\\nFROM `temp_1d.wildcard_table__*`\\nWHERE _TABLE_SUFFIX = 'subpart_1'\\nLIMIT 5\\n;\\n\")\u001b[0m\n",
      "\u001b[0m  File \u001b[1;32m/opt/conda/lib/python3.8/site-packages/IPython/core/interactiveshell.py:2362\u001b[0m in \u001b[1;35mrun_cell_magic\u001b[0m\n    result = fn(*args, **kwargs)\u001b[0m\n",
      "\u001b[0;36m  File \u001b[0;32m/opt/conda/lib/python3.8/site-packages/pydatafabric/gcp.py:230\u001b[0;36m in \u001b[0;35m_bq_cell_magic\u001b[0;36m\n\u001b[0;31m    raise SyntaxError(\u001b[0;36m\n",
      "\u001b[0;36m  File \u001b[0;32m<string>\u001b[0;36m\u001b[0m\n\u001b[0;31mSyntaxError\u001b[0m\u001b[0;31m:\u001b[0m --params is not a correctly formatted JSON string or a JSON serializable dictionary\n"
     ]
    }
   ],
   "source": [
    "%%bq --params $query_params\n",
    "\n",
    "CREATE OR REPLACE TABLE temp_1d.wildcard_table__subpart_1\n",
    "AS\n",
    "SELECT *\n",
    "FROM {result_table_name}\n",
    "WHERE dt = '{max_dt}'\n",
    ";\n",
    "\n",
    "CREATE OR REPLACE TABLE temp_1d.wildcard_table__subpart_2\n",
    "AS\n",
    "SELECT *\n",
    "FROM {result_table_name}\n",
    "WHERE dt = '{max_dt}'\n",
    ";\n",
    "\n",
    "SELECT *\n",
    "FROM `temp_1d.wildcard_table__*`\n",
    "WHERE _TABLE_SUFFIX = 'subpart_1'\n",
    "LIMIT 5\n",
    ";"
   ]
  },
  {
   "cell_type": "markdown",
   "metadata": {},
   "source": [
    "이렇게 와일드카드로 생성한 테이블들에도 INSERT OVERWRITE를 사용할 수 있습니다. emart 패키지의 bq_insert_overwrite_with_suffixes 메서드를 사용하여 특정 suffix를 가지는 테이블의 특정 파티션에 INSERT OVERWRITE 할 수 있습니다. 마치 멀티 파티션 테이블에 데이터를 저장하는 것처럼 말입니다.  \n",
    "아래와 같이 suffixes 파라미터에 추가 파티션으로 사용할 컬럼 이름을 지정합니다. suffix가 여러 개인 경우(예: table_name__subpart1__subpart2)도 suffixes 파라미터에 해당 컬럼 이름들을 리스트로 넣어주면 INSERT OVERWRITE 할 수 있습니다."
   ]
  },
  {
   "cell_type": "code",
   "execution_count": null,
   "metadata": {},
   "outputs": [],
   "source": [
    "from pydatafabric.gcp import bq_insert_overwrite, get_temp_table\n",
    "\n",
    "sql = f\"\"\"\n",
    "    SELECT *, 'subpart_1' as subpart\n",
    "    FROM smart-ruler-304409.eapp_data_dev.test_eapp_data\n",
    "    WHERE dt = '{max_dt}'\n",
    "\"\"\".format(**query_params)\n",
    "\n",
    "result_table_name= get_temp_table()\n",
    "\n",
    "bq_insert_overwrite(sql=sql, destination=result_table_name, suffixes=[\"subpart\"], partition=\"dt\", clustering_fields=[\"product_grp_id\"])"
   ]
  },
  {
   "cell_type": "markdown",
   "metadata": {
    "execution": {
     "iopub.execute_input": "2020-07-24T10:37:32.896007Z",
     "iopub.status.busy": "2020-07-24T10:37:32.895729Z",
     "iopub.status.idle": "2020-07-24T10:37:32.899963Z",
     "shell.execute_reply": "2020-07-24T10:37:32.899185Z",
     "shell.execute_reply.started": "2020-07-24T10:37:32.895978Z"
    }
   },
   "source": [
    "## BigQuery to Pandas\n",
    "위에서 설명했듯이 BigQuery 쿼리 결과를 Pandas Dataframe으로 리턴받을 수 있습니다.\n",
    "위의 IPython Magic 뿐만 아니라 emart 패키지에서 제공하는 메서드를 사용할 수도 있습니다.   \n",
    "   \n",
    "(참고 : Jupyter Notebook Cell에서 IPyhon Magic을 사용하여 SQL을 실행하는 경우 그 Cell에는 다른 Python 코드를 추가할 수 없습니다. Cell에 다른 Python 코드를 자유롭게 추가하려면 emart 패키지의 기능을 활용하시기 바랍니다.)\n",
    "\n",
    "\n",
    "다음은 bq_to_pandas 메서드로 결과를 Pandas Dataframe에 저장하는 예입니다."
   ]
  },
  {
   "cell_type": "code",
   "execution_count": 28,
   "metadata": {
    "execution": {
     "iopub.execute_input": "2022-09-30T07:36:27.546040Z",
     "iopub.status.busy": "2022-09-30T07:36:27.545615Z",
     "iopub.status.idle": "2022-09-30T07:36:31.338866Z",
     "shell.execute_reply": "2022-09-30T07:36:31.338329Z",
     "shell.execute_reply.started": "2022-09-30T07:36:27.546012Z"
    },
    "tags": []
   },
   "outputs": [
    {
     "name": "stdout",
     "output_type": "stream",
     "text": [
      "destination: emart-datafabric._2dd36219768c7c869a5680edf9fd6e104ea57800.anon9d695840ddac56383bfa74b8e17a4cbde45d65fe3634746b1bab5873b729709d\n",
      "total_rows: 25608\n",
      "slot_secs: 1.256\n",
      "\n"
     ]
    },
    {
     "name": "stderr",
     "output_type": "stream",
     "text": [
      "Downloading: 100%|██████████| 25608/25608 [00:00<00:00, 28413.16rows/s]\n"
     ]
    },
    {
     "data": {
      "text/html": [
       "<div>\n",
       "<style scoped>\n",
       "    .dataframe tbody tr th:only-of-type {\n",
       "        vertical-align: middle;\n",
       "    }\n",
       "\n",
       "    .dataframe tbody tr th {\n",
       "        vertical-align: top;\n",
       "    }\n",
       "\n",
       "    .dataframe thead th {\n",
       "        text-align: right;\n",
       "    }\n",
       "</style>\n",
       "<table border=\"1\" class=\"dataframe\">\n",
       "  <thead>\n",
       "    <tr style=\"text-align: right;\">\n",
       "      <th></th>\n",
       "      <th>review_id</th>\n",
       "      <th>cust_id</th>\n",
       "      <th>gender_cd</th>\n",
       "      <th>gender_nm</th>\n",
       "      <th>age</th>\n",
       "      <th>agrde_cd_10_unit</th>\n",
       "      <th>store_cd</th>\n",
       "      <th>store_nm</th>\n",
       "      <th>score</th>\n",
       "      <th>comments</th>\n",
       "      <th>...</th>\n",
       "      <th>longitude</th>\n",
       "      <th>latitude</th>\n",
       "      <th>comments_point</th>\n",
       "      <th>image_point</th>\n",
       "      <th>thumb_point</th>\n",
       "      <th>action_cd</th>\n",
       "      <th>blind_flag</th>\n",
       "      <th>active_flag</th>\n",
       "      <th>tag_list</th>\n",
       "      <th>avg_tag_score</th>\n",
       "    </tr>\n",
       "  </thead>\n",
       "  <tbody>\n",
       "    <tr>\n",
       "      <th>0</th>\n",
       "      <td>2208300717592839</td>\n",
       "      <td>ffd6bf62621d2dcd1944db24adfa5a02b1fbf57add2226...</td>\n",
       "      <td>2</td>\n",
       "      <td>여</td>\n",
       "      <td>51</td>\n",
       "      <td>50</td>\n",
       "      <td>1120</td>\n",
       "      <td>이마트 미아점</td>\n",
       "      <td>10</td>\n",
       "      <td>자주먹고, 매일 마시는데, 가격이 조금만 낮아져도 좋을 듯합니다,</td>\n",
       "      <td>...</td>\n",
       "      <td>127.030022270</td>\n",
       "      <td>37.610847692</td>\n",
       "      <td>10</td>\n",
       "      <td>10</td>\n",
       "      <td>0</td>\n",
       "      <td>003</td>\n",
       "      <td>N</td>\n",
       "      <td>Y</td>\n",
       "      <td>332::1::10,332::2::10,332::3::8,332::4::10,332...</td>\n",
       "      <td>10.000000000</td>\n",
       "    </tr>\n",
       "    <tr>\n",
       "      <th>1</th>\n",
       "      <td>2208300828272912</td>\n",
       "      <td>7ea94cb7154eac653b5a1eda89907270b65cbc4c6c2b9b...</td>\n",
       "      <td>2</td>\n",
       "      <td>여</td>\n",
       "      <td>54</td>\n",
       "      <td>50</td>\n",
       "      <td>1000</td>\n",
       "      <td>이마트 창동점</td>\n",
       "      <td>10</td>\n",
       "      <td>ㄴㄱㅅㅇㅈ뒥ㅂㅅㅇㅈㅅ노</td>\n",
       "      <td>...</td>\n",
       "      <td>127.046690683</td>\n",
       "      <td>37.651608368</td>\n",
       "      <td>10</td>\n",
       "      <td>0</td>\n",
       "      <td>0</td>\n",
       "      <td>001</td>\n",
       "      <td>Y</td>\n",
       "      <td>Y</td>\n",
       "      <td>342::1::10,342::2::10,342::3::10,342::4::10,34...</td>\n",
       "      <td>10.000000000</td>\n",
       "    </tr>\n",
       "    <tr>\n",
       "      <th>2</th>\n",
       "      <td>2208300707556891</td>\n",
       "      <td>86d736498822620ee8ad5a6228627caebccc73fbcfd801...</td>\n",
       "      <td>2</td>\n",
       "      <td>여</td>\n",
       "      <td>48</td>\n",
       "      <td>40</td>\n",
       "      <td>1000</td>\n",
       "      <td>이마트 창동점</td>\n",
       "      <td>10</td>\n",
       "      <td>아이가좋아해요~~~</td>\n",
       "      <td>...</td>\n",
       "      <td>127.046690683</td>\n",
       "      <td>37.651608368</td>\n",
       "      <td>10</td>\n",
       "      <td>0</td>\n",
       "      <td>0</td>\n",
       "      <td>001</td>\n",
       "      <td>N</td>\n",
       "      <td>Y</td>\n",
       "      <td>340::1::10,340::2::10,340::3::10,340::4::10,34...</td>\n",
       "      <td>10.000000000</td>\n",
       "    </tr>\n",
       "    <tr>\n",
       "      <th>3</th>\n",
       "      <td>2208300006452516</td>\n",
       "      <td>239ec5061e62ff2d3411da43367d84f0f4a8e29b90f06c...</td>\n",
       "      <td>2</td>\n",
       "      <td>여</td>\n",
       "      <td>87</td>\n",
       "      <td>70</td>\n",
       "      <td>1000</td>\n",
       "      <td>이마트 창동점</td>\n",
       "      <td>10</td>\n",
       "      <td>오픈런까지 한 보람은 좀 ..</td>\n",
       "      <td>...</td>\n",
       "      <td>127.046690683</td>\n",
       "      <td>37.651608368</td>\n",
       "      <td>10</td>\n",
       "      <td>10</td>\n",
       "      <td>0</td>\n",
       "      <td>003</td>\n",
       "      <td>N</td>\n",
       "      <td>Y</td>\n",
       "      <td>154::1::10,154::2::10,154::3::10,154::4::8,154...</td>\n",
       "      <td>10.000000000</td>\n",
       "    </tr>\n",
       "    <tr>\n",
       "      <th>4</th>\n",
       "      <td>2208300008031494</td>\n",
       "      <td>b5255a4eb0e00995a1ab4c560b91913cb487cdd2cb64fc...</td>\n",
       "      <td>2</td>\n",
       "      <td>여</td>\n",
       "      <td>56</td>\n",
       "      <td>50</td>\n",
       "      <td>1000</td>\n",
       "      <td>이마트 창동점</td>\n",
       "      <td>10</td>\n",
       "      <td>가격 대비 만족스러웠음~</td>\n",
       "      <td>...</td>\n",
       "      <td>127.046690683</td>\n",
       "      <td>37.651608368</td>\n",
       "      <td>10</td>\n",
       "      <td>0</td>\n",
       "      <td>0</td>\n",
       "      <td>001</td>\n",
       "      <td>N</td>\n",
       "      <td>Y</td>\n",
       "      <td>154::1::10,154::2::10,154::3::10,154::4::10,15...</td>\n",
       "      <td>10.000000000</td>\n",
       "    </tr>\n",
       "    <tr>\n",
       "      <th>...</th>\n",
       "      <td>...</td>\n",
       "      <td>...</td>\n",
       "      <td>...</td>\n",
       "      <td>...</td>\n",
       "      <td>...</td>\n",
       "      <td>...</td>\n",
       "      <td>...</td>\n",
       "      <td>...</td>\n",
       "      <td>...</td>\n",
       "      <td>...</td>\n",
       "      <td>...</td>\n",
       "      <td>...</td>\n",
       "      <td>...</td>\n",
       "      <td>...</td>\n",
       "      <td>...</td>\n",
       "      <td>...</td>\n",
       "      <td>...</td>\n",
       "      <td>...</td>\n",
       "      <td>...</td>\n",
       "      <td>...</td>\n",
       "      <td>...</td>\n",
       "    </tr>\n",
       "    <tr>\n",
       "      <th>25603</th>\n",
       "      <td>2208301158538227</td>\n",
       "      <td>553497183b155892de10e30c28381f06406ce27f457341...</td>\n",
       "      <td>2</td>\n",
       "      <td>여</td>\n",
       "      <td>42</td>\n",
       "      <td>40</td>\n",
       "      <td>7407</td>\n",
       "      <td>토이킹덤 안성점</td>\n",
       "      <td>10</td>\n",
       "      <td></td>\n",
       "      <td>...</td>\n",
       "      <td>127.147249595</td>\n",
       "      <td>36.994633421</td>\n",
       "      <td>0</td>\n",
       "      <td>0</td>\n",
       "      <td>0</td>\n",
       "      <td>000</td>\n",
       "      <td>N</td>\n",
       "      <td>Y</td>\n",
       "      <td>542::1::10,542::2::10,542::3::10,542::4::10</td>\n",
       "      <td>10.000000000</td>\n",
       "    </tr>\n",
       "    <tr>\n",
       "      <th>25604</th>\n",
       "      <td>2208300440306896</td>\n",
       "      <td>ec8c3f6f08da9871739cd9273b886b001994de33b5167c...</td>\n",
       "      <td>1</td>\n",
       "      <td>남</td>\n",
       "      <td>48</td>\n",
       "      <td>40</td>\n",
       "      <td>7709</td>\n",
       "      <td>일렉트로마트 스타필드 하남점</td>\n",
       "      <td>10</td>\n",
       "      <td></td>\n",
       "      <td>...</td>\n",
       "      <td>127.223738447</td>\n",
       "      <td>37.545436142</td>\n",
       "      <td>0</td>\n",
       "      <td>0</td>\n",
       "      <td>0</td>\n",
       "      <td>000</td>\n",
       "      <td>N</td>\n",
       "      <td>Y</td>\n",
       "      <td>530::1::10,530::2::10,530::3::10,530::4::10</td>\n",
       "      <td>10.000000000</td>\n",
       "    </tr>\n",
       "    <tr>\n",
       "      <th>25605</th>\n",
       "      <td>2208301522157501</td>\n",
       "      <td>14611f676a02617050fd2484f8ade5c8b9292111ea5e5e...</td>\n",
       "      <td>1</td>\n",
       "      <td>남</td>\n",
       "      <td>51</td>\n",
       "      <td>50</td>\n",
       "      <td>7709</td>\n",
       "      <td>일렉트로마트 스타필드 하남점</td>\n",
       "      <td>10</td>\n",
       "      <td></td>\n",
       "      <td>...</td>\n",
       "      <td>127.223738447</td>\n",
       "      <td>37.545436142</td>\n",
       "      <td>0</td>\n",
       "      <td>0</td>\n",
       "      <td>0</td>\n",
       "      <td>000</td>\n",
       "      <td>N</td>\n",
       "      <td>Y</td>\n",
       "      <td>534::1::10,534::2::10,534::3::6,534::4::8</td>\n",
       "      <td>9.000000000</td>\n",
       "    </tr>\n",
       "    <tr>\n",
       "      <th>25606</th>\n",
       "      <td>2208300915461856</td>\n",
       "      <td>b4090107c89a0eb834d47e9a35fb80b74993db103bf1c0...</td>\n",
       "      <td>2</td>\n",
       "      <td>여</td>\n",
       "      <td>33</td>\n",
       "      <td>30</td>\n",
       "      <td>7714</td>\n",
       "      <td>일렉트로마트 스타필드 고양점</td>\n",
       "      <td>10</td>\n",
       "      <td>디자인 이쁘고 좋아요</td>\n",
       "      <td>...</td>\n",
       "      <td>126.894776182</td>\n",
       "      <td>37.646978959</td>\n",
       "      <td>10</td>\n",
       "      <td>0</td>\n",
       "      <td>0</td>\n",
       "      <td>001</td>\n",
       "      <td>N</td>\n",
       "      <td>Y</td>\n",
       "      <td>530::1::10,530::2::10,530::3::10,530::4::10</td>\n",
       "      <td>10.000000000</td>\n",
       "    </tr>\n",
       "    <tr>\n",
       "      <th>25607</th>\n",
       "      <td>2208301434067652</td>\n",
       "      <td>49d6e7c2a09392e5e186c1bccd4c28e1835c153354e793...</td>\n",
       "      <td>2</td>\n",
       "      <td>여</td>\n",
       "      <td>36</td>\n",
       "      <td>30</td>\n",
       "      <td>7722</td>\n",
       "      <td>일렉트로마트 스타필드 안성점</td>\n",
       "      <td>10</td>\n",
       "      <td>가격대비 튼튼하고 넘 좋은 제품!</td>\n",
       "      <td>...</td>\n",
       "      <td>127.147249595</td>\n",
       "      <td>36.994633421</td>\n",
       "      <td>10</td>\n",
       "      <td>0</td>\n",
       "      <td>0</td>\n",
       "      <td>001</td>\n",
       "      <td>N</td>\n",
       "      <td>Y</td>\n",
       "      <td>531::1::10,531::2::10,531::3::10,531::4::10</td>\n",
       "      <td>10.000000000</td>\n",
       "    </tr>\n",
       "  </tbody>\n",
       "</table>\n",
       "<p>25608 rows × 37 columns</p>\n",
       "</div>"
      ],
      "text/plain": [
       "              review_id                                            cust_id  \\\n",
       "0      2208300717592839  ffd6bf62621d2dcd1944db24adfa5a02b1fbf57add2226...   \n",
       "1      2208300828272912  7ea94cb7154eac653b5a1eda89907270b65cbc4c6c2b9b...   \n",
       "2      2208300707556891  86d736498822620ee8ad5a6228627caebccc73fbcfd801...   \n",
       "3      2208300006452516  239ec5061e62ff2d3411da43367d84f0f4a8e29b90f06c...   \n",
       "4      2208300008031494  b5255a4eb0e00995a1ab4c560b91913cb487cdd2cb64fc...   \n",
       "...                 ...                                                ...   \n",
       "25603  2208301158538227  553497183b155892de10e30c28381f06406ce27f457341...   \n",
       "25604  2208300440306896  ec8c3f6f08da9871739cd9273b886b001994de33b5167c...   \n",
       "25605  2208301522157501  14611f676a02617050fd2484f8ade5c8b9292111ea5e5e...   \n",
       "25606  2208300915461856  b4090107c89a0eb834d47e9a35fb80b74993db103bf1c0...   \n",
       "25607  2208301434067652  49d6e7c2a09392e5e186c1bccd4c28e1835c153354e793...   \n",
       "\n",
       "      gender_cd gender_nm age agrde_cd_10_unit store_cd         store_nm  \\\n",
       "0             2         여  51               50     1120          이마트 미아점   \n",
       "1             2         여  54               50     1000          이마트 창동점   \n",
       "2             2         여  48               40     1000          이마트 창동점   \n",
       "3             2         여  87               70     1000          이마트 창동점   \n",
       "4             2         여  56               50     1000          이마트 창동점   \n",
       "...         ...       ...  ..              ...      ...              ...   \n",
       "25603         2         여  42               40     7407         토이킹덤 안성점   \n",
       "25604         1         남  48               40     7709  일렉트로마트 스타필드 하남점   \n",
       "25605         1         남  51               50     7709  일렉트로마트 스타필드 하남점   \n",
       "25606         2         여  33               30     7714  일렉트로마트 스타필드 고양점   \n",
       "25607         2         여  36               30     7722  일렉트로마트 스타필드 안성점   \n",
       "\n",
       "       score                              comments  ...      longitude  \\\n",
       "0         10  자주먹고, 매일 마시는데, 가격이 조금만 낮아져도 좋을 듯합니다,  ...  127.030022270   \n",
       "1         10                          ㄴㄱㅅㅇㅈ뒥ㅂㅅㅇㅈㅅ노  ...  127.046690683   \n",
       "2         10                            아이가좋아해요~~~  ...  127.046690683   \n",
       "3         10                      오픈런까지 한 보람은 좀 ..  ...  127.046690683   \n",
       "4         10                         가격 대비 만족스러웠음~  ...  127.046690683   \n",
       "...      ...                                   ...  ...            ...   \n",
       "25603     10                                        ...  127.147249595   \n",
       "25604     10                                        ...  127.223738447   \n",
       "25605     10                                        ...  127.223738447   \n",
       "25606     10                           디자인 이쁘고 좋아요  ...  126.894776182   \n",
       "25607     10                    가격대비 튼튼하고 넘 좋은 제품!  ...  127.147249595   \n",
       "\n",
       "           latitude comments_point image_point thumb_point action_cd  \\\n",
       "0      37.610847692             10          10           0       003   \n",
       "1      37.651608368             10           0           0       001   \n",
       "2      37.651608368             10           0           0       001   \n",
       "3      37.651608368             10          10           0       003   \n",
       "4      37.651608368             10           0           0       001   \n",
       "...             ...            ...         ...         ...       ...   \n",
       "25603  36.994633421              0           0           0       000   \n",
       "25604  37.545436142              0           0           0       000   \n",
       "25605  37.545436142              0           0           0       000   \n",
       "25606  37.646978959             10           0           0       001   \n",
       "25607  36.994633421             10           0           0       001   \n",
       "\n",
       "      blind_flag active_flag  \\\n",
       "0              N           Y   \n",
       "1              Y           Y   \n",
       "2              N           Y   \n",
       "3              N           Y   \n",
       "4              N           Y   \n",
       "...          ...         ...   \n",
       "25603          N           Y   \n",
       "25604          N           Y   \n",
       "25605          N           Y   \n",
       "25606          N           Y   \n",
       "25607          N           Y   \n",
       "\n",
       "                                                tag_list avg_tag_score  \n",
       "0      332::1::10,332::2::10,332::3::8,332::4::10,332...  10.000000000  \n",
       "1      342::1::10,342::2::10,342::3::10,342::4::10,34...  10.000000000  \n",
       "2      340::1::10,340::2::10,340::3::10,340::4::10,34...  10.000000000  \n",
       "3      154::1::10,154::2::10,154::3::10,154::4::8,154...  10.000000000  \n",
       "4      154::1::10,154::2::10,154::3::10,154::4::10,15...  10.000000000  \n",
       "...                                                  ...           ...  \n",
       "25603        542::1::10,542::2::10,542::3::10,542::4::10  10.000000000  \n",
       "25604        530::1::10,530::2::10,530::3::10,530::4::10  10.000000000  \n",
       "25605          534::1::10,534::2::10,534::3::6,534::4::8   9.000000000  \n",
       "25606        530::1::10,530::2::10,530::3::10,530::4::10  10.000000000  \n",
       "25607        531::1::10,531::2::10,531::3::10,531::4::10  10.000000000  \n",
       "\n",
       "[25608 rows x 37 columns]"
      ]
     },
     "execution_count": 28,
     "metadata": {},
     "output_type": "execute_result"
    }
   ],
   "source": [
    "from pydatafabric.gcp import bq_to_pandas\n",
    "\n",
    "pd_df = bq_to_pandas(f\"\"\"\n",
    "    SELECT *\n",
    "    FROM {result_table_name}\n",
    "    WHERE dt = (SELECT MAX(dt) FROM {result_table_name})\n",
    "\"\"\")\n",
    "\n",
    "pd_df"
   ]
  },
  {
   "cell_type": "markdown",
   "metadata": {
    "execution": {
     "iopub.execute_input": "2020-07-24T10:37:38.855128Z",
     "iopub.status.busy": "2020-07-24T10:37:38.854849Z",
     "iopub.status.idle": "2020-07-24T10:37:38.858801Z",
     "shell.execute_reply": "2020-07-24T10:37:38.858133Z",
     "shell.execute_reply.started": "2020-07-24T10:37:38.855101Z"
    }
   },
   "source": [
    "## Pandas to BigQuery\n",
    "\n",
    "Pandas Dataframe을 특정 BigQuery 테이블에 저장할 수 있습니다.  \n",
    "다음과 같이 pandas_to_bq_table 메서드를 사용합니다."
   ]
  },
  {
   "cell_type": "code",
   "execution_count": 29,
   "metadata": {
    "execution": {
     "iopub.execute_input": "2022-09-30T07:37:29.902233Z",
     "iopub.status.busy": "2022-09-30T07:37:29.901575Z",
     "iopub.status.idle": "2022-09-30T07:38:00.348808Z",
     "shell.execute_reply": "2022-09-30T07:38:00.348213Z",
     "shell.execute_reply.started": "2022-09-30T07:37:29.902208Z"
    }
   },
   "outputs": [
    {
     "name": "stdout",
     "output_type": "stream",
     "text": [
      "저장할 테이블 : temp_1d.eapp_review_data_1664523449\n"
     ]
    },
    {
     "name": "stderr",
     "output_type": "stream",
     "text": [
      "Setting default log level to \"WARN\".\n",
      "To adjust logging level use sc.setLogLevel(newLevel). For SparkR, use setLogLevel(newLevel).\n",
      "22/09/30 16:37:32 INFO org.apache.spark.SparkEnv: Registering MapOutputTracker\n",
      "22/09/30 16:37:32 INFO org.apache.spark.SparkEnv: Registering BlockManagerMaster\n",
      "22/09/30 16:37:32 INFO org.apache.spark.SparkEnv: Registering BlockManagerMasterHeartbeat\n",
      "22/09/30 16:37:33 INFO org.apache.spark.SparkEnv: Registering OutputCommitCoordinator\n",
      "/usr/lib/spark/python/lib/pyspark.zip/pyspark/sql/pandas/conversion.py:289: UserWarning: createDataFrame attempted Arrow optimization because 'spark.sql.execution.arrow.pyspark.enabled' is set to true; however, failed by the reason below:\n",
      "  Cannot specify a mask or a size when passing an object that is converted with the __arrow_array__ protocol.\n",
      "Attempting non-optimization as 'spark.sql.execution.arrow.pyspark.fallback.enabled' is set to true.\n",
      "22/09/30 16:37:43 WARN org.apache.spark.sql.catalyst.util.package: Truncated the string representation of a plan since it was too large. This behavior can be adjusted by setting 'spark.sql.debug.maxToStringFields'.\n",
      "                                                                                \r"
     ]
    },
    {
     "data": {
      "text/plain": [
       "<google.cloud.bigquery.table.RowIterator at 0x7fa81f705430>"
      ]
     },
     "execution_count": 29,
     "metadata": {},
     "output_type": "execute_result"
    }
   ],
   "source": [
    "import time\n",
    "from pydatafabric.gcp import pandas_to_bq_table\n",
    "\n",
    "dest_table = f\"eapp_review_data_{str(int(time.time()))}\"\n",
    "print(f\"저장할 테이블 : temp_1d.{dest_table}\")\n",
    "\n",
    "pandas_to_bq_table(pd_df, \"temp_1d\", dest_table)\n",
    "\n",
    "get_bigquery_client().query(f\"\"\"\n",
    "    SELECT *\n",
    "    FROM temp_1d.{dest_table}\n",
    "\"\"\").result()"
   ]
  },
  {
   "cell_type": "markdown",
   "metadata": {},
   "source": [
    "데이터가 테이블에 저장되었는지 확인합니다."
   ]
  },
  {
   "cell_type": "code",
   "execution_count": 30,
   "metadata": {
    "execution": {
     "iopub.execute_input": "2022-09-30T07:38:17.009030Z",
     "iopub.status.busy": "2022-09-30T07:38:17.008637Z",
     "iopub.status.idle": "2022-09-30T07:38:17.012094Z",
     "shell.execute_reply": "2022-09-30T07:38:17.011569Z",
     "shell.execute_reply.started": "2022-09-30T07:38:17.009004Z"
    }
   },
   "outputs": [],
   "source": [
    "query_params =  {\"dest_table\": dest_table}"
   ]
  },
  {
   "cell_type": "code",
   "execution_count": 31,
   "metadata": {
    "execution": {
     "iopub.execute_input": "2022-09-30T07:38:20.522832Z",
     "iopub.status.busy": "2022-09-30T07:38:20.522436Z",
     "iopub.status.idle": "2022-09-30T07:38:20.527245Z",
     "shell.execute_reply": "2022-09-30T07:38:20.526610Z",
     "shell.execute_reply.started": "2022-09-30T07:38:20.522810Z"
    }
   },
   "outputs": [
    {
     "ename": "SyntaxError",
     "evalue": "--params is not a correctly formatted JSON string or a JSON serializable dictionary (<string>)",
     "output_type": "error",
     "traceback": [
      "Traceback \u001b[0;36m(most recent call last)\u001b[0m:\n",
      "\u001b[0;36m  File \u001b[0;32m/opt/conda/lib/python3.8/site-packages/pydatafabric/gcp.py:222\u001b[0;36m in \u001b[0;35m_bq_cell_magic\u001b[0;36m\n\u001b[0;31m    params = _helpers.to_query_parameters(\u001b[0;36m\n",
      "\u001b[0;31mTypeError\u001b[0m\u001b[0;31m:\u001b[0m to_query_parameters() missing 1 required positional argument: 'parameter_types'\n",
      "\nDuring handling of the above exception, another exception occurred:\n",
      "Traceback \u001b[0;36m(most recent call last)\u001b[0m:\n",
      "\u001b[0m  File \u001b[1;32m/opt/conda/lib/python3.8/site-packages/IPython/core/interactiveshell.py:3378\u001b[0m in \u001b[1;35mrun_code\u001b[0m\n    exec(code_obj, self.user_global_ns, self.user_ns)\u001b[0m\n",
      "\u001b[0m  Cell \u001b[1;32mIn [31], line 1\u001b[0m\n    get_ipython().run_cell_magic('bq', '--params $query_params', '\\nSELECT *\\nFROM temp_1d.{dest_table}\\n')\u001b[0m\n",
      "\u001b[0m  File \u001b[1;32m/opt/conda/lib/python3.8/site-packages/IPython/core/interactiveshell.py:2362\u001b[0m in \u001b[1;35mrun_cell_magic\u001b[0m\n    result = fn(*args, **kwargs)\u001b[0m\n",
      "\u001b[0;36m  File \u001b[0;32m/opt/conda/lib/python3.8/site-packages/pydatafabric/gcp.py:230\u001b[0;36m in \u001b[0;35m_bq_cell_magic\u001b[0;36m\n\u001b[0;31m    raise SyntaxError(\u001b[0;36m\n",
      "\u001b[0;36m  File \u001b[0;32m<string>\u001b[0;36m\u001b[0m\n\u001b[0;31mSyntaxError\u001b[0m\u001b[0;31m:\u001b[0m --params is not a correctly formatted JSON string or a JSON serializable dictionary\n"
     ]
    }
   ],
   "source": [
    "%%bq --params $query_params\n",
    "\n",
    "SELECT *\n",
    "FROM temp_1d.{dest_table}"
   ]
  },
  {
   "cell_type": "markdown",
   "metadata": {},
   "source": [
    "## BigQuery to Spark  \n",
    "\n",
    "BigQuery 데이터를 가져와서 Spark로 처리할 수 있습니다. BigQuery SQL 결과를 Spark Dataframe으로 변환한 후 이어서 데이터 처리가 가능합니다."
   ]
  },
  {
   "cell_type": "code",
   "execution_count": 35,
   "metadata": {
    "execution": {
     "iopub.execute_input": "2022-09-30T07:44:08.894057Z",
     "iopub.status.busy": "2022-09-30T07:44:08.893667Z",
     "iopub.status.idle": "2022-09-30T07:44:14.602853Z",
     "shell.execute_reply": "2022-09-30T07:44:14.602226Z",
     "shell.execute_reply.started": "2022-09-30T07:44:08.894033Z"
    },
    "tags": []
   },
   "outputs": [
    {
     "data": {
      "text/plain": [
       "[Row(sku_cd='2500000039232', sku_nm='근대', dt=datetime.date(2022, 8, 30)),\n",
       " Row(sku_cd='2500000039232', sku_nm='근대', dt=datetime.date(2022, 8, 30)),\n",
       " Row(sku_cd='2500000039232', sku_nm='근대', dt=datetime.date(2022, 8, 30)),\n",
       " Row(sku_cd='2500000039232', sku_nm='근대', dt=datetime.date(2022, 8, 30)),\n",
       " Row(sku_cd='2500000039232', sku_nm='근대', dt=datetime.date(2022, 8, 30))]"
      ]
     },
     "execution_count": 35,
     "metadata": {},
     "output_type": "execute_result"
    }
   ],
   "source": [
    "from pydatafabric.gcp import bq_to_df\n",
    "\n",
    "spark_df = bq_to_df(f\"\"\"\n",
    "    SELECT sku_cd\n",
    "          ,sku_nm\n",
    "          ,dt\n",
    "    FROM temp_1d.{dest_table}\n",
    "\"\"\")\n",
    "\n",
    "spark_df.head(5)"
   ]
  },
  {
   "cell_type": "markdown",
   "metadata": {
    "execution": {
     "iopub.execute_input": "2020-07-24T10:49:31.530489Z",
     "iopub.status.busy": "2020-07-24T10:49:31.530234Z",
     "iopub.status.idle": "2020-07-24T10:49:31.534439Z",
     "shell.execute_reply": "2020-07-24T10:49:31.533990Z",
     "shell.execute_reply.started": "2020-07-24T10:49:31.530464Z"
    }
   },
   "source": [
    "## Spark to BigQuery  \n",
    "\n",
    "Spark으로 처리한 결과를 다시 BigQuery에 적재가 가능합니다.  \n",
    "다음은 위에서 spark_df 변수에 저장한 Spark Dataframe을 다시 BigQuery에 적재하는 예제입니다."
   ]
  },
  {
   "cell_type": "markdown",
   "metadata": {},
   "source": [
    "1. 먼저 저장할 테이블을 BigQuery에 생성합니다. 여기서는 파티션된 테이블을 생성하고 특정 파티션에 Spark Dataframe을 저장할 것입니다."
   ]
  },
  {
   "cell_type": "code",
   "execution_count": 36,
   "metadata": {
    "execution": {
     "iopub.execute_input": "2022-09-30T07:44:20.012307Z",
     "iopub.status.busy": "2022-09-30T07:44:20.011888Z",
     "iopub.status.idle": "2022-09-30T07:44:20.643692Z",
     "shell.execute_reply": "2022-09-30T07:44:20.643163Z",
     "shell.execute_reply.started": "2022-09-30T07:44:20.012280Z"
    }
   },
   "outputs": [
    {
     "name": "stdout",
     "output_type": "stream",
     "text": [
      "생성된 테이블 : temp_1d.eapp_review_data_1664523860\n"
     ]
    }
   ],
   "source": [
    "from pydatafabric.gcp import df_to_bq_table\n",
    "\n",
    "dest_dataset = \"temp_1d\"\n",
    "partitioned_dest_table = f\"eapp_review_data_{str(int(time.time()))}\"\n",
    "\n",
    "get_bigquery_client().query(f\"\"\"\n",
    "    CREATE OR REPLACE TABLE {dest_dataset}.{partitioned_dest_table}\n",
    "    (\n",
    "        sku_cd STRING,\n",
    "        sku_nm STRING,\n",
    "        dt DATE\n",
    "    )\n",
    "    PARTITION BY dt\n",
    "\"\"\").result()\n",
    "\n",
    "print(f\"생성된 테이블 : {dest_dataset}.{partitioned_dest_table}\")"
   ]
  },
  {
   "cell_type": "markdown",
   "metadata": {},
   "source": [
    "2. Spark Dataframe을 BigQuery 테이블에 저장합니다. 여기서는 파티션 컬럼 타입이 Date이므로 타입 변환 작업을 해주었습니다. 이렇게 경우에 따라 타입 변환 작업이 필요한 경우가 있으므로 타입에 주의해주세요."
   ]
  },
  {
   "cell_type": "code",
   "execution_count": 37,
   "metadata": {
    "execution": {
     "iopub.execute_input": "2022-09-30T07:44:50.903378Z",
     "iopub.status.busy": "2022-09-30T07:44:50.903012Z",
     "iopub.status.idle": "2022-09-30T07:45:00.037027Z",
     "shell.execute_reply": "2022-09-30T07:45:00.036417Z",
     "shell.execute_reply.started": "2022-09-30T07:44:50.903349Z"
    }
   },
   "outputs": [
    {
     "name": "stderr",
     "output_type": "stream",
     "text": [
      "                                                                                \r"
     ]
    }
   ],
   "source": [
    "changed_df = spark_df.select(\"sku_cd\", \"sku_nm\", spark_df.dt.cast(\"date\"))\n",
    "partition_dt = changed_df.head(1)[0].dt.strftime(\"%Y%m%d\")\n",
    "df_to_bq_table(df=changed_df,\n",
    "               dataset=dest_dataset,\n",
    "               table_name=partitioned_dest_table,\n",
    "               partition=partition_dt,\n",
    "               mode=\"overwrite\")"
   ]
  },
  {
   "cell_type": "markdown",
   "metadata": {
    "execution": {
     "iopub.execute_input": "2020-07-24T11:22:22.034343Z",
     "iopub.status.busy": "2020-07-24T11:22:22.034091Z",
     "iopub.status.idle": "2020-07-24T11:22:24.605871Z",
     "shell.execute_reply": "2020-07-24T11:22:24.605324Z",
     "shell.execute_reply.started": "2020-07-24T11:22:22.034319Z"
    }
   },
   "source": [
    "3. BigQuery에 저장되었는지 확인합니다."
   ]
  },
  {
   "cell_type": "code",
   "execution_count": 38,
   "metadata": {
    "execution": {
     "iopub.execute_input": "2022-09-30T07:45:03.800618Z",
     "iopub.status.busy": "2022-09-30T07:45:03.800232Z",
     "iopub.status.idle": "2022-09-30T07:45:03.803634Z",
     "shell.execute_reply": "2022-09-30T07:45:03.803103Z",
     "shell.execute_reply.started": "2022-09-30T07:45:03.800594Z"
    }
   },
   "outputs": [],
   "source": [
    "query_params = {\"dataset\":dest_dataset, \"table_name\":partitioned_dest_table}"
   ]
  },
  {
   "cell_type": "code",
   "execution_count": 39,
   "metadata": {
    "execution": {
     "iopub.execute_input": "2022-09-30T07:45:05.925575Z",
     "iopub.status.busy": "2022-09-30T07:45:05.925214Z",
     "iopub.status.idle": "2022-09-30T07:45:05.930034Z",
     "shell.execute_reply": "2022-09-30T07:45:05.929392Z",
     "shell.execute_reply.started": "2022-09-30T07:45:05.925554Z"
    }
   },
   "outputs": [
    {
     "ename": "SyntaxError",
     "evalue": "--params is not a correctly formatted JSON string or a JSON serializable dictionary (<string>)",
     "output_type": "error",
     "traceback": [
      "Traceback \u001b[0;36m(most recent call last)\u001b[0m:\n",
      "\u001b[0;36m  File \u001b[0;32m/opt/conda/lib/python3.8/site-packages/pydatafabric/gcp.py:222\u001b[0;36m in \u001b[0;35m_bq_cell_magic\u001b[0;36m\n\u001b[0;31m    params = _helpers.to_query_parameters(\u001b[0;36m\n",
      "\u001b[0;31mTypeError\u001b[0m\u001b[0;31m:\u001b[0m to_query_parameters() missing 1 required positional argument: 'parameter_types'\n",
      "\nDuring handling of the above exception, another exception occurred:\n",
      "Traceback \u001b[0;36m(most recent call last)\u001b[0m:\n",
      "\u001b[0m  File \u001b[1;32m/opt/conda/lib/python3.8/site-packages/IPython/core/interactiveshell.py:3378\u001b[0m in \u001b[1;35mrun_code\u001b[0m\n    exec(code_obj, self.user_global_ns, self.user_ns)\u001b[0m\n",
      "\u001b[0m  Cell \u001b[1;32mIn [39], line 1\u001b[0m\n    get_ipython().run_cell_magic('bq', '--params $query_params', '    SELECT *\\n    FROM {dataset}.{table_name}\\n')\u001b[0m\n",
      "\u001b[0m  File \u001b[1;32m/opt/conda/lib/python3.8/site-packages/IPython/core/interactiveshell.py:2362\u001b[0m in \u001b[1;35mrun_cell_magic\u001b[0m\n    result = fn(*args, **kwargs)\u001b[0m\n",
      "\u001b[0;36m  File \u001b[0;32m/opt/conda/lib/python3.8/site-packages/pydatafabric/gcp.py:230\u001b[0;36m in \u001b[0;35m_bq_cell_magic\u001b[0;36m\n\u001b[0;31m    raise SyntaxError(\u001b[0;36m\n",
      "\u001b[0;36m  File \u001b[0;32m<string>\u001b[0;36m\u001b[0m\n\u001b[0;31mSyntaxError\u001b[0m\u001b[0;31m:\u001b[0m --params is not a correctly formatted JSON string or a JSON serializable dictionary\n"
     ]
    }
   ],
   "source": [
    "%%bq --params $query_params\n",
    "    SELECT *\n",
    "    FROM {dataset}.{table_name}"
   ]
  },
  {
   "cell_type": "code",
   "execution_count": null,
   "metadata": {},
   "outputs": [],
   "source": []
  }
 ],
 "metadata": {
  "kernelspec": {
   "display_name": "Python 3 (ipykernel)",
   "language": "python",
   "name": "python3"
  },
  "language_info": {
   "codemirror_mode": {
    "name": "ipython",
    "version": 3
   },
   "file_extension": ".py",
   "mimetype": "text/x-python",
   "name": "python",
   "nbconvert_exporter": "python",
   "pygments_lexer": "ipython3",
   "version": "3.8.13"
  }
 },
 "nbformat": 4,
 "nbformat_minor": 4
}
