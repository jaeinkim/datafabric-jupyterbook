{
 "cells": [
  {
   "cell_type": "markdown",
   "metadata": {},
   "source": [
    "# mlops_sdk\n",
    "\n",
    "mlops-sdk 사용\n",
    "\n",
    "```{note}\n",
    "get_secrets 와 get_mls_config 는 내부사용 목적으로 만들어진 method 이므로 가능하면 아래 method 사용 권장\n",
    "```"
   ]
  },
  {
   "cell_type": "code",
   "execution_count": 3,
   "metadata": {
    "execution": {
     "iopub.execute_input": "2022-09-28T00:25:34.757370Z",
     "iopub.status.busy": "2022-09-28T00:25:34.756934Z",
     "iopub.status.idle": "2022-09-28T00:25:34.769164Z",
     "shell.execute_reply": "2022-09-28T00:25:34.768497Z",
     "shell.execute_reply.started": "2022-09-28T00:25:34.757344Z"
    },
    "tags": []
   },
   "outputs": [
    {
     "ename": "ImportError",
     "evalue": "cannot import name 'get_mls_meta_table_client' from 'mlops_sdk' (/opt/conda/lib/python3.8/site-packages/mlops_sdk/__init__.py)",
     "output_type": "error",
     "traceback": [
      "\u001b[0;31m---------------------------------------------------------------------------\u001b[0m",
      "\u001b[0;31mImportError\u001b[0m                               Traceback (most recent call last)",
      "Cell \u001b[0;32mIn [3], line 1\u001b[0m\n\u001b[0;32m----> 1\u001b[0m \u001b[38;5;28;01mfrom\u001b[39;00m \u001b[38;5;21;01mmlops_sdk\u001b[39;00m \u001b[38;5;28;01mimport\u001b[39;00m get_mls_meta_table_client\n\u001b[1;32m      2\u001b[0m \u001b[38;5;28;01mfrom\u001b[39;00m \u001b[38;5;21;01mmlops_sdk\u001b[39;00m \u001b[38;5;28;01mimport\u001b[39;00m get_mls_dimension_client\n\u001b[1;32m      3\u001b[0m \u001b[38;5;28;01mfrom\u001b[39;00m \u001b[38;5;21;01mmlops_sdk\u001b[39;00m \u001b[38;5;28;01mimport\u001b[39;00m get_mls_experiment_client\n",
      "\u001b[0;31mImportError\u001b[0m: cannot import name 'get_mls_meta_table_client' from 'mlops_sdk' (/opt/conda/lib/python3.8/site-packages/mlops_sdk/__init__.py)"
     ]
    }
   ],
   "source": [
    "from mlops_sdk import get_mls_meta_table_client\n",
    "from mlops_sdk import get_mls_dimension_client\n",
    "from mlops_sdk import get_mls_experiment_client\n",
    "from mlops_sdk import get_mls_ml_model_client\n",
    "from mlops_sdk import get_channel_client\n",
    "from mlops_sdk import get_mls_model_registry\n",
    "from mlops_sdk import get_mls_profile_api_client\n",
    "from mlops_sdk import get_mls_recommendation_api_client"
   ]
  },
  {
   "cell_type": "code",
   "execution_count": null,
   "metadata": {},
   "outputs": [],
   "source": [
    "cli = get_mls_meta_table_client(env=\"stg\", user=\"reco\")\n",
    "type(cli)"
   ]
  },
  {
   "cell_type": "code",
   "execution_count": null,
   "metadata": {},
   "outputs": [],
   "source": [
    "cli = get_mls_dimension_client(env=\"stg\", user=\"reco\")\n",
    "type(cli)"
   ]
  },
  {
   "cell_type": "code",
   "execution_count": null,
   "metadata": {},
   "outputs": [],
   "source": [
    "cli = get_mls_experiment_client(env=\"stg\", user=\"reco\")\n",
    "type(cli)"
   ]
  },
  {
   "cell_type": "code",
   "execution_count": null,
   "metadata": {},
   "outputs": [],
   "source": [
    "cli = get_mls_ml_model_client(env=\"stg\", user=\"reco\")\n",
    "type(cli)"
   ]
  },
  {
   "cell_type": "code",
   "execution_count": null,
   "metadata": {},
   "outputs": [],
   "source": [
    "cli = get_mls_model_registry(env=\"stg\", user=\"reco\")\n",
    "type(cli)"
   ]
  },
  {
   "cell_type": "code",
   "execution_count": null,
   "metadata": {},
   "outputs": [],
   "source": [
    "cli = get_mls_profile_api_client(env=\"stg\", user=\"reco\")\n",
    "type(cli)"
   ]
  },
  {
   "cell_type": "code",
   "execution_count": null,
   "metadata": {},
   "outputs": [],
   "source": [
    "cli = get_channel_client(env=\"stg\", user=\"reco\")\n",
    "type(cli)"
   ]
  },
  {
   "cell_type": "code",
   "execution_count": null,
   "metadata": {},
   "outputs": [],
   "source": [
    "cli = get_mls_recommendation_api_client(env=\"stg\", user=\"reco\")\n",
    "type(cli)"
   ]
  },
  {
   "cell_type": "code",
   "execution_count": null,
   "metadata": {},
   "outputs": [],
   "source": []
  }
 ],
 "metadata": {
  "kernelspec": {
   "display_name": "Python 3 (ipykernel)",
   "language": "python",
   "name": "python3"
  },
  "language_info": {
   "codemirror_mode": {
    "name": "ipython",
    "version": 3
   },
   "file_extension": ".py",
   "mimetype": "text/x-python",
   "name": "python",
   "nbconvert_exporter": "python",
   "pygments_lexer": "ipython3",
   "version": "3.8.13"
  }
 },
 "nbformat": 4,
 "nbformat_minor": 4
}
