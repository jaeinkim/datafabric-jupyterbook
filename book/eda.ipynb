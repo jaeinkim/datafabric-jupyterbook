{
 "cells": [
  {
   "cell_type": "markdown",
   "metadata": {},
   "source": [
    "# EDA Samples\n",
    "## OS/Browser 별 이마트앱 접속 통계 (from Bigquery)"
   ]
  },
  {
   "cell_type": "markdown",
   "metadata": {
    "execution": {
     "iopub.execute_input": "2020-09-22T09:08:33.907065Z",
     "iopub.status.busy": "2020-09-22T09:08:33.906546Z",
     "iopub.status.idle": "2020-09-22T09:08:33.913061Z",
     "shell.execute_reply": "2020-09-22T09:08:33.911874Z",
     "shell.execute_reply.started": "2020-09-22T09:08:33.907013Z"
    }
   },
   "source": [
    "### 1. EDA를 위한 python 및 pydatafabric 모듈 준비\n",
    "Bigquery를 위한 구체적인 emart 패키지 활용 방법은 링크 참고 (https://emartaiflow.github.io/jupyterbook/bigquery.html)"
   ]
  },
  {
   "cell_type": "code",
   "execution_count": 1,
   "metadata": {
    "execution": {
     "iopub.execute_input": "2022-04-25T12:42:28.225958Z",
     "iopub.status.busy": "2022-04-25T12:42:28.225626Z",
     "iopub.status.idle": "2022-04-25T12:42:31.337533Z",
     "shell.execute_reply": "2022-04-25T12:42:31.337081Z",
     "shell.execute_reply.started": "2022-04-25T12:42:28.225884Z"
    },
    "tags": [],
    "pycharm": {
     "name": "#%%\n"
    }
   },
   "outputs": [],
   "source": [
    "import warnings\n",
    "\n",
    "import matplotlib.pyplot as plt\n",
    "import pandas as pd\n",
    "import seaborn as sns\n",
    "from pydatafabric.gcp import bq_to_df, bq_to_pandas\n",
    "\n",
    "warnings.filterwarnings(\"ignore\")\n",
    "\n",
    "dt='20220401' # 기준 DATE"
   ]
  },
  {
   "cell_type": "markdown",
   "metadata": {},
   "source": [
    "### 2. GCP 데이터 검색\n",
    "- GCP에서 제공하는 Data Catalog를 통해 데이터를 검색할 수 있습니다. (https://console.cloud.google.com/datacatalog?referrer=search&project=emart-datafabric&qSystems=BIGQUERY)"
   ]
  },
  {
   "cell_type": "markdown",
   "metadata": {},
   "source": [
    "### 3. 원천 데이터 확인\n",
    "pydatafabric 패키지의 bq_to_df 모듈을 활용해 bigquery table을 load하고, 데이터를 확인할 수 있습니다.\n",
    "> 내부 엔진으로 Apache Spark을 활용합니다.\n",
    "\n",
    "목표 EDA를 위해 다음 두 테이블을 load하고 조회해 보겠습니다.\n",
    "- smart-ruler-304409.o2o_log.ST_LOG\n",
    "\n",
    "우선 ST_LOG 테이블을 조회 해보겠습니다."
   ]
  },
  {
   "cell_type": "code",
   "execution_count": 2,
   "metadata": {
    "execution": {
     "iopub.execute_input": "2022-04-25T12:42:31.856193Z",
     "iopub.status.busy": "2022-04-25T12:42:31.855883Z",
     "iopub.status.idle": "2022-04-25T12:42:31.859196Z",
     "shell.execute_reply": "2022-04-25T12:42:31.858716Z",
     "shell.execute_reply.started": "2022-04-25T12:42:31.856170Z"
    },
    "tags": []
   },
   "outputs": [],
   "source": [
    "query = f\"\"\"\n",
    "    SELECT\n",
    "        *\n",
    "    FROM\n",
    "        smart-ruler-304409.o2o_log.ST_LOG\n",
    "    WHERE\n",
    "        insert_dt=PARSE_DATE('%Y%m%d', '{dt}')\n",
    "    LIMIT\n",
    "        10000\n",
    "\"\"\""
   ]
  },
  {
   "cell_type": "code",
   "execution_count": 3,
   "metadata": {
    "execution": {
     "iopub.execute_input": "2022-04-25T12:42:34.210032Z",
     "iopub.status.busy": "2022-04-25T12:42:34.209737Z",
     "iopub.status.idle": "2022-04-25T12:42:50.383649Z",
     "shell.execute_reply": "2022-04-25T12:42:50.383118Z",
     "shell.execute_reply.started": "2022-04-25T12:42:34.210009Z"
    },
    "tags": []
   },
   "outputs": [
    {
     "name": "stderr",
     "output_type": "stream",
     "text": [
      "Setting default log level to \"WARN\".\n",
      "To adjust logging level use sc.setLogLevel(newLevel). For SparkR, use setLogLevel(newLevel).\n",
      "22/04/25 21:42:39 INFO org.apache.spark.SparkEnv: Registering MapOutputTracker\n",
      "22/04/25 21:42:39 INFO org.apache.spark.SparkEnv: Registering BlockManagerMaster\n",
      "22/04/25 21:42:39 INFO org.apache.spark.SparkEnv: Registering BlockManagerMasterHeartbeat\n",
      "22/04/25 21:42:40 INFO org.apache.spark.SparkEnv: Registering OutputCommitCoordinator\n"
     ]
    }
   ],
   "source": [
    "df = bq_to_df(query)"
   ]
  },
  {
   "cell_type": "markdown",
   "metadata": {},
   "source": [
    "- ST_LOG 테이블의 스키마를 확인합니다."
   ]
  },
  {
   "cell_type": "code",
   "execution_count": 4,
   "metadata": {
    "execution": {
     "iopub.execute_input": "2022-04-25T12:42:50.385032Z",
     "iopub.status.busy": "2022-04-25T12:42:50.384772Z",
     "iopub.status.idle": "2022-04-25T12:42:50.401305Z",
     "shell.execute_reply": "2022-04-25T12:42:50.400846Z",
     "shell.execute_reply.started": "2022-04-25T12:42:50.385006Z"
    },
    "tags": []
   },
   "outputs": [
    {
     "name": "stdout",
     "output_type": "stream",
     "text": [
      "root\n",
      " |-- seq: decimal(38,9) (nullable = true)\n",
      " |-- site_code: string (nullable = true)\n",
      " |-- url: string (nullable = true)\n",
      " |-- guid1: string (nullable = true)\n",
      " |-- guid2: string (nullable = true)\n",
      " |-- insert_dt: string (nullable = true)\n",
      " |-- device_type: string (nullable = true)\n",
      " |-- os_type: string (nullable = true)\n",
      " |-- os_name: string (nullable = true)\n",
      " |-- browser_name: string (nullable = true)\n",
      " |-- cust_id: string (nullable = true)\n",
      " |-- rgst_dt: string (nullable = true)\n",
      " |-- rgst_tm: string (nullable = true)\n",
      " |-- ip_address: string (nullable = true)\n",
      " |-- refer_url: string (nullable = true)\n",
      " |-- tracking_code: string (nullable = true)\n",
      "\n"
     ]
    }
   ],
   "source": [
    "df.printSchema()"
   ]
  },
  {
   "cell_type": "code",
   "execution_count": 5,
   "metadata": {
    "execution": {
     "iopub.execute_input": "2022-04-25T12:42:50.402154Z",
     "iopub.status.busy": "2022-04-25T12:42:50.401958Z",
     "iopub.status.idle": "2022-04-25T12:42:55.967664Z",
     "shell.execute_reply": "2022-04-25T12:42:55.967162Z",
     "shell.execute_reply.started": "2022-04-25T12:42:50.402134Z"
    },
    "tags": []
   },
   "outputs": [
    {
     "name": "stderr",
     "output_type": "stream",
     "text": [
      "[Stage 0:>                                                          (0 + 1) / 1]\r"
     ]
    },
    {
     "name": "stdout",
     "output_type": "stream",
     "text": [
      "+-------+-------------+-------+\n",
      "|os_name|browser_name |os_type|\n",
      "+-------+-------------+-------+\n",
      "|Mac OS |unknown      |M      |\n",
      "|Mac OS |unknown      |M      |\n",
      "|Mac OS |unknown      |M      |\n",
      "|Mac OS |unknown      |M      |\n",
      "|Mac OS |unknown      |M      |\n",
      "|Mac OS |unknown      |M      |\n",
      "|Mac OS |unknown      |M      |\n",
      "|Android|Chrome Mobile|A      |\n",
      "|iOS    |Chrome Mobile|I      |\n",
      "|iOS    |Chrome Mobile|I      |\n",
      "+-------+-------------+-------+\n",
      "only showing top 10 rows\n",
      "\n"
     ]
    },
    {
     "name": "stderr",
     "output_type": "stream",
     "text": [
      "                                                                                \r"
     ]
    }
   ],
   "source": [
    "df.filter(df[\"site_code\"].isNotNull()).select(df[\"os_name\"], df[\"browser_name\"], df[\"os_type\"]).show(10, False)"
   ]
  },
  {
   "cell_type": "markdown",
   "metadata": {},
   "source": [
    "### 4. 분석 데이터 준비\n",
    "> 앞서 준비한 테이블을 조회하여 Pandas Dataframe 을 만듭니다.\n",
    "- 분석에 활용될 데이터 수집을 위해 Query를 작성합니다."
   ]
  },
  {
   "cell_type": "code",
   "execution_count": 6,
   "metadata": {
    "execution": {
     "iopub.execute_input": "2022-04-25T12:42:55.968812Z",
     "iopub.status.busy": "2022-04-25T12:42:55.968579Z",
     "iopub.status.idle": "2022-04-25T12:42:55.971631Z",
     "shell.execute_reply": "2022-04-25T12:42:55.971198Z",
     "shell.execute_reply.started": "2022-04-25T12:42:55.968792Z"
    },
    "tags": []
   },
   "outputs": [],
   "source": [
    "query = f\"\"\"\n",
    "    SELECT\n",
    "      os_name,\n",
    "      browser_name,\n",
    "      COUNT(*) AS cnt\n",
    "    FROM\n",
    "      smart-ruler-304409.o2o_log.ST_LOG\n",
    "    WHERE\n",
    "      insert_dt=PARSE_DATE('%Y%m%d', '{dt}')\n",
    "    GROUP BY 1, 2\n",
    "    ORDER BY 3 DESC\n",
    "    LIMIT 1000000\n",
    "\"\"\""
   ]
  },
  {
   "cell_type": "markdown",
   "metadata": {},
   "source": [
    "- Query를 Bigquery 에서 실행하고, 그 결과를 Pandas Dataframe으로 변환하여 저장합니다."
   ]
  },
  {
   "cell_type": "code",
   "execution_count": 7,
   "metadata": {
    "execution": {
     "iopub.execute_input": "2022-04-25T12:42:58.541355Z",
     "iopub.status.busy": "2022-04-25T12:42:58.541060Z",
     "iopub.status.idle": "2022-04-25T12:43:01.775605Z",
     "shell.execute_reply": "2022-04-25T12:43:01.775149Z",
     "shell.execute_reply.started": "2022-04-25T12:42:58.541328Z"
    },
    "tags": []
   },
   "outputs": [
    {
     "name": "stdout",
     "output_type": "stream",
     "text": [
      "destination: emart-datafabric._2dd36219768c7c869a5680edf9fd6e104ea57800.anonf3d4c064_aacf_4a1c_ad15_ef6c1393ce45\n",
      "total_rows: 6\n",
      "slot_secs: 0.755\n",
      "\n"
     ]
    },
    {
     "name": "stderr",
     "output_type": "stream",
     "text": [
      "Downloading: 100%|██████████| 6/6 [00:01<00:00,  4.32rows/s]\n"
     ]
    }
   ],
   "source": [
    "pdf = bq_to_pandas(query)"
   ]
  },
  {
   "cell_type": "markdown",
   "metadata": {},
   "source": [
    "- pandas로 변환된 데이터를 확인합니다."
   ]
  },
  {
   "cell_type": "code",
   "execution_count": 8,
   "metadata": {
    "execution": {
     "iopub.execute_input": "2022-04-25T12:43:02.429371Z",
     "iopub.status.busy": "2022-04-25T12:43:02.429084Z",
     "iopub.status.idle": "2022-04-25T12:43:02.442254Z",
     "shell.execute_reply": "2022-04-25T12:43:02.441777Z",
     "shell.execute_reply.started": "2022-04-25T12:43:02.429349Z"
    },
    "tags": []
   },
   "outputs": [
    {
     "data": {
      "text/html": [
       "<div>\n",
       "<style scoped>\n",
       "    .dataframe tbody tr th:only-of-type {\n",
       "        vertical-align: middle;\n",
       "    }\n",
       "\n",
       "    .dataframe tbody tr th {\n",
       "        vertical-align: top;\n",
       "    }\n",
       "\n",
       "    .dataframe thead th {\n",
       "        text-align: right;\n",
       "    }\n",
       "</style>\n",
       "<table border=\"1\" class=\"dataframe\">\n",
       "  <thead>\n",
       "    <tr style=\"text-align: right;\">\n",
       "      <th></th>\n",
       "      <th>os_name</th>\n",
       "      <th>browser_name</th>\n",
       "      <th>cnt</th>\n",
       "    </tr>\n",
       "  </thead>\n",
       "  <tbody>\n",
       "    <tr>\n",
       "      <th>0</th>\n",
       "      <td>Android</td>\n",
       "      <td>Android browser</td>\n",
       "      <td>193</td>\n",
       "    </tr>\n",
       "    <tr>\n",
       "      <th>1</th>\n",
       "      <td>iOS</td>\n",
       "      <td>Mobile Safari</td>\n",
       "      <td>35</td>\n",
       "    </tr>\n",
       "    <tr>\n",
       "      <th>2</th>\n",
       "      <td>Android</td>\n",
       "      <td>Chrome Mobile</td>\n",
       "      <td>8</td>\n",
       "    </tr>\n",
       "    <tr>\n",
       "      <th>3</th>\n",
       "      <td>Mac OS</td>\n",
       "      <td>unknown</td>\n",
       "      <td>7</td>\n",
       "    </tr>\n",
       "    <tr>\n",
       "      <th>4</th>\n",
       "      <td>iOS</td>\n",
       "      <td>Chrome Mobile</td>\n",
       "      <td>3</td>\n",
       "    </tr>\n",
       "  </tbody>\n",
       "</table>\n",
       "</div>"
      ],
      "text/plain": [
       "   os_name     browser_name  cnt\n",
       "0  Android  Android browser  193\n",
       "1      iOS    Mobile Safari   35\n",
       "2  Android    Chrome Mobile    8\n",
       "3   Mac OS          unknown    7\n",
       "4      iOS    Chrome Mobile    3"
      ]
     },
     "execution_count": 8,
     "metadata": {},
     "output_type": "execute_result"
    }
   ],
   "source": [
    "pdf.head()"
   ]
  },
  {
   "cell_type": "code",
   "execution_count": 9,
   "metadata": {
    "execution": {
     "iopub.execute_input": "2022-04-25T12:43:05.716005Z",
     "iopub.status.busy": "2022-04-25T12:43:05.715709Z",
     "iopub.status.idle": "2022-04-25T12:43:05.723871Z",
     "shell.execute_reply": "2022-04-25T12:43:05.723380Z",
     "shell.execute_reply.started": "2022-04-25T12:43:05.715982Z"
    },
    "tags": []
   },
   "outputs": [
    {
     "name": "stdout",
     "output_type": "stream",
     "text": [
      "          cnt\n",
      "count   6.000\n",
      "mean   41.333\n",
      "std    75.299\n",
      "min     2.000\n",
      "25%     4.000\n",
      "50%     7.500\n",
      "75%    28.250\n",
      "max   193.000\n"
     ]
    }
   ],
   "source": [
    "pd.set_option('display.float_format', lambda x: '%.3f' % x)\n",
    "print(pdf.describe())"
   ]
  },
  {
   "cell_type": "markdown",
   "metadata": {},
   "source": [
    "### 5. OS / Browser 별 접속 분포도\n",
    "- OS 및 Browser 별 접속 통계를 분포도를 통해 보여줍니다."
   ]
  },
  {
   "cell_type": "code",
   "execution_count": 10,
   "metadata": {
    "execution": {
     "iopub.execute_input": "2022-04-25T12:43:07.998033Z",
     "iopub.status.busy": "2022-04-25T12:43:07.997731Z",
     "iopub.status.idle": "2022-04-25T12:43:08.351265Z",
     "shell.execute_reply": "2022-04-25T12:43:08.350844Z",
     "shell.execute_reply.started": "2022-04-25T12:43:07.998010Z"
    },
    "tags": []
   },
   "outputs": [
    {
     "data": {
      "text/plain": [
       "<AxesSubplot:xlabel='browser_name', ylabel='cnt'>"
      ]
     },
     "execution_count": 10,
     "metadata": {},
     "output_type": "execute_result"
    },
    {
     "data": {
      "image/png": "[encoded data removed]",
      "text/plain": [
       "<Figure size 360x360 with 1 Axes>"
      ]
     },
     "metadata": {
      "needs_background": "light"
     },
     "output_type": "display_data"
    },
    {
     "data": {
      "image/png": "[encoded data removed]",
      "text/plain": [
       "<Figure size 720x360 with 1 Axes>"
      ]
     },
     "metadata": {
      "needs_background": "light"
     },
     "output_type": "display_data"
    }
   ],
   "source": [
    "sorted_nb = pdf.groupby(['os_name'])['cnt'].median().sort_values()\n",
    "fig, ax = plt.subplots(figsize=(5, 5))\n",
    "sns.boxplot(x=pdf['os_name'], y=pdf['cnt'], order=list(sorted_nb.index))\n",
    "\n",
    "sorted_nb = pdf.groupby(['browser_name'])['cnt'].median().sort_values()\n",
    "fig, ax = plt.subplots(figsize=(10, 5))\n",
    "sns.boxplot(x=pdf['browser_name'], y=pdf['cnt'], order=list(sorted_nb.index))"
   ]
  },
  {
   "cell_type": "markdown",
   "metadata": {},
   "source": [
    "- OS 와 Browser 의 접속 통계로 보여줍니다."
   ]
  },
  {
   "cell_type": "code",
   "execution_count": 19,
   "metadata": {
    "execution": {
     "iopub.execute_input": "2022-04-25T12:48:06.185036Z",
     "iopub.status.busy": "2022-04-25T12:48:06.184728Z",
     "iopub.status.idle": "2022-04-25T12:48:06.384847Z",
     "shell.execute_reply": "2022-04-25T12:48:06.384405Z",
     "shell.execute_reply.started": "2022-04-25T12:48:06.185011Z"
    },
    "tags": []
   },
   "outputs": [
    {
     "data": {
      "image/png": "[encoded data removed]",
      "text/plain": [
       "<Figure size 576x360 with 1 Axes>"
      ]
     },
     "metadata": {
      "needs_background": "light"
     },
     "output_type": "display_data"
    }
   ],
   "source": [
    "plt.figure(figsize=(8,5))\n",
    "sns.barplot(x=\"os_name\", y=\"cnt\", data=pdf.sort_values(by=\"cnt\", ascending=False))\n",
    "sns.despine(left=True, bottom=True)\n",
    "\n",
    "plt.tight_layout()\n",
    "plt.show()"
   ]
  },
  {
   "cell_type": "markdown",
   "metadata": {},
   "source": [
    "- OS와 Browser의 데이터 분포 상관관계를 통계로 보여줍니다."
   ]
  },
  {
   "cell_type": "code",
   "execution_count": 34,
   "metadata": {
    "execution": {
     "iopub.execute_input": "2022-04-25T12:59:26.477672Z",
     "iopub.status.busy": "2022-04-25T12:59:26.477377Z",
     "iopub.status.idle": "2022-04-25T12:59:26.692533Z",
     "shell.execute_reply": "2022-04-25T12:59:26.691798Z",
     "shell.execute_reply.started": "2022-04-25T12:59:26.477649Z"
    },
    "tags": []
   },
   "outputs": [
    {
     "data": {
      "image/png": "[encoded data removed]",
      "text/plain": [
       "<Figure size 1440x576 with 1 Axes>"
      ]
     },
     "metadata": {
      "needs_background": "light"
     },
     "output_type": "display_data"
    }
   ],
   "source": [
    "apps = pdf['os_name'].unique().tolist()\n",
    "\n",
    "LINE_STYLES = ['solid', 'dashed', 'dashdot', 'dotted']\n",
    "plt.figure(figsize=(20,8))\n",
    "plt.title('Histogram of Daily Application Use Count', fontsize=18)\n",
    "\n",
    "for i, app_name in enumerate(apps):\n",
    "    sns_plot = sns.distplot(pdf[pdf['os_name'] == app_name]['cnt'], label=app_name, bins=int(180/5),\n",
    "            hist=False, kde_kws={'linewidth': 2, 'shade':True, 'linestyle':LINE_STYLES[i % 4]})"
   ]
  }
 ],
 "metadata": {
  "kernelspec": {
   "display_name": "Python 3 (ipykernel)",
   "language": "python",
   "name": "python3"
  },
  "language_info": {
   "codemirror_mode": {
    "name": "ipython",
    "version": 3
   },
   "file_extension": ".py",
   "mimetype": "text/x-python",
   "name": "python",
   "nbconvert_exporter": "python",
   "pygments_lexer": "ipython3",
   "version": "3.8.13"
  }
 },
 "nbformat": 4,
 "nbformat_minor": 4
}