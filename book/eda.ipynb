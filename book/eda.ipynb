{
 "cells": [
  {
   "cell_type": "markdown",
   "metadata": {},
   "source": [
    "# EDA Samples\n",
    "## OS/Browser 별 이마트앱 접속 통계 (from Bigquery)"
   ]
  },
  {
   "cell_type": "markdown",
   "metadata": {
    "execution": {
     "iopub.execute_input": "2020-09-22T09:08:33.907065Z",
     "iopub.status.busy": "2020-09-22T09:08:33.906546Z",
     "iopub.status.idle": "2020-09-22T09:08:33.913061Z",
     "shell.execute_reply": "2020-09-22T09:08:33.911874Z",
     "shell.execute_reply.started": "2020-09-22T09:08:33.907013Z"
    }
   },
   "source": [
    "### 1. EDA를 위한 python 및 pydatafabric 모듈 준비\n",
    "Bigquery를 위한 구체적인 emart 패키지 활용 방법은 링크 참고 (https://emartaiflow.github.io/jupyterbook/bigquery.html)"
   ]
  },
  {
   "cell_type": "code",
   "execution_count": null,
   "metadata": {},
   "outputs": [],
   "source": [
    "import warnings\n",
    "\n",
    "import matplotlib.pyplot as plt\n",
    "import pandas as pd\n",
    "import seaborn as sns\n",
    "from pydatafabric.gcp import bq_to_df, bq_to_pandas\n",
    "\n",
    "warnings.filterwarnings(\"ignore\")\n",
    "\n",
    "dt='20220401' # 기준 DATE"
   ]
  },
  {
   "cell_type": "markdown",
   "metadata": {},
   "source": [
    "### 2. GCP 데이터 검색\n",
    "- GCP에서 제공하는 Data Catalog를 통해 데이터를 검색할 수 있습니다. (https://console.cloud.google.com/datacatalog?referrer=search&project=emart-datafabric&qSystems=BIGQUERY)"
   ]
  },
  {
   "cell_type": "markdown",
   "metadata": {},
   "source": [
    "### 3. 원천 데이터 확인\n",
    "pydatafabric 패키지의 bq_to_df 모듈을 활용해 bigquery table을 load하고, 데이터를 확인할 수 있습니다.\n",
    "> 내부 엔진으로 Apache Spark을 활용합니다.\n",
    "\n",
    "목표 EDA를 위해 다음 두 테이블을 load하고 조회해 보겠습니다.\n",
    "- smart-ruler-304409.o2o_log.ST_LOG\n",
    "\n",
    "우선 ST_LOG 테이블을 조회 해보겠습니다."
   ]
  },
  {
   "cell_type": "code",
   "execution_count": null,
   "metadata": {},
   "outputs": [],
   "source": [
    "query = f\"\"\"\n",
    "    SELECT\n",
    "        *\n",
    "    FROM\n",
    "        smart-ruler-304409.o2o_log.ST_LOG\n",
    "    WHERE\n",
    "        rgst_dt=PARSE_DATE('%Y%m%d', '{dt}')\n",
    "    LIMIT\n",
    "        10000\n",
    "\"\"\""
   ]
  },
  {
   "cell_type": "code",
   "execution_count": null,
   "metadata": {},
   "outputs": [],
   "source": [
    "df = bq_to_df(query)"
   ]
  },
  {
   "cell_type": "markdown",
   "metadata": {},
   "source": [
    "- ST_LOG 테이블의 스키마를 확인합니다."
   ]
  },
  {
   "cell_type": "code",
   "execution_count": null,
   "metadata": {},
   "outputs": [],
   "source": [
    "df.printSchema()"
   ]
  },
  {
   "cell_type": "markdown",
   "metadata": {},
   "source": []
  },
  {
   "cell_type": "code",
   "execution_count": null,
   "metadata": {},
   "outputs": [],
   "source": [
    "df.filter(df.app_name.isNotNull()).select(df.os_name, df.browser_name, df.cnt).show(10, False)"
   ]
  },
  {
   "cell_type": "markdown",
   "metadata": {},
   "source": [
    "### 4. 분석 데이터 준비\n",
    "> 앞서 준비한 테이블을 조회하여 Pandas Dataframe 을 만듭니다.\n",
    "- 분석에 활용될 데이터 수집을 위해 Query를 작성합니다."
   ]
  },
  {
   "cell_type": "code",
   "execution_count": null,
   "metadata": {},
   "outputs": [],
   "source": [
    "query = f\"\"\"\n",
    "    SELECT\n",
    "      os_name,\n",
    "      browser_name,\n",
    "      COUNT(*) AS cnt\n",
    "    FROM\n",
    "      smart-ruler-304409.o2o_log.ST_LOG\n",
    "    WHERE\n",
    "      rgst_dt=PARSE_DATE('%Y%m%d', '{dt}')\n",
    "    GROUP BY 1, 2\n",
    "    ORDER BY 3 DESC\n",
    "    LIMIT 1000000\n",
    "\"\"\""
   ]
  },
  {
   "cell_type": "markdown",
   "metadata": {},
   "source": [
    "- Query를 Bigquery 에서 실행하고, 그 결과를 Pandas Dataframe으로 변환하여 저장합니다."
   ]
  },
  {
   "cell_type": "code",
   "execution_count": null,
   "metadata": {},
   "outputs": [],
   "source": [
    "pdf = bq_to_pandas(query)"
   ]
  },
  {
   "cell_type": "markdown",
   "metadata": {},
   "source": [
    "- pandas로 변환된 데이터를 확인합니다."
   ]
  },
  {
   "cell_type": "code",
   "execution_count": null,
   "metadata": {},
   "outputs": [],
   "source": [
    "pdf.head()"
   ]
  },
  {
   "cell_type": "code",
   "execution_count": null,
   "metadata": {},
   "outputs": [],
   "source": [
    "pd.set_option('display.float_format', lambda x: '%.3f' % x)\n",
    "print(pdf.describe())"
   ]
  },
  {
   "cell_type": "markdown",
   "metadata": {},
   "source": [
    "### 5. OS / Browser 별 접속 분포도\n",
    "- OS 및 Browser 별 접속 통계를 분포도를 통해 보여줍니다."
   ]
  },
  {
   "cell_type": "code",
   "execution_count": null,
   "metadata": {},
   "outputs": [],
   "source": [
    "sorted_nb = pdf.groupby(['os_name'])['cnt'].median().sort_values()\n",
    "fig, ax = plt.subplots(figsize=(5, 5))\n",
    "sns.boxplot(x=pdf['os_name'], y=pdf['cnt'], order=list(sorted_nb.index))\n",
    "\n",
    "sorted_nb = pdf.groupby(['browser_name'])['cnt'].median().sort_values()\n",
    "fig, ax = plt.subplots(figsize=(10, 5))\n",
    "sns.boxplot(x=pdf['browser_name'], y=pdf['cnt'], order=list(sorted_nb.index))"
   ]
  },
  {
   "cell_type": "markdown",
   "metadata": {},
   "source": [
    "- OS 와 Browser 의 접속 통계로 보여줍니다."
   ]
  },
  {
   "cell_type": "code",
   "execution_count": null,
   "metadata": {},
   "outputs": [],
   "source": [
    "plt.figure(figsize=(8,5))\n",
    "sns.barplot(x=\"os_name\", y=\"cnt\", data=pdf.sort_values(by=\"cnt\", ascending=False))\n",
    "sns.despine(left=True, bottom=True)\n",
    "\n",
    "plt.tight_layout()\n",
    "plt.show()"
   ]
  },
  {
   "cell_type": "markdown",
   "metadata": {},
   "source": [
    "- OS와 Browser의 데이터 분포 상관관계를 통계로 보여줍니다."
   ]
  },
  {
   "cell_type": "code",
   "execution_count": null,
   "metadata": {},
   "outputs": [],
   "source": [
    "apps = pdf['os_name'].unique().tolist()\n",
    "\n",
    "LINE_STYLES = ['solid', 'dashed', 'dashdot', 'dotted']\n",
    "plt.figure(figsize=(20,8))\n",
    "plt.title('Histogram of Daily Application Use Count', fontsize=18)\n",
    "\n",
    "for i, app_name in enumerate(apps):\n",
    "    sns.distplot(pdf[pdf['os_name'] == app_name]['cnt'], label=app_name, bins=int(180/5),\n",
    "            hist=False, kde_kws={'linewidth': 2, 'shade':True, 'linestyle':LINE_STYLES[i % 4]})"
   ]
  }
 ],
 "metadata": {
  "kernelspec": {
   "display_name": "Python 3",
   "language": "python",
   "name": "python3"
  },
  "language_info": {
   "codemirror_mode": {
    "name": "ipython",
    "version": 3
   },
   "file_extension": ".py",
   "mimetype": "text/x-python",
   "name": "python",
   "nbconvert_exporter": "python",
   "pygments_lexer": "ipython3",
   "version": "3.6.10"
  }
 },
 "nbformat": 4,
 "nbformat_minor": 4
}